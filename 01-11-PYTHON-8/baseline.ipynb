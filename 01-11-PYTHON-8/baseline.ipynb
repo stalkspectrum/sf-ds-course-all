{
  "cells": [
    {
      "cell_type": "markdown",
      "metadata": {
        "id": "dWcE-y-N-2fE"
      },
      "source": [
        "# Угадай число\n",
        "Нужно написать программу, которая угадывает число за минимальное число попыток.\n",
        "\n",
        "## Условия соревнования\n",
        "- Компьютер загадывает целое число от 1 до 100, и нам его нужно угадать. Под «угадать», подразумевается «написать программу, которая угадывает число».    \n",
        "- Алгоритм учитывает информацию о том, больше ли случайное число или меньше нужного нам.\n",
        "- Необходимо добиться того, чтобы программа угадывала число меньше, чем за 20 попыток. \n"
      ]
    },
    {
      "cell_type": "code",
      "execution_count": null,
      "metadata": {
        "id": "0-mHOJle7qnY",
        "outputId": "3865469e-37da-4da0-b73f-bd61d86912bd",
        "colab": {
          "base_uri": "https://localhost:8080/",
          "height": 426
        }
      },
      "outputs": [
        {
          "output_type": "stream",
          "name": "stderr",
          "text": [
            "/usr/local/lib/python3.7/dist-packages/numpy/core/fromnumeric.py:3441: RuntimeWarning: Mean of empty slice.\n",
            "  out=out, **kwargs)\n",
            "/usr/local/lib/python3.7/dist-packages/numpy/core/_methods.py:189: RuntimeWarning: invalid value encountered in double_scalars\n",
            "  ret = ret.dtype.type(ret / rcount)\n"
          ]
        },
        {
          "output_type": "error",
          "ename": "ValueError",
          "evalue": "ignored",
          "traceback": [
            "\u001b[0;31m---------------------------------------------------------------------------\u001b[0m",
            "\u001b[0;31mValueError\u001b[0m                                Traceback (most recent call last)",
            "\u001b[0;32m<ipython-input-1-293d1f066317>\u001b[0m in \u001b[0;36m<module>\u001b[0;34m()\u001b[0m\n\u001b[1;32m     32\u001b[0m     \u001b[0;32mreturn\u001b[0m \u001b[0mcount\u001b[0m\u001b[0;34m\u001b[0m\u001b[0;34m\u001b[0m\u001b[0m\n\u001b[1;32m     33\u001b[0m \u001b[0;34m\u001b[0m\u001b[0m\n\u001b[0;32m---> 34\u001b[0;31m \u001b[0mprint\u001b[0m\u001b[0;34m(\u001b[0m\u001b[0mrandom_predict\u001b[0m\u001b[0;34m(\u001b[0m\u001b[0;34m)\u001b[0m\u001b[0;34m)\u001b[0m\u001b[0;34m\u001b[0m\u001b[0;34m\u001b[0m\u001b[0m\n\u001b[0m\u001b[1;32m     35\u001b[0m \u001b[0;34m\u001b[0m\u001b[0m\n\u001b[1;32m     36\u001b[0m \u001b[0;34m\u001b[0m\u001b[0m\n",
            "\u001b[0;32m<ipython-input-1-293d1f066317>\u001b[0m in \u001b[0;36mrandom_predict\u001b[0;34m(number)\u001b[0m\n\u001b[1;32m     20\u001b[0m     \u001b[0;32mwhile\u001b[0m \u001b[0;32mTrue\u001b[0m\u001b[0;34m:\u001b[0m\u001b[0;34m\u001b[0m\u001b[0;34m\u001b[0m\u001b[0m\n\u001b[1;32m     21\u001b[0m         \u001b[0mcount\u001b[0m \u001b[0;34m+=\u001b[0m \u001b[0;36m1\u001b[0m\u001b[0;34m\u001b[0m\u001b[0;34m\u001b[0m\u001b[0m\n\u001b[0;32m---> 22\u001b[0;31m         \u001b[0mpredict_number\u001b[0m \u001b[0;34m=\u001b[0m \u001b[0mint\u001b[0m\u001b[0;34m(\u001b[0m\u001b[0mnp\u001b[0m\u001b[0;34m.\u001b[0m\u001b[0mmean\u001b[0m\u001b[0;34m(\u001b[0m\u001b[0mlst_num\u001b[0m\u001b[0;34m)\u001b[0m\u001b[0;34m)\u001b[0m\u001b[0;34m\u001b[0m\u001b[0;34m\u001b[0m\u001b[0m\n\u001b[0m\u001b[1;32m     23\u001b[0m         \u001b[0mhalf\u001b[0m \u001b[0;34m=\u001b[0m \u001b[0mround\u001b[0m\u001b[0;34m(\u001b[0m\u001b[0;34m(\u001b[0m\u001b[0mlen\u001b[0m\u001b[0;34m(\u001b[0m\u001b[0mlst_num\u001b[0m\u001b[0;34m)\u001b[0m\u001b[0;34m)\u001b[0m\u001b[0;34m/\u001b[0m\u001b[0;36m2\u001b[0m\u001b[0;34m)\u001b[0m\u001b[0;34m\u001b[0m\u001b[0;34m\u001b[0m\u001b[0m\n\u001b[1;32m     24\u001b[0m         \u001b[0;32mif\u001b[0m \u001b[0mnumber\u001b[0m \u001b[0;34m==\u001b[0m \u001b[0mpredict_number\u001b[0m\u001b[0;34m:\u001b[0m\u001b[0;34m\u001b[0m\u001b[0;34m\u001b[0m\u001b[0m\n",
            "\u001b[0;31mValueError\u001b[0m: cannot convert float NaN to integer"
          ]
        }
      ],
      "source": [
        "\"\"\"Игра угадай число\n",
        "Компьютер сам загадывает и сам угадывает число\n",
        "\"\"\"\n",
        "\n",
        "import numpy as np\n",
        "\n",
        "def random_predict(number:int=np.random.randint(1, 101)) -> int:\n",
        "    \"\"\"Рандомно угадываем число\n",
        "\n",
        "    Args:\n",
        "        number (int, optional): Загаданное число. По умолчанию рандомно загадывается компьютером в диапазоне 1-100.\n",
        "\n",
        "    Returns:\n",
        "        int: Число попыток\n",
        "    \"\"\"\n",
        "\n",
        "    count = 0\n",
        "    lst_num = list(range(101))\n",
        "\n",
        "    while True:\n",
        "        count += 1\n",
        "        predict_number = int(np.mean(lst_num))\n",
        "        half = round((len(lst_num))/2)\n",
        "        if number == predict_number:\n",
        "            break # выход из цикла, если угадали\n",
        "        elif predict_number > number:\n",
        "            lst_num = lst_num[half:]  \n",
        "        else:\n",
        "            lst_num = lst_num[:half]\n",
        "            \n",
        "        \n",
        "    return count\n",
        "\n",
        "print(random_predict())\n",
        "\n",
        "\n"
      ]
    },
    {
      "cell_type": "code",
      "source": [
        ""
      ],
      "metadata": {
        "id": "dMPE9ccZRjiS"
      },
      "execution_count": null,
      "outputs": []
    },
    {
      "cell_type": "markdown",
      "source": [
        ""
      ],
      "metadata": {
        "id": "mYoMF7rVReDF"
      }
    },
    {
      "cell_type": "code",
      "execution_count": null,
      "metadata": {
        "colab": {
          "base_uri": "https://localhost:8080/"
        },
        "id": "XLD7mgET7JNS",
        "outputId": "16e154bf-7e7c-4192-c77a-7435cd90d6f0"
      },
      "outputs": [
        {
          "output_type": "stream",
          "name": "stdout",
          "text": [
            "3.7.13 (default, Apr 24 2022, 01:04:09) \n",
            "[GCC 7.5.0]\n"
          ]
        }
      ],
      "source": [
        "2**64\n",
        "import sys\n",
        "print(sys.version)"
      ]
    },
    {
      "cell_type": "code",
      "execution_count": null,
      "metadata": {
        "id": "SU2ArqRsSBU4"
      },
      "outputs": [],
      "source": [
        ""
      ]
    },
    {
      "cell_type": "code",
      "execution_count": null,
      "metadata": {
        "id": "YCJ-fhsMeyfO"
      },
      "outputs": [],
      "source": [
        ""
      ]
    },
    {
      "cell_type": "markdown",
      "metadata": {
        "id": "WmWzTg_Zcp1j"
      },
      "source": [
        "# Новый раздел"
      ]
    },
    {
      "cell_type": "markdown",
      "metadata": {
        "id": "Wdlj-Rzzcqay"
      },
      "source": [
        "# Новый раздел"
      ]
    },
    {
      "cell_type": "code",
      "execution_count": null,
      "metadata": {
        "colab": {
          "base_uri": "https://localhost:8080/"
        },
        "id": "dBoAWvV07eX3",
        "outputId": "8af13ef4-e3cf-4fcf-946e-d598bab6e7f0"
      },
      "outputs": [
        {
          "output_type": "execute_result",
          "data": {
            "text/plain": [
              "36893488147419103232"
            ]
          },
          "metadata": {},
          "execution_count": 2
        }
      ],
      "source": [
        "\n",
        "18446744073709551616*2"
      ]
    },
    {
      "cell_type": "code",
      "execution_count": null,
      "metadata": {
        "id": "PFjkShFR8Cbk"
      },
      "outputs": [],
      "source": [
        "import numpy as np\n",
        "b = np.uint64(124)\n",
        "print(b)\n",
        "# 124\n",
        "print(type(b))\n",
        "# <class 'numpy.uint8'>\n",
        "np.iinfo(b)\n",
        "# iinfo(min=0, max=255, dtype=uint8)"
      ]
    },
    {
      "cell_type": "code",
      "execution_count": null,
      "metadata": {
        "colab": {
          "base_uri": "https://localhost:8080/",
          "height": 130
        },
        "id": "cd42gU7ttBth",
        "outputId": "ad4c17ce-4b6f-40ef-9ff3-844340b1401f"
      },
      "outputs": [
        {
          "ename": "SyntaxError",
          "evalue": "ignored",
          "output_type": "error",
          "traceback": [
            "\u001b[0;36m  File \u001b[0;32m\"<ipython-input-4-6735ae4816c8>\"\u001b[0;36m, line \u001b[0;32m1\u001b[0m\n\u001b[0;31m    np.iinfo(np.8)\u001b[0m\n\u001b[0m                ^\u001b[0m\n\u001b[0;31mSyntaxError\u001b[0m\u001b[0;31m:\u001b[0m invalid syntax\n"
          ]
        }
      ],
      "source": [
        "np.iinfo(np.8)"
      ]
    },
    {
      "cell_type": "code",
      "execution_count": null,
      "metadata": {
        "id": "dAxaZyNWtCE9"
      },
      "outputs": [],
      "source": [
        ""
      ]
    },
    {
      "cell_type": "code",
      "execution_count": null,
      "metadata": {
        "id": "8fYFyLKIP59e"
      },
      "outputs": [],
      "source": [
        "\n",
        "\n",
        "\n",
        "import numpy as np\n",
        "number = np.random.randint (1, 101)\n",
        "count = 0\n",
        "while True:\n",
        "  count+=1\n",
        "  predict_number = int (input (\"Загадай число от 1 до 100: \"))\n",
        "\n",
        "  if predict_number > number:\n",
        "      print (\"Число должно быть меньше\")\n",
        "\n",
        "  elif predict_number < number:\n",
        "      print (\"Число должно быть больше\")\n",
        "\n",
        "  else:\n",
        "      print (f\"Число угадано! Это число = {number}, за {count} попыток\")\n",
        "      break\n",
        "\n",
        "\n"
      ]
    },
    {
      "cell_type": "markdown",
      "metadata": {
        "id": "4sShzLei_ClF"
      },
      "source": [
        "Импортируем библиотеку, которая нам пригодится для генерации случайных чисел. В следующих темах вы познакомитесь с ней подробнее:"
      ]
    },
    {
      "cell_type": "code",
      "execution_count": null,
      "metadata": {
        "id": "KIy8PgXL-2fH"
      },
      "outputs": [],
      "source": [
        "import numpy as np\n",
        "from numpy import random"
      ]
    },
    {
      "cell_type": "markdown",
      "metadata": {
        "id": "Da8TSXrE_2QC"
      },
      "source": [
        "[Текст ссылки](https://)## Подход 2: Угадывание с коррекцией"
      ]
    },
    {
      "cell_type": "markdown",
      "source": [
        ""
      ],
      "metadata": {
        "id": "Hx2VxffKgGTB"
      }
    },
    {
      "cell_type": "markdown",
      "metadata": {
        "id": "UeFYnSZi_7uZ"
      },
      "source": [
        "Сначала устанавливаем любое случайное число, а потом уменьшаем или увеличиваем его в зависимости от того, больше оно или меньше нужного."
      ]
    },
    {
      "cell_type": "code",
      "execution_count": null,
      "metadata": {
        "colab": {
          "base_uri": "https://localhost:8080/",
          "height": 321
        },
        "id": "bFzp7ROY_QYY",
        "outputId": "77f5feb3-3089-4dc6-e08f-c87dfe2fbdf7"
      },
      "outputs": [
        {
          "output_type": "error",
          "ename": "NameError",
          "evalue": "ignored",
          "traceback": [
            "\u001b[0;31m---------------------------------------------------------------------------\u001b[0m",
            "\u001b[0;31mNameError\u001b[0m                                 Traceback (most recent call last)",
            "\u001b[0;32m<ipython-input-2-03d4ba82de3e>\u001b[0m in \u001b[0;36m<module>\u001b[0;34m()\u001b[0m\n\u001b[1;32m     22\u001b[0m     \u001b[0;32mreturn\u001b[0m \u001b[0mcount\u001b[0m\u001b[0;34m\u001b[0m\u001b[0;34m\u001b[0m\u001b[0m\n\u001b[1;32m     23\u001b[0m \u001b[0;34m\u001b[0m\u001b[0m\n\u001b[0;32m---> 24\u001b[0;31m \u001b[0mgame_core_v2\u001b[0m\u001b[0;34m(\u001b[0m\u001b[0;36m98\u001b[0m\u001b[0;34m)\u001b[0m\u001b[0;34m\u001b[0m\u001b[0;34m\u001b[0m\u001b[0m\n\u001b[0m",
            "\u001b[0;32m<ipython-input-2-03d4ba82de3e>\u001b[0m in \u001b[0;36mgame_core_v2\u001b[0;34m(number)\u001b[0m\n\u001b[1;32m     11\u001b[0m     \"\"\"\n\u001b[1;32m     12\u001b[0m     \u001b[0mcount\u001b[0m \u001b[0;34m=\u001b[0m \u001b[0;36m0\u001b[0m\u001b[0;34m\u001b[0m\u001b[0;34m\u001b[0m\u001b[0m\n\u001b[0;32m---> 13\u001b[0;31m     \u001b[0mpredict\u001b[0m \u001b[0;34m=\u001b[0m \u001b[0mnp\u001b[0m\u001b[0;34m.\u001b[0m\u001b[0mrandom\u001b[0m\u001b[0;34m.\u001b[0m\u001b[0mrandint\u001b[0m\u001b[0;34m(\u001b[0m\u001b[0;36m1\u001b[0m\u001b[0;34m,\u001b[0m \u001b[0;36m101\u001b[0m\u001b[0;34m)\u001b[0m\u001b[0;34m\u001b[0m\u001b[0;34m\u001b[0m\u001b[0m\n\u001b[0m\u001b[1;32m     14\u001b[0m \u001b[0;34m\u001b[0m\u001b[0m\n\u001b[1;32m     15\u001b[0m     \u001b[0;32mwhile\u001b[0m \u001b[0mnumber\u001b[0m \u001b[0;34m!=\u001b[0m \u001b[0mpredict\u001b[0m\u001b[0;34m:\u001b[0m\u001b[0;34m\u001b[0m\u001b[0;34m\u001b[0m\u001b[0m\n",
            "\u001b[0;31mNameError\u001b[0m: name 'np' is not defined"
          ]
        }
      ],
      "source": [
        "def game_core_v2(number: int = 1) -> int:\n",
        "    \"\"\"Сначала устанавливаем любое random число, а потом уменьшаем\n",
        "    или увеличиваем его в зависимости от того, больше оно или меньше нужного.\n",
        "       Функция принимает загаданное число и возвращает число попыток arrow_up в readme\n",
        "       \n",
        "    Args:\n",
        "        number (int, optional): Загаданное число. Defaults to 1.\n",
        "\n",
        "    Returns:\n",
        "        int: Число попыток\n",
        "    \"\"\"\n",
        "    count = 0\n",
        "    predict = np.random.randint(1, 101)\n",
        "    \n",
        "    while number != predict:\n",
        "        count += 1\n",
        "        if number > predict:\n",
        "            predict += 1\n",
        "        elif number < predict:\n",
        "            predict -= 1\n",
        "\n",
        "    return count\n",
        "\n",
        "game_core_v2(98)"
      ]
    },
    {
      "cell_type": "markdown",
      "metadata": {
        "id": "vic6IrNA1cbZ"
      },
      "source": [
        ""
      ]
    },
    {
      "cell_type": "markdown",
      "metadata": {
        "id": "Hp67kq7xBQdv"
      },
      "source": [
        "'''Игра компьютер угадает число меньше чем за 20 попыток'''\n",
        "\n",
        "import numpy as np\n",
        "\n",
        "min = 1\n",
        "max = 101\n",
        "\n",
        "number = 1\n",
        "\n",
        "count = 0\n",
        "\n",
        "while True:\n",
        "    count+=1\n",
        "    mid = round((min+max) / 2)\n",
        "    \n",
        "    if mid > number:\n",
        "        max = mid\n",
        "    \n",
        "    elif mid < number:\n",
        "        min = mid\n",
        "\n",
        "    else:\n",
        "        print(f\"Компьютер угадал число за {count} попыток. Это число {number}\")\n",
        "        break #конец игры выход из цикла\n",
        "    "
      ]
    },
    {
      "cell_type": "code",
      "execution_count": null,
      "metadata": {
        "colab": {
          "base_uri": "https://localhost:8080/"
        },
        "id": "pZPOs1ljRyuz",
        "outputId": "1676a368-f3ed-41e4-9233-15d3c8ed3fc6"
      },
      "outputs": [
        {
          "data": {
            "text/plain": [
              "8"
            ]
          },
          "execution_count": 29,
          "metadata": {},
          "output_type": "execute_result"
        }
      ],
      "source": [
        ""
      ]
    },
    {
      "cell_type": "code",
      "execution_count": null,
      "metadata": {
        "colab": {
          "base_uri": "https://localhost:8080/",
          "height": 328
        },
        "id": "G1klO7Pqsj16",
        "outputId": "e626aa09-decd-49b0-822c-484d7ca86ea2"
      },
      "outputs": [
        {
          "ename": "MessageError",
          "evalue": "ignored",
          "output_type": "error",
          "traceback": [
            "\u001b[0;31m---------------------------------------------------------------------------\u001b[0m",
            "\u001b[0;31mMessageError\u001b[0m                              Traceback (most recent call last)",
            "\u001b[0;32m<ipython-input-9-d5df0069828e>\u001b[0m in \u001b[0;36m<module>\u001b[0;34m()\u001b[0m\n\u001b[1;32m      1\u001b[0m \u001b[0;32mfrom\u001b[0m \u001b[0mgoogle\u001b[0m\u001b[0;34m.\u001b[0m\u001b[0mcolab\u001b[0m \u001b[0;32mimport\u001b[0m \u001b[0mdrive\u001b[0m\u001b[0;34m\u001b[0m\u001b[0;34m\u001b[0m\u001b[0m\n\u001b[0;32m----> 2\u001b[0;31m \u001b[0mdrive\u001b[0m\u001b[0;34m.\u001b[0m\u001b[0mmount\u001b[0m\u001b[0;34m(\u001b[0m\u001b[0;34m'/content/drive'\u001b[0m\u001b[0;34m)\u001b[0m\u001b[0;34m\u001b[0m\u001b[0;34m\u001b[0m\u001b[0m\n\u001b[0m",
            "\u001b[0;32m/usr/local/lib/python3.7/dist-packages/google/colab/drive.py\u001b[0m in \u001b[0;36mmount\u001b[0;34m(mountpoint, force_remount, timeout_ms)\u001b[0m\n\u001b[1;32m    107\u001b[0m       \u001b[0mforce_remount\u001b[0m\u001b[0;34m=\u001b[0m\u001b[0mforce_remount\u001b[0m\u001b[0;34m,\u001b[0m\u001b[0;34m\u001b[0m\u001b[0;34m\u001b[0m\u001b[0m\n\u001b[1;32m    108\u001b[0m       \u001b[0mtimeout_ms\u001b[0m\u001b[0;34m=\u001b[0m\u001b[0mtimeout_ms\u001b[0m\u001b[0;34m,\u001b[0m\u001b[0;34m\u001b[0m\u001b[0;34m\u001b[0m\u001b[0m\n\u001b[0;32m--> 109\u001b[0;31m       ephemeral=True)\n\u001b[0m\u001b[1;32m    110\u001b[0m \u001b[0;34m\u001b[0m\u001b[0m\n\u001b[1;32m    111\u001b[0m \u001b[0;34m\u001b[0m\u001b[0m\n",
            "\u001b[0;32m/usr/local/lib/python3.7/dist-packages/google/colab/drive.py\u001b[0m in \u001b[0;36m_mount\u001b[0;34m(mountpoint, force_remount, timeout_ms, ephemeral)\u001b[0m\n\u001b[1;32m    122\u001b[0m   \u001b[0;32mif\u001b[0m \u001b[0mephemeral\u001b[0m\u001b[0;34m:\u001b[0m\u001b[0;34m\u001b[0m\u001b[0;34m\u001b[0m\u001b[0m\n\u001b[1;32m    123\u001b[0m     _message.blocking_request(\n\u001b[0;32m--> 124\u001b[0;31m         'request_auth', request={'authType': 'dfs_ephemeral'}, timeout_sec=None)\n\u001b[0m\u001b[1;32m    125\u001b[0m \u001b[0;34m\u001b[0m\u001b[0m\n\u001b[1;32m    126\u001b[0m   \u001b[0mmountpoint\u001b[0m \u001b[0;34m=\u001b[0m \u001b[0m_os\u001b[0m\u001b[0;34m.\u001b[0m\u001b[0mpath\u001b[0m\u001b[0;34m.\u001b[0m\u001b[0mexpanduser\u001b[0m\u001b[0;34m(\u001b[0m\u001b[0mmountpoint\u001b[0m\u001b[0;34m)\u001b[0m\u001b[0;34m\u001b[0m\u001b[0;34m\u001b[0m\u001b[0m\n",
            "\u001b[0;32m/usr/local/lib/python3.7/dist-packages/google/colab/_message.py\u001b[0m in \u001b[0;36mblocking_request\u001b[0;34m(request_type, request, timeout_sec, parent)\u001b[0m\n\u001b[1;32m    173\u001b[0m   request_id = send_request(\n\u001b[1;32m    174\u001b[0m       request_type, request, parent=parent, expect_reply=True)\n\u001b[0;32m--> 175\u001b[0;31m   \u001b[0;32mreturn\u001b[0m \u001b[0mread_reply_from_input\u001b[0m\u001b[0;34m(\u001b[0m\u001b[0mrequest_id\u001b[0m\u001b[0;34m,\u001b[0m \u001b[0mtimeout_sec\u001b[0m\u001b[0;34m)\u001b[0m\u001b[0;34m\u001b[0m\u001b[0;34m\u001b[0m\u001b[0m\n\u001b[0m",
            "\u001b[0;32m/usr/local/lib/python3.7/dist-packages/google/colab/_message.py\u001b[0m in \u001b[0;36mread_reply_from_input\u001b[0;34m(message_id, timeout_sec)\u001b[0m\n\u001b[1;32m    104\u001b[0m         reply.get('colab_msg_id') == message_id):\n\u001b[1;32m    105\u001b[0m       \u001b[0;32mif\u001b[0m \u001b[0;34m'error'\u001b[0m \u001b[0;32min\u001b[0m \u001b[0mreply\u001b[0m\u001b[0;34m:\u001b[0m\u001b[0;34m\u001b[0m\u001b[0;34m\u001b[0m\u001b[0m\n\u001b[0;32m--> 106\u001b[0;31m         \u001b[0;32mraise\u001b[0m \u001b[0mMessageError\u001b[0m\u001b[0;34m(\u001b[0m\u001b[0mreply\u001b[0m\u001b[0;34m[\u001b[0m\u001b[0;34m'error'\u001b[0m\u001b[0;34m]\u001b[0m\u001b[0;34m)\u001b[0m\u001b[0;34m\u001b[0m\u001b[0;34m\u001b[0m\u001b[0m\n\u001b[0m\u001b[1;32m    107\u001b[0m       \u001b[0;32mreturn\u001b[0m \u001b[0mreply\u001b[0m\u001b[0;34m.\u001b[0m\u001b[0mget\u001b[0m\u001b[0;34m(\u001b[0m\u001b[0;34m'data'\u001b[0m\u001b[0;34m,\u001b[0m \u001b[0;32mNone\u001b[0m\u001b[0;34m)\u001b[0m\u001b[0;34m\u001b[0m\u001b[0;34m\u001b[0m\u001b[0m\n\u001b[1;32m    108\u001b[0m \u001b[0;34m\u001b[0m\u001b[0m\n",
            "\u001b[0;31mMessageError\u001b[0m: Error: credential propagation was unsuccessful"
          ]
        }
      ],
      "source": [
        "from google.colab import drive\n",
        "drive.mount('/content/drive')"
      ]
    },
    {
      "cell_type": "code",
      "execution_count": null,
      "metadata": {
        "id": "qAeopOivVVpL"
      },
      "outputs": [],
      "source": [
        "import numpy as np\n",
        "from numpy import random\n",
        "def game_core_v2(number: int = 1) -> int:\n",
        "    \"\"\"Сначала устанавливаем любое random число, а потом уменьшаем\n",
        "    или увеличиваем его в зависимости от того, больше оно или меньше нужного.\n",
        "       Функция принимает загаданное число и возвращает число попыток arrow_up в readme\n",
        "       \n",
        "    Args:\n",
        "        number (int, optional): Загаданное число. Defaults to 1.\n",
        "\n",
        "    Returns:\n",
        "        int: Число попыток\n",
        "    \"\"\"\n",
        "    limit_a = 1\n",
        "    count = 0\n",
        "    limit_b = 101\n",
        "    predict = np.random.randint(limit_a, limit_b)\n",
        "    \n",
        "    while number != predict:\n",
        "        count += 1\n",
        "        if number > predict:\n",
        "            predict += 1\n",
        "            limit_b = number\n",
        "\n",
        "        elif number < predict:\n",
        "            predict -= 1\n",
        "            limit_a = number\n",
        "\n",
        "    return count\n",
        "game_core_v2(35)\n"
      ]
    },
    {
      "cell_type": "code",
      "execution_count": null,
      "metadata": {
        "colab": {
          "base_uri": "https://localhost:8080/"
        },
        "id": "sbfKzzMvWJkw",
        "outputId": "6e1d4739-b266-4821-a28b-294f109f309c"
      },
      "outputs": [
        {
          "data": {
            "text/plain": [
              "58"
            ]
          },
          "execution_count": 11,
          "metadata": {},
          "output_type": "execute_result"
        }
      ],
      "source": [
        "import numpy as np\n",
        "from numpy import random\n",
        "def game_core_v2(number: int = 1) -> int:\n",
        "    limit_a = 0\n",
        "    count = 0\n",
        "    limit_b = 101\n",
        "    predict = np.random.randint(limit_a, limit_b)\n",
        "    \n",
        "    while number != predict:\n",
        "        count += 1\n",
        "        if number > predict:\n",
        "            limit_b = number\n",
        "            predict = np.random.randint(limit_a, limit_b)\n",
        "\n",
        "        elif number < predict:\n",
        "            limit_a = number\n",
        "            predict = np.random.randint(limit_a, limit_b)\n",
        "\n",
        "\n",
        "    return count\n",
        "game_core_v2(35)\n"
      ]
    },
    {
      "cell_type": "markdown",
      "metadata": {
        "id": "t3rDQ1wTBaXC"
      },
      "source": [
        "Посмотрим, как эти программы справляются с задачей."
      ]
    },
    {
      "cell_type": "markdown",
      "metadata": {
        "id": "GCu4m8fu_-al"
      },
      "source": [
        "## Функция для оценки"
      ]
    },
    {
      "cell_type": "markdown",
      "metadata": {
        "id": "jJSXAab0xHD7"
      },
      "source": [
        ""
      ]
    },
    {
      "cell_type": "markdown",
      "metadata": {
        "id": "7ZlAJ37fAJ99"
      },
      "source": [
        "Эта функция необходима, чтобы определить, за какое число попыток программа угадывает наше число."
      ]
    },
    {
      "cell_type": "code",
      "execution_count": null,
      "metadata": {
        "colab": {
          "base_uri": "https://localhost:8080/",
          "height": 321
        },
        "id": "t4WXEDFS_ThY",
        "outputId": "38c92a1c-dbdd-4545-e754-9398c3ed1daa"
      },
      "outputs": [
        {
          "output_type": "error",
          "ename": "NameError",
          "evalue": "ignored",
          "traceback": [
            "\u001b[0;31m---------------------------------------------------------------------------\u001b[0m",
            "\u001b[0;31mNameError\u001b[0m                                 Traceback (most recent call last)",
            "\u001b[0;32m<ipython-input-2-57f090dfd5c8>\u001b[0m in \u001b[0;36m<module>\u001b[0;34m()\u001b[0m\n\u001b[1;32m     37\u001b[0m     \u001b[0mscore\u001b[0m \u001b[0;34m=\u001b[0m \u001b[0mint\u001b[0m\u001b[0;34m(\u001b[0m\u001b[0mnp\u001b[0m\u001b[0;34m.\u001b[0m\u001b[0mmean\u001b[0m\u001b[0;34m(\u001b[0m\u001b[0mcount_ls\u001b[0m\u001b[0;34m)\u001b[0m\u001b[0;34m)\u001b[0m\u001b[0;34m\u001b[0m\u001b[0;34m\u001b[0m\u001b[0m\n\u001b[1;32m     38\u001b[0m     \u001b[0mprint\u001b[0m\u001b[0;34m(\u001b[0m\u001b[0;34mf\"Ваш алгоритм угадывает число в среднем за: {score} попытки\"\u001b[0m\u001b[0;34m)\u001b[0m\u001b[0;34m\u001b[0m\u001b[0;34m\u001b[0m\u001b[0m\n\u001b[0;32m---> 39\u001b[0;31m \u001b[0mscore_game\u001b[0m\u001b[0;34m(\u001b[0m\u001b[0mgame_core_v2\u001b[0m\u001b[0;34m)\u001b[0m\u001b[0;34m\u001b[0m\u001b[0;34m\u001b[0m\u001b[0m\n\u001b[0m",
            "\u001b[0;32m<ipython-input-2-57f090dfd5c8>\u001b[0m in \u001b[0;36mscore_game\u001b[0;34m(game_core_v2)\u001b[0m\n\u001b[1;32m     29\u001b[0m     \"\"\"\n\u001b[1;32m     30\u001b[0m     \u001b[0mcount_ls\u001b[0m \u001b[0;34m=\u001b[0m \u001b[0;34m[\u001b[0m\u001b[0;34m]\u001b[0m\u001b[0;34m\u001b[0m\u001b[0;34m\u001b[0m\u001b[0m\n\u001b[0;32m---> 31\u001b[0;31m     \u001b[0mnp\u001b[0m\u001b[0;34m.\u001b[0m\u001b[0mrandom\u001b[0m\u001b[0;34m.\u001b[0m\u001b[0mseed\u001b[0m\u001b[0;34m(\u001b[0m\u001b[0;36m1\u001b[0m\u001b[0;34m)\u001b[0m  \u001b[0;31m# фиксируем сид для воспроизводимости\u001b[0m\u001b[0;34m\u001b[0m\u001b[0;34m\u001b[0m\u001b[0m\n\u001b[0m\u001b[1;32m     32\u001b[0m     \u001b[0mrandom_array\u001b[0m \u001b[0;34m=\u001b[0m \u001b[0mnp\u001b[0m\u001b[0;34m.\u001b[0m\u001b[0mrandom\u001b[0m\u001b[0;34m.\u001b[0m\u001b[0mrandint\u001b[0m\u001b[0;34m(\u001b[0m\u001b[0;36m1\u001b[0m\u001b[0;34m,\u001b[0m \u001b[0;36m101\u001b[0m\u001b[0;34m,\u001b[0m \u001b[0msize\u001b[0m\u001b[0;34m=\u001b[0m\u001b[0;34m(\u001b[0m\u001b[0;36m10000\u001b[0m\u001b[0;34m)\u001b[0m\u001b[0;34m)\u001b[0m  \u001b[0;31m# загадали списоконлайн переводчик чисел\u001b[0m\u001b[0;34m\u001b[0m\u001b[0;34m\u001b[0m\u001b[0m\n\u001b[1;32m     33\u001b[0m \u001b[0;34m\u001b[0m\u001b[0m\n",
            "\u001b[0;31mNameError\u001b[0m: name 'np' is not defined"
          ]
        }
      ],
      "source": [
        "def game_core_v2(number: int = 1) -> int:\n",
        "    limit_a = 0\n",
        "    count = 0\n",
        "    limit_b = 101\n",
        "    predict = np.random.randint(limit_a, limit_b)\n",
        "    \n",
        "    while number != predict:\n",
        "        count += 1\n",
        "        if number > predict:\n",
        "            limit_b = number\n",
        "            predict = np.random.randint(limit_a, limit_b)\n",
        "\n",
        "        elif number < predict:\n",
        "            limit_a = number\n",
        "            predict = np.random.randint(limit_a, limit_b)\n",
        "            break\n",
        "\n",
        "\n",
        "    return count\n",
        "    \n",
        "def score_game(game_core_v2) -> int:\n",
        "    \"\"\"За какое количество попыток в среднем за 10000 подходов угадывает наш алгоритм\n",
        "\n",
        "    Args:\n",
        "        game_core_v2 ([type]): функция угадывания\n",
        "\n",
        "    Returns:\n",
        "        int: среднее количество попыток\n",
        "    \"\"\"\n",
        "    count_ls = []\n",
        "    np.random.seed(1)  # фиксируем сид для воспроизводимости\n",
        "    random_array = np.random.randint(1, 101, size=(10000))  # загадали списоконлайн переводчик чисел\n",
        "\n",
        "    for number in random_array:\n",
        "        count_ls.append(game_core_v2(number))\n",
        "\n",
        "    score = int(np.mean(count_ls))\n",
        "    print(f\"Ваш алгоритм угадывает число в среднем за: {score} попытки\")\n",
        "score_game(game_core_v2)"
      ]
    },
    {
      "cell_type": "markdown",
      "metadata": {
        "id": "PCC3-Hwz-2fL"
      },
      "source": [
        "### Оценка работы алгоритмов\n",
        "Определяем, какой подход лучше. "
      ]
    },
    {
      "cell_type": "code",
      "execution_count": null,
      "metadata": {
        "colab": {
          "base_uri": "https://localhost:8080/",
          "height": 252
        },
        "id": "khrxOcEB-2fM",
        "outputId": "d5548ec0-395e-46c3-b204-044b4e846d01"
      },
      "outputs": [
        {
          "name": "stdout",
          "output_type": "stream",
          "text": [
            "Run benchmarking for random_predict: "
          ]
        },
        {
          "ename": "NameError",
          "evalue": "ignored",
          "output_type": "error",
          "traceback": [
            "\u001b[0;31m---------------------------------------------------------------------------\u001b[0m",
            "\u001b[0;31mNameError\u001b[0m                                 Traceback (most recent call last)",
            "\u001b[0;32m<ipython-input-1-4171e1cd3702>\u001b[0m in \u001b[0;36m<module>\u001b[0;34m()\u001b[0m\n\u001b[1;32m      1\u001b[0m \u001b[0;31m#Run benchmarking to score effectiveness of all algorithms\u001b[0m\u001b[0;34m\u001b[0m\u001b[0;34m\u001b[0m\u001b[0;34m\u001b[0m\u001b[0m\n\u001b[1;32m      2\u001b[0m \u001b[0mprint\u001b[0m\u001b[0;34m(\u001b[0m\u001b[0;34m'Run benchmarking for random_predict: '\u001b[0m\u001b[0;34m,\u001b[0m \u001b[0mend\u001b[0m\u001b[0;34m=\u001b[0m\u001b[0;34m''\u001b[0m\u001b[0;34m)\u001b[0m\u001b[0;34m\u001b[0m\u001b[0;34m\u001b[0m\u001b[0m\n\u001b[0;32m----> 3\u001b[0;31m \u001b[0mscore_game\u001b[0m\u001b[0;34m(\u001b[0m\u001b[0mrandom_predict\u001b[0m\u001b[0;34m)\u001b[0m\u001b[0;34m\u001b[0m\u001b[0;34m\u001b[0m\u001b[0m\n\u001b[0m\u001b[1;32m      4\u001b[0m \u001b[0;34m\u001b[0m\u001b[0m\n\u001b[1;32m      5\u001b[0m \u001b[0mprint\u001b[0m\u001b[0;34m(\u001b[0m\u001b[0;34m'Run benchmarking for game_core_v2: '\u001b[0m\u001b[0;34m,\u001b[0m \u001b[0mend\u001b[0m\u001b[0;34m=\u001b[0m\u001b[0;34m''\u001b[0m\u001b[0;34m)\u001b[0m\u001b[0;34m\u001b[0m\u001b[0;34m\u001b[0m\u001b[0m\n",
            "\u001b[0;31mNameError\u001b[0m: name 'score_game' is not defined"
          ]
        }
      ],
      "source": [
        "#Run benchmarking to score effectiveness of all algorithms\n",
        "print('Run benchmarking for random_predict: ', end='')\n",
        "score_game(random_predict)\n",
        "\n",
        "print('Run benchmarking for game_core_v2: ', end='')\n",
        "score_game(game_core_v2)"
      ]
    },
    {
      "cell_type": "code",
      "execution_count": null,
      "metadata": {
        "colab": {
          "base_uri": "https://localhost:8080/"
        },
        "id": "12-TQnb0tayz",
        "outputId": "8ac76030-295f-46d2-d79b-1722fc536d47"
      },
      "outputs": [
        {
          "output_type": "stream",
          "name": "stdout",
          "text": [
            "Компьютер угадал число за 6 попыток. Это число 61\n"
          ]
        }
      ],
      "source": [
        "'''Игра компьютер угадает число меньше чем за 20 попыток'''\n",
        "\n",
        "import numpy as np\n",
        "\n",
        "\n",
        "    \n",
        "min = 1\n",
        "max = 101\n",
        "\n",
        "number = np.random.randint(min, max)\n",
        "#number = 997\n",
        "count = 0\n",
        "\n",
        "while True:\n",
        "    count+=1\n",
        "    mid = int((min+max) / 2)\n",
        "    \n",
        "    if mid > number:\n",
        "        max = mid\n",
        "    \n",
        "    elif mid < number:\n",
        "        min = mid\n",
        "\n",
        "    else:\n",
        "        print(f\"Компьютер угадал число за {count} попыток. Это число {number}\")\n",
        "        break #конец игры выход из цикла"
      ]
    },
    {
      "cell_type": "markdown",
      "metadata": {
        "id": "T-pMlyBE6OxY"
      },
      "source": [
        "# Новый раздел"
      ]
    },
    {
      "cell_type": "markdown",
      "metadata": {
        "id": "iOQUVMo_6PjX"
      },
      "source": [
        "# Новый раздел"
      ]
    },
    {
      "cell_type": "markdown",
      "metadata": {
        "id": "ut1BGV0tuLsz"
      },
      "source": [
        ""
      ]
    },
    {
      "cell_type": "code",
      "execution_count": null,
      "metadata": {
        "id": "M4lufhELnpdi"
      },
      "outputs": [],
      "source": [
        ""
      ]
    },
    {
      "cell_type": "markdown",
      "metadata": {
        "id": "_H0wabPwBfRo"
      },
      "source": [
        "Как мы видим, две предложенные программы показывают не лучший результат.\n",
        "Теперь вы попробуете решить эту задачу и найти более обтимальный алгоритм."
      ]
    },
    {
      "cell_type": "markdown",
      "metadata": {
        "id": "ZIdPcSWzB0G1"
      },
      "source": [
        "\n",
        "\n",
        "```\n",
        "# This is formatted as code\n",
        "```\n",
        "\n",
        "## Подход 3: Ваше решение\n",
        "\n"
      ]
    },
    {
      "cell_type": "markdown",
      "metadata": {
        "id": "8yOpBnaLCvgx"
      },
      "source": [
        "# Новый раздел"
      ]
    },
    {
      "cell_type": "code",
      "execution_count": null,
      "metadata": {
        "id": "MzQ0jE_Qnqje"
      },
      "outputs": [],
      "source": [
        ""
      ]
    },
    {
      "cell_type": "markdown",
      "metadata": {
        "id": "J_VoyryxCv-Z"
      },
      "source": [
        "# Новый раздел"
      ]
    },
    {
      "cell_type": "markdown",
      "metadata": {
        "id": "lL78tT5_Aba_"
      },
      "source": [
        "# Новый раздел"
      ]
    },
    {
      "cell_type": "markdown",
      "metadata": {
        "id": "9TcnLg46Ab07"
      },
      "source": [
        "# Новый раздел"
      ]
    },
    {
      "cell_type": "markdown",
      "metadata": {
        "id": "KPT5reW1B32U"
      },
      "source": [
        "Напишите функцию, которая принимает на вход загаданное число и возвращает число попыток угадывания. "
      ]
    },
    {
      "cell_type": "markdown",
      "metadata": {
        "id": "UDeCIsG9CACE"
      },
      "source": [
        "Оценим качество вашего алгоритма:"
      ]
    },
    {
      "cell_type": "code",
      "execution_count": null,
      "metadata": {
        "colab": {
          "base_uri": "https://localhost:8080/",
          "height": 215
        },
        "id": "giSKBUmgCAeh",
        "outputId": "08f62ddc-96ff-4277-f3e9-0db44836f58f"
      },
      "outputs": [
        {
          "name": "stdout",
          "output_type": "stream",
          "text": [
            "Run benchmarking for game_core_v3: "
          ]
        },
        {
          "ename": "NameError",
          "evalue": "ignored",
          "output_type": "error",
          "traceback": [
            "\u001b[0;31m---------------------------------------------------------------------------\u001b[0m",
            "\u001b[0;31mNameError\u001b[0m                                 Traceback (most recent call last)",
            "\u001b[0;32m<ipython-input-63-8a8cb7a2991a>\u001b[0m in \u001b[0;36m<module>\u001b[0;34m()\u001b[0m\n\u001b[1;32m      1\u001b[0m \u001b[0mprint\u001b[0m\u001b[0;34m(\u001b[0m\u001b[0;34m'Run benchmarking for game_core_v3: '\u001b[0m\u001b[0;34m,\u001b[0m \u001b[0mend\u001b[0m\u001b[0;34m=\u001b[0m\u001b[0;34m''\u001b[0m\u001b[0;34m)\u001b[0m\u001b[0;34m\u001b[0m\u001b[0;34m\u001b[0m\u001b[0m\n\u001b[1;32m      2\u001b[0m \u001b[0;34m\u001b[0m\u001b[0m\n\u001b[0;32m----> 3\u001b[0;31m \u001b[0mgame_core_v3\u001b[0m\u001b[0;34m(\u001b[0m\u001b[0;34m)\u001b[0m\u001b[0;34m\u001b[0m\u001b[0;34m\u001b[0m\u001b[0m\n\u001b[0m",
            "\u001b[0;31mNameError\u001b[0m: name 'game_core_v3' is not defined"
          ]
        }
      ],
      "source": [
        "print('Run benchmarking for game_core_v3: ', end='')\n",
        "\n",
        "game_core_v3()"
      ]
    },
    {
      "cell_type": "code",
      "execution_count": null,
      "metadata": {
        "id": "Q-fdGk_RpGIV"
      },
      "outputs": [],
      "source": [
        "import game_v2  "
      ]
    },
    {
      "cell_type": "markdown",
      "metadata": {
        "id": "7gc6XmUPC04X"
      },
      "source": [
        "Напомним, что для успешного решения задания программа должна угадывать число меньше чем за 20 попыток!"
      ]
    },
    {
      "cell_type": "code",
      "execution_count": null,
      "metadata": {
        "colab": {
          "base_uri": "https://localhost:8080/",
          "height": 304
        },
        "id": "0DR5WrNuA7zu",
        "outputId": "72eec7f3-f739-4e16-b760-a560b3b6a6c8"
      },
      "outputs": [
        {
          "output_type": "error",
          "ename": "NameError",
          "evalue": "ignored",
          "traceback": [
            "\u001b[0;31m---------------------------------------------------------------------------\u001b[0m",
            "\u001b[0;31mNameError\u001b[0m                                 Traceback (most recent call last)",
            "\u001b[0;32m<ipython-input-3-d0a1b60f5504>\u001b[0m in \u001b[0;36m<module>\u001b[0;34m()\u001b[0m\n\u001b[1;32m      3\u001b[0m \u001b[0;34m\u001b[0m\u001b[0m\n\u001b[1;32m      4\u001b[0m     \u001b[0;32mreturn\u001b[0m \u001b[0mcount\u001b[0m\u001b[0;34m\u001b[0m\u001b[0;34m\u001b[0m\u001b[0m\n\u001b[0;32m----> 5\u001b[0;31m \u001b[0mgame\u001b[0m\u001b[0;34m(\u001b[0m\u001b[0;36m76\u001b[0m\u001b[0;34m)\u001b[0m\u001b[0;34m\u001b[0m\u001b[0;34m\u001b[0m\u001b[0m\n\u001b[0m",
            "\u001b[0;32m<ipython-input-3-d0a1b60f5504>\u001b[0m in \u001b[0;36mgame\u001b[0;34m(number)\u001b[0m\n\u001b[1;32m      2\u001b[0m \u001b[0;34m\u001b[0m\u001b[0m\n\u001b[1;32m      3\u001b[0m \u001b[0;34m\u001b[0m\u001b[0m\n\u001b[0;32m----> 4\u001b[0;31m     \u001b[0;32mreturn\u001b[0m \u001b[0mcount\u001b[0m\u001b[0;34m\u001b[0m\u001b[0;34m\u001b[0m\u001b[0m\n\u001b[0m\u001b[1;32m      5\u001b[0m \u001b[0mgame\u001b[0m\u001b[0;34m(\u001b[0m\u001b[0;36m76\u001b[0m\u001b[0;34m)\u001b[0m\u001b[0;34m\u001b[0m\u001b[0;34m\u001b[0m\u001b[0m\n",
            "\u001b[0;31mNameError\u001b[0m: name 'count' is not defined"
          ]
        }
      ],
      "source": [
        "def game(number: int = 1) -> int:\n",
        "    \n",
        "    \n",
        "    return count\n",
        "game(76)"
      ]
    },
    {
      "cell_type": "code",
      "execution_count": null,
      "metadata": {
        "id": "6c-vmJQrBSaJ"
      },
      "outputs": [],
      "source": [
        ""
      ]
    },
    {
      "cell_type": "code",
      "execution_count": null,
      "metadata": {
        "colab": {
          "base_uri": "https://localhost:8080/"
        },
        "id": "e2VJSJPRBT9D",
        "outputId": "c400f5c9-e97b-41f8-e2f0-91005d6873ac"
      },
      "outputs": [
        {
          "data": {
            "text/plain": [
              "71"
            ]
          },
          "execution_count": 2,
          "metadata": {},
          "output_type": "execute_result"
        }
      ],
      "source": [
        "def game_core_v2(number: int = 1) -> int:\n",
        "    \"\"\"Сначала устанавливаем любое random число, а потом уменьшаем\n",
        "    или увеличиваем его в зависимости от того, больше оно или меньше нужного.\n",
        "       Функция принимает загаданное число и возвращает число попыток arrow_up в readme\n",
        "       \n",
        "    Args:\n",
        "        number (int, optional): Загаданное число. Defaults to 1.\n",
        "\n",
        "    Returns:\n",
        "        int: Число попыток\n",
        "    \"\"\"\n",
        "    count = 0\n",
        "    predict = np.random.randint(1, 101)\n",
        "    \n",
        "    while number != predict:\n",
        "        count += 1\n",
        "        if number > predict:\n",
        "            predict += 1\n",
        "        elif number < predict:\n",
        "            predict -= 1\n",
        "\n",
        "    return count\n",
        "\n",
        "game_core_v2(99)"
      ]
    },
    {
      "cell_type": "code",
      "execution_count": null,
      "metadata": {
        "id": "zSPh_wN2-8lf"
      },
      "outputs": [],
      "source": [
        "def random_predict(number: int=1) -> int:\n",
        "    \"\"\"Угадываем число ограничивая рамки подбора\n",
        "    \n",
        "    Args:\n",
        "        number (int, optional): Загаданное число. Defaults to 1.\n",
        "\n",
        "    Returns:\n",
        "        int: Число попыток\n",
        "    \"\"\"\n",
        "    count = 0 \n",
        "    \n",
        "    min, max = 1, 1000\n",
        "    predict_number = max / 2\n",
        "    \n",
        "    while number != predict_number:\n",
        "        count+=1\n",
        "        # сужаем рамки поиска\n",
        "        if number > predict_number: \n",
        "            min = predict_number + 1.5\n",
        "        \n",
        "        elif number < predict_number: \n",
        "            max = predict_number - 1.5\n",
        "        \n",
        "        predict_number = round((max + min ) / 2) # разбиваем по полам новые рамки поиска\n",
        "        \n",
        "            \n",
        "    return(count)\n",
        "random_predict(501)"
      ]
    },
    {
      "cell_type": "code",
      "execution_count": null,
      "metadata": {
        "colab": {
          "base_uri": "https://localhost:8080/",
          "height": 200
        },
        "id": "wfkkoM6q5BM2",
        "outputId": "bd0afe10-61de-495f-928a-346dd25b1350"
      },
      "outputs": [
        {
          "ename": "NameError",
          "evalue": "ignored",
          "output_type": "error",
          "traceback": [
            "\u001b[0;31m---------------------------------------------------------------------------\u001b[0m",
            "\u001b[0;31mNameError\u001b[0m                                 Traceback (most recent call last)",
            "\u001b[0;32m<ipython-input-4-748714b21107>\u001b[0m in \u001b[0;36m<module>\u001b[0;34m()\u001b[0m\n\u001b[1;32m      1\u001b[0m \u001b[0msimplelist\u001b[0m \u001b[0;34m=\u001b[0m \u001b[0;34m[\u001b[0m\u001b[0;36m19\u001b[0m\u001b[0;34m,\u001b[0m \u001b[0;36m242\u001b[0m\u001b[0;34m,\u001b[0m \u001b[0;36m14\u001b[0m\u001b[0;34m,\u001b[0m \u001b[0;36m152\u001b[0m\u001b[0;34m,\u001b[0m \u001b[0;36m142\u001b[0m\u001b[0;34m,\u001b[0m \u001b[0;36m1000\u001b[0m\u001b[0;34m]\u001b[0m\u001b[0;34m\u001b[0m\u001b[0;34m\u001b[0m\u001b[0m\n\u001b[0;32m----> 2\u001b[0;31m \u001b[0mavr\u001b[0m \u001b[0;34m=\u001b[0m \u001b[0mmean\u001b[0m\u001b[0;34m(\u001b[0m\u001b[0msimplelist\u001b[0m\u001b[0;34m)\u001b[0m\u001b[0;34m\u001b[0m\u001b[0;34m\u001b[0m\u001b[0m\n\u001b[0m\u001b[1;32m      3\u001b[0m \u001b[0mprint\u001b[0m\u001b[0;34m(\u001b[0m\u001b[0mavr\u001b[0m\u001b[0;34m)\u001b[0m\u001b[0;34m\u001b[0m\u001b[0;34m\u001b[0m\u001b[0m\n",
            "\u001b[0;31mNameError\u001b[0m: name 'mean' is not defined"
          ]
        }
      ],
      "source": [
        "simplelist = [19, 242, 14, 152, 142, 1000]\n",
        "avr = mean(simplelist)\n",
        "print(avr)"
      ]
    },
    {
      "cell_type": "code",
      "execution_count": null,
      "metadata": {
        "id": "xdRBUpnriII6"
      },
      "outputs": [],
      "source": [
        "def optimal_predict(number: int = 1) -> int:\n",
        "    '''Игра компьютер угадает число меньше чем за 20 попыток'''\n",
        "\n",
        "    import numpy as np\n",
        "\n",
        "    min = 1\n",
        "    max = 1000\n",
        "\n",
        "    number = np.random.randint(min, max)\n",
        "\n",
        "    count = 0\n",
        "\n",
        "    while True:\n",
        "        count+=1\n",
        "        mid = (min+max) // 2\n",
        "    \n",
        "        if mid > number:\n",
        "          max = mid\n",
        "    \n",
        "        elif mid < number:\n",
        "          min = mid\n",
        "\n",
        "        else:\n",
        "            print(f\"Компьютер угадал число за {count} попыток. Это число {number}\")\n",
        "            break #конец игры выход из цикла\n",
        "    return count"
      ]
    },
    {
      "cell_type": "markdown",
      "metadata": {
        "id": "gd7WWSIv4kUZ"
      },
      "source": [
        ""
      ]
    },
    {
      "cell_type": "markdown",
      "metadata": {
        "id": "Y2oJPst5QyEo"
      },
      "source": [
        "# Новый раздел"
      ]
    },
    {
      "cell_type": "code",
      "execution_count": null,
      "metadata": {
        "colab": {
          "base_uri": "https://localhost:8080/"
        },
        "id": "JVF5fAKmWj5W",
        "outputId": "2cb82e69-dcc4-4f23-f4b7-80579efb3608"
      },
      "outputs": [
        {
          "output_type": "stream",
          "name": "stdout",
          "text": [
            "Количество попыток: 4\n"
          ]
        }
      ],
      "source": [
        "import numpy as np\n",
        "number = np.random.randint(1, 101) # загадываем рандомное число, используя генератор рандомных чисел\n",
        "def random_predict(number) -> int:\n",
        "    \"\"\"Компьютер угадывает рандомное число\n",
        "\n",
        "    Args:\n",
        "        number (int, optional): Загаданное число.\n",
        "        \n",
        "    Returns:\n",
        "        int: Число попыток\n",
        "    \"\"\"\n",
        "    \n",
        "    count = 0\n",
        "    mn = 1\n",
        "    mx = 100\n",
        "    \n",
        "\n",
        "    while True:\n",
        "        count += 1\n",
        "        md = round((mn + mx)/2)\n",
        "        \n",
        "        if md > number:\n",
        "            mx = md\n",
        "        elif md < number:\n",
        "            mn = md\n",
        "        else:\n",
        "            # print(f'Компьютер угадал загаданное число за {count} попыток. Это число {number}')\n",
        "            break # конец игры и выход из цикла\n",
        "        \n",
        "    return(count)\n",
        "\n",
        "print(f'Количество попыток: {random_predict(number)}')\n"
      ]
    },
    {
      "cell_type": "code",
      "execution_count": null,
      "metadata": {
        "colab": {
          "base_uri": "https://localhost:8080/"
        },
        "id": "AQnrS1QjQdsu",
        "outputId": "0d8b9502-0779-4f1c-bfbe-c5177b8fe523"
      },
      "outputs": [
        {
          "name": "stdout",
          "output_type": "stream",
          "text": [
            "Компьютер угадал число за 10 попыток. Это число 83\n"
          ]
        },
        {
          "data": {
            "text/plain": [
              "10"
            ]
          },
          "execution_count": 78,
          "metadata": {},
          "output_type": "execute_result"
        }
      ],
      "source": [
        "optimal_predict()"
      ]
    },
    {
      "cell_type": "code",
      "execution_count": null,
      "metadata": {
        "colab": {
          "base_uri": "https://localhost:8080/"
        },
        "id": "Bqa7P3ZAXpoK",
        "outputId": "1594ae48-d8b2-4207-f4ba-b52e2a5a2080"
      },
      "outputs": [
        {
          "output_type": "stream",
          "name": "stdout",
          "text": [
            "Ваш алгоритм угадывает число в среднем за: 6 попытки\n"
          ]
        }
      ],
      "source": [
        "import numpy as np\n",
        "def random_predict(number) -> int:\n",
        "    \"\"\"Компьютер угадывает рандомное число\n",
        "    Args:\n",
        "        number (int, optional): Загаданное число.\n",
        "    Returns:\n",
        "        int: Число попыток\n",
        "    \"\"\"\n",
        "    predict_number = np.random.randint(1, 101) # загадываем рандомное число, используя генератор рандомных чисел\n",
        "    count = 0 # Переменная счетчик\n",
        "    mn = 1 # Минимальное значение рассматриваемого интервала\n",
        "    mx = 100 # Максимальное значение рассматриваемого интервала\n",
        "    while True:\n",
        "        count += 1\n",
        "        if predict_number > number:\n",
        "            mx = predict_number - 1\n",
        "            predict_number = (mx + mn) // 2\n",
        "        elif predict_number < number:\n",
        "            mn = predict_number + 1\n",
        "            predict_number = (mx + mn) // 2\n",
        "        else:\n",
        "            # print(f'Компьютер угадал загаданное число за {count} попыток. Это число {number}')\n",
        "            break # конец игры и выход из цикла\n",
        "    return(count)\n",
        "# print(f'Количество попыток: {random_predict(number)}')\n",
        "def score_game(random_predict) -> int:\n",
        "    \"\"\" За какое количество попыток в среднем за 1000 подходов угадывает наш алгоритм\n",
        "    Args:\n",
        "        random_predict ([type]): функция угадывания\n",
        "    Returns:\n",
        "        int: среднее количество попыток\n",
        "    \"\"\"\n",
        "    count_ls = []\n",
        "    np.random.seed(1)  # фиксируем сид для воспроизводимости\n",
        "    random_array = np.random.randint(1, 101, size=(1000))  # загадали список чисел\n",
        "    for number in random_array:\n",
        "        count_ls.append(random_predict(number))\n",
        "    score = int(np.mean(count_ls))\n",
        "    print(f\"Ваш алгоритм угадывает число в среднем за: {score} попытки\")\n",
        "\n",
        "score_game(random_predict)"
      ]
    },
    {
      "cell_type": "code",
      "execution_count": null,
      "metadata": {
        "id": "mmxpw9UpQe6j",
        "colab": {
          "base_uri": "https://localhost:8080/"
        },
        "outputId": "29a827fe-13bc-4108-b28a-837a8f7ca04d"
      },
      "outputs": [
        {
          "output_type": "stream",
          "name": "stdout",
          "text": [
            "Компьютер угадал число за 9 попыток. Это число 700\n",
            "Компьютер угадал число за 8 попыток. Это число 323\n",
            "Компьютер угадал число за 5 попыток. Это число 843\n",
            "Компьютер угадал число за 10 попыток. Это число 604\n",
            "Компьютер угадал число за 10 попыток. Это число 262\n",
            "Компьютер угадал число за 10 попыток. Это число 27\n",
            "Компьютер угадал число за 8 попыток. Это число 964\n",
            "Компьютер угадал число за 5 попыток. Это число 32\n",
            "Компьютер угадал число за 10 попыток. Это число 524\n",
            "Компьютер угадал число за 9 попыток. Это число 388\n",
            "Компьютер угадал число за 10 попыток. Это число 695\n",
            "Компьютер угадал число за 9 попыток. Это число 130\n",
            "Компьютер угадал число за 9 попыток. Это число 14\n",
            "Компьютер угадал число за 10 попыток. Это число 60\n",
            "Компьютер угадал число за 10 попыток. Это число 893\n",
            "Компьютер угадал число за 10 попыток. Это число 441\n",
            "Компьютер угадал число за 8 попыток. Это число 722\n",
            "Компьютер угадал число за 10 попыток. Это число 137\n",
            "Компьютер угадал число за 7 попыток. Это число 39\n",
            "Компьютер угадал число за 10 попыток. Это число 389\n",
            "Компьютер угадал число за 6 попыток. Это число 327\n",
            "Компьютер угадал число за 9 попыток. Это число 845\n",
            "Компьютер угадал число за 10 попыток. Это число 842\n",
            "Компьютер угадал число за 9 попыток. Это число 6\n",
            "Компьютер угадал число за 8 попыток. Это число 464\n",
            "Компьютер угадал число за 10 попыток. Это число 85\n",
            "Компьютер угадал число за 9 попыток. Это число 188\n",
            "Компьютер угадал число за 5 попыток. Это число 32\n",
            "Компьютер угадал число за 10 попыток. Это число 475\n",
            "Компьютер угадал число за 7 попыток. Это число 8\n",
            "Компьютер угадал число за 9 попыток. Это число 236\n",
            "Компьютер угадал число за 8 попыток. Это число 323\n",
            "Компьютер угадал число за 9 попыток. Это число 161\n",
            "Компьютер угадал число за 10 попыток. Это число 943\n",
            "Компьютер угадал число за 7 попыток. Это число 460\n",
            "Компьютер угадал число за 7 попыток. Это число 851\n",
            "Компьютер угадал число за 10 попыток. Это число 301\n",
            "Компьютер угадал число за 9 попыток. Это число 833\n",
            "Компьютер угадал число за 8 попыток. Это число 550\n",
            "Компьютер угадал число за 10 попыток. Это число 176\n",
            "Компьютер угадал число за 9 попыток. Это число 458\n",
            "Компьютер угадал число за 10 попыток. Это число 475\n",
            "Компьютер угадал число за 9 попыток. Это число 341\n",
            "Компьютер угадал число за 8 попыток. Это число 784\n",
            "Компьютер угадал число за 9 попыток. Это число 450\n",
            "Компьютер угадал число за 9 попыток. Это число 53\n",
            "Компьютер угадал число за 7 попыток. Это число 710\n",
            "Компьютер угадал число за 10 попыток. Это число 963\n",
            "Компьютер угадал число за 10 попыток. Это число 346\n",
            "Компьютер угадал число за 10 попыток. Это число 29\n",
            "Компьютер угадал число за 7 попыток. Это число 788\n",
            "Компьютер угадал число за 9 попыток. Это число 786\n",
            "Компьютер угадал число за 10 попыток. Это число 774\n",
            "Компьютер угадал число за 8 попыток. Это число 238\n",
            "Компьютер угадал число за 9 попыток. Это число 208\n",
            "Компьютер угадал число за 10 попыток. Это число 395\n",
            "Компьютер угадал число за 9 попыток. Это число 255\n",
            "Компьютер угадал число за 10 попыток. Это число 414\n",
            "Компьютер угадал число за 9 попыток. Это число 146\n",
            "Компьютер угадал число за 7 попыток. Это число 210\n",
            "Компьютер угадал число за 9 попыток. Это число 431\n",
            "Компьютер угадал число за 7 попыток. Это число 8\n",
            "Компьютер угадал число за 9 попыток. Это число 18\n",
            "Компьютер угадал число за 9 попыток. Это число 755\n",
            "Компьютер угадал число за 10 попыток. Это число 87\n",
            "Компьютер угадал число за 10 попыток. Это число 318\n",
            "Компьютер угадал число за 9 попыток. Это число 321\n",
            "Компьютер угадал число за 10 попыток. Это число 520\n",
            "Компьютер угадал число за 9 попыток. Это число 798\n",
            "Компьютер угадал число за 9 попыток. Это число 696\n",
            "Компьютер угадал число за 10 попыток. Это число 797\n",
            "Компьютер угадал число за 10 попыток. Это число 885\n",
            "Компьютер угадал число за 6 попыток. Это число 484\n",
            "Компьютер угадал число за 10 попыток. Это число 44\n",
            "Компьютер угадал число за 10 попыток. Это число 483\n",
            "Компьютер угадал число за 10 попыток. Это число 56\n",
            "Компьютер угадал число за 10 попыток. Это число 233\n",
            "Компьютер угадал число за 10 попыток. Это число 262\n",
            "Компьютер угадал число за 10 попыток. Это число 307\n",
            "Компьютер угадал число за 9 попыток. Это число 861\n",
            "Компьютер угадал число за 9 попыток. Это число 192\n",
            "Компьютер угадал число за 10 попыток. Это число 693\n",
            "Компьютер угадал число за 10 попыток. Это число 106\n",
            "Компьютер угадал число за 9 попыток. Это число 931\n",
            "Компьютер угадал число за 10 попыток. Это число 227\n",
            "Компьютер угадал число за 8 попыток. Это число 980\n",
            "Компьютер угадал число за 10 попыток. Это число 846\n",
            "Компьютер угадал число за 10 попыток. Это число 166\n",
            "Компьютер угадал число за 9 попыток. Это число 474\n",
            "Компьютер угадал число за 10 попыток. Это число 951\n",
            "Компьютер угадал число за 8 попыток. Это число 261\n",
            "Компьютер угадал число за 4 попыток. Это число 812\n",
            "Компьютер угадал число за 6 попыток. Это число 140\n",
            "Компьютер угадал число за 8 попыток. Это число 542\n",
            "Компьютер угадал число за 9 попыток. Это число 845\n",
            "Компьютер угадал число за 9 попыток. Это число 474\n",
            "Компьютер угадал число за 8 попыток. Это число 417\n",
            "Компьютер угадал число за 10 попыток. Это число 691\n",
            "Компьютер угадал число за 10 попыток. Это число 233\n",
            "Компьютер угадал число за 9 попыток. Это число 692\n",
            "Компьютер угадал число за 8 попыток. Это число 683\n",
            "Компьютер угадал число за 10 попыток. Это число 408\n",
            "Компьютер угадал число за 9 попыток. Это число 884\n",
            "Компьютер угадал число за 9 попыток. Это число 126\n",
            "Компьютер угадал число за 10 попыток. Это число 602\n",
            "Компьютер угадал число за 10 попыток. Это число 44\n",
            "Компьютер угадал число за 9 попыток. Это число 255\n",
            "Компьютер угадал число за 8 попыток. Это число 371\n",
            "Компьютер угадал число за 9 попыток. Это число 884\n",
            "Компьютер угадал число за 7 попыток. Это число 617\n",
            "Компьютер угадал число за 9 попыток. Это число 857\n",
            "Компьютер угадал число за 10 попыток. Это число 96\n",
            "Компьютер угадал число за 10 попыток. Это число 285\n",
            "Компьютер угадал число за 10 попыток. Это число 65\n",
            "Компьютер угадал число за 9 попыток. Это число 115\n",
            "Компьютер угадал число за 10 попыток. Это число 215\n",
            "Компьютер угадал число за 9 попыток. Это число 767\n",
            "Компьютер угадал число за 6 попыток. Это число 827\n",
            "Компьютер угадал число за 9 попыток. Это число 857\n",
            "Компьютер угадал число за 6 попыток. Это число 640\n",
            "Компьютер угадал число за 8 попыток. Это число 308\n",
            "Компьютер угадал число за 9 попыток. Это число 919\n",
            "Компьютер угадал число за 10 попыток. Это число 11\n",
            "Компьютер угадал число за 9 попыток. Это число 876\n",
            "Компьютер угадал число за 9 попыток. Это число 544\n",
            "Компьютер угадал число за 9 попыток. Это число 501\n",
            "Компьютер угадал число за 9 попыток. Это число 10\n",
            "Компьютер угадал число за 10 попыток. Это число 104\n",
            "Компьютер угадал число за 10 попыток. Это число 135\n",
            "Компьютер угадал число за 6 попыток. Это число 671\n",
            "Компьютер угадал число за 10 попыток. Это число 836\n",
            "Компьютер угадал число за 8 попыток. Это число 659\n",
            "Компьютер угадал число за 10 попыток. Это число 653\n",
            "Компьютер угадал число за 10 попыток. Это число 330\n",
            "Компьютер угадал число за 10 попыток. Это число 75\n",
            "Компьютер угадал число за 10 попыток. Это число 348\n",
            "Компьютер угадал число за 9 попыток. Это число 962\n",
            "Компьютер угадал число за 8 попыток. Это число 214\n",
            "Компьютер угадал число за 10 попыток. Это число 566\n",
            "Компьютер угадал число за 6 попыток. Это число 171\n",
            "Компьютер угадал число за 10 попыток. Это число 647\n",
            "Компьютер угадал число за 8 попыток. Это число 394\n",
            "Компьютер угадал число за 9 попыток. Это число 165\n",
            "Компьютер угадал число за 8 попыток. Это число 472\n",
            "Компьютер угадал число за 9 попыток. Это число 188\n",
            "Компьютер угадал число за 8 попыток. Это число 777\n",
            "Компьютер угадал число за 9 попыток. Это число 438\n",
            "Компьютер угадал число за 6 попыток. Это число 984\n",
            "Компьютер угадал число за 5 попыток. Это число 531\n",
            "Компьютер угадал число за 9 попыток. Это число 107\n",
            "Компьютер угадал число за 9 попыток. Это число 22\n",
            "Компьютер угадал число за 9 попыток. Это число 68\n",
            "Компьютер угадал число за 10 попыток. Это число 510\n",
            "Компьютер угадал число за 10 попыток. Это число 15\n",
            "Компьютер угадал число за 10 попыток. Это число 21\n",
            "Компьютер угадал число за 10 попыток. Это число 381\n",
            "Компьютер угадал число за 9 попыток. Это число 982\n",
            "Компьютер угадал число за 10 попыток. Это число 266\n",
            "Компьютер угадал число за 10 попыток. Это число 555\n",
            "Компьютер угадал число за 10 попыток. Это число 963\n",
            "Компьютер угадал число за 10 попыток. Это число 789\n",
            "Компьютер угадал число за 10 попыток. Это число 364\n",
            "Компьютер угадал число за 7 попыток. Это число 913\n",
            "Компьютер угадал число за 6 попыток. Это число 827\n",
            "Компьютер угадал число за 6 попыток. Это число 78\n",
            "Компьютер угадал число за 8 попыток. Это число 43\n",
            "Компьютер угадал число за 8 попыток. Это число 292\n",
            "Компьютер угадал число за 10 попыток. Это число 844\n",
            "Компьютер угадал число за 9 попыток. Это число 157\n",
            "Компьютер угадал число за 10 попыток. Это число 747\n",
            "Компьютер угадал число за 7 попыток. Это число 86\n",
            "Компьютер угадал число за 8 попыток. Это число 35\n",
            "Компьютер угадал число за 10 попыток. Это число 941\n",
            "Компьютер угадал число за 10 попыток. Это число 235\n",
            "Компьютер угадал число за 10 попыток. Это число 221\n",
            "Компьютер угадал число за 10 попыток. Это число 723\n",
            "Компьютер угадал число за 10 попыток. Это число 393\n",
            "Компьютер угадал число за 10 попыток. Это число 799\n",
            "Компьютер угадал число за 6 попыток. Это число 577\n",
            "Компьютер угадал число за 5 попыток. Это число 718\n",
            "Компьютер угадал число за 9 попыток. Это число 275\n",
            "Компьютер угадал число за 8 попыток. Это число 167\n",
            "Компьютер угадал число за 10 попыток. Это число 245\n",
            "Компьютер угадал число за 10 попыток. Это число 908\n",
            "Компьютер угадал число за 10 попыток. Это число 953\n",
            "Компьютер угадал число за 9 попыток. Это число 181\n",
            "Компьютер угадал число за 9 попыток. Это число 724\n",
            "Компьютер угадал число за 9 попыток. Это число 845\n",
            "Компьютер угадал число за 10 попыток. Это число 965\n",
            "Компьютер угадал число за 9 попыток. Это число 494\n",
            "Компьютер угадал число за 9 попыток. Это число 26\n",
            "Компьютер угадал число за 10 попыток. Это число 745\n",
            "Компьютер угадал число за 10 попыток. Это число 356\n",
            "Компьютер угадал число за 10 попыток. Это число 582\n",
            "Компьютер угадал число за 9 попыток. Это число 544\n",
            "Компьютер угадал число за 10 попыток. Это число 60\n",
            "Компьютер угадал число за 7 попыток. Это число 319\n",
            "Компьютер угадал число за 9 попыток. Это число 30\n",
            "Компьютер угадал число за 8 попыток. Это число 323\n",
            "Компьютер угадал число за 8 попыток. Это число 636\n",
            "Компьютер угадал число за 9 попыток. Это число 33\n",
            "Компьютер угадал число за 10 попыток. Это число 840\n",
            "Компьютер угадал число за 2 попыток. Это число 250\n",
            "Компьютер угадал число за 10 попыток. Это число 957\n",
            "Компьютер угадал число за 10 попыток. Это число 350\n",
            "Компьютер угадал число за 10 попыток. Это число 201\n",
            "Компьютер угадал число за 10 попыток. Это число 924\n",
            "Компьютер угадал число за 10 попыток. Это число 866\n",
            "Компьютер угадал число за 9 попыток. Это число 990\n",
            "Компьютер угадал число за 10 попыток. Это число 69\n",
            "Компьютер угадал число за 10 попыток. Это число 551\n",
            "Компьютер угадал число за 9 попыток. Это число 317\n",
            "Компьютер угадал число за 10 попыток. Это число 98\n",
            "Компьютер угадал число за 8 попыток. Это число 503\n",
            "Компьютер угадал число за 10 попыток. Это число 778\n",
            "Компьютер угадал число за 10 попыток. Это число 836\n",
            "Компьютер угадал число за 7 попыток. Это число 335\n",
            "Компьютер угадал число за 10 попыток. Это число 832\n",
            "Компьютер угадал число за 10 попыток. Это число 789\n",
            "Компьютер угадал число за 10 попыток. Это число 420\n",
            "Компьютер угадал число за 8 попыток. Это число 440\n",
            "Компьютер угадал число за 10 попыток. Это число 756\n",
            "Компьютер угадал число за 9 попыток. Это число 157\n",
            "Компьютер угадал число за 10 попыток. Это число 686\n",
            "Компьютер угадал число за 10 попыток. Это число 93\n",
            "Компьютер угадал число за 10 попыток. Это число 441\n",
            "Компьютер угадал число за 10 попыток. Это число 891\n",
            "Компьютер угадал число за 10 попыток. Это число 820\n",
            "Компьютер угадал число за 9 попыток. Это число 517\n",
            "Компьютер угадал число за 9 попыток. Это число 720\n",
            "Компьютер угадал число за 8 попыток. Это число 972\n",
            "Компьютер угадал число за 5 попыток. Это число 32\n",
            "Компьютер угадал число за 10 попыток. Это число 741\n",
            "Компьютер угадал число за 10 попыток. Это число 77\n",
            "Компьютер угадал число за 4 попыток. Это число 437\n",
            "Компьютер угадал число за 9 попыток. Это число 251\n",
            "Компьютер угадал число за 10 попыток. Это число 807\n",
            "Компьютер угадал число за 10 попыток. Это число 596\n",
            "Компьютер угадал число за 10 попыток. Это число 721\n",
            "Компьютер угадал число за 9 попыток. Это число 880\n",
            "Компьютер угадал число за 10 попыток. Это число 485\n",
            "Компьютер угадал число за 10 попыток. Это число 75\n",
            "Компьютер угадал число за 9 попыток. Это число 583\n",
            "Компьютер угадал число за 9 попыток. Это число 923\n",
            "Компьютер угадал число за 10 попыток. Это число 741\n",
            "Компьютер угадал число за 10 попыток. Это число 186\n",
            "Компьютер угадал число за 10 попыток. Это число 799\n",
            "Компьютер угадал число за 10 попыток. Это число 100\n",
            "Компьютер угадал число за 10 попыток. Это число 449\n",
            "Компьютер угадал число за 10 попыток. Это число 807\n",
            "Компьютер угадал число за 9 попыток. Это число 915\n",
            "Компьютер угадал число за 7 попыток. Это число 992\n",
            "Компьютер угадал число за 10 попыток. Это число 42\n",
            "Компьютер угадал число за 10 попыток. Это число 499\n",
            "Компьютер угадал число за 10 попыток. Это число 864\n",
            "Компьютер угадал число за 10 попыток. Это число 826\n",
            "Компьютер угадал число за 10 попыток. Это число 689\n",
            "Компьютер угадал число за 8 попыток. Это число 683\n",
            "Компьютер угадал число за 10 попыток. Это число 370\n",
            "Компьютер угадал число за 10 попыток. Это число 243\n",
            "Компьютер угадал число за 10 попыток. Это число 949\n",
            "Компьютер угадал число за 7 попыток. Это число 663\n",
            "Компьютер угадал число за 6 попыток. Это число 577\n",
            "Компьютер угадал число за 10 попыток. Это число 967\n",
            "Компьютер угадал число за 8 попыток. Это число 190\n",
            "Компьютер угадал число за 10 попыток. Это число 189\n",
            "Компьютер угадал число за 10 попыток. Это число 366\n",
            "Компьютер угадал число за 8 попыток. Это число 97\n",
            "Компьютер угадал число за 5 попыток. Это число 156\n",
            "Компьютер угадал число за 7 попыток. Это число 257\n",
            "Компьютер угадал число за 8 попыток. Это число 667\n",
            "Компьютер угадал число за 7 попыток. Это число 819\n",
            "Компьютер угадал число за 8 попыток. Это число 277\n",
            "Компьютер угадал число за 9 попыток. Это число 763\n",
            "Компьютер угадал число за 10 попыток. Это число 27\n",
            "Компьютер угадал число за 9 попыток. Это число 962\n",
            "Компьютер угадал число за 10 попыток. Это число 358\n",
            "Компьютер угадал число за 9 попыток. Это число 974\n",
            "Компьютер угадал число за 10 попыток. Это число 489\n",
            "Компьютер угадал число за 10 попыток. Это число 787\n",
            "Компьютер угадал число за 10 попыток. Это число 957\n",
            "Компьютер угадал число за 10 попыток. Это число 254\n",
            "Компьютер угадал число за 10 попыток. Это число 467\n",
            "Компьютер угадал число за 10 попыток. Это число 743\n",
            "Компьютер угадал число за 10 попыток. Это число 316\n",
            "Компьютер угадал число за 9 попыток. Это число 630\n",
            "Компьютер угадал число за 10 попыток. Это число 370\n",
            "Компьютер угадал число за 9 попыток. Это число 575\n",
            "Компьютер угадал число за 10 попыток. Это число 499\n",
            "Компьютер угадал число за 7 попыток. Это число 679\n",
            "Компьютер угадал число за 10 попыток. Это число 664\n",
            "Компьютер угадал число за 8 попыток. Это число 581\n",
            "Компьютер угадал число за 7 попыток. Это число 710\n",
            "Компьютер угадал число за 8 попыток. Это число 190\n",
            "Компьютер угадал число за 10 попыток. Это число 344\n",
            "Компьютер угадал число за 10 попыток. Это число 451\n",
            "Компьютер угадал число за 7 попыток. Это число 788\n",
            "Компьютер угадал число за 10 попыток. Это число 760\n",
            "Компьютер угадал число за 9 попыток. Это число 677\n",
            "Компьютер угадал число за 9 попыток. Это число 786\n",
            "Компьютер угадал число за 9 попыток. Это число 150\n",
            "Компьютер угадал число за 8 попыток. Это число 206\n",
            "Компьютер угадал число за 8 попыток. Это число 363\n",
            "Компьютер угадал число за 10 попыток. Это число 889\n",
            "Компьютер угадал число за 10 попыток. Это число 756\n",
            "Компьютер угадал число за 8 попыток. Это число 667\n",
            "Компьютер угадал число за 10 попыток. Это число 754\n",
            "Компьютер угадал число за 8 попыток. Это число 417\n",
            "Компьютер угадал число за 9 попыток. Это число 521\n",
            "Компьютер угадал число за 10 попыток. Это число 905\n",
            "Компьютер угадал число за 8 попыток. Это число 917\n",
            "Компьютер угадал число за 10 попыток. Это число 69\n",
            "Компьютер угадал число за 9 попыток. Это число 595\n",
            "Компьютер угадал число за 10 попыток. Это число 311\n",
            "Компьютер угадал число за 7 попыток. Это число 726\n",
            "Компьютер угадал число за 9 попыток. Это число 384\n",
            "Компьютер угадал число за 6 попыток. Это число 734\n",
            "Компьютер угадал число за 10 попыток. Это число 504\n",
            "Компьютер угадал число за 10 попыток. Это число 715\n",
            "Компьютер угадал число за 8 попыток. Это число 90\n",
            "Компьютер угадал число за 8 попыток. Это число 792\n",
            "Компьютер угадал число за 8 попыток. Это число 863\n",
            "Компьютер угадал число за 10 попыток. Это число 987\n",
            "Компьютер угадал число за 9 попыток. Это число 782\n",
            "Компьютер угадал число за 9 попыток. Это число 396\n",
            "Компьютер угадал число за 10 попыток. Это число 939\n",
            "Компьютер угадал число за 10 попыток. Это число 395\n",
            "Компьютер угадал число за 10 попыток. Это число 217\n",
            "Компьютер угадал число за 10 попыток. Это число 25\n",
            "Компьютер угадал число за 10 попыток. Это число 816\n",
            "Компьютер угадал число за 2 попыток. Это число 250\n",
            "Компьютер угадал число за 10 попыток. Это число 453\n",
            "Компьютер угадал число за 8 попыток. Это число 940\n",
            "Компьютер угадал число за 9 попыток. Это число 732\n",
            "Компьютер угадал число за 9 попыток. Это число 634\n",
            "Компьютер угадал число за 9 попыток. Это число 142\n",
            "Компьютер угадал число за 10 попыток. Это число 7\n",
            "Компьютер угадал число за 10 попыток. Это число 3\n",
            "Компьютер угадал число за 10 попыток. Это число 324\n",
            "Компьютер угадал число за 10 попыток. Это число 350\n",
            "Компьютер угадал число за 10 попыток. Это число 235\n",
            "Компьютер угадал число за 10 попыток. Это число 389\n",
            "Компьютер угадал число за 9 попыток. Это число 157\n",
            "Компьютер угадал число за 10 попыток. Это число 36\n",
            "Компьютер угадал число за 9 попыток. Это число 998\n",
            "Компьютер угадал число за 10 попыток. Это число 979\n",
            "Компьютер угадал число за 6 попыток. Это число 359\n",
            "Компьютер угадал число за 8 попыток. Это число 206\n",
            "Компьютер угадал число за 8 попыток. Это число 175\n",
            "Компьютер угадал число за 10 попыток. Это число 79\n",
            "Компьютер угадал число за 10 попыток. Это число 618\n",
            "Компьютер угадал число за 10 попыток. Это число 391\n",
            "Компьютер угадал число за 9 попыток. Это число 220\n",
            "Компьютер угадал число за 9 попыток. Это число 849\n",
            "Компьютер угадал число за 10 попыток. Это число 149\n",
            "Компьютер угадал число за 8 попыток. Это число 152\n",
            "Компьютер угадал число за 10 попыток. Это число 832\n",
            "Компьютер угадал число за 6 попыток. Это число 484\n",
            "Компьютер угадал число за 9 попыток. Это число 712\n",
            "Компьютер угадал число за 9 попыток. Это число 263\n",
            "Компьютер угадал число за 9 попыток. Это число 790\n",
            "Компьютер угадал число за 10 попыток. Это число 961\n",
            "Компьютер угадал число за 8 попыток. Это число 51\n",
            "Компьютер угадал число за 10 попыток. Это число 91\n",
            "Компьютер угадал число за 9 попыток. Это число 10\n",
            "Компьютер угадал число за 10 попыток. Это число 618\n",
            "Компьютер угадал число за 9 попыток. Это число 861\n",
            "Компьютер угадал число за 8 попыток. Это число 964\n",
            "Компьютер угадал число за 10 попыток. Это число 598\n",
            "Компьютер угадал число за 8 попыток. Это число 496\n",
            "Компьютер угадал число за 10 попыток. Это число 34\n",
            "Компьютер угадал число за 8 попыток. Это число 456\n",
            "Компьютер угадал число за 10 попыток. Это число 122\n",
            "Компьютер угадал число за 10 попыток. Это число 393\n",
            "Компьютер угадал число за 8 попыток. Это число 488\n",
            "Компьютер угадал число за 10 попыток. Это число 820\n",
            "Компьютер угадал число за 10 попыток. Это число 34\n",
            "Компьютер угадал число за 10 попыток. Это число 639\n",
            "Компьютер угадал число за 10 попыток. Это число 868\n",
            "Компьютер угадал число за 9 попыток. Это число 446\n",
            "Компьютер угадал число за 10 попыток. Это число 520\n",
            "Компьютер угадал число за 10 попыток. Это число 828\n",
            "Компьютер угадал число за 10 попыток. Это число 426\n",
            "Компьютер угадал число за 8 попыток. Это число 28\n",
            "Компьютер угадал число за 10 попыток. Это число 820\n",
            "Компьютер угадал число за 10 попыток. Это число 297\n",
            "Компьютер угадал число за 10 попыток. Это число 891\n",
            "Компьютер угадал число за 8 попыток. Это число 456\n",
            "Компьютер угадал число за 9 попыток. Это число 869\n",
            "Компьютер угадал число за 8 попыток. Это число 558\n",
            "Компьютер угадал число за 8 попыток. Это число 863\n",
            "Компьютер угадал число за 9 попыток. Это число 650\n",
            "Компьютер угадал число за 10 попыток. Это число 752\n",
            "Компьютер угадал число за 10 попыток. Это число 985\n",
            "Компьютер угадал число за 6 попыток. Это число 47\n",
            "Компьютер угадал число за 9 попыток. Это число 634\n",
            "Компьютер угадал число за 9 попыток. Это число 571\n",
            "Компьютер угадал число за 9 попыток. Это число 22\n",
            "Компьютер угадал число за 10 попыток. Это число 951\n",
            "Компьютер угадал число за 7 попыток. Это число 257\n",
            "Компьютер угадал число за 10 попыток. Это число 660\n",
            "Компьютер угадал число за 7 попыток. Это число 148\n",
            "Компьютер угадал число за 10 попыток. Это число 854\n",
            "Компьютер угадал число за 8 попыток. Это число 28\n",
            "Компьютер угадал число за 10 попыток. Это число 98\n",
            "Компьютер угадал число за 10 попыток. Это число 745\n",
            "Компьютер угадал число за 10 попыток. Это число 239\n",
            "Компьютер угадал число за 10 попыток. Это число 747\n",
            "Компьютер угадал число за 5 попыток. Это число 406\n",
            "Компьютер угадал число за 7 попыток. Это число 351\n",
            "Компьютер угадал число за 9 попыток. Это число 240\n",
            "Компьютер угадал число за 10 попыток. Это число 403\n",
            "Компьютер угадал число за 9 попыток. Это число 708\n",
            "Компьютер угадал число за 8 попыток. Это число 292\n",
            "Компьютер угадал число за 10 попыток. Это число 96\n",
            "Компьютер угадал число за 9 попыток. Это число 30\n",
            "Компьютер угадал число за 10 попыток. Это число 360\n",
            "Компьютер угадал число за 9 попыток. Это число 279\n",
            "Компьютер угадал число за 10 попыток. Это число 441\n",
            "Компьютер угадал число за 9 попыток. Это число 248\n",
            "Компьютер угадал число за 9 попыток. Это число 779\n",
            "Компьютер угадал число за 10 попыток. Это число 811\n",
            "Компьютер угадал число за 7 попыток. Это число 585\n",
            "Компьютер угадал число за 9 попыток. Это число 544\n",
            "Компьютер угадал число за 8 попыток. Это число 909\n",
            "Компьютер угадал число за 9 попыток. Это число 595\n",
            "Компьютер угадал число за 7 попыток. Это число 648\n",
            "Компьютер угадал число за 9 попыток. Это число 728\n",
            "Компьютер угадал число за 10 попыток. Это число 137\n",
            "Компьютер угадал число за 10 попыток. Это число 318\n",
            "Компьютер угадал число за 7 попыток. Это число 24\n",
            "Компьютер угадал число за 10 попыток. Это число 495\n",
            "Компьютер угадал число за 10 попыток. Это число 291\n",
            "Компьютер угадал число за 10 попыток. Это число 991\n",
            "Компьютер угадал число за 10 попыток. Это число 252\n",
            "Компьютер угадал число за 7 попыток. Это число 132\n",
            "Компьютер угадал число за 4 попыток. Это число 312\n",
            "Компьютер угадал число за 10 попыток. Это число 497\n",
            "Компьютер угадал число за 3 попыток. Это число 875\n",
            "Компьютер угадал число за 10 попыток. Это число 965\n",
            "Компьютер угадал число за 6 попыток. Это число 16\n",
            "Компьютер угадал число за 5 попыток. Это число 281\n",
            "Компьютер угадал число за 10 попыток. Это число 991\n",
            "Компьютер угадал число за 9 попыток. Это число 575\n",
            "Компьютер угадал число за 9 попыток. Это число 107\n",
            "Компьютер угадал число за 10 попыток. Это число 122\n",
            "Компьютер угадал число за 10 попыток. Это число 539\n",
            "Компьютер угадал число за 9 попыток. Это число 611\n",
            "Компьютер угадал число за 8 попыток. Это число 238\n",
            "Компьютер угадал число за 9 попыток. Это число 560\n",
            "Компьютер угадал число за 8 попыток. Это число 472\n",
            "Компьютер угадал число за 10 попыток. Это число 489\n",
            "Компьютер угадал число за 10 попыток. Это число 164\n",
            "Компьютер угадал число за 9 попыток. Это число 501\n",
            "Компьютер угадал число за 9 попыток. Это число 657\n",
            "Компьютер угадал число за 9 попыток. Это число 216\n",
            "Компьютер угадал число за 9 попыток. Это число 240\n",
            "Компьютер угадал число за 10 попыток. Это число 475\n",
            "Компьютер угадал число за 10 попыток. Это число 975\n",
            "Компьютер угадал число за 10 попыток. Это число 344\n",
            "Компьютер угадал число за 10 попыток. Это число 186\n",
            "Компьютер угадал число за 5 попыток. Это число 281\n",
            "Компьютер угадал число за 6 попыток. Это число 952\n",
            "Компьютер угадал число за 10 попыток. Это число 818\n",
            "Компьютер угадал число за 10 попыток. Это число 309\n",
            "Компьютер угадал число за 10 попыток. Это число 793\n",
            "Компьютер угадал число за 9 попыток. Это число 400\n",
            "Компьютер угадал число за 9 попыток. Это число 196\n",
            "Компьютер угадал число за 8 попыток. Это число 74\n",
            "Компьютер угадал число за 8 попыток. Это число 175\n",
            "Компьютер угадал число за 10 попыток. Это число 405\n",
            "Компьютер угадал число за 8 попыток. Это число 323\n",
            "Компьютер угадал число за 10 попыток. Это число 991\n",
            "Компьютер угадал число за 10 попыток. Это число 13\n",
            "Компьютер угадал число за 10 попыток. Это число 410\n",
            "Компьютер угадал число за 10 попыток. Это число 641\n",
            "Компьютер угадал число за 10 попыток. Это число 98\n",
            "Компьютер угадал число за 10 попыток. Это число 227\n",
            "Компьютер угадал число за 9 попыток. Это число 974\n",
            "Компьютер угадал число за 6 попыток. Это число 140\n",
            "Компьютер угадал число за 8 попыток. Это число 347\n",
            "Компьютер угадал число за 10 попыток. Это число 793\n",
            "Компьютер угадал число за 9 попыток. Это число 244\n",
            "Компьютер угадал число за 7 попыток. Это число 55\n",
            "Компьютер угадал число за 9 попыток. Это число 876\n",
            "Компьютер угадал число за 6 попыток. Это число 765\n",
            "Компьютер угадал число за 10 попыток. Это число 874\n",
            "Компьютер угадал число за 9 попыток. Это число 688\n",
            "Компьютер угадал число за 9 попыток. Это число 462\n",
            "Компьютер угадал число за 9 попыток. Это число 888\n",
            "Компьютер угадал число за 10 попыток. Это число 297\n",
            "Компьютер угадал число за 7 попыток. Это число 444\n",
            "Компьютер угадал число за 7 попыток. Это число 992\n",
            "Компьютер угадал число за 10 попыток. Это число 743\n",
            "Компьютер угадал число за 10 попыток. Это число 848\n",
            "Компьютер угадал число за 10 попыток. Это число 602\n",
            "Компьютер угадал число за 8 попыток. Это число 800\n",
            "Компьютер угадал число за 10 попыток. Это число 495\n",
            "Компьютер угадал число за 9 попыток. Это число 825\n",
            "Компьютер угадал число за 9 попыток. Это число 755\n",
            "Компьютер угадал число за 10 попыток. Это число 34\n",
            "Компьютер угадал число за 9 попыток. Это число 423\n",
            "Компьютер угадал число за 10 попыток. Это число 989\n",
            "Компьютер угадал число за 7 попыток. Это число 492\n",
            "Компьютер угадал число за 10 попыток. Это число 405\n",
            "Компьютер угадал число за 9 попыток. Это число 911\n",
            "Компьютер угадал число за 10 попыток. Это число 522\n",
            "Компьютер угадал число за 10 попыток. Это число 491\n",
            "Компьютер угадал число за 10 попыток. Это число 324\n",
            "Компьютер угадал число за 10 попыток. Это число 594\n",
            "Компьютер угадал число за 9 попыток. Это число 80\n",
            "Компьютер угадал число за 9 попыток. Это число 900\n",
            "Компьютер угадал число за 10 попыток. Это число 176\n",
            "Компьютер угадал число за 10 попыток. Это число 455\n",
            "Компьютер угадал число за 9 попыток. Это число 427\n",
            "Компьютер угадал число за 9 попыток. Это число 646\n",
            "Компьютер угадал число за 10 попыток. Это число 405\n",
            "Компьютер угадал число за 9 попыток. Это число 954\n",
            "Компьютер угадал число за 9 попыток. Это число 188\n",
            "Компьютер угадал число за 10 попыток. Это число 951\n",
            "Компьютер угадал число за 9 попыток. Это число 974\n",
            "Компьютер угадал число за 10 попыток. Это число 793\n",
            "Компьютер угадал число за 8 попыток. Это число 315\n",
            "Компьютер угадал число за 9 попыток. Это число 751\n",
            "Компьютер угадал число за 9 попыток. Это число 80\n",
            "Компьютер угадал число за 8 попыток. Это число 933\n",
            "Компьютер угадал число за 10 попыток. Это число 977\n",
            "Компьютер угадал число за 10 попыток. Это число 699\n",
            "Компьютер угадал число за 10 попыток. Это число 820\n",
            "Компьютер угадал число за 10 попыток. Это число 576\n",
            "Компьютер угадал число за 9 попыток. Это число 970\n",
            "Компьютер угадал число за 10 попыток. Это число 596\n",
            "Компьютер угадал число за 10 попыток. Это число 729\n",
            "Компьютер угадал число за 10 попыток. Это число 723\n",
            "Компьютер угадал число за 10 попыток. Это число 633\n",
            "Компьютер угадал число за 10 попыток. Это число 824\n",
            "Компьютер угадал число за 10 попыток. Это число 719\n",
            "Компьютер угадал число за 10 попыток. Это число 967\n",
            "Компьютер угадал число за 7 попыток. Это число 117\n",
            "Компьютер угадал число за 8 попыток. Это число 28\n",
            "Компьютер угадал число за 10 попыток. Это число 280\n",
            "Компьютер угадал число за 9 попыток. Это число 950\n",
            "Компьютер угадал число за 10 попыток. Это число 582\n",
            "Компьютер угадал число за 10 попыток. Это число 453\n",
            "Компьютер угадал число за 10 попыток. Это число 280\n",
            "Компьютер угадал число за 9 попыток. Это число 431\n",
            "Компьютер угадал число за 6 попыток. Это число 296\n",
            "Компьютер угадал число за 10 попыток. Это число 67\n",
            "Компьютер угадал число за 10 попыток. Это число 334\n",
            "Компьютер угадал число за 9 попыток. Это число 619\n",
            "Компьютер угадал число за 10 попыток. Это число 155\n",
            "Компьютер угадал число за 10 попыток. Это число 793\n",
            "Компьютер угадал число за 6 попыток. Это число 640\n",
            "Компьютер угадал число за 8 попыток. Это число 402\n",
            "Компьютер угадал число за 10 попыток. Это число 600\n",
            "Компьютер угадал число за 10 попыток. Это число 770\n",
            "Компьютер угадал число за 10 попыток. Это число 174\n",
            "Компьютер угадал число за 10 попыток. Это число 955\n",
            "Компьютер угадал число за 5 попыток. Это число 406\n",
            "Компьютер угадал число за 9 попыток. Это число 240\n",
            "Компьютер угадал число за 10 попыток. Это число 530\n",
            "Компьютер угадал число за 10 попыток. Это число 697\n",
            "Компьютер угадал число за 9 попыток. Это число 290\n",
            "Компьютер угадал число за 10 попыток. Это число 428\n",
            "Компьютер угадал число за 10 попыток. Это число 844\n",
            "Компьютер угадал число за 10 попыток. Это число 483\n",
            "Компьютер угадал число за 6 попыток. Это число 515\n",
            "Компьютер угадал число за 9 попыток. Это число 353\n",
            "Компьютер угадал число за 8 попыток. Это число 347\n",
            "Компьютер угадал число за 9 попыток. Это число 84\n",
            "Компьютер угадал число за 9 попыток. Это число 923\n",
            "Компьютер угадал число за 9 попыток. Это число 411\n",
            "Компьютер угадал число за 10 попыток. Это число 372\n",
            "Компьютер угадал число за 10 попыток. Это число 949\n",
            "Компьютер угадал число за 10 попыток. Это число 56\n",
            "Компьютер угадал число за 7 попыток. Это число 8\n",
            "Компьютер угадал число за 10 попыток. Это число 959\n",
            "Компьютер угадал число за 9 попыток. Это число 740\n",
            "Компьютер угадал число за 10 попыток. Это число 160\n",
            "Компьютер угадал число за 10 попыток. Это число 848\n",
            "Компьютер угадал число за 10 попыток. Это число 989\n",
            "Компьютер угадал число за 10 попыток. Это число 461\n",
            "Компьютер угадал число за 10 попыток. Это число 943\n",
            "Компьютер угадал число за 10 попыток. Это число 856\n",
            "Компьютер угадал число за 10 попыток. Это число 199\n",
            "Компьютер угадал число за 10 попыток. Это число 838\n",
            "Компьютер угадал число за 10 попыток. Это число 824\n",
            "Компьютер угадал число за 10 попыток. Это число 93\n",
            "Компьютер угадал число за 8 попыток. Это число 355\n",
            "Компьютер угадал число за 9 попыток. Это число 728\n",
            "Компьютер угадал число за 8 попыток. Это число 214\n",
            "Компьютер угадал число за 10 попыток. Это число 75\n",
            "Компьютер угадал число за 9 попыток. Это число 400\n",
            "Компьютер угадал число за 9 попыток. Это число 630\n",
            "Компьютер угадал число за 10 попыток. Это число 143\n",
            "Компьютер угадал число за 7 попыток. Это число 569\n",
            "Компьютер угадал число за 9 попыток. Это число 216\n",
            "Компьютер угадал число за 9 попыток. Это число 2\n",
            "Компьютер угадал число за 10 попыток. Это число 981\n",
            "Компьютер угадал число за 9 попыток. Это число 716\n",
            "Компьютер угадал число за 9 попыток. Это число 333\n",
            "Компьютер угадал число за 9 попыток. Это число 240\n",
            "Компьютер угадал число за 10 попыток. Это число 987\n",
            "Компьютер угадал число за 8 попыток. Это число 659\n",
            "Компьютер угадал число за 4 попыток. Это число 63\n",
            "Компьютер угадал число за 9 попыток. Это число 942\n",
            "Компьютер угадал число за 10 попыток. Это число 834\n",
            "Компьютер угадал число за 10 попыток. Это число 309\n",
            "Компьютер угадал число за 10 попыток. Это число 285\n",
            "Компьютер угадал число за 10 попыток. Это число 600\n",
            "Компьютер угадал число за 10 попыток. Это число 295\n",
            "Компьютер угадал число за 10 попыток. Это число 149\n",
            "Компьютер угадал число за 10 попыток. Это число 610\n",
            "Компьютер угадал число за 10 попыток. Это число 180\n",
            "Компьютер угадал число за 9 попыток. Это число 111\n",
            "Компьютер угадал число за 10 попыток. Это число 572\n",
            "Компьютер угадал число за 7 попыток. Это число 351\n",
            "Компьютер угадал число за 10 попыток. Это число 449\n",
            "Компьютер угадал число за 8 попыток. Это число 527\n",
            "Компьютер угадал число за 9 попыток. Это число 482\n",
            "Компьютер угадал число за 10 попыток. Это число 309\n",
            "Компьютер угадал число за 9 попыток. Это число 45\n",
            "Компьютер угадал число за 9 попыток. Это число 529\n",
            "Компьютер угадал число за 10 попыток. Это число 705\n",
            "Компьютер угадал число за 10 попыток. Это число 366\n",
            "Компьютер угадал число за 10 попыток. Это число 110\n",
            "Компьютер угадал число за 10 попыток. Это число 252\n",
            "Компьютер угадал число за 9 попыток. Это число 927\n",
            "Компьютер угадал число за 10 попыток. Это число 979\n",
            "Компьютер угадал число за 10 попыток. Это число 997\n",
            "Компьютер угадал число за 7 попыток. Это число 523\n",
            "Компьютер угадал число за 10 попыток. Это число 46\n",
            "Компьютер угадал число за 10 попыток. Это число 217\n",
            "Компьютер угадал число за 9 попыток. Это число 591\n",
            "Компьютер угадал число за 10 попыток. Это число 104\n",
            "Компьютер угадал число за 10 попыток. Это число 868\n",
            "Компьютер угадал число за 10 попыток. Это число 316\n",
            "Компьютер угадал число за 10 попыток. Это число 866\n",
            "Компьютер угадал число за 8 попыток. Это число 683\n",
            "Компьютер угадал число за 10 попыток. Это число 705\n",
            "Компьютер угадал число за 10 попыток. Это число 262\n",
            "Компьютер угадал число за 9 попыток. Это число 603\n",
            "Компьютер угадал число за 9 попыток. Это число 845\n",
            "Компьютер угадал число за 10 попыток. Это число 568\n",
            "Компьютер угадал число за 9 попыток. Это число 498\n",
            "Компьютер угадал число за 10 попыток. Это число 299\n",
            "Компьютер угадал число за 8 попыток. Это число 277\n",
            "Компьютер угадал число за 9 попыток. Это число 751\n",
            "Компьютер угадал число за 10 попыток. Это число 89\n",
            "Компьютер угадал число за 10 попыток. Это число 965\n",
            "Компьютер угадал число за 9 попыток. Это число 275\n",
            "Компьютер угадал число за 10 попыток. Это число 93\n",
            "Компьютер угадал число за 10 попыток. Это число 434\n",
            "Компьютер угадал число за 9 попыток. Это число 212\n",
            "Компьютер угадал число за 8 попыток. Это число 144\n",
            "Компьютер угадал число за 10 попыток. Это число 530\n",
            "Компьютер угадал число за 8 попыток. Это число 190\n",
            "Компьютер угадал число за 8 попыток. Это число 136\n",
            "Компьютер угадал число за 10 попыток. Это число 893\n",
            "Компьютер угадал число за 8 попыток. Это число 488\n",
            "Компьютер угадал число за 10 попыток. Это число 961\n",
            "Компьютер угадал число за 10 попыток. Это число 56\n",
            "Компьютер угадал число за 10 попыток. Это число 131\n",
            "Компьютер угадал число за 10 попыток. Это число 475\n",
            "Компьютер угадал число за 1 попыток. Это число 500\n",
            "Компьютер угадал число за 10 попыток. Это число 133\n",
            "Компьютер угадал число за 10 попыток. Это число 17\n",
            "Компьютер угадал число за 9 попыток. Это число 462\n",
            "Компьютер угадал число за 8 попыток. Это число 581\n",
            "Компьютер угадал число за 10 попыток. Это число 287\n",
            "Компьютер угадал число за 9 попыток. Это число 53\n",
            "Компьютер угадал число за 10 попыток. Это число 981\n",
            "Компьютер угадал число за 6 попыток. Это число 421\n",
            "Компьютер угадал число за 8 попыток. Это число 355\n",
            "Компьютер угадал число за 9 попыток. Это число 188\n",
            "Компьютер угадал число за 9 попыток. Это число 755\n",
            "Компьютер угадал число за 10 попыток. Это число 741\n",
            "Компьютер угадал число за 9 попыток. Это число 544\n",
            "Компьютер угадал число за 9 попыток. Это число 365\n",
            "Компьютер угадал число за 10 попыток. Это число 932\n",
            "Компьютер угадал число за 9 попыток. Это число 161\n",
            "Компьютер угадал число за 7 попыток. Это число 819\n",
            "Компьютер угадал число за 8 попыток. Это число 308\n",
            "Компьютер угадал число за 9 попыток. Это число 6\n",
            "Компьютер угадал число за 9 попыток. Это число 290\n",
            "Компьютер угадал число за 10 попыток. Это число 129\n",
            "Компьютер угадал число за 10 попыток. Это число 266\n",
            "Компьютер угадал число за 9 попыток. Это число 544\n",
            "Компьютер угадал число за 10 попыток. Это число 932\n",
            "Компьютер угадал число за 9 попыток. Это число 857\n",
            "Компьютер угадал число за 10 попыток. Это число 957\n",
            "Компьютер угадал число за 10 попыток. Это число 551\n",
            "Компьютер угадал число за 8 попыток. Это число 652\n",
            "Компьютер угадал число за 10 попыток. Это число 301\n",
            "Компьютер угадал число за 10 попыток. Это число 172\n",
            "Компьютер угадал число за 10 попыток. Это число 776\n",
            "Компьютер угадал число за 10 попыток. Это число 959\n",
            "Компьютер угадал число за 8 попыток. Это число 113\n",
            "Компьютер угадал число за 10 попыток. Это число 953\n",
            "Компьютер угадал число за 6 попыток. Это число 609\n",
            "Компьютер угадал число за 10 попыток. Это число 350\n",
            "Компьютер угадал число за 4 попыток. Это число 437\n",
            "Компьютер угадал число за 9 попыток. Это число 361\n",
            "Компьютер угадал число за 9 попыток. Это число 665\n",
            "Компьютер угадал число за 4 попыток. Это число 812\n",
            "Компьютер угадал число за 9 попыток. Это число 692\n",
            "Компьютер угадал число за 9 попыток. Это число 267\n",
            "Компьютер угадал число за 9 попыток. Это число 95\n",
            "Компьютер угадал число за 4 попыток. Это число 562\n",
            "Компьютер угадал число за 10 попыток. Это число 787\n",
            "Компьютер угадал число за 3 попыток. Это число 125\n",
            "Компьютер угадал число за 10 попыток. Это число 139\n",
            "Компьютер угадал число за 10 попыток. Это число 62\n",
            "Компьютер угадал число за 10 попыток. Это число 936\n",
            "Компьютер угадал число за 10 попыток. Это число 391\n",
            "Компьютер угадал число за 7 попыток. Это число 648\n",
            "Компьютер угадал число за 9 попыток. Это число 720\n",
            "Компьютер угадал число за 8 попыток. Это число 909\n",
            "Компьютер угадал число за 9 попыток. Это число 884\n",
            "Компьютер угадал число за 10 попыток. Это число 641\n",
            "Компьютер угадал число за 10 попыток. Это число 772\n",
            "Компьютер угадал число за 10 попыток. Это число 52\n",
            "Компьютер угадал число за 9 попыток. Это число 400\n",
            "Компьютер угадал число за 9 попыток. Это число 708\n",
            "Компьютер угадал число за 8 попыток. Это число 82\n",
            "Компьютер угадал число за 10 попыток. Это число 316\n",
            "Компьютер угадал число за 7 попыток. Это число 835\n",
            "Компьютер угадал число за 10 попыток. Это число 912\n",
            "Компьютер угадал число за 10 попыток. Это число 830\n",
            "Компьютер угадал число за 10 попыток. Это число 961\n",
            "Компьютер угадал число за 9 попыток. Это число 532\n",
            "Компьютер угадал число за 9 попыток. Это число 173\n",
            "Компьютер угадал число за 10 попыток. Это число 856\n",
            "Компьютер угадал число за 10 попыток. Это число 62\n",
            "Компьютер угадал число за 8 попыток. Это число 534\n",
            "Компьютер угадал число за 10 попыток. Это число 889\n",
            "Компьютер угадал число за 10 попыток. Это число 385\n",
            "Компьютер угадал число за 10 попыток. Это число 320\n",
            "Компьютер угадал число за 9 попыток. Это число 607\n",
            "Компьютер угадал число за 10 попыток. Это число 981\n",
            "Компьютер угадал число за 9 попыток. Это число 642\n",
            "Компьютер угадал число за 9 попыток. Это число 341\n",
            "Компьютер угадал число за 10 попыток. Это число 747\n",
            "Компьютер угадал число за 10 попыток. Это число 189\n",
            "Компьютер угадал число за 10 попыток. Это число 205\n",
            "Компьютер угадал число за 10 попыток. Это число 23\n",
            "Компьютер угадал число за 10 попыток. Это число 143\n",
            "Компьютер угадал число за 8 попыток. Это число 409\n",
            "Компьютер угадал число за 8 попыток. Это число 175\n",
            "Компьютер угадал число за 10 попыток. Это число 749\n",
            "Компьютер угадал число за 7 попыток. Это число 492\n",
            "Компьютер угадал число за 7 попыток. Это число 617\n",
            "Компьютер угадал число за 10 попыток. Это число 289\n",
            "Компьютер угадал число за 10 попыток. Это число 209\n",
            "Компьютер угадал число за 10 попыток. Это число 199\n",
            "Компьютер угадал число за 8 попыток. Это число 823\n",
            "Компьютер угадал число за 10 попыток. Это число 153\n",
            "Компьютер угадал число за 9 попыток. Это число 462\n",
            "Компьютер угадал число за 8 попыток. Это число 730\n",
            "Компьютер угадал число за 10 попыток. Это число 164\n",
            "Компьютер угадал число за 10 попыток. Это число 58\n",
            "Компьютер угадал число за 10 попыток. Это число 160\n",
            "Компьютер угадал число за 9 попыток. Это число 251\n",
            "Компьютер угадал число за 8 попыток. Это число 808\n",
            "Компьютер угадал число за 10 попыток. Это число 783\n",
            "Компьютер угадал число за 10 попыток. Это число 370\n",
            "Компьютер угадал число за 9 попыток. Это число 990\n",
            "Компьютер угадал число за 10 попыток. Это число 945\n",
            "Компьютер угадал число за 9 попыток. Это число 623\n",
            "Компьютер угадал число за 9 попыток. Это число 782\n",
            "Компьютер угадал число за 8 попыток. Это число 20\n",
            "Компьютер угадал число за 5 попыток. Это число 656\n",
            "Компьютер угадал число за 10 попыток. Это число 866\n",
            "Компьютер угадал число за 10 попыток. Это число 682\n",
            "Компьютер угадал число за 10 попыток. Это число 676\n",
            "Компьютер угадал число за 9 попыток. Это число 26\n",
            "Компьютер угадал число за 7 попыток. Это число 382\n",
            "Компьютер угадал число за 10 попыток. Это число 180\n",
            "Компьютер угадал число за 8 попыток. Это число 35\n",
            "Компьютер угадал число за 10 попыток. Это число 151\n",
            "Компьютер угадал число за 9 попыток. Это число 802\n",
            "Компьютер угадал число за 7 попыток. Это число 632\n",
            "Компьютер угадал число за 10 попыток. Это число 356\n",
            "Компьютер угадал число за 10 попыток. Это число 318\n",
            "Компьютер угадал число за 10 попыток. Это число 975\n",
            "Компьютер угадал число за 7 попыток. Это число 648\n",
            "Компьютер угадал число за 9 попыток. Это число 161\n",
            "Компьютер угадал число за 8 попыток. Это число 644\n",
            "Компьютер угадал число за 10 попыток. Это число 324\n",
            "Компьютер угадал число за 7 попыток. Это число 992\n",
            "Компьютер угадал число за 10 попыток. Это число 377\n",
            "Компьютер угадал число за 9 попыток. Это число 954\n",
            "Компьютер угадал число за 9 попыток. Это число 353\n",
            "Компьютер угадал число за 8 попыток. Это число 175\n",
            "Компьютер угадал число за 8 попыток. Это число 730\n",
            "Компьютер угадал число за 5 попыток. Это число 406\n",
            "Компьютер угадал число за 8 попыток. Это число 605\n",
            "Компьютер угадал число за 10 попыток. Это число 256\n",
            "Компьютер угадал число за 10 попыток. Это число 612\n",
            "Компьютер угадал число за 9 попыток. Это число 869\n",
            "Компьютер угадал число за 9 попыток. Это число 853\n",
            "Компьютер угадал число за 8 попыток. Это число 59\n",
            "Компьютер угадал число за 10 попыток. Это число 65\n",
            "Компьютер угадал число за 10 попыток. Это число 553\n",
            "Компьютер угадал число за 7 попыток. Это число 335\n",
            "Компьютер угадал число за 9 попыток. Это число 591\n",
            "Компьютер угадал число за 9 попыток. Это число 873\n",
            "Компьютер угадал число за 4 попыток. Это число 63\n",
            "Компьютер угадал число за 10 попыток. Это число 447\n",
            "Компьютер угадал число за 10 попыток. Это число 816\n",
            "Компьютер угадал число за 8 попыток. Это число 284\n",
            "Компьютер угадал число за 8 попыток. Это число 456\n",
            "Компьютер угадал число за 9 попыток. Это число 505\n",
            "Компьютер угадал число за 8 попыток. Это число 683\n",
            "Компьютер угадал число за 8 попыток. Это число 527\n",
            "Компьютер угадал число за 10 попыток. Это число 862\n",
            "Компьютер угадал число за 8 попыток. Это число 948\n",
            "Компьютер угадал число за 10 попыток. Это число 403\n",
            "Компьютер угадал число за 10 попыток. Это число 463\n",
            "Компьютер угадал число за 9 попыток. Это число 267\n",
            "Компьютер угадал число за 10 попыток. Это число 164\n",
            "Компьютер угадал число за 10 попыток. Это число 434\n",
            "Компьютер угадал число за 8 попыток. Это число 222\n",
            "Компьютер угадал число за 10 попыток. Это число 848\n",
            "Компьютер угадал число за 5 попыток. Это число 218\n",
            "Компьютер угадал число за 10 попыток. Это число 389\n",
            "Компьютер угадал число за 10 попыток. Это число 518\n",
            "Компьютер угадал число за 6 попыток. Это число 234\n",
            "Компьютер угадал число за 7 попыток. Это число 101\n",
            "Компьютер угадал число за 10 попыток. Это число 489\n",
            "Компьютер угадал число за 10 попыток. Это число 215\n",
            "Компьютер угадал число за 10 попыток. Это число 158\n",
            "Компьютер угадал число за 10 попыток. Это число 508\n",
            "Компьютер угадал число за 9 попыток. Это число 438\n",
            "Компьютер угадал число за 10 попыток. Это число 977\n",
            "Компьютер угадал число за 9 попыток. Это число 841\n",
            "Компьютер угадал число за 8 попыток. Это число 542\n",
            "Компьютер угадал число за 10 попыток. Это число 551\n",
            "Компьютер угадал число за 8 попыток. Это число 871\n",
            "Компьютер угадал число за 9 попыток. Это число 591\n",
            "Компьютер угадал число за 9 попыток. Это число 505\n",
            "Компьютер угадал число за 8 попыток. Это число 823\n",
            "Компьютер угадал число за 10 попыток. Это число 299\n",
            "Компьютер угадал число за 10 попыток. Это число 229\n",
            "Компьютер угадал число за 9 попыток. Это число 833\n",
            "Компьютер угадал число за 10 попыток. Это число 69\n",
            "Компьютер угадал число за 10 попыток. Это число 557\n",
            "Компьютер угадал число за 10 попыток. Это число 102\n",
            "Компьютер угадал число за 9 попыток. Это число 853\n",
            "Компьютер угадал число за 8 попыток. Это число 74\n",
            "Компьютер угадал число за 10 попыток. Это число 947\n",
            "Компьютер угадал число за 10 попыток. Это число 81\n",
            "Компьютер угадал число за 10 попыток. Это число 947\n",
            "Компьютер угадал число за 10 попыток. Это число 36\n",
            "Компьютер угадал число за 10 попыток. Это число 231\n",
            "Компьютер угадал число за 10 попыток. Это число 457\n",
            "Компьютер угадал число за 8 попыток. Это число 144\n",
            "Компьютер угадал число за 10 попыток. Это число 40\n",
            "Компьютер угадал число за 10 попыток. Это число 643\n",
            "Компьютер угадал число за 9 попыток. Это число 626\n",
            "Компьютер угадал число за 10 попыток. Это число 420\n",
            "Компьютер угадал число за 10 попыток. Это число 866\n",
            "Компьютер угадал число за 10 попыток. Это число 848\n",
            "Компьютер угадал число за 6 попыток. Это число 16\n",
            "Компьютер угадал число за 8 попыток. Это число 144\n",
            "Компьютер угадал число за 10 попыток. Это число 479\n",
            "Компьютер угадал число за 9 попыток. Это число 579\n",
            "Компьютер угадал число за 9 попыток. Это число 931\n",
            "Компьютер угадал число за 8 попыток. Это число 980\n",
            "Компьютер угадал число за 9 попыток. Это число 634\n",
            "Компьютер угадал число за 9 попыток. Это число 990\n",
            "Компьютер угадал число за 9 попыток. Это число 275\n",
            "Компьютер угадал число за 10 попыток. Это число 231\n",
            "Компьютер угадал число за 5 попыток. Это число 843\n",
            "Компьютер угадал число за 10 попыток. Это число 381\n",
            "Компьютер угадал число за 10 попыток. Это число 147\n",
            "Компьютер угадал число за 10 попыток. Это число 666\n",
            "Компьютер угадал число за 10 попыток. Это число 914\n",
            "Компьютер угадал число за 9 попыток. Это число 306\n",
            "Компьютер угадал число за 9 попыток. Это число 294\n",
            "Компьютер угадал число за 10 попыток. Это число 533\n",
            "Компьютер угадал число за 10 попыток. Это число 297\n",
            "Компьютер угадал число за 10 попыток. Это число 309\n",
            "Компьютер угадал число за 10 попыток. Это число 239\n",
            "Компьютер угадал число за 10 попыток. Это число 408\n",
            "Компьютер угадал число за 5 попыток. Это число 531\n",
            "Компьютер угадал число за 10 попыток. Это число 848\n",
            "Компьютер угадал число за 10 попыток. Это число 180\n",
            "Компьютер угадал число за 7 попыток. Это число 929\n",
            "Компьютер угадал число за 9 попыток. Это число 294\n",
            "Компьютер угадал число за 10 попыток. Это число 31\n",
            "Компьютер угадал число за 10 попыток. Это число 297\n",
            "Компьютер угадал число за 9 попыток. Это число 435\n",
            "Компьютер угадал число за 8 попыток. Это число 714\n",
            "Компьютер угадал число за 9 попыток. Это число 325\n",
            "Компьютер угадал число за 9 попыток. Это число 767\n",
            "Компьютер угадал число за 9 попыток. Это число 337\n",
            "Компьютер угадал число за 9 попыток. Это число 400\n",
            "Компьютер угадал число за 10 попыток. Это число 832\n",
            "Компьютер угадал число за 10 попыток. Это число 961\n",
            "Компьютер угадал число за 10 попыток. Это число 116\n",
            "Компьютер угадал число за 9 попыток. Это число 220\n",
            "Компьютер угадал число за 10 попыток. Это число 789\n",
            "Компьютер угадал число за 10 попыток. Это число 362\n",
            "Компьютер угадал число за 10 попыток. Это число 439\n",
            "Компьютер угадал число за 10 попыток. Это число 920\n",
            "Компьютер угадал число за 9 попыток. Это число 263\n",
            "Компьютер угадал число за 10 попыток. Это число 537\n",
            "Компьютер угадал число за 9 попыток. Это число 513\n",
            "Компьютер угадал число за 9 попыток. Это число 505\n",
            "Компьютер угадал число за 9 попыток. Это число 177\n",
            "Компьютер угадал число за 8 попыток. Это число 246\n",
            "Компьютер угадал число за 10 попыток. Это число 977\n",
            "Компьютер угадал число за 8 попыток. Это число 925\n",
            "Компьютер угадал число за 10 попыток. Это число 473\n",
            "Компьютер угадал число за 8 попыток. Это число 386\n",
            "Компьютер угадал число за 9 попыток. Это число 458\n",
            "Компьютер угадал число за 8 попыток. Это число 534\n",
            "Компьютер угадал число за 10 попыток. Это число 1\n",
            "Компьютер угадал число за 8 попыток. Это число 589\n",
            "Компьютер угадал число за 8 попыток. Это число 417\n",
            "Компьютер угадал число за 8 попыток. Это число 425\n",
            "Компьютер угадал число за 10 попыток. Это число 850\n",
            "Компьютер угадал число за 9 попыток. Это число 84\n",
            "Компьютер угадал число за 10 попыток. Это число 287\n",
            "Компьютер угадал число за 10 попыток. Это число 344\n",
            "Компьютер угадал число за 9 попыток. Это число 438\n",
            "Компьютер угадал число за 9 попыток. Это число 802\n",
            "Компьютер угадал число за 10 попыток. Это число 723\n",
            "Компьютер угадал число за 10 попыток. Это число 535\n",
            "Компьютер угадал число за 8 попыток. Это число 644\n",
            "Компьютер угадал число за 10 попыток. Это число 547\n",
            "Компьютер угадал число за 10 попыток. Это число 50\n",
            "Компьютер угадал число за 10 попыток. Это число 89\n",
            "Компьютер угадал число за 10 попыток. Это число 711\n",
            "Компьютер угадал число за 10 попыток. Это число 678\n",
            "Компьютер угадал число за 7 попыток. Это число 507\n",
            "Компьютер угадал число за 10 попыток. Это число 506\n",
            "Компьютер угадал число за 10 попыток. Это число 930\n",
            "Компьютер угадал число за 10 попыток. Это число 653\n",
            "Компьютер угадал число за 9 попыток. Это число 806\n",
            "Компьютер угадал число за 10 попыток. Это число 848\n",
            "Компьютер угадал число за 9 попыток. Это число 962\n",
            "Компьютер угадал число за 7 попыток. Это число 507\n",
            "Компьютер угадал число за 8 попыток. Это число 519\n",
            "Компьютер угадал число за 7 попыток. Это число 976\n",
            "Компьютер угадал число за 8 попыток. Это число 605\n",
            "Компьютер угадал число за 10 попыток. Это число 260\n",
            "Компьютер угадал число за 8 попыток. Это число 253\n",
            "Компьютер угадал число за 10 попыток. Это число 289\n",
            "Компьютер угадал число за 10 попыток. Это число 854\n",
            "Компьютер угадал число за 9 попыток. Это число 685\n",
            "Компьютер угадал число за 10 попыток. Это число 158\n",
            "Компьютер угадал число за 10 попыток. Это число 303\n",
            "Компьютер угадал число за 10 попыток. Это число 504\n",
            "Компьютер угадал число за 6 попыток. Это число 452\n",
            "Компьютер угадал число за 8 попыток. Это число 323\n",
            "Компьютер угадал число за 10 попыток. Это число 29\n",
            "Компьютер угадал число за 10 попыток. Это число 381\n",
            "Компьютер угадал число за 9 попыток. Это число 442\n",
            "Компьютер угадал число за 10 попыток. Это число 85\n",
            "Компьютер угадал число за 4 попыток. Это число 812\n",
            "Компьютер угадал число за 10 попыток. Это число 735\n",
            "Компьютер угадал число за 10 попыток. Это число 606\n",
            "Компьютер угадал число за 8 попыток. Это число 277\n",
            "Компьютер угадал число за 10 попыток. Это число 949\n",
            "Компьютер угадал число за 10 попыток. Это число 160\n",
            "Компьютер угадал число за 9 попыток. Это число 282\n",
            "Компьютер угадал число за 6 попыток. Это число 234\n",
            "Компьютер угадал число за 10 попыток. Это число 320\n",
            "Компьютер угадал число за 10 попыток. Это число 949\n",
            "Компьютер угадал число за 10 попыток. Это число 60\n",
            "Компьютер угадал число за 10 попыток. Это число 239\n",
            "Компьютер угадал число за 10 попыток. Это число 249\n",
            "Компьютер угадал число за 10 попыток. Это число 530\n",
            "Компьютер угадал число за 7 попыток. Это число 382\n",
            "Компьютер угадал число за 7 попыток. Это число 663\n",
            "Компьютер угадал число за 10 попыток. Это число 951\n",
            "Компьютер угадал число за 10 попыток. Это число 270\n",
            "Компьютер угадал число за 10 попыток. Это число 543\n",
            "Компьютер угадал число за 10 попыток. Это число 408\n",
            "Компьютер угадал число за 7 попыток. Это число 819\n",
            "Компьютер угадал число за 9 попыток. Это число 357\n",
            "Компьютер угадал число за 10 попыток. Это число 662\n",
            "Компьютер угадал число за 9 попыток. Это число 72\n",
            "Компьютер угадал число за 10 попыток. Это число 516\n",
            "Компьютер угадал число за 10 попыток. Это число 664\n",
            "Компьютер угадал число за 5 попыток. Это число 781\n",
            "Компьютер угадал число за 7 попыток. Это число 882\n",
            "Компьютер угадал число за 5 попыток. Это число 718\n",
            "Компьютер угадал число за 9 попыток. Это число 759\n",
            "Компьютер угадал число за 10 попыток. Это число 520\n",
            "Компьютер угадал число за 9 попыток. Это число 490\n",
            "Компьютер угадал число за 10 попыток. Это число 309\n",
            "Компьютер угадал число за 10 попыток. Это число 543\n",
            "Компьютер угадал число за 9 попыток. Это число 923\n",
            "Компьютер угадал число за 8 попыток. Это число 777\n",
            "Компьютер угадал число за 10 попыток. Это число 104\n",
            "Компьютер угадал число за 10 попыток. Это число 893\n",
            "Компьютер угадал число за 9 попыток. Это число 353\n",
            "Ваш алгоритм угадывает число в среднем за: 9 попытки\n"
          ]
        }
      ],
      "source": [
        "def score_game(optimal_predict) -> int:\n",
        "  import numpy as np\n",
        "  \"\"\" За какое количество попыток в среднем за 1000 подходов угадывает наш алгоритм\n",
        "\n",
        "    Args:\n",
        "        optimal_predict ([type]): функция угадывания\n",
        "\n",
        "    Returns:\n",
        "        int: среднее количество попыток\n",
        "    \"\"\"\n",
        "  count_ls = []\n",
        "  np.random.seed(1)  # фиксируем сид для воспроизводимости\n",
        "  random_array = np.random.randint(1, 101, size=(1000))  # загадали списоконлайн переводчик чисел\n",
        "\n",
        "  for number in random_array:\n",
        "    count_ls.append(optimal_predict(number))\n",
        "\n",
        "  score = int(np.mean(count_ls))\n",
        "  print(f\"Ваш алгоритм угадывает число в среднем за: {score} попытки\")\n",
        "score_game(optimal_predict)"
      ]
    },
    {
      "cell_type": "code",
      "source": [
        ""
      ],
      "metadata": {
        "id": "PVpC22Y8254d"
      },
      "execution_count": null,
      "outputs": []
    },
    {
      "cell_type": "markdown",
      "metadata": {
        "id": "9H5guDShY4al"
      },
      "source": [
        ""
      ]
    },
    {
      "cell_type": "code",
      "execution_count": null,
      "metadata": {
        "id": "9ZlbuLfYY497"
      },
      "outputs": [],
      "source": [
        ""
      ]
    },
    {
      "cell_type": "markdown",
      "metadata": {
        "id": "eP8CpSk3sLH0"
      },
      "source": [
        ""
      ]
    },
    {
      "cell_type": "markdown",
      "metadata": {
        "id": "UdAncZ_aV0gz"
      },
      "source": [
        "\"\"\"Игра угадай число\n",
        "Компьютер сам загадывает и сам угадывает число\n",
        "\"\"\"\n",
        "\n",
        "import numpy as np\n",
        "\n",
        "\n",
        "def optimal_predict(number: int = 1) -> int:\n",
        "  \"\"\"Угадываем число меньше чем за 20 попыток\n",
        "\n",
        "    Args:\n",
        "        number (int, optional): Загаданное число. Defaults to 1.\n",
        "\n",
        "    Returns:\n",
        "        int: Число попыток\n",
        "    \"\"\"\n",
        "  count = 0       \n",
        "  min_ = 1\n",
        "  max_ = 101\n",
        "        \n",
        "  #number = np.random.randint(min, max)\n",
        "    \n",
        "  while number != mid:\n",
        "    count +=1\n",
        "    mid = (min_ + max_) // 2\n",
        "    if number > mid:\n",
        "      min_ = mid\n",
        "    else:\n",
        "      max_ = mid          \n",
        "    return count\n",
        "\n",
        "\n",
        "def score_game(optimal_predict) -> int:\n",
        "  \"\"\"За какое количство попыток в среднем за 1000 подходов угадывает наш алгоритм\n",
        "\n",
        "    Args:\n",
        "        optimal_predict ([type]): функция угадывания\n",
        "\n",
        "    Returns:\n",
        "        int: среднее количество попыток\n",
        "    \"\"\"\n",
        "  count_ls = []\n",
        "  np.random.seed(1)  # фиксируем сид для воспроизводимости\n",
        "  random_array = np.random.randint(1, 101, size=(1000))  # загадали список чисел\n",
        "\n",
        "  for number in random_array:\n",
        "    count_ls.append(optimal_predict(number))\n",
        "\n",
        "    score = int(np.mean(count_ls))\n",
        "    print(f\"Ваш алгоритм угадывает число в среднем за:{score} попыток\")\n",
        "    return score\n",
        "print(number)\n",
        "score_game(optimal_predict)\n",
        "score_game(optimal_predict)"
      ]
    }
  ],
  "metadata": {
    "colab": {
      "collapsed_sections": [],
      "name": "baseline.ipynb",
      "provenance": [],
      "toc_visible": true
    },
    "interpreter": {
      "hash": "09714a52f69239c6409b3d073f9f3ca0ddb4056fc648d88f7346d3f36a5c4020"
    },
    "kernelspec": {
      "display_name": "Python 3.7.7 64-bit ('ds': conda)",
      "name": "python3"
    },
    "language_info": {
      "codemirror_mode": {
        "name": "ipython",
        "version": 3
      },
      "file_extension": ".py",
      "mimetype": "text/x-python",
      "name": "python",
      "nbconvert_exporter": "python",
      "pygments_lexer": "ipython3",
      "version": "3.7.7"
    },
    "gpuClass": "standard",
    "accelerator": "GPU"
  },
  "nbformat": 4,
  "nbformat_minor": 0
}