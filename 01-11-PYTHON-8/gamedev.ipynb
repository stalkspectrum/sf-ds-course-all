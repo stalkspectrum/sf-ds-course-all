{
 "cells": [
  {
   "cell_type": "markdown",
   "metadata": {},
   "source": [
    "### Черновик для финального задания ###\n",
    "\n",
    "----\n",
    "\n",
    "#### Сначала попробуем обойтись без NumPy ####\n"
   ]
  },
  {
   "cell_type": "code",
   "execution_count": 1,
   "metadata": {
    "colab": {
     "base_uri": "https://localhost:8080/",
     "height": 426
    },
    "id": "0-mHOJle7qnY",
    "outputId": "3865469e-37da-4da0-b73f-bd61d86912bd"
   },
   "outputs": [],
   "source": [
    "from random import randint\n",
    "\n",
    "GUESS_RANGE = [1, 100]\n",
    "NUM_OF_GAMES = 1000\n"
   ]
  },
  {
   "cell_type": "code",
   "execution_count": 2,
   "metadata": {},
   "outputs": [],
   "source": [
    "def secret_number_std(guess_range: list) -> int:\n",
    "    ''' Компьютер загадывает число в диапазоне GUESS_RANGE\n",
    "    '''\n",
    "    return randint(*guess_range)\n"
   ]
  },
  {
   "cell_type": "code",
   "execution_count": 3,
   "metadata": {},
   "outputs": [
    {
     "name": "stdout",
     "output_type": "stream",
     "text": [
      "Attempts: 4\n"
     ]
    }
   ],
   "source": [
    "def count_attempts(guessed_number: int) -> int:\n",
    "    ''' Компьютер пытается отгадать число в диапазоне GUESS_RANGE\n",
    "        и когда угадывает, возвращает число попыток.\n",
    "    '''\n",
    "    attempt_count = 0\n",
    "    predicted_range = GUESS_RANGE.copy()\n",
    "    # print(f'guessed_number: {guessed_number}')\n",
    "    while predicted_range[1] - predicted_range[0] > 1:\n",
    "        attempt_count += 1\n",
    "        boundary = sum(predicted_range) // 2\n",
    "        # print(f'boundary: {boundary}')\n",
    "        if guessed_number < boundary:\n",
    "            predicted_range[1] = boundary\n",
    "        elif guessed_number > boundary:\n",
    "            predicted_range[0] = boundary\n",
    "        else:\n",
    "            break\n",
    "        predict_number = randint(*predicted_range)\n",
    "    return attempt_count\n",
    "\n",
    "print(f'Attempts: {count_attempts(secret_number_std(GUESS_RANGE))}')\n"
   ]
  },
  {
   "cell_type": "code",
   "execution_count": 4,
   "metadata": {},
   "outputs": [
    {
     "name": "stdout",
     "output_type": "stream",
     "text": [
      "Average attempts score with 1000 game cycles is 5.784\n"
     ]
    }
   ],
   "source": [
    "def average_score_std(num_of_games):\n",
    "    ''' Выдаёт среднее количество попыток угадывания числа\n",
    "        из 1000 циклов игры\n",
    "    '''\n",
    "    sum_ = 0\n",
    "    for iter_ in range(num_of_games):\n",
    "        sum_ += count_attempts(secret_number_std(GUESS_RANGE))\n",
    "    return sum_ / num_of_games\n",
    "\n",
    "print(f'Average attempts score with {NUM_OF_GAMES} game cycles is {average_score_std(NUM_OF_GAMES)}')\n"
   ]
  },
  {
   "cell_type": "markdown",
   "metadata": {},
   "source": [
    "----\n",
    "\n",
    "#### А теперь используем NumPy ####\n"
   ]
  },
  {
   "cell_type": "code",
   "execution_count": 5,
   "metadata": {},
   "outputs": [
    {
     "name": "stdout",
     "output_type": "stream",
     "text": [
      "Average attempts score with 1000 game cycles is 5.757\n"
     ]
    }
   ],
   "source": [
    "import numpy as np\n",
    "\n",
    "def secret_number(guess_range: list) -> int:\n",
    "    ''' Компьютер загадывает число в диапазоне GUESS_RANGE\n",
    "    '''\n",
    "    return np.random.randint(guess_range[0], guess_range[1] + 1)\n",
    "\n",
    "def average_score(num_of_games):\n",
    "    ''' Выдаёт среднее количество попыток угадывания числа\n",
    "        из 1000 циклов игры\n",
    "    '''\n",
    "    sum_ = 0\n",
    "    for iter_ in range(num_of_games):\n",
    "        sum_ += count_attempts(secret_number(GUESS_RANGE))\n",
    "    return sum_ / num_of_games\n",
    "\n",
    "print(f'Average attempts score with {NUM_OF_GAMES} game cycles is {average_score(NUM_OF_GAMES)}')\n"
   ]
  },
  {
   "cell_type": "code",
   "execution_count": null,
   "metadata": {},
   "outputs": [],
   "source": []
  }
 ],
 "metadata": {
  "accelerator": "GPU",
  "colab": {
   "collapsed_sections": [],
   "name": "baseline.ipynb",
   "provenance": [],
   "toc_visible": true
  },
  "gpuClass": "standard",
  "kernelspec": {
   "display_name": "Python 3.9.13 64-bit",
   "language": "python",
   "name": "python3"
  },
  "language_info": {
   "codemirror_mode": {
    "name": "ipython",
    "version": 3
   },
   "file_extension": ".py",
   "mimetype": "text/x-python",
   "name": "python",
   "nbconvert_exporter": "python",
   "pygments_lexer": "ipython3",
   "version": "3.9.13"
  },
  "vscode": {
   "interpreter": {
    "hash": "3e13df3a8547c5852783334f7d5726168d2d3b1a8be6ee20b879430a7eed34d8"
   }
  }
 },
 "nbformat": 4,
 "nbformat_minor": 1
}
