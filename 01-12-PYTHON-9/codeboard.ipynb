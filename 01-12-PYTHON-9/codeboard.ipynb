{
 "cells": [
  {
   "cell_type": "code",
   "execution_count": 14,
   "id": "intellectual-living",
   "metadata": {},
   "outputs": [
    {
     "name": "stdout",
     "output_type": "stream",
     "text": [
      "[[0 2 4 6]\n",
      " [1 3 5 7]]\n",
      "[[0 1]\n",
      " [2 3]\n",
      " [4 5]\n",
      " [6 7]]\n"
     ]
    }
   ],
   "source": [
    "import numpy as np\n",
    "arr = np.arange(8)\n",
    "arr\n",
    "arr_new = arr.reshape((2, 4), order='F')\n",
    "print(arr_new)\n",
    "arr_trans = arr_new.transpose()\n",
    "print(arr_trans)"
   ]
  },
  {
   "cell_type": "code",
   "execution_count": 26,
   "id": "third-blame",
   "metadata": {},
   "outputs": [
    {
     "name": "stdout",
     "output_type": "stream",
     "text": [
      "[[ 1.  2.  3.  4.]\n",
      " [ 5.  6.  7.  8.]\n",
      " [ 9. 10. 11. 12.]]\n"
     ]
    },
    {
     "data": {
      "text/plain": [
       "array([11.,  7.,  3.])"
      ]
     },
     "execution_count": 26,
     "metadata": {},
     "output_type": "execute_result"
    }
   ],
   "source": [
    "arr2 = np.linspace(1, 12, 12, endpoint=True).reshape(3, 4)\n",
    "print(arr2)\n",
    "arr2[::-1, 2]"
   ]
  },
  {
   "cell_type": "code",
   "execution_count": 46,
   "id": "respected-basics",
   "metadata": {},
   "outputs": [
    {
     "name": "stdout",
     "output_type": "stream",
     "text": [
      "[ 4  9 -4  3]\n",
      "[4 9 3]\n"
     ]
    }
   ],
   "source": [
    "data = np.array([4, 9, -4, 3])\n",
    "print(data)\n",
    "# datam = np.array(list(map(lambda x: 0 if x < 0 else x, data)))\n",
    "datam = np.array(list(filter(lambda x: False if x < 0 else True, data)))\n",
    "print(datam)\n",
    "# roots = np.sqrt(data)\n",
    "# print(type(roots[2]))\n",
    "# print(roots[2] is np.nan)\n",
    "# np.isnan(roots)"
   ]
  },
  {
   "cell_type": "code",
   "execution_count": null,
   "id": "ongoing-works",
   "metadata": {},
   "outputs": [],
   "source": []
  },
  {
   "cell_type": "markdown",
   "id": "horizontal-diversity",
   "metadata": {},
   "source": [
    "## Задание 8.4 ##\n",
    "Векторы в геометрии, которые параллельны друг другу, называются сонаправленными.\n",
    "\n",
    "Также векторы могут быть параллельны и в пространстве. На практике есть несколько способов определить сонаправленность векторов. Один из них: сумма длин сонаправленных векторов должна быть равной длине суммы двух векторов.\n",
    "\n",
    "С помощью этого критерия найдите пару сонаправленных векторов.\n",
    "\n",
    "Искать сонаправленные векторы необходимо, выполняя вычисления в Codeboard выше."
   ]
  },
  {
   "cell_type": "code",
   "execution_count": 4,
   "id": "english-album",
   "metadata": {},
   "outputs": [
    {
     "name": "stdout",
     "output_type": "stream",
     "text": [
      "False\n",
      "True\n",
      "False\n"
     ]
    }
   ],
   "source": [
    "import numpy as np\n",
    "a = np.array([23, 34, 27])\n",
    "b = np.array([-54, 1,  46])\n",
    "c = np.array([46, 68, 54])\n",
    "\n",
    "print(np.linalg.norm(a) + np.linalg.norm(b) == np.linalg.norm(a + b))\n",
    "print(np.linalg.norm(a) + np.linalg.norm(c) == np.linalg.norm(a + c))\n",
    "print(np.linalg.norm(b) + np.linalg.norm(c) == np.linalg.norm(b + c))\n"
   ]
  },
  {
   "cell_type": "markdown",
   "id": "comparable-words",
   "metadata": {},
   "source": [
    "## Задание 8.5 ##\n",
    "Найдите пару векторов, расстояние между которыми больше 100"
   ]
  },
  {
   "cell_type": "code",
   "execution_count": 5,
   "id": "differential-telling",
   "metadata": {},
   "outputs": [
    {
     "name": "stdout",
     "output_type": "stream",
     "text": [
      "85.901105930017\n",
      "49.13247398615299\n",
      "120.6358155772986\n"
     ]
    }
   ],
   "source": [
    "print(np.linalg.norm(a - b))\n",
    "print(np.linalg.norm(a - c))\n",
    "print(np.linalg.norm(b - c))"
   ]
  },
  {
   "cell_type": "markdown",
   "id": "coordinate-present",
   "metadata": {},
   "source": [
    "## Задание 8.6 ##\n",
    "Найдите пару перпендикулярных векторов с помощью скалярного произведения (оно должно быть равно нулю)."
   ]
  },
  {
   "cell_type": "code",
   "execution_count": 6,
   "id": "interesting-yield",
   "metadata": {},
   "outputs": [
    {
     "name": "stdout",
     "output_type": "stream",
     "text": [
      "34\n",
      "4828\n",
      "68\n"
     ]
    }
   ],
   "source": [
    "print(np.sum(a * b))\n",
    "print(np.sum(a * c))\n",
    "print(np.sum(b * c))"
   ]
  },
  {
   "cell_type": "markdown",
   "id": "incoming-probability",
   "metadata": {},
   "source": [
    "## Задание 8.7-10 ##"
   ]
  },
  {
   "cell_type": "code",
   "execution_count": 11,
   "id": "flexible-correction",
   "metadata": {},
   "outputs": [
    {
     "name": "stdout",
     "output_type": "stream",
     "text": [
      "5\n",
      "490.368\n",
      "491.0\n",
      "289.01097656663495\n"
     ]
    }
   ],
   "source": [
    "mystery = np.array([481,  18, 308,  13, 652, 391,  63,  62, 353, 111, 805, 251,  36, 544, 600, 799, 283, 880,\n",
    " 470, 599, 814, 507, 242, 650, 180, 860, 979, 298, 621, 197, 572, 976, 905, 427, 119, 905,\n",
    "  64, 430, 742, 563, 382, 211, 228, 760, 567, 366, 103, 409, 211, 952,   5, 493, 151, 267,\n",
    " 517, 495, 375,  80, 341,  39, 560,  85, 490,  44,  17, 151,  42, 688, 648, 501, 437, 154,\n",
    "  66,  28, 921, 642, 196, 719, 208, 492, 538, 687, 841, 933, 386, 719, 114, 261, 838, 228,\n",
    " 120, 508, 316, 476, 233, 902, 698, 471, 604, 172, 993, 790, 557, 129, 446,  64, 317, 997,\n",
    " 509, 710, 909, 147, 228, 595, 188, 246, 728, 509, 365, 139, 773, 426, 929, 888, 534, 513,\n",
    " 666,  77, 299, 943, 985, 588, 137,  31, 385, 405, 980, 854, 327, 714, 318, 909, 803, 334,\n",
    " 130, 949, 532, 640, 820, 975, 889, 240, 878, 294, 899, 488, 639, 961, 819, 649, 939, 163,\n",
    " 209, 879, 479, 573, 557,  25, 783, 332, 311, 425, 140, 678, 766, 492, 234, 316, 811, 447,\n",
    " 772, 325, 640, 387, 858, 208, 739, 870, 227, 385,  24, 286,  22, 599, 951, 994, 457,  99,\n",
    " 238, 172, 549, 932, 412, 545, 713,  19, 785, 931, 684, 333, 630, 752, 191, 949, 200, 361,\n",
    " 887, 243, 753, 600, 635, 243, 173, 249, 294, 583, 106, 772, 848, 387, 874, 321, 562,  96,\n",
    " 211, 561, 918, 868, 206, 745, 710, 869, 387, 600, 726, 179, 336, 806, 392, 612])\n",
    "\n",
    "##### Найдите минимальное значение в массиве\n",
    "print(mystery.min())\n",
    "##### Найдите среднее значение массива\n",
    "print(mystery.mean())\n",
    "##### Найдите медиану массива.\n",
    "print(np.median(mystery))\n",
    "##### Найдите стандартное отклонение значений в массиве\n",
    "print(np.std(mystery))"
   ]
  },
  {
   "cell_type": "code",
   "execution_count": null,
   "id": "adaptive-yesterday",
   "metadata": {},
   "outputs": [],
   "source": []
  }
 ],
 "metadata": {
  "kernelspec": {
   "display_name": "Python 3",
   "language": "python",
   "name": "python3"
  },
  "language_info": {
   "codemirror_mode": {
    "name": "ipython",
    "version": 3
   },
   "file_extension": ".py",
   "mimetype": "text/x-python",
   "name": "python",
   "nbconvert_exporter": "python",
   "pygments_lexer": "ipython3",
   "version": "3.9.13"
  }
 },
 "nbformat": 4,
 "nbformat_minor": 5
}
