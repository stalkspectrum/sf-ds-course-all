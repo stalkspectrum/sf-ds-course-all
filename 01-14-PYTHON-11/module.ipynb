{
 "cells": [
  {
   "cell_type": "code",
   "execution_count": 1,
   "id": "round-montgomery",
   "metadata": {},
   "outputs": [],
   "source": [
    "import pandas as pd\n",
    "melb_data = pd.read_csv('data/melb_data_ps.csv', sep=',')"
   ]
  },
  {
   "cell_type": "markdown",
   "id": "friendly-kenya",
   "metadata": {},
   "source": [
    "# Базовые операции со столбцами DataFrame #\n",
    "\n",
    "### Создание копии таблицы ###"
   ]
  },
  {
   "cell_type": "code",
   "execution_count": 2,
   "id": "integrated-bikini",
   "metadata": {},
   "outputs": [
    {
     "data": {
      "text/html": [
       "<div>\n",
       "<style scoped>\n",
       "    .dataframe tbody tr th:only-of-type {\n",
       "        vertical-align: middle;\n",
       "    }\n",
       "\n",
       "    .dataframe tbody tr th {\n",
       "        vertical-align: top;\n",
       "    }\n",
       "\n",
       "    .dataframe thead th {\n",
       "        text-align: right;\n",
       "    }\n",
       "</style>\n",
       "<table border=\"1\" class=\"dataframe\">\n",
       "  <thead>\n",
       "    <tr style=\"text-align: right;\">\n",
       "      <th></th>\n",
       "      <th>index</th>\n",
       "      <th>Suburb</th>\n",
       "      <th>Address</th>\n",
       "      <th>Rooms</th>\n",
       "      <th>Type</th>\n",
       "      <th>Price</th>\n",
       "      <th>Method</th>\n",
       "      <th>SellerG</th>\n",
       "      <th>Date</th>\n",
       "      <th>Distance</th>\n",
       "      <th>Postcode</th>\n",
       "      <th>Bedroom</th>\n",
       "      <th>Bathroom</th>\n",
       "      <th>Car</th>\n",
       "      <th>Landsize</th>\n",
       "      <th>BuildingArea</th>\n",
       "      <th>YearBuilt</th>\n",
       "      <th>CouncilArea</th>\n",
       "      <th>Lattitude</th>\n",
       "      <th>Longtitude</th>\n",
       "      <th>Regionname</th>\n",
       "      <th>Propertycount</th>\n",
       "      <th>Coordinates</th>\n",
       "    </tr>\n",
       "  </thead>\n",
       "  <tbody>\n",
       "    <tr>\n",
       "      <th>0</th>\n",
       "      <td>0</td>\n",
       "      <td>Abbotsford</td>\n",
       "      <td>85 Turner St</td>\n",
       "      <td>2</td>\n",
       "      <td>h</td>\n",
       "      <td>1480000.0</td>\n",
       "      <td>S</td>\n",
       "      <td>Biggin</td>\n",
       "      <td>3/12/2016</td>\n",
       "      <td>2.5</td>\n",
       "      <td>3067</td>\n",
       "      <td>2</td>\n",
       "      <td>1</td>\n",
       "      <td>1</td>\n",
       "      <td>202.0</td>\n",
       "      <td>126.0</td>\n",
       "      <td>1970</td>\n",
       "      <td>Yarra</td>\n",
       "      <td>-37.79960</td>\n",
       "      <td>144.99840</td>\n",
       "      <td>Northern Metropolitan</td>\n",
       "      <td>4019</td>\n",
       "      <td>-37.7996, 144.9984</td>\n",
       "    </tr>\n",
       "    <tr>\n",
       "      <th>1</th>\n",
       "      <td>1</td>\n",
       "      <td>Abbotsford</td>\n",
       "      <td>25 Bloomburg St</td>\n",
       "      <td>2</td>\n",
       "      <td>h</td>\n",
       "      <td>1035000.0</td>\n",
       "      <td>S</td>\n",
       "      <td>Biggin</td>\n",
       "      <td>4/02/2016</td>\n",
       "      <td>2.5</td>\n",
       "      <td>3067</td>\n",
       "      <td>2</td>\n",
       "      <td>1</td>\n",
       "      <td>0</td>\n",
       "      <td>156.0</td>\n",
       "      <td>79.0</td>\n",
       "      <td>1900</td>\n",
       "      <td>Yarra</td>\n",
       "      <td>-37.80790</td>\n",
       "      <td>144.99340</td>\n",
       "      <td>Northern Metropolitan</td>\n",
       "      <td>4019</td>\n",
       "      <td>-37.8079, 144.9934</td>\n",
       "    </tr>\n",
       "    <tr>\n",
       "      <th>2</th>\n",
       "      <td>2</td>\n",
       "      <td>Abbotsford</td>\n",
       "      <td>5 Charles St</td>\n",
       "      <td>3</td>\n",
       "      <td>h</td>\n",
       "      <td>1465000.0</td>\n",
       "      <td>SP</td>\n",
       "      <td>Biggin</td>\n",
       "      <td>4/03/2017</td>\n",
       "      <td>2.5</td>\n",
       "      <td>3067</td>\n",
       "      <td>3</td>\n",
       "      <td>2</td>\n",
       "      <td>0</td>\n",
       "      <td>134.0</td>\n",
       "      <td>150.0</td>\n",
       "      <td>1900</td>\n",
       "      <td>Yarra</td>\n",
       "      <td>-37.80930</td>\n",
       "      <td>144.99440</td>\n",
       "      <td>Northern Metropolitan</td>\n",
       "      <td>4019</td>\n",
       "      <td>-37.8093, 144.9944</td>\n",
       "    </tr>\n",
       "    <tr>\n",
       "      <th>3</th>\n",
       "      <td>3</td>\n",
       "      <td>Abbotsford</td>\n",
       "      <td>40 Federation La</td>\n",
       "      <td>3</td>\n",
       "      <td>h</td>\n",
       "      <td>850000.0</td>\n",
       "      <td>PI</td>\n",
       "      <td>Biggin</td>\n",
       "      <td>4/03/2017</td>\n",
       "      <td>2.5</td>\n",
       "      <td>3067</td>\n",
       "      <td>3</td>\n",
       "      <td>2</td>\n",
       "      <td>1</td>\n",
       "      <td>94.0</td>\n",
       "      <td>126.0</td>\n",
       "      <td>1970</td>\n",
       "      <td>Yarra</td>\n",
       "      <td>-37.79690</td>\n",
       "      <td>144.99690</td>\n",
       "      <td>Northern Metropolitan</td>\n",
       "      <td>4019</td>\n",
       "      <td>-37.7969, 144.9969</td>\n",
       "    </tr>\n",
       "    <tr>\n",
       "      <th>4</th>\n",
       "      <td>4</td>\n",
       "      <td>Abbotsford</td>\n",
       "      <td>55a Park St</td>\n",
       "      <td>4</td>\n",
       "      <td>h</td>\n",
       "      <td>1600000.0</td>\n",
       "      <td>VB</td>\n",
       "      <td>Nelson</td>\n",
       "      <td>4/06/2016</td>\n",
       "      <td>2.5</td>\n",
       "      <td>3067</td>\n",
       "      <td>3</td>\n",
       "      <td>1</td>\n",
       "      <td>2</td>\n",
       "      <td>120.0</td>\n",
       "      <td>142.0</td>\n",
       "      <td>2014</td>\n",
       "      <td>Yarra</td>\n",
       "      <td>-37.80720</td>\n",
       "      <td>144.99410</td>\n",
       "      <td>Northern Metropolitan</td>\n",
       "      <td>4019</td>\n",
       "      <td>-37.8072, 144.9941</td>\n",
       "    </tr>\n",
       "    <tr>\n",
       "      <th>...</th>\n",
       "      <td>...</td>\n",
       "      <td>...</td>\n",
       "      <td>...</td>\n",
       "      <td>...</td>\n",
       "      <td>...</td>\n",
       "      <td>...</td>\n",
       "      <td>...</td>\n",
       "      <td>...</td>\n",
       "      <td>...</td>\n",
       "      <td>...</td>\n",
       "      <td>...</td>\n",
       "      <td>...</td>\n",
       "      <td>...</td>\n",
       "      <td>...</td>\n",
       "      <td>...</td>\n",
       "      <td>...</td>\n",
       "      <td>...</td>\n",
       "      <td>...</td>\n",
       "      <td>...</td>\n",
       "      <td>...</td>\n",
       "      <td>...</td>\n",
       "      <td>...</td>\n",
       "      <td>...</td>\n",
       "    </tr>\n",
       "    <tr>\n",
       "      <th>13575</th>\n",
       "      <td>13575</td>\n",
       "      <td>Wheelers Hill</td>\n",
       "      <td>12 Strada Cr</td>\n",
       "      <td>4</td>\n",
       "      <td>h</td>\n",
       "      <td>1245000.0</td>\n",
       "      <td>S</td>\n",
       "      <td>Barry</td>\n",
       "      <td>26/08/2017</td>\n",
       "      <td>16.7</td>\n",
       "      <td>3150</td>\n",
       "      <td>4</td>\n",
       "      <td>2</td>\n",
       "      <td>2</td>\n",
       "      <td>652.0</td>\n",
       "      <td>126.0</td>\n",
       "      <td>1981</td>\n",
       "      <td>NaN</td>\n",
       "      <td>-37.90562</td>\n",
       "      <td>145.16761</td>\n",
       "      <td>South-Eastern Metropolitan</td>\n",
       "      <td>7392</td>\n",
       "      <td>-37.90562, 145.16761</td>\n",
       "    </tr>\n",
       "    <tr>\n",
       "      <th>13576</th>\n",
       "      <td>13576</td>\n",
       "      <td>Williamstown</td>\n",
       "      <td>77 Merrett Dr</td>\n",
       "      <td>3</td>\n",
       "      <td>h</td>\n",
       "      <td>1031000.0</td>\n",
       "      <td>SP</td>\n",
       "      <td>Williams</td>\n",
       "      <td>26/08/2017</td>\n",
       "      <td>6.8</td>\n",
       "      <td>3016</td>\n",
       "      <td>3</td>\n",
       "      <td>2</td>\n",
       "      <td>2</td>\n",
       "      <td>333.0</td>\n",
       "      <td>133.0</td>\n",
       "      <td>1995</td>\n",
       "      <td>NaN</td>\n",
       "      <td>-37.85927</td>\n",
       "      <td>144.87904</td>\n",
       "      <td>Western Metropolitan</td>\n",
       "      <td>6380</td>\n",
       "      <td>-37.85927, 144.87904</td>\n",
       "    </tr>\n",
       "    <tr>\n",
       "      <th>13577</th>\n",
       "      <td>13577</td>\n",
       "      <td>Williamstown</td>\n",
       "      <td>83 Power St</td>\n",
       "      <td>3</td>\n",
       "      <td>h</td>\n",
       "      <td>1170000.0</td>\n",
       "      <td>S</td>\n",
       "      <td>Raine</td>\n",
       "      <td>26/08/2017</td>\n",
       "      <td>6.8</td>\n",
       "      <td>3016</td>\n",
       "      <td>3</td>\n",
       "      <td>2</td>\n",
       "      <td>4</td>\n",
       "      <td>436.0</td>\n",
       "      <td>126.0</td>\n",
       "      <td>1997</td>\n",
       "      <td>NaN</td>\n",
       "      <td>-37.85274</td>\n",
       "      <td>144.88738</td>\n",
       "      <td>Western Metropolitan</td>\n",
       "      <td>6380</td>\n",
       "      <td>-37.85274, 144.88738</td>\n",
       "    </tr>\n",
       "    <tr>\n",
       "      <th>13578</th>\n",
       "      <td>13578</td>\n",
       "      <td>Williamstown</td>\n",
       "      <td>96 Verdon St</td>\n",
       "      <td>4</td>\n",
       "      <td>h</td>\n",
       "      <td>2500000.0</td>\n",
       "      <td>PI</td>\n",
       "      <td>Sweeney</td>\n",
       "      <td>26/08/2017</td>\n",
       "      <td>6.8</td>\n",
       "      <td>3016</td>\n",
       "      <td>4</td>\n",
       "      <td>1</td>\n",
       "      <td>5</td>\n",
       "      <td>866.0</td>\n",
       "      <td>157.0</td>\n",
       "      <td>1920</td>\n",
       "      <td>NaN</td>\n",
       "      <td>-37.85908</td>\n",
       "      <td>144.89299</td>\n",
       "      <td>Western Metropolitan</td>\n",
       "      <td>6380</td>\n",
       "      <td>-37.85908, 144.89299</td>\n",
       "    </tr>\n",
       "    <tr>\n",
       "      <th>13579</th>\n",
       "      <td>13579</td>\n",
       "      <td>Yarraville</td>\n",
       "      <td>6 Agnes St</td>\n",
       "      <td>4</td>\n",
       "      <td>h</td>\n",
       "      <td>1285000.0</td>\n",
       "      <td>SP</td>\n",
       "      <td>Village</td>\n",
       "      <td>26/08/2017</td>\n",
       "      <td>6.3</td>\n",
       "      <td>3013</td>\n",
       "      <td>4</td>\n",
       "      <td>1</td>\n",
       "      <td>1</td>\n",
       "      <td>362.0</td>\n",
       "      <td>112.0</td>\n",
       "      <td>1920</td>\n",
       "      <td>NaN</td>\n",
       "      <td>-37.81188</td>\n",
       "      <td>144.88449</td>\n",
       "      <td>Western Metropolitan</td>\n",
       "      <td>6543</td>\n",
       "      <td>-37.81188, 144.88449</td>\n",
       "    </tr>\n",
       "  </tbody>\n",
       "</table>\n",
       "<p>13580 rows × 23 columns</p>\n",
       "</div>"
      ],
      "text/plain": [
       "       index         Suburb  ... Propertycount           Coordinates\n",
       "0          0     Abbotsford  ...          4019    -37.7996, 144.9984\n",
       "1          1     Abbotsford  ...          4019    -37.8079, 144.9934\n",
       "2          2     Abbotsford  ...          4019    -37.8093, 144.9944\n",
       "3          3     Abbotsford  ...          4019    -37.7969, 144.9969\n",
       "4          4     Abbotsford  ...          4019    -37.8072, 144.9941\n",
       "...      ...            ...  ...           ...                   ...\n",
       "13575  13575  Wheelers Hill  ...          7392  -37.90562, 145.16761\n",
       "13576  13576   Williamstown  ...          6380  -37.85927, 144.87904\n",
       "13577  13577   Williamstown  ...          6380  -37.85274, 144.88738\n",
       "13578  13578   Williamstown  ...          6380  -37.85908, 144.89299\n",
       "13579  13579     Yarraville  ...          6543  -37.81188, 144.88449\n",
       "\n",
       "[13580 rows x 23 columns]"
      ]
     },
     "metadata": {},
     "output_type": "display_data"
    }
   ],
   "source": [
    "melb_df = melb_data.copy()\n",
    "display(melb_df)"
   ]
  },
  {
   "cell_type": "code",
   "execution_count": 3,
   "id": "alike-annotation",
   "metadata": {},
   "outputs": [
    {
     "name": "stdout",
     "output_type": "stream",
     "text": [
      "<class 'pandas.core.frame.DataFrame'>\n",
      "RangeIndex: 13580 entries, 0 to 13579\n",
      "Data columns (total 23 columns):\n",
      " #   Column         Non-Null Count  Dtype  \n",
      "---  ------         --------------  -----  \n",
      " 0   index          13580 non-null  int64  \n",
      " 1   Suburb         13580 non-null  object \n",
      " 2   Address        13580 non-null  object \n",
      " 3   Rooms          13580 non-null  int64  \n",
      " 4   Type           13580 non-null  object \n",
      " 5   Price          13580 non-null  float64\n",
      " 6   Method         13580 non-null  object \n",
      " 7   SellerG        13580 non-null  object \n",
      " 8   Date           13580 non-null  object \n",
      " 9   Distance       13580 non-null  float64\n",
      " 10  Postcode       13580 non-null  int64  \n",
      " 11  Bedroom        13580 non-null  int64  \n",
      " 12  Bathroom       13580 non-null  int64  \n",
      " 13  Car            13580 non-null  int64  \n",
      " 14  Landsize       13580 non-null  float64\n",
      " 15  BuildingArea   13580 non-null  float64\n",
      " 16  YearBuilt      13580 non-null  int64  \n",
      " 17  CouncilArea    12211 non-null  object \n",
      " 18  Lattitude      13580 non-null  float64\n",
      " 19  Longtitude     13580 non-null  float64\n",
      " 20  Regionname     13580 non-null  object \n",
      " 21  Propertycount  13580 non-null  int64  \n",
      " 22  Coordinates    13580 non-null  object \n",
      "dtypes: float64(6), int64(8), object(9)\n",
      "memory usage: 2.4+ MB\n"
     ]
    }
   ],
   "source": [
    "melb_df.info()"
   ]
  },
  {
   "cell_type": "markdown",
   "id": "little-heading",
   "metadata": {},
   "source": [
    "### Удаление столбцов ###"
   ]
  },
  {
   "cell_type": "code",
   "execution_count": 4,
   "id": "compliant-people",
   "metadata": {},
   "outputs": [
    {
     "name": "stdout",
     "output_type": "stream",
     "text": [
      "<class 'pandas.core.frame.DataFrame'>\n",
      "RangeIndex: 13580 entries, 0 to 13579\n",
      "Data columns (total 21 columns):\n",
      " #   Column         Non-Null Count  Dtype  \n",
      "---  ------         --------------  -----  \n",
      " 0   Suburb         13580 non-null  object \n",
      " 1   Address        13580 non-null  object \n",
      " 2   Rooms          13580 non-null  int64  \n",
      " 3   Type           13580 non-null  object \n",
      " 4   Price          13580 non-null  float64\n",
      " 5   Method         13580 non-null  object \n",
      " 6   SellerG        13580 non-null  object \n",
      " 7   Date           13580 non-null  object \n",
      " 8   Distance       13580 non-null  float64\n",
      " 9   Postcode       13580 non-null  int64  \n",
      " 10  Bedroom        13580 non-null  int64  \n",
      " 11  Bathroom       13580 non-null  int64  \n",
      " 12  Car            13580 non-null  int64  \n",
      " 13  Landsize       13580 non-null  float64\n",
      " 14  BuildingArea   13580 non-null  float64\n",
      " 15  YearBuilt      13580 non-null  int64  \n",
      " 16  CouncilArea    12211 non-null  object \n",
      " 17  Lattitude      13580 non-null  float64\n",
      " 18  Longtitude     13580 non-null  float64\n",
      " 19  Regionname     13580 non-null  object \n",
      " 20  Propertycount  13580 non-null  int64  \n",
      "dtypes: float64(6), int64(7), object(8)\n",
      "memory usage: 2.2+ MB\n"
     ]
    }
   ],
   "source": [
    "melb_df.drop(['index', 'Coordinates'], axis='columns', inplace=True)\n",
    "melb_df.info()"
   ]
  },
  {
   "cell_type": "markdown",
   "id": "unique-million",
   "metadata": {},
   "source": [
    "### Математические операции со столбцами ###"
   ]
  },
  {
   "cell_type": "code",
   "execution_count": 5,
   "id": "instructional-replacement",
   "metadata": {},
   "outputs": [
    {
     "data": {
      "text/plain": [
       "0         5\n",
       "1         5\n",
       "2         8\n",
       "3         8\n",
       "4         8\n",
       "         ..\n",
       "13575    10\n",
       "13576     8\n",
       "13577     8\n",
       "13578     9\n",
       "13579     9\n",
       "Length: 13580, dtype: int64"
      ]
     },
     "metadata": {},
     "output_type": "display_data"
    }
   ],
   "source": [
    "total_rooms = melb_df['Rooms'] + melb_df['Bedroom'] + melb_df['Bathroom']\n",
    "display(total_rooms)"
   ]
  },
  {
   "cell_type": "code",
   "execution_count": 6,
   "id": "intended-genius",
   "metadata": {},
   "outputs": [
    {
     "data": {
      "text/plain": [
       "0        25.200000\n",
       "1        15.800000\n",
       "2        18.750000\n",
       "3        15.750000\n",
       "4        17.750000\n",
       "           ...    \n",
       "13575    12.600000\n",
       "13576    16.625000\n",
       "13577    15.750000\n",
       "13578    17.444444\n",
       "13579    12.444444\n",
       "Name: MeanRoomSquare, Length: 13580, dtype: float64"
      ]
     },
     "metadata": {},
     "output_type": "display_data"
    }
   ],
   "source": [
    "melb_df['MeanRoomSquare'] = melb_df['BuildingArea'] / total_rooms\n",
    "display(melb_df['MeanRoomSquare'])"
   ]
  },
  {
   "cell_type": "code",
   "execution_count": 7,
   "id": "recovered-depression",
   "metadata": {},
   "outputs": [
    {
     "data": {
      "text/plain": [
       "0       -0.231707\n",
       "1       -0.327660\n",
       "2        0.056338\n",
       "3        0.145455\n",
       "4        0.083969\n",
       "           ...   \n",
       "13575   -0.676093\n",
       "13576   -0.429185\n",
       "13577   -0.551601\n",
       "13578   -0.693060\n",
       "13579   -0.527426\n",
       "Name: AreaRatio, Length: 13580, dtype: float64"
      ]
     },
     "metadata": {},
     "output_type": "display_data"
    }
   ],
   "source": [
    "diff_area = melb_df['BuildingArea'] - melb_df['Landsize']\n",
    "sum_area = melb_df['BuildingArea'] + melb_df['Landsize']\n",
    "melb_df['AreaRatio'] = diff_area / sum_area\n",
    "display(melb_df['AreaRatio'])"
   ]
  },
  {
   "cell_type": "markdown",
   "id": "conventional-prague",
   "metadata": {},
   "source": [
    "# Работа с датами в DataFrame #\n",
    "\n",
    "### Формат datetime ###"
   ]
  },
  {
   "cell_type": "code",
   "execution_count": 8,
   "id": "parental-closing",
   "metadata": {},
   "outputs": [
    {
     "data": {
      "text/plain": [
       "0         3/12/2016\n",
       "1         4/02/2016\n",
       "2         4/03/2017\n",
       "3         4/03/2017\n",
       "4         4/06/2016\n",
       "            ...    \n",
       "13575    26/08/2017\n",
       "13576    26/08/2017\n",
       "13577    26/08/2017\n",
       "13578    26/08/2017\n",
       "13579    26/08/2017\n",
       "Name: Date, Length: 13580, dtype: object"
      ]
     },
     "metadata": {},
     "output_type": "display_data"
    }
   ],
   "source": [
    "display(melb_df['Date'])"
   ]
  },
  {
   "cell_type": "code",
   "execution_count": 9,
   "id": "persistent-terminal",
   "metadata": {},
   "outputs": [
    {
     "data": {
      "text/plain": [
       "0       2016-12-03\n",
       "1       2016-02-04\n",
       "2       2017-03-04\n",
       "3       2017-03-04\n",
       "4       2016-06-04\n",
       "           ...    \n",
       "13575   2017-08-26\n",
       "13576   2017-08-26\n",
       "13577   2017-08-26\n",
       "13578   2017-08-26\n",
       "13579   2017-08-26\n",
       "Name: Date, Length: 13580, dtype: datetime64[ns]"
      ]
     },
     "metadata": {},
     "output_type": "display_data"
    },
    {
     "name": "stdout",
     "output_type": "stream",
     "text": [
      "<class 'pandas.core.frame.DataFrame'>\n",
      "RangeIndex: 13580 entries, 0 to 13579\n",
      "Data columns (total 23 columns):\n",
      " #   Column          Non-Null Count  Dtype         \n",
      "---  ------          --------------  -----         \n",
      " 0   Suburb          13580 non-null  object        \n",
      " 1   Address         13580 non-null  object        \n",
      " 2   Rooms           13580 non-null  int64         \n",
      " 3   Type            13580 non-null  object        \n",
      " 4   Price           13580 non-null  float64       \n",
      " 5   Method          13580 non-null  object        \n",
      " 6   SellerG         13580 non-null  object        \n",
      " 7   Date            13580 non-null  datetime64[ns]\n",
      " 8   Distance        13580 non-null  float64       \n",
      " 9   Postcode        13580 non-null  int64         \n",
      " 10  Bedroom         13580 non-null  int64         \n",
      " 11  Bathroom        13580 non-null  int64         \n",
      " 12  Car             13580 non-null  int64         \n",
      " 13  Landsize        13580 non-null  float64       \n",
      " 14  BuildingArea    13580 non-null  float64       \n",
      " 15  YearBuilt       13580 non-null  int64         \n",
      " 16  CouncilArea     12211 non-null  object        \n",
      " 17  Lattitude       13580 non-null  float64       \n",
      " 18  Longtitude      13580 non-null  float64       \n",
      " 19  Regionname      13580 non-null  object        \n",
      " 20  Propertycount   13580 non-null  int64         \n",
      " 21  MeanRoomSquare  13580 non-null  float64       \n",
      " 22  AreaRatio       13580 non-null  float64       \n",
      "dtypes: datetime64[ns](1), float64(8), int64(7), object(7)\n",
      "memory usage: 2.4+ MB\n"
     ]
    }
   ],
   "source": [
    "melb_df['Date'] = pd.to_datetime(melb_df['Date'], dayfirst=True)\n",
    "display(melb_df['Date'])\n",
    "melb_df.info()"
   ]
  },
  {
   "cell_type": "markdown",
   "id": "academic-inflation",
   "metadata": {},
   "source": [
    "### Выделение атрибутов datetime ###"
   ]
  },
  {
   "cell_type": "code",
   "execution_count": 10,
   "id": "expressed-holmes",
   "metadata": {},
   "outputs": [
    {
     "name": "stdout",
     "output_type": "stream",
     "text": [
      "0        2016\n",
      "1        2016\n",
      "2        2017\n",
      "3        2017\n",
      "4        2016\n",
      "         ... \n",
      "13575    2017\n",
      "13576    2017\n",
      "13577    2017\n",
      "13578    2017\n",
      "13579    2017\n",
      "Name: Date, Length: 13580, dtype: int64\n",
      "Min year sold 2016\n",
      "Max year sold 2017\n",
      "Mode year sold 2017\n"
     ]
    }
   ],
   "source": [
    "years_sold = melb_df['Date'].dt.year\n",
    "print(years_sold)\n",
    "print('Min year sold', years_sold.min())\n",
    "print('Max year sold', years_sold.max())\n",
    "print('Mode year sold', years_sold.mode()[0])"
   ]
  },
  {
   "cell_type": "code",
   "execution_count": 11,
   "id": "devoted-douglas",
   "metadata": {},
   "outputs": [
    {
     "name": "stdout",
     "output_type": "stream",
     "text": [
      "<class 'pandas.core.frame.DataFrame'>\n",
      "RangeIndex: 13580 entries, 0 to 13579\n",
      "Data columns (total 24 columns):\n",
      " #   Column          Non-Null Count  Dtype         \n",
      "---  ------          --------------  -----         \n",
      " 0   Suburb          13580 non-null  object        \n",
      " 1   Address         13580 non-null  object        \n",
      " 2   Rooms           13580 non-null  int64         \n",
      " 3   Type            13580 non-null  object        \n",
      " 4   Price           13580 non-null  float64       \n",
      " 5   Method          13580 non-null  object        \n",
      " 6   SellerG         13580 non-null  object        \n",
      " 7   Date            13580 non-null  datetime64[ns]\n",
      " 8   Distance        13580 non-null  float64       \n",
      " 9   Postcode        13580 non-null  int64         \n",
      " 10  Bedroom         13580 non-null  int64         \n",
      " 11  Bathroom        13580 non-null  int64         \n",
      " 12  Car             13580 non-null  int64         \n",
      " 13  Landsize        13580 non-null  float64       \n",
      " 14  BuildingArea    13580 non-null  float64       \n",
      " 15  YearBuilt       13580 non-null  int64         \n",
      " 16  CouncilArea     12211 non-null  object        \n",
      " 17  Lattitude       13580 non-null  float64       \n",
      " 18  Longtitude      13580 non-null  float64       \n",
      " 19  Regionname      13580 non-null  object        \n",
      " 20  Propertycount   13580 non-null  int64         \n",
      " 21  MeanRoomSquare  13580 non-null  float64       \n",
      " 22  AreaRatio       13580 non-null  float64       \n",
      " 23  MonthSale       13580 non-null  int64         \n",
      "dtypes: datetime64[ns](1), float64(8), int64(8), object(7)\n",
      "memory usage: 2.5+ MB\n"
     ]
    },
    {
     "data": {
      "text/plain": [
       "5     0.149411\n",
       "7     0.145950\n",
       "9     0.135862\n",
       "6     0.134757\n",
       "8     0.114138\n",
       "11    0.082032\n",
       "4     0.069882\n",
       "3     0.049926\n",
       "12    0.044698\n",
       "10    0.040574\n",
       "2     0.032622\n",
       "1     0.000147\n",
       "Name: MonthSale, dtype: float64"
      ]
     },
     "execution_count": 11,
     "metadata": {},
     "output_type": "execute_result"
    }
   ],
   "source": [
    "melb_df['MonthSale'] = melb_df['Date'].dt.month\n",
    "melb_df.info()\n",
    "melb_df['MonthSale'].value_counts(normalize=True)"
   ]
  },
  {
   "cell_type": "markdown",
   "id": "crucial-dividend",
   "metadata": {},
   "source": [
    "### Работа с интервалами ###"
   ]
  },
  {
   "cell_type": "code",
   "execution_count": 12,
   "id": "genetic-dress",
   "metadata": {},
   "outputs": [
    {
     "data": {
      "text/plain": [
       "0       337 days\n",
       "1        34 days\n",
       "2       428 days\n",
       "3       428 days\n",
       "4       155 days\n",
       "          ...   \n",
       "13575   603 days\n",
       "13576   603 days\n",
       "13577   603 days\n",
       "13578   603 days\n",
       "13579   603 days\n",
       "Name: Date, Length: 13580, dtype: timedelta64[ns]"
      ]
     },
     "metadata": {},
     "output_type": "display_data"
    },
    {
     "data": {
      "text/plain": [
       "0        337\n",
       "1         34\n",
       "2        428\n",
       "3        428\n",
       "4        155\n",
       "        ... \n",
       "13575    603\n",
       "13576    603\n",
       "13577    603\n",
       "13578    603\n",
       "13579    603\n",
       "Name: Date, Length: 13580, dtype: int64"
      ]
     },
     "metadata": {},
     "output_type": "display_data"
    }
   ],
   "source": [
    "delta_days = melb_df['Date'] - pd.to_datetime('2016-01-01')\n",
    "display(delta_days)\n",
    "display(delta_days.dt.days)"
   ]
  },
  {
   "cell_type": "code",
   "execution_count": 13,
   "id": "fluid-matthew",
   "metadata": {},
   "outputs": [
    {
     "name": "stdout",
     "output_type": "stream",
     "text": [
      "<class 'pandas.core.frame.DataFrame'>\n",
      "RangeIndex: 13580 entries, 0 to 13579\n",
      "Data columns (total 25 columns):\n",
      " #   Column          Non-Null Count  Dtype         \n",
      "---  ------          --------------  -----         \n",
      " 0   Suburb          13580 non-null  object        \n",
      " 1   Address         13580 non-null  object        \n",
      " 2   Rooms           13580 non-null  int64         \n",
      " 3   Type            13580 non-null  object        \n",
      " 4   Price           13580 non-null  float64       \n",
      " 5   Method          13580 non-null  object        \n",
      " 6   SellerG         13580 non-null  object        \n",
      " 7   Date            13580 non-null  datetime64[ns]\n",
      " 8   Distance        13580 non-null  float64       \n",
      " 9   Postcode        13580 non-null  int64         \n",
      " 10  Bedroom         13580 non-null  int64         \n",
      " 11  Bathroom        13580 non-null  int64         \n",
      " 12  Car             13580 non-null  int64         \n",
      " 13  Landsize        13580 non-null  float64       \n",
      " 14  BuildingArea    13580 non-null  float64       \n",
      " 15  YearBuilt       13580 non-null  int64         \n",
      " 16  CouncilArea     12211 non-null  object        \n",
      " 17  Lattitude       13580 non-null  float64       \n",
      " 18  Longtitude      13580 non-null  float64       \n",
      " 19  Regionname      13580 non-null  object        \n",
      " 20  Propertycount   13580 non-null  int64         \n",
      " 21  MeanRoomSquare  13580 non-null  float64       \n",
      " 22  AreaRatio       13580 non-null  float64       \n",
      " 23  MonthSale       13580 non-null  int64         \n",
      " 24  AgeBuilding     13580 non-null  int64         \n",
      "dtypes: datetime64[ns](1), float64(8), int64(9), object(7)\n",
      "memory usage: 2.6+ MB\n"
     ]
    },
    {
     "data": {
      "text/plain": [
       "None"
      ]
     },
     "metadata": {},
     "output_type": "display_data"
    },
    {
     "data": {
      "text/plain": [
       "0         46\n",
       "1        116\n",
       "2        117\n",
       "3         47\n",
       "4          2\n",
       "        ... \n",
       "13575     36\n",
       "13576     22\n",
       "13577     20\n",
       "13578     97\n",
       "13579     97\n",
       "Name: AgeBuilding, Length: 13580, dtype: int64"
      ]
     },
     "metadata": {},
     "output_type": "display_data"
    }
   ],
   "source": [
    "melb_df['AgeBuilding'] = melb_df['Date'].dt.year - melb_df['YearBuilt']\n",
    "display(melb_df.info())\n",
    "display(melb_df['AgeBuilding'])"
   ]
  },
  {
   "cell_type": "code",
   "execution_count": 14,
   "id": "opened-state",
   "metadata": {},
   "outputs": [
    {
     "name": "stdout",
     "output_type": "stream",
     "text": [
      "<class 'pandas.core.frame.DataFrame'>\n",
      "RangeIndex: 13580 entries, 0 to 13579\n",
      "Data columns (total 24 columns):\n",
      " #   Column          Non-Null Count  Dtype         \n",
      "---  ------          --------------  -----         \n",
      " 0   Suburb          13580 non-null  object        \n",
      " 1   Address         13580 non-null  object        \n",
      " 2   Rooms           13580 non-null  int64         \n",
      " 3   Type            13580 non-null  object        \n",
      " 4   Price           13580 non-null  float64       \n",
      " 5   Method          13580 non-null  object        \n",
      " 6   SellerG         13580 non-null  object        \n",
      " 7   Date            13580 non-null  datetime64[ns]\n",
      " 8   Distance        13580 non-null  float64       \n",
      " 9   Postcode        13580 non-null  int64         \n",
      " 10  Bedroom         13580 non-null  int64         \n",
      " 11  Bathroom        13580 non-null  int64         \n",
      " 12  Car             13580 non-null  int64         \n",
      " 13  Landsize        13580 non-null  float64       \n",
      " 14  BuildingArea    13580 non-null  float64       \n",
      " 15  CouncilArea     12211 non-null  object        \n",
      " 16  Lattitude       13580 non-null  float64       \n",
      " 17  Longtitude      13580 non-null  float64       \n",
      " 18  Regionname      13580 non-null  object        \n",
      " 19  Propertycount   13580 non-null  int64         \n",
      " 20  MeanRoomSquare  13580 non-null  float64       \n",
      " 21  AreaRatio       13580 non-null  float64       \n",
      " 22  MonthSale       13580 non-null  int64         \n",
      " 23  AgeBuilding     13580 non-null  int64         \n",
      "dtypes: datetime64[ns](1), float64(8), int64(8), object(7)\n",
      "memory usage: 2.5+ MB\n"
     ]
    }
   ],
   "source": [
    "melb_df = melb_df.drop('YearBuilt', axis=1)\n",
    "melb_df.info()"
   ]
  },
  {
   "cell_type": "markdown",
   "id": "waiting-strike",
   "metadata": {},
   "source": [
    "----\n",
    "\n",
    "### Задание 3.3 ###\n",
    "\n",
    "Создать в таблице `melb_df` признак `WeekdaySale` (день недели). Найти, сколько объектов недвижимости было продано в выходные (суббота и воскресенье), результат занести в переменную `weekend_count`."
   ]
  },
  {
   "cell_type": "code",
   "execution_count": 15,
   "id": "respected-interface",
   "metadata": {},
   "outputs": [
    {
     "name": "stdout",
     "output_type": "stream",
     "text": [
      "<class 'pandas.core.frame.DataFrame'>\n",
      "RangeIndex: 13580 entries, 0 to 13579\n",
      "Data columns (total 25 columns):\n",
      " #   Column          Non-Null Count  Dtype         \n",
      "---  ------          --------------  -----         \n",
      " 0   Suburb          13580 non-null  object        \n",
      " 1   Address         13580 non-null  object        \n",
      " 2   Rooms           13580 non-null  int64         \n",
      " 3   Type            13580 non-null  object        \n",
      " 4   Price           13580 non-null  float64       \n",
      " 5   Method          13580 non-null  object        \n",
      " 6   SellerG         13580 non-null  object        \n",
      " 7   Date            13580 non-null  datetime64[ns]\n",
      " 8   Distance        13580 non-null  float64       \n",
      " 9   Postcode        13580 non-null  int64         \n",
      " 10  Bedroom         13580 non-null  int64         \n",
      " 11  Bathroom        13580 non-null  int64         \n",
      " 12  Car             13580 non-null  int64         \n",
      " 13  Landsize        13580 non-null  float64       \n",
      " 14  BuildingArea    13580 non-null  float64       \n",
      " 15  CouncilArea     12211 non-null  object        \n",
      " 16  Lattitude       13580 non-null  float64       \n",
      " 17  Longtitude      13580 non-null  float64       \n",
      " 18  Regionname      13580 non-null  object        \n",
      " 19  Propertycount   13580 non-null  int64         \n",
      " 20  MeanRoomSquare  13580 non-null  float64       \n",
      " 21  AreaRatio       13580 non-null  float64       \n",
      " 22  MonthSale       13580 non-null  int64         \n",
      " 23  AgeBuilding     13580 non-null  int64         \n",
      " 24  WeekdaySale     13580 non-null  int64         \n",
      "dtypes: datetime64[ns](1), float64(8), int64(9), object(7)\n",
      "memory usage: 2.6+ MB\n"
     ]
    },
    {
     "data": {
      "text/plain": [
       "None"
      ]
     },
     "metadata": {},
     "output_type": "display_data"
    },
    {
     "data": {
      "text/plain": [
       "0        5\n",
       "1        3\n",
       "2        5\n",
       "3        5\n",
       "4        5\n",
       "        ..\n",
       "13575    5\n",
       "13576    5\n",
       "13577    5\n",
       "13578    5\n",
       "13579    5\n",
       "Name: WeekdaySale, Length: 13580, dtype: int64"
      ]
     },
     "metadata": {},
     "output_type": "display_data"
    },
    {
     "name": "stdout",
     "output_type": "stream",
     "text": [
      "Weekend Count =  12822\n"
     ]
    }
   ],
   "source": [
    "melb_df['WeekdaySale'] = melb_df['Date'].dt.weekday\n",
    "display(melb_df.info())\n",
    "display(melb_df['WeekdaySale'])\n",
    "holiday_mask = melb_df['WeekdaySale'] > 4\n",
    "weekend_count = holiday_mask.sum()\n",
    "print('Weekend Count = ', weekend_count)"
   ]
  },
  {
   "cell_type": "markdown",
   "id": "nominated-fence",
   "metadata": {},
   "source": [
    "----\n",
    "\n",
    "# Вводные данные для выполнения заданий 3.4-3.5 #\n",
    "\n",
    "Представлены данные (в формате csv) об отчётах очевидцев НЛО в США за период с 1930 по 2020 год.\n",
    "\n",
    "В данных есть следующие признаки:\n",
    "```text\n",
    "\"City\" — город, где был замечен НЛО;\n",
    "\"Colors Reported\" — цвет объекта;\n",
    "\"Shape Reported\" — форма объекта;\n",
    "\"State\" — обозначение штата;\n",
    "\"Time\" — время, когда был замечен НЛО (данные отсортированы от старых наблюдений к новым). \n",
    "```\n",
    "Прочитать данные, сделать преобразование времени к формату `datetime` и выполнить задания ниже."
   ]
  },
  {
   "cell_type": "code",
   "execution_count": 16,
   "id": "fantastic-picnic",
   "metadata": {},
   "outputs": [
    {
     "data": {
      "text/html": [
       "<div>\n",
       "<style scoped>\n",
       "    .dataframe tbody tr th:only-of-type {\n",
       "        vertical-align: middle;\n",
       "    }\n",
       "\n",
       "    .dataframe tbody tr th {\n",
       "        vertical-align: top;\n",
       "    }\n",
       "\n",
       "    .dataframe thead th {\n",
       "        text-align: right;\n",
       "    }\n",
       "</style>\n",
       "<table border=\"1\" class=\"dataframe\">\n",
       "  <thead>\n",
       "    <tr style=\"text-align: right;\">\n",
       "      <th></th>\n",
       "      <th>City</th>\n",
       "      <th>Colors Reported</th>\n",
       "      <th>Shape Reported</th>\n",
       "      <th>State</th>\n",
       "      <th>Time</th>\n",
       "    </tr>\n",
       "  </thead>\n",
       "  <tbody>\n",
       "    <tr>\n",
       "      <th>0</th>\n",
       "      <td>Ithaca</td>\n",
       "      <td>NaN</td>\n",
       "      <td>TRIANGLE</td>\n",
       "      <td>NY</td>\n",
       "      <td>6/1/1930 22:00</td>\n",
       "    </tr>\n",
       "    <tr>\n",
       "      <th>1</th>\n",
       "      <td>Willingboro</td>\n",
       "      <td>NaN</td>\n",
       "      <td>OTHER</td>\n",
       "      <td>NJ</td>\n",
       "      <td>6/30/1930 20:00</td>\n",
       "    </tr>\n",
       "    <tr>\n",
       "      <th>2</th>\n",
       "      <td>Holyoke</td>\n",
       "      <td>NaN</td>\n",
       "      <td>OVAL</td>\n",
       "      <td>CO</td>\n",
       "      <td>2/15/1931 14:00</td>\n",
       "    </tr>\n",
       "    <tr>\n",
       "      <th>3</th>\n",
       "      <td>Abilene</td>\n",
       "      <td>NaN</td>\n",
       "      <td>DISK</td>\n",
       "      <td>KS</td>\n",
       "      <td>6/1/1931 13:00</td>\n",
       "    </tr>\n",
       "    <tr>\n",
       "      <th>4</th>\n",
       "      <td>New York Worlds Fair</td>\n",
       "      <td>NaN</td>\n",
       "      <td>LIGHT</td>\n",
       "      <td>NY</td>\n",
       "      <td>4/18/1933 19:00</td>\n",
       "    </tr>\n",
       "    <tr>\n",
       "      <th>...</th>\n",
       "      <td>...</td>\n",
       "      <td>...</td>\n",
       "      <td>...</td>\n",
       "      <td>...</td>\n",
       "      <td>...</td>\n",
       "    </tr>\n",
       "    <tr>\n",
       "      <th>18236</th>\n",
       "      <td>Grant Park</td>\n",
       "      <td>NaN</td>\n",
       "      <td>TRIANGLE</td>\n",
       "      <td>IL</td>\n",
       "      <td>12/31/2000 23:00</td>\n",
       "    </tr>\n",
       "    <tr>\n",
       "      <th>18237</th>\n",
       "      <td>Spirit Lake</td>\n",
       "      <td>NaN</td>\n",
       "      <td>DISK</td>\n",
       "      <td>IA</td>\n",
       "      <td>12/31/2000 23:00</td>\n",
       "    </tr>\n",
       "    <tr>\n",
       "      <th>18238</th>\n",
       "      <td>Eagle River</td>\n",
       "      <td>NaN</td>\n",
       "      <td>NaN</td>\n",
       "      <td>WI</td>\n",
       "      <td>12/31/2000 23:45</td>\n",
       "    </tr>\n",
       "    <tr>\n",
       "      <th>18239</th>\n",
       "      <td>Eagle River</td>\n",
       "      <td>RED</td>\n",
       "      <td>LIGHT</td>\n",
       "      <td>WI</td>\n",
       "      <td>12/31/2000 23:45</td>\n",
       "    </tr>\n",
       "    <tr>\n",
       "      <th>18240</th>\n",
       "      <td>Ybor</td>\n",
       "      <td>NaN</td>\n",
       "      <td>OVAL</td>\n",
       "      <td>FL</td>\n",
       "      <td>12/31/2000 23:59</td>\n",
       "    </tr>\n",
       "  </tbody>\n",
       "</table>\n",
       "<p>18241 rows × 5 columns</p>\n",
       "</div>"
      ],
      "text/plain": [
       "                       City Colors Reported Shape Reported State              Time\n",
       "0                    Ithaca             NaN       TRIANGLE    NY    6/1/1930 22:00\n",
       "1               Willingboro             NaN          OTHER    NJ   6/30/1930 20:00\n",
       "2                   Holyoke             NaN           OVAL    CO   2/15/1931 14:00\n",
       "3                   Abilene             NaN           DISK    KS    6/1/1931 13:00\n",
       "4      New York Worlds Fair             NaN          LIGHT    NY   4/18/1933 19:00\n",
       "...                     ...             ...            ...   ...               ...\n",
       "18236            Grant Park             NaN       TRIANGLE    IL  12/31/2000 23:00\n",
       "18237           Spirit Lake             NaN           DISK    IA  12/31/2000 23:00\n",
       "18238           Eagle River             NaN            NaN    WI  12/31/2000 23:45\n",
       "18239           Eagle River             RED          LIGHT    WI  12/31/2000 23:45\n",
       "18240                  Ybor             NaN           OVAL    FL  12/31/2000 23:59\n",
       "\n",
       "[18241 rows x 5 columns]"
      ]
     },
     "metadata": {},
     "output_type": "display_data"
    },
    {
     "name": "stdout",
     "output_type": "stream",
     "text": [
      "<class 'pandas.core.frame.DataFrame'>\n",
      "RangeIndex: 18241 entries, 0 to 18240\n",
      "Data columns (total 5 columns):\n",
      " #   Column           Non-Null Count  Dtype \n",
      "---  ------           --------------  ----- \n",
      " 0   City             18216 non-null  object\n",
      " 1   Colors Reported  2882 non-null   object\n",
      " 2   Shape Reported   15597 non-null  object\n",
      " 3   State            18241 non-null  object\n",
      " 4   Time             18241 non-null  object\n",
      "dtypes: object(5)\n",
      "memory usage: 712.7+ KB\n"
     ]
    },
    {
     "data": {
      "text/plain": [
       "None"
      ]
     },
     "metadata": {},
     "output_type": "display_data"
    },
    {
     "name": "stdout",
     "output_type": "stream",
     "text": [
      "Shape =  (18241, 5)\n"
     ]
    }
   ],
   "source": [
    "ufo_df = pd.read_csv('data/ufo.csv', sep=',')\n",
    "display(ufo_df)\n",
    "display(ufo_df.info())\n",
    "print('Shape = ', ufo_df.shape)"
   ]
  },
  {
   "cell_type": "code",
   "execution_count": 17,
   "id": "julian-there",
   "metadata": {},
   "outputs": [
    {
     "name": "stdout",
     "output_type": "stream",
     "text": [
      "<class 'pandas.core.frame.DataFrame'>\n",
      "RangeIndex: 18241 entries, 0 to 18240\n",
      "Data columns (total 5 columns):\n",
      " #   Column           Non-Null Count  Dtype         \n",
      "---  ------           --------------  -----         \n",
      " 0   City             18216 non-null  object        \n",
      " 1   Colors Reported  2882 non-null   object        \n",
      " 2   Shape Reported   15597 non-null  object        \n",
      " 3   State            18241 non-null  object        \n",
      " 4   Time             18241 non-null  datetime64[ns]\n",
      "dtypes: datetime64[ns](1), object(4)\n",
      "memory usage: 712.7+ KB\n"
     ]
    },
    {
     "data": {
      "text/plain": [
       "None"
      ]
     },
     "metadata": {},
     "output_type": "display_data"
    }
   ],
   "source": [
    "ufo_df['Time'] = pd.to_datetime(ufo_df['Time'])\n",
    "display(ufo_df.info())"
   ]
  },
  {
   "cell_type": "markdown",
   "id": "hourly-evolution",
   "metadata": {},
   "source": [
    "----\n",
    "\n",
    "###  Задание 3.4 ###\n",
    "\n",
    "В каком году отмечается наибольшее количество случаев наблюдения НЛО в США?"
   ]
  },
  {
   "cell_type": "code",
   "execution_count": 18,
   "id": "foster-belle",
   "metadata": {},
   "outputs": [
    {
     "data": {
      "text/plain": [
       "0    1999\n",
       "Name: Time, dtype: int64"
      ]
     },
     "metadata": {},
     "output_type": "display_data"
    }
   ],
   "source": [
    "year_only = ufo_df['Time'].dt.year\n",
    "display(year_only.mode())"
   ]
  },
  {
   "cell_type": "markdown",
   "id": "written-feelings",
   "metadata": {},
   "source": [
    "----\n",
    "\n",
    "###  Задание 3.5 ###\n",
    "\n",
    "Найти средний интервал времени (в днях) между двумя последовательными случаями наблюдения НЛО в штате Невада (NV).\n",
    "\n",
    "    Чтобы выделить дату из столбца `Time`, можно воспользоваться атрибутом `datetime` `date`.\n",
    "    Чтобы вычислить разницу между двумя соседними датами в столбце, примените к нему метод `diff()`.\n",
    "    Чтобы перевести интервал времени в дни, воспользуйтесь атрибутом `timedelta` `days`.\n"
   ]
  },
  {
   "cell_type": "code",
   "execution_count": 19,
   "id": "under-amazon",
   "metadata": {},
   "outputs": [
    {
     "data": {
      "text/html": [
       "<div>\n",
       "<style scoped>\n",
       "    .dataframe tbody tr th:only-of-type {\n",
       "        vertical-align: middle;\n",
       "    }\n",
       "\n",
       "    .dataframe tbody tr th {\n",
       "        vertical-align: top;\n",
       "    }\n",
       "\n",
       "    .dataframe thead th {\n",
       "        text-align: right;\n",
       "    }\n",
       "</style>\n",
       "<table border=\"1\" class=\"dataframe\">\n",
       "  <thead>\n",
       "    <tr style=\"text-align: right;\">\n",
       "      <th></th>\n",
       "      <th>City</th>\n",
       "      <th>Colors Reported</th>\n",
       "      <th>Shape Reported</th>\n",
       "      <th>State</th>\n",
       "      <th>Time</th>\n",
       "    </tr>\n",
       "  </thead>\n",
       "  <tbody>\n",
       "    <tr>\n",
       "      <th>76</th>\n",
       "      <td>Las Vegas</td>\n",
       "      <td>NaN</td>\n",
       "      <td>DISK</td>\n",
       "      <td>NV</td>\n",
       "      <td>1947-07-15 10:00:00</td>\n",
       "    </tr>\n",
       "    <tr>\n",
       "      <th>172</th>\n",
       "      <td>Nellis AFB</td>\n",
       "      <td>NaN</td>\n",
       "      <td>DISK</td>\n",
       "      <td>NV</td>\n",
       "      <td>1952-02-17 18:00:00</td>\n",
       "    </tr>\n",
       "    <tr>\n",
       "      <th>565</th>\n",
       "      <td>Fallon</td>\n",
       "      <td>NaN</td>\n",
       "      <td>OVAL</td>\n",
       "      <td>NV</td>\n",
       "      <td>1959-09-15 00:00:00</td>\n",
       "    </tr>\n",
       "    <tr>\n",
       "      <th>566</th>\n",
       "      <td>Goldfield</td>\n",
       "      <td>NaN</td>\n",
       "      <td>LIGHT</td>\n",
       "      <td>NV</td>\n",
       "      <td>1959-09-15 01:00:00</td>\n",
       "    </tr>\n",
       "    <tr>\n",
       "      <th>613</th>\n",
       "      <td>NaN</td>\n",
       "      <td>NaN</td>\n",
       "      <td>DISK</td>\n",
       "      <td>NV</td>\n",
       "      <td>1960-07-01 12:00:00</td>\n",
       "    </tr>\n",
       "    <tr>\n",
       "      <th>...</th>\n",
       "      <td>...</td>\n",
       "      <td>...</td>\n",
       "      <td>...</td>\n",
       "      <td>...</td>\n",
       "      <td>...</td>\n",
       "    </tr>\n",
       "    <tr>\n",
       "      <th>17447</th>\n",
       "      <td>Laughlin</td>\n",
       "      <td>NaN</td>\n",
       "      <td>FORMATION</td>\n",
       "      <td>NV</td>\n",
       "      <td>2000-09-16 22:00:00</td>\n",
       "    </tr>\n",
       "    <tr>\n",
       "      <th>17567</th>\n",
       "      <td>Las Vegas</td>\n",
       "      <td>NaN</td>\n",
       "      <td>SPHERE</td>\n",
       "      <td>NV</td>\n",
       "      <td>2000-09-30 22:25:00</td>\n",
       "    </tr>\n",
       "    <tr>\n",
       "      <th>17617</th>\n",
       "      <td>Las Vegas</td>\n",
       "      <td>RED YELLOW</td>\n",
       "      <td>OTHER</td>\n",
       "      <td>NV</td>\n",
       "      <td>2000-10-06 20:25:00</td>\n",
       "    </tr>\n",
       "    <tr>\n",
       "      <th>17890</th>\n",
       "      <td>Reno</td>\n",
       "      <td>NaN</td>\n",
       "      <td>TRIANGLE</td>\n",
       "      <td>NV</td>\n",
       "      <td>2000-11-07 02:15:00</td>\n",
       "    </tr>\n",
       "    <tr>\n",
       "      <th>18104</th>\n",
       "      <td>Las Vegas</td>\n",
       "      <td>NaN</td>\n",
       "      <td>TRIANGLE</td>\n",
       "      <td>NV</td>\n",
       "      <td>2000-12-10 17:30:00</td>\n",
       "    </tr>\n",
       "  </tbody>\n",
       "</table>\n",
       "<p>284 rows × 5 columns</p>\n",
       "</div>"
      ],
      "text/plain": [
       "             City Colors Reported Shape Reported State                Time\n",
       "76      Las Vegas             NaN           DISK    NV 1947-07-15 10:00:00\n",
       "172    Nellis AFB             NaN           DISK    NV 1952-02-17 18:00:00\n",
       "565        Fallon             NaN           OVAL    NV 1959-09-15 00:00:00\n",
       "566     Goldfield             NaN          LIGHT    NV 1959-09-15 01:00:00\n",
       "613           NaN             NaN           DISK    NV 1960-07-01 12:00:00\n",
       "...           ...             ...            ...   ...                 ...\n",
       "17447    Laughlin             NaN      FORMATION    NV 2000-09-16 22:00:00\n",
       "17567   Las Vegas             NaN         SPHERE    NV 2000-09-30 22:25:00\n",
       "17617   Las Vegas      RED YELLOW          OTHER    NV 2000-10-06 20:25:00\n",
       "17890        Reno             NaN       TRIANGLE    NV 2000-11-07 02:15:00\n",
       "18104   Las Vegas             NaN       TRIANGLE    NV 2000-12-10 17:30:00\n",
       "\n",
       "[284 rows x 5 columns]"
      ]
     },
     "metadata": {},
     "output_type": "display_data"
    },
    {
     "name": "stdout",
     "output_type": "stream",
     "text": [
      "Mean interval for Nevada = 69 days\n"
     ]
    }
   ],
   "source": [
    "nv_df = ufo_df[ufo_df['State'] == 'NV']\n",
    "display(nv_df)\n",
    "dates = nv_df['Time'].dt.date.diff()\n",
    "print('Mean interval for Nevada =', round(dates.dt.days.mean()), 'days')"
   ]
  },
  {
   "cell_type": "markdown",
   "id": "appointed-peripheral",
   "metadata": {},
   "source": [
    "# Создание и преобразование столбцов с помощью функций #"
   ]
  },
  {
   "cell_type": "code",
   "execution_count": 20,
   "id": "voluntary-affiliate",
   "metadata": {},
   "outputs": [
    {
     "data": {
      "text/plain": [
       "13378"
      ]
     },
     "execution_count": 20,
     "metadata": {},
     "output_type": "execute_result"
    }
   ],
   "source": [
    "melb_df['Address'].nunique()"
   ]
  },
  {
   "cell_type": "code",
   "execution_count": 21,
   "id": "bibliographic-bracket",
   "metadata": {},
   "outputs": [
    {
     "name": "stdout",
     "output_type": "stream",
     "text": [
      "2/119 Railway St N\n",
      "9/400 Dandenong Rd\n",
      "172 Danks St\n"
     ]
    }
   ],
   "source": [
    "print(melb_df['Address'].loc[177])\n",
    "print(melb_df['Address'].loc[1812])\n",
    "print(melb_df['Address'].loc[9001])"
   ]
  },
  {
   "cell_type": "code",
   "execution_count": 22,
   "id": "solar-selling",
   "metadata": {},
   "outputs": [
    {
     "data": {
      "text/plain": [
       "0        St\n",
       "1        St\n",
       "2        St\n",
       "3        La\n",
       "4        St\n",
       "         ..\n",
       "13575    Cr\n",
       "13576    Dr\n",
       "13577    St\n",
       "13578    St\n",
       "13579    St\n",
       "Name: Address, Length: 13580, dtype: object"
      ]
     },
     "metadata": {},
     "output_type": "display_data"
    },
    {
     "name": "stdout",
     "output_type": "stream",
     "text": [
      "56 уникальных значений\n"
     ]
    }
   ],
   "source": [
    "def get_street_type(address):\n",
    "    exclude_list = ['N', 'S', 'E', 'W']\n",
    "    address_list = address.split(' ')\n",
    "    street_type = address_list[-1]\n",
    "    if street_type in exclude_list:\n",
    "        street_type = address_list[-2]\n",
    "    return street_type\n",
    "\n",
    "street_types = melb_df['Address'].apply(get_street_type)\n",
    "display(street_types)\n",
    "print(street_types.nunique(), 'уникальных значений')"
   ]
  },
  {
   "cell_type": "code",
   "execution_count": 23,
   "id": "scientific-lemon",
   "metadata": {},
   "outputs": [
    {
     "data": {
      "text/plain": [
       "St           8012\n",
       "Rd           2825\n",
       "Ct            612\n",
       "Dr            447\n",
       "Av            321\n",
       "Gr            311\n",
       "Pde           211\n",
       "Pl            169\n",
       "Cr            152\n",
       "Cl            100\n",
       "La             67\n",
       "Bvd            53\n",
       "Tce            47\n",
       "Wy             40\n",
       "Avenue         40\n",
       "Cct            25\n",
       "Hwy            24\n",
       "Parade         15\n",
       "Boulevard      13\n",
       "Sq             11\n",
       "Crescent        9\n",
       "Cir             7\n",
       "Strand          7\n",
       "Esplanade       6\n",
       "Grove           5\n",
       "Gdns            4\n",
       "Grn             4\n",
       "Fairway         4\n",
       "Mews            4\n",
       "Crossway        3\n",
       "Righi           3\n",
       "Victoria        2\n",
       "Ridge           2\n",
       "Crofts          2\n",
       "Esp             2\n",
       "Glade           1\n",
       "Gra             1\n",
       "Ave             1\n",
       "Woodland        1\n",
       "Outlook         1\n",
       "Hts             1\n",
       "Highway         1\n",
       "Athol           1\n",
       "Summit          1\n",
       "Grand           1\n",
       "Res             1\n",
       "Nook            1\n",
       "Eyrie           1\n",
       "Dell            1\n",
       "East            1\n",
       "Loop            1\n",
       "Grange          1\n",
       "Terrace         1\n",
       "Cove            1\n",
       "Qy              1\n",
       "Corso           1\n",
       "Name: Address, dtype: int64"
      ]
     },
     "metadata": {},
     "output_type": "display_data"
    }
   ],
   "source": [
    "display(street_types.value_counts())"
   ]
  },
  {
   "cell_type": "code",
   "execution_count": 24,
   "id": "interstate-xerox",
   "metadata": {},
   "outputs": [
    {
     "name": "stdout",
     "output_type": "stream",
     "text": [
      "Index(['St', 'Rd', 'Ct', 'Dr', 'Av', 'Gr', 'Pde', 'Pl', 'Cr', 'Cl'], dtype='object')\n"
     ]
    }
   ],
   "source": [
    "popular_stypes = street_types.value_counts().nlargest(10).index\n",
    "print(popular_stypes)"
   ]
  },
  {
   "cell_type": "code",
   "execution_count": 25,
   "id": "technical-costa",
   "metadata": {},
   "outputs": [
    {
     "data": {
      "text/plain": [
       "0           St\n",
       "1           St\n",
       "2           St\n",
       "3        other\n",
       "4           St\n",
       "         ...  \n",
       "13575       Cr\n",
       "13576       Dr\n",
       "13577       St\n",
       "13578       St\n",
       "13579       St\n",
       "Name: StreetType, Length: 13580, dtype: object"
      ]
     },
     "metadata": {},
     "output_type": "display_data"
    },
    {
     "name": "stdout",
     "output_type": "stream",
     "text": [
      "Unique =  11\n"
     ]
    }
   ],
   "source": [
    "melb_df['StreetType'] = street_types.apply(lambda x: x if x in popular_stypes else 'other')\n",
    "display(melb_df['StreetType'])\n",
    "print('Unique = ', melb_df['StreetType'].nunique())"
   ]
  },
  {
   "cell_type": "code",
   "execution_count": 26,
   "id": "amino-western",
   "metadata": {},
   "outputs": [
    {
     "name": "stdout",
     "output_type": "stream",
     "text": [
      "<class 'pandas.core.frame.DataFrame'>\n",
      "RangeIndex: 13580 entries, 0 to 13579\n",
      "Data columns (total 25 columns):\n",
      " #   Column          Non-Null Count  Dtype         \n",
      "---  ------          --------------  -----         \n",
      " 0   Suburb          13580 non-null  object        \n",
      " 1   Rooms           13580 non-null  int64         \n",
      " 2   Type            13580 non-null  object        \n",
      " 3   Price           13580 non-null  float64       \n",
      " 4   Method          13580 non-null  object        \n",
      " 5   SellerG         13580 non-null  object        \n",
      " 6   Date            13580 non-null  datetime64[ns]\n",
      " 7   Distance        13580 non-null  float64       \n",
      " 8   Postcode        13580 non-null  int64         \n",
      " 9   Bedroom         13580 non-null  int64         \n",
      " 10  Bathroom        13580 non-null  int64         \n",
      " 11  Car             13580 non-null  int64         \n",
      " 12  Landsize        13580 non-null  float64       \n",
      " 13  BuildingArea    13580 non-null  float64       \n",
      " 14  CouncilArea     12211 non-null  object        \n",
      " 15  Lattitude       13580 non-null  float64       \n",
      " 16  Longtitude      13580 non-null  float64       \n",
      " 17  Regionname      13580 non-null  object        \n",
      " 18  Propertycount   13580 non-null  int64         \n",
      " 19  MeanRoomSquare  13580 non-null  float64       \n",
      " 20  AreaRatio       13580 non-null  float64       \n",
      " 21  MonthSale       13580 non-null  int64         \n",
      " 22  AgeBuilding     13580 non-null  int64         \n",
      " 23  WeekdaySale     13580 non-null  int64         \n",
      " 24  StreetType      13580 non-null  object        \n",
      "dtypes: datetime64[ns](1), float64(8), int64(9), object(7)\n",
      "memory usage: 2.6+ MB\n"
     ]
    }
   ],
   "source": [
    "melb_df = melb_df.drop('Address', axis=1)\n",
    "melb_df.info()"
   ]
  },
  {
   "cell_type": "markdown",
   "id": "painted-distance",
   "metadata": {},
   "source": [
    "----\n",
    "\n",
    "###  Задание 4.2 ###\n",
    "\n",
    "Написать функцию `get_weekend(weekday)`, которая принимает на вход элемент столбца `WeekdaySale` и возвращает 1, если день является выходным, и 0 — в противном случае, и создать столбец `Weekend` в таблице `melb_df` с помощью неё.\n",
    "\n",
    "Применить эту функцию к столбцу и вычислить среднюю цену объекта недвижимости, проданного в выходные дни. Результат округлить до целых."
   ]
  },
  {
   "cell_type": "code",
   "execution_count": 27,
   "id": "damaged-consumer",
   "metadata": {},
   "outputs": [],
   "source": [
    "def get_weekend(weekday):\n",
    "    if weekday > 4:\n",
    "        return 1\n",
    "    return 0\n",
    "\n",
    "melb_df['Weekend'] = melb_df['WeekdaySale'].apply(get_weekend)"
   ]
  },
  {
   "cell_type": "code",
   "execution_count": 28,
   "id": "coordinated-burden",
   "metadata": {},
   "outputs": [
    {
     "data": {
      "text/plain": [
       "1081199"
      ]
     },
     "execution_count": 28,
     "metadata": {},
     "output_type": "execute_result"
    }
   ],
   "source": [
    "weekend_sales = melb_df[melb_df['Weekend'] == 1]\n",
    "round(weekend_sales['Price'].mean())"
   ]
  },
  {
   "cell_type": "markdown",
   "id": "prospective-exercise",
   "metadata": {},
   "source": [
    "----\n",
    "\n",
    "###  Задание 4.3 ###\n",
    "\n",
    "Преобразовать столбец `SellerG` с наименованиями риелторских компаний в таблице `melb_df` следующим образом: оставить в столбце только 49 самых популярных компаний, а остальные обозначить как `other`.\n",
    "\n",
    "Найти, во сколько раз минимальная цена объектов недвижимости, проданных компанией 'Nelson', больше минимальной цены объектов, проданных компаниями, обозначенными как `other`. Ответ округлить до десятых."
   ]
  },
  {
   "cell_type": "code",
   "execution_count": 29,
   "id": "simple-mills",
   "metadata": {},
   "outputs": [
    {
     "name": "stdout",
     "output_type": "stream",
     "text": [
      "268\n"
     ]
    },
    {
     "data": {
      "text/plain": [
       "0          Biggin\n",
       "1          Biggin\n",
       "2          Biggin\n",
       "3          Biggin\n",
       "4          Nelson\n",
       "           ...   \n",
       "13575       Barry\n",
       "13576    Williams\n",
       "13577       Raine\n",
       "13578     Sweeney\n",
       "13579     Village\n",
       "Name: SellerG, Length: 13580, dtype: object"
      ]
     },
     "metadata": {},
     "output_type": "display_data"
    },
    {
     "name": "stdout",
     "output_type": "stream",
     "text": [
      "50\n"
     ]
    }
   ],
   "source": [
    "print(melb_df['SellerG'].nunique())\n",
    "best_sellers = melb_df['SellerG'].value_counts().nlargest(49).index\n",
    "melb_df['SellerG'] = melb_df['SellerG'].apply(lambda x: x if x in best_sellers else 'other')\n",
    "display(melb_df['SellerG'])\n",
    "print(melb_df['SellerG'].nunique())"
   ]
  },
  {
   "cell_type": "code",
   "execution_count": 30,
   "id": "conservative-cisco",
   "metadata": {},
   "outputs": [
    {
     "data": {
      "text/plain": [
       "1.3"
      ]
     },
     "execution_count": 30,
     "metadata": {},
     "output_type": "execute_result"
    }
   ],
   "source": [
    "nelson_min = melb_df[melb_df['SellerG'] == 'Nelson'].Price.min()\n",
    "other_min = melb_df[melb_df['SellerG'] == 'other'].Price.min()\n",
    "round(nelson_min / other_min, 1)"
   ]
  },
  {
   "cell_type": "markdown",
   "id": "spanish-barrel",
   "metadata": {},
   "source": [
    "# Тип данных Category #"
   ]
  },
  {
   "cell_type": "code",
   "execution_count": 31,
   "id": "bored-payment",
   "metadata": {},
   "outputs": [
    {
     "data": {
      "text/html": [
       "<div>\n",
       "<style scoped>\n",
       "    .dataframe tbody tr th:only-of-type {\n",
       "        vertical-align: middle;\n",
       "    }\n",
       "\n",
       "    .dataframe tbody tr th {\n",
       "        vertical-align: top;\n",
       "    }\n",
       "\n",
       "    .dataframe thead th {\n",
       "        text-align: right;\n",
       "    }\n",
       "</style>\n",
       "<table border=\"1\" class=\"dataframe\">\n",
       "  <thead>\n",
       "    <tr style=\"text-align: right;\">\n",
       "      <th></th>\n",
       "      <th>Column_Name</th>\n",
       "      <th>Num_Unique</th>\n",
       "      <th>Type</th>\n",
       "    </tr>\n",
       "  </thead>\n",
       "  <tbody>\n",
       "    <tr>\n",
       "      <th>0</th>\n",
       "      <td>Weekend</td>\n",
       "      <td>2</td>\n",
       "      <td>int64</td>\n",
       "    </tr>\n",
       "    <tr>\n",
       "      <th>1</th>\n",
       "      <td>Type</td>\n",
       "      <td>3</td>\n",
       "      <td>object</td>\n",
       "    </tr>\n",
       "    <tr>\n",
       "      <th>2</th>\n",
       "      <td>Method</td>\n",
       "      <td>5</td>\n",
       "      <td>object</td>\n",
       "    </tr>\n",
       "    <tr>\n",
       "      <th>3</th>\n",
       "      <td>WeekdaySale</td>\n",
       "      <td>5</td>\n",
       "      <td>int64</td>\n",
       "    </tr>\n",
       "    <tr>\n",
       "      <th>4</th>\n",
       "      <td>Regionname</td>\n",
       "      <td>8</td>\n",
       "      <td>object</td>\n",
       "    </tr>\n",
       "    <tr>\n",
       "      <th>5</th>\n",
       "      <td>Bathroom</td>\n",
       "      <td>9</td>\n",
       "      <td>int64</td>\n",
       "    </tr>\n",
       "    <tr>\n",
       "      <th>6</th>\n",
       "      <td>Rooms</td>\n",
       "      <td>9</td>\n",
       "      <td>int64</td>\n",
       "    </tr>\n",
       "    <tr>\n",
       "      <th>7</th>\n",
       "      <td>Car</td>\n",
       "      <td>11</td>\n",
       "      <td>int64</td>\n",
       "    </tr>\n",
       "    <tr>\n",
       "      <th>8</th>\n",
       "      <td>StreetType</td>\n",
       "      <td>11</td>\n",
       "      <td>object</td>\n",
       "    </tr>\n",
       "    <tr>\n",
       "      <th>9</th>\n",
       "      <td>Bedroom</td>\n",
       "      <td>12</td>\n",
       "      <td>int64</td>\n",
       "    </tr>\n",
       "    <tr>\n",
       "      <th>10</th>\n",
       "      <td>MonthSale</td>\n",
       "      <td>12</td>\n",
       "      <td>int64</td>\n",
       "    </tr>\n",
       "    <tr>\n",
       "      <th>11</th>\n",
       "      <td>CouncilArea</td>\n",
       "      <td>33</td>\n",
       "      <td>object</td>\n",
       "    </tr>\n",
       "    <tr>\n",
       "      <th>12</th>\n",
       "      <td>SellerG</td>\n",
       "      <td>50</td>\n",
       "      <td>object</td>\n",
       "    </tr>\n",
       "    <tr>\n",
       "      <th>13</th>\n",
       "      <td>Date</td>\n",
       "      <td>58</td>\n",
       "      <td>datetime64[ns]</td>\n",
       "    </tr>\n",
       "    <tr>\n",
       "      <th>14</th>\n",
       "      <td>AgeBuilding</td>\n",
       "      <td>152</td>\n",
       "      <td>int64</td>\n",
       "    </tr>\n",
       "    <tr>\n",
       "      <th>15</th>\n",
       "      <td>Postcode</td>\n",
       "      <td>198</td>\n",
       "      <td>int64</td>\n",
       "    </tr>\n",
       "    <tr>\n",
       "      <th>16</th>\n",
       "      <td>Distance</td>\n",
       "      <td>202</td>\n",
       "      <td>float64</td>\n",
       "    </tr>\n",
       "    <tr>\n",
       "      <th>17</th>\n",
       "      <td>Propertycount</td>\n",
       "      <td>311</td>\n",
       "      <td>int64</td>\n",
       "    </tr>\n",
       "    <tr>\n",
       "      <th>18</th>\n",
       "      <td>Suburb</td>\n",
       "      <td>314</td>\n",
       "      <td>object</td>\n",
       "    </tr>\n",
       "    <tr>\n",
       "      <th>19</th>\n",
       "      <td>BuildingArea</td>\n",
       "      <td>602</td>\n",
       "      <td>float64</td>\n",
       "    </tr>\n",
       "    <tr>\n",
       "      <th>20</th>\n",
       "      <td>MeanRoomSquare</td>\n",
       "      <td>1277</td>\n",
       "      <td>float64</td>\n",
       "    </tr>\n",
       "    <tr>\n",
       "      <th>21</th>\n",
       "      <td>Landsize</td>\n",
       "      <td>1448</td>\n",
       "      <td>float64</td>\n",
       "    </tr>\n",
       "    <tr>\n",
       "      <th>22</th>\n",
       "      <td>Price</td>\n",
       "      <td>2204</td>\n",
       "      <td>float64</td>\n",
       "    </tr>\n",
       "    <tr>\n",
       "      <th>23</th>\n",
       "      <td>Lattitude</td>\n",
       "      <td>6503</td>\n",
       "      <td>float64</td>\n",
       "    </tr>\n",
       "    <tr>\n",
       "      <th>24</th>\n",
       "      <td>AreaRatio</td>\n",
       "      <td>6521</td>\n",
       "      <td>float64</td>\n",
       "    </tr>\n",
       "    <tr>\n",
       "      <th>25</th>\n",
       "      <td>Longtitude</td>\n",
       "      <td>7063</td>\n",
       "      <td>float64</td>\n",
       "    </tr>\n",
       "  </tbody>\n",
       "</table>\n",
       "</div>"
      ],
      "text/plain": [
       "       Column_Name  Num_Unique            Type\n",
       "0          Weekend           2           int64\n",
       "1             Type           3          object\n",
       "2           Method           5          object\n",
       "3      WeekdaySale           5           int64\n",
       "4       Regionname           8          object\n",
       "5         Bathroom           9           int64\n",
       "6            Rooms           9           int64\n",
       "7              Car          11           int64\n",
       "8       StreetType          11          object\n",
       "9          Bedroom          12           int64\n",
       "10       MonthSale          12           int64\n",
       "11     CouncilArea          33          object\n",
       "12         SellerG          50          object\n",
       "13            Date          58  datetime64[ns]\n",
       "14     AgeBuilding         152           int64\n",
       "15        Postcode         198           int64\n",
       "16        Distance         202         float64\n",
       "17   Propertycount         311           int64\n",
       "18          Suburb         314          object\n",
       "19    BuildingArea         602         float64\n",
       "20  MeanRoomSquare        1277         float64\n",
       "21        Landsize        1448         float64\n",
       "22           Price        2204         float64\n",
       "23       Lattitude        6503         float64\n",
       "24       AreaRatio        6521         float64\n",
       "25      Longtitude        7063         float64"
      ]
     },
     "metadata": {},
     "output_type": "display_data"
    }
   ],
   "source": [
    "unique_list = []\n",
    "for col in melb_df.columns:\n",
    "    item = (col, melb_df[col].nunique(), melb_df[col].dtypes)\n",
    "    unique_list.append(item)\n",
    "unique_counts = pd.DataFrame(\n",
    "    unique_list,\n",
    "    columns=['Column_Name', 'Num_Unique', 'Type']\n",
    ").sort_values(by='Num_Unique', ignore_index=True)\n",
    "display(unique_counts)"
   ]
  },
  {
   "cell_type": "code",
   "execution_count": 32,
   "id": "accepted-blame",
   "metadata": {},
   "outputs": [
    {
     "name": "stdout",
     "output_type": "stream",
     "text": [
      "<class 'pandas.core.frame.DataFrame'>\n",
      "RangeIndex: 13580 entries, 0 to 13579\n",
      "Data columns (total 26 columns):\n",
      " #   Column          Non-Null Count  Dtype         \n",
      "---  ------          --------------  -----         \n",
      " 0   Suburb          13580 non-null  object        \n",
      " 1   Rooms           13580 non-null  int64         \n",
      " 2   Type            13580 non-null  object        \n",
      " 3   Price           13580 non-null  float64       \n",
      " 4   Method          13580 non-null  object        \n",
      " 5   SellerG         13580 non-null  object        \n",
      " 6   Date            13580 non-null  datetime64[ns]\n",
      " 7   Distance        13580 non-null  float64       \n",
      " 8   Postcode        13580 non-null  int64         \n",
      " 9   Bedroom         13580 non-null  int64         \n",
      " 10  Bathroom        13580 non-null  int64         \n",
      " 11  Car             13580 non-null  int64         \n",
      " 12  Landsize        13580 non-null  float64       \n",
      " 13  BuildingArea    13580 non-null  float64       \n",
      " 14  CouncilArea     12211 non-null  object        \n",
      " 15  Lattitude       13580 non-null  float64       \n",
      " 16  Longtitude      13580 non-null  float64       \n",
      " 17  Regionname      13580 non-null  object        \n",
      " 18  Propertycount   13580 non-null  int64         \n",
      " 19  MeanRoomSquare  13580 non-null  float64       \n",
      " 20  AreaRatio       13580 non-null  float64       \n",
      " 21  MonthSale       13580 non-null  int64         \n",
      " 22  AgeBuilding     13580 non-null  int64         \n",
      " 23  WeekdaySale     13580 non-null  int64         \n",
      " 24  StreetType      13580 non-null  object        \n",
      " 25  Weekend         13580 non-null  int64         \n",
      "dtypes: datetime64[ns](1), float64(8), int64(10), object(7)\n",
      "memory usage: 2.7+ MB\n"
     ]
    },
    {
     "data": {
      "text/plain": [
       "None"
      ]
     },
     "metadata": {},
     "output_type": "display_data"
    }
   ],
   "source": [
    "display(melb_df.info())"
   ]
  },
  {
   "cell_type": "code",
   "execution_count": 33,
   "id": "northern-indication",
   "metadata": {},
   "outputs": [
    {
     "name": "stdout",
     "output_type": "stream",
     "text": [
      "<class 'pandas.core.frame.DataFrame'>\n",
      "RangeIndex: 13580 entries, 0 to 13579\n",
      "Data columns (total 26 columns):\n",
      " #   Column          Non-Null Count  Dtype         \n",
      "---  ------          --------------  -----         \n",
      " 0   Suburb          13580 non-null  object        \n",
      " 1   Rooms           13580 non-null  int64         \n",
      " 2   Type            13580 non-null  category      \n",
      " 3   Price           13580 non-null  float64       \n",
      " 4   Method          13580 non-null  category      \n",
      " 5   SellerG         13580 non-null  category      \n",
      " 6   Date            13580 non-null  datetime64[ns]\n",
      " 7   Distance        13580 non-null  float64       \n",
      " 8   Postcode        13580 non-null  int64         \n",
      " 9   Bedroom         13580 non-null  int64         \n",
      " 10  Bathroom        13580 non-null  int64         \n",
      " 11  Car             13580 non-null  int64         \n",
      " 12  Landsize        13580 non-null  float64       \n",
      " 13  BuildingArea    13580 non-null  float64       \n",
      " 14  CouncilArea     12211 non-null  category      \n",
      " 15  Lattitude       13580 non-null  float64       \n",
      " 16  Longtitude      13580 non-null  float64       \n",
      " 17  Regionname      13580 non-null  category      \n",
      " 18  Propertycount   13580 non-null  int64         \n",
      " 19  MeanRoomSquare  13580 non-null  float64       \n",
      " 20  AreaRatio       13580 non-null  float64       \n",
      " 21  MonthSale       13580 non-null  category      \n",
      " 22  AgeBuilding     13580 non-null  int64         \n",
      " 23  WeekdaySale     13580 non-null  category      \n",
      " 24  StreetType      13580 non-null  category      \n",
      " 25  Weekend         13580 non-null  category      \n",
      "dtypes: category(9), datetime64[ns](1), float64(8), int64(7), object(1)\n",
      "memory usage: 1.9+ MB\n"
     ]
    },
    {
     "data": {
      "text/plain": [
       "None"
      ]
     },
     "metadata": {},
     "output_type": "display_data"
    }
   ],
   "source": [
    "cols_to_exclude = ['Date', 'Rooms', 'Bedroom', 'Bathroom', 'Car']\n",
    "max_unique_count = 150\n",
    "for col in melb_df.columns:\n",
    "    if melb_df[col].nunique() < max_unique_count and col not in cols_to_exclude:\n",
    "        melb_df[col] = melb_df[col].astype('category')\n",
    "display(melb_df.info())"
   ]
  },
  {
   "cell_type": "code",
   "execution_count": 34,
   "id": "difficult-invite",
   "metadata": {},
   "outputs": [
    {
     "name": "stdout",
     "output_type": "stream",
     "text": [
      "Index(['Eastern Metropolitan', 'Eastern Victoria', 'Northern Metropolitan',\n",
      "       'Northern Victoria', 'South-Eastern Metropolitan',\n",
      "       'Southern Metropolitan', 'Western Metropolitan', 'Western Victoria'],\n",
      "      dtype='object')\n"
     ]
    }
   ],
   "source": [
    "print(melb_df['Regionname'].cat.categories)"
   ]
  },
  {
   "cell_type": "code",
   "execution_count": 35,
   "id": "third-sustainability",
   "metadata": {},
   "outputs": [
    {
     "data": {
      "text/plain": [
       "0        2\n",
       "1        2\n",
       "2        2\n",
       "3        2\n",
       "4        2\n",
       "        ..\n",
       "13575    4\n",
       "13576    6\n",
       "13577    6\n",
       "13578    6\n",
       "13579    6\n",
       "Length: 13580, dtype: int8"
      ]
     },
     "metadata": {},
     "output_type": "display_data"
    }
   ],
   "source": [
    "display(melb_df['Regionname'].cat.codes)"
   ]
  },
  {
   "cell_type": "code",
   "execution_count": 36,
   "id": "broken-emergency",
   "metadata": {},
   "outputs": [
    {
     "data": {
      "text/plain": [
       "0        house\n",
       "1        house\n",
       "2        house\n",
       "3        house\n",
       "4        house\n",
       "         ...  \n",
       "13575    house\n",
       "13576    house\n",
       "13577    house\n",
       "13578    house\n",
       "13579    house\n",
       "Name: Type, Length: 13580, dtype: category\n",
       "Categories (3, object): ['house', 'townhouse', 'unit']"
      ]
     },
     "metadata": {},
     "output_type": "display_data"
    }
   ],
   "source": [
    "melb_df['Type'] = melb_df['Type'].cat.rename_categories({\n",
    "    'u': 'unit',\n",
    "    't': 'townhouse',\n",
    "    'h': 'house'\n",
    "})\n",
    "display(melb_df['Type'])"
   ]
  },
  {
   "cell_type": "code",
   "execution_count": 37,
   "id": "institutional-corporation",
   "metadata": {},
   "outputs": [
    {
     "data": {
      "text/plain": [
       "0     unit\n",
       "1    house\n",
       "2     flat\n",
       "3     flat\n",
       "4    house\n",
       "dtype: category\n",
       "Categories (4, object): ['house', 'townhouse', 'unit', 'flat']"
      ]
     },
     "metadata": {},
     "output_type": "display_data"
    }
   ],
   "source": [
    "melb_df['Type'] = melb_df['Type'].cat.add_categories('flat')\n",
    "new_houses_types = pd.Series(['unit', 'house', 'flat', 'flat', 'house'])\n",
    "new_houses_types = new_houses_types.astype(melb_df['Type'].dtype)\n",
    "display(new_houses_types)"
   ]
  },
  {
   "cell_type": "markdown",
   "id": "athletic-leader",
   "metadata": {},
   "source": [
    "----\n",
    "\n",
    "###  Задание 5.2 ###\n",
    "\n",
    "При преобразовании столбцов таблицы о недвижимости к типу `category` остался без внимания столбец `Suburb` (пригород). Предлагается исправить это.\n",
    "\n",
    "1. С помощью метода `info()` узнать, сколько памяти занимает таблица `melb_df`.\n",
    "2. Преобразовать признак **Suburb** следующим образом: оставить в столбце только 119 наиболее популярных пригородов, остальные заменить на **'other'**.\n",
    "3. Привести данные в столбце `Suburb` к категориальному типу.\n",
    "\n",
    "В качестве ответа записать разницу между объёмом занимаемой памяти до преобразования (который мы получили ранее в модуле) и после него в Мб. Ответ округлить до десятых.\n",
    "\n",
    "***Ответ - 0.1***"
   ]
  },
  {
   "cell_type": "code",
   "execution_count": 38,
   "id": "periodic-durham",
   "metadata": {},
   "outputs": [
    {
     "name": "stdout",
     "output_type": "stream",
     "text": [
      "<class 'pandas.core.frame.DataFrame'>\n",
      "RangeIndex: 13580 entries, 0 to 13579\n",
      "Data columns (total 26 columns):\n",
      " #   Column          Non-Null Count  Dtype         \n",
      "---  ------          --------------  -----         \n",
      " 0   Suburb          13580 non-null  object        \n",
      " 1   Rooms           13580 non-null  int64         \n",
      " 2   Type            13580 non-null  category      \n",
      " 3   Price           13580 non-null  float64       \n",
      " 4   Method          13580 non-null  category      \n",
      " 5   SellerG         13580 non-null  category      \n",
      " 6   Date            13580 non-null  datetime64[ns]\n",
      " 7   Distance        13580 non-null  float64       \n",
      " 8   Postcode        13580 non-null  int64         \n",
      " 9   Bedroom         13580 non-null  int64         \n",
      " 10  Bathroom        13580 non-null  int64         \n",
      " 11  Car             13580 non-null  int64         \n",
      " 12  Landsize        13580 non-null  float64       \n",
      " 13  BuildingArea    13580 non-null  float64       \n",
      " 14  CouncilArea     12211 non-null  category      \n",
      " 15  Lattitude       13580 non-null  float64       \n",
      " 16  Longtitude      13580 non-null  float64       \n",
      " 17  Regionname      13580 non-null  category      \n",
      " 18  Propertycount   13580 non-null  int64         \n",
      " 19  MeanRoomSquare  13580 non-null  float64       \n",
      " 20  AreaRatio       13580 non-null  float64       \n",
      " 21  MonthSale       13580 non-null  category      \n",
      " 22  AgeBuilding     13580 non-null  int64         \n",
      " 23  WeekdaySale     13580 non-null  category      \n",
      " 24  StreetType      13580 non-null  category      \n",
      " 25  Weekend         13580 non-null  category      \n",
      "dtypes: category(9), datetime64[ns](1), float64(8), int64(7), object(1)\n",
      "memory usage: 1.9+ MB\n"
     ]
    }
   ],
   "source": [
    "melb_df.info()"
   ]
  },
  {
   "cell_type": "code",
   "execution_count": 39,
   "id": "everyday-scholarship",
   "metadata": {},
   "outputs": [
    {
     "name": "stdout",
     "output_type": "stream",
     "text": [
      "<class 'pandas.core.frame.DataFrame'>\n",
      "RangeIndex: 13580 entries, 0 to 13579\n",
      "Data columns (total 26 columns):\n",
      " #   Column          Non-Null Count  Dtype         \n",
      "---  ------          --------------  -----         \n",
      " 0   Suburb          13580 non-null  category      \n",
      " 1   Rooms           13580 non-null  int64         \n",
      " 2   Type            13580 non-null  category      \n",
      " 3   Price           13580 non-null  float64       \n",
      " 4   Method          13580 non-null  category      \n",
      " 5   SellerG         13580 non-null  category      \n",
      " 6   Date            13580 non-null  datetime64[ns]\n",
      " 7   Distance        13580 non-null  float64       \n",
      " 8   Postcode        13580 non-null  int64         \n",
      " 9   Bedroom         13580 non-null  int64         \n",
      " 10  Bathroom        13580 non-null  int64         \n",
      " 11  Car             13580 non-null  int64         \n",
      " 12  Landsize        13580 non-null  float64       \n",
      " 13  BuildingArea    13580 non-null  float64       \n",
      " 14  CouncilArea     12211 non-null  category      \n",
      " 15  Lattitude       13580 non-null  float64       \n",
      " 16  Longtitude      13580 non-null  float64       \n",
      " 17  Regionname      13580 non-null  category      \n",
      " 18  Propertycount   13580 non-null  int64         \n",
      " 19  MeanRoomSquare  13580 non-null  float64       \n",
      " 20  AreaRatio       13580 non-null  float64       \n",
      " 21  MonthSale       13580 non-null  category      \n",
      " 22  AgeBuilding     13580 non-null  int64         \n",
      " 23  WeekdaySale     13580 non-null  category      \n",
      " 24  StreetType      13580 non-null  category      \n",
      " 25  Weekend         13580 non-null  category      \n",
      "dtypes: category(10), datetime64[ns](1), float64(8), int64(7)\n",
      "memory usage: 1.8 MB\n"
     ]
    },
    {
     "data": {
      "text/plain": [
       "None"
      ]
     },
     "metadata": {},
     "output_type": "display_data"
    }
   ],
   "source": [
    "popular_subs = melb_df['Suburb'].value_counts().nlargest(119).index\n",
    "melb_df['Suburb'] = melb_df['Suburb'].apply(lambda x: x if x in popular_subs else 'other')\n",
    "melb_df['Suburb'] = melb_df['Suburb'].astype('category')\n",
    "display(melb_df.info())"
   ]
  },
  {
   "cell_type": "markdown",
   "id": "hundred-warrior",
   "metadata": {},
   "source": [
    "# Задания по датасету велоспорта #\n",
    "\n",
    "Датасет представляет собой таблицу с информацией о 300 тысячах поездок за первые пять дней сентября 2018 года и включает в себя следующую информацию:\n",
    "- **`starttime`** — время начала поездки (дата, время);\n",
    "- **`stoptime`** — время окончания поездки (дата, время);\n",
    "- **`start station id`** — идентификатор стартовой стоянки;\n",
    "- **`start station name`** — название стартовой стоянки;\n",
    "- **`start station latitude`**, **`start station longitude`** — географическая широта и долгота стартовой стоянки;\n",
    "- **`end station id`** — идентификатор конечной стоянки;\n",
    "- **`end station name`** — название конечной стоянки;\n",
    "- **`end station latitude`**, **`end station longitude`** — географическая широта и долгота конечной стоянки;\n",
    "- **`bikeid`** — идентификатор велосипеда;\n",
    "- **`usertype`** — тип пользователя (Customer — клиент с подпиской на 24 часа или на три дня, Subscriber — подписчик с годовой арендой велосипеда);\n",
    "- **`birth year`** — год рождения клиента;\n",
    "- **`gender`** — пол клиента (0 — неизвестный, 1 — мужчина, 2 — женщина)."
   ]
  },
  {
   "cell_type": "code",
   "execution_count": 42,
   "id": "infectious-artist",
   "metadata": {},
   "outputs": [
    {
     "name": "stdout",
     "output_type": "stream",
     "text": [
      "<class 'pandas.core.frame.DataFrame'>\n",
      "RangeIndex: 300000 entries, 0 to 299999\n",
      "Data columns (total 14 columns):\n",
      " #   Column                   Non-Null Count   Dtype  \n",
      "---  ------                   --------------   -----  \n",
      " 0   starttime                300000 non-null  object \n",
      " 1   stoptime                 300000 non-null  object \n",
      " 2   start station id         299831 non-null  float64\n",
      " 3   start station name       299831 non-null  object \n",
      " 4   start station latitude   300000 non-null  float64\n",
      " 5   start station longitude  300000 non-null  float64\n",
      " 6   end station id           299831 non-null  float64\n",
      " 7   end station name         299831 non-null  object \n",
      " 8   end station latitude     300000 non-null  float64\n",
      " 9   end station longitude    300000 non-null  float64\n",
      " 10  bikeid                   300000 non-null  int64  \n",
      " 11  usertype                 300000 non-null  object \n",
      " 12  birth year               300000 non-null  int64  \n",
      " 13  gender                   300000 non-null  int64  \n",
      "dtypes: float64(6), int64(3), object(5)\n",
      "memory usage: 32.0+ MB\n"
     ]
    },
    {
     "data": {
      "text/plain": [
       "None"
      ]
     },
     "metadata": {},
     "output_type": "display_data"
    }
   ],
   "source": [
    "bike_data = pd.read_csv('data/citibike-tripdata.csv', sep=',')\n",
    "bike_df = bike_data.copy()\n",
    "display(bike_df.info())"
   ]
  },
  {
   "cell_type": "markdown",
   "id": "historic-batch",
   "metadata": {},
   "source": [
    "----\n",
    "\n",
    "###  Задание 6.1 ###\n",
    "\n",
    "Сколько пропусков в столбце `start station id`?\n",
    "\n",
    "***Ответ - 169***"
   ]
  },
  {
   "cell_type": "markdown",
   "id": "conditional-contrary",
   "metadata": {},
   "source": [
    "----\n",
    "\n",
    "###  Задание 6.2 ###\n",
    "\n",
    "Какой тип данных имеют столбцы `starttime` и `stoptime`?\n",
    "\n",
    "***Ответ - object***"
   ]
  },
  {
   "cell_type": "markdown",
   "id": "adopted-thong",
   "metadata": {},
   "source": [
    "----\n",
    "\n",
    "###  Задание 6.3 ###\n",
    "\n",
    "Найти идентификатор самой популярной стартовой стоянки. Записать идентификатор в виде целого числа.\n",
    "\n",
    "***Ответ - 281***"
   ]
  },
  {
   "cell_type": "code",
   "execution_count": 47,
   "id": "centered-stress",
   "metadata": {},
   "outputs": [
    {
     "name": "stdout",
     "output_type": "stream",
     "text": [
      "0    281.0\n",
      "Name: start station id, dtype: float64\n"
     ]
    },
    {
     "data": {
      "text/plain": [
       "281.0     1928\n",
       "2006.0    1909\n",
       "519.0     1873\n",
       "514.0     1845\n",
       "426.0     1835\n",
       "          ... \n",
       "3432.0      15\n",
       "3599.0      11\n",
       "2005.0       9\n",
       "3704.0       7\n",
       "3583.0       6\n",
       "Name: start station id, Length: 759, dtype: int64"
      ]
     },
     "metadata": {},
     "output_type": "display_data"
    }
   ],
   "source": [
    "print(bike_df['start station id'].mode())\n",
    "display(bike_df['start station id'].value_counts())"
   ]
  },
  {
   "cell_type": "markdown",
   "id": "valid-somerset",
   "metadata": {},
   "source": [
    "----\n",
    "\n",
    "### Задание 6.4 ###\n",
    "\n",
    "Велосипед с каким идентификатором является самым популярным?\n",
    "\n",
    "***Ответ - 33887***"
   ]
  },
  {
   "cell_type": "code",
   "execution_count": 48,
   "id": "respiratory-belize",
   "metadata": {},
   "outputs": [
    {
     "name": "stdout",
     "output_type": "stream",
     "text": [
      "0    33887\n",
      "Name: bikeid, dtype: int64\n"
     ]
    },
    {
     "data": {
      "text/plain": [
       "33887    107\n",
       "34358    104\n",
       "34159    103\n",
       "34258    103\n",
       "33916    102\n",
       "        ... \n",
       "18587      1\n",
       "17324      1\n",
       "29593      1\n",
       "33157      1\n",
       "25794      1\n",
       "Name: bikeid, Length: 10004, dtype: int64"
      ]
     },
     "metadata": {},
     "output_type": "display_data"
    }
   ],
   "source": [
    "print(bike_df['bikeid'].mode())\n",
    "display(bike_df['bikeid'].value_counts())"
   ]
  },
  {
   "cell_type": "markdown",
   "id": "individual-smell",
   "metadata": {},
   "source": [
    "----\n",
    "\n",
    "###  Задание 6.5 ###\n",
    "\n",
    "Какой тип клиентов (столбец `usertype`) является преобладающим — `Subscriber` или `Customer`? В качестве ответа записать долю клиентов преобладающего типа среди общего количества клиентов. Ответ округлить до сотых.\n",
    "\n",
    "***Ответ - 0.77***"
   ]
  },
  {
   "cell_type": "code",
   "execution_count": 56,
   "id": "aware-virus",
   "metadata": {},
   "outputs": [
    {
     "data": {
      "text/plain": [
       "Subscriber    232202\n",
       "Customer       67798\n",
       "Name: usertype, dtype: int64"
      ]
     },
     "metadata": {},
     "output_type": "display_data"
    },
    {
     "data": {
      "text/plain": [
       "0.77"
      ]
     },
     "execution_count": 56,
     "metadata": {},
     "output_type": "execute_result"
    }
   ],
   "source": [
    "display(bike_df['usertype'].value_counts())\n",
    "round(bike_df[bike_df['usertype'] == 'Subscriber'].shape[0] / 300_000, 2)"
   ]
  },
  {
   "cell_type": "markdown",
   "id": "wrapped-copying",
   "metadata": {},
   "source": [
    "----\n",
    "\n",
    "###  Задание 6.6 ###\n",
    "\n",
    "Кто больше занимается велоспортом — мужчины или женщины? В ответ записать число поездок для той группы, у которой их больше.\n",
    "\n",
    "***Ответ - 183582***"
   ]
  },
  {
   "cell_type": "code",
   "execution_count": 60,
   "id": "motivated-shakespeare",
   "metadata": {},
   "outputs": [
    {
     "data": {
      "text/plain": [
       "183582"
      ]
     },
     "metadata": {},
     "output_type": "display_data"
    }
   ],
   "source": [
    "display(bike_df['gender'].value_counts().iloc[0])"
   ]
  },
  {
   "cell_type": "markdown",
   "id": "commercial-harvey",
   "metadata": {},
   "source": [
    "----\n",
    "\n",
    "###  Задание 6.7 ###\n",
    "\n",
    "Выбрать утверждения, которые соответствуют нашим данным:\n",
    "1. Число уникальных стартовых и конечных стоянок, которыми воспользовались клиенты, не равны друг другу\n",
    "2. В рассматриваемые дни минимальный возраст клиента составлял 10 лет (на сентябрь 2018 года)\n",
    "3. Самой непопулярной стартовой стоянкой из тех, которыми воспользовались клиенты, является стоянка с названием \"Eastern Pkwy & Washington Ave\"\n",
    "4. Наибольшее количество поездок завершается на стоянке под названием \"Liberty Light Rail\"\n"
   ]
  },
  {
   "cell_type": "code",
   "execution_count": 62,
   "id": "specific-louisville",
   "metadata": {},
   "outputs": [
    {
     "data": {
      "text/plain": [
       "759"
      ]
     },
     "metadata": {},
     "output_type": "display_data"
    },
    {
     "data": {
      "text/plain": [
       "759"
      ]
     },
     "metadata": {},
     "output_type": "display_data"
    },
    {
     "data": {
      "text/plain": [
       "765"
      ]
     },
     "metadata": {},
     "output_type": "display_data"
    },
    {
     "data": {
      "text/plain": [
       "765"
      ]
     },
     "metadata": {},
     "output_type": "display_data"
    }
   ],
   "source": [
    "display(bike_df['start station id'].nunique())\n",
    "display(bike_df['start station name'].nunique())\n",
    "display(bike_df['end station id'].nunique())\n",
    "display(bike_df['end station name'].nunique())"
   ]
  },
  {
   "cell_type": "code",
   "execution_count": 75,
   "id": "solved-holder",
   "metadata": {},
   "outputs": [
    {
     "data": {
      "text/plain": [
       "0"
      ]
     },
     "execution_count": 75,
     "metadata": {},
     "output_type": "execute_result"
    }
   ],
   "source": [
    "bike_df[bike_df['birth year'] > 2001 ].shape[0]\n",
    "bike_df[bike_df['birth year'] > 2007 ].shape[0]"
   ]
  },
  {
   "cell_type": "code",
   "execution_count": 79,
   "id": "absolute-catalyst",
   "metadata": {},
   "outputs": [
    {
     "data": {
      "text/plain": [
       "Grand Army Plaza & Central Park S    1928\n",
       "Central Park S & 6 Ave               1909\n",
       "Pershing Square North                1873\n",
       "12 Ave & W 40 St                     1845\n",
       "West St & Chambers St                1835\n",
       "                                     ... \n",
       "NYCBS Depot - GOW                      15\n",
       "Franklin Ave & Empire Blvd             11\n",
       "Railroad Ave & Kay Ave                  9\n",
       "47 Ave & Skillman Ave                   7\n",
       "Eastern Pkwy & Washington Ave           6\n",
       "Name: start station name, Length: 759, dtype: int64"
      ]
     },
     "execution_count": 79,
     "metadata": {},
     "output_type": "execute_result"
    }
   ],
   "source": [
    "bike_df['start station name'].value_counts()"
   ]
  },
  {
   "cell_type": "code",
   "execution_count": 80,
   "id": "consistent-tampa",
   "metadata": {},
   "outputs": [
    {
     "data": {
      "text/plain": [
       "0    West St & Chambers St\n",
       "Name: end station name, dtype: object"
      ]
     },
     "execution_count": 80,
     "metadata": {},
     "output_type": "execute_result"
    }
   ],
   "source": [
    "bike_df['end station name'].mode()"
   ]
  },
  {
   "cell_type": "markdown",
   "id": "hindu-continuity",
   "metadata": {},
   "source": [
    "----\n",
    "\n",
    "###  Задание 6.8 ###\n",
    "\n",
    "В первую очередь надо удалить лишнюю информацию из данных.\n",
    "\n",
    "В данных присутствуют столбцы, которые дублируют информацию друг о друге: это столбцы с идентификатором и названием стартовой и конечной стоянки. Удалить признаки идентификаторов стоянок. Сколько столбцов осталось?\n",
    "\n",
    "***Ответ - 12***"
   ]
  },
  {
   "cell_type": "code",
   "execution_count": 85,
   "id": "constitutional-religion",
   "metadata": {},
   "outputs": [
    {
     "name": "stdout",
     "output_type": "stream",
     "text": [
      "<class 'pandas.core.frame.DataFrame'>\n",
      "RangeIndex: 300000 entries, 0 to 299999\n",
      "Data columns (total 12 columns):\n",
      " #   Column                   Non-Null Count   Dtype  \n",
      "---  ------                   --------------   -----  \n",
      " 0   starttime                300000 non-null  object \n",
      " 1   stoptime                 300000 non-null  object \n",
      " 2   start station name       299831 non-null  object \n",
      " 3   start station latitude   300000 non-null  float64\n",
      " 4   start station longitude  300000 non-null  float64\n",
      " 5   end station name         299831 non-null  object \n",
      " 6   end station latitude     300000 non-null  float64\n",
      " 7   end station longitude    300000 non-null  float64\n",
      " 8   bikeid                   300000 non-null  int64  \n",
      " 9   usertype                 300000 non-null  object \n",
      " 10  birth year               300000 non-null  int64  \n",
      " 11  gender                   300000 non-null  int64  \n",
      "dtypes: float64(4), int64(3), object(5)\n",
      "memory usage: 27.5+ MB\n"
     ]
    },
    {
     "data": {
      "text/plain": [
       "None"
      ]
     },
     "metadata": {},
     "output_type": "display_data"
    },
    {
     "data": {
      "text/plain": [
       "12"
      ]
     },
     "metadata": {},
     "output_type": "display_data"
    }
   ],
   "source": [
    "bike_df.drop(['start station id', 'end station id'], axis='columns', inplace=True)\n",
    "display(bike_df.info())\n",
    "display(bike_df.shape[1])"
   ]
  },
  {
   "cell_type": "markdown",
   "id": "frank-progress",
   "metadata": {},
   "source": [
    "----\n",
    "\n",
    "###  Задание 6.9 ###\n",
    "\n",
    "Заменить признак `birth year` на более понятный признак возраста клиента `age`. Годом отсчёта возраста выбрать 2018 год. Столбец `birth year` удалить из таблицы. Сколько поездок совершено клиентами старше 60 лет?\n",
    "\n",
    "***Ответ - 11837***"
   ]
  },
  {
   "cell_type": "code",
   "execution_count": 97,
   "id": "worth-syndrome",
   "metadata": {},
   "outputs": [
    {
     "name": "stdout",
     "output_type": "stream",
     "text": [
      "<class 'pandas.core.frame.DataFrame'>\n",
      "RangeIndex: 300000 entries, 0 to 299999\n",
      "Data columns (total 12 columns):\n",
      " #   Column                   Non-Null Count   Dtype  \n",
      "---  ------                   --------------   -----  \n",
      " 0   starttime                300000 non-null  object \n",
      " 1   stoptime                 300000 non-null  object \n",
      " 2   start station name       299831 non-null  object \n",
      " 3   start station latitude   300000 non-null  float64\n",
      " 4   start station longitude  300000 non-null  float64\n",
      " 5   end station name         299831 non-null  object \n",
      " 6   end station latitude     300000 non-null  float64\n",
      " 7   end station longitude    300000 non-null  float64\n",
      " 8   bikeid                   300000 non-null  int64  \n",
      " 9   usertype                 300000 non-null  object \n",
      " 10  gender                   300000 non-null  int64  \n",
      " 11  age                      300000 non-null  int64  \n",
      "dtypes: float64(4), int64(3), object(5)\n",
      "memory usage: 27.5+ MB\n"
     ]
    },
    {
     "data": {
      "text/plain": [
       "None"
      ]
     },
     "metadata": {},
     "output_type": "display_data"
    },
    {
     "data": {
      "text/plain": [
       "11837"
      ]
     },
     "metadata": {},
     "output_type": "display_data"
    }
   ],
   "source": [
    "bike_df['age'] = 2018 - bike_df['birth year']\n",
    "bike_df.drop('birth year', axis='columns', inplace=True)\n",
    "display(bike_df.info())\n",
    "##### display(bike_df[bike_df['age'] > 60]['age'].value_counts())\n",
    "display(bike_df[bike_df['age'] > 60].shape[0])"
   ]
  },
  {
   "cell_type": "markdown",
   "id": "hydraulic-narrow",
   "metadata": {},
   "source": [
    "----\n",
    "\n",
    "###  Задание 6.10 ###\n",
    "\n",
    "Создать признак длительности поездки `trip duration`. Для этого вычислить интервал времени между временем окончания поездки (stoptime) и её началом (starttime). Сколько целых минут длилась поездка под индексом 3 в таблице?\n",
    "\n",
    "***Ответ - 7***"
   ]
  },
  {
   "cell_type": "code",
   "execution_count": 110,
   "id": "pressing-flexibility",
   "metadata": {},
   "outputs": [
    {
     "data": {
      "text/plain": [
       "0         2018-09-01 00:00:05.2690\n",
       "1         2018-09-01 00:00:11.2810\n",
       "2         2018-09-01 00:00:20.6490\n",
       "3         2018-09-01 00:00:21.7460\n",
       "4         2018-09-01 00:00:27.3150\n",
       "                    ...           \n",
       "299995    2018-09-05 19:08:27.8460\n",
       "299996    2018-09-05 19:08:28.3700\n",
       "299997    2018-09-05 19:08:27.5090\n",
       "299998    2018-09-05 19:08:29.2300\n",
       "299999    2018-09-05 19:08:29.7110\n",
       "Name: starttime, Length: 300000, dtype: object"
      ]
     },
     "metadata": {},
     "output_type": "display_data"
    },
    {
     "data": {
      "text/plain": [
       "0         2018-09-01 00:27:20.6340\n",
       "1         2018-09-01 00:02:23.4810\n",
       "2         2018-09-01 00:55:58.5470\n",
       "3         2018-09-01 00:07:38.5830\n",
       "4         2018-09-01 02:21:25.3080\n",
       "                    ...           \n",
       "299995    2018-09-05 19:15:51.4940\n",
       "299996    2018-09-05 19:20:01.5080\n",
       "299997    2018-09-05 19:13:40.5060\n",
       "299998    2018-09-05 20:04:29.3220\n",
       "299999    2018-09-05 19:12:14.7620\n",
       "Name: stoptime, Length: 300000, dtype: object"
      ]
     },
     "metadata": {},
     "output_type": "display_data"
    },
    {
     "name": "stdout",
     "output_type": "stream",
     "text": [
      "<class 'pandas.core.frame.DataFrame'>\n",
      "RangeIndex: 300000 entries, 0 to 299999\n",
      "Data columns (total 13 columns):\n",
      " #   Column                   Non-Null Count   Dtype          \n",
      "---  ------                   --------------   -----          \n",
      " 0   starttime                300000 non-null  object         \n",
      " 1   stoptime                 300000 non-null  object         \n",
      " 2   start station name       299831 non-null  object         \n",
      " 3   start station latitude   300000 non-null  float64        \n",
      " 4   start station longitude  300000 non-null  float64        \n",
      " 5   end station name         299831 non-null  object         \n",
      " 6   end station latitude     300000 non-null  float64        \n",
      " 7   end station longitude    300000 non-null  float64        \n",
      " 8   bikeid                   300000 non-null  int64          \n",
      " 9   usertype                 300000 non-null  object         \n",
      " 10  gender                   300000 non-null  int64          \n",
      " 11  age                      300000 non-null  int64          \n",
      " 12  trip duration            300000 non-null  timedelta64[ns]\n",
      "dtypes: float64(4), int64(3), object(5), timedelta64[ns](1)\n",
      "memory usage: 29.8+ MB\n"
     ]
    },
    {
     "data": {
      "text/plain": [
       "None"
      ]
     },
     "metadata": {},
     "output_type": "display_data"
    },
    {
     "data": {
      "text/plain": [
       "Timedelta('0 days 00:07:16.837000')"
      ]
     },
     "metadata": {},
     "output_type": "display_data"
    }
   ],
   "source": [
    "display(bike_df['starttime'])\n",
    "display(bike_df['stoptime'])\n",
    "bike_df['trip duration'] = pd.to_datetime(bike_df['stoptime']) - pd.to_datetime(bike_df['starttime'])\n",
    "display(bike_df.info())\n",
    "display(bike_df['trip duration'].iloc[3])"
   ]
  },
  {
   "cell_type": "markdown",
   "id": "differential-security",
   "metadata": {},
   "source": [
    "----\n",
    "\n",
    "###  Задание 6.11 ###\n",
    "\n",
    "Создать «признак-мигалку» `weekend`, который равен 1, если поездка начиналась в выходной день (суббота или воскресенье), и 0 — в противном случае. Выясните, сколько поездок начиналось в выходные.\n",
    "\n",
    "***Ответ - 115135***"
   ]
  },
  {
   "cell_type": "code",
   "execution_count": 119,
   "id": "beautiful-minnesota",
   "metadata": {},
   "outputs": [
    {
     "name": "stdout",
     "output_type": "stream",
     "text": [
      "<class 'pandas.core.frame.DataFrame'>\n",
      "RangeIndex: 300000 entries, 0 to 299999\n",
      "Data columns (total 14 columns):\n",
      " #   Column                   Non-Null Count   Dtype          \n",
      "---  ------                   --------------   -----          \n",
      " 0   starttime                300000 non-null  object         \n",
      " 1   stoptime                 300000 non-null  object         \n",
      " 2   start station name       299831 non-null  object         \n",
      " 3   start station latitude   300000 non-null  float64        \n",
      " 4   start station longitude  300000 non-null  float64        \n",
      " 5   end station name         299831 non-null  object         \n",
      " 6   end station latitude     300000 non-null  float64        \n",
      " 7   end station longitude    300000 non-null  float64        \n",
      " 8   bikeid                   300000 non-null  int64          \n",
      " 9   usertype                 300000 non-null  object         \n",
      " 10  gender                   300000 non-null  int64          \n",
      " 11  age                      300000 non-null  int64          \n",
      " 12  trip duration            300000 non-null  timedelta64[ns]\n",
      " 13  weekend                  300000 non-null  int64          \n",
      "dtypes: float64(4), int64(4), object(5), timedelta64[ns](1)\n",
      "memory usage: 32.0+ MB\n"
     ]
    },
    {
     "data": {
      "text/plain": [
       "None"
      ]
     },
     "metadata": {},
     "output_type": "display_data"
    },
    {
     "data": {
      "text/plain": [
       "1    68628\n",
       "2    61185\n",
       "6    60812\n",
       "0    55052\n",
       "5    54323\n",
       "Name: weekend, dtype: int64"
      ]
     },
     "metadata": {},
     "output_type": "display_data"
    },
    {
     "name": "stdout",
     "output_type": "stream",
     "text": [
      "115135\n"
     ]
    }
   ],
   "source": [
    "bike_df['weekend'] = pd.to_datetime(bike_df['starttime']).dt.dayofweek\n",
    "display(bike_df.info())\n",
    "display(bike_df['weekend'].value_counts())\n",
    "print(bike_df[bike_df['weekend'] > 4].shape[0])"
   ]
  },
  {
   "cell_type": "markdown",
   "id": "altered-default",
   "metadata": {},
   "source": [
    "----\n",
    "\n",
    "###  Задание 6.12 ###\n",
    "\n",
    "Создать признак времени суток поездки `time_of_day`. Время суток определять из часа начала поездки. То есть:\n",
    "- поездка совершается ночью (`night`), если её час приходится на интервал от 0 (включительно) до 6 (включительно) часов;\n",
    "- поездка совершается утром (`morning`), если её час приходится на интервал от 6 (не включительно) до 12 (включительно) часов;\n",
    "- поездка совершается днём (`day`), если её час приходится на интервал от 12 (не включительно) до 18 (включительно) часов;\n",
    "- поездка совершается вечером (`evening`), если её час приходится на интервал от 18 (не включительно) до 23 часов (включительно).\n",
    "\n",
    "Во сколько раз количество поездок, совершённых днём, больше, чем количество поездок, совёршенных ночью, за представленный в данных период времени? Ответ округлить до целых.\n",
    "\n",
    "***Ответ - 9***"
   ]
  },
  {
   "cell_type": "code",
   "execution_count": 129,
   "id": "proved-actor",
   "metadata": {},
   "outputs": [],
   "source": [
    "bike_df['starttime'] = pd.to_datetime(bike_df['starttime'])\n",
    "bike_df['stoptime'] = pd.to_datetime(bike_df['stoptime'])"
   ]
  },
  {
   "cell_type": "code",
   "execution_count": 141,
   "id": "sexual-counter",
   "metadata": {},
   "outputs": [
    {
     "data": {
      "text/plain": [
       "day        143012\n",
       "morning     95530\n",
       "evening     46373\n",
       "night       15085\n",
       "Name: time_of_day, dtype: int64"
      ]
     },
     "metadata": {},
     "output_type": "display_data"
    },
    {
     "name": "stdout",
     "output_type": "stream",
     "text": [
      "Ответ - 9\n"
     ]
    }
   ],
   "source": [
    "def set_tod(arg):\n",
    "    if 0 <= arg <= 6:\n",
    "        return 'night'\n",
    "    elif 6 < arg <= 12:\n",
    "        return 'morning'\n",
    "    elif 12 < arg <= 18:\n",
    "        return 'day'\n",
    "    else:\n",
    "        return 'evening'\n",
    "\n",
    "bike_df['time_of_day'] = bike_df['starttime'].dt.hour.apply(set_tod)\n",
    "# display(bike_df.info())\n",
    "display(bike_df.time_of_day.value_counts())\n",
    "print('Ответ -',\n",
    "      round(bike_df[bike_df.time_of_day == 'day'].shape[0]\n",
    "            / bike_df[bike_df.time_of_day == 'night'].shape[0]))"
   ]
  },
  {
   "cell_type": "code",
   "execution_count": null,
   "id": "qualified-presence",
   "metadata": {},
   "outputs": [],
   "source": []
  }
 ],
 "metadata": {
  "kernelspec": {
   "display_name": "Python 3",
   "language": "python",
   "name": "python3"
  },
  "language_info": {
   "codemirror_mode": {
    "name": "ipython",
    "version": 3
   },
   "file_extension": ".py",
   "mimetype": "text/x-python",
   "name": "python",
   "nbconvert_exporter": "python",
   "pygments_lexer": "ipython3",
   "version": "3.9.13"
  }
 },
 "nbformat": 4,
 "nbformat_minor": 5
}
