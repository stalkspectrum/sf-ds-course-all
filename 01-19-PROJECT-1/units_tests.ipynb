{
 "cells": [
  {
   "cell_type": "code",
   "execution_count": 1,
   "id": "comfortable-david",
   "metadata": {},
   "outputs": [],
   "source": [
    "import re\n",
    "\n",
    "import numpy as np\n",
    "import pandas as pd\n",
    "import matplotlib.pyplot as plt\n",
    "import seaborn as sns\n",
    "import plotly.express as px"
   ]
  },
  {
   "cell_type": "code",
   "execution_count": 2,
   "id": "swedish-guide",
   "metadata": {},
   "outputs": [],
   "source": [
    "main_df = pd.read_csv('data/dst-3.0_16_1_hh_database.csv', sep=';')"
   ]
  },
  {
   "cell_type": "markdown",
   "id": "asian-while",
   "metadata": {},
   "source": [
    "----\n",
    "\n",
    "### Задание 2.1 ###\n",
    "\n",
    "Прочитайте данные с помощью библиотеки Pandas. Перед чтением обратите внимание на разделитель внутри файла.\n",
    "Чему равна размерность таблицы? Введите её в виде кортежа (число строк, число столбцов)."
   ]
  },
  {
   "cell_type": "code",
   "execution_count": 3,
   "id": "theoretical-queen",
   "metadata": {},
   "outputs": [
    {
     "data": {
      "text/plain": [
       "(44744, 12)"
      ]
     },
     "execution_count": 3,
     "metadata": {},
     "output_type": "execute_result"
    }
   ],
   "source": [
    "main_df.shape"
   ]
  },
  {
   "cell_type": "markdown",
   "id": "constant-cuisine",
   "metadata": {},
   "source": [
    "----\n",
    "\n",
    "### Задание 2.2 ###\n",
    "\n",
    "Выведите несколько первых (последних) строк таблицы, чтобы убедиться в том, что ваши данные не повреждены. Ознакомьтесь с признаками и их структурой.\n",
    "В каком формате представлен порядок слов в признаке «Пол, возраст»?\n",
    "\n",
    "***Ответ - <Пол , возраст , дата рождения>***"
   ]
  },
  {
   "cell_type": "code",
   "execution_count": 4,
   "id": "personalized-thread",
   "metadata": {},
   "outputs": [
    {
     "data": {
      "text/html": [
       "<div>\n",
       "<style scoped>\n",
       "    .dataframe tbody tr th:only-of-type {\n",
       "        vertical-align: middle;\n",
       "    }\n",
       "\n",
       "    .dataframe tbody tr th {\n",
       "        vertical-align: top;\n",
       "    }\n",
       "\n",
       "    .dataframe thead th {\n",
       "        text-align: right;\n",
       "    }\n",
       "</style>\n",
       "<table border=\"1\" class=\"dataframe\">\n",
       "  <thead>\n",
       "    <tr style=\"text-align: right;\">\n",
       "      <th></th>\n",
       "      <th>Пол, возраст</th>\n",
       "      <th>ЗП</th>\n",
       "      <th>Ищет работу на должность:</th>\n",
       "      <th>Город, переезд, командировки</th>\n",
       "      <th>Занятость</th>\n",
       "      <th>График</th>\n",
       "      <th>Опыт работы</th>\n",
       "      <th>Последнее/нынешнее место работы</th>\n",
       "      <th>Последняя/нынешняя должность</th>\n",
       "      <th>Образование и ВУЗ</th>\n",
       "      <th>Обновление резюме</th>\n",
       "      <th>Авто</th>\n",
       "    </tr>\n",
       "  </thead>\n",
       "  <tbody>\n",
       "    <tr>\n",
       "      <th>0</th>\n",
       "      <td>Мужчина ,  39 лет , родился 27 ноября 1979</td>\n",
       "      <td>29000 руб.</td>\n",
       "      <td>Системный администратор</td>\n",
       "      <td>Советск (Калининградская область) , не готов к...</td>\n",
       "      <td>частичная занятость, проектная работа, полная ...</td>\n",
       "      <td>гибкий график, полный день, сменный график, ва...</td>\n",
       "      <td>Опыт работы 16 лет 10 месяцев  Август 2010 — п...</td>\n",
       "      <td>МАОУ \"СОШ № 1 г.Немана\"</td>\n",
       "      <td>Системный администратор</td>\n",
       "      <td>Неоконченное высшее образование 2000  Балтийск...</td>\n",
       "      <td>16.04.2019 15:59</td>\n",
       "      <td>Имеется собственный автомобиль</td>\n",
       "    </tr>\n",
       "    <tr>\n",
       "      <th>1</th>\n",
       "      <td>Мужчина ,  60 лет , родился 20 марта 1959</td>\n",
       "      <td>40000 руб.</td>\n",
       "      <td>Технический писатель</td>\n",
       "      <td>Королев , не готов к переезду , готов к редким...</td>\n",
       "      <td>частичная занятость, проектная работа, полная ...</td>\n",
       "      <td>гибкий график, полный день, сменный график, уд...</td>\n",
       "      <td>Опыт работы 19 лет 5 месяцев  Январь 2000 — по...</td>\n",
       "      <td>Временный трудовой коллектив</td>\n",
       "      <td>Менеджер проекта, Аналитик, Технический писатель</td>\n",
       "      <td>Высшее образование 1981  Военно-космическая ак...</td>\n",
       "      <td>12.04.2019 08:42</td>\n",
       "      <td>Не указано</td>\n",
       "    </tr>\n",
       "    <tr>\n",
       "      <th>2</th>\n",
       "      <td>Женщина ,  36 лет , родилась 12 августа 1982</td>\n",
       "      <td>20000 руб.</td>\n",
       "      <td>Оператор</td>\n",
       "      <td>Тверь , не готова к переезду , не готова к ком...</td>\n",
       "      <td>полная занятость</td>\n",
       "      <td>полный день</td>\n",
       "      <td>Опыт работы 10 лет 3 месяца  Октябрь 2004 — Де...</td>\n",
       "      <td>ПАО Сбербанк</td>\n",
       "      <td>Кассир-операционист</td>\n",
       "      <td>Среднее специальное образование 2002 Профессио...</td>\n",
       "      <td>16.04.2019 08:35</td>\n",
       "      <td>Не указано</td>\n",
       "    </tr>\n",
       "  </tbody>\n",
       "</table>\n",
       "</div>"
      ],
      "text/plain": [
       "                                   Пол, возраст          ЗП  \\\n",
       "0    Мужчина ,  39 лет , родился 27 ноября 1979  29000 руб.   \n",
       "1     Мужчина ,  60 лет , родился 20 марта 1959  40000 руб.   \n",
       "2  Женщина ,  36 лет , родилась 12 августа 1982  20000 руб.   \n",
       "\n",
       "  Ищет работу на должность:  \\\n",
       "0   Системный администратор   \n",
       "1      Технический писатель   \n",
       "2                  Оператор   \n",
       "\n",
       "                        Город, переезд, командировки  \\\n",
       "0  Советск (Калининградская область) , не готов к...   \n",
       "1  Королев , не готов к переезду , готов к редким...   \n",
       "2  Тверь , не готова к переезду , не готова к ком...   \n",
       "\n",
       "                                           Занятость  \\\n",
       "0  частичная занятость, проектная работа, полная ...   \n",
       "1  частичная занятость, проектная работа, полная ...   \n",
       "2                                   полная занятость   \n",
       "\n",
       "                                              График  \\\n",
       "0  гибкий график, полный день, сменный график, ва...   \n",
       "1  гибкий график, полный день, сменный график, уд...   \n",
       "2                                        полный день   \n",
       "\n",
       "                                         Опыт работы  \\\n",
       "0  Опыт работы 16 лет 10 месяцев  Август 2010 — п...   \n",
       "1  Опыт работы 19 лет 5 месяцев  Январь 2000 — по...   \n",
       "2  Опыт работы 10 лет 3 месяца  Октябрь 2004 — Де...   \n",
       "\n",
       "  Последнее/нынешнее место работы  \\\n",
       "0         МАОУ \"СОШ № 1 г.Немана\"   \n",
       "1    Временный трудовой коллектив   \n",
       "2                    ПАО Сбербанк   \n",
       "\n",
       "                       Последняя/нынешняя должность  \\\n",
       "0                           Системный администратор   \n",
       "1  Менеджер проекта, Аналитик, Технический писатель   \n",
       "2                               Кассир-операционист   \n",
       "\n",
       "                                   Образование и ВУЗ Обновление резюме  \\\n",
       "0  Неоконченное высшее образование 2000  Балтийск...  16.04.2019 15:59   \n",
       "1  Высшее образование 1981  Военно-космическая ак...  12.04.2019 08:42   \n",
       "2  Среднее специальное образование 2002 Профессио...  16.04.2019 08:35   \n",
       "\n",
       "                             Авто  \n",
       "0  Имеется собственный автомобиль  \n",
       "1                      Не указано  \n",
       "2                      Не указано  "
      ]
     },
     "execution_count": 4,
     "metadata": {},
     "output_type": "execute_result"
    }
   ],
   "source": [
    "main_df.head(3)"
   ]
  },
  {
   "cell_type": "markdown",
   "id": "existing-magnet",
   "metadata": {},
   "source": [
    "----\n",
    "\n",
    "### Задание 2.3 ###\n",
    "\n",
    "Выведите основную информацию о числе непустых значений в столбцах и их типах в таблице.\n",
    "Какой тип данных имеют все столбцы? Введите его в поле для ответа.\n",
    "\n",
    "***Ответ - object***"
   ]
  },
  {
   "cell_type": "code",
   "execution_count": 5,
   "id": "protected-accident",
   "metadata": {},
   "outputs": [
    {
     "name": "stdout",
     "output_type": "stream",
     "text": [
      "<class 'pandas.core.frame.DataFrame'>\n",
      "RangeIndex: 44744 entries, 0 to 44743\n",
      "Data columns (total 12 columns):\n",
      " #   Column                           Non-Null Count  Dtype \n",
      "---  ------                           --------------  ----- \n",
      " 0   Пол, возраст                     44744 non-null  object\n",
      " 1   ЗП                               44744 non-null  object\n",
      " 2   Ищет работу на должность:        44744 non-null  object\n",
      " 3   Город, переезд, командировки     44744 non-null  object\n",
      " 4   Занятость                        44744 non-null  object\n",
      " 5   График                           44744 non-null  object\n",
      " 6   Опыт работы                      44576 non-null  object\n",
      " 7   Последнее/нынешнее место работы  44743 non-null  object\n",
      " 8   Последняя/нынешняя должность     44742 non-null  object\n",
      " 9   Образование и ВУЗ                44744 non-null  object\n",
      " 10  Обновление резюме                44744 non-null  object\n",
      " 11  Авто                             44744 non-null  object\n",
      "dtypes: object(12)\n",
      "memory usage: 4.1+ MB\n"
     ]
    }
   ],
   "source": [
    "main_df.info()"
   ]
  },
  {
   "cell_type": "markdown",
   "id": "ambient-boulder",
   "metadata": {},
   "source": [
    "----\n",
    "\n",
    "### Задание 2.4 ###\n",
    "\n",
    "Обратите внимание на информацию о числе непустых значений.\n",
    "Выберите все признаки, в которых есть пропуски в данных:\n",
    "\n",
    "***Ответ***\n",
    "- Последняя/нынешняя должность\n",
    "- Опыт работы\n",
    "- Последнее/нынешнее место работы"
   ]
  },
  {
   "cell_type": "markdown",
   "id": "conceptual-family",
   "metadata": {},
   "source": [
    "----\n",
    "\n",
    "### Задание 2.5 ###\n",
    "\n",
    "Выведите основную статистическую информацию о столбцах.\n",
    "Сколько уникальных значений содержится в столбце «Опыт работы»?\n",
    "\n",
    "***Ответ - 44413***\n",
    "\n",
    "Какая из искомых должностей самая распространённая?\n",
    "\n",
    "***Ответ - Системный администратор***"
   ]
  },
  {
   "cell_type": "code",
   "execution_count": 6,
   "id": "related-sample",
   "metadata": {},
   "outputs": [
    {
     "data": {
      "text/html": [
       "<div>\n",
       "<style scoped>\n",
       "    .dataframe tbody tr th:only-of-type {\n",
       "        vertical-align: middle;\n",
       "    }\n",
       "\n",
       "    .dataframe tbody tr th {\n",
       "        vertical-align: top;\n",
       "    }\n",
       "\n",
       "    .dataframe thead th {\n",
       "        text-align: right;\n",
       "    }\n",
       "</style>\n",
       "<table border=\"1\" class=\"dataframe\">\n",
       "  <thead>\n",
       "    <tr style=\"text-align: right;\">\n",
       "      <th></th>\n",
       "      <th>Пол, возраст</th>\n",
       "      <th>ЗП</th>\n",
       "      <th>Ищет работу на должность:</th>\n",
       "      <th>Город, переезд, командировки</th>\n",
       "      <th>Занятость</th>\n",
       "      <th>График</th>\n",
       "      <th>Опыт работы</th>\n",
       "      <th>Последнее/нынешнее место работы</th>\n",
       "      <th>Последняя/нынешняя должность</th>\n",
       "      <th>Образование и ВУЗ</th>\n",
       "      <th>Обновление резюме</th>\n",
       "      <th>Авто</th>\n",
       "    </tr>\n",
       "  </thead>\n",
       "  <tbody>\n",
       "    <tr>\n",
       "      <th>count</th>\n",
       "      <td>44744</td>\n",
       "      <td>44744</td>\n",
       "      <td>44744</td>\n",
       "      <td>44744</td>\n",
       "      <td>44744</td>\n",
       "      <td>44744</td>\n",
       "      <td>44576</td>\n",
       "      <td>44743</td>\n",
       "      <td>44742</td>\n",
       "      <td>44744</td>\n",
       "      <td>44744</td>\n",
       "      <td>44744</td>\n",
       "    </tr>\n",
       "    <tr>\n",
       "      <th>unique</th>\n",
       "      <td>16003</td>\n",
       "      <td>690</td>\n",
       "      <td>14929</td>\n",
       "      <td>10063</td>\n",
       "      <td>38</td>\n",
       "      <td>47</td>\n",
       "      <td>44413</td>\n",
       "      <td>30214</td>\n",
       "      <td>16927</td>\n",
       "      <td>40148</td>\n",
       "      <td>18838</td>\n",
       "      <td>2</td>\n",
       "    </tr>\n",
       "    <tr>\n",
       "      <th>top</th>\n",
       "      <td>Мужчина ,  32 года , родился 17 сентября 1986</td>\n",
       "      <td>50000 руб.</td>\n",
       "      <td>Системный администратор</td>\n",
       "      <td>Москва , не готов к переезду , не готов к кома...</td>\n",
       "      <td>полная занятость</td>\n",
       "      <td>полный день</td>\n",
       "      <td>Опыт работы 10 лет 8 месяцев  Апрель 2018 — по...</td>\n",
       "      <td>Индивидуальное предпринимательство / частная п...</td>\n",
       "      <td>Системный администратор</td>\n",
       "      <td>Высшее образование 1987 Военный инженерный Кра...</td>\n",
       "      <td>07.05.2019 09:50</td>\n",
       "      <td>Не указано</td>\n",
       "    </tr>\n",
       "    <tr>\n",
       "      <th>freq</th>\n",
       "      <td>18</td>\n",
       "      <td>4064</td>\n",
       "      <td>3099</td>\n",
       "      <td>1261</td>\n",
       "      <td>30026</td>\n",
       "      <td>22727</td>\n",
       "      <td>3</td>\n",
       "      <td>935</td>\n",
       "      <td>2062</td>\n",
       "      <td>4</td>\n",
       "      <td>25</td>\n",
       "      <td>32268</td>\n",
       "    </tr>\n",
       "  </tbody>\n",
       "</table>\n",
       "</div>"
      ],
      "text/plain": [
       "                                         Пол, возраст          ЗП  \\\n",
       "count                                           44744       44744   \n",
       "unique                                          16003         690   \n",
       "top     Мужчина ,  32 года , родился 17 сентября 1986  50000 руб.   \n",
       "freq                                               18        4064   \n",
       "\n",
       "       Ищет работу на должность:  \\\n",
       "count                      44744   \n",
       "unique                     14929   \n",
       "top      Системный администратор   \n",
       "freq                        3099   \n",
       "\n",
       "                             Город, переезд, командировки         Занятость  \\\n",
       "count                                               44744             44744   \n",
       "unique                                              10063                38   \n",
       "top     Москва , не готов к переезду , не готов к кома...  полная занятость   \n",
       "freq                                                 1261             30026   \n",
       "\n",
       "             График                                        Опыт работы  \\\n",
       "count         44744                                              44576   \n",
       "unique           47                                              44413   \n",
       "top     полный день  Опыт работы 10 лет 8 месяцев  Апрель 2018 — по...   \n",
       "freq          22727                                                  3   \n",
       "\n",
       "                          Последнее/нынешнее место работы  \\\n",
       "count                                               44743   \n",
       "unique                                              30214   \n",
       "top     Индивидуальное предпринимательство / частная п...   \n",
       "freq                                                  935   \n",
       "\n",
       "       Последняя/нынешняя должность  \\\n",
       "count                         44742   \n",
       "unique                        16927   \n",
       "top         Системный администратор   \n",
       "freq                           2062   \n",
       "\n",
       "                                        Образование и ВУЗ Обновление резюме  \\\n",
       "count                                               44744             44744   \n",
       "unique                                              40148             18838   \n",
       "top     Высшее образование 1987 Военный инженерный Кра...  07.05.2019 09:50   \n",
       "freq                                                    4                25   \n",
       "\n",
       "              Авто  \n",
       "count        44744  \n",
       "unique           2  \n",
       "top     Не указано  \n",
       "freq         32268  "
      ]
     },
     "execution_count": 6,
     "metadata": {},
     "output_type": "execute_result"
    }
   ],
   "source": [
    "main_df.describe(include=['object'])"
   ]
  },
  {
   "cell_type": "markdown",
   "id": "e5d62afd",
   "metadata": {},
   "source": [
    "----\n",
    "\n",
    "###  Задание 3.1 ###\n",
    "\n",
    "Сколько соискателей имеет средний уровень образования (школьное образование)?\n",
    "\n",
    "***Ответ - 559***"
   ]
  },
  {
   "cell_type": "code",
   "execution_count": 7,
   "id": "governing-relay",
   "metadata": {},
   "outputs": [
    {
     "data": {
      "text/plain": [
       "0        Неоконченное высшее образование 2000  Балтийск...\n",
       "1        Высшее образование 1981  Военно-космическая ак...\n",
       "2        Среднее специальное образование 2002 Профессио...\n",
       "3        Высшее образование 2002  Саратовский государст...\n",
       "4        Высшее образование 2015 Кгу Психологии и педаг...\n",
       "                               ...                        \n",
       "44739    Высшее образование 2015  Московский гуманитарн...\n",
       "44740    Высшее образование (Бакалавр) 2016  Воронежски...\n",
       "44741    Высшее образование 2000  Южно-Уральский госуда...\n",
       "44742    Высшее образование 2015  Тамбовский государств...\n",
       "44743    Высшее образование 1997  Южно-Российский госуд...\n",
       "Name: Образование и ВУЗ, Length: 44744, dtype: object"
      ]
     },
     "metadata": {},
     "output_type": "display_data"
    },
    {
     "name": "stdout",
     "output_type": "stream",
     "text": [
      "Уникальных значений образования - 4\n"
     ]
    },
    {
     "data": {
      "text/plain": [
       "Высшее                 33863\n",
       "Среднее специальное     5765\n",
       "Неоконченное высшее     4557\n",
       "Среднее                  559\n",
       "Name: Образование, dtype: int64"
      ]
     },
     "metadata": {},
     "output_type": "display_data"
    }
   ],
   "source": [
    "display(main_df['Образование и ВУЗ'])\n",
    "\n",
    "def get_graduation(string_: str) -> str:\n",
    "    list_ = string_.split(' ')\n",
    "    if list_[1] == 'образование':\n",
    "        return list_[0]\n",
    "    else:\n",
    "        return list_[0] + ' ' + list_[1]\n",
    "    return None\n",
    "\n",
    "main_df['Образование'] = main_df['Образование и ВУЗ'].apply(get_graduation)\n",
    "print('Уникальных значений образования -', main_df['Образование'].nunique())\n",
    "display(main_df['Образование'].value_counts())"
   ]
  },
  {
   "cell_type": "code",
   "execution_count": 8,
   "id": "acute-bracket",
   "metadata": {},
   "outputs": [
    {
     "name": "stdout",
     "output_type": "stream",
     "text": [
      "Уникальных значений года выпуска - 62\n"
     ]
    },
    {
     "data": {
      "text/plain": [
       "2015    3004\n",
       "2013    2756\n",
       "2014    2705\n",
       "2012    2674\n",
       "2011    2654\n",
       "        ... \n",
       "2028       3\n",
       "2029       2\n",
       "1954       1\n",
       "1969       1\n",
       "1972       1\n",
       "Name: Год выпуска, Length: 62, dtype: int64"
      ]
     },
     "metadata": {},
     "output_type": "display_data"
    },
    {
     "name": "stdout",
     "output_type": "stream",
     "text": [
      "<class 'pandas.core.frame.DataFrame'>\n",
      "RangeIndex: 44744 entries, 0 to 44743\n",
      "Data columns (total 14 columns):\n",
      " #   Column                           Non-Null Count  Dtype \n",
      "---  ------                           --------------  ----- \n",
      " 0   Пол, возраст                     44744 non-null  object\n",
      " 1   ЗП                               44744 non-null  object\n",
      " 2   Ищет работу на должность:        44744 non-null  object\n",
      " 3   Город, переезд, командировки     44744 non-null  object\n",
      " 4   Занятость                        44744 non-null  object\n",
      " 5   График                           44744 non-null  object\n",
      " 6   Опыт работы                      44576 non-null  object\n",
      " 7   Последнее/нынешнее место работы  44743 non-null  object\n",
      " 8   Последняя/нынешняя должность     44742 non-null  object\n",
      " 9   Образование и ВУЗ                44744 non-null  object\n",
      " 10  Обновление резюме                44744 non-null  object\n",
      " 11  Авто                             44744 non-null  object\n",
      " 12  Образование                      44744 non-null  object\n",
      " 13  Год выпуска                      44744 non-null  int64 \n",
      "dtypes: int64(1), object(13)\n",
      "memory usage: 4.8+ MB\n"
     ]
    },
    {
     "data": {
      "text/plain": [
       "None"
      ]
     },
     "metadata": {},
     "output_type": "display_data"
    }
   ],
   "source": [
    "def get_graduation_year(string_: str) -> int:\n",
    "    return int(re.search(r'\\d{4}', string_).group(0))\n",
    "\n",
    "main_df['Год выпуска'] = main_df['Образование и ВУЗ'].apply(get_graduation_year)\n",
    "print('Уникальных значений года выпуска -', main_df['Год выпуска'].nunique())\n",
    "display(main_df['Год выпуска'].value_counts())\n",
    "display(main_df.info())"
   ]
  },
  {
   "cell_type": "markdown",
   "id": "665e780d",
   "metadata": {},
   "source": [
    "----\n",
    "\n",
    "### Задание 3.2 ###\n",
    "\n",
    "Сколько процентов женских резюме представлено в наших данных?\n",
    "\n",
    "(Ответ округлить до сотых)\n",
    "\n",
    "***Ответ - 19.07***\n",
    "\n",
    "Чему равен средний возраст соискателей? Ответ округлите до десятых.\n",
    "\n",
    "***Ответ - 32.2***"
   ]
  },
  {
   "cell_type": "code",
   "execution_count": 9,
   "id": "labeled-government",
   "metadata": {},
   "outputs": [
    {
     "data": {
      "text/plain": [
       "0          Мужчина ,  39 лет , родился 27 ноября 1979\n",
       "1           Мужчина ,  60 лет , родился 20 марта 1959\n",
       "2        Женщина ,  36 лет , родилась 12 августа 1982\n",
       "3            Мужчина ,  38 лет , родился 25 июня 1980\n",
       "4           Женщина ,  26 лет , родилась 3 марта 1993\n",
       "                             ...                     \n",
       "44739      Мужчина ,  30 лет , родился 17 января 1989\n",
       "44740        Мужчина ,  27 лет , родился 5 марта 1992\n",
       "44741    Женщина ,  48 лет , родилась 26 декабря 1970\n",
       "44742     Мужчина ,  24 года , родился 6 октября 1994\n",
       "44743      Мужчина ,  38 лет , родился 25 апреля 1980\n",
       "Name: Пол, возраст, Length: 44744, dtype: object"
      ]
     },
     "metadata": {},
     "output_type": "display_data"
    },
    {
     "data": {
      "text/plain": [
       "М    36211\n",
       "Ж     8533\n",
       "Name: Пол, dtype: int64"
      ]
     },
     "metadata": {},
     "output_type": "display_data"
    },
    {
     "name": "stdout",
     "output_type": "stream",
     "text": [
      "19.07\n"
     ]
    }
   ],
   "source": [
    "display(main_df['Пол, возраст'])\n",
    "\n",
    "main_df['Пол'] = main_df['Пол, возраст'].apply(lambda x: x[0])\n",
    "display(main_df['Пол'].value_counts())\n",
    "print(round(main_df[main_df['Пол'] == 'Ж'].shape[0] / main_df['Пол'].shape[0] * 100, 2))"
   ]
  },
  {
   "cell_type": "code",
   "execution_count": 10,
   "id": "abstract-leonard",
   "metadata": {},
   "outputs": [
    {
     "name": "stdout",
     "output_type": "stream",
     "text": [
      "32.2\n"
     ]
    }
   ],
   "source": [
    "def get_age(string_: str) -> int:\n",
    "    age_str = string_.split(',')[1].strip()\n",
    "    return int(re.search(r'\\d+', age_str).group(0))\n",
    "\n",
    "##### main_df['Возраст'] = main_df['Пол, возраст'].apply(lambda x: x.split(',')[1].strip())\n",
    "main_df['Возраст'] = main_df['Пол, возраст'].apply(get_age)\n",
    "print(round(main_df['Возраст'].mean(), 2))"
   ]
  },
  {
   "cell_type": "markdown",
   "id": "c45c1b5d",
   "metadata": {},
   "source": [
    "----\n",
    "\n",
    "### Задание 3.3 ###\n",
    "\n",
    "Чему равен медианный опыт работы (в месяцах) в таблице?\n",
    "\n",
    "***Ответ - 100***"
   ]
  },
  {
   "cell_type": "code",
   "execution_count": 11,
   "id": "elect-library",
   "metadata": {},
   "outputs": [
    {
     "data": {
      "text/plain": [
       "Опыт работ    44574\n",
       "Не указано        2\n",
       "Name: Опыт работы, dtype: int64"
      ]
     },
     "metadata": {},
     "output_type": "display_data"
    }
   ],
   "source": [
    "wtf_test = main_df['Опыт работы'].apply(lambda x: x[:10] if type(x) == str else None)\n",
    "display(wtf_test.value_counts())"
   ]
  },
  {
   "cell_type": "code",
   "execution_count": 12,
   "id": "agricultural-married",
   "metadata": {},
   "outputs": [
    {
     "name": "stdout",
     "output_type": "stream",
     "text": [
      "Медианный опыт работы: 100.0\n",
      "<class 'pandas.core.frame.DataFrame'>\n",
      "RangeIndex: 44744 entries, 0 to 44743\n",
      "Data columns (total 16 columns):\n",
      " #   Column                           Non-Null Count  Dtype  \n",
      "---  ------                           --------------  -----  \n",
      " 0   Пол, возраст                     44744 non-null  object \n",
      " 1   ЗП                               44744 non-null  object \n",
      " 2   Ищет работу на должность:        44744 non-null  object \n",
      " 3   Город, переезд, командировки     44744 non-null  object \n",
      " 4   Занятость                        44744 non-null  object \n",
      " 5   График                           44744 non-null  object \n",
      " 6   Последнее/нынешнее место работы  44743 non-null  object \n",
      " 7   Последняя/нынешняя должность     44742 non-null  object \n",
      " 8   Образование и ВУЗ                44744 non-null  object \n",
      " 9   Обновление резюме                44744 non-null  object \n",
      " 10  Авто                             44744 non-null  object \n",
      " 11  Образование                      44744 non-null  object \n",
      " 12  Год выпуска                      44744 non-null  int64  \n",
      " 13  Пол                              44744 non-null  object \n",
      " 14  Возраст                          44744 non-null  int64  \n",
      " 15  Опыт работы (месяц)              44574 non-null  float64\n",
      "dtypes: float64(1), int64(2), object(13)\n",
      "memory usage: 5.5+ MB\n"
     ]
    },
    {
     "data": {
      "text/plain": [
       "None"
      ]
     },
     "metadata": {},
     "output_type": "display_data"
    }
   ],
   "source": [
    "def convert_experience_to_months(string_: str) -> int:\n",
    "    try:\n",
    "        experience = string_.strip('Опыт работы ').split(maxsplit=3)\n",
    "        if experience[1][0] == 'м':\n",
    "            experience_months = int(experience[0])\n",
    "        else:\n",
    "            experience_months = int(experience[0]) * 12\n",
    "            if experience[2].isdecimal():\n",
    "                experience_months += int(experience[2])\n",
    "        return experience_months\n",
    "    except:\n",
    "        return None\n",
    "\n",
    "main_df['Опыт работы (месяц)'] = main_df['Опыт работы'].apply(convert_experience_to_months)\n",
    "main_df.drop('Опыт работы', axis='columns', inplace=True)\n",
    "print('Медианный опыт работы:', main_df['Опыт работы (месяц)'].median())\n",
    "display(main_df.info())"
   ]
  },
  {
   "cell_type": "markdown",
   "id": "7279ca3e",
   "metadata": {},
   "source": [
    "----\n",
    "\n",
    "### Задание 3.4 ###\n",
    "\n",
    "Сколько процентов соискателей живут в Санкт-Петербурге?\n",
    "\n",
    "(Ответ округлить до целого)\n",
    "\n",
    "***Ответ - 11***\n",
    "\n",
    "Сколько процентов соискателей готовы одновременно и к переездам, и к\n",
    "командировкам?\n",
    "\n",
    "(Ответ округлить до целого)\n",
    "\n",
    "***Ответ - 32***"
   ]
  },
  {
   "cell_type": "code",
   "execution_count": 13,
   "id": "rolled-termination",
   "metadata": {},
   "outputs": [
    {
     "data": {
      "text/plain": [
       "Москва              16621\n",
       "другие              16452\n",
       "город-миллионник     6734\n",
       "Санкт-Петербург      4937\n",
       "Name: Город, dtype: int64"
      ]
     },
     "metadata": {},
     "output_type": "display_data"
    },
    {
     "name": "stdout",
     "output_type": "stream",
     "text": [
      "Процент питерских: 11\n"
     ]
    }
   ],
   "source": [
    "def extract_city(string_: str) -> str:\n",
    "    million_cities = ['Новосибирск',\n",
    "                      'Екатеринбург',\n",
    "                      'Нижний Новгород',\n",
    "                      'Казань',\n",
    "                      'Челябинск',\n",
    "                      'Омск',\n",
    "                      'Самара',\n",
    "                      'Ростов-на-Дону',\n",
    "                      'Уфа',\n",
    "                      'Красноярск',\n",
    "                      'Пермь',\n",
    "                      'Воронеж',\n",
    "                      'Волгоград']\n",
    "    city = string_.split()[0]\n",
    "    if city in ['Москва', 'Санкт-Петербург']:\n",
    "        city_category = city\n",
    "    elif city in million_cities:\n",
    "        city_category = 'город-миллионник'\n",
    "    else:\n",
    "        city_category = 'другие'\n",
    "    return city_category\n",
    "\n",
    "main_df['Город'] = main_df['Город, переезд, командировки'].apply(extract_city)\n",
    "main_df['Город'] = main_df['Город'].astype('category')\n",
    "display(main_df['Город'].value_counts())\n",
    "pitermen = main_df[main_df['Город'] == 'Санкт-Петербург'].shape[0]\n",
    "print('Процент питерских:', round(pitermen / main_df.shape[0] * 100))"
   ]
  },
  {
   "cell_type": "code",
   "execution_count": 14,
   "id": "exclusive-paragraph",
   "metadata": {},
   "outputs": [
    {
     "name": "stdout",
     "output_type": "stream",
     "text": [
      "['Советск (Калининградская область) , не готов к переезду , не готов к командировкам'\n",
      " 'Королев , не готов к переезду , готов к редким командировкам'\n",
      " 'Тверь , не готова к переезду , не готова к командировкам' ...\n",
      " 'Челябинск , готова к переезду , готова к редким командировкам'\n",
      " 'Тамбов , не готов к переезду , не готов к командировкам'\n",
      " 'Москва , не готов к переезду , не готов к командировкам']\n"
     ]
    }
   ],
   "source": [
    "print(main_df['Город, переезд, командировки'].values)"
   ]
  },
  {
   "cell_type": "code",
   "execution_count": 15,
   "id": "cellular-marketing",
   "metadata": {},
   "outputs": [
    {
     "name": "stdout",
     "output_type": "stream",
     "text": [
      "Процент готовых к переезду и командировкам: 32\n"
     ]
    }
   ],
   "source": [
    "def is_ready_for_move(string_: str) -> bool:\n",
    "    if 'не готов к переезду' in string_ \\\n",
    "        or 'не готова к переезду' in string_:\n",
    "            return False\n",
    "    elif 'перее' not in string_:\n",
    "            return False\n",
    "    else:\n",
    "            return True\n",
    "\n",
    "def is_ready_for_mission(string_: str) -> bool:\n",
    "    if 'не готов к командировкам' in string_ \\\n",
    "        or 'не готова к командировкам' in string_:\n",
    "            return False\n",
    "    elif 'командиров' not in string_:\n",
    "            return False\n",
    "    else:\n",
    "            return True\n",
    "\n",
    "main_df['Готовность к переезду'] \\\n",
    "    = main_df['Город, переезд, командировки'].apply(is_ready_for_move)\n",
    "main_df['Готовность к командировкам'] \\\n",
    "    = main_df['Город, переезд, командировки'].apply(is_ready_for_mission)\n",
    "mask1 = main_df['Готовность к переезду'] == True\n",
    "mask2 = main_df['Готовность к командировкам'] == True\n",
    "print('Процент готовых к переезду и командировкам:',\n",
    "      round(main_df[mask1 & mask2].shape[0] / main_df.shape[0] * 100))"
   ]
  },
  {
   "cell_type": "markdown",
   "id": "1509c3f4",
   "metadata": {},
   "source": [
    "----\n",
    "### Задание 3.5 ###\n",
    "\n",
    "Сколько людей ищут проектную работу и волонтёрство (в обоих столбцах стоит\n",
    "`True`)?\n",
    "\n",
    "***Ответ - 436***\n",
    "\n",
    "Сколько людей хотят работать вахтовым методом и с гибким графиком (в обоих\n",
    "столбцах стоит `True`)?\n",
    "\n",
    "***Ответ - 2311***"
   ]
  },
  {
   "cell_type": "code",
   "execution_count": 16,
   "id": "lesser-calculator",
   "metadata": {},
   "outputs": [
    {
     "name": "stdout",
     "output_type": "stream",
     "text": [
      "Первый ответ: 436\n",
      "Второй ответ: 2311\n"
     ]
    }
   ],
   "source": [
    "# hh_set_ini['Занятость'].value_counts()\n",
    "employments_list = ['полная занятость',\n",
    "                    'частичная занятость',\n",
    "                    'проектная работа',\n",
    "                    'стажировка',\n",
    "                    'волонтерство'\n",
    "                   ]\n",
    "\n",
    "# hh_set_ini['График'].value_counts()\n",
    "schedules_list = ['полный день',\n",
    "                  'гибкий график',\n",
    "                  'сменный график',\n",
    "                  'вахтовый метод',\n",
    "                  'удаленная работа'\n",
    "                 ]\n",
    "\n",
    "for employment in employments_list:\n",
    "    main_df[employment] = main_df['Занятость'].aggregate(lambda x: True if employment in x else False, axis='index')\n",
    "\n",
    "for schedule in schedules_list:\n",
    "    main_df[schedule] = main_df['График'].aggregate(lambda x: True if schedule in x else False, axis='index')\n",
    "\n",
    "print('Первый ответ:',\n",
    "     main_df[main_df['проектная работа'] & main_df['волонтерство']].shape[0])\n",
    "print('Второй ответ:',\n",
    "     main_df[main_df['вахтовый метод'] & main_df['гибкий график']].shape[0])\n",
    "\n",
    "main_df.drop(['Занятость', 'График'], axis='columns', inplace=True)"
   ]
  },
  {
   "cell_type": "markdown",
   "id": "b59a956c",
   "metadata": {},
   "source": [
    "----\n",
    "### Задание 3.6 ###\n",
    "\n",
    "Для выполнения этого задания у вас будет 5 попыток. После того как вы дадите\n",
    "правильный ответ ИЛИ истратите все попытки, вы можете нажать на кнопку «Показать\n",
    "ответ»: в конце решения вы увидите ссылку на эталонный ответ.\n",
    "\n",
    "Чему равна желаемая медианная заработная плата соискателей в нашей таблице (в\n",
    "рублях)?\n",
    "\n",
    "Ответ приведите в тысячах рублей и округлите до целого. Например, если у вас\n",
    "получилась медианная з/п 42 127, в качестве ответа укажите 42.\n",
    "\n",
    "***Ответ - 59***"
   ]
  },
  {
   "cell_type": "code",
   "execution_count": 17,
   "id": "unsigned-slave",
   "metadata": {},
   "outputs": [
    {
     "data": {
      "text/html": [
       "<div>\n",
       "<style scoped>\n",
       "    .dataframe tbody tr th:only-of-type {\n",
       "        vertical-align: middle;\n",
       "    }\n",
       "\n",
       "    .dataframe tbody tr th {\n",
       "        vertical-align: top;\n",
       "    }\n",
       "\n",
       "    .dataframe thead th {\n",
       "        text-align: right;\n",
       "    }\n",
       "</style>\n",
       "<table border=\"1\" class=\"dataframe\">\n",
       "  <thead>\n",
       "    <tr style=\"text-align: right;\">\n",
       "      <th></th>\n",
       "      <th>currency</th>\n",
       "      <th>per</th>\n",
       "      <th>date</th>\n",
       "      <th>time</th>\n",
       "      <th>close</th>\n",
       "      <th>vol</th>\n",
       "      <th>proportion</th>\n",
       "    </tr>\n",
       "  </thead>\n",
       "  <tbody>\n",
       "    <tr>\n",
       "      <th>4500</th>\n",
       "      <td>UZS</td>\n",
       "      <td>D</td>\n",
       "      <td>07/09/18</td>\n",
       "      <td>00:00</td>\n",
       "      <td>87.1963</td>\n",
       "      <td>0</td>\n",
       "      <td>10000</td>\n",
       "    </tr>\n",
       "    <tr>\n",
       "      <th>4501</th>\n",
       "      <td>UZS</td>\n",
       "      <td>D</td>\n",
       "      <td>08/09/18</td>\n",
       "      <td>00:00</td>\n",
       "      <td>88.0141</td>\n",
       "      <td>0</td>\n",
       "      <td>10000</td>\n",
       "    </tr>\n",
       "    <tr>\n",
       "      <th>4502</th>\n",
       "      <td>UZS</td>\n",
       "      <td>D</td>\n",
       "      <td>09/09/18</td>\n",
       "      <td>00:00</td>\n",
       "      <td>88.0141</td>\n",
       "      <td>0</td>\n",
       "      <td>10000</td>\n",
       "    </tr>\n",
       "    <tr>\n",
       "      <th>4503</th>\n",
       "      <td>UZS</td>\n",
       "      <td>D</td>\n",
       "      <td>10/09/18</td>\n",
       "      <td>00:00</td>\n",
       "      <td>88.0141</td>\n",
       "      <td>0</td>\n",
       "      <td>10000</td>\n",
       "    </tr>\n",
       "    <tr>\n",
       "      <th>4504</th>\n",
       "      <td>UZS</td>\n",
       "      <td>D</td>\n",
       "      <td>11/09/18</td>\n",
       "      <td>00:00</td>\n",
       "      <td>89.0850</td>\n",
       "      <td>0</td>\n",
       "      <td>10000</td>\n",
       "    </tr>\n",
       "    <tr>\n",
       "      <th>4505</th>\n",
       "      <td>UZS</td>\n",
       "      <td>D</td>\n",
       "      <td>12/09/18</td>\n",
       "      <td>00:00</td>\n",
       "      <td>89.0016</td>\n",
       "      <td>0</td>\n",
       "      <td>10000</td>\n",
       "    </tr>\n",
       "    <tr>\n",
       "      <th>4506</th>\n",
       "      <td>UZS</td>\n",
       "      <td>D</td>\n",
       "      <td>13/09/18</td>\n",
       "      <td>00:00</td>\n",
       "      <td>88.4908</td>\n",
       "      <td>0</td>\n",
       "      <td>10000</td>\n",
       "    </tr>\n",
       "    <tr>\n",
       "      <th>4507</th>\n",
       "      <td>UZS</td>\n",
       "      <td>D</td>\n",
       "      <td>14/09/18</td>\n",
       "      <td>00:00</td>\n",
       "      <td>87.3005</td>\n",
       "      <td>0</td>\n",
       "      <td>10000</td>\n",
       "    </tr>\n",
       "    <tr>\n",
       "      <th>4508</th>\n",
       "      <td>UZS</td>\n",
       "      <td>D</td>\n",
       "      <td>15/09/18</td>\n",
       "      <td>00:00</td>\n",
       "      <td>86.8498</td>\n",
       "      <td>0</td>\n",
       "      <td>10000</td>\n",
       "    </tr>\n",
       "    <tr>\n",
       "      <th>4509</th>\n",
       "      <td>UZS</td>\n",
       "      <td>D</td>\n",
       "      <td>16/09/18</td>\n",
       "      <td>00:00</td>\n",
       "      <td>86.8498</td>\n",
       "      <td>0</td>\n",
       "      <td>10000</td>\n",
       "    </tr>\n",
       "  </tbody>\n",
       "</table>\n",
       "</div>"
      ],
      "text/plain": [
       "     currency per      date   time    close  vol  proportion\n",
       "4500      UZS   D  07/09/18  00:00  87.1963    0       10000\n",
       "4501      UZS   D  08/09/18  00:00  88.0141    0       10000\n",
       "4502      UZS   D  09/09/18  00:00  88.0141    0       10000\n",
       "4503      UZS   D  10/09/18  00:00  88.0141    0       10000\n",
       "4504      UZS   D  11/09/18  00:00  89.0850    0       10000\n",
       "4505      UZS   D  12/09/18  00:00  89.0016    0       10000\n",
       "4506      UZS   D  13/09/18  00:00  88.4908    0       10000\n",
       "4507      UZS   D  14/09/18  00:00  87.3005    0       10000\n",
       "4508      UZS   D  15/09/18  00:00  86.8498    0       10000\n",
       "4509      UZS   D  16/09/18  00:00  86.8498    0       10000"
      ]
     },
     "metadata": {},
     "output_type": "display_data"
    },
    {
     "name": "stdout",
     "output_type": "stream",
     "text": [
      "<class 'pandas.core.frame.DataFrame'>\n",
      "RangeIndex: 5664 entries, 0 to 5663\n",
      "Data columns (total 7 columns):\n",
      " #   Column      Non-Null Count  Dtype  \n",
      "---  ------      --------------  -----  \n",
      " 0   currency    5664 non-null   object \n",
      " 1   per         5664 non-null   object \n",
      " 2   date        5664 non-null   object \n",
      " 3   time        5664 non-null   object \n",
      " 4   close       5664 non-null   float64\n",
      " 5   vol         5664 non-null   int64  \n",
      " 6   proportion  5664 non-null   int64  \n",
      "dtypes: float64(1), int64(2), object(4)\n",
      "memory usage: 309.9+ KB\n"
     ]
    },
    {
     "data": {
      "text/plain": [
       "None"
      ]
     },
     "metadata": {},
     "output_type": "display_data"
    }
   ],
   "source": [
    "rates_df = pd.read_csv('data/ExchangeRates.csv', sep=',')\n",
    "display(rates_df.iloc[4500:4510])\n",
    "display(rates_df.info())"
   ]
  },
  {
   "cell_type": "code",
   "execution_count": 18,
   "id": "historical-mortality",
   "metadata": {},
   "outputs": [
    {
     "name": "stdout",
     "output_type": "stream",
     "text": [
      "База курсов полностью закрывает базу резюме по датам\n",
      "База курсов полностью закрывает базу резюме по датам\n"
     ]
    }
   ],
   "source": [
    "main_df['Обновление резюме'] = pd.to_datetime(main_df['Обновление резюме'], format='%d.%m.%Y %H:%M').dt.date\n",
    "rates_df['date'] = pd.to_datetime(rates_df['date']).dt.date\n",
    "\n",
    "if rates_df['date'].min() < main_df['Обновление резюме'].min() \\\n",
    "    and main_df['Обновление резюме'].max() < rates_df['date'].max():\n",
    "        print('База курсов полностью закрывает базу резюме по датам')\n",
    "\n",
    "if set(main_df['Обновление резюме']).issubset(set(rates_df['date'])):\n",
    "    print('База курсов полностью закрывает базу резюме по датам')"
   ]
  },
  {
   "cell_type": "code",
   "execution_count": 19,
   "id": "happy-plaza",
   "metadata": {},
   "outputs": [
    {
     "data": {
      "text/plain": [
       "USD    708\n",
       "EUR    708\n",
       "KZT    708\n",
       "KGS    708\n",
       "BYN    708\n",
       "UAH    708\n",
       "UZS    708\n",
       "AZN    708\n",
       "Name: currency, dtype: int64"
      ]
     },
     "metadata": {},
     "output_type": "display_data"
    },
    {
     "data": {
      "text/plain": [
       "руб.        42471\n",
       "KZT          1108\n",
       "USD           628\n",
       "бел.руб.      329\n",
       "EUR           106\n",
       "грн.           73\n",
       "сум            20\n",
       "KGS             6\n",
       "AZN             3\n",
       "Name: ЗП, dtype: int64"
      ]
     },
     "metadata": {},
     "output_type": "display_data"
    },
    {
     "data": {
      "text/plain": [
       "руб.    42471\n",
       "KZT      1108\n",
       "USD       628\n",
       "BYN       329\n",
       "EUR       106\n",
       "UAH        73\n",
       "UZS        20\n",
       "KGS         6\n",
       "AZN         3\n",
       "Name: ЗП, dtype: int64"
      ]
     },
     "metadata": {},
     "output_type": "display_data"
    }
   ],
   "source": [
    "display(rates_df['currency'].value_counts())\n",
    "\n",
    "ini_ser = main_df['ЗП'].apply(lambda x: x.split()[1])\n",
    "display(ini_ser.value_counts())\n",
    "\n",
    "tmp_ser = main_df['ЗП'].apply(lambda x: x.split()[1].replace('бел.руб.', 'BYN').replace('грн.', 'UAH').replace('сум', 'UZS'))\n",
    "display(tmp_ser.value_counts())\n",
    "\n",
    "main_df['ЗП'] = main_df['ЗП'].apply(lambda x: x.replace('бел.руб.', 'BYN').replace('грн.', 'UAH').replace('сум', 'UZS'))"
   ]
  },
  {
   "cell_type": "code",
   "execution_count": 20,
   "id": "built-lawyer",
   "metadata": {},
   "outputs": [
    {
     "data": {
      "text/html": [
       "<div>\n",
       "<style scoped>\n",
       "    .dataframe tbody tr th:only-of-type {\n",
       "        vertical-align: middle;\n",
       "    }\n",
       "\n",
       "    .dataframe tbody tr th {\n",
       "        vertical-align: top;\n",
       "    }\n",
       "\n",
       "    .dataframe thead th {\n",
       "        text-align: right;\n",
       "    }\n",
       "</style>\n",
       "<table border=\"1\" class=\"dataframe\">\n",
       "  <thead>\n",
       "    <tr style=\"text-align: right;\">\n",
       "      <th></th>\n",
       "      <th>currency</th>\n",
       "      <th>per</th>\n",
       "      <th>date</th>\n",
       "      <th>time</th>\n",
       "      <th>close</th>\n",
       "      <th>vol</th>\n",
       "      <th>proportion</th>\n",
       "      <th>reduced</th>\n",
       "    </tr>\n",
       "  </thead>\n",
       "  <tbody>\n",
       "    <tr>\n",
       "      <th>4500</th>\n",
       "      <td>UZS</td>\n",
       "      <td>D</td>\n",
       "      <td>2018-07-09</td>\n",
       "      <td>00:00</td>\n",
       "      <td>87.1963</td>\n",
       "      <td>0</td>\n",
       "      <td>10000</td>\n",
       "      <td>0.008720</td>\n",
       "    </tr>\n",
       "    <tr>\n",
       "      <th>4501</th>\n",
       "      <td>UZS</td>\n",
       "      <td>D</td>\n",
       "      <td>2018-08-09</td>\n",
       "      <td>00:00</td>\n",
       "      <td>88.0141</td>\n",
       "      <td>0</td>\n",
       "      <td>10000</td>\n",
       "      <td>0.008801</td>\n",
       "    </tr>\n",
       "    <tr>\n",
       "      <th>4502</th>\n",
       "      <td>UZS</td>\n",
       "      <td>D</td>\n",
       "      <td>2018-09-09</td>\n",
       "      <td>00:00</td>\n",
       "      <td>88.0141</td>\n",
       "      <td>0</td>\n",
       "      <td>10000</td>\n",
       "      <td>0.008801</td>\n",
       "    </tr>\n",
       "    <tr>\n",
       "      <th>4503</th>\n",
       "      <td>UZS</td>\n",
       "      <td>D</td>\n",
       "      <td>2018-10-09</td>\n",
       "      <td>00:00</td>\n",
       "      <td>88.0141</td>\n",
       "      <td>0</td>\n",
       "      <td>10000</td>\n",
       "      <td>0.008801</td>\n",
       "    </tr>\n",
       "    <tr>\n",
       "      <th>4504</th>\n",
       "      <td>UZS</td>\n",
       "      <td>D</td>\n",
       "      <td>2018-11-09</td>\n",
       "      <td>00:00</td>\n",
       "      <td>89.0850</td>\n",
       "      <td>0</td>\n",
       "      <td>10000</td>\n",
       "      <td>0.008908</td>\n",
       "    </tr>\n",
       "    <tr>\n",
       "      <th>4505</th>\n",
       "      <td>UZS</td>\n",
       "      <td>D</td>\n",
       "      <td>2018-12-09</td>\n",
       "      <td>00:00</td>\n",
       "      <td>89.0016</td>\n",
       "      <td>0</td>\n",
       "      <td>10000</td>\n",
       "      <td>0.008900</td>\n",
       "    </tr>\n",
       "    <tr>\n",
       "      <th>4506</th>\n",
       "      <td>UZS</td>\n",
       "      <td>D</td>\n",
       "      <td>2018-09-13</td>\n",
       "      <td>00:00</td>\n",
       "      <td>88.4908</td>\n",
       "      <td>0</td>\n",
       "      <td>10000</td>\n",
       "      <td>0.008849</td>\n",
       "    </tr>\n",
       "    <tr>\n",
       "      <th>4507</th>\n",
       "      <td>UZS</td>\n",
       "      <td>D</td>\n",
       "      <td>2018-09-14</td>\n",
       "      <td>00:00</td>\n",
       "      <td>87.3005</td>\n",
       "      <td>0</td>\n",
       "      <td>10000</td>\n",
       "      <td>0.008730</td>\n",
       "    </tr>\n",
       "    <tr>\n",
       "      <th>4508</th>\n",
       "      <td>UZS</td>\n",
       "      <td>D</td>\n",
       "      <td>2018-09-15</td>\n",
       "      <td>00:00</td>\n",
       "      <td>86.8498</td>\n",
       "      <td>0</td>\n",
       "      <td>10000</td>\n",
       "      <td>0.008685</td>\n",
       "    </tr>\n",
       "    <tr>\n",
       "      <th>4509</th>\n",
       "      <td>UZS</td>\n",
       "      <td>D</td>\n",
       "      <td>2018-09-16</td>\n",
       "      <td>00:00</td>\n",
       "      <td>86.8498</td>\n",
       "      <td>0</td>\n",
       "      <td>10000</td>\n",
       "      <td>0.008685</td>\n",
       "    </tr>\n",
       "  </tbody>\n",
       "</table>\n",
       "</div>"
      ],
      "text/plain": [
       "     currency per        date   time    close  vol  proportion   reduced\n",
       "4500      UZS   D  2018-07-09  00:00  87.1963    0       10000  0.008720\n",
       "4501      UZS   D  2018-08-09  00:00  88.0141    0       10000  0.008801\n",
       "4502      UZS   D  2018-09-09  00:00  88.0141    0       10000  0.008801\n",
       "4503      UZS   D  2018-10-09  00:00  88.0141    0       10000  0.008801\n",
       "4504      UZS   D  2018-11-09  00:00  89.0850    0       10000  0.008908\n",
       "4505      UZS   D  2018-12-09  00:00  89.0016    0       10000  0.008900\n",
       "4506      UZS   D  2018-09-13  00:00  88.4908    0       10000  0.008849\n",
       "4507      UZS   D  2018-09-14  00:00  87.3005    0       10000  0.008730\n",
       "4508      UZS   D  2018-09-15  00:00  86.8498    0       10000  0.008685\n",
       "4509      UZS   D  2018-09-16  00:00  86.8498    0       10000  0.008685"
      ]
     },
     "metadata": {},
     "output_type": "display_data"
    }
   ],
   "source": [
    "rates_df['reduced'] = rates_df['close'] / rates_df['proportion']\n",
    "display(rates_df.iloc[4500:4510])"
   ]
  },
  {
   "cell_type": "code",
   "execution_count": 21,
   "id": "formal-atlantic",
   "metadata": {},
   "outputs": [
    {
     "name": "stdout",
     "output_type": "stream",
     "text": [
      "<class 'pandas.core.frame.DataFrame'>\n",
      "Int64Index: 44744 entries, 0 to 44743\n",
      "Data columns (total 31 columns):\n",
      " #   Column                           Non-Null Count  Dtype   \n",
      "---  ------                           --------------  -----   \n",
      " 0   Пол, возраст                     44744 non-null  object  \n",
      " 1   ЗП                               44744 non-null  object  \n",
      " 2   Ищет работу на должность:        44744 non-null  object  \n",
      " 3   Город, переезд, командировки     44744 non-null  object  \n",
      " 4   Последнее/нынешнее место работы  44743 non-null  object  \n",
      " 5   Последняя/нынешняя должность     44742 non-null  object  \n",
      " 6   Образование и ВУЗ                44744 non-null  object  \n",
      " 7   Обновление резюме                44744 non-null  object  \n",
      " 8   Авто                             44744 non-null  object  \n",
      " 9   Образование                      44744 non-null  object  \n",
      " 10  Год выпуска                      44744 non-null  int64   \n",
      " 11  Пол                              44744 non-null  object  \n",
      " 12  Возраст                          44744 non-null  int64   \n",
      " 13  Опыт работы (месяц)              44574 non-null  float64 \n",
      " 14  Город                            44744 non-null  category\n",
      " 15  Готовность к переезду            44744 non-null  bool    \n",
      " 16  Готовность к командировкам       44744 non-null  bool    \n",
      " 17  полная занятость                 44744 non-null  bool    \n",
      " 18  частичная занятость              44744 non-null  bool    \n",
      " 19  проектная работа                 44744 non-null  bool    \n",
      " 20  стажировка                       44744 non-null  bool    \n",
      " 21  волонтерство                     44744 non-null  bool    \n",
      " 22  полный день                      44744 non-null  bool    \n",
      " 23  гибкий график                    44744 non-null  bool    \n",
      " 24  сменный график                   44744 non-null  bool    \n",
      " 25  вахтовый метод                   44744 non-null  bool    \n",
      " 26  удаленная работа                 44744 non-null  bool    \n",
      " 27  money_name                       44744 non-null  object  \n",
      " 28  currency                         2273 non-null   object  \n",
      " 29  date                             2273 non-null   object  \n",
      " 30  reduced                          2273 non-null   float64 \n",
      "dtypes: bool(12), category(1), float64(2), int64(2), object(14)\n",
      "memory usage: 7.0+ MB\n"
     ]
    }
   ],
   "source": [
    "rates_df.drop(columns=['per', 'time', 'close', 'vol', 'proportion'], inplace=True)\n",
    "main_df['money_name'] = main_df['ЗП'].apply(lambda x: x.split()[1])\n",
    "main_df = main_df.merge(\n",
    "    rates_df,\n",
    "    how='left',\n",
    "    left_on=['Обновление резюме', 'money_name'],\n",
    "    right_on=['date', 'currency']\n",
    ")\n",
    "main_df.info()"
   ]
  },
  {
   "cell_type": "code",
   "execution_count": 22,
   "id": "later-saskatchewan",
   "metadata": {},
   "outputs": [
    {
     "data": {
      "text/html": [
       "<div>\n",
       "<style scoped>\n",
       "    .dataframe tbody tr th:only-of-type {\n",
       "        vertical-align: middle;\n",
       "    }\n",
       "\n",
       "    .dataframe tbody tr th {\n",
       "        vertical-align: top;\n",
       "    }\n",
       "\n",
       "    .dataframe thead th {\n",
       "        text-align: right;\n",
       "    }\n",
       "</style>\n",
       "<table border=\"1\" class=\"dataframe\">\n",
       "  <thead>\n",
       "    <tr style=\"text-align: right;\">\n",
       "      <th></th>\n",
       "      <th>ЗП</th>\n",
       "      <th>money_name</th>\n",
       "      <th>reduced</th>\n",
       "      <th>ЗП (руб)</th>\n",
       "    </tr>\n",
       "  </thead>\n",
       "  <tbody>\n",
       "    <tr>\n",
       "      <th>4500</th>\n",
       "      <td>80000 руб.</td>\n",
       "      <td>руб.</td>\n",
       "      <td>1.000000</td>\n",
       "      <td>80000.0</td>\n",
       "    </tr>\n",
       "    <tr>\n",
       "      <th>4501</th>\n",
       "      <td>65000 руб.</td>\n",
       "      <td>руб.</td>\n",
       "      <td>1.000000</td>\n",
       "      <td>65000.0</td>\n",
       "    </tr>\n",
       "    <tr>\n",
       "      <th>4502</th>\n",
       "      <td>150000 KZT</td>\n",
       "      <td>KZT</td>\n",
       "      <td>0.168680</td>\n",
       "      <td>25302.0</td>\n",
       "    </tr>\n",
       "    <tr>\n",
       "      <th>4503</th>\n",
       "      <td>35000 руб.</td>\n",
       "      <td>руб.</td>\n",
       "      <td>1.000000</td>\n",
       "      <td>35000.0</td>\n",
       "    </tr>\n",
       "    <tr>\n",
       "      <th>4504</th>\n",
       "      <td>150000 руб.</td>\n",
       "      <td>руб.</td>\n",
       "      <td>1.000000</td>\n",
       "      <td>150000.0</td>\n",
       "    </tr>\n",
       "    <tr>\n",
       "      <th>4505</th>\n",
       "      <td>40000 руб.</td>\n",
       "      <td>руб.</td>\n",
       "      <td>1.000000</td>\n",
       "      <td>40000.0</td>\n",
       "    </tr>\n",
       "    <tr>\n",
       "      <th>4506</th>\n",
       "      <td>80000 руб.</td>\n",
       "      <td>руб.</td>\n",
       "      <td>1.000000</td>\n",
       "      <td>80000.0</td>\n",
       "    </tr>\n",
       "    <tr>\n",
       "      <th>4507</th>\n",
       "      <td>300000 KZT</td>\n",
       "      <td>KZT</td>\n",
       "      <td>0.170151</td>\n",
       "      <td>51045.3</td>\n",
       "    </tr>\n",
       "    <tr>\n",
       "      <th>4508</th>\n",
       "      <td>70000 руб.</td>\n",
       "      <td>руб.</td>\n",
       "      <td>1.000000</td>\n",
       "      <td>70000.0</td>\n",
       "    </tr>\n",
       "    <tr>\n",
       "      <th>4509</th>\n",
       "      <td>25000 руб.</td>\n",
       "      <td>руб.</td>\n",
       "      <td>1.000000</td>\n",
       "      <td>25000.0</td>\n",
       "    </tr>\n",
       "  </tbody>\n",
       "</table>\n",
       "</div>"
      ],
      "text/plain": [
       "               ЗП money_name   reduced  ЗП (руб)\n",
       "4500   80000 руб.       руб.  1.000000   80000.0\n",
       "4501   65000 руб.       руб.  1.000000   65000.0\n",
       "4502   150000 KZT        KZT  0.168680   25302.0\n",
       "4503   35000 руб.       руб.  1.000000   35000.0\n",
       "4504  150000 руб.       руб.  1.000000  150000.0\n",
       "4505   40000 руб.       руб.  1.000000   40000.0\n",
       "4506   80000 руб.       руб.  1.000000   80000.0\n",
       "4507   300000 KZT        KZT  0.170151   51045.3\n",
       "4508   70000 руб.       руб.  1.000000   70000.0\n",
       "4509   25000 руб.       руб.  1.000000   25000.0"
      ]
     },
     "metadata": {},
     "output_type": "display_data"
    },
    {
     "data": {
      "text/plain": [
       "59"
      ]
     },
     "execution_count": 22,
     "metadata": {},
     "output_type": "execute_result"
    }
   ],
   "source": [
    "values = {\n",
    "    'reduced': 1.0,\n",
    "}\n",
    "main_df = main_df.fillna(value=values)\n",
    "main_df['ЗП (руб)'] = main_df['ЗП'].apply(lambda x: int(x.split()[0])) * main_df['reduced']\n",
    "display(main_df[['ЗП', 'money_name', 'reduced', 'ЗП (руб)']].iloc[4500:4510])\n",
    "round(main_df['ЗП (руб)'].median() / 1000)"
   ]
  },
  {
   "cell_type": "code",
   "execution_count": 23,
   "id": "mediterranean-setting",
   "metadata": {},
   "outputs": [],
   "source": [
    "main_df.drop(columns=['ЗП', 'money_name', 'currency', 'date', 'reduced'], inplace=True)"
   ]
  },
  {
   "cell_type": "markdown",
   "id": "taken-curve",
   "metadata": {},
   "source": [
    "----\n",
    "\n",
    "### Задание 4.1 ###\n",
    "\n",
    "Чему равно модальное значение возраста соискателей?\n",
    "\n",
    "***Ответ - 30***"
   ]
  },
  {
   "cell_type": "code",
   "execution_count": 49,
   "id": "urban-outreach",
   "metadata": {},
   "outputs": [
    {
     "name": "stdout",
     "output_type": "stream",
     "text": [
      "Модальное значение возраста соискателей - 30\n"
     ]
    },
    {
     "data": {
      "image/png": "[encoded data removed]",
      "text/plain": [
       "<Figure size 864x360 with 2 Axes>"
      ]
     },
     "metadata": {
      "needs_background": "light"
     },
     "output_type": "display_data"
    }
   ],
   "source": [
    "print('Модальное значение возраста соискателей -',\n",
    "    int(main_df['Возраст'].mode())\n",
    "    )\n",
    "fig, axes = plt.subplots(nrows=2, ncols=1, figsize=(12, 5), sharex=True)\n",
    "\n",
    "sns.histplot(\n",
    "    data=main_df,\n",
    "    x='Возраст',\n",
    "    ax=axes[1]\n",
    ")\n",
    "sns.boxplot(\n",
    "    data=main_df,\n",
    "    x='Возраст',\n",
    "    ax=axes[0]\n",
    ")\n",
    "axes[0].set_title('Возрастное распределение соискателей')\n",
    "axes[1].set_ylabel('Количество');"
   ]
  },
  {
   "cell_type": "markdown",
   "id": "activated-findings",
   "metadata": {},
   "source": [
    "----\n",
    "\n",
    "### Задание 4.2 ###\n",
    "\n",
    "Чему равен максимальный опыт работы (в месяцах)?\n",
    "\n",
    "***Ответ - 1188***"
   ]
  },
  {
   "cell_type": "code",
   "execution_count": 51,
   "id": "satellite-intention",
   "metadata": {},
   "outputs": [
    {
     "name": "stdout",
     "output_type": "stream",
     "text": [
      "Минимальный опыт соискателей - 1.0\n",
      "Максимальный опыт соискателей - 1188.0\n",
      "Модальное значение опыта соискателей - 81\n"
     ]
    },
    {
     "data": {
      "text/plain": [
       "count    44574.000000\n",
       "mean       114.418944\n",
       "std         79.047861\n",
       "min          1.000000\n",
       "25%         57.000000\n",
       "50%        100.000000\n",
       "75%        154.000000\n",
       "max       1188.000000\n",
       "Name: Опыт работы (месяц), dtype: float64"
      ]
     },
     "execution_count": 51,
     "metadata": {},
     "output_type": "execute_result"
    },
    {
     "data": {
      "image/png": "[encoded data removed]",
      "text/plain": [
       "<Figure size 720x288 with 2 Axes>"
      ]
     },
     "metadata": {
      "needs_background": "light"
     },
     "output_type": "display_data"
    }
   ],
   "source": [
    "fig, axes = plt.subplots(nrows=2, ncols=1, figsize=(10, 4), sharex=True)\n",
    "sns.boxplot(\n",
    "    data=main_df['Опыт работы (месяц)'],\n",
    "    orient='h',\n",
    "    ax=axes[0]\n",
    ")\n",
    "sns.histplot(\n",
    "    data=main_df['Опыт работы (месяц)'],\n",
    "    ax=axes[1]\n",
    ")\n",
    "axes[0].set_title('Распределение соискателей по опыту (в месяцах)')\n",
    "axes[1].set_ylabel('Количество');\n",
    "\n",
    "print('Минимальный опыт соискателей -', main_df['Опыт работы (месяц)'].min())\n",
    "print('Максимальный опыт соискателей -', main_df['Опыт работы (месяц)'].max())\n",
    "print('Модальное значение опыта соискателей -', int(main_df['Опыт работы (месяц)'].mode()))\n",
    "main_df['Опыт работы (месяц)'].describe()"
   ]
  },
  {
   "cell_type": "markdown",
   "id": "vanilla-helen",
   "metadata": {},
   "source": [
    "----\n",
    "\n",
    "### Задание 4.3 ###\n",
    "\n",
    "Определите по графику, сколько соискателей требуют заработную плату выше 1 миллиона рублей.\n",
    "\n",
    "***Ответ - 5***"
   ]
  },
  {
   "cell_type": "code",
   "execution_count": 59,
   "id": "weighted-destruction",
   "metadata": {},
   "outputs": [
    {
     "data": {
      "text/plain": [
       "44744"
      ]
     },
     "execution_count": 59,
     "metadata": {},
     "output_type": "execute_result"
    }
   ],
   "source": [
    "main_df['ЗП (руб)'].shape[0]"
   ]
  },
  {
   "cell_type": "code",
   "execution_count": 61,
   "id": "numeric-corporation",
   "metadata": {},
   "outputs": [
    {
     "data": {
      "text/plain": [
       "5"
      ]
     },
     "execution_count": 61,
     "metadata": {},
     "output_type": "execute_result"
    }
   ],
   "source": [
    "main_df[main_df['ЗП (руб)'] > 1000000].shape[0]"
   ]
  },
  {
   "cell_type": "code",
   "execution_count": 62,
   "id": "pending-think",
   "metadata": {},
   "outputs": [
    {
     "data": {
      "text/plain": [
       "32"
      ]
     },
     "execution_count": 62,
     "metadata": {},
     "output_type": "execute_result"
    }
   ],
   "source": [
    "main_df[main_df['ЗП (руб)'] > 500_000].shape[0]"
   ]
  },
  {
   "cell_type": "code",
   "execution_count": 64,
   "id": "digital-medication",
   "metadata": {},
   "outputs": [
    {
     "data": {
      "image/png": "[encoded data removed]",
      "text/plain": [
       "<Figure size 864x576 with 2 Axes>"
      ]
     },
     "metadata": {
      "needs_background": "light"
     },
     "output_type": "display_data"
    }
   ],
   "source": [
    "fixed_salary_ser = main_df[main_df['ЗП (руб)'] <= 1_000_000]['ЗП (руб)']\n",
    "\n",
    "fig, axes = plt.subplots(nrows=2, ncols=1, figsize=(12, 8), sharex=True)\n",
    "sns.boxplot(\n",
    "    data=fixed_salary_ser,\n",
    "    orient='h',\n",
    "    ax=axes[0]\n",
    ")\n",
    "sns.histplot(\n",
    "    data=fixed_salary_ser,\n",
    "    kde=True,\n",
    "    bins=100,\n",
    "    ax=axes[1]\n",
    ")\n",
    "axes[0].set_title('Распределение по зарплате')\n",
    "axes[1].set_ylabel('Количество');\n"
   ]
  },
  {
   "cell_type": "markdown",
   "id": "executed-needle",
   "metadata": {},
   "source": [
    "----\n",
    "\n",
    "###  Задание 4.4 ###\n",
    "\n",
    "Какая категория образования оплачивается выше всех по медианному показателю?\n",
    "\n",
    "***Ответ - Высшее***"
   ]
  },
  {
   "cell_type": "code",
   "execution_count": 80,
   "id": "cooked-military",
   "metadata": {},
   "outputs": [
    {
     "data": {
      "text/html": [
       "<div>\n",
       "<style scoped>\n",
       "    .dataframe tbody tr th:only-of-type {\n",
       "        vertical-align: middle;\n",
       "    }\n",
       "\n",
       "    .dataframe tbody tr th {\n",
       "        vertical-align: top;\n",
       "    }\n",
       "\n",
       "    .dataframe thead th {\n",
       "        text-align: right;\n",
       "    }\n",
       "</style>\n",
       "<table border=\"1\" class=\"dataframe\">\n",
       "  <thead>\n",
       "    <tr style=\"text-align: right;\">\n",
       "      <th></th>\n",
       "      <th>ЗП (руб)</th>\n",
       "    </tr>\n",
       "    <tr>\n",
       "      <th>Образование</th>\n",
       "      <th></th>\n",
       "    </tr>\n",
       "  </thead>\n",
       "  <tbody>\n",
       "    <tr>\n",
       "      <th>Высшее</th>\n",
       "      <td>60000.0</td>\n",
       "    </tr>\n",
       "    <tr>\n",
       "      <th>Неоконченное высшее</th>\n",
       "      <td>50000.0</td>\n",
       "    </tr>\n",
       "    <tr>\n",
       "      <th>Среднее</th>\n",
       "      <td>40000.0</td>\n",
       "    </tr>\n",
       "    <tr>\n",
       "      <th>Среднее специальное</th>\n",
       "      <td>40000.0</td>\n",
       "    </tr>\n",
       "  </tbody>\n",
       "</table>\n",
       "</div>"
      ],
      "text/plain": [
       "                     ЗП (руб)\n",
       "Образование                  \n",
       "Высшее                60000.0\n",
       "Неоконченное высшее   50000.0\n",
       "Среднее               40000.0\n",
       "Среднее специальное   40000.0"
      ]
     },
     "metadata": {},
     "output_type": "display_data"
    },
    {
     "data": {
      "image/png": "[encoded data removed]",
      "text/plain": [
       "<Figure size 432x288 with 1 Axes>"
      ]
     },
     "metadata": {
      "needs_background": "light"
     },
     "output_type": "display_data"
    }
   ],
   "source": [
    "edu_sal_df = main_df[main_df['ЗП (руб)'] <= 1_000_000][['ЗП (руб)', 'Образование']].groupby('Образование', as_index=True).median()\n",
    "display(edu_sal_df)\n",
    "barplot = sns.barplot(\n",
    "    data=edu_sal_df,\n",
    "    x='ЗП (руб)',\n",
    "    y=edu_sal_df.index\n",
    ")\n",
    "barplot.set_title('Медианная зарплата по образованию')\n",
    "barplot.grid()"
   ]
  },
  {
   "cell_type": "markdown",
   "id": "thermal-identification",
   "metadata": {},
   "source": [
    "----\n",
    "\n",
    "### Задание 4.5 ###\n",
    "\n",
    "В каком городе (категории городов) зафиксирован наибольший показатель желаемой заработной платы (~924 тысячи рублей)?\n",
    "\n",
    "***Ответ - другие***"
   ]
  },
  {
   "cell_type": "code",
   "execution_count": 84,
   "id": "parental-chuck",
   "metadata": {},
   "outputs": [
    {
     "name": "stdout",
     "output_type": "stream",
     "text": [
      "Медианные зарплаты по городам:\n"
     ]
    },
    {
     "data": {
      "text/html": [
       "<div>\n",
       "<style scoped>\n",
       "    .dataframe tbody tr th:only-of-type {\n",
       "        vertical-align: middle;\n",
       "    }\n",
       "\n",
       "    .dataframe tbody tr th {\n",
       "        vertical-align: top;\n",
       "    }\n",
       "\n",
       "    .dataframe thead th {\n",
       "        text-align: right;\n",
       "    }\n",
       "</style>\n",
       "<table border=\"1\" class=\"dataframe\">\n",
       "  <thead>\n",
       "    <tr style=\"text-align: right;\">\n",
       "      <th></th>\n",
       "      <th>ЗП (руб)</th>\n",
       "    </tr>\n",
       "    <tr>\n",
       "      <th>Город</th>\n",
       "      <th></th>\n",
       "    </tr>\n",
       "  </thead>\n",
       "  <tbody>\n",
       "    <tr>\n",
       "      <th>Москва</th>\n",
       "      <td>85000.0</td>\n",
       "    </tr>\n",
       "    <tr>\n",
       "      <th>Санкт-Петербург</th>\n",
       "      <td>60000.0</td>\n",
       "    </tr>\n",
       "    <tr>\n",
       "      <th>город-миллионник</th>\n",
       "      <td>40000.0</td>\n",
       "    </tr>\n",
       "    <tr>\n",
       "      <th>другие</th>\n",
       "      <td>40000.0</td>\n",
       "    </tr>\n",
       "  </tbody>\n",
       "</table>\n",
       "</div>"
      ],
      "text/plain": [
       "                  ЗП (руб)\n",
       "Город                     \n",
       "Москва             85000.0\n",
       "Санкт-Петербург    60000.0\n",
       "город-миллионник   40000.0\n",
       "другие             40000.0"
      ]
     },
     "metadata": {},
     "output_type": "display_data"
    },
    {
     "data": {
      "image/png": "[encoded data removed]",
      "text/plain": [
       "<Figure size 432x288 with 1 Axes>"
      ]
     },
     "metadata": {
      "needs_background": "light"
     },
     "output_type": "display_data"
    }
   ],
   "source": [
    "sal_city_df = main_df[main_df['ЗП (руб)'] < 1_000_000][['ЗП (руб)', 'Город']]\n",
    "boxgraph = sns.boxplot(\n",
    "    data=sal_city_df,\n",
    "    x='ЗП (руб)',\n",
    "    y='Город',\n",
    ")\n",
    "boxgraph.set_title('Желаемая зарплата по городам')\n",
    "boxgraph.grid();\n",
    "\n",
    "median_salary_df = main_df[main_df['ЗП (руб)'] < 1_000_000][['ЗП (руб)', 'Город']].groupby('Город').median()\n",
    "print('Медианные зарплаты по городам:')\n",
    "display(median_salary_df)"
   ]
  },
  {
   "cell_type": "markdown",
   "id": "dried-management",
   "metadata": {},
   "source": [
    "----\n",
    "\n",
    "### Задание 4.6 ###\n",
    "\n",
    "Чему равна желаемая медианная заработная плата соискателей, готовых и к переезду, и к командировкам? Ответ приведите в тысячах, округлив до целого (например, 45).\n",
    "\n",
    "***Ответ - 66***"
   ]
  },
  {
   "cell_type": "code",
   "execution_count": 124,
   "id": "loving-commander",
   "metadata": {},
   "outputs": [
    {
     "data": {
      "text/html": [
       "<div>\n",
       "<style scoped>\n",
       "    .dataframe tbody tr th:only-of-type {\n",
       "        vertical-align: middle;\n",
       "    }\n",
       "\n",
       "    .dataframe tbody tr th {\n",
       "        vertical-align: top;\n",
       "    }\n",
       "\n",
       "    .dataframe thead th {\n",
       "        text-align: right;\n",
       "    }\n",
       "</style>\n",
       "<table border=\"1\" class=\"dataframe\">\n",
       "  <thead>\n",
       "    <tr style=\"text-align: right;\">\n",
       "      <th></th>\n",
       "      <th>Готовность к переезду</th>\n",
       "      <th>Готовность к командировкам</th>\n",
       "      <th>ЗП (руб)</th>\n",
       "    </tr>\n",
       "  </thead>\n",
       "  <tbody>\n",
       "    <tr>\n",
       "      <th>0</th>\n",
       "      <td>False</td>\n",
       "      <td>False</td>\n",
       "      <td>40000.0</td>\n",
       "    </tr>\n",
       "    <tr>\n",
       "      <th>1</th>\n",
       "      <td>False</td>\n",
       "      <td>True</td>\n",
       "      <td>60000.0</td>\n",
       "    </tr>\n",
       "    <tr>\n",
       "      <th>2</th>\n",
       "      <td>True</td>\n",
       "      <td>False</td>\n",
       "      <td>50000.0</td>\n",
       "    </tr>\n",
       "    <tr>\n",
       "      <th>3</th>\n",
       "      <td>True</td>\n",
       "      <td>True</td>\n",
       "      <td>65554.7</td>\n",
       "    </tr>\n",
       "  </tbody>\n",
       "</table>\n",
       "</div>"
      ],
      "text/plain": [
       "   Готовность к переезду  Готовность к командировкам  ЗП (руб)\n",
       "0                  False                       False   40000.0\n",
       "1                  False                        True   60000.0\n",
       "2                   True                       False   50000.0\n",
       "3                   True                        True   65554.7"
      ]
     },
     "metadata": {},
     "output_type": "display_data"
    },
    {
     "name": "stdout",
     "output_type": "stream",
     "text": [
      "66\n"
     ]
    },
    {
     "data": {
      "text/plain": [
       "Text(0.5, 1.0, 'Медианная зарплата при готовности к переезду и командировкам')"
      ]
     },
     "execution_count": 124,
     "metadata": {},
     "output_type": "execute_result"
    },
    {
     "data": {
      "image/png": "[encoded data removed]",
      "text/plain": [
       "<Figure size 432x288 with 1 Axes>"
      ]
     },
     "metadata": {
      "needs_background": "light"
     },
     "output_type": "display_data"
    }
   ],
   "source": [
    "# main_df.info()\n",
    "mov_mis_df = main_df[main_df['ЗП (руб)'] < 1_000_000]\\\n",
    "    [['ЗП (руб)', 'Готовность к переезду', 'Готовность к командировкам']]\\\n",
    "    .groupby(['Готовность к переезду', 'Готовность к командировкам'], as_index=False).median()\n",
    "display(mov_mis_df)\n",
    "# display(mov_mis_df.loc[(mov_mis_df['Готовность к переезду'] == True) & (mov_mis_df['Готовность к командировкам'] == True), 'ЗП (руб)'])\n",
    "cell = mov_mis_df['ЗП (руб)'].loc[(mov_mis_df['Готовность к переезду'] == True) & (mov_mis_df['Готовность к командировкам'] == True)]\n",
    "print(round(float(cell) / 1000))\n",
    "\n",
    "bargraph = sns.barplot(\n",
    "    data=mov_mis_df,\n",
    "    x='ЗП (руб)',\n",
    "    y='Готовность к переезду',\n",
    "    hue='Готовность к командировкам',\n",
    "    orient='h',\n",
    "    order=[True, False],\n",
    "    hue_order=[True, False]\n",
    ")\n",
    "bargraph.set_title('Медианная зарплата при готовности к переезду и командировкам')"
   ]
  },
  {
   "cell_type": "markdown",
   "id": "desirable-yesterday",
   "metadata": {},
   "source": [
    "----\n",
    "\n",
    "### Задание 4.7 ###\n",
    "\n",
    "Для какой категории образования наблюдается самый быстрый карьерный рост (то есть интенсивность роста заработной платы наибольшая)?\n",
    "\n",
    "***Ответ -***"
   ]
  },
  {
   "cell_type": "markdown",
   "id": "viral-liechtenstein",
   "metadata": {},
   "source": [
    "----\n",
    "\n",
    "### Задание 4.8 ###\n",
    "\n",
    "Сколько точек лежат строго выше построенной прямой? Так как точки могут сливаться с прямой, то для ответа на этот вопрос проще всего воспользоваться интерактивной визуализацией либо получить таблицу с наблюдениями, лежащими выше прямой с помощью фильтрации."
   ]
  },
  {
   "cell_type": "code",
   "execution_count": null,
   "id": "awful-norwegian",
   "metadata": {},
   "outputs": [],
   "source": []
  }
 ],
 "metadata": {
  "kernelspec": {
   "display_name": "Python 3",
   "language": "python",
   "name": "python3"
  },
  "language_info": {
   "codemirror_mode": {
    "name": "ipython",
    "version": 3
   },
   "file_extension": ".py",
   "mimetype": "text/x-python",
   "name": "python",
   "nbconvert_exporter": "python",
   "pygments_lexer": "ipython3",
   "version": "3.9.13"
  }
 },
 "nbformat": 4,
 "nbformat_minor": 5
}
