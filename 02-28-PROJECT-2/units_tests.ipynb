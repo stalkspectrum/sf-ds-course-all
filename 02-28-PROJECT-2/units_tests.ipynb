{
 "cells": [
  {
   "cell_type": "code",
   "execution_count": 8,
   "id": "damaged-verification",
   "metadata": {},
   "outputs": [],
   "source": [
    "import psycopg2\n",
    "import pandas as pd"
   ]
  },
  {
   "cell_type": "code",
   "execution_count": 9,
   "id": "spare-print",
   "metadata": {},
   "outputs": [],
   "source": [
    "''' Аттрибуты подключения содержатся в отдельном файле для безопасности.\n",
    "    Импортируются в словарь, который далее используется при подключении\n",
    "    и запросах к базе.\n",
    "'''\n",
    "import creds as c_\n",
    "\n",
    "CONN_ATTR = {\n",
    "    'user': c_.USER,\n",
    "    'password': c_.PASSWORD,\n",
    "    'host': c_.HOST,\n",
    "    'port': c_.PORT,\n",
    "    'dbname': c_.DBNAME\n",
    "    }\n",
    "\n",
    "def make_request(query_: str) -> object:\n",
    "    ''' Делает запросы к БД с определёнными аттрибутами\n",
    "    Arguments:\n",
    "        query_ [str] -- Строка SQL-запроса (можно многострочник)\n",
    "    Returns:\n",
    "        [object] -- Ответ на запрос\n",
    "    '''\n",
    "    with psycopg2.connect(**CONN_ATTR) as conn:\n",
    "        return pd.read_sql_query(query_, conn)"
   ]
  },
  {
   "cell_type": "markdown",
   "id": "impossible-antarctica",
   "metadata": {},
   "source": [
    "### Задание 3.1 ###\n",
    "\n",
    "Сколько вакансий есть в базе?\n",
    "\n",
    "***Ответ - 49197***"
   ]
  },
  {
   "cell_type": "code",
   "execution_count": 10,
   "id": "distinguished-vanilla",
   "metadata": {},
   "outputs": [
    {
     "name": "stderr",
     "output_type": "stream",
     "text": [
      "c:\\programs\\python39\\lib\\site-packages\\pandas\\io\\sql.py:761: UserWarning: pandas only support SQLAlchemy connectable(engine/connection) ordatabase string URI or sqlite3 DBAPI2 connectionother DBAPI2 objects are not tested, please consider using SQLAlchemy\n",
      "  warnings.warn(\n"
     ]
    },
    {
     "data": {
      "text/html": [
       "<div>\n",
       "<style scoped>\n",
       "    .dataframe tbody tr th:only-of-type {\n",
       "        vertical-align: middle;\n",
       "    }\n",
       "\n",
       "    .dataframe tbody tr th {\n",
       "        vertical-align: top;\n",
       "    }\n",
       "\n",
       "    .dataframe thead th {\n",
       "        text-align: right;\n",
       "    }\n",
       "</style>\n",
       "<table border=\"1\" class=\"dataframe\">\n",
       "  <thead>\n",
       "    <tr style=\"text-align: right;\">\n",
       "      <th></th>\n",
       "      <th>count</th>\n",
       "    </tr>\n",
       "  </thead>\n",
       "  <tbody>\n",
       "    <tr>\n",
       "      <th>0</th>\n",
       "      <td>49197</td>\n",
       "    </tr>\n",
       "  </tbody>\n",
       "</table>\n",
       "</div>"
      ],
      "text/plain": [
       "   count\n",
       "0  49197"
      ]
     },
     "metadata": {},
     "output_type": "display_data"
    }
   ],
   "source": [
    "query_3_1 = f'''\n",
    "SELECT COUNT(*)\n",
    "FROM public.vacancies\n",
    "'''\n",
    "display(make_request(query_3_1))"
   ]
  },
  {
   "cell_type": "markdown",
   "id": "absent-growing",
   "metadata": {},
   "source": [
    "### Задание 3.2 ###\n",
    "\n",
    "Сколько работодателей?\n",
    "\n",
    "***Ответ - 23501***"
   ]
  },
  {
   "cell_type": "code",
   "execution_count": 11,
   "id": "spatial-sussex",
   "metadata": {},
   "outputs": [
    {
     "name": "stderr",
     "output_type": "stream",
     "text": [
      "c:\\programs\\python39\\lib\\site-packages\\pandas\\io\\sql.py:761: UserWarning: pandas only support SQLAlchemy connectable(engine/connection) ordatabase string URI or sqlite3 DBAPI2 connectionother DBAPI2 objects are not tested, please consider using SQLAlchemy\n",
      "  warnings.warn(\n"
     ]
    },
    {
     "data": {
      "text/html": [
       "<div>\n",
       "<style scoped>\n",
       "    .dataframe tbody tr th:only-of-type {\n",
       "        vertical-align: middle;\n",
       "    }\n",
       "\n",
       "    .dataframe tbody tr th {\n",
       "        vertical-align: top;\n",
       "    }\n",
       "\n",
       "    .dataframe thead th {\n",
       "        text-align: right;\n",
       "    }\n",
       "</style>\n",
       "<table border=\"1\" class=\"dataframe\">\n",
       "  <thead>\n",
       "    <tr style=\"text-align: right;\">\n",
       "      <th></th>\n",
       "      <th>count</th>\n",
       "    </tr>\n",
       "  </thead>\n",
       "  <tbody>\n",
       "    <tr>\n",
       "      <th>0</th>\n",
       "      <td>23501</td>\n",
       "    </tr>\n",
       "  </tbody>\n",
       "</table>\n",
       "</div>"
      ],
      "text/plain": [
       "   count\n",
       "0  23501"
      ]
     },
     "metadata": {},
     "output_type": "display_data"
    }
   ],
   "source": [
    "query_3_2 = f'''\n",
    "SELECT COUNT(*)\n",
    "FROM public.employers\n",
    "'''\n",
    "display(make_request(query_3_2))"
   ]
  },
  {
   "cell_type": "markdown",
   "id": "asian-somewhere",
   "metadata": {},
   "source": [
    "### Задание 3.3 ###\n",
    "\n",
    "Сколько регионов?\n",
    "\n",
    "***Ответ - 1362***"
   ]
  },
  {
   "cell_type": "code",
   "execution_count": 12,
   "id": "growing-creativity",
   "metadata": {},
   "outputs": [
    {
     "name": "stderr",
     "output_type": "stream",
     "text": [
      "c:\\programs\\python39\\lib\\site-packages\\pandas\\io\\sql.py:761: UserWarning: pandas only support SQLAlchemy connectable(engine/connection) ordatabase string URI or sqlite3 DBAPI2 connectionother DBAPI2 objects are not tested, please consider using SQLAlchemy\n",
      "  warnings.warn(\n"
     ]
    },
    {
     "data": {
      "text/html": [
       "<div>\n",
       "<style scoped>\n",
       "    .dataframe tbody tr th:only-of-type {\n",
       "        vertical-align: middle;\n",
       "    }\n",
       "\n",
       "    .dataframe tbody tr th {\n",
       "        vertical-align: top;\n",
       "    }\n",
       "\n",
       "    .dataframe thead th {\n",
       "        text-align: right;\n",
       "    }\n",
       "</style>\n",
       "<table border=\"1\" class=\"dataframe\">\n",
       "  <thead>\n",
       "    <tr style=\"text-align: right;\">\n",
       "      <th></th>\n",
       "      <th>count</th>\n",
       "    </tr>\n",
       "  </thead>\n",
       "  <tbody>\n",
       "    <tr>\n",
       "      <th>0</th>\n",
       "      <td>1362</td>\n",
       "    </tr>\n",
       "  </tbody>\n",
       "</table>\n",
       "</div>"
      ],
      "text/plain": [
       "   count\n",
       "0   1362"
      ]
     },
     "metadata": {},
     "output_type": "display_data"
    }
   ],
   "source": [
    "query_3_2 = f'''\n",
    "SELECT COUNT(*)\n",
    "FROM public.areas\n",
    "'''\n",
    "display(make_request(query_3_2))"
   ]
  },
  {
   "cell_type": "markdown",
   "id": "elegant-utility",
   "metadata": {},
   "source": [
    "### Задание 3.3 ###\n",
    "\n",
    "Сколько сфер деятельности?\n",
    "\n",
    "***Ответ - 294***"
   ]
  },
  {
   "cell_type": "code",
   "execution_count": 13,
   "id": "hawaiian-depth",
   "metadata": {},
   "outputs": [
    {
     "name": "stderr",
     "output_type": "stream",
     "text": [
      "c:\\programs\\python39\\lib\\site-packages\\pandas\\io\\sql.py:761: UserWarning: pandas only support SQLAlchemy connectable(engine/connection) ordatabase string URI or sqlite3 DBAPI2 connectionother DBAPI2 objects are not tested, please consider using SQLAlchemy\n",
      "  warnings.warn(\n"
     ]
    },
    {
     "data": {
      "text/html": [
       "<div>\n",
       "<style scoped>\n",
       "    .dataframe tbody tr th:only-of-type {\n",
       "        vertical-align: middle;\n",
       "    }\n",
       "\n",
       "    .dataframe tbody tr th {\n",
       "        vertical-align: top;\n",
       "    }\n",
       "\n",
       "    .dataframe thead th {\n",
       "        text-align: right;\n",
       "    }\n",
       "</style>\n",
       "<table border=\"1\" class=\"dataframe\">\n",
       "  <thead>\n",
       "    <tr style=\"text-align: right;\">\n",
       "      <th></th>\n",
       "      <th>count</th>\n",
       "    </tr>\n",
       "  </thead>\n",
       "  <tbody>\n",
       "    <tr>\n",
       "      <th>0</th>\n",
       "      <td>294</td>\n",
       "    </tr>\n",
       "  </tbody>\n",
       "</table>\n",
       "</div>"
      ],
      "text/plain": [
       "   count\n",
       "0    294"
      ]
     },
     "metadata": {},
     "output_type": "display_data"
    }
   ],
   "source": [
    "query_3_4 = f'''\n",
    "SELECT COUNT(*)\n",
    "FROM public.industries\n",
    "'''\n",
    "display(make_request(query_3_4))"
   ]
  },
  {
   "cell_type": "code",
   "execution_count": null,
   "id": "packed-mixer",
   "metadata": {},
   "outputs": [],
   "source": []
  }
 ],
 "metadata": {
  "kernelspec": {
   "display_name": "Python 3",
   "language": "python",
   "name": "python3"
  },
  "language_info": {
   "codemirror_mode": {
    "name": "ipython",
    "version": 3
   },
   "file_extension": ".py",
   "mimetype": "text/x-python",
   "name": "python",
   "nbconvert_exporter": "python",
   "pygments_lexer": "ipython3",
   "version": "3.9.13"
  }
 },
 "nbformat": 4,
 "nbformat_minor": 5
}
