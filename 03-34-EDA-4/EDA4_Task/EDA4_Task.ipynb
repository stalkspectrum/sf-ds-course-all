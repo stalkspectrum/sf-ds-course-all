{
 "cells": [
  {
   "cell_type": "markdown",
   "metadata": {},
   "source": [
    "# Статистические тесты в контексте EDA #"
   ]
  },
  {
   "cell_type": "markdown",
   "metadata": {},
   "source": [
    "Описание задания и решение приведены в README-файле по ссыдке:    \n",
    "[https://github.com/stalkspectrum/sf-ds-course-all/blob/master/03-34-EDA-4/EDA4_Task/README.md](https://github.com/stalkspectrum/sf-ds-course-all/blob/master/03-34-EDA-4/EDA4_Task/README.md)"
   ]
  },
  {
   "cell_type": "code",
   "execution_count": 1,
   "metadata": {},
   "outputs": [],
   "source": [
    "import pandas as pd\n",
    "import numpy as np\n",
    "from matplotlib import pyplot as plt\n",
    "import seaborn as sns\n",
    "import statsmodels.api as sm\n",
    "import scipy.stats as stats\n",
    "\n",
    "import warnings\n",
    "warnings.filterwarnings('ignore')"
   ]
  },
  {
   "cell_type": "markdown",
   "metadata": {},
   "source": [
    "## 1. Загрузка и обработка данных ##"
   ]
  },
  {
   "cell_type": "code",
   "execution_count": 2,
   "metadata": {},
   "outputs": [
    {
     "data": {
      "text/html": [
       "<div>\n",
       "<style scoped>\n",
       "    .dataframe tbody tr th:only-of-type {\n",
       "        vertical-align: middle;\n",
       "    }\n",
       "\n",
       "    .dataframe tbody tr th {\n",
       "        vertical-align: top;\n",
       "    }\n",
       "\n",
       "    .dataframe thead th {\n",
       "        text-align: right;\n",
       "    }\n",
       "</style>\n",
       "<table border=\"1\" class=\"dataframe\">\n",
       "  <thead>\n",
       "    <tr style=\"text-align: right;\">\n",
       "      <th></th>\n",
       "      <th>Unnamed: 0</th>\n",
       "      <th>work_year</th>\n",
       "      <th>experience_level</th>\n",
       "      <th>employment_type</th>\n",
       "      <th>job_title</th>\n",
       "      <th>salary</th>\n",
       "      <th>salary_currency</th>\n",
       "      <th>salary_in_usd</th>\n",
       "      <th>employee_residence</th>\n",
       "      <th>remote_ratio</th>\n",
       "      <th>company_location</th>\n",
       "      <th>company_size</th>\n",
       "    </tr>\n",
       "  </thead>\n",
       "  <tbody>\n",
       "    <tr>\n",
       "      <th>0</th>\n",
       "      <td>0</td>\n",
       "      <td>2020</td>\n",
       "      <td>MI</td>\n",
       "      <td>FT</td>\n",
       "      <td>Data Scientist</td>\n",
       "      <td>70000</td>\n",
       "      <td>EUR</td>\n",
       "      <td>79833</td>\n",
       "      <td>DE</td>\n",
       "      <td>0</td>\n",
       "      <td>DE</td>\n",
       "      <td>L</td>\n",
       "    </tr>\n",
       "    <tr>\n",
       "      <th>1</th>\n",
       "      <td>1</td>\n",
       "      <td>2020</td>\n",
       "      <td>SE</td>\n",
       "      <td>FT</td>\n",
       "      <td>Machine Learning Scientist</td>\n",
       "      <td>260000</td>\n",
       "      <td>USD</td>\n",
       "      <td>260000</td>\n",
       "      <td>JP</td>\n",
       "      <td>0</td>\n",
       "      <td>JP</td>\n",
       "      <td>S</td>\n",
       "    </tr>\n",
       "    <tr>\n",
       "      <th>2</th>\n",
       "      <td>2</td>\n",
       "      <td>2020</td>\n",
       "      <td>SE</td>\n",
       "      <td>FT</td>\n",
       "      <td>Big Data Engineer</td>\n",
       "      <td>85000</td>\n",
       "      <td>GBP</td>\n",
       "      <td>109024</td>\n",
       "      <td>GB</td>\n",
       "      <td>50</td>\n",
       "      <td>GB</td>\n",
       "      <td>M</td>\n",
       "    </tr>\n",
       "    <tr>\n",
       "      <th>3</th>\n",
       "      <td>3</td>\n",
       "      <td>2020</td>\n",
       "      <td>MI</td>\n",
       "      <td>FT</td>\n",
       "      <td>Product Data Analyst</td>\n",
       "      <td>20000</td>\n",
       "      <td>USD</td>\n",
       "      <td>20000</td>\n",
       "      <td>HN</td>\n",
       "      <td>0</td>\n",
       "      <td>HN</td>\n",
       "      <td>S</td>\n",
       "    </tr>\n",
       "    <tr>\n",
       "      <th>4</th>\n",
       "      <td>4</td>\n",
       "      <td>2020</td>\n",
       "      <td>SE</td>\n",
       "      <td>FT</td>\n",
       "      <td>Machine Learning Engineer</td>\n",
       "      <td>150000</td>\n",
       "      <td>USD</td>\n",
       "      <td>150000</td>\n",
       "      <td>US</td>\n",
       "      <td>50</td>\n",
       "      <td>US</td>\n",
       "      <td>L</td>\n",
       "    </tr>\n",
       "  </tbody>\n",
       "</table>\n",
       "</div>"
      ],
      "text/plain": [
       "   Unnamed: 0  work_year experience_level employment_type  \\\n",
       "0           0       2020               MI              FT   \n",
       "1           1       2020               SE              FT   \n",
       "2           2       2020               SE              FT   \n",
       "3           3       2020               MI              FT   \n",
       "4           4       2020               SE              FT   \n",
       "\n",
       "                    job_title  salary salary_currency  salary_in_usd  \\\n",
       "0              Data Scientist   70000             EUR          79833   \n",
       "1  Machine Learning Scientist  260000             USD         260000   \n",
       "2           Big Data Engineer   85000             GBP         109024   \n",
       "3        Product Data Analyst   20000             USD          20000   \n",
       "4   Machine Learning Engineer  150000             USD         150000   \n",
       "\n",
       "  employee_residence  remote_ratio company_location company_size  \n",
       "0                 DE             0               DE            L  \n",
       "1                 JP             0               JP            S  \n",
       "2                 GB            50               GB            M  \n",
       "3                 HN             0               HN            S  \n",
       "4                 US            50               US            L  "
      ]
     },
     "metadata": {},
     "output_type": "display_data"
    }
   ],
   "source": [
    "main_df = pd.read_csv('salaries.csv')\n",
    "copy_df = main_df.copy()    # Резервная копия для дополнительных исследований\n",
    "display(main_df.head())"
   ]
  },
  {
   "cell_type": "markdown",
   "metadata": {},
   "source": [
    "##### Проверка наличия пустых ячеек по признакам: #####"
   ]
  },
  {
   "cell_type": "code",
   "execution_count": 3,
   "metadata": {},
   "outputs": [
    {
     "data": {
      "text/plain": [
       "Unnamed: 0            0\n",
       "work_year             0\n",
       "experience_level      0\n",
       "employment_type       0\n",
       "job_title             0\n",
       "salary                0\n",
       "salary_currency       0\n",
       "salary_in_usd         0\n",
       "employee_residence    0\n",
       "remote_ratio          0\n",
       "company_location      0\n",
       "company_size          0\n",
       "dtype: int64"
      ]
     },
     "execution_count": 3,
     "metadata": {},
     "output_type": "execute_result"
    }
   ],
   "source": [
    "main_df.isnull().sum()"
   ]
  },
  {
   "cell_type": "markdown",
   "metadata": {},
   "source": [
    "#### Проверка наличия дубликатов: ####"
   ]
  },
  {
   "cell_type": "code",
   "execution_count": 4,
   "metadata": {},
   "outputs": [
    {
     "name": "stdout",
     "output_type": "stream",
     "text": [
      "Найдено дубликатов - 0\n"
     ]
    }
   ],
   "source": [
    "print(f'Найдено дубликатов - {main_df[main_df.duplicated].shape[0]}')"
   ]
  },
  {
   "cell_type": "markdown",
   "metadata": {},
   "source": [
    "Пустот и дубликатов не обнаружено, теперь можно сразу избавиться от\n",
    "неинформативных признаков.\n",
    "\n",
    "Первая колонка **`Unnamed: 0`**&nbsp;&mdash; просто порядковый номер, явно\n",
    "неинформативный.\n",
    "\n",
    "Стоит ли удалять зарплату в национальных валютах **`salary`**?"
   ]
  },
  {
   "cell_type": "code",
   "execution_count": 5,
   "metadata": {},
   "outputs": [
    {
     "data": {
      "text/html": [
       "<div>\n",
       "<style scoped>\n",
       "    .dataframe tbody tr th:only-of-type {\n",
       "        vertical-align: middle;\n",
       "    }\n",
       "\n",
       "    .dataframe tbody tr th {\n",
       "        vertical-align: top;\n",
       "    }\n",
       "\n",
       "    .dataframe thead th {\n",
       "        text-align: right;\n",
       "    }\n",
       "</style>\n",
       "<table border=\"1\" class=\"dataframe\">\n",
       "  <thead>\n",
       "    <tr style=\"text-align: right;\">\n",
       "      <th></th>\n",
       "      <th>salary</th>\n",
       "      <th>salary_in_usd</th>\n",
       "    </tr>\n",
       "  </thead>\n",
       "  <tbody>\n",
       "    <tr>\n",
       "      <th>salary</th>\n",
       "      <td>1.000000</td>\n",
       "      <td>-0.083906</td>\n",
       "    </tr>\n",
       "    <tr>\n",
       "      <th>salary_in_usd</th>\n",
       "      <td>-0.083906</td>\n",
       "      <td>1.000000</td>\n",
       "    </tr>\n",
       "  </tbody>\n",
       "</table>\n",
       "</div>"
      ],
      "text/plain": [
       "                 salary  salary_in_usd\n",
       "salary         1.000000      -0.083906\n",
       "salary_in_usd -0.083906       1.000000"
      ]
     },
     "execution_count": 5,
     "metadata": {},
     "output_type": "execute_result"
    }
   ],
   "source": [
    "main_df[['salary', 'salary_in_usd']].corr()"
   ]
  },
  {
   "cell_type": "markdown",
   "metadata": {},
   "source": [
    "Если подходить формально, признаки **`salary`** и **`salary_in_usd`** показывают\n",
    "очень слабую корреляцию. Однако если построить график соотношения зарплаты в\n",
    "национальных валютах (`salary`) к зарплате в долларах США (`salary_in_usd`) хотя\n",
    "бы для самых популярных валют помимо доллара США:"
   ]
  },
  {
   "cell_type": "code",
   "execution_count": 6,
   "metadata": {},
   "outputs": [
    {
     "data": {
      "text/plain": [
       "salary_currency\n",
       "USD    398\n",
       "EUR     95\n",
       "GBP     44\n",
       "INR     27\n",
       "CAD     18\n",
       "Name: count, dtype: int64"
      ]
     },
     "execution_count": 6,
     "metadata": {},
     "output_type": "execute_result"
    }
   ],
   "source": [
    "main_df.salary_currency.value_counts().nlargest(5)"
   ]
  },
  {
   "cell_type": "code",
   "execution_count": 7,
   "metadata": {},
   "outputs": [
    {
     "data": {
      "image/png": "[encoded data removed]",
      "text/plain": [
       "<Figure size 800x400 with 1 Axes>"
      ]
     },
     "metadata": {},
     "output_type": "display_data"
    }
   ],
   "source": [
    "# Выбираем евро, британский фунт, канадский доллар, индийскую рупию.\n",
    "\n",
    "fig = plt.figure(figsize=(8, 4))\n",
    "axes = fig.add_axes([0, 0, 1, 1])\n",
    "tmp_df = main_df[(main_df['salary'] <= 2500000)]\n",
    "sns.scatterplot(\n",
    "    data=tmp_df[tmp_df['salary_currency'] != 'USD'],\n",
    "    x='salary',\n",
    "    y='salary_in_usd',\n",
    "    hue='salary_currency',\n",
    "    hue_order=['EUR', 'GBP', 'CAD', 'INR'],\n",
    "    palette={'EUR': 'yellow', 'GBP': 'blue', 'CAD': 'red', 'INR': 'green'},\n",
    "    s=30,\n",
    "    ax=axes\n",
    ")\n",
    "axes.set_title('Соотношение зарплат в национальной валюте и в долларах США')\n",
    "axes.set_xlabel('Национальная валюта')\n",
    "axes.set_ylabel('Доллар США');"
   ]
  },
  {
   "cell_type": "markdown",
   "metadata": {},
   "source": [
    "то видно, что по каждой валюте зависимость получается практически прямой\n",
    "(плюс-минус годовые колебания курсов), что означает очень сильную корреляцию.\n",
    "Это можно показать численно по каждой валюте отдельно:"
   ]
  },
  {
   "cell_type": "code",
   "execution_count": 8,
   "metadata": {},
   "outputs": [
    {
     "name": "stdout",
     "output_type": "stream",
     "text": [
      "Коэффициент корреляции по EUR: 0.9973\n",
      "Коэффициент корреляции по GBP: 0.9976\n",
      "Коэффициент корреляции по CAD: 0.999\n",
      "Коэффициент корреляции по INR: 0.9998\n"
     ]
    }
   ],
   "source": [
    "for currency_ in ['EUR', 'GBP', 'CAD', 'INR']:\n",
    "    corr_ = round(main_df[main_df.salary_currency == currency_]\\\n",
    "        [['salary', 'salary_in_usd']].corr().iloc[0][1], 4)\n",
    "    print(f'Коэффициент корреляции по {currency_}: {corr_}')"
   ]
  },
  {
   "cell_type": "markdown",
   "metadata": {},
   "source": [
    "Так что можно вполне обоснованно вместе с **`Unnamed: 0`** отбросить признаки\n",
    "**`salary`** и сопутствующий ему **`salary_currency`**:"
   ]
  },
  {
   "cell_type": "code",
   "execution_count": 9,
   "metadata": {},
   "outputs": [],
   "source": [
    "main_df.drop(['Unnamed: 0', 'salary', 'salary_currency'], axis='columns', inplace=True)"
   ]
  },
  {
   "cell_type": "markdown",
   "metadata": {},
   "source": [
    "##### Проверка корректности типов данных #####"
   ]
  },
  {
   "cell_type": "code",
   "execution_count": 10,
   "metadata": {},
   "outputs": [
    {
     "name": "stdout",
     "output_type": "stream",
     "text": [
      "<class 'pandas.core.frame.DataFrame'>\n",
      "RangeIndex: 607 entries, 0 to 606\n",
      "Data columns (total 9 columns):\n",
      " #   Column              Non-Null Count  Dtype \n",
      "---  ------              --------------  ----- \n",
      " 0   work_year           607 non-null    int64 \n",
      " 1   experience_level    607 non-null    object\n",
      " 2   employment_type     607 non-null    object\n",
      " 3   job_title           607 non-null    object\n",
      " 4   salary_in_usd       607 non-null    int64 \n",
      " 5   employee_residence  607 non-null    object\n",
      " 6   remote_ratio        607 non-null    int64 \n",
      " 7   company_location    607 non-null    object\n",
      " 8   company_size        607 non-null    object\n",
      "dtypes: int64(3), object(6)\n",
      "memory usage: 42.8+ KB\n"
     ]
    },
    {
     "data": {
      "text/plain": [
       "None"
      ]
     },
     "metadata": {},
     "output_type": "display_data"
    },
    {
     "name": "stdout",
     "output_type": "stream",
     "text": [
      "В признаке \"work_year\" уникальных значений - 3\n",
      "[2020, 2021, 2022]\n",
      "В признаке \"remote_ratio\" уникальных значений - 3\n",
      "[0, 50, 100]\n"
     ]
    }
   ],
   "source": [
    "display(main_df.info())\n",
    "print(f'В признаке \"work_year\" уникальных значений - {main_df.work_year.nunique()}')\n",
    "print(list(main_df.work_year.unique()))\n",
    "print(f'В признаке \"remote_ratio\" уникальных значений - {main_df.remote_ratio.nunique()}')\n",
    "print(list(main_df.remote_ratio.unique()))"
   ]
  },
  {
   "cell_type": "markdown",
   "metadata": {},
   "source": [
    "В числовых признаках **`work_year`** и **`remote_ratio`** только по три уникальных значения, поэтому их можно смело преобразовать в категориальные. Таким образом останется только один числовой непрерывный признак **`salary_in_usd`**."
   ]
  },
  {
   "cell_type": "code",
   "execution_count": 11,
   "metadata": {},
   "outputs": [],
   "source": [
    "def set_remote_category(per_cent: int) -> str:\n",
    "    ''' Преобразует числовой процент удалённой работы в строковую\n",
    "        категорию no-remote/part-remote/full-remote\n",
    "    Arguments:\n",
    "        per_cent [int] -- Доля удалённой работы в процентах\n",
    "    Returns:\n",
    "        [str] -- Категория no-remote/part-remote/full-remote\n",
    "    '''\n",
    "    if per_cent < 20:\n",
    "        return 'no-remote'\n",
    "    elif per_cent > 80:\n",
    "        return 'full-remote'\n",
    "    else:\n",
    "        return 'part-remote'\n",
    "\n",
    "# Преобразование work_year из числа в строку\n",
    "main_df.work_year = main_df.work_year.apply(lambda x: str(x))\n",
    "# Преобразование remote_ratio из числа в строковую категорию\n",
    "main_df.remote_ratio = main_df.remote_ratio.apply(set_remote_category)"
   ]
  },
  {
   "cell_type": "markdown",
   "metadata": {},
   "source": [
    "##### Проверка числа категорий по признакам #####"
   ]
  },
  {
   "cell_type": "code",
   "execution_count": 12,
   "metadata": {},
   "outputs": [
    {
     "data": {
      "text/html": [
       "<div>\n",
       "<style scoped>\n",
       "    .dataframe tbody tr th:only-of-type {\n",
       "        vertical-align: middle;\n",
       "    }\n",
       "\n",
       "    .dataframe tbody tr th {\n",
       "        vertical-align: top;\n",
       "    }\n",
       "\n",
       "    .dataframe thead th {\n",
       "        text-align: right;\n",
       "    }\n",
       "</style>\n",
       "<table border=\"1\" class=\"dataframe\">\n",
       "  <thead>\n",
       "    <tr style=\"text-align: right;\">\n",
       "      <th></th>\n",
       "      <th>work_year</th>\n",
       "      <th>experience_level</th>\n",
       "      <th>employment_type</th>\n",
       "      <th>job_title</th>\n",
       "      <th>employee_residence</th>\n",
       "      <th>remote_ratio</th>\n",
       "      <th>company_location</th>\n",
       "      <th>company_size</th>\n",
       "    </tr>\n",
       "  </thead>\n",
       "  <tbody>\n",
       "    <tr>\n",
       "      <th>count</th>\n",
       "      <td>607</td>\n",
       "      <td>607</td>\n",
       "      <td>607</td>\n",
       "      <td>607</td>\n",
       "      <td>607</td>\n",
       "      <td>607</td>\n",
       "      <td>607</td>\n",
       "      <td>607</td>\n",
       "    </tr>\n",
       "    <tr>\n",
       "      <th>unique</th>\n",
       "      <td>3</td>\n",
       "      <td>4</td>\n",
       "      <td>4</td>\n",
       "      <td>50</td>\n",
       "      <td>57</td>\n",
       "      <td>3</td>\n",
       "      <td>50</td>\n",
       "      <td>3</td>\n",
       "    </tr>\n",
       "    <tr>\n",
       "      <th>top</th>\n",
       "      <td>2022</td>\n",
       "      <td>SE</td>\n",
       "      <td>FT</td>\n",
       "      <td>Data Scientist</td>\n",
       "      <td>US</td>\n",
       "      <td>full-remote</td>\n",
       "      <td>US</td>\n",
       "      <td>M</td>\n",
       "    </tr>\n",
       "    <tr>\n",
       "      <th>freq</th>\n",
       "      <td>318</td>\n",
       "      <td>280</td>\n",
       "      <td>588</td>\n",
       "      <td>143</td>\n",
       "      <td>332</td>\n",
       "      <td>381</td>\n",
       "      <td>355</td>\n",
       "      <td>326</td>\n",
       "    </tr>\n",
       "  </tbody>\n",
       "</table>\n",
       "</div>"
      ],
      "text/plain": [
       "       work_year experience_level employment_type       job_title  \\\n",
       "count        607              607             607             607   \n",
       "unique         3                4               4              50   \n",
       "top         2022               SE              FT  Data Scientist   \n",
       "freq         318              280             588             143   \n",
       "\n",
       "       employee_residence remote_ratio company_location company_size  \n",
       "count                 607          607              607          607  \n",
       "unique                 57            3               50            3  \n",
       "top                    US  full-remote               US            M  \n",
       "freq                  332          381              355          326  "
      ]
     },
     "execution_count": 12,
     "metadata": {},
     "output_type": "execute_result"
    }
   ],
   "source": [
    "main_df.describe(include=['object'])"
   ]
  },
  {
   "cell_type": "markdown",
   "metadata": {},
   "source": [
    "Необходимо сократить число категорий в признаках **`job_title`**, **`employee_residence`** и **`company_location`**.\n",
    "\n",
    "Посмотрим признак **`job_title`**:"
   ]
  },
  {
   "cell_type": "code",
   "execution_count": 13,
   "metadata": {},
   "outputs": [
    {
     "data": {
      "text/plain": [
       "job_title\n",
       "Data Scientist                143\n",
       "Data Engineer                 132\n",
       "Data Analyst                   97\n",
       "Machine Learning Engineer      41\n",
       "Research Scientist             16\n",
       "Data Science Manager           12\n",
       "Data Architect                 11\n",
       "Big Data Engineer               8\n",
       "Machine Learning Scientist      8\n",
       "Principal Data Scientist        7\n",
       "Name: count, dtype: int64"
      ]
     },
     "execution_count": 13,
     "metadata": {},
     "output_type": "execute_result"
    }
   ],
   "source": [
    "main_df.job_title.value_counts().nlargest(10)"
   ]
  },
  {
   "cell_type": "markdown",
   "metadata": {},
   "source": [
    "В признаке **`job_title`** для дальнейшего анализа нас будут интересовать только роли **`Data Scientist`** и **`Data Engineer`**. К тому же они составляют около половины датасета. Остальные роли можно объединить в одну **`Other`**."
   ]
  },
  {
   "cell_type": "code",
   "execution_count": 14,
   "metadata": {},
   "outputs": [],
   "source": [
    "main_df.job_title = main_df.job_title.apply(lambda x: x if x in ['Data Scientist',\n",
    "                                                                 'Data Engineer']\n",
    "                                                      else 'Other')"
   ]
  },
  {
   "cell_type": "markdown",
   "metadata": {},
   "source": [
    "Теперь посмотрим признак **`employee_residence`**:"
   ]
  },
  {
   "cell_type": "code",
   "execution_count": 15,
   "metadata": {},
   "outputs": [
    {
     "data": {
      "text/plain": [
       "employee_residence\n",
       "US    332\n",
       "GB     44\n",
       "IN     30\n",
       "CA     29\n",
       "DE     25\n",
       "FR     18\n",
       "ES     15\n",
       "GR     13\n",
       "JP      7\n",
       "PT      6\n",
       "Name: count, dtype: int64"
      ]
     },
     "execution_count": 15,
     "metadata": {},
     "output_type": "execute_result"
    }
   ],
   "source": [
    "main_df.employee_residence.value_counts().nlargest(10)"
   ]
  },
  {
   "cell_type": "markdown",
   "metadata": {},
   "source": [
    "В признаке **`employee_residence`** больше половины сотрудников работают в США. Поэтому этот признак можно свести к двум категориям: **`US`** и **`Other`**."
   ]
  },
  {
   "cell_type": "code",
   "execution_count": 16,
   "metadata": {},
   "outputs": [],
   "source": [
    "main_df.employee_residence = main_df.employee_residence.apply(lambda x: x if x == 'US'\n",
    "                                                                        else 'Other')"
   ]
  },
  {
   "cell_type": "markdown",
   "metadata": {},
   "source": [
    "Аналогично смотрим признак **`company_location`**:"
   ]
  },
  {
   "cell_type": "code",
   "execution_count": 17,
   "metadata": {},
   "outputs": [
    {
     "data": {
      "text/plain": [
       "company_location\n",
       "US    355\n",
       "GB     47\n",
       "CA     30\n",
       "DE     28\n",
       "IN     24\n",
       "FR     15\n",
       "ES     14\n",
       "GR     11\n",
       "JP      6\n",
       "NL      4\n",
       "Name: count, dtype: int64"
      ]
     },
     "execution_count": 17,
     "metadata": {},
     "output_type": "execute_result"
    }
   ],
   "source": [
    "main_df.company_location.value_counts().nlargest(10)"
   ]
  },
  {
   "cell_type": "markdown",
   "metadata": {},
   "source": [
    "И в признаке **`company_location`** также оставляем только две категории: **`US`** и **`Other`**:"
   ]
  },
  {
   "cell_type": "code",
   "execution_count": 18,
   "metadata": {},
   "outputs": [],
   "source": [
    "main_df.company_location = main_df.company_location.apply(lambda x: x if x == 'US'\n",
    "                                                                    else 'Other')"
   ]
  },
  {
   "cell_type": "markdown",
   "metadata": {},
   "source": [
    "##### Основная статистика по числовому признаку #####"
   ]
  },
  {
   "cell_type": "code",
   "execution_count": 19,
   "metadata": {},
   "outputs": [
    {
     "data": {
      "text/plain": [
       "count       607.000000\n",
       "mean     112297.869852\n",
       "std       70957.259411\n",
       "min        2859.000000\n",
       "25%       62726.000000\n",
       "50%      101570.000000\n",
       "75%      150000.000000\n",
       "max      600000.000000\n",
       "Name: salary_in_usd, dtype: float64"
      ]
     },
     "execution_count": 19,
     "metadata": {},
     "output_type": "execute_result"
    }
   ],
   "source": [
    "main_df.salary_in_usd.describe()"
   ]
  },
  {
   "cell_type": "markdown",
   "metadata": {},
   "source": [
    "##### Итоговая статистика по категориальным признакам #####"
   ]
  },
  {
   "cell_type": "code",
   "execution_count": 20,
   "metadata": {},
   "outputs": [
    {
     "data": {
      "text/html": [
       "<div>\n",
       "<style scoped>\n",
       "    .dataframe tbody tr th:only-of-type {\n",
       "        vertical-align: middle;\n",
       "    }\n",
       "\n",
       "    .dataframe tbody tr th {\n",
       "        vertical-align: top;\n",
       "    }\n",
       "\n",
       "    .dataframe thead th {\n",
       "        text-align: right;\n",
       "    }\n",
       "</style>\n",
       "<table border=\"1\" class=\"dataframe\">\n",
       "  <thead>\n",
       "    <tr style=\"text-align: right;\">\n",
       "      <th></th>\n",
       "      <th>work_year</th>\n",
       "      <th>experience_level</th>\n",
       "      <th>employment_type</th>\n",
       "      <th>job_title</th>\n",
       "      <th>employee_residence</th>\n",
       "      <th>remote_ratio</th>\n",
       "      <th>company_location</th>\n",
       "      <th>company_size</th>\n",
       "    </tr>\n",
       "  </thead>\n",
       "  <tbody>\n",
       "    <tr>\n",
       "      <th>count</th>\n",
       "      <td>607</td>\n",
       "      <td>607</td>\n",
       "      <td>607</td>\n",
       "      <td>607</td>\n",
       "      <td>607</td>\n",
       "      <td>607</td>\n",
       "      <td>607</td>\n",
       "      <td>607</td>\n",
       "    </tr>\n",
       "    <tr>\n",
       "      <th>unique</th>\n",
       "      <td>3</td>\n",
       "      <td>4</td>\n",
       "      <td>4</td>\n",
       "      <td>3</td>\n",
       "      <td>2</td>\n",
       "      <td>3</td>\n",
       "      <td>2</td>\n",
       "      <td>3</td>\n",
       "    </tr>\n",
       "    <tr>\n",
       "      <th>top</th>\n",
       "      <td>2022</td>\n",
       "      <td>SE</td>\n",
       "      <td>FT</td>\n",
       "      <td>Other</td>\n",
       "      <td>US</td>\n",
       "      <td>full-remote</td>\n",
       "      <td>US</td>\n",
       "      <td>M</td>\n",
       "    </tr>\n",
       "    <tr>\n",
       "      <th>freq</th>\n",
       "      <td>318</td>\n",
       "      <td>280</td>\n",
       "      <td>588</td>\n",
       "      <td>332</td>\n",
       "      <td>332</td>\n",
       "      <td>381</td>\n",
       "      <td>355</td>\n",
       "      <td>326</td>\n",
       "    </tr>\n",
       "  </tbody>\n",
       "</table>\n",
       "</div>"
      ],
      "text/plain": [
       "       work_year experience_level employment_type job_title  \\\n",
       "count        607              607             607       607   \n",
       "unique         3                4               4         3   \n",
       "top         2022               SE              FT     Other   \n",
       "freq         318              280             588       332   \n",
       "\n",
       "       employee_residence remote_ratio company_location company_size  \n",
       "count                 607          607              607          607  \n",
       "unique                  2            3                2            3  \n",
       "top                    US  full-remote               US            M  \n",
       "freq                  332          381              355          326  "
      ]
     },
     "execution_count": 20,
     "metadata": {},
     "output_type": "execute_result"
    }
   ],
   "source": [
    "main_df.describe(include=['object'])"
   ]
  },
  {
   "cell_type": "markdown",
   "metadata": {},
   "source": [
    "## 2. Разведывательный анализ данных ##"
   ]
  },
  {
   "cell_type": "markdown",
   "metadata": {},
   "source": [
    "### 2.1. Визуальный анализ данных ###"
   ]
  },
  {
   "cell_type": "code",
   "execution_count": 21,
   "metadata": {},
   "outputs": [
    {
     "data": {
      "image/png": "[encoded data removed]",
      "text/plain": [
       "<Figure size 800x400 with 2 Axes>"
      ]
     },
     "metadata": {},
     "output_type": "display_data"
    }
   ],
   "source": [
    "fig, (ax1, ax2) = plt.subplots(nrows=2, ncols=1, figsize=(8, 4), sharex=True)\n",
    "sns.boxplot(\n",
    "    data=main_df.salary_in_usd,\n",
    "    orient='h',\n",
    "    ax=ax1\n",
    ")\n",
    "sns.histplot(\n",
    "    data=main_df['salary_in_usd'],\n",
    "    bins=30,\n",
    "    kde=True,\n",
    "    legend=False,\n",
    "    ax=ax2\n",
    ")\n",
    "ax1.set_title('Распределение зарплаты')\n",
    "ax1.set_xlabel('')\n",
    "ax2.set_xlabel('Зарплата в долларах')\n",
    "ax2.set_ylabel('Количество');"
   ]
  },
  {
   "cell_type": "code",
   "execution_count": 22,
   "metadata": {},
   "outputs": [
    {
     "data": {
      "image/png": "[encoded data removed]",
      "text/plain": [
       "<Figure size 640x480 with 1 Axes>"
      ]
     },
     "metadata": {},
     "output_type": "display_data"
    }
   ],
   "source": [
    "sm.qqplot(main_df['salary_in_usd'], line='s')\n",
    "plt.title('Q-Q график распределения зарплаты')\n",
    "plt.show()"
   ]
  },
  {
   "cell_type": "markdown",
   "metadata": {},
   "source": [
    "По графикам можно судить, что распределение зарплат заметно отличается от\n",
    "нормального и больше похоже на логарифмически нормальное, или даже на\n",
    "распределение Максвелла.\n",
    "\n",
    "Для уверенности можно провести несколько численных статистических тестов по\n",
    "разным выборкам."
   ]
  },
  {
   "cell_type": "markdown",
   "metadata": {},
   "source": [
    "### 2.2. Статистический анализ данных ###"
   ]
  },
  {
   "cell_type": "markdown",
   "metadata": {},
   "source": [
    "##### Численные тесты Шапиро-Уилка по годовым и должностным выборкам #####"
   ]
  },
  {
   "cell_type": "code",
   "execution_count": 23,
   "metadata": {},
   "outputs": [
    {
     "name": "stdout",
     "output_type": "stream",
     "text": [
      "2020 год: p-value = 3.4662623882297794e-09\n",
      "Распределение ненормальное\n",
      "2021 год: p-value = 7.0667619976247376e-15\n",
      "Распределение ненормальное\n",
      "2022 год: p-value = 2.2347774120135e-07\n",
      "Распределение ненормальное\n",
      "Должность Data Scientist: p-value = 3.764461143873632e-05\n",
      "Распределение ненормальное\n",
      "Должность Other: p-value = 1.7828324327517892e-16\n",
      "Распределение ненормальное\n",
      "Должность Data Engineer: p-value = 0.010073374025523663\n",
      "Распределение ненормальное\n"
     ]
    }
   ],
   "source": [
    "alpha = 0.05\n",
    "\n",
    "''' Тесты распределений по годовым иыборкам '''\n",
    "for year_ in list(main_df.work_year.unique()):\n",
    "    salaries_ = main_df[main_df.work_year == year_].salary_in_usd\n",
    "    bulk_, p = stats.shapiro(salaries_)\n",
    "    print(f'{year_} год: p-value = {p}')\n",
    "    if p <= alpha:\n",
    "        print('Распределение ненормальное')\n",
    "    else:\n",
    "        print('Распределение нормальное')\n",
    "\n",
    "''' Тесты распределений по должностям '''\n",
    "for job_ in list(main_df.job_title.unique()):\n",
    "    salaries_ = main_df[main_df.job_title == job_].salary_in_usd\n",
    "    bulk_, p = stats.shapiro(salaries_)\n",
    "    print(f'Должность {job_}: p-value = {p}')\n",
    "    if p <= alpha:\n",
    "        print('Распределение ненормальное')\n",
    "    else:\n",
    "        print('Распределение нормальное')"
   ]
  },
  {
   "cell_type": "markdown",
   "metadata": {},
   "source": [
    "Распределение зарплат в различных выборках отличается от нормального,\n",
    "следовательно в дальнейшем для анализа зарплаты следует использовать\n",
    "непараметрические тесты.\n",
    "\n",
    "Ещё интересно выяснить зависимость групп по годам и должностям:"
   ]
  },
  {
   "cell_type": "code",
   "execution_count": 24,
   "metadata": {},
   "outputs": [
    {
     "data": {
      "text/html": [
       "<div>\n",
       "<style scoped>\n",
       "    .dataframe tbody tr th:only-of-type {\n",
       "        vertical-align: middle;\n",
       "    }\n",
       "\n",
       "    .dataframe tbody tr th {\n",
       "        vertical-align: top;\n",
       "    }\n",
       "\n",
       "    .dataframe thead th {\n",
       "        text-align: right;\n",
       "    }\n",
       "</style>\n",
       "<table border=\"1\" class=\"dataframe\">\n",
       "  <thead>\n",
       "    <tr style=\"text-align: right;\">\n",
       "      <th></th>\n",
       "      <th></th>\n",
       "      <th>job_title</th>\n",
       "    </tr>\n",
       "    <tr>\n",
       "      <th>job_title</th>\n",
       "      <th>work_year</th>\n",
       "      <th></th>\n",
       "    </tr>\n",
       "  </thead>\n",
       "  <tbody>\n",
       "    <tr>\n",
       "      <th rowspan=\"3\" valign=\"top\">Data Engineer</th>\n",
       "      <th>2020</th>\n",
       "      <td>11</td>\n",
       "    </tr>\n",
       "    <tr>\n",
       "      <th>2021</th>\n",
       "      <td>32</td>\n",
       "    </tr>\n",
       "    <tr>\n",
       "      <th>2022</th>\n",
       "      <td>89</td>\n",
       "    </tr>\n",
       "    <tr>\n",
       "      <th rowspan=\"3\" valign=\"top\">Data Scientist</th>\n",
       "      <th>2020</th>\n",
       "      <td>21</td>\n",
       "    </tr>\n",
       "    <tr>\n",
       "      <th>2021</th>\n",
       "      <td>45</td>\n",
       "    </tr>\n",
       "    <tr>\n",
       "      <th>2022</th>\n",
       "      <td>77</td>\n",
       "    </tr>\n",
       "    <tr>\n",
       "      <th rowspan=\"3\" valign=\"top\">Other</th>\n",
       "      <th>2020</th>\n",
       "      <td>40</td>\n",
       "    </tr>\n",
       "    <tr>\n",
       "      <th>2021</th>\n",
       "      <td>140</td>\n",
       "    </tr>\n",
       "    <tr>\n",
       "      <th>2022</th>\n",
       "      <td>152</td>\n",
       "    </tr>\n",
       "  </tbody>\n",
       "</table>\n",
       "</div>"
      ],
      "text/plain": [
       "                          job_title\n",
       "job_title      work_year           \n",
       "Data Engineer  2020              11\n",
       "               2021              32\n",
       "               2022              89\n",
       "Data Scientist 2020              21\n",
       "               2021              45\n",
       "               2022              77\n",
       "Other          2020              40\n",
       "               2021             140\n",
       "               2022             152"
      ]
     },
     "execution_count": 24,
     "metadata": {},
     "output_type": "execute_result"
    }
   ],
   "source": [
    "main_df.groupby(['job_title', 'work_year'])[['job_title']].count()\n"
   ]
  },
  {
   "cell_type": "markdown",
   "metadata": {},
   "source": [
    "Видно, что по годам число опрошенных профессионалов меняется. То есть надо\n",
    "учитывать, что это не группы одних и тех же людей в разные годы, а совершенно\n",
    "независимые группы."
   ]
  },
  {
   "cell_type": "markdown",
   "metadata": {},
   "source": [
    "\n",
    "----\n",
    "\n",
    "***Примечание:***\n",
    "\n",
    "Другой графический и численный анализ данных по необходимости будет проведён в\n",
    "разделе 3 при ответах на бизнес-вопросы.\n",
    "\n",
    "----\n"
   ]
  },
  {
   "cell_type": "markdown",
   "metadata": {},
   "source": [
    "## 3. Бизнес-вопросы ##"
   ]
  },
  {
   "cell_type": "markdown",
   "metadata": {},
   "source": [
    "### 3.1. Наблюдается ли ежегодный рост зарплат у специалистов **`Data Scientist`**? ###"
   ]
  },
  {
   "cell_type": "markdown",
   "metadata": {},
   "source": [
    "Для начала построим графики средних и медианных зарплат **`Data Scientist`** по\n",
    "годам."
   ]
  },
  {
   "cell_type": "code",
   "execution_count": 25,
   "metadata": {},
   "outputs": [
    {
     "data": {
      "image/png": "[encoded data removed]",
      "text/plain": [
       "<Figure size 800x400 with 2 Axes>"
      ]
     },
     "metadata": {},
     "output_type": "display_data"
    }
   ],
   "source": [
    "ds_salary_median_df = main_df[main_df.job_title == 'Data Scientist']\\\n",
    "                             .groupby(['work_year'])[['salary_in_usd']]\\\n",
    "                             .median()\n",
    "ds_salary_mean_df = main_df[main_df.job_title == 'Data Scientist']\\\n",
    "                           .groupby(['work_year'])[['salary_in_usd']]\\\n",
    "                           .mean()\n",
    "fig, axes = plt.subplots(nrows=1, ncols=2, figsize=(8, 4), sharey=True)\n",
    "sns.barplot(\n",
    "    data=ds_salary_median_df,\n",
    "    x='work_year',\n",
    "    y='salary_in_usd',\n",
    "    ax=axes[0]\n",
    ")\n",
    "sns.barplot(\n",
    "    data=ds_salary_mean_df,\n",
    "    x='work_year',\n",
    "    y='salary_in_usd',\n",
    "    ax=axes[1]\n",
    ")\n",
    "axes[0].set_title('Медианные зарплаты')\n",
    "axes[0].set_xlabel('Год')\n",
    "axes[0].set_ylabel('Доллар США')\n",
    "axes[0].grid()\n",
    "axes[1].set_title('Средние зарплаты')\n",
    "axes[1].set_xlabel('Год')\n",
    "axes[1].grid()"
   ]
  },
  {
   "cell_type": "markdown",
   "metadata": {},
   "source": [
    "Если в 2022 году зарплаты уверенно выросли, то для 2021 года не совсем очевидно.\n",
    "Поскольку выяснилось, что у нас нет нормального распределения и группы\n",
    "независимы, то для выяснения роста зарплаты в 2021 году можно применить\n",
    "**U-критерий Манна-Уитни**.\n",
    "\n",
    "Зададим уровень значимости $\\alpha=0,10$ и сформулируем гипотезы:\n",
    "\n",
    "$H_0: \\mu_1 \\ge \\mu_2$ &mdash; зарплаты не изменились или уменьшились.\n",
    "\n",
    "$H_1: \\mu_1 < \\mu_2$ &mdash; зарплаты увеличились (левосторонняя альтернативная\n",
    "гипотеза).\n",
    "\n",
    "Проверим гипотезы как для 2021 года, так и для 2022:"
   ]
  },
  {
   "cell_type": "code",
   "execution_count": 26,
   "metadata": {},
   "outputs": [
    {
     "name": "stdout",
     "output_type": "stream",
     "text": [
      "2021 год:\n",
      "p-value = 0.6850483302\n",
      "Принимаем нулевую гипотезу. Зарплаты не изменились или уменьшились\n",
      "\n",
      "2022 год:\n",
      "p-value = 0.0000000025\n",
      "Отвергаем нулевую гипотезу. Зарплаты увеличились\n",
      "\n"
     ]
    }
   ],
   "source": [
    "alpha = 0.1\n",
    "# Выборки зарплат Data Scientist за 2020, 2021, 2022 годы\n",
    "ds_salary_2020 = main_df[main_df.job_title == 'Data Scientist']\\\n",
    "                        .loc[main_df.work_year == '2020']\\\n",
    "                        .salary_in_usd\n",
    "ds_salary_2021 = main_df[main_df.job_title == 'Data Scientist']\\\n",
    "                        .loc[main_df.work_year == '2021']\\\n",
    "                        .salary_in_usd\n",
    "ds_salary_2022 = main_df[main_df.job_title == 'Data Scientist']\\\n",
    "                        .loc[main_df.work_year == '2022']\\\n",
    "                        .salary_in_usd\n",
    "\n",
    "# Тест для 2021 года\n",
    "bulk_, p = stats.mannwhitneyu(ds_salary_2020, ds_salary_2021, alternative='less')\n",
    "print(f'2021 год:\\np-value = {p:.10f}')\n",
    "if p <= alpha:\n",
    "    print('Отвергаем нулевую гипотезу. Зарплаты увеличились\\n')\n",
    "else:\n",
    "    print('Принимаем нулевую гипотезу. Зарплаты не изменились или уменьшились\\n')\n",
    "\n",
    "# Тест для 2022 года\n",
    "bulk_, p = stats.mannwhitneyu(ds_salary_2021, ds_salary_2022, alternative='less')\n",
    "print(f'2022 год:\\np-value = {p:.10f}')\n",
    "if p <= alpha:\n",
    "    print('Отвергаем нулевую гипотезу. Зарплаты увеличились\\n')\n",
    "else:\n",
    "    print('Принимаем нулевую гипотезу. Зарплаты не изменились или уменьшились\\n')"
   ]
  },
  {
   "cell_type": "markdown",
   "metadata": {},
   "source": [
    "Таким образом, ответ на бизнес-вопрос&nbsp;&mdash; отрицательный. Рост уверенно наблюдается только в 2022 году."
   ]
  },
  {
   "cell_type": "markdown",
   "metadata": {},
   "source": [
    "### 3.2. Как соотносятся зарплаты **`Data Scientist`** и **`Data Engineer`** в 2022 году? ###"
   ]
  },
  {
   "cell_type": "markdown",
   "metadata": {},
   "source": [
    "Для начала построим диаграммы средних и медианных зарплат **`Data Scientist`** и\n",
    "**`Data Engineer`** в 2022 году:"
   ]
  },
  {
   "cell_type": "code",
   "execution_count": 49,
   "metadata": {},
   "outputs": [
    {
     "data": {
      "image/png": "[encoded data removed]",
      "text/plain": [
       "<Figure size 1000x400 with 2 Axes>"
      ]
     },
     "metadata": {},
     "output_type": "display_data"
    }
   ],
   "source": [
    "# Медианные зарплаты по должностям (без Other) за 2022 год\n",
    "salary_median_df = main_df[main_df.job_title != 'Other']\\\n",
    "                          .loc[main_df.work_year == '2022']\\\n",
    "                          .groupby(['job_title', 'work_year'])\\\n",
    "                          [['salary_in_usd']].median()\n",
    "# Средние зарплаты по должностям (без Other) за 2022 год\n",
    "salary_mean_df = main_df[main_df.job_title != 'Other']\\\n",
    "                        .loc[main_df.work_year == '2022']\\\n",
    "                        .groupby(['job_title', 'work_year'])\\\n",
    "                        [['salary_in_usd']].mean()\n",
    "fig, axes = plt.subplots(nrows=1, ncols=2, figsize=(10, 4), sharey=True)\n",
    "sns.barplot(\n",
    "    data=salary_median_df,\n",
    "    x='job_title',\n",
    "    y='salary_in_usd',\n",
    "    ax=axes[0]\n",
    ")\n",
    "sns.barplot(\n",
    "    data=salary_mean_df,\n",
    "    x='job_title',\n",
    "    y=\"salary_in_usd\",\n",
    "    ax=axes[1]\n",
    ")\n",
    "axes[0].set_title('Медианные зарплаты')\n",
    "axes[0].set_xlabel('Должность')\n",
    "axes[0].set_ylabel('Доллар США')\n",
    "axes[0].grid()\n",
    "axes[1].set_title('Средние зарплаты')\n",
    "axes[1].set_xlabel('Должность')\n",
    "axes[1].grid()"
   ]
  },
  {
   "cell_type": "markdown",
   "metadata": {},
   "source": [
    "На первый взгляд кажется, что в 2022 году у **`Data Scientist`** зарплаты выше,\n",
    "чем у **`Data Engineer`**, но разница невелика. Опять применяем **U-критерий\n",
    "Манна-Уитни** для двух независимых групп при ненормальном распределении.\n",
    "\n",
    "Зададим уровень значимости $\\alpha=0,10$ и сформулируем гипотезы:\n",
    "\n",
    "$H_0: \\mu_1 = \\mu_2$ &mdash; зарплаты **`Data Engineer`** равны зарплатам\n",
    "**`Data Scientist`**.\n",
    "\n",
    "$H_1: \\mu_1 \\ne \\mu_2$ &mdash; зарплаты **`Data Engineer`** не равны зарплатам\n",
    "**`Data Scientist`** (двухсторонняя альтернативная гипотеза)."
   ]
  },
  {
   "cell_type": "code",
   "execution_count": 28,
   "metadata": {},
   "outputs": [
    {
     "name": "stdout",
     "output_type": "stream",
     "text": [
      "p-value = 0.155\n",
      "Принимаем нулевую гипотезу. Зарплаты Data Scientist равны зарплатам Data Engineer\n"
     ]
    }
   ],
   "source": [
    "alpha = 0.1\n",
    "# Выборка зарплат Data Engineer за 2022 год\n",
    "de_salary_2022 = main_df[main_df.job_title == 'Data Engineer']\\\n",
    "                        .loc[main_df.work_year == '2022']\\\n",
    "                        .salary_in_usd\n",
    "# Выборка зарплат Data Scientist за 2022 год\n",
    "ds_salary_2022 = main_df[main_df.job_title == 'Data Scientist']\\\n",
    "                        .loc[main_df.work_year == '2022']\\\n",
    "                        .salary_in_usd\n",
    "\n",
    "# Тест гипотезы\n",
    "# bulk_, p = stats.mannwhitneyu(de_salary_2022, ds_salary_2022, alternative='less')\n",
    "bulk_, p = stats.mannwhitneyu(de_salary_2022, ds_salary_2022)\n",
    "print(f'p-value = {p:.3f}')\n",
    "if p <= alpha:\n",
    "    print('Отвергаем нулевую гипотезу. Зарплаты Data Scientist не равны зарплатам Data Engineer')\n",
    "else:\n",
    "    print('Принимаем нулевую гипотезу. Зарплаты Data Scientist равны зарплатам Data Engineer')"
   ]
  },
  {
   "cell_type": "markdown",
   "metadata": {},
   "source": [
    "Таким образом, ответ на бизнес-вопрос&nbsp;&mdash; зарплаты **`Data Scientist`** и **`Data Engineer`** в 2022 году примерно одинаковы."
   ]
  },
  {
   "cell_type": "markdown",
   "metadata": {},
   "source": [
    "### 3.3. Как соотносятся зарплаты специалистов **`Data Scientist`** в компаниях различных размеров? ###"
   ]
  },
  {
   "cell_type": "code",
   "execution_count": 29,
   "metadata": {},
   "outputs": [
    {
     "data": {
      "image/png": "[encoded data removed]",
      "text/plain": [
       "<Figure size 800x400 with 2 Axes>"
      ]
     },
     "metadata": {},
     "output_type": "display_data"
    }
   ],
   "source": [
    "ds_salary_median_df = main_df[main_df.job_title == 'Data Scientist']\\\n",
    "                             .groupby(['company_size'])[['salary_in_usd']]\\\n",
    "                             .median()\n",
    "ds_salary_mean_df = main_df[main_df.job_title == 'Data Scientist']\\\n",
    "                           .groupby(['company_size'])[['salary_in_usd']]\\\n",
    "                           .mean()\n",
    "fig, axes = plt.subplots(nrows=1, ncols=2, figsize=(8, 4), sharey=True)\n",
    "sns.barplot(\n",
    "    data=ds_salary_median_df,\n",
    "    x='company_size',\n",
    "    y='salary_in_usd',\n",
    "    order=['S', 'M', 'L'],\n",
    "    ax=axes[0]\n",
    ")\n",
    "sns.barplot(\n",
    "    data=ds_salary_mean_df,\n",
    "    x='company_size',\n",
    "    y='salary_in_usd',\n",
    "    order=['S', 'M', 'L'],\n",
    "    ax=axes[1]\n",
    ")\n",
    "axes[0].set_title('Медианные зарплаты')\n",
    "axes[0].set_xlabel('Размер компании')\n",
    "axes[0].set_ylabel('Доллар США')\n",
    "axes[0].grid()\n",
    "axes[1].set_title('Средние зарплаты')\n",
    "axes[1].set_xlabel('Размер компании')\n",
    "axes[1].grid()"
   ]
  },
  {
   "cell_type": "markdown",
   "metadata": {},
   "source": [
    "На первый взгляд кажется, что в целом в **large**-компаниях зарплаты\n",
    "**существенно** выше, чем в **small**-компаниях, но **не так сильно** меньше,\n",
    "чем в **middle**-компаниях. Для численной проверки опять используем\n",
    "**U-критерий Манна-Уитни** дважды попарно (для соотношения **small-large** и для\n",
    "соотношения **large-middle**).\n",
    "\n",
    "Зададим уровень значимости $\\alpha=0,10$ и сформулируем гипотезы для соотношения\n",
    "**small-large**:\n",
    "\n",
    "$H_0: \\mu_1 \\ge \\mu_2$ &mdash; зарплаты в **small**-компаниях равны или больше\n",
    "зарплат в **large**-компаниях.\n",
    "\n",
    "$H_1: \\mu_1 < \\mu_2$ &mdash; зарплаты в **small**-компаниях меньше зарплат в\n",
    "**large**-компаниях. (левосторонняя альтернативная гипотеза).\n",
    "\n",
    "Сформулируем гипотезы для соотношения **large-middle**:\n",
    "\n",
    "$H_0: \\mu_1 = \\mu_2$ &mdash; зарплаты в **large**-компаниях равны зарплатам в\n",
    "**middle**-компаниях.\n",
    "\n",
    "$H_1: \\mu_1 \\ne \\mu_2$ &mdash; зарплаты в **large**-компаниях не равны зарплатам\n",
    "в **middle**-компаниях. (двухсторонняя альтернативная гипотеза)."
   ]
  },
  {
   "cell_type": "code",
   "execution_count": 30,
   "metadata": {},
   "outputs": [
    {
     "name": "stdout",
     "output_type": "stream",
     "text": [
      "p-value = 0.0000036899\n",
      "Отвергаем нулевую гипотезу. Зарплаты в small-компаниях меньше, чем в large-компаниях\n",
      "\n",
      "p-value = 0.2155729178\n",
      "Принимаем нулевую гипотезу. Зарплаты в large-компаниях равны зарплатам в middle-компаниях\n",
      "\n"
     ]
    }
   ],
   "source": [
    "alpha = 0.1\n",
    "# Выборки зарплат для small/middle/large-компаний\n",
    "salary_small_co = main_df[main_df.company_size == 'S'].salary_in_usd\n",
    "salary_middle_co = main_df[main_df.company_size == 'M'].salary_in_usd\n",
    "salary_large_co = main_df[main_df.company_size == 'L'].salary_in_usd\n",
    "\n",
    "# Тест для соотношения small-large\n",
    "bulk_, p = stats.mannwhitneyu(salary_small_co, salary_large_co, alternative='less')\n",
    "print(f'p-value = {p:.10f}')\n",
    "if p <= alpha:\n",
    "    print('Отвергаем нулевую гипотезу. Зарплаты в small-компаниях меньше, чем в large-компаниях\\n')\n",
    "else:\n",
    "    print('Принимаем нулевую гипотезу. Зарплаты в small-компаниях равны или больше, чем в large-компаниях\\n')\n",
    "\n",
    "# Тест для соотношения large-middle\n",
    "bulk_, p = stats.mannwhitneyu(salary_large_co, salary_middle_co, alternative='two-sided')\n",
    "print(f'p-value = {p:.10f}')\n",
    "if p <= alpha:\n",
    "    print('Отвергаем нулевую гипотезу. Зарплаты в large-компаниях не равны зарплатам в middle-компаниях\\n')\n",
    "else:\n",
    "    print('Принимаем нулевую гипотезу. Зарплаты в large-компаниях равны зарплатам в middle-компаниях\\n')"
   ]
  },
  {
   "cell_type": "markdown",
   "metadata": {},
   "source": [
    "Таким образом, ответ на бизнес-вопрос&nbsp;&mdash; зарплаты в **large**- и\n",
    "**middle**-компаниях примерно одинаковы, но существенно больше, чем в\n",
    "**small**-компаниях."
   ]
  },
  {
   "cell_type": "markdown",
   "metadata": {},
   "source": [
    "### 3.4. Есть ли связь между наличием должностей **`Data Scientist`** и **`Data Engineer`** и размером компании? ###"
   ]
  },
  {
   "cell_type": "code",
   "execution_count": 31,
   "metadata": {},
   "outputs": [
    {
     "data": {
      "text/plain": [
       "company_size\n",
       "M    326\n",
       "L    198\n",
       "S     83\n",
       "Name: count, dtype: int64"
      ]
     },
     "execution_count": 31,
     "metadata": {},
     "output_type": "execute_result"
    }
   ],
   "source": [
    "main_df.company_size.value_counts()"
   ]
  },
  {
   "cell_type": "code",
   "execution_count": 47,
   "metadata": {},
   "outputs": [
    {
     "data": {
      "text/html": [
       "<div>\n",
       "<style scoped>\n",
       "    .dataframe tbody tr th:only-of-type {\n",
       "        vertical-align: middle;\n",
       "    }\n",
       "\n",
       "    .dataframe tbody tr th {\n",
       "        vertical-align: top;\n",
       "    }\n",
       "\n",
       "    .dataframe thead th {\n",
       "        text-align: right;\n",
       "    }\n",
       "</style>\n",
       "<table border=\"1\" class=\"dataframe\">\n",
       "  <thead>\n",
       "    <tr style=\"text-align: right;\">\n",
       "      <th>job_title</th>\n",
       "      <th>Data Engineer</th>\n",
       "      <th>Data Scientist</th>\n",
       "      <th>Other</th>\n",
       "      <th>total</th>\n",
       "      <th>ds_percent</th>\n",
       "      <th>de_percent</th>\n",
       "    </tr>\n",
       "    <tr>\n",
       "      <th>company_size</th>\n",
       "      <th></th>\n",
       "      <th></th>\n",
       "      <th></th>\n",
       "      <th></th>\n",
       "      <th></th>\n",
       "      <th></th>\n",
       "    </tr>\n",
       "  </thead>\n",
       "  <tbody>\n",
       "    <tr>\n",
       "      <th>L</th>\n",
       "      <td>37</td>\n",
       "      <td>45</td>\n",
       "      <td>116</td>\n",
       "      <td>198</td>\n",
       "      <td>23.0</td>\n",
       "      <td>19.0</td>\n",
       "    </tr>\n",
       "    <tr>\n",
       "      <th>M</th>\n",
       "      <td>89</td>\n",
       "      <td>77</td>\n",
       "      <td>160</td>\n",
       "      <td>326</td>\n",
       "      <td>24.0</td>\n",
       "      <td>27.0</td>\n",
       "    </tr>\n",
       "    <tr>\n",
       "      <th>S</th>\n",
       "      <td>6</td>\n",
       "      <td>21</td>\n",
       "      <td>56</td>\n",
       "      <td>83</td>\n",
       "      <td>25.0</td>\n",
       "      <td>7.0</td>\n",
       "    </tr>\n",
       "  </tbody>\n",
       "</table>\n",
       "</div>"
      ],
      "text/plain": [
       "job_title     Data Engineer  Data Scientist  Other  total  ds_percent  \\\n",
       "company_size                                                            \n",
       "L                        37              45    116    198        23.0   \n",
       "M                        89              77    160    326        24.0   \n",
       "S                         6              21     56     83        25.0   \n",
       "\n",
       "job_title     de_percent  \n",
       "company_size              \n",
       "L                   19.0  \n",
       "M                   27.0  \n",
       "S                    7.0  "
      ]
     },
     "metadata": {},
     "output_type": "display_data"
    },
    {
     "data": {
      "text/html": [
       "<div>\n",
       "<style scoped>\n",
       "    .dataframe tbody tr th:only-of-type {\n",
       "        vertical-align: middle;\n",
       "    }\n",
       "\n",
       "    .dataframe tbody tr th {\n",
       "        vertical-align: top;\n",
       "    }\n",
       "\n",
       "    .dataframe thead th {\n",
       "        text-align: right;\n",
       "    }\n",
       "</style>\n",
       "<table border=\"1\" class=\"dataframe\">\n",
       "  <thead>\n",
       "    <tr style=\"text-align: right;\">\n",
       "      <th>company_size</th>\n",
       "      <th>L</th>\n",
       "      <th>M</th>\n",
       "      <th>S</th>\n",
       "    </tr>\n",
       "    <tr>\n",
       "      <th>job_title</th>\n",
       "      <th></th>\n",
       "      <th></th>\n",
       "      <th></th>\n",
       "    </tr>\n",
       "  </thead>\n",
       "  <tbody>\n",
       "    <tr>\n",
       "      <th>Data Engineer</th>\n",
       "      <td>37</td>\n",
       "      <td>89</td>\n",
       "      <td>6</td>\n",
       "    </tr>\n",
       "    <tr>\n",
       "      <th>Data Scientist</th>\n",
       "      <td>45</td>\n",
       "      <td>77</td>\n",
       "      <td>21</td>\n",
       "    </tr>\n",
       "    <tr>\n",
       "      <th>Other</th>\n",
       "      <td>116</td>\n",
       "      <td>160</td>\n",
       "      <td>56</td>\n",
       "    </tr>\n",
       "  </tbody>\n",
       "</table>\n",
       "</div>"
      ],
      "text/plain": [
       "company_size      L    M   S\n",
       "job_title                   \n",
       "Data Engineer    37   89   6\n",
       "Data Scientist   45   77  21\n",
       "Other           116  160  56"
      ]
     },
     "metadata": {},
     "output_type": "display_data"
    },
    {
     "data": {
      "text/plain": [
       "198"
      ]
     },
     "metadata": {},
     "output_type": "display_data"
    },
    {
     "data": {
      "text/html": [
       "<div>\n",
       "<style scoped>\n",
       "    .dataframe tbody tr th:only-of-type {\n",
       "        vertical-align: middle;\n",
       "    }\n",
       "\n",
       "    .dataframe tbody tr th {\n",
       "        vertical-align: top;\n",
       "    }\n",
       "\n",
       "    .dataframe thead th {\n",
       "        text-align: right;\n",
       "    }\n",
       "</style>\n",
       "<table border=\"1\" class=\"dataframe\">\n",
       "  <thead>\n",
       "    <tr style=\"text-align: right;\">\n",
       "      <th>company_size</th>\n",
       "      <th>L</th>\n",
       "      <th>M</th>\n",
       "      <th>S</th>\n",
       "    </tr>\n",
       "    <tr>\n",
       "      <th>job_title</th>\n",
       "      <th></th>\n",
       "      <th></th>\n",
       "      <th></th>\n",
       "    </tr>\n",
       "  </thead>\n",
       "  <tbody>\n",
       "    <tr>\n",
       "      <th>Data Engineer</th>\n",
       "      <td>19.0</td>\n",
       "      <td>27.0</td>\n",
       "      <td>7.0</td>\n",
       "    </tr>\n",
       "    <tr>\n",
       "      <th>Data Scientist</th>\n",
       "      <td>23.0</td>\n",
       "      <td>24.0</td>\n",
       "      <td>25.0</td>\n",
       "    </tr>\n",
       "    <tr>\n",
       "      <th>Other</th>\n",
       "      <td>59.0</td>\n",
       "      <td>49.0</td>\n",
       "      <td>67.0</td>\n",
       "    </tr>\n",
       "  </tbody>\n",
       "</table>\n",
       "</div>"
      ],
      "text/plain": [
       "company_size       L     M     S\n",
       "job_title                       \n",
       "Data Engineer   19.0  27.0   7.0\n",
       "Data Scientist  23.0  24.0  25.0\n",
       "Other           59.0  49.0  67.0"
      ]
     },
     "metadata": {},
     "output_type": "display_data"
    },
    {
     "data": {
      "image/png": "[encoded data removed]",
      "text/plain": [
       "<Figure size 500x400 with 1 Axes>"
      ]
     },
     "metadata": {},
     "output_type": "display_data"
    }
   ],
   "source": [
    "# main_df[main_df.job_title != 'Other'].groupby(['job_title', 'company_size']).agg('describe')\n",
    "# t1 = main_df[main_df.job_title != 'Other'].pivot_table(\n",
    "\n",
    "t1 = main_df.pivot_table(\n",
    "    values='salary_in_usd',\n",
    "    # index='job_title',\n",
    "    index='company_size',\n",
    "    # columns='company_size',\n",
    "    columns='job_title',\n",
    "    aggfunc='count'\n",
    ")\n",
    "# t3 = main_df.groupby('company_size')['company_size'].count()\n",
    "t1['total'] = t1['Data Engineer'] + t1['Data Scientist'] + t1['Other']\n",
    "t1['ds_percent'] = round(t1['Data Scientist'] / t1['total'] * 100)\n",
    "t1['de_percent'] = round(t1['Data Engineer'] / t1['total'] * 100)\n",
    "display(t1)\n",
    "# display(t1.index)\n",
    "# display(t1.columns)\n",
    "# display(t1.Other.iloc[0])\n",
    "# t2 = main_df[main_df.job_title != 'Other'].groupby(['job_title', 'company_size'])[['job_title']].count().unstack()\n",
    "t2 = main_df.pivot_table(\n",
    "    values='salary_in_usd',\n",
    "    index='job_title',\n",
    "    columns='company_size',\n",
    "    aggfunc='count'\n",
    ")\n",
    "display(t2)\n",
    "display(t2.L.sum())\n",
    "t2.L = round(t2.L / t2.L.sum() * 100)\n",
    "t2.M = round(t2.M / t2.M.sum() * 100)\n",
    "t2.S = round(t2.S / t2.S.sum() * 100)\n",
    "display(t2)\n",
    "# display(t3)\n",
    "# print(type(t3))\n",
    "# display(list(t3.index))\n",
    "# display(list(t3.values))\n",
    "\n",
    "jobs_spreads = plt.figure(figsize=(5, 4))\n",
    "axes = jobs_spreads.add_axes([0, 0, 1, 1])\n",
    "sns.barplot(\n",
    "    data=t2,\n",
    "    x='L',\n",
    "    # y='ds_percent',\n",
    "    hue='job_title',\n",
    "    # orient='v',\n",
    "    # order=['S', 'M', 'L'],\n",
    "    ax=axes\n",
    ")\n",
    "axes.set_title('Распределение специалистов по размеру компаний')\n",
    "axes.set_xlabel('Размер компании')\n",
    "axes.set_ylabel('Количество специалистов')\n",
    "axes.grid()"
   ]
  },
  {
   "cell_type": "code",
   "execution_count": 117,
   "metadata": {},
   "outputs": [
    {
     "data": {
      "text/html": [
       "<div>\n",
       "<style scoped>\n",
       "    .dataframe tbody tr th:only-of-type {\n",
       "        vertical-align: middle;\n",
       "    }\n",
       "\n",
       "    .dataframe tbody tr th {\n",
       "        vertical-align: top;\n",
       "    }\n",
       "\n",
       "    .dataframe thead th {\n",
       "        text-align: right;\n",
       "    }\n",
       "</style>\n",
       "<table border=\"1\" class=\"dataframe\">\n",
       "  <thead>\n",
       "    <tr style=\"text-align: right;\">\n",
       "      <th></th>\n",
       "      <th></th>\n",
       "      <th>work_year</th>\n",
       "      <th>experience_level</th>\n",
       "      <th>employment_type</th>\n",
       "      <th>salary_in_usd</th>\n",
       "      <th>employee_residence</th>\n",
       "      <th>remote_ratio</th>\n",
       "      <th>company_location</th>\n",
       "    </tr>\n",
       "    <tr>\n",
       "      <th>company_size</th>\n",
       "      <th>job_title</th>\n",
       "      <th></th>\n",
       "      <th></th>\n",
       "      <th></th>\n",
       "      <th></th>\n",
       "      <th></th>\n",
       "      <th></th>\n",
       "      <th></th>\n",
       "    </tr>\n",
       "  </thead>\n",
       "  <tbody>\n",
       "    <tr>\n",
       "      <th rowspan=\"2\" valign=\"top\">L</th>\n",
       "      <th>Data Engineer</th>\n",
       "      <td>37</td>\n",
       "      <td>37</td>\n",
       "      <td>37</td>\n",
       "      <td>37</td>\n",
       "      <td>37</td>\n",
       "      <td>37</td>\n",
       "      <td>37</td>\n",
       "    </tr>\n",
       "    <tr>\n",
       "      <th>Data Scientist</th>\n",
       "      <td>45</td>\n",
       "      <td>45</td>\n",
       "      <td>45</td>\n",
       "      <td>45</td>\n",
       "      <td>45</td>\n",
       "      <td>45</td>\n",
       "      <td>45</td>\n",
       "    </tr>\n",
       "    <tr>\n",
       "      <th rowspan=\"2\" valign=\"top\">M</th>\n",
       "      <th>Data Engineer</th>\n",
       "      <td>89</td>\n",
       "      <td>89</td>\n",
       "      <td>89</td>\n",
       "      <td>89</td>\n",
       "      <td>89</td>\n",
       "      <td>89</td>\n",
       "      <td>89</td>\n",
       "    </tr>\n",
       "    <tr>\n",
       "      <th>Data Scientist</th>\n",
       "      <td>77</td>\n",
       "      <td>77</td>\n",
       "      <td>77</td>\n",
       "      <td>77</td>\n",
       "      <td>77</td>\n",
       "      <td>77</td>\n",
       "      <td>77</td>\n",
       "    </tr>\n",
       "    <tr>\n",
       "      <th rowspan=\"2\" valign=\"top\">S</th>\n",
       "      <th>Data Engineer</th>\n",
       "      <td>6</td>\n",
       "      <td>6</td>\n",
       "      <td>6</td>\n",
       "      <td>6</td>\n",
       "      <td>6</td>\n",
       "      <td>6</td>\n",
       "      <td>6</td>\n",
       "    </tr>\n",
       "    <tr>\n",
       "      <th>Data Scientist</th>\n",
       "      <td>21</td>\n",
       "      <td>21</td>\n",
       "      <td>21</td>\n",
       "      <td>21</td>\n",
       "      <td>21</td>\n",
       "      <td>21</td>\n",
       "      <td>21</td>\n",
       "    </tr>\n",
       "  </tbody>\n",
       "</table>\n",
       "</div>"
      ],
      "text/plain": [
       "                             work_year  experience_level  employment_type  \\\n",
       "company_size job_title                                                      \n",
       "L            Data Engineer          37                37               37   \n",
       "             Data Scientist         45                45               45   \n",
       "M            Data Engineer          89                89               89   \n",
       "             Data Scientist         77                77               77   \n",
       "S            Data Engineer           6                 6                6   \n",
       "             Data Scientist         21                21               21   \n",
       "\n",
       "                             salary_in_usd  employee_residence  remote_ratio  \\\n",
       "company_size job_title                                                         \n",
       "L            Data Engineer              37                  37            37   \n",
       "             Data Scientist             45                  45            45   \n",
       "M            Data Engineer              89                  89            89   \n",
       "             Data Scientist             77                  77            77   \n",
       "S            Data Engineer               6                   6             6   \n",
       "             Data Scientist             21                  21            21   \n",
       "\n",
       "                             company_location  \n",
       "company_size job_title                         \n",
       "L            Data Engineer                 37  \n",
       "             Data Scientist                45  \n",
       "M            Data Engineer                 89  \n",
       "             Data Scientist                77  \n",
       "S            Data Engineer                  6  \n",
       "             Data Scientist                21  "
      ]
     },
     "metadata": {},
     "output_type": "display_data"
    },
    {
     "data": {
      "image/png": "[encoded data removed]",
      "text/plain": [
       "<Figure size 500x400 with 1 Axes>"
      ]
     },
     "metadata": {},
     "output_type": "display_data"
    }
   ],
   "source": [
    "salary_median_df = main_df[main_df.job_title != 'Other']\\\n",
    "                          .loc[main_df.work_year == '2022']\\\n",
    "                          .groupby(['job_title', 'work_year'])\\\n",
    "                          [['salary_in_usd']].median()\n",
    "# display(salary_median_df)\n",
    "\n",
    "# main_df[main_df.job_title != 'Other'].groupby(['job_title', 'company_size'])[['job_title']].count()\n",
    "job_counts_df = main_df[main_df.job_title != 'Other'].groupby(['company_size', 'job_title']).agg('count')\n",
    "display(job_counts_df)\n",
    "\n",
    "ds_salary_mean_df = main_df[main_df.job_title == 'Data Scientist']\\\n",
    "                           .groupby(['company_size'])[['salary_in_usd']]\\\n",
    "                           .mean()\n",
    "\n",
    "jobs_spread = plt.figure(figsize=(5, 4))\n",
    "axes = jobs_spread.add_axes([0, 0, 1, 1])\n",
    "sns.barplot(\n",
    "    data=job_counts_df,\n",
    "    x='company_size',\n",
    "    y='work_year',\n",
    "    hue='job_title',\n",
    "    # orient='v',\n",
    "    # order=['S', 'M', 'L'],\n",
    "    ax=axes\n",
    ")\n",
    "axes.set_title('Распределение специалистов по размеру компаний')\n",
    "axes.set_xlabel('Размер компании')\n",
    "axes.set_ylabel('Количество специалистов')\n",
    "axes.grid()"
   ]
  },
  {
   "cell_type": "markdown",
   "metadata": {},
   "source": [
    "## 4. Дополнительное исследование ##"
   ]
  },
  {
   "cell_type": "markdown",
   "metadata": {},
   "source": [
    "### 4.1. Если расширить роли **`Data Scientist`** и **`Data Engineer`**? ###"
   ]
  },
  {
   "cell_type": "code",
   "execution_count": 60,
   "metadata": {},
   "outputs": [
    {
     "data": {
      "text/plain": [
       "array(['Data Scientist', 'Machine Learning Scientist',\n",
       "       'Big Data Engineer', 'Product Data Analyst',\n",
       "       'Machine Learning Engineer', 'Data Analyst', 'Lead Data Scientist',\n",
       "       'Business Data Analyst', 'Lead Data Engineer', 'Lead Data Analyst',\n",
       "       'Data Engineer', 'Data Science Consultant', 'BI Data Analyst',\n",
       "       'Director of Data Science', 'Research Scientist',\n",
       "       'Machine Learning Manager', 'Data Engineering Manager',\n",
       "       'Machine Learning Infrastructure Engineer', 'ML Engineer',\n",
       "       'AI Scientist', 'Computer Vision Engineer',\n",
       "       'Principal Data Scientist', 'Data Science Manager', 'Head of Data',\n",
       "       '3D Computer Vision Researcher', 'Data Analytics Engineer',\n",
       "       'Applied Data Scientist', 'Marketing Data Analyst',\n",
       "       'Cloud Data Engineer', 'Financial Data Analyst',\n",
       "       'Computer Vision Software Engineer',\n",
       "       'Director of Data Engineering', 'Data Science Engineer',\n",
       "       'Principal Data Engineer', 'Machine Learning Developer',\n",
       "       'Applied Machine Learning Scientist', 'Data Analytics Manager',\n",
       "       'Head of Data Science', 'Data Specialist', 'Data Architect',\n",
       "       'Finance Data Analyst', 'Principal Data Analyst',\n",
       "       'Big Data Architect', 'Staff Data Scientist', 'Analytics Engineer',\n",
       "       'ETL Developer', 'Head of Machine Learning', 'NLP Engineer',\n",
       "       'Lead Machine Learning Engineer', 'Data Analytics Lead'],\n",
       "      dtype=object)"
      ]
     },
     "execution_count": 60,
     "metadata": {},
     "output_type": "execute_result"
    }
   ],
   "source": [
    "copy_df.job_title.unique()"
   ]
  },
  {
   "cell_type": "markdown",
   "metadata": {},
   "source": [
    "В списке есть ещё несколько должностей, которые можно добавить в категории\n",
    "**`Data Scientist`** и **`Data Engineer`**. Можно составить соответствующие\n",
    "списки должностей для увеличения данных по этим категориям."
   ]
  },
  {
   "cell_type": "code",
   "execution_count": null,
   "metadata": {},
   "outputs": [],
   "source": [
    "ds_list = ['Data Scientist',\n",
    "           'Lead Data Scientist',\n",
    "           'Data Science Consultant',\n",
    "           'Director of Data Science',\n",
    "           'Research Scientist',\n",
    "           'Principal Data Scientist',\n",
    "           'Data Science Manager',\n",
    "           'Applied Data Scientist',\n",
    "           'Applied Machine Learning Scientist',\n",
    "           'Head of Data Science',\n",
    "           'Staff Data Scientist'\n",
    "          ]\n",
    "de_list = ['Data Engineer',\n",
    "           'Big Data Engineer',\n",
    "           'Lead Data Engineer'\n",
    "           'Data Engineering Manager',\n",
    "           'Data Analytics Engineer',\n",
    "           'Cloud Data Engineer',\n",
    "           'Director of Data Engineering',\n",
    "           'Data Science Engineer',\n",
    "           'Principal Data Engineer',\n",
    "           'Analytics Engineer'\n",
    "          ]"
   ]
  },
  {
   "cell_type": "markdown",
   "metadata": {},
   "source": [
    "### 4.2. Если нормализовать данные в признаке **`salary_in_usd`**? ###"
   ]
  }
 ],
 "metadata": {
  "kernelspec": {
   "display_name": "Python 3",
   "language": "python",
   "name": "python3"
  },
  "language_info": {
   "codemirror_mode": {
    "name": "ipython",
    "version": 3
   },
   "file_extension": ".py",
   "mimetype": "text/x-python",
   "name": "python",
   "nbconvert_exporter": "python",
   "pygments_lexer": "ipython3",
   "version": "3.10.11"
  }
 },
 "nbformat": 4,
 "nbformat_minor": 2
}
