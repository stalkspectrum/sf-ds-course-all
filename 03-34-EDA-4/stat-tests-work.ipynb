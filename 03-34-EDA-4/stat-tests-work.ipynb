{
 "cells": [
  {
   "cell_type": "markdown",
   "metadata": {
    "id": "OHVffejibt2_"
   },
   "source": [
    "# Финальное задание модуля EDA-4 #\n",
    "\n",
    "## Популярные статистические тесты в Python ##\n",
    "\n",
    "Описание задания приведено в файле [README.md](README.md)"
   ]
  },
  {
   "cell_type": "code",
   "execution_count": 2,
   "metadata": {
    "executionInfo": {
     "elapsed": 11,
     "status": "ok",
     "timestamp": 1642089015807,
     "user": {
      "displayName": "Ketrin Trofimova",
      "photoUrl": "https://lh3.googleusercontent.com/a/default-user=s64",
      "userId": "05400058012601189465"
     },
     "user_tz": -180
    },
    "id": "KduVFzA8a6FL"
   },
   "outputs": [],
   "source": [
    "import pandas as pd\n",
    "# from scipy.stats import shapiro\n",
    "# from scipy.stats import normaltest\n",
    "# from scipy.stats import ttest_ind\n",
    "# from numpy.random import rand\n",
    "# from scipy.stats import spearmanr\n",
    "# from scipy.stats import f_oneway\n",
    "# from statsmodels.stats import weightstats\n",
    "# from statsmodels.stats.proportion import proportions_ztest"
   ]
  },
  {
   "cell_type": "markdown",
   "metadata": {
    "id": "-vBWXginfhcC"
   },
   "source": [
    "### Исходные массивы данных ###"
   ]
  },
  {
   "cell_type": "code",
   "execution_count": 3,
   "metadata": {
    "id": "g_Ew2HTZfyOF"
   },
   "outputs": [],
   "source": [
    "petersburg = [0.0974, 0.1352, 0.0817, 0.1016, 0.0968, 0.1064, 0.105]\n",
    "magadan = [0.1033, 0.0915, 0.0781, 0.0685, 0.0677, 0.0697, 0.0764, 0.0689]"
   ]
  },
  {
   "cell_type": "markdown",
   "metadata": {},
   "source": [
    "### 1) Объединение двух массивов в DataFrame ###"
   ]
  },
  {
   "cell_type": "code",
   "execution_count": 5,
   "metadata": {},
   "outputs": [
    {
     "name": "stdout",
     "output_type": "stream",
     "text": [
      "Длина petrsburg = 7\n",
      "Длина magadan = 8\n"
     ]
    }
   ],
   "source": [
    "print(f'Длина petrsburg = {len(petersburg)}')\n",
    "print(f'Длина magadan = {len(magadan)}')"
   ]
  },
  {
   "cell_type": "code",
   "execution_count": 9,
   "metadata": {},
   "outputs": [
    {
     "data": {
      "text/plain": [
       "0    0.0974\n",
       "1    0.1352\n",
       "2    0.0817\n",
       "3    0.1016\n",
       "4    0.0968\n",
       "5    0.1064\n",
       "6    0.1050\n",
       "Name: petersburg, dtype: float64"
      ]
     },
     "metadata": {},
     "output_type": "display_data"
    }
   ],
   "source": [
    "petersburg_ser = pd.Series(data=petersburg, dtype=float, name='petersburg')\n",
    "display(petersburg_ser)"
   ]
  },
  {
   "cell_type": "code",
   "execution_count": 10,
   "metadata": {},
   "outputs": [
    {
     "data": {
      "text/plain": [
       "0    0.1033\n",
       "1    0.0915\n",
       "2    0.0781\n",
       "3    0.0685\n",
       "4    0.0677\n",
       "5    0.0697\n",
       "6    0.0764\n",
       "7    0.0689\n",
       "Name: magadan, dtype: float64"
      ]
     },
     "metadata": {},
     "output_type": "display_data"
    }
   ],
   "source": [
    "magadan_ser = pd.Series(data=magadan, dtype=float, name='magadan')\n",
    "display(magadan_ser)"
   ]
  },
  {
   "cell_type": "markdown",
   "metadata": {},
   "source": [
    "### 2) Тест на корелляцию ###"
   ]
  },
  {
   "cell_type": "markdown",
   "metadata": {},
   "source": [
    "### 3) Обоснование выбора теста на корелляцию ###"
   ]
  },
  {
   "cell_type": "code",
   "execution_count": null,
   "metadata": {},
   "outputs": [],
   "source": []
  },
  {
   "cell_type": "markdown",
   "metadata": {},
   "source": [
    "### 4) Вывод по гипотезе ###"
   ]
  },
  {
   "cell_type": "code",
   "execution_count": null,
   "metadata": {},
   "outputs": [],
   "source": []
  },
  {
   "cell_type": "markdown",
   "metadata": {},
   "source": [
    "### 5) Тест на сравнение выборок ###"
   ]
  },
  {
   "cell_type": "code",
   "execution_count": null,
   "metadata": {},
   "outputs": [],
   "source": []
  },
  {
   "cell_type": "markdown",
   "metadata": {},
   "source": [
    "### 6) Обоснование выбоа теста на сравнение ###"
   ]
  },
  {
   "cell_type": "code",
   "execution_count": null,
   "metadata": {},
   "outputs": [],
   "source": []
  },
  {
   "cell_type": "markdown",
   "metadata": {},
   "source": [
    "### 7) Вывод по гипотезе ###"
   ]
  },
  {
   "cell_type": "code",
   "execution_count": null,
   "metadata": {},
   "outputs": [],
   "source": []
  }
 ],
 "metadata": {
  "colab": {
   "collapsed_sections": [],
   "name": "Статистические_тесты.ipynb",
   "provenance": []
  },
  "kernelspec": {
   "display_name": "Python 3",
   "language": "python",
   "name": "python3"
  },
  "language_info": {
   "codemirror_mode": {
    "name": "ipython",
    "version": 3
   },
   "file_extension": ".py",
   "mimetype": "text/x-python",
   "name": "python",
   "nbconvert_exporter": "python",
   "pygments_lexer": "ipython3",
   "version": "3.9.13"
  }
 },
 "nbformat": 4,
 "nbformat_minor": 1
}
