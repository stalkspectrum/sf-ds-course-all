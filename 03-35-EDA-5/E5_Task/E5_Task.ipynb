{
 "cells": [
  {
   "cell_type": "markdown",
   "id": "c8a6af25-08d3-487a-bd90-001772ac9161",
   "metadata": {},
   "source": [
    "# <center>Финальное задание модуля EDA-5</center> #\n",
    "\n",
    "## <center>**Анализ результатов A/B-тестирования**</center> ##"
   ]
  },
  {
   "cell_type": "markdown",
   "id": "d7d45571-6545-4904-a86b-9b3b6b8163d3",
   "metadata": {},
   "source": [
    "Компания планирует запустить новую акцию, чтобы продать как можно больше туров. Команда разработала два варианта посадочной страницы официального сайта компании и провела A/B-тестирование. Собранные в результате проведения эксперимента данные вы можете найти здесь.\n",
    "\n",
    "Вам предстоит решить настоящую бизнес-задачу: проанализировать эффективность обоих вариантов посадочной страницы сразу по двум критериям: конверсии покупки и среднему чеку. На основе проведенного анализа вам будет необходимо сделать выводы и принять решение: какой из вариантов дизайна более предпочтительный.\n",
    "\n",
    "Итак, наша фирма предлагает следующие варианты туров и их соответствующие стоимости:\n",
    "* Таиланд — 100000 рублей;\n",
    "* Турция — 60000 рублей;\n",
    "* Мальдивы — 200000 рублей;\n",
    "* Санкт-Петербург — 10000 рублей;\n",
    "* Камчатка — 150000 рублей.\n",
    "\n",
    "Более подробное описание задания приведено в файле [README.md](README.md)"
   ]
  },
  {
   "cell_type": "code",
   "execution_count": 85,
   "id": "a974b482-e192-4014-8520-8a5c0c946da6",
   "metadata": {},
   "outputs": [],
   "source": [
    "import pandas as pd\n",
    "import matplotlib.pyplot as plt\n",
    "import seaborn as sns\n",
    "from scipy.stats import norm\n",
    "from scipy.stats import t\n",
    "from scipy.stats import ttest_ind, shapiro, f_oneway, mannwhitneyu\n",
    "from statsmodels.stats.proportion import proportions_ztest\n",
    "\n",
    "# Для корректной работы Jupyter Notebook\n",
    "%matplotlib inline\n",
    "# Для корректного отображения графиков в тёмной теме\n",
    "plt.style.use('default')"
   ]
  },
  {
   "cell_type": "markdown",
   "id": "55c84550-4162-4325-acc2-7d3c0aafe6f0",
   "metadata": {},
   "source": [
    "Прочитаем наши данные и посмотрим на столбцы таблицы:"
   ]
  },
  {
   "cell_type": "code",
   "execution_count": 86,
   "id": "b0d18245-b9da-44bd-8aea-d272ea74b63a",
   "metadata": {},
   "outputs": [
    {
     "data": {
      "text/html": [
       "<div>\n",
       "<style scoped>\n",
       "    .dataframe tbody tr th:only-of-type {\n",
       "        vertical-align: middle;\n",
       "    }\n",
       "\n",
       "    .dataframe tbody tr th {\n",
       "        vertical-align: top;\n",
       "    }\n",
       "\n",
       "    .dataframe thead th {\n",
       "        text-align: right;\n",
       "    }\n",
       "</style>\n",
       "<table border=\"1\" class=\"dataframe\">\n",
       "  <thead>\n",
       "    <tr style=\"text-align: right;\">\n",
       "      <th></th>\n",
       "      <th>user_id</th>\n",
       "      <th>date</th>\n",
       "      <th>group</th>\n",
       "      <th>purchase</th>\n",
       "      <th>price</th>\n",
       "    </tr>\n",
       "  </thead>\n",
       "  <tbody>\n",
       "    <tr>\n",
       "      <th>0</th>\n",
       "      <td>851104</td>\n",
       "      <td>2021-01-21</td>\n",
       "      <td>A</td>\n",
       "      <td>0</td>\n",
       "      <td>0</td>\n",
       "    </tr>\n",
       "    <tr>\n",
       "      <th>1</th>\n",
       "      <td>804228</td>\n",
       "      <td>2021-01-12</td>\n",
       "      <td>A</td>\n",
       "      <td>0</td>\n",
       "      <td>0</td>\n",
       "    </tr>\n",
       "    <tr>\n",
       "      <th>2</th>\n",
       "      <td>661590</td>\n",
       "      <td>2021-01-11</td>\n",
       "      <td>B</td>\n",
       "      <td>0</td>\n",
       "      <td>0</td>\n",
       "    </tr>\n",
       "    <tr>\n",
       "      <th>3</th>\n",
       "      <td>853541</td>\n",
       "      <td>2021-01-08</td>\n",
       "      <td>B</td>\n",
       "      <td>0</td>\n",
       "      <td>0</td>\n",
       "    </tr>\n",
       "    <tr>\n",
       "      <th>4</th>\n",
       "      <td>864975</td>\n",
       "      <td>2021-01-21</td>\n",
       "      <td>A</td>\n",
       "      <td>1</td>\n",
       "      <td>150000</td>\n",
       "    </tr>\n",
       "  </tbody>\n",
       "</table>\n",
       "</div>"
      ],
      "text/plain": [
       "   user_id        date group  purchase   price\n",
       "0   851104  2021-01-21     A         0       0\n",
       "1   804228  2021-01-12     A         0       0\n",
       "2   661590  2021-01-11     B         0       0\n",
       "3   853541  2021-01-08     B         0       0\n",
       "4   864975  2021-01-21     A         1  150000"
      ]
     },
     "metadata": {},
     "output_type": "display_data"
    }
   ],
   "source": [
    "data = pd.read_csv('ab_data_tourist.csv')\n",
    "display(data.head())"
   ]
  },
  {
   "cell_type": "markdown",
   "id": "2fc48225-26ac-49c4-b99d-8b2a03dd74a1",
   "metadata": {
    "tags": []
   },
   "source": [
    "## **Задание 7.1.**\n",
    "\n",
    "Начнем с исследования структуры наших данных. С помощью метода info() выведите информацию о типах данных и количестве непустых значений. Какой тип данных имеет столбец date?"
   ]
  },
  {
   "cell_type": "code",
   "execution_count": 87,
   "id": "23496521-4878-46e2-ab02-1a98be14884a",
   "metadata": {},
   "outputs": [
    {
     "name": "stdout",
     "output_type": "stream",
     "text": [
      "<class 'pandas.core.frame.DataFrame'>\n",
      "RangeIndex: 294478 entries, 0 to 294477\n",
      "Data columns (total 5 columns):\n",
      " #   Column    Non-Null Count   Dtype \n",
      "---  ------    --------------   ----- \n",
      " 0   user_id   294478 non-null  int64 \n",
      " 1   date      294478 non-null  object\n",
      " 2   group     294478 non-null  object\n",
      " 3   purchase  294478 non-null  int64 \n",
      " 4   price     294478 non-null  int64 \n",
      "dtypes: int64(3), object(2)\n",
      "memory usage: 11.2+ MB\n"
     ]
    },
    {
     "data": {
      "text/plain": [
       "None"
      ]
     },
     "metadata": {},
     "output_type": "display_data"
    },
    {
     "name": "stdout",
     "output_type": "stream",
     "text": [
      "Точнее тип данных в признаке 'date' - <class 'str'>\n"
     ]
    }
   ],
   "source": [
    "display(data.info())\n",
    "print(f\"Точнее тип данных в признаке 'date' - {type(data['date'][0])}\")"
   ]
  },
  {
   "cell_type": "markdown",
   "id": "72a2cbec",
   "metadata": {},
   "source": [
    "***Выводы***\n",
    "\n",
    "Изначально признак **date** типа `object`, а точнее&nbsp;&mdash; `str`"
   ]
  },
  {
   "cell_type": "markdown",
   "id": "946d017d-b4fe-4a17-b91d-0ce369d1ab2e",
   "metadata": {
    "tags": []
   },
   "source": [
    "## **Задание 7.2.**\n",
    "\n",
    "Приведите столбец date к типу данных datetime. Убедитесь в равной длительности проведения тестирования для каждой из группы. Для этого сгруппируйте данные по признаку группы и определите первую и последнюю дату наблюдения для каждой из групп. \n",
    "\n",
    "В какой промежуток времени проводился A/B-тест?\n"
   ]
  },
  {
   "cell_type": "code",
   "execution_count": 88,
   "id": "604c619d-6338-45c8-8248-ac098a2366bb",
   "metadata": {},
   "outputs": [],
   "source": [
    "data['date'] = pd.to_datetime(data['date'], yearfirst=True)\n",
    "data_a = data[data['group'] == 'A']\n",
    "data_b = data[data['group'] == 'B']"
   ]
  },
  {
   "cell_type": "code",
   "execution_count": 89,
   "id": "29e43b30",
   "metadata": {},
   "outputs": [
    {
     "name": "stdout",
     "output_type": "stream",
     "text": [
      "Начало тестирования группы A: 2021-01-02 00:00:00\n",
      "Начало тестирования группы B: 2021-01-02 00:00:00\n",
      "Конеу тестирования группы A: 2021-01-24 00:00:00\n",
      "Конеу тестирования группы B: 2021-01-24 00:00:00\n"
     ]
    }
   ],
   "source": [
    "print(f\"Начало тестирования группы A: {data_a['date'].min()}\")\n",
    "print(f\"Начало тестирования группы B: {data_b['date'].min()}\")\n",
    "print(f\"Конеу тестирования группы A: {data_a['date'].max()}\")\n",
    "print(f\"Конеу тестирования группы B: {data_b['date'].max()}\")"
   ]
  },
  {
   "cell_type": "markdown",
   "id": "5b3ec763",
   "metadata": {},
   "source": [
    "***Выводы***\n",
    "\n",
    "Группы тестировались одновременно, в одном интервале времени с 02-01-2021 по 23-01-2021."
   ]
  },
  {
   "cell_type": "markdown",
   "id": "e04eb341-52ae-48b3-9dc2-0578ca91641a",
   "metadata": {},
   "source": [
    "## **Задание 7.3.**\n",
    "\n",
    "* Чему равно количество посещений сайта в группах А и B?\n",
    "\n",
    "* Чему равно суммарное количество покупок в группах А и B?\n",
    "\n",
    "* Чему равна сумма всех покупок в группах А и B? Ответ приведите в миллионах рублей. Например, 185.52 млн. руб."
   ]
  },
  {
   "cell_type": "code",
   "execution_count": 90,
   "id": "02bf0148-488e-4f34-95bf-37794b2fa98b",
   "metadata": {},
   "outputs": [
    {
     "name": "stdout",
     "output_type": "stream",
     "text": [
      "Всего посещений по группам:\n"
     ]
    },
    {
     "data": {
      "text/plain": [
       "A    147202\n",
       "B    147276\n",
       "Name: group, dtype: int64"
      ]
     },
     "metadata": {},
     "output_type": "display_data"
    },
    {
     "name": "stdout",
     "output_type": "stream",
     "text": [
      "\n",
      "Суммарное количество покупок в группе A: 17723\n",
      "Суммарное количество покупок в группе B: 17514\n",
      "\n",
      "Сумма всех покупок в группе A: 1436.26 млн. руб.\n",
      "Сумма всех покупок в группе B: 1554.1 млн. руб.\n"
     ]
    }
   ],
   "source": [
    "print('Всего посещений по группам:')\n",
    "display(data['group'].value_counts(ascending=True))\n",
    "\n",
    "print(f\"\\nСуммарное количество покупок в группе A: {data_a['purchase'].sum()}\")\n",
    "print(f\"Суммарное количество покупок в группе B: {data_b['purchase'].sum()}\\n\")\n",
    "\n",
    "print(f\"Сумма всех покупок в группе A: {data_a['price'].sum() / 1_000_000} млн. руб.\")\n",
    "print(f\"Сумма всех покупок в группе B: {data_b['price'].sum() / 1_000_000} млн. руб.\")"
   ]
  },
  {
   "cell_type": "markdown",
   "id": "2434db1b-17e6-4977-8e54-1df875c6f221",
   "metadata": {
    "tags": []
   },
   "source": [
    "## **Задание 7.4.**\n",
    "\n",
    "Проверьте, есть ли пользователи, которые в процессе A/B-теста попали в обе тестовые группы? Если да, то сколько таких уникальных пользователей, если нет - введите в поле для ответа 0?\n",
    "\n",
    "**Подсказка:**\n",
    "\n",
    "*Создайте множество пользователей группы А и множество пользователей группы B. Пересеките два этих множества (операция intersection) и вычислите количество элементов в полученном множестве.*\n"
   ]
  },
  {
   "cell_type": "code",
   "execution_count": 91,
   "id": "57a2d711-057d-4f8b-9f56-df0f772d41c8",
   "metadata": {},
   "outputs": [
    {
     "name": "stdout",
     "output_type": "stream",
     "text": [
      "1895 пользователей попали в обе группы\n"
     ]
    }
   ],
   "source": [
    "a_id_set = set(data_a['user_id'].values)\n",
    "b_id_set = set(data_b['user_id'].values)\n",
    "user_intersection = a_id_set.intersection(b_id_set)\n",
    "print(f\"{len(user_intersection)} пользователей попали в обе группы\")"
   ]
  },
  {
   "cell_type": "markdown",
   "id": "118b1904-7d7a-4935-825e-535da45c611b",
   "metadata": {
    "tags": []
   },
   "source": [
    "## **Исключите пользователей, оказавшихся в обеих группах**\n",
    "\n",
    "Так как мы не можем определить, какая из версий сайта повлияла на принятие решения, исключим этих пользователей. Далее мы будем работать только с очищенными от пересечений данными.\n",
    "\n",
    "Возможный вариант исключения пользователей:"
   ]
  },
  {
   "cell_type": "code",
   "execution_count": 92,
   "id": "f618b34b-35a3-4bf1-8d6d-38b3401930b7",
   "metadata": {},
   "outputs": [],
   "source": [
    "data_clear = data[data['user_id'].apply(lambda x: x not in user_intersection)]"
   ]
  },
  {
   "cell_type": "markdown",
   "id": "2bce6c9a-6580-4250-b280-204d40d20da2",
   "metadata": {},
   "source": [
    "Где user_intersection - множество пересечений пользователей групп А и B."
   ]
  },
  {
   "attachments": {
    "95f235d2-6323-4799-bf69-697fc57f727b.png": {
     "image/png": "[encoded data removed]"
    }
   },
   "cell_type": "markdown",
   "id": "2ddf6b2c-7987-41f3-82b1-8992630ae97b",
   "metadata": {
    "tags": []
   },
   "source": [
    "## **Задание 7.5.**\n",
    "\n",
    "Для первичного анализа результатов A/B-тестирования нам понадобится таблица следующего вида:\n",
    "\n",
    "![image.png](attachment:95f235d2-6323-4799-bf69-697fc57f727b.png)\n",
    " \n",
    " \n",
    "Для того, чтобы получить такую таблицу, сгруппируйте данные по признаку группы. В каждой группе рассчитайте следующие показатели:\n",
    "* количество посещений (количество пользователей)\n",
    "* количество совершенных покупок\n",
    "* сумма всех покупок в группе\n",
    "\n",
    "В полученной сгруппированной таблице переименуйте столбцы на **count_visits, count_purchases и sum_price**.\n",
    "\n",
    "**Подсказка:**\n",
    "\n",
    "*Для переименования столбцов можно использовать метод rename() с параметром columns, в который передается словарь. Ключи этого словаря - старые имена столбцов, а значения - новые.*\n",
    "\n",
    "Чему на этот раз равно количество посещений сайта в группах А и B?\n"
   ]
  },
  {
   "cell_type": "code",
   "execution_count": 93,
   "id": "5c0c018e-a250-48e9-b72a-e3c7be586ebd",
   "metadata": {},
   "outputs": [
    {
     "data": {
      "text/html": [
       "<div>\n",
       "<style scoped>\n",
       "    .dataframe tbody tr th:only-of-type {\n",
       "        vertical-align: middle;\n",
       "    }\n",
       "\n",
       "    .dataframe tbody tr th {\n",
       "        vertical-align: top;\n",
       "    }\n",
       "\n",
       "    .dataframe thead th {\n",
       "        text-align: right;\n",
       "    }\n",
       "</style>\n",
       "<table border=\"1\" class=\"dataframe\">\n",
       "  <thead>\n",
       "    <tr style=\"text-align: right;\">\n",
       "      <th></th>\n",
       "      <th>count_visits</th>\n",
       "      <th>count_purchases</th>\n",
       "      <th>sum_price</th>\n",
       "    </tr>\n",
       "    <tr>\n",
       "      <th>group</th>\n",
       "      <th></th>\n",
       "      <th></th>\n",
       "      <th></th>\n",
       "    </tr>\n",
       "  </thead>\n",
       "  <tbody>\n",
       "    <tr>\n",
       "      <th>A</th>\n",
       "      <td>145307</td>\n",
       "      <td>17487</td>\n",
       "      <td>1417780000</td>\n",
       "    </tr>\n",
       "    <tr>\n",
       "      <th>B</th>\n",
       "      <td>145381</td>\n",
       "      <td>17290</td>\n",
       "      <td>1533010000</td>\n",
       "    </tr>\n",
       "  </tbody>\n",
       "</table>\n",
       "</div>"
      ],
      "text/plain": [
       "       count_visits  count_purchases   sum_price\n",
       "group                                           \n",
       "A            145307            17487  1417780000\n",
       "B            145381            17290  1533010000"
      ]
     },
     "metadata": {},
     "output_type": "display_data"
    }
   ],
   "source": [
    "data_grp = data_clear.groupby(['group']).agg({\n",
    "    'user_id': 'count',\n",
    "    'purchase': 'sum',\n",
    "    'price': 'sum'\n",
    "}).rename(columns={\n",
    "    'user_id': 'count_visits',\n",
    "    'purchase': 'count_purchases',\n",
    "    'price': 'sum_price'\n",
    "})\n",
    "display(data_grp)"
   ]
  },
  {
   "cell_type": "markdown",
   "id": "b71e1390-9846-4a8e-b357-f82b847d1952",
   "metadata": {},
   "source": [
    "Приведите промежуточные выводы по построенной таблице. Сопоставимо ли количество посещений обоих вариантов посадочной странице, можно ли говорить о сбалансированности выборок?"
   ]
  },
  {
   "cell_type": "markdown",
   "id": "4ea1b65b-475e-4bff-9460-fac0acdb9620",
   "metadata": {},
   "source": [
    "***Выводы***\n",
    "\n",
    "Количество посещений обоих вариантов посадочной страницы примерно равно. Выборки можно считать сбалансированными."
   ]
  },
  {
   "cell_type": "markdown",
   "id": "afb2ee0a-31d1-45a5-be42-a2bf168b9448",
   "metadata": {
    "tags": []
   },
   "source": [
    "## **Задание 7.6.**\n",
    "\n",
    "Добавьте в сгруппированную таблицу столбцы conversion - конверсия покупки (отношение количества покупок к количеству посещений сайта в каждой группе, выраженное в процентах) и mean_check - средний чек (отношение суммы покупок к количеству покупок в каждой группе).\n",
    "\n",
    "* Чему равна конверсия в группах? Ответ приведите в процентах и округлите до сотых. Например, 75.12 %\n",
    "* Чему равен средний чек в группах? Ответ приведите в рублях и округлите до целых. Например, 120519 рублей."
   ]
  },
  {
   "cell_type": "code",
   "execution_count": 94,
   "id": "bd9c3b3e-5956-41a8-bae0-43693f6de1f2",
   "metadata": {},
   "outputs": [
    {
     "data": {
      "text/html": [
       "<div>\n",
       "<style scoped>\n",
       "    .dataframe tbody tr th:only-of-type {\n",
       "        vertical-align: middle;\n",
       "    }\n",
       "\n",
       "    .dataframe tbody tr th {\n",
       "        vertical-align: top;\n",
       "    }\n",
       "\n",
       "    .dataframe thead th {\n",
       "        text-align: right;\n",
       "    }\n",
       "</style>\n",
       "<table border=\"1\" class=\"dataframe\">\n",
       "  <thead>\n",
       "    <tr style=\"text-align: right;\">\n",
       "      <th></th>\n",
       "      <th>count_visits</th>\n",
       "      <th>count_purchases</th>\n",
       "      <th>sum_price</th>\n",
       "      <th>conversion</th>\n",
       "      <th>mean_check</th>\n",
       "    </tr>\n",
       "    <tr>\n",
       "      <th>group</th>\n",
       "      <th></th>\n",
       "      <th></th>\n",
       "      <th></th>\n",
       "      <th></th>\n",
       "      <th></th>\n",
       "    </tr>\n",
       "  </thead>\n",
       "  <tbody>\n",
       "    <tr>\n",
       "      <th>A</th>\n",
       "      <td>145307</td>\n",
       "      <td>17487</td>\n",
       "      <td>1417780000</td>\n",
       "      <td>12.034520</td>\n",
       "      <td>81076.228055</td>\n",
       "    </tr>\n",
       "    <tr>\n",
       "      <th>B</th>\n",
       "      <td>145381</td>\n",
       "      <td>17290</td>\n",
       "      <td>1533010000</td>\n",
       "      <td>11.892888</td>\n",
       "      <td>88664.545980</td>\n",
       "    </tr>\n",
       "  </tbody>\n",
       "</table>\n",
       "</div>"
      ],
      "text/plain": [
       "       count_visits  count_purchases   sum_price  conversion    mean_check\n",
       "group                                                                     \n",
       "A            145307            17487  1417780000   12.034520  81076.228055\n",
       "B            145381            17290  1533010000   11.892888  88664.545980"
      ]
     },
     "metadata": {},
     "output_type": "display_data"
    },
    {
     "name": "stdout",
     "output_type": "stream",
     "text": [
      "Конверсия в группе A: 12.03%\n",
      "Конверсия в группе B: 11.89%\n",
      "Средний чек в группе A: 81076 руб.\n",
      "Средний чек в группе B: 88665 руб.\n"
     ]
    }
   ],
   "source": [
    "data_grp['conversion'] = data_grp['count_purchases'] / data_grp['count_visits'] * 100\n",
    "data_grp['mean_check'] = data_grp['sum_price'] / data_grp['count_purchases']\n",
    "display(data_grp)\n",
    "print(f\"Конверсия в группе A: {round(data_grp['conversion']['A'], 2)}%\")\n",
    "print(f\"Конверсия в группе B: {round(data_grp['conversion']['B'], 2)}%\")\n",
    "print(f\"Средний чек в группе A: {round(data_grp['mean_check']['A'])} руб.\")\n",
    "print(f\"Средний чек в группе B: {round(data_grp['mean_check']['B'])} руб.\")"
   ]
  },
  {
   "cell_type": "markdown",
   "id": "1eb6e140-c702-43e0-b301-9914a7f49448",
   "metadata": {},
   "source": [
    "Приведите промежуточные выводы по таблице. По какому(им) показателю(ям) вариант А эффективнее варианта B и наоборот?"
   ]
  },
  {
   "cell_type": "markdown",
   "id": "9e88c883-84f9-44ec-accd-04d5d459b261",
   "metadata": {},
   "source": [
    "***Выводы***\n",
    "\n",
    "Пока группа **A** показывает малозначительную эффективность по конверсии, но группа **B** эффективнее по среднему чеку, и существенно."
   ]
  },
  {
   "cell_type": "markdown",
   "id": "7f9f1ae0-f12f-49b3-8b57-1c299c208c49",
   "metadata": {
    "tags": []
   },
   "source": [
    "## **Задание 7.7.**\n",
    "\n",
    "Теперь давайте сравним варианты по покупательской способности туров. Для этого постройте сводную таблицу, которая покажет зависимость количества продаж от группы и цены тура. "
   ]
  },
  {
   "cell_type": "code",
   "execution_count": 95,
   "id": "78d46a02-cc30-4783-9b18-9fc9c6a08012",
   "metadata": {},
   "outputs": [
    {
     "data": {
      "text/html": [
       "<div>\n",
       "<style scoped>\n",
       "    .dataframe tbody tr th:only-of-type {\n",
       "        vertical-align: middle;\n",
       "    }\n",
       "\n",
       "    .dataframe tbody tr th {\n",
       "        vertical-align: top;\n",
       "    }\n",
       "\n",
       "    .dataframe thead th {\n",
       "        text-align: right;\n",
       "    }\n",
       "</style>\n",
       "<table border=\"1\" class=\"dataframe\">\n",
       "  <thead>\n",
       "    <tr style=\"text-align: right;\">\n",
       "      <th>price</th>\n",
       "      <th>10000</th>\n",
       "      <th>60000</th>\n",
       "      <th>100000</th>\n",
       "      <th>150000</th>\n",
       "      <th>200000</th>\n",
       "    </tr>\n",
       "    <tr>\n",
       "      <th>group</th>\n",
       "      <th></th>\n",
       "      <th></th>\n",
       "      <th></th>\n",
       "      <th></th>\n",
       "      <th></th>\n",
       "    </tr>\n",
       "  </thead>\n",
       "  <tbody>\n",
       "    <tr>\n",
       "      <th>A</th>\n",
       "      <td>5182</td>\n",
       "      <td>5271</td>\n",
       "      <td>1832</td>\n",
       "      <td>3478</td>\n",
       "      <td>1724</td>\n",
       "    </tr>\n",
       "    <tr>\n",
       "      <th>B</th>\n",
       "      <td>5201</td>\n",
       "      <td>1730</td>\n",
       "      <td>5227</td>\n",
       "      <td>3438</td>\n",
       "      <td>1694</td>\n",
       "    </tr>\n",
       "  </tbody>\n",
       "</table>\n",
       "</div>"
      ],
      "text/plain": [
       "price  10000   60000   100000  150000  200000\n",
       "group                                        \n",
       "A        5182    5271    1832    3478    1724\n",
       "B        5201    1730    5227    3438    1694"
      ]
     },
     "metadata": {},
     "output_type": "display_data"
    }
   ],
   "source": [
    "''' Таблица, содержащая только строки с покупками (конверсией) '''\n",
    "data_conv = data_clear[data_clear['purchase'] == 1]\n",
    "\n",
    "data_piv = data_conv.pivot_table(\n",
    "    values='purchase',\n",
    "    index='group',\n",
    "    columns=['price'],\n",
    "    aggfunc='sum'\n",
    ")\n",
    "display(data_piv)"
   ]
  },
  {
   "cell_type": "markdown",
   "id": "977423ed-8f8d-475c-b773-621edd95338d",
   "metadata": {},
   "source": [
    "Визуализируйте полученную сводную таблицу с помощью тепловой карты с аннотацией. \n",
    "Чему равно количество проданных туров за 60000 рублей в группах?"
   ]
  },
  {
   "cell_type": "code",
   "execution_count": 96,
   "id": "4b51b55e",
   "metadata": {},
   "outputs": [
    {
     "name": "stdout",
     "output_type": "stream",
     "text": [
      "Количество проданных туров за 60000 рублей в группе A: 5271\n",
      "Количество проданных туров за 60000 рублей в группе B: 1730\n"
     ]
    }
   ],
   "source": [
    "print(f\"Количество проданных туров за 60000 рублей в группе A: {data_piv[60000].loc['A']}\")\n",
    "print(f\"Количество проданных туров за 60000 рублей в группе B: {data_piv[60000].loc['B']}\")"
   ]
  },
  {
   "cell_type": "code",
   "execution_count": 97,
   "id": "f634fa8d-585c-42e3-b7d5-78e8d9eaa8c5",
   "metadata": {},
   "outputs": [
    {
     "data": {
      "image/png": "[encoded data removed]",
      "text/plain": [
       "<Figure size 640x480 with 2 Axes>"
      ]
     },
     "metadata": {},
     "output_type": "display_data"
    }
   ],
   "source": [
    "heatmap = sns.heatmap(data=data_piv, annot=True, fmt='d', cmap='Reds')\n",
    "heatmap.set_title('Зависимость количества продаж от группы и цены тура')\n",
    "heatmap.set_xlabel('Цена тура')\n",
    "heatmap.set_ylabel('Группа');"
   ]
  },
  {
   "cell_type": "markdown",
   "id": "9caa92ca-e261-4b8f-a16c-2abc322c9ffb",
   "metadata": {},
   "source": [
    "Сделайте выводы по построенной таблице. По каким турам покупательская способность участников группы А выше, чем участников группы B и наоборот?"
   ]
  },
  {
   "cell_type": "markdown",
   "id": "6d13fd45-e3df-468f-9d32-1fc45d38b10c",
   "metadata": {},
   "source": [
    "***Выводы***\n",
    "\n",
    "Если конверсия по турам `\"Санкт-Петербург\"` (10000), `\"Камчатка\"` (150000), `\"Мальдивы\"` (200000) примерно одинакова по группам, то в турах `\"Турция\"` (60000) и `\"Тайланд\"` (100000) наблюдаются обратные соотношения&nbsp;&mdash; в группе **A** больше \"Турции\", а в группе **B** больше \"Тайланда\", причём почти в однинаковой пропорции, что, видимо, и повлияло на повышенный средний чек в группе **B**."
   ]
  },
  {
   "cell_type": "markdown",
   "id": "8f021fb4-d0f6-4e43-b518-1a96c07a4531",
   "metadata": {
    "tags": []
   },
   "source": [
    "## **Задание 7.8.**\n",
    "\n",
    "Настало время поговорить о стабилизации кумулятивных метрик во времени. Но прежде, чем перейти к кумулятивным метрикам, нам необходимо построить таблицу с ежедневными данными результатов проведения A/B-тестирования.\n",
    "\n",
    "Сгруппируйте данные по дате и группе тестирования. В каждой группе вычислите количество посещений страницы, количество покупок и сумму покупок. \n",
    "\n",
    "Добавьте в таблицу информацию о ежедневной конверсии (ежедневное количество покупок / ежедневное количество посещений) в группе и ежедневном среднем чеке (ежедневная сумма покупок / ежедневное количество покупок)\n",
    "* Чему равна конверсия 3 января 2021 года? Ответ приведите в процентах и округлите до сотых.\n",
    "\n",
    "* Чему равен средний чек 3 января 2021 года? Ответ приведите в рублях и округлите до целого."
   ]
  },
  {
   "cell_type": "code",
   "execution_count": 98,
   "id": "4503b528-412e-433a-bc03-da7da52fa1a3",
   "metadata": {},
   "outputs": [
    {
     "data": {
      "text/html": [
       "<div>\n",
       "<style scoped>\n",
       "    .dataframe tbody tr th:only-of-type {\n",
       "        vertical-align: middle;\n",
       "    }\n",
       "\n",
       "    .dataframe tbody tr th {\n",
       "        vertical-align: top;\n",
       "    }\n",
       "\n",
       "    .dataframe thead th {\n",
       "        text-align: right;\n",
       "    }\n",
       "</style>\n",
       "<table border=\"1\" class=\"dataframe\">\n",
       "  <thead>\n",
       "    <tr style=\"text-align: right;\">\n",
       "      <th></th>\n",
       "      <th>date</th>\n",
       "      <th>group</th>\n",
       "      <th>count_visits</th>\n",
       "      <th>sum_purchases</th>\n",
       "      <th>sum_price</th>\n",
       "      <th>conversion</th>\n",
       "      <th>mean_check</th>\n",
       "    </tr>\n",
       "  </thead>\n",
       "  <tbody>\n",
       "    <tr>\n",
       "      <th>0</th>\n",
       "      <td>2021-01-02</td>\n",
       "      <td>A</td>\n",
       "      <td>2854</td>\n",
       "      <td>359</td>\n",
       "      <td>29410000</td>\n",
       "      <td>12.578837</td>\n",
       "      <td>81922.005571</td>\n",
       "    </tr>\n",
       "    <tr>\n",
       "      <th>1</th>\n",
       "      <td>2021-01-02</td>\n",
       "      <td>B</td>\n",
       "      <td>2861</td>\n",
       "      <td>345</td>\n",
       "      <td>29660000</td>\n",
       "      <td>12.058721</td>\n",
       "      <td>85971.014493</td>\n",
       "    </tr>\n",
       "    <tr>\n",
       "      <th>2</th>\n",
       "      <td>2021-01-03</td>\n",
       "      <td>A</td>\n",
       "      <td>6596</td>\n",
       "      <td>748</td>\n",
       "      <td>62000000</td>\n",
       "      <td>11.340206</td>\n",
       "      <td>82887.700535</td>\n",
       "    </tr>\n",
       "    <tr>\n",
       "      <th>3</th>\n",
       "      <td>2021-01-03</td>\n",
       "      <td>B</td>\n",
       "      <td>6619</td>\n",
       "      <td>754</td>\n",
       "      <td>65960000</td>\n",
       "      <td>11.391449</td>\n",
       "      <td>87480.106101</td>\n",
       "    </tr>\n",
       "  </tbody>\n",
       "</table>\n",
       "</div>"
      ],
      "text/plain": [
       "        date group  count_visits  sum_purchases  sum_price  conversion  \\\n",
       "0 2021-01-02     A          2854            359   29410000   12.578837   \n",
       "1 2021-01-02     B          2861            345   29660000   12.058721   \n",
       "2 2021-01-03     A          6596            748   62000000   11.340206   \n",
       "3 2021-01-03     B          6619            754   65960000   11.391449   \n",
       "\n",
       "     mean_check  \n",
       "0  81922.005571  \n",
       "1  85971.014493  \n",
       "2  82887.700535  \n",
       "3  87480.106101  "
      ]
     },
     "metadata": {},
     "output_type": "display_data"
    },
    {
     "name": "stdout",
     "output_type": "stream",
     "text": [
      "Конверсия на 03-01-2021 в группе A:  11.34 %\n",
      "Конверсия на 03-01-2021 в группе B:  11.39 %\n",
      "Средний чек на 03-01-2021 в группе A:  82888\n",
      "Средний чек на 03-01-2021 в группе B:  87480\n"
     ]
    }
   ],
   "source": [
    "data_daily = data_clear.groupby(['date', 'group']).agg({\n",
    "    'user_id': 'count',\n",
    "    'purchase': 'sum',\n",
    "    'price': 'sum'\n",
    "}).reset_index().rename(columns={\n",
    "    'user_id': 'count_visits',\n",
    "    'purchase': 'sum_purchases',\n",
    "    'price': 'sum_price'\n",
    "})\n",
    "data_daily['conversion'] = data_daily['sum_purchases'] / data_daily['count_visits'] * 100\n",
    "data_daily['mean_check'] = data_daily['sum_price'] / data_daily['sum_purchases']\n",
    "display(data_daily.head(4))\n",
    "\n",
    "print(\n",
    "    'Конверсия на 03-01-2021 в группе A: ',\n",
    "    round(data_daily[data_daily['date'] == '2021-01-03'].loc[data_daily['group'] == 'A']['conversion'].values[0], 2),\n",
    "    '%'\n",
    ")\n",
    "print(\n",
    "    'Конверсия на 03-01-2021 в группе B: ',\n",
    "    round(data_daily[data_daily['date'] == '2021-01-03'].loc[data_daily['group'] == 'B']['conversion'].values[0], 2),\n",
    "    '%'\n",
    ")\n",
    "print(\n",
    "    'Средний чек на 03-01-2021 в группе A: ',\n",
    "    round(data_daily[data_daily['date'] == '2021-01-03'].loc[data_daily['group'] == 'A']['mean_check'].values[0])\n",
    ")\n",
    "print(\n",
    "    'Средний чек на 03-01-2021 в группе B: ',\n",
    "    round(data_daily[data_daily['date'] == '2021-01-03'].loc[data_daily['group'] == 'B']['mean_check'].values[0])\n",
    ")\n"
   ]
  },
  {
   "cell_type": "markdown",
   "id": "bc8e241b-1ef1-4f67-ab90-77251889b7f2",
   "metadata": {},
   "source": [
    "## **Задание 7.9.** \n",
    "\n",
    "Добавьте в таблицу с ежедневными показателями кумулятивные признаки:\n",
    "* кумулятивное количество посещений страницы\n",
    "* кумулятивное количество покупок\n",
    "* кумулятивную сумму покупок\n",
    "\n",
    "Не забудьте при расчете кумулятивной суммы сгруппировать данные по группам. \n",
    "\n",
    "Вычислите кумулятивную конверсию и кумулятивный средний чек на основе полученных кумулятивных показателей. \n",
    "\n",
    "* Какая **кумулятивная** конверсия была в группе B на 20 января? Ответ приведите в процентах, округлив до сотых.\n",
    "* Какой **кумулятивный** средний чек был в группе А на 12 января 2021 года? Ответ приведите в рублях, округлив до целых."
   ]
  },
  {
   "cell_type": "code",
   "execution_count": 99,
   "id": "afe59f9a-8d39-45c1-a14f-9f62091d81a1",
   "metadata": {},
   "outputs": [
    {
     "data": {
      "text/html": [
       "<div>\n",
       "<style scoped>\n",
       "    .dataframe tbody tr th:only-of-type {\n",
       "        vertical-align: middle;\n",
       "    }\n",
       "\n",
       "    .dataframe tbody tr th {\n",
       "        vertical-align: top;\n",
       "    }\n",
       "\n",
       "    .dataframe thead th {\n",
       "        text-align: right;\n",
       "    }\n",
       "</style>\n",
       "<table border=\"1\" class=\"dataframe\">\n",
       "  <thead>\n",
       "    <tr style=\"text-align: right;\">\n",
       "      <th></th>\n",
       "      <th>date</th>\n",
       "      <th>group</th>\n",
       "      <th>count_visits</th>\n",
       "      <th>sum_purchases</th>\n",
       "      <th>sum_price</th>\n",
       "      <th>conversion</th>\n",
       "      <th>mean_check</th>\n",
       "      <th>cum_visits</th>\n",
       "      <th>cum_purchases</th>\n",
       "      <th>cum_price</th>\n",
       "      <th>cum_conversion</th>\n",
       "      <th>cum_mean_check</th>\n",
       "    </tr>\n",
       "  </thead>\n",
       "  <tbody>\n",
       "    <tr>\n",
       "      <th>0</th>\n",
       "      <td>2021-01-02</td>\n",
       "      <td>A</td>\n",
       "      <td>2854</td>\n",
       "      <td>359</td>\n",
       "      <td>29410000</td>\n",
       "      <td>12.578837</td>\n",
       "      <td>81922.005571</td>\n",
       "      <td>2854</td>\n",
       "      <td>359</td>\n",
       "      <td>29410000</td>\n",
       "      <td>12.578837</td>\n",
       "      <td>81922.005571</td>\n",
       "    </tr>\n",
       "    <tr>\n",
       "      <th>1</th>\n",
       "      <td>2021-01-02</td>\n",
       "      <td>B</td>\n",
       "      <td>2861</td>\n",
       "      <td>345</td>\n",
       "      <td>29660000</td>\n",
       "      <td>12.058721</td>\n",
       "      <td>85971.014493</td>\n",
       "      <td>2861</td>\n",
       "      <td>345</td>\n",
       "      <td>29660000</td>\n",
       "      <td>12.058721</td>\n",
       "      <td>85971.014493</td>\n",
       "    </tr>\n",
       "    <tr>\n",
       "      <th>2</th>\n",
       "      <td>2021-01-03</td>\n",
       "      <td>A</td>\n",
       "      <td>6596</td>\n",
       "      <td>748</td>\n",
       "      <td>62000000</td>\n",
       "      <td>11.340206</td>\n",
       "      <td>82887.700535</td>\n",
       "      <td>9450</td>\n",
       "      <td>1107</td>\n",
       "      <td>91410000</td>\n",
       "      <td>11.714286</td>\n",
       "      <td>82574.525745</td>\n",
       "    </tr>\n",
       "    <tr>\n",
       "      <th>3</th>\n",
       "      <td>2021-01-03</td>\n",
       "      <td>B</td>\n",
       "      <td>6619</td>\n",
       "      <td>754</td>\n",
       "      <td>65960000</td>\n",
       "      <td>11.391449</td>\n",
       "      <td>87480.106101</td>\n",
       "      <td>9480</td>\n",
       "      <td>1099</td>\n",
       "      <td>95620000</td>\n",
       "      <td>11.592827</td>\n",
       "      <td>87006.369427</td>\n",
       "    </tr>\n",
       "  </tbody>\n",
       "</table>\n",
       "</div>"
      ],
      "text/plain": [
       "        date group  count_visits  sum_purchases  sum_price  conversion  \\\n",
       "0 2021-01-02     A          2854            359   29410000   12.578837   \n",
       "1 2021-01-02     B          2861            345   29660000   12.058721   \n",
       "2 2021-01-03     A          6596            748   62000000   11.340206   \n",
       "3 2021-01-03     B          6619            754   65960000   11.391449   \n",
       "\n",
       "     mean_check  cum_visits  cum_purchases  cum_price  cum_conversion  \\\n",
       "0  81922.005571        2854            359   29410000       12.578837   \n",
       "1  85971.014493        2861            345   29660000       12.058721   \n",
       "2  82887.700535        9450           1107   91410000       11.714286   \n",
       "3  87480.106101        9480           1099   95620000       11.592827   \n",
       "\n",
       "   cum_mean_check  \n",
       "0    81922.005571  \n",
       "1    85971.014493  \n",
       "2    82574.525745  \n",
       "3    87006.369427  "
      ]
     },
     "metadata": {},
     "output_type": "display_data"
    },
    {
     "name": "stdout",
     "output_type": "stream",
     "text": [
      "Кумулятивная конверсия на 20-01-2021 в группе B: 11.9 %\n",
      "Кумулятивный средний чек на 12-01-2021 в группе A: 81492 руб.\n"
     ]
    }
   ],
   "source": [
    "data_daily['cum_visits'] = data_daily.groupby(['group'])['count_visits'].cumsum()\n",
    "data_daily['cum_purchases'] = data_daily.groupby(['group'])['sum_purchases'].cumsum()\n",
    "data_daily['cum_price'] = data_daily.groupby(['group'])['sum_price'].cumsum()\n",
    "data_daily['cum_conversion'] = data_daily['cum_purchases'] / data_daily['cum_visits'] * 100\n",
    "data_daily['cum_mean_check'] = data_daily['cum_price'] / data_daily['cum_purchases']\n",
    "display(data_daily.head(4))\n",
    "\n",
    "data_daily_a = data_daily[data_daily['group'] == 'A']\n",
    "data_daily_b = data_daily[data_daily['group'] == 'B']\n",
    "\n",
    "print(\n",
    "    'Кумулятивная конверсия на 20-01-2021 в группе B:',\n",
    "    round(data_daily_b[data_daily_b['date'] == '2021-01-20']['cum_conversion'].values[0], 2),\n",
    "    '%'\n",
    ")\n",
    "print(\n",
    "    'Кумулятивный средний чек на 12-01-2021 в группе A:',\n",
    "    round(data_daily_a[data_daily_a['date'] == '2021-01-12']['cum_mean_check'].values[0]),\n",
    "    'руб.'\n",
    ")"
   ]
  },
  {
   "cell_type": "markdown",
   "id": "c252b8ba-371b-4795-8fc3-a62317e9ba39",
   "metadata": {},
   "source": [
    "Постройте кумулятивные графики конверсии и среднего чека в каждой группе по дням. Сделайте выводы. Можно ли назвать A/B-тест завершенным - стабилизировались ли значения метрик во времени? Как соотносятся кумулятивные показатели в каждой группе?"
   ]
  },
  {
   "cell_type": "code",
   "execution_count": 100,
   "id": "27e23d20-7ed6-4a26-973d-6d0320b81adb",
   "metadata": {},
   "outputs": [
    {
     "data": {
      "image/png": "[encoded data removed]",
      "text/plain": [
       "<Figure size 1200x800 with 2 Axes>"
      ]
     },
     "metadata": {},
     "output_type": "display_data"
    }
   ],
   "source": [
    "fig, ax = plt.subplots(nrows=2, ncols=1, figsize=(12, 8), sharex=True)\n",
    "sns.lineplot(\n",
    "    data=data_daily,\n",
    "    x='date',\n",
    "    y='cum_conversion',\n",
    "    hue='group',\n",
    "    ax=ax[0]\n",
    ")\n",
    "sns.lineplot(\n",
    "    data=data_daily,\n",
    "    x='date',\n",
    "    y='cum_mean_check',\n",
    "    hue='group',\n",
    "    ax=ax[1]\n",
    ")\n",
    "ax[0].set_title('График кумулятивной конверсии (%) по дням')\n",
    "ax[0].grid(True)\n",
    "ax[1].set_title('График кумулятивного среднего чека по дням')\n",
    "ax[1].grid(True)\n",
    "ax[1].xaxis.set_tick_params(rotation=45)"
   ]
  },
  {
   "cell_type": "markdown",
   "id": "f645f8e5-ad16-4b3b-8228-fbdeeb286833",
   "metadata": {},
   "source": [
    "***Выводы***\n",
    "\n",
    "- A/B-тестирование можно считать завершённым&nbsp;&mdash; значения метрик стабилизировались к концу теста.\n",
    "- Кумулятивная конверсия в группе A стабилизировалась выше кумулятивной конверсии группы B.\n",
    "- Кумулятивный средний чек в группе A стабилизирован ниже кумулятивного среднего чека группы B."
   ]
  },
  {
   "cell_type": "markdown",
   "id": "2ecaa382-56e2-47f4-b086-24b4742570a3",
   "metadata": {
    "tags": []
   },
   "source": [
    "## **Задание 7.10.**\n",
    "\n",
    "Настало время переходить к проверке статистической значимости разницы между метриками в группах. Начнем с конверсии.\n",
    "\n",
    "Какой тест вы примените для проверки гипотезы о равенстве конверсий в группах?\n",
    "\n",
    "Проведите тестирование при следующих нулевой и альтернативной гипотезе:\n",
    "* $H_0$: Конверсии в группах А и B равны; \n",
    "* $H_1$: Конверсия в группе А больше чем конверсия в группе B;\n",
    "\n",
    "Вычислите p-value вашего теста для конверсий в группах А и B. Сравните полученное значение p-value с уровнем значимости $\\alpha$=0.05. "
   ]
  },
  {
   "cell_type": "code",
   "execution_count": 101,
   "id": "02f4fbd8",
   "metadata": {},
   "outputs": [
    {
     "data": {
      "text/html": [
       "<div>\n",
       "<style scoped>\n",
       "    .dataframe tbody tr th:only-of-type {\n",
       "        vertical-align: middle;\n",
       "    }\n",
       "\n",
       "    .dataframe tbody tr th {\n",
       "        vertical-align: top;\n",
       "    }\n",
       "\n",
       "    .dataframe thead th {\n",
       "        text-align: right;\n",
       "    }\n",
       "</style>\n",
       "<table border=\"1\" class=\"dataframe\">\n",
       "  <thead>\n",
       "    <tr style=\"text-align: right;\">\n",
       "      <th></th>\n",
       "      <th>user_id</th>\n",
       "      <th>date</th>\n",
       "      <th>group</th>\n",
       "      <th>purchase</th>\n",
       "      <th>price</th>\n",
       "    </tr>\n",
       "  </thead>\n",
       "  <tbody>\n",
       "    <tr>\n",
       "      <th>0</th>\n",
       "      <td>851104</td>\n",
       "      <td>2021-01-21</td>\n",
       "      <td>A</td>\n",
       "      <td>0</td>\n",
       "      <td>0</td>\n",
       "    </tr>\n",
       "    <tr>\n",
       "      <th>1</th>\n",
       "      <td>804228</td>\n",
       "      <td>2021-01-12</td>\n",
       "      <td>A</td>\n",
       "      <td>0</td>\n",
       "      <td>0</td>\n",
       "    </tr>\n",
       "    <tr>\n",
       "      <th>2</th>\n",
       "      <td>661590</td>\n",
       "      <td>2021-01-11</td>\n",
       "      <td>B</td>\n",
       "      <td>0</td>\n",
       "      <td>0</td>\n",
       "    </tr>\n",
       "    <tr>\n",
       "      <th>3</th>\n",
       "      <td>853541</td>\n",
       "      <td>2021-01-08</td>\n",
       "      <td>B</td>\n",
       "      <td>0</td>\n",
       "      <td>0</td>\n",
       "    </tr>\n",
       "    <tr>\n",
       "      <th>4</th>\n",
       "      <td>864975</td>\n",
       "      <td>2021-01-21</td>\n",
       "      <td>A</td>\n",
       "      <td>1</td>\n",
       "      <td>150000</td>\n",
       "    </tr>\n",
       "    <tr>\n",
       "      <th>5</th>\n",
       "      <td>936923</td>\n",
       "      <td>2021-01-10</td>\n",
       "      <td>A</td>\n",
       "      <td>0</td>\n",
       "      <td>0</td>\n",
       "    </tr>\n",
       "  </tbody>\n",
       "</table>\n",
       "</div>"
      ],
      "text/plain": [
       "   user_id       date group  purchase   price\n",
       "0   851104 2021-01-21     A         0       0\n",
       "1   804228 2021-01-12     A         0       0\n",
       "2   661590 2021-01-11     B         0       0\n",
       "3   853541 2021-01-08     B         0       0\n",
       "4   864975 2021-01-21     A         1  150000\n",
       "5   936923 2021-01-10     A         0       0"
      ]
     },
     "metadata": {},
     "output_type": "display_data"
    }
   ],
   "source": [
    "display(data_clear.head(6))"
   ]
  },
  {
   "cell_type": "code",
   "execution_count": 102,
   "id": "9dd1f6fd-2fa0-4a2f-8181-dbed4c302bce",
   "metadata": {},
   "outputs": [
    {
     "data": {
      "text/html": [
       "<div>\n",
       "<style scoped>\n",
       "    .dataframe tbody tr th:only-of-type {\n",
       "        vertical-align: middle;\n",
       "    }\n",
       "\n",
       "    .dataframe tbody tr th {\n",
       "        vertical-align: top;\n",
       "    }\n",
       "\n",
       "    .dataframe thead th {\n",
       "        text-align: right;\n",
       "    }\n",
       "</style>\n",
       "<table border=\"1\" class=\"dataframe\">\n",
       "  <thead>\n",
       "    <tr style=\"text-align: right;\">\n",
       "      <th></th>\n",
       "      <th>sum</th>\n",
       "      <th>count</th>\n",
       "    </tr>\n",
       "    <tr>\n",
       "      <th>group</th>\n",
       "      <th></th>\n",
       "      <th></th>\n",
       "    </tr>\n",
       "  </thead>\n",
       "  <tbody>\n",
       "    <tr>\n",
       "      <th>A</th>\n",
       "      <td>17487</td>\n",
       "      <td>145307</td>\n",
       "    </tr>\n",
       "    <tr>\n",
       "      <th>B</th>\n",
       "      <td>17290</td>\n",
       "      <td>145381</td>\n",
       "    </tr>\n",
       "  </tbody>\n",
       "</table>\n",
       "</div>"
      ],
      "text/plain": [
       "         sum   count\n",
       "group               \n",
       "A      17487  145307\n",
       "B      17290  145381"
      ]
     },
     "metadata": {},
     "output_type": "display_data"
    },
    {
     "name": "stdout",
     "output_type": "stream",
     "text": [
      "p_value = 0.12\n",
      "Подтверждается нулевая гипотеза (Конверсии в группах A и B равны)\n"
     ]
    }
   ],
   "source": [
    "data_conversions = data_clear.groupby('group')['purchase'].agg(['sum', 'count'])\n",
    "display(data_conversions)\n",
    "\n",
    "H0 = 'Конверсии в группах A и B равны'\n",
    "H1 = 'Конверсия в группе A больше, чем конверсия в группе B'\n",
    "alpha = 0.05\n",
    "\n",
    "stat, p_alue = proportions_ztest(\n",
    "    count=data_conversions['sum'],\n",
    "    nobs=data_conversions['count'],\n",
    "    alternative='larger'\n",
    ")\n",
    "print('p_value =', round(p_alue, 3))\n",
    "if p_alue < alpha:\n",
    "    print(f'Отвергается нулевая гипотеза ({H0})')\n",
    "    print(f'Принимается альтернативная гипотеза ({H1})')\n",
    "else:\n",
    "    print(f'Подтверждается нулевая гипотеза ({H0})')"
   ]
  },
  {
   "cell_type": "markdown",
   "id": "da794b48-80e3-47af-aceb-084a1862c86b",
   "metadata": {},
   "source": [
    "Приведите свои выводы по результатам проведенного статистического теста. Есть ли статистическая разница между конверсиями в группах А и B?"
   ]
  },
  {
   "cell_type": "markdown",
   "id": "75dddb06-389d-4d65-92c7-425efa28e51a",
   "metadata": {},
   "source": [
    "***Выводы***\n",
    "\n",
    "По результатам **Z-теста** можно сделать вывод, что статистически значимой разницы между конверсиями в группах **А** и **B** не обнаружено."
   ]
  },
  {
   "cell_type": "markdown",
   "id": "32c5a1af-8cb2-4f3c-a126-410b70fb3ff3",
   "metadata": {
    "tags": []
   },
   "source": [
    "## **Задание 7.11.**\n",
    "Убедитесь в своих рассуждениях, построив 95%-ый доверительный интервал для конверсий и разницы между ними. Используйте $z_{крит}$ в своих расчетах\n",
    "\n",
    "Укажите нижнюю и верхнюю границы доверительных интервалов. Границы приведите в процентах и округлите до 2 знака после запятой. Например: нижняя граница 89.24%, верхняя граница 91.25%."
   ]
  },
  {
   "cell_type": "code",
   "execution_count": 103,
   "id": "e9decb7d-ff5e-40a6-8b71-63627c4ef64a",
   "metadata": {},
   "outputs": [
    {
     "name": "stdout",
     "output_type": "stream",
     "text": [
      "Доверительный интервал для конверсии группы A: (11.87, 12.2)\n",
      "Доверительный интервал для конверсии группы B: (11.73, 12.06)\n",
      "Доверительный интервал для разности конверсий: (-0.38, 0.09)\n"
     ]
    }
   ],
   "source": [
    "def conversions_conf_interval(n, X_p, gamma=0.95):\n",
    "    ''' Расчитывает двусторонний доверительный интервал конверсии в группе\n",
    "    Arguments:\n",
    "        n [int] -- размер выборки\n",
    "        X_p [float] -- средняя конверсия в выборке\n",
    "        gamma [float] -- уровень надёжности [default=0.95]\n",
    "    Returns:\n",
    "        [tuple] -- кортеж из нижней и верхней границ\n",
    "            двустороннего доверительного интервала\n",
    "            в процентах с огруглением до сотых.\n",
    "    '''\n",
    "    alpha = 1 - gamma\n",
    "    z_crit = -norm.ppf(alpha / 2)\n",
    "    eps = z_crit * (X_p * (1 - X_p) / n) ** 0.5\n",
    "    lower_bound = X_p - eps\n",
    "    upper_bound = X_p + eps\n",
    "    return round(lower_bound * 100, 2), round(upper_bound * 100, 2)\n",
    "\n",
    "\n",
    "def diff_conversions_conf_interval(n, X_p, gamma=0.95):\n",
    "    ''' Расчитывает доверительный интервал разницы конверсии между группами\n",
    "    Arguments:\n",
    "        n [list] -- список размеров выборок по группам A и B соответственно\n",
    "        X_p [list] -- список из средних конверсий в выборках групп A и B соответственно\n",
    "        gamma [float] -- уровень надёжности [default=0.95]\n",
    "    Returns:\n",
    "        [tuple] -- кортеж из нижней и верхней границ\n",
    "            доверительного интервала разницы конверсий\n",
    "            в процентах с огруглением до сотых.\n",
    "    '''\n",
    "    alpha = 1 - gamma\n",
    "    diff = X_p[1] - X_p[0]\n",
    "    z_crit = -norm.ppf(alpha / 2)\n",
    "    eps = z_crit * (X_p[0] * (1-X_p[0]) / n[0] + X_p[1] * (1-X_p[1]) / n[1]) ** 0.5\n",
    "    lower_bound = diff - eps\n",
    "    upper_bound = diff + eps\n",
    "    return round(lower_bound * 100, 2), round(upper_bound * 100, 2)\n",
    "\n",
    "\n",
    "# Отдельные датасеты по группам\n",
    "data_clear_a = data_clear[data_clear['group'] == 'A']\n",
    "data_clear_b = data_clear[data_clear['group'] == 'B']\n",
    "\n",
    "\n",
    "# Расчёт двусторонних доверительных интервалов конверсии по группам\n",
    "conf_interval_a = conversions_conf_interval(\n",
    "    n=data_clear_a['user_id'].count(),\n",
    "    X_p=data_clear_a['purchase'].mean()\n",
    ")\n",
    "conf_interval_b = conversions_conf_interval(\n",
    "    n=data_clear_b['user_id'].count(),\n",
    "    X_p=data_clear_b['purchase'].mean()\n",
    ")\n",
    "print(f'Доверительный интервал для конверсии группы A: {conf_interval_a}')\n",
    "print(f'Доверительный интервал для конверсии группы B: {conf_interval_b}')\n",
    "\n",
    "\n",
    "# Расчёт доверительного интервала разницы конверсии между группами\n",
    "n_list = [data_clear_a['user_id'].count(), data_clear_b['user_id'].count()]\n",
    "Xp_list = [data_clear_a['purchase'].mean(), data_clear_b['purchase'].mean()]\n",
    "diff_interval = diff_conversions_conf_interval(n_list, Xp_list)\n",
    "print(f'Доверительный интервал для разности конверсий: {diff_interval}')"
   ]
  },
  {
   "cell_type": "markdown",
   "id": "9332372d-66b2-45e9-a74c-f5d8b1d44afb",
   "metadata": {},
   "source": [
    "Проинтерпретируйте построенные доверительные интервалы для конверсий в группах. Есть ли перекрытие между доверительными интервалами для групп? Есть ли статистическая разница между конверсиями в группах А и B?"
   ]
  },
  {
   "cell_type": "markdown",
   "id": "71e6a6da",
   "metadata": {},
   "source": [
    "***Выводы***\n",
    "\n",
    "1. Есть перекрытие между доверительными интервалами конверсии для данных групп.\n",
    "2. Левая граница доверительного интервала отрицательная, а правая&nbsp;&mdash; положительная.\n",
    "\n",
    "Это означает, что нет статистически значимой разницы в конверсии групп **А** и **B**, и эти группы равнозначны по метрике конверсии."
   ]
  },
  {
   "cell_type": "markdown",
   "id": "73c54883-b919-4889-bbf2-e1bdeb0b7055",
   "metadata": {},
   "source": [
    "## **Задание 7.12.**\n",
    "\n",
    "Ранее мы построили таблицу с ежедневными показателями. Теперь она нам снова понадобится, так как нас интересует ежедневный средний чек.\n",
    "\n",
    "Проверьте гипотезу о нормальности распределения ежедневного среднего чека в каждой из групп тестирования. \n",
    "\n",
    "* Какой тест вы примените  для проверки гипотезы о нормальности распределения ежедневного среднего чека?\n",
    "* Как будут звучать нулевая и альтернативная гипотезы?\n",
    "* Каковы результаты статистического теста с уровнем значимости $\\alpha$ =0.05?"
   ]
  },
  {
   "cell_type": "code",
   "execution_count": 104,
   "id": "fff5f818",
   "metadata": {},
   "outputs": [
    {
     "name": "stdout",
     "output_type": "stream",
     "text": [
      "p-value группы A: 0.253\n",
      "p-value группы B: 0.094\n",
      "Для группы A распределение нормальное\n",
      "Для группы B распределение нормальное\n"
     ]
    }
   ],
   "source": [
    "H0 = 'распределение нормальное'\n",
    "H1 = 'распределение отлично от нормального '\n",
    "alpha = 0.05\n",
    "\n",
    "# Используется тест Шапиро-Уилка\n",
    "stata, pa = shapiro(data_daily_a['mean_check'])\n",
    "statb, pb = shapiro(data_daily_b['mean_check'])\n",
    "print(f'p-value группы A: {round(pa, 3)}')\n",
    "print(f'p-value группы B: {round(pb, 3)}')\n",
    "if pa > alpha:\n",
    "    print(f'Для группы A {H0}')\n",
    "else:\n",
    "    print(f'Для группы A {H1}')\n",
    "if pb > alpha:\n",
    "    print(f'Для группы B {H0}')\n",
    "else:\n",
    "    print(f'Для группы B {H1}')"
   ]
  },
  {
   "cell_type": "markdown",
   "id": "cbddecf9-4d15-4ff1-84e9-46c4d98fc1e0",
   "metadata": {
    "tags": []
   },
   "source": [
    "## **Задание 7.13.**\n",
    "Настало время сравнить варианты дизайна страницы по метрике среднего чека. \n",
    "\n",
    "Какой тест вы примените для проверки гипотезы о равенстве средних чеков по дням в группах?\n",
    "\n",
    "Проведите тестирование при следующих нулевой и альтернативной гипотезе:\n",
    "* $H_0$: Ежедневные средние чеки в группах А и B равны; \n",
    "* $H_1$: Ежедневный средний чек в группе А меньше чем в группе B;\n",
    "\n",
    "Вычислите p-value вашего теста для ежедневного среднего чека в группах А и B. Сравните полученное значение p-value с уровнем значимости $\\alpha$ =0.05. "
   ]
  },
  {
   "cell_type": "code",
   "execution_count": 105,
   "id": "05d43f23-2c2d-4795-bb96-1ffbfe81c391",
   "metadata": {},
   "outputs": [
    {
     "name": "stdout",
     "output_type": "stream",
     "text": [
      "p-value: 1.1261794674808954e-12\n",
      "Принимается альтернативная гипотеза (Ежедневный средний чек в группе А меньше чем в группе B)\n"
     ]
    }
   ],
   "source": [
    "H0 = 'Ежедневные средние чеки в группах А и B равны'\n",
    "H1 = 'Ежедневный средний чек в группе А меньше чем в группе B'\n",
    "alpha = 0.05\n",
    "\n",
    "# Используется T-тест\n",
    "stats, pt = ttest_ind(\n",
    "    data_daily_a['mean_check'],\n",
    "    data_daily_b['mean_check'],\n",
    "    alternative='less'\n",
    ")\n",
    "print(f'p-value: {pt}')\n",
    "if pt > alpha:\n",
    "    print(f'Принимается нулевая гипотеза ({H0})')\n",
    "else:\n",
    "    print(f'Принимается альтернативная гипотеза ({H1})')"
   ]
  },
  {
   "cell_type": "markdown",
   "id": "8534ab25-68b8-48f7-b2c1-ef1b72d8a767",
   "metadata": {},
   "source": [
    " Приведите свои выводы по проведенному статистическому тесту. Есть ли статистическая разница между ежедневными средними чеками в группах А и B?"
   ]
  },
  {
   "cell_type": "markdown",
   "id": "5551cb89",
   "metadata": {},
   "source": [
    "***Выводы***\n",
    "\n",
    "Между ежедневными средними чеками в группах А и B есть статистически значимая разница, что замечено на графике из **Задания 7.9** (стабилизация кумулятивных средних чеков со временем). Применение T-теста подтвердило альтернативную гипотезу о том, что ежедневный средний чек в группе **А** меньше, чем в группе **B**."
   ]
  },
  {
   "cell_type": "markdown",
   "id": "5e46c9a6-a943-48b4-ad72-935337469613",
   "metadata": {
    "tags": []
   },
   "source": [
    "## **Задание 7.14.**\n",
    "\n",
    "Постройте 95%-ый доверительный интервал для среднего чека в каждой группе. Так как выборка средних чеков небольшая, используйте  $t_{крит}$ в своих расчетах.\n",
    "\n",
    "Укажите нижнюю границу доверительного интервала для истинного среднего чека каждой из групп. Ответ приведите в процентах и округлите до целого."
   ]
  },
  {
   "cell_type": "code",
   "execution_count": 106,
   "id": "480430db-ffae-4aad-8e22-f5c70d4800b8",
   "metadata": {},
   "outputs": [
    {
     "name": "stdout",
     "output_type": "stream",
     "text": [
      "Доверительный интервал для среднего чека в группе A: (79630, 82308)\n",
      "Доверительный интервал для среднего чека в группе B: (87626, 89526)\n"
     ]
    }
   ],
   "source": [
    "def calc_conf_int_std(n, X_mean, X_std, gamma=0.95):\n",
    "    ''' Расчитывает доверительный интервал при выборочном станлартном отклонении\n",
    "    Arguments:\n",
    "        n [int] -- размер выборки\n",
    "        X_mean [float] -- среднее значение в выборке\n",
    "        X_std [float] -- стандартное отклонение в выборке\n",
    "        gamma [float] -- уровень надёжности [default=0.95]\n",
    "    Returns:\n",
    "        [tuple] -- кортеж из нижней и верхней границ\n",
    "            доверительного интервала с огруглением до целого.\n",
    "    '''\n",
    "    alpha = 1 - gamma\n",
    "    k = n - 1\n",
    "    t_crit = -t.ppf(alpha / 2, k)\n",
    "    eps = t_crit * X_std / (n ** 0.5)\n",
    "    lower_bound = X_mean - eps\n",
    "    upper_bound = X_mean + eps\n",
    "    return round(lower_bound), round(upper_bound)\n",
    "\n",
    "n_a = data_daily_a.shape[0]\n",
    "n_b = data_daily_b.shape[0]\n",
    "X_std_a = data_daily_a['mean_check'].std()\n",
    "X_std_b = data_daily_b['mean_check'].std()\n",
    "X_mean_a = data_daily_a['mean_check'].mean()\n",
    "X_mean_b = data_daily_b['mean_check'].mean()\n",
    "\n",
    "print(f\"Доверительный интервал для среднего чека в группе A: {calc_conf_int_std(n_a, X_mean_a, X_std_a)}\")\n",
    "print(f\"Доверительный интервал для среднего чека в группе B: {calc_conf_int_std(n_b, X_mean_b, X_std_b)}\")"
   ]
  },
  {
   "cell_type": "markdown",
   "id": "74a78db8-48f7-41d2-94cb-faefb30b8f76",
   "metadata": {},
   "source": [
    "Проинтерпретируйте построенные доверительные интервалы для ежедневных средних чеков в группах. Есть ли между ними пересечения?"
   ]
  },
  {
   "cell_type": "markdown",
   "id": "e3a4c06c",
   "metadata": {},
   "source": [
    "***Выводы***\n",
    "\n",
    "Нет перекрытия между доверительными интервалами среднего чека для данных групп.\n",
    "\n",
    "Это означает, что есть статистически значимая разница в средних чеках групп **А** и **B**, и средний чек группы **B** больше."
   ]
  },
  {
   "cell_type": "markdown",
   "id": "c078852f-892f-42ed-8d78-73edf8eb1f5e",
   "metadata": {
    "tags": []
   },
   "source": [
    "## **Сделайте общий вывод по результатам A/B-теста**\n",
    "\n",
    "Какой варианта дизайна посадочной страницы является более эффективным в комплексе по метрикам конверсии и среднего чека и почему? "
   ]
  },
  {
   "cell_type": "markdown",
   "id": "553d7d88",
   "metadata": {},
   "source": [
    "***Выводы***\n",
    "\n",
    "В комплексе по метрикам конверсии и среднего чека вариант дизайна посадочной страницы для группы **B** является более эффективным. Хотя конверсии для обоих вариантов статистически равны, однако средний чек статистически выше в группе **B** примерно на 9%."
   ]
  },
  {
   "cell_type": "code",
   "execution_count": null,
   "id": "2f9b5510",
   "metadata": {},
   "outputs": [],
   "source": []
  }
 ],
 "metadata": {
  "kernelspec": {
   "display_name": "Python 3",
   "language": "python",
   "name": "python3"
  },
  "language_info": {
   "codemirror_mode": {
    "name": "ipython",
    "version": 3
   },
   "file_extension": ".py",
   "mimetype": "text/x-python",
   "name": "python",
   "nbconvert_exporter": "python",
   "pygments_lexer": "ipython3",
   "version": "3.9.13"
  }
 },
 "nbformat": 4,
 "nbformat_minor": 5
}
