{
 "cells": [
  {
   "cell_type": "markdown",
   "id": "9f82c371",
   "metadata": {},
   "source": [
    "# 4. Анализ результатов A/B-тестирования: кумулятивные метрики #"
   ]
  },
  {
   "cell_type": "code",
   "execution_count": 1,
   "id": "f3264ca4",
   "metadata": {},
   "outputs": [],
   "source": [
    "import pandas as pd\n",
    "import matplotlib.pyplot as plt\n",
    "import seaborn as sns\n",
    "\n",
    "from scipy.stats import shapiro\n",
    "from scipy.stats import mannwhitneyu\n",
    "from scipy.stats import ttest_ind\n",
    "from statsmodels.stats.proportion import proportions_ztest\n",
    "\n",
    "from scipy.stats import norm\n",
    "from scipy.stats import t"
   ]
  },
  {
   "cell_type": "code",
   "execution_count": 2,
   "id": "9d2ccff5",
   "metadata": {},
   "outputs": [],
   "source": [
    "ab_data = pd.read_csv('data/ab_data.csv')"
   ]
  },
  {
   "cell_type": "code",
   "execution_count": 3,
   "id": "8802e1c5",
   "metadata": {},
   "outputs": [
    {
     "data": {
      "text/html": [
       "<div>\n",
       "<style scoped>\n",
       "    .dataframe tbody tr th:only-of-type {\n",
       "        vertical-align: middle;\n",
       "    }\n",
       "\n",
       "    .dataframe tbody tr th {\n",
       "        vertical-align: top;\n",
       "    }\n",
       "\n",
       "    .dataframe thead th {\n",
       "        text-align: right;\n",
       "    }\n",
       "</style>\n",
       "<table border=\"1\" class=\"dataframe\">\n",
       "  <thead>\n",
       "    <tr style=\"text-align: right;\">\n",
       "      <th></th>\n",
       "      <th>user_id</th>\n",
       "      <th>timestamp</th>\n",
       "      <th>group</th>\n",
       "      <th>converted</th>\n",
       "    </tr>\n",
       "  </thead>\n",
       "  <tbody>\n",
       "    <tr>\n",
       "      <th>0</th>\n",
       "      <td>851104</td>\n",
       "      <td>2017-01-21</td>\n",
       "      <td>A</td>\n",
       "      <td>0</td>\n",
       "    </tr>\n",
       "    <tr>\n",
       "      <th>1</th>\n",
       "      <td>804228</td>\n",
       "      <td>2017-01-12</td>\n",
       "      <td>A</td>\n",
       "      <td>0</td>\n",
       "    </tr>\n",
       "    <tr>\n",
       "      <th>2</th>\n",
       "      <td>661590</td>\n",
       "      <td>2017-01-11</td>\n",
       "      <td>B</td>\n",
       "      <td>0</td>\n",
       "    </tr>\n",
       "    <tr>\n",
       "      <th>3</th>\n",
       "      <td>853541</td>\n",
       "      <td>2017-01-08</td>\n",
       "      <td>B</td>\n",
       "      <td>0</td>\n",
       "    </tr>\n",
       "    <tr>\n",
       "      <th>4</th>\n",
       "      <td>864975</td>\n",
       "      <td>2017-01-21</td>\n",
       "      <td>A</td>\n",
       "      <td>1</td>\n",
       "    </tr>\n",
       "  </tbody>\n",
       "</table>\n",
       "</div>"
      ],
      "text/plain": [
       "   user_id   timestamp group  converted\n",
       "0   851104  2017-01-21     A          0\n",
       "1   804228  2017-01-12     A          0\n",
       "2   661590  2017-01-11     B          0\n",
       "3   853541  2017-01-08     B          0\n",
       "4   864975  2017-01-21     A          1"
      ]
     },
     "execution_count": 3,
     "metadata": {},
     "output_type": "execute_result"
    }
   ],
   "source": [
    "ab_data.head()"
   ]
  },
  {
   "cell_type": "code",
   "execution_count": 4,
   "id": "34d7d9e9",
   "metadata": {},
   "outputs": [
    {
     "name": "stdout",
     "output_type": "stream",
     "text": [
      "<class 'pandas.core.frame.DataFrame'>\n",
      "RangeIndex: 290482 entries, 0 to 290481\n",
      "Data columns (total 4 columns):\n",
      " #   Column     Non-Null Count   Dtype \n",
      "---  ------     --------------   ----- \n",
      " 0   user_id    290482 non-null  int64 \n",
      " 1   timestamp  290482 non-null  object\n",
      " 2   group      290482 non-null  object\n",
      " 3   converted  290482 non-null  int64 \n",
      "dtypes: int64(2), object(2)\n",
      "memory usage: 8.9+ MB\n"
     ]
    }
   ],
   "source": [
    "ab_data.info()"
   ]
  },
  {
   "cell_type": "code",
   "execution_count": 5,
   "id": "673e3459",
   "metadata": {},
   "outputs": [
    {
     "name": "stdout",
     "output_type": "stream",
     "text": [
      "<class 'pandas.core.frame.DataFrame'>\n",
      "RangeIndex: 290482 entries, 0 to 290481\n",
      "Data columns (total 4 columns):\n",
      " #   Column     Non-Null Count   Dtype         \n",
      "---  ------     --------------   -----         \n",
      " 0   user_id    290482 non-null  int64         \n",
      " 1   timestamp  290482 non-null  datetime64[ns]\n",
      " 2   group      290482 non-null  object        \n",
      " 3   converted  290482 non-null  int64         \n",
      "dtypes: datetime64[ns](1), int64(2), object(1)\n",
      "memory usage: 8.9+ MB\n"
     ]
    }
   ],
   "source": [
    "ab_data['timestamp'] = pd.to_datetime(ab_data['timestamp'], format='%Y-%m-%d')\n",
    "ab_data.info()"
   ]
  },
  {
   "cell_type": "code",
   "execution_count": 6,
   "id": "8ae90879",
   "metadata": {},
   "outputs": [
    {
     "data": {
      "text/html": [
       "<div>\n",
       "<style scoped>\n",
       "    .dataframe tbody tr th:only-of-type {\n",
       "        vertical-align: middle;\n",
       "    }\n",
       "\n",
       "    .dataframe tbody tr th {\n",
       "        vertical-align: top;\n",
       "    }\n",
       "\n",
       "    .dataframe thead th {\n",
       "        text-align: right;\n",
       "    }\n",
       "</style>\n",
       "<table border=\"1\" class=\"dataframe\">\n",
       "  <thead>\n",
       "    <tr style=\"text-align: right;\">\n",
       "      <th></th>\n",
       "      <th>timestamp</th>\n",
       "      <th>group</th>\n",
       "      <th>users_count</th>\n",
       "      <th>converted</th>\n",
       "    </tr>\n",
       "  </thead>\n",
       "  <tbody>\n",
       "    <tr>\n",
       "      <th>0</th>\n",
       "      <td>2017-01-02</td>\n",
       "      <td>A</td>\n",
       "      <td>2851</td>\n",
       "      <td>357</td>\n",
       "    </tr>\n",
       "    <tr>\n",
       "      <th>1</th>\n",
       "      <td>2017-01-02</td>\n",
       "      <td>B</td>\n",
       "      <td>2848</td>\n",
       "      <td>339</td>\n",
       "    </tr>\n",
       "    <tr>\n",
       "      <th>2</th>\n",
       "      <td>2017-01-03</td>\n",
       "      <td>A</td>\n",
       "      <td>6584</td>\n",
       "      <td>749</td>\n",
       "    </tr>\n",
       "    <tr>\n",
       "      <th>3</th>\n",
       "      <td>2017-01-03</td>\n",
       "      <td>B</td>\n",
       "      <td>6620</td>\n",
       "      <td>754</td>\n",
       "    </tr>\n",
       "    <tr>\n",
       "      <th>4</th>\n",
       "      <td>2017-01-04</td>\n",
       "      <td>A</td>\n",
       "      <td>6573</td>\n",
       "      <td>797</td>\n",
       "    </tr>\n",
       "  </tbody>\n",
       "</table>\n",
       "</div>"
      ],
      "text/plain": [
       "   timestamp group  users_count  converted\n",
       "0 2017-01-02     A         2851        357\n",
       "1 2017-01-02     B         2848        339\n",
       "2 2017-01-03     A         6584        749\n",
       "3 2017-01-03     B         6620        754\n",
       "4 2017-01-04     A         6573        797"
      ]
     },
     "execution_count": 6,
     "metadata": {},
     "output_type": "execute_result"
    }
   ],
   "source": [
    "daily_data = ab_data.groupby(['timestamp', 'group']).agg({\n",
    "    'user_id': 'count',\n",
    "    'converted': 'sum'\n",
    "}).reset_index().rename(columns={'user_id': 'users_count'})\n",
    "daily_data.head()"
   ]
  },
  {
   "cell_type": "markdown",
   "id": "6213a560",
   "metadata": {},
   "source": [
    "###  Задание 4.1 ###\n",
    "\n",
    "Рассчитать конверсию на каждый день по приведённой формуле. Результат занести в столбец `conversion`.\n",
    "Чему была равна конверсия (в процентах) в группе **А** 5 января 2017 года?\n",
    "Ответ округлить до второго знака после запятой.\n",
    "\n",
    "***Ответ - 12.32***"
   ]
  },
  {
   "cell_type": "code",
   "execution_count": 7,
   "id": "e9d5f371",
   "metadata": {},
   "outputs": [
    {
     "data": {
      "text/plain": [
       "6    12.322792\n",
       "Name: conversion, dtype: float64"
      ]
     },
     "metadata": {},
     "output_type": "display_data"
    }
   ],
   "source": [
    "daily_data['conversion'] = daily_data['converted'] / daily_data['users_count'] * 100\n",
    "display(daily_data.loc[daily_data['timestamp'] == '2017-01-05'].loc[daily_data['group'] == 'A']['conversion'])"
   ]
  },
  {
   "cell_type": "markdown",
   "id": "88bf9417",
   "metadata": {},
   "source": [
    "## ВИЗУАЛЬНЫЙ АНАЛИЗ КОНВЕРСИИ В ГРУППАХ ##"
   ]
  },
  {
   "cell_type": "code",
   "execution_count": 8,
   "id": "d0e673cc",
   "metadata": {},
   "outputs": [
    {
     "data": {
      "image/png": "[encoded data removed]",
      "text/plain": [
       "<Figure size 576x288 with 1 Axes>"
      ]
     },
     "metadata": {
      "needs_background": "light"
     },
     "output_type": "display_data"
    }
   ],
   "source": [
    "fig = plt.figure(figsize=(8, 4))\n",
    "ax = fig.add_axes([1, 1, 1, 1])\n",
    "sns.boxplot(\n",
    "    data=daily_data,\n",
    "    x='conversion',\n",
    "    y='group',\n",
    "    ax=ax\n",
    ")\n",
    "ax.set_title('Сравнение конверсии в группах')\n",
    "ax.grid();"
   ]
  },
  {
   "cell_type": "code",
   "execution_count": 9,
   "id": "94aa5704",
   "metadata": {},
   "outputs": [
    {
     "data": {
      "text/html": [
       "<div>\n",
       "<style scoped>\n",
       "    .dataframe tbody tr th:only-of-type {\n",
       "        vertical-align: middle;\n",
       "    }\n",
       "\n",
       "    .dataframe tbody tr th {\n",
       "        vertical-align: top;\n",
       "    }\n",
       "\n",
       "    .dataframe thead th {\n",
       "        text-align: right;\n",
       "    }\n",
       "</style>\n",
       "<table border=\"1\" class=\"dataframe\">\n",
       "  <thead>\n",
       "    <tr style=\"text-align: right;\">\n",
       "      <th></th>\n",
       "      <th>mean</th>\n",
       "      <th>median</th>\n",
       "    </tr>\n",
       "    <tr>\n",
       "      <th>group</th>\n",
       "      <th></th>\n",
       "      <th></th>\n",
       "    </tr>\n",
       "  </thead>\n",
       "  <tbody>\n",
       "    <tr>\n",
       "      <th>A</th>\n",
       "      <td>12.032876</td>\n",
       "      <td>12.024261</td>\n",
       "    </tr>\n",
       "    <tr>\n",
       "      <th>B</th>\n",
       "      <td>11.872697</td>\n",
       "      <td>11.829582</td>\n",
       "    </tr>\n",
       "  </tbody>\n",
       "</table>\n",
       "</div>"
      ],
      "text/plain": [
       "            mean     median\n",
       "group                      \n",
       "A      12.032876  12.024261\n",
       "B      11.872697  11.829582"
      ]
     },
     "metadata": {},
     "output_type": "display_data"
    }
   ],
   "source": [
    "conversion_piv = daily_data.groupby('group')['conversion'].agg(['mean', 'median'])\n",
    "display(conversion_piv)"
   ]
  },
  {
   "cell_type": "markdown",
   "id": "3b0bb8dc",
   "metadata": {},
   "source": [
    "## КУМУЛЯТИВНЫЕ МЕТРИКИ ##"
   ]
  },
  {
   "cell_type": "code",
   "execution_count": 10,
   "id": "019ee69b",
   "metadata": {},
   "outputs": [
    {
     "data": {
      "image/png": "[encoded data removed]",
      "text/plain": [
       "<Figure size 576x288 with 1 Axes>"
      ]
     },
     "metadata": {
      "needs_background": "light"
     },
     "output_type": "display_data"
    }
   ],
   "source": [
    "fig = plt.figure(figsize=(8, 4))\n",
    "ax = fig.add_axes([1, 1, 1, 1])\n",
    "sns.lineplot(\n",
    "    data=daily_data,\n",
    "    x='timestamp',\n",
    "    y='conversion',\n",
    "    hue='group',\n",
    "    ax=ax\n",
    ")\n",
    "ax.set_title('График конверсии по дням')\n",
    "ax.xaxis.set_tick_params(rotation=45)\n",
    "ax.grid(True);"
   ]
  },
  {
   "cell_type": "code",
   "execution_count": 11,
   "id": "e5a304a6",
   "metadata": {},
   "outputs": [
    {
     "name": "stderr",
     "output_type": "stream",
     "text": [
      "<ipython-input-11-b160621da665>:2: SettingWithCopyWarning: \n",
      "A value is trying to be set on a copy of a slice from a DataFrame.\n",
      "Try using .loc[row_indexer,col_indexer] = value instead\n",
      "\n",
      "See the caveats in the documentation: https://pandas.pydata.org/pandas-docs/stable/user_guide/indexing.html#returning-a-view-versus-a-copy\n",
      "  daily_data_a.loc[:, 'cum_users_count'] = daily_data_a['users_count'].cumsum()\n"
     ]
    },
    {
     "data": {
      "text/html": [
       "<div>\n",
       "<style scoped>\n",
       "    .dataframe tbody tr th:only-of-type {\n",
       "        vertical-align: middle;\n",
       "    }\n",
       "\n",
       "    .dataframe tbody tr th {\n",
       "        vertical-align: top;\n",
       "    }\n",
       "\n",
       "    .dataframe thead th {\n",
       "        text-align: right;\n",
       "    }\n",
       "</style>\n",
       "<table border=\"1\" class=\"dataframe\">\n",
       "  <thead>\n",
       "    <tr style=\"text-align: right;\">\n",
       "      <th></th>\n",
       "      <th>timestamp</th>\n",
       "      <th>users_count</th>\n",
       "      <th>cum_users_count</th>\n",
       "    </tr>\n",
       "  </thead>\n",
       "  <tbody>\n",
       "    <tr>\n",
       "      <th>0</th>\n",
       "      <td>2017-01-02</td>\n",
       "      <td>2851</td>\n",
       "      <td>2851</td>\n",
       "    </tr>\n",
       "    <tr>\n",
       "      <th>2</th>\n",
       "      <td>2017-01-03</td>\n",
       "      <td>6584</td>\n",
       "      <td>9435</td>\n",
       "    </tr>\n",
       "    <tr>\n",
       "      <th>4</th>\n",
       "      <td>2017-01-04</td>\n",
       "      <td>6573</td>\n",
       "      <td>16008</td>\n",
       "    </tr>\n",
       "    <tr>\n",
       "      <th>6</th>\n",
       "      <td>2017-01-05</td>\n",
       "      <td>6419</td>\n",
       "      <td>22427</td>\n",
       "    </tr>\n",
       "    <tr>\n",
       "      <th>8</th>\n",
       "      <td>2017-01-06</td>\n",
       "      <td>6604</td>\n",
       "      <td>29031</td>\n",
       "    </tr>\n",
       "  </tbody>\n",
       "</table>\n",
       "</div>"
      ],
      "text/plain": [
       "   timestamp  users_count  cum_users_count\n",
       "0 2017-01-02         2851             2851\n",
       "2 2017-01-03         6584             9435\n",
       "4 2017-01-04         6573            16008\n",
       "6 2017-01-05         6419            22427\n",
       "8 2017-01-06         6604            29031"
      ]
     },
     "metadata": {},
     "output_type": "display_data"
    }
   ],
   "source": [
    "daily_data_a = daily_data[daily_data['group'] == 'A']\n",
    "daily_data_a.loc[:, 'cum_users_count'] = daily_data_a['users_count'].cumsum()\n",
    "display(daily_data_a[['timestamp', 'users_count', 'cum_users_count']].head())"
   ]
  },
  {
   "cell_type": "code",
   "execution_count": 12,
   "id": "9ad46436",
   "metadata": {},
   "outputs": [
    {
     "data": {
      "text/html": [
       "<div>\n",
       "<style scoped>\n",
       "    .dataframe tbody tr th:only-of-type {\n",
       "        vertical-align: middle;\n",
       "    }\n",
       "\n",
       "    .dataframe tbody tr th {\n",
       "        vertical-align: top;\n",
       "    }\n",
       "\n",
       "    .dataframe thead th {\n",
       "        text-align: right;\n",
       "    }\n",
       "</style>\n",
       "<table border=\"1\" class=\"dataframe\">\n",
       "  <thead>\n",
       "    <tr style=\"text-align: right;\">\n",
       "      <th></th>\n",
       "      <th>timestamp</th>\n",
       "      <th>group</th>\n",
       "      <th>users_count</th>\n",
       "      <th>converted</th>\n",
       "      <th>conversion</th>\n",
       "      <th>cum_users_count</th>\n",
       "      <th>cum_converted</th>\n",
       "      <th>cum_conversion</th>\n",
       "    </tr>\n",
       "  </thead>\n",
       "  <tbody>\n",
       "    <tr>\n",
       "      <th>0</th>\n",
       "      <td>2017-01-02</td>\n",
       "      <td>A</td>\n",
       "      <td>2851</td>\n",
       "      <td>357</td>\n",
       "      <td>12.521922</td>\n",
       "      <td>2851</td>\n",
       "      <td>357</td>\n",
       "      <td>12.521922</td>\n",
       "    </tr>\n",
       "    <tr>\n",
       "      <th>1</th>\n",
       "      <td>2017-01-02</td>\n",
       "      <td>B</td>\n",
       "      <td>2848</td>\n",
       "      <td>339</td>\n",
       "      <td>11.903090</td>\n",
       "      <td>2848</td>\n",
       "      <td>339</td>\n",
       "      <td>11.903090</td>\n",
       "    </tr>\n",
       "    <tr>\n",
       "      <th>2</th>\n",
       "      <td>2017-01-03</td>\n",
       "      <td>A</td>\n",
       "      <td>6584</td>\n",
       "      <td>749</td>\n",
       "      <td>11.376063</td>\n",
       "      <td>9435</td>\n",
       "      <td>1106</td>\n",
       "      <td>11.722311</td>\n",
       "    </tr>\n",
       "    <tr>\n",
       "      <th>3</th>\n",
       "      <td>2017-01-03</td>\n",
       "      <td>B</td>\n",
       "      <td>6620</td>\n",
       "      <td>754</td>\n",
       "      <td>11.389728</td>\n",
       "      <td>9468</td>\n",
       "      <td>1093</td>\n",
       "      <td>11.544149</td>\n",
       "    </tr>\n",
       "    <tr>\n",
       "      <th>4</th>\n",
       "      <td>2017-01-04</td>\n",
       "      <td>A</td>\n",
       "      <td>6573</td>\n",
       "      <td>797</td>\n",
       "      <td>12.125361</td>\n",
       "      <td>16008</td>\n",
       "      <td>1903</td>\n",
       "      <td>11.887806</td>\n",
       "    </tr>\n",
       "  </tbody>\n",
       "</table>\n",
       "</div>"
      ],
      "text/plain": [
       "   timestamp group  users_count  converted  conversion  cum_users_count  \\\n",
       "0 2017-01-02     A         2851        357   12.521922             2851   \n",
       "1 2017-01-02     B         2848        339   11.903090             2848   \n",
       "2 2017-01-03     A         6584        749   11.376063             9435   \n",
       "3 2017-01-03     B         6620        754   11.389728             9468   \n",
       "4 2017-01-04     A         6573        797   12.125361            16008   \n",
       "\n",
       "   cum_converted  cum_conversion  \n",
       "0            357       12.521922  \n",
       "1            339       11.903090  \n",
       "2           1106       11.722311  \n",
       "3           1093       11.544149  \n",
       "4           1903       11.887806  "
      ]
     },
     "metadata": {},
     "output_type": "display_data"
    }
   ],
   "source": [
    "daily_data['cum_users_count'] = daily_data.groupby(['group'])['users_count'].cumsum()\n",
    "daily_data['cum_converted'] = daily_data.groupby(['group'])['converted'].cumsum()\n",
    "daily_data['cum_conversion'] = daily_data['cum_converted'] / daily_data['cum_users_count'] * 100\n",
    "display(daily_data.head())"
   ]
  },
  {
   "cell_type": "code",
   "execution_count": 13,
   "id": "202e037c",
   "metadata": {},
   "outputs": [
    {
     "data": {
      "image/png": "[encoded data removed]",
      "text/plain": [
       "<Figure size 576x288 with 1 Axes>"
      ]
     },
     "metadata": {
      "needs_background": "light"
     },
     "output_type": "display_data"
    }
   ],
   "source": [
    "fig = plt.figure(figsize=(8, 4))\n",
    "ax = fig.add_axes([1, 1, 1, 1])\n",
    "sns.lineplot(\n",
    "    data=daily_data,\n",
    "    x='timestamp',\n",
    "    y='cum_conversion',\n",
    "    hue='group',\n",
    "    ax=ax\n",
    ")\n",
    "ax.set_title('График кумулятивной конверсии по дням')\n",
    "ax.xaxis.set_tick_params(rotation=45)\n",
    "ax.grid(True);"
   ]
  },
  {
   "cell_type": "code",
   "execution_count": 14,
   "id": "22a970ac",
   "metadata": {},
   "outputs": [],
   "source": [
    "sample_a = pd.read_csv('data/ab_test-redesign_sample_a.csv')\n",
    "sample_b = pd.read_csv('data/ab_test-redesign_sample_b.csv')"
   ]
  },
  {
   "cell_type": "code",
   "execution_count": 15,
   "id": "7b56abf0",
   "metadata": {},
   "outputs": [
    {
     "data": {
      "text/html": [
       "<div>\n",
       "<style scoped>\n",
       "    .dataframe tbody tr th:only-of-type {\n",
       "        vertical-align: middle;\n",
       "    }\n",
       "\n",
       "    .dataframe tbody tr th {\n",
       "        vertical-align: top;\n",
       "    }\n",
       "\n",
       "    .dataframe thead th {\n",
       "        text-align: right;\n",
       "    }\n",
       "</style>\n",
       "<table border=\"1\" class=\"dataframe\">\n",
       "  <thead>\n",
       "    <tr style=\"text-align: right;\">\n",
       "      <th></th>\n",
       "      <th>date</th>\n",
       "      <th>cid</th>\n",
       "      <th>transactions</th>\n",
       "      <th>revenue</th>\n",
       "      <th>group</th>\n",
       "    </tr>\n",
       "  </thead>\n",
       "  <tbody>\n",
       "    <tr>\n",
       "      <th>0</th>\n",
       "      <td>2020-11-06</td>\n",
       "      <td>1.001648e+09</td>\n",
       "      <td>0</td>\n",
       "      <td>0</td>\n",
       "      <td>A</td>\n",
       "    </tr>\n",
       "    <tr>\n",
       "      <th>1</th>\n",
       "      <td>2020-11-06</td>\n",
       "      <td>1.001936e+09</td>\n",
       "      <td>0</td>\n",
       "      <td>0</td>\n",
       "      <td>A</td>\n",
       "    </tr>\n",
       "    <tr>\n",
       "      <th>2</th>\n",
       "      <td>2020-11-06</td>\n",
       "      <td>1.003214e+08</td>\n",
       "      <td>0</td>\n",
       "      <td>0</td>\n",
       "      <td>A</td>\n",
       "    </tr>\n",
       "    <tr>\n",
       "      <th>3</th>\n",
       "      <td>2020-11-06</td>\n",
       "      <td>1.004393e+09</td>\n",
       "      <td>0</td>\n",
       "      <td>0</td>\n",
       "      <td>A</td>\n",
       "    </tr>\n",
       "    <tr>\n",
       "      <th>4</th>\n",
       "      <td>2020-11-06</td>\n",
       "      <td>1.006382e+09</td>\n",
       "      <td>0</td>\n",
       "      <td>0</td>\n",
       "      <td>A</td>\n",
       "    </tr>\n",
       "  </tbody>\n",
       "</table>\n",
       "</div>"
      ],
      "text/plain": [
       "         date           cid  transactions  revenue group\n",
       "0  2020-11-06  1.001648e+09             0        0     A\n",
       "1  2020-11-06  1.001936e+09             0        0     A\n",
       "2  2020-11-06  1.003214e+08             0        0     A\n",
       "3  2020-11-06  1.004393e+09             0        0     A\n",
       "4  2020-11-06  1.006382e+09             0        0     A"
      ]
     },
     "execution_count": 15,
     "metadata": {},
     "output_type": "execute_result"
    }
   ],
   "source": [
    "sample_a.head()"
   ]
  },
  {
   "cell_type": "code",
   "execution_count": 16,
   "id": "e5551cf9",
   "metadata": {},
   "outputs": [
    {
     "name": "stdout",
     "output_type": "stream",
     "text": [
      "<class 'pandas.core.frame.DataFrame'>\n",
      "RangeIndex: 61571 entries, 0 to 61570\n",
      "Data columns (total 5 columns):\n",
      " #   Column        Non-Null Count  Dtype  \n",
      "---  ------        --------------  -----  \n",
      " 0   date          61571 non-null  object \n",
      " 1   cid           61571 non-null  float64\n",
      " 2   transactions  61571 non-null  int64  \n",
      " 3   revenue       61571 non-null  int64  \n",
      " 4   group         61571 non-null  object \n",
      "dtypes: float64(1), int64(2), object(2)\n",
      "memory usage: 2.3+ MB\n"
     ]
    }
   ],
   "source": [
    "sample_a.info()"
   ]
  },
  {
   "cell_type": "markdown",
   "id": "eda56576",
   "metadata": {},
   "source": [
    "###  Задание 4.6 ###\n",
    "\n",
    "Построить таблицу со следующими ежедневными показателями:\n",
    "\n",
    "- количество посетителей сайта;\n",
    "- суммарное число транзакций;\n",
    "- общая сумма покупок (выручка).\n",
    "\n",
    "Для этого сгруппировать данные по признаку `date`, предварительно преобразовав его к типу `datetime`.\n",
    "\n",
    "Чему равны значения ежедневных показателей в группе **А** на 8 ноября 2020 года?\n",
    "\n",
    "***Ответ - количество посетителей сайта - 3354, суммарное число транзакций - 25, общая сумма покупок - 846051***"
   ]
  },
  {
   "cell_type": "code",
   "execution_count": 17,
   "id": "7136e267",
   "metadata": {},
   "outputs": [
    {
     "data": {
      "text/html": [
       "<div>\n",
       "<style scoped>\n",
       "    .dataframe tbody tr th:only-of-type {\n",
       "        vertical-align: middle;\n",
       "    }\n",
       "\n",
       "    .dataframe tbody tr th {\n",
       "        vertical-align: top;\n",
       "    }\n",
       "\n",
       "    .dataframe thead th {\n",
       "        text-align: right;\n",
       "    }\n",
       "</style>\n",
       "<table border=\"1\" class=\"dataframe\">\n",
       "  <thead>\n",
       "    <tr style=\"text-align: right;\">\n",
       "      <th></th>\n",
       "      <th>date</th>\n",
       "      <th>users_count</th>\n",
       "      <th>transactions</th>\n",
       "      <th>revenue</th>\n",
       "    </tr>\n",
       "  </thead>\n",
       "  <tbody>\n",
       "    <tr>\n",
       "      <th>2</th>\n",
       "      <td>2020-11-08</td>\n",
       "      <td>3354</td>\n",
       "      <td>25</td>\n",
       "      <td>846051</td>\n",
       "    </tr>\n",
       "  </tbody>\n",
       "</table>\n",
       "</div>"
      ],
      "text/plain": [
       "        date  users_count  transactions  revenue\n",
       "2 2020-11-08         3354            25   846051"
      ]
     },
     "metadata": {},
     "output_type": "display_data"
    }
   ],
   "source": [
    "sample_a['date'] = pd.to_datetime(sample_a['date'], format='%Y-%m-%d')\n",
    "sample_b['date'] = pd.to_datetime(sample_b['date'], format='%Y-%m-%d')\n",
    "daily_a = sample_a.groupby(['date']).agg({\n",
    "    'cid': 'count',\n",
    "    'transactions': 'sum',\n",
    "    'revenue': 'sum'\n",
    "}).reset_index().rename(columns={'cid': 'users_count'})\n",
    "daily_b = sample_b.groupby(['date']).agg({\n",
    "    'cid': 'count',\n",
    "    'transactions': 'sum',\n",
    "    'revenue': 'sum'\n",
    "}).reset_index().rename(columns={'cid': 'users_count'})\n",
    "\n",
    "display(daily_a[daily_a['date'] == '2020-11-08'])"
   ]
  },
  {
   "cell_type": "markdown",
   "id": "6119f7ec",
   "metadata": {},
   "source": [
    "###  Задание 4.7 ###\n",
    "\n",
    "Добавить в каждую из таблиц кумулятивные метрики:\n",
    "\n",
    "- кумулятивное количество посетителей сайта;\n",
    "- кумулятивное суммарное число транзакций;\n",
    "- кумулятивная общая сумма покупок (кумулятивная выручка).\n",
    "\n",
    "Рассчитать кумулятивную конверсию действия покупки (в процентах) и кумулятивный средний чек (кумулятивная выручка/кумулятивное суммарное число транзакций).\n",
    "\n",
    "Чему равна средняя кумулятивная конверсия в группах за весь период проведения A/B-теста? Ответ округлить до сотых.\n",
    "\n",
    "***Ответ - A = 0.71, B = 0.76***"
   ]
  },
  {
   "cell_type": "code",
   "execution_count": 18,
   "id": "30a9740f",
   "metadata": {},
   "outputs": [
    {
     "data": {
      "text/html": [
       "<div>\n",
       "<style scoped>\n",
       "    .dataframe tbody tr th:only-of-type {\n",
       "        vertical-align: middle;\n",
       "    }\n",
       "\n",
       "    .dataframe tbody tr th {\n",
       "        vertical-align: top;\n",
       "    }\n",
       "\n",
       "    .dataframe thead th {\n",
       "        text-align: right;\n",
       "    }\n",
       "</style>\n",
       "<table border=\"1\" class=\"dataframe\">\n",
       "  <thead>\n",
       "    <tr style=\"text-align: right;\">\n",
       "      <th></th>\n",
       "      <th>date</th>\n",
       "      <th>users_count</th>\n",
       "      <th>transactions</th>\n",
       "      <th>revenue</th>\n",
       "      <th>cum_users_count</th>\n",
       "      <th>cum_transactions</th>\n",
       "      <th>cum_revenue</th>\n",
       "      <th>cum_conversion</th>\n",
       "      <th>cum_avg_check</th>\n",
       "    </tr>\n",
       "  </thead>\n",
       "  <tbody>\n",
       "    <tr>\n",
       "      <th>0</th>\n",
       "      <td>2020-11-06</td>\n",
       "      <td>2576</td>\n",
       "      <td>16</td>\n",
       "      <td>1577279</td>\n",
       "      <td>2576</td>\n",
       "      <td>16</td>\n",
       "      <td>1577279</td>\n",
       "      <td>0.621118</td>\n",
       "      <td>98579.937500</td>\n",
       "    </tr>\n",
       "    <tr>\n",
       "      <th>1</th>\n",
       "      <td>2020-11-07</td>\n",
       "      <td>2704</td>\n",
       "      <td>23</td>\n",
       "      <td>1721886</td>\n",
       "      <td>5280</td>\n",
       "      <td>39</td>\n",
       "      <td>3299165</td>\n",
       "      <td>0.738636</td>\n",
       "      <td>84593.974359</td>\n",
       "    </tr>\n",
       "    <tr>\n",
       "      <th>2</th>\n",
       "      <td>2020-11-08</td>\n",
       "      <td>3354</td>\n",
       "      <td>25</td>\n",
       "      <td>846051</td>\n",
       "      <td>8634</td>\n",
       "      <td>64</td>\n",
       "      <td>4145216</td>\n",
       "      <td>0.741256</td>\n",
       "      <td>64769.000000</td>\n",
       "    </tr>\n",
       "    <tr>\n",
       "      <th>3</th>\n",
       "      <td>2020-11-09</td>\n",
       "      <td>3234</td>\n",
       "      <td>18</td>\n",
       "      <td>708830</td>\n",
       "      <td>11868</td>\n",
       "      <td>82</td>\n",
       "      <td>4854046</td>\n",
       "      <td>0.690934</td>\n",
       "      <td>59195.682927</td>\n",
       "    </tr>\n",
       "    <tr>\n",
       "      <th>4</th>\n",
       "      <td>2020-11-10</td>\n",
       "      <td>3022</td>\n",
       "      <td>29</td>\n",
       "      <td>826984</td>\n",
       "      <td>14890</td>\n",
       "      <td>111</td>\n",
       "      <td>5681030</td>\n",
       "      <td>0.745467</td>\n",
       "      <td>51180.450450</td>\n",
       "    </tr>\n",
       "  </tbody>\n",
       "</table>\n",
       "</div>"
      ],
      "text/plain": [
       "        date  users_count  transactions  revenue  cum_users_count  \\\n",
       "0 2020-11-06         2576            16  1577279             2576   \n",
       "1 2020-11-07         2704            23  1721886             5280   \n",
       "2 2020-11-08         3354            25   846051             8634   \n",
       "3 2020-11-09         3234            18   708830            11868   \n",
       "4 2020-11-10         3022            29   826984            14890   \n",
       "\n",
       "   cum_transactions  cum_revenue  cum_conversion  cum_avg_check  \n",
       "0                16      1577279        0.621118   98579.937500  \n",
       "1                39      3299165        0.738636   84593.974359  \n",
       "2                64      4145216        0.741256   64769.000000  \n",
       "3                82      4854046        0.690934   59195.682927  \n",
       "4               111      5681030        0.745467   51180.450450  "
      ]
     },
     "metadata": {},
     "output_type": "display_data"
    },
    {
     "data": {
      "text/plain": [
       "0.71"
      ]
     },
     "metadata": {},
     "output_type": "display_data"
    }
   ],
   "source": [
    "daily_a['cum_users_count'] = daily_a['users_count'].cumsum()\n",
    "daily_a['cum_transactions'] = daily_a['transactions'].cumsum()\n",
    "daily_a['cum_revenue'] = daily_a['revenue'].cumsum()\n",
    "\n",
    "daily_a['cum_conversion'] = daily_a['cum_transactions'] / daily_a['cum_users_count'] * 100\n",
    "daily_a['cum_avg_check'] = daily_a['cum_revenue'] / daily_a['cum_transactions']\n",
    "display(daily_a.head())\n",
    "display(round(daily_a['cum_conversion'].mean(), 2))"
   ]
  },
  {
   "cell_type": "code",
   "execution_count": 19,
   "id": "b358cfd5",
   "metadata": {},
   "outputs": [
    {
     "data": {
      "text/html": [
       "<div>\n",
       "<style scoped>\n",
       "    .dataframe tbody tr th:only-of-type {\n",
       "        vertical-align: middle;\n",
       "    }\n",
       "\n",
       "    .dataframe tbody tr th {\n",
       "        vertical-align: top;\n",
       "    }\n",
       "\n",
       "    .dataframe thead th {\n",
       "        text-align: right;\n",
       "    }\n",
       "</style>\n",
       "<table border=\"1\" class=\"dataframe\">\n",
       "  <thead>\n",
       "    <tr style=\"text-align: right;\">\n",
       "      <th></th>\n",
       "      <th>date</th>\n",
       "      <th>users_count</th>\n",
       "      <th>transactions</th>\n",
       "      <th>revenue</th>\n",
       "      <th>cum_users_count</th>\n",
       "      <th>cum_transactions</th>\n",
       "      <th>cum_revenue</th>\n",
       "      <th>cum_conversion</th>\n",
       "      <th>cum_avg_check</th>\n",
       "    </tr>\n",
       "  </thead>\n",
       "  <tbody>\n",
       "    <tr>\n",
       "      <th>0</th>\n",
       "      <td>2020-11-06</td>\n",
       "      <td>2499</td>\n",
       "      <td>19</td>\n",
       "      <td>996645</td>\n",
       "      <td>2499</td>\n",
       "      <td>19</td>\n",
       "      <td>996645</td>\n",
       "      <td>0.760304</td>\n",
       "      <td>52455.000000</td>\n",
       "    </tr>\n",
       "    <tr>\n",
       "      <th>1</th>\n",
       "      <td>2020-11-07</td>\n",
       "      <td>2804</td>\n",
       "      <td>19</td>\n",
       "      <td>555499</td>\n",
       "      <td>5303</td>\n",
       "      <td>38</td>\n",
       "      <td>1552144</td>\n",
       "      <td>0.716576</td>\n",
       "      <td>40845.894737</td>\n",
       "    </tr>\n",
       "    <tr>\n",
       "      <th>2</th>\n",
       "      <td>2020-11-08</td>\n",
       "      <td>3291</td>\n",
       "      <td>24</td>\n",
       "      <td>3044842</td>\n",
       "      <td>8594</td>\n",
       "      <td>62</td>\n",
       "      <td>4596986</td>\n",
       "      <td>0.721434</td>\n",
       "      <td>74144.935484</td>\n",
       "    </tr>\n",
       "    <tr>\n",
       "      <th>3</th>\n",
       "      <td>2020-11-09</td>\n",
       "      <td>3062</td>\n",
       "      <td>25</td>\n",
       "      <td>1285836</td>\n",
       "      <td>11656</td>\n",
       "      <td>87</td>\n",
       "      <td>5882822</td>\n",
       "      <td>0.746397</td>\n",
       "      <td>67618.643678</td>\n",
       "    </tr>\n",
       "    <tr>\n",
       "      <th>4</th>\n",
       "      <td>2020-11-10</td>\n",
       "      <td>3072</td>\n",
       "      <td>30</td>\n",
       "      <td>2414726</td>\n",
       "      <td>14728</td>\n",
       "      <td>117</td>\n",
       "      <td>8297548</td>\n",
       "      <td>0.794405</td>\n",
       "      <td>70919.213675</td>\n",
       "    </tr>\n",
       "  </tbody>\n",
       "</table>\n",
       "</div>"
      ],
      "text/plain": [
       "        date  users_count  transactions  revenue  cum_users_count  \\\n",
       "0 2020-11-06         2499            19   996645             2499   \n",
       "1 2020-11-07         2804            19   555499             5303   \n",
       "2 2020-11-08         3291            24  3044842             8594   \n",
       "3 2020-11-09         3062            25  1285836            11656   \n",
       "4 2020-11-10         3072            30  2414726            14728   \n",
       "\n",
       "   cum_transactions  cum_revenue  cum_conversion  cum_avg_check  \n",
       "0                19       996645        0.760304   52455.000000  \n",
       "1                38      1552144        0.716576   40845.894737  \n",
       "2                62      4596986        0.721434   74144.935484  \n",
       "3                87      5882822        0.746397   67618.643678  \n",
       "4               117      8297548        0.794405   70919.213675  "
      ]
     },
     "metadata": {},
     "output_type": "display_data"
    },
    {
     "data": {
      "text/plain": [
       "0.76"
      ]
     },
     "metadata": {},
     "output_type": "display_data"
    }
   ],
   "source": [
    "daily_b['cum_users_count'] = daily_b['users_count'].cumsum()\n",
    "daily_b['cum_transactions'] = daily_b['transactions'].cumsum()\n",
    "daily_b['cum_revenue'] = daily_b['revenue'].cumsum()\n",
    "\n",
    "daily_b['cum_conversion'] = daily_b['cum_transactions'] / daily_b['cum_users_count'] * 100\n",
    "daily_b['cum_avg_check'] = daily_b['cum_revenue'] / daily_b['cum_transactions']\n",
    "display(daily_b.head())\n",
    "display(round(daily_b['cum_conversion'].mean(), 2))"
   ]
  },
  {
   "cell_type": "markdown",
   "id": "d5dfb39f",
   "metadata": {},
   "source": [
    "###  Задание 4.8 ###\n",
    "\n",
    "Построить графики кумулятивной конверсии в каждой группе. Какие выводы по ним можно сделать?\n",
    "\n",
    "***Ответ - Начиная с 9 ноября 2020 года конверсии в группах имеют приблизительно идентичное поведение (одинаковые точки роста и спада). При этом конверсия в группе B стабильно выше конверсии в группе A на данном периоде.***"
   ]
  },
  {
   "cell_type": "code",
   "execution_count": 20,
   "id": "1903c9b4",
   "metadata": {},
   "outputs": [
    {
     "data": {
      "image/png": "[encoded data removed]",
      "text/plain": [
       "<Figure size 576x288 with 1 Axes>"
      ]
     },
     "metadata": {
      "needs_background": "light"
     },
     "output_type": "display_data"
    }
   ],
   "source": [
    "fig = plt.figure(figsize=(8, 4))\n",
    "ax = fig.add_axes([1, 1, 1, 1])\n",
    "sns.lineplot(\n",
    "    data=daily_a,\n",
    "    x='date',\n",
    "    y='cum_conversion',\n",
    "    ax=ax\n",
    ")\n",
    "sns.lineplot(\n",
    "    data=daily_b,\n",
    "    x='date',\n",
    "    y='cum_conversion',\n",
    "    linestyle='dashed',\n",
    "    ax=ax\n",
    ")\n",
    "ax.set_title('График кумулятивной конверсии по дням')\n",
    "ax.xaxis.set_tick_params(rotation=45)\n",
    "ax.grid(True);"
   ]
  },
  {
   "cell_type": "markdown",
   "id": "ae5954db",
   "metadata": {},
   "source": [
    "###  Задание 4.9 ###\n",
    "\n",
    "Построить графики кумулятивного среднего чека в каждой группе. Какие выводы по ним можно сделать?\n",
    "\n",
    "***Ответ - В начале периода наблюдения средний чек в группе B был меньше, чем средний чек в группе A. Однако при стабилизации метрик наблюдается обратный результат.***"
   ]
  },
  {
   "cell_type": "code",
   "execution_count": 21,
   "id": "451df22a",
   "metadata": {},
   "outputs": [
    {
     "data": {
      "image/png": "[encoded data removed]",
      "text/plain": [
       "<Figure size 576x288 with 1 Axes>"
      ]
     },
     "metadata": {
      "needs_background": "light"
     },
     "output_type": "display_data"
    }
   ],
   "source": [
    "fig = plt.figure(figsize=(8, 4))\n",
    "ax = fig.add_axes([1, 1, 1, 1])\n",
    "sns.lineplot(\n",
    "    data=daily_a,\n",
    "    x='date',\n",
    "    y='cum_avg_check',\n",
    "    ax=ax\n",
    ")\n",
    "sns.lineplot(\n",
    "    data=daily_b,\n",
    "    x='date',\n",
    "    y='cum_avg_check',\n",
    "    linestyle='dashed',\n",
    "    ax=ax\n",
    ")\n",
    "ax.set_title('График кумулятивного среднего чека по дням')\n",
    "ax.xaxis.set_tick_params(rotation=45)\n",
    "ax.grid(True);"
   ]
  },
  {
   "cell_type": "markdown",
   "id": "313f5df5",
   "metadata": {},
   "source": [
    "# 5. Анализ результатов A/B-тестирования: статистические тесты #"
   ]
  },
  {
   "cell_type": "markdown",
   "id": "4def6d38",
   "metadata": {},
   "source": [
    "## СТАТИСТИЧЕСКИЙ ТЕСТ ДЛЯ КОНВЕРСИИ ##"
   ]
  },
  {
   "cell_type": "code",
   "execution_count": 22,
   "id": "4e64b09b",
   "metadata": {},
   "outputs": [
    {
     "data": {
      "text/html": [
       "<div>\n",
       "<style scoped>\n",
       "    .dataframe tbody tr th:only-of-type {\n",
       "        vertical-align: middle;\n",
       "    }\n",
       "\n",
       "    .dataframe tbody tr th {\n",
       "        vertical-align: top;\n",
       "    }\n",
       "\n",
       "    .dataframe thead th {\n",
       "        text-align: right;\n",
       "    }\n",
       "</style>\n",
       "<table border=\"1\" class=\"dataframe\">\n",
       "  <thead>\n",
       "    <tr style=\"text-align: right;\">\n",
       "      <th></th>\n",
       "      <th>sum</th>\n",
       "      <th>count</th>\n",
       "    </tr>\n",
       "    <tr>\n",
       "      <th>group</th>\n",
       "      <th></th>\n",
       "      <th></th>\n",
       "    </tr>\n",
       "  </thead>\n",
       "  <tbody>\n",
       "    <tr>\n",
       "      <th>A</th>\n",
       "      <td>17467</td>\n",
       "      <td>145241</td>\n",
       "    </tr>\n",
       "    <tr>\n",
       "      <th>B</th>\n",
       "      <td>17238</td>\n",
       "      <td>145241</td>\n",
       "    </tr>\n",
       "  </tbody>\n",
       "</table>\n",
       "</div>"
      ],
      "text/plain": [
       "         sum   count\n",
       "group               \n",
       "A      17467  145241\n",
       "B      17238  145241"
      ]
     },
     "metadata": {},
     "output_type": "display_data"
    }
   ],
   "source": [
    "converted_piv = ab_data.groupby('group')['converted'].agg(['sum', 'count'])\n",
    "display(converted_piv)"
   ]
  },
  {
   "cell_type": "code",
   "execution_count": 23,
   "id": "1923ecff",
   "metadata": {},
   "outputs": [
    {
     "name": "stdout",
     "output_type": "stream",
     "text": [
      "p_value = 0.1\n",
      "Принимаем нулевую гипотезу (Конверсии в группах A и B равны)\n"
     ]
    }
   ],
   "source": [
    "H0 = 'Конверсии в группах A и B равны'\n",
    "H1 = 'Конверсия в группе A выше, чем конверсия в группе B'\n",
    "alpha = 0.05\n",
    "\n",
    "stat, p_alue = proportions_ztest(\n",
    "    count=converted_piv['sum'],\n",
    "    nobs=converted_piv['count'],\n",
    "    alternative='larger'\n",
    ")\n",
    "print('p_value =', round(p_alue, 2))\n",
    "if p_alue < alpha:\n",
    "    print(f'Отвергаем нулевую гипотезу ({H0})')\n",
    "    print(f'Принимаем альтернативную гипотезу ({H1})')\n",
    "else:\n",
    "    print(f'Принимаем нулевую гипотезу ({H0})')"
   ]
  },
  {
   "cell_type": "markdown",
   "id": "fd5589b7",
   "metadata": {},
   "source": [
    "## СТАТИСТИЧЕСКИЕ ТЕСТЫ ДЛЯ ДРУГИХ МЕТРИК ##"
   ]
  },
  {
   "cell_type": "code",
   "execution_count": 24,
   "id": "41bf9f59",
   "metadata": {},
   "outputs": [
    {
     "data": {
      "text/html": [
       "<div>\n",
       "<style scoped>\n",
       "    .dataframe tbody tr th:only-of-type {\n",
       "        vertical-align: middle;\n",
       "    }\n",
       "\n",
       "    .dataframe tbody tr th {\n",
       "        vertical-align: top;\n",
       "    }\n",
       "\n",
       "    .dataframe thead th {\n",
       "        text-align: right;\n",
       "    }\n",
       "</style>\n",
       "<table border=\"1\" class=\"dataframe\">\n",
       "  <thead>\n",
       "    <tr style=\"text-align: right;\">\n",
       "      <th></th>\n",
       "      <th>time(A)</th>\n",
       "      <th>time(B)</th>\n",
       "    </tr>\n",
       "  </thead>\n",
       "  <tbody>\n",
       "    <tr>\n",
       "      <th>0</th>\n",
       "      <td>435.0</td>\n",
       "      <td>549.2</td>\n",
       "    </tr>\n",
       "    <tr>\n",
       "      <th>1</th>\n",
       "      <td>454.5</td>\n",
       "      <td>630.2</td>\n",
       "    </tr>\n",
       "    <tr>\n",
       "      <th>2</th>\n",
       "      <td>447.0</td>\n",
       "      <td>437.2</td>\n",
       "    </tr>\n",
       "    <tr>\n",
       "      <th>3</th>\n",
       "      <td>480.0</td>\n",
       "      <td>637.2</td>\n",
       "    </tr>\n",
       "    <tr>\n",
       "      <th>4</th>\n",
       "      <td>561.0</td>\n",
       "      <td>712.4</td>\n",
       "    </tr>\n",
       "  </tbody>\n",
       "</table>\n",
       "</div>"
      ],
      "text/plain": [
       "   time(A)  time(B)\n",
       "0    435.0    549.2\n",
       "1    454.5    630.2\n",
       "2    447.0    437.2\n",
       "3    480.0    637.2\n",
       "4    561.0    712.4"
      ]
     },
     "metadata": {},
     "output_type": "display_data"
    }
   ],
   "source": [
    "time_data = pd.read_excel('data/time_data.xlsx')\n",
    "display(time_data.head())"
   ]
  },
  {
   "cell_type": "code",
   "execution_count": 25,
   "id": "681d4b45",
   "metadata": {},
   "outputs": [
    {
     "name": "stdout",
     "output_type": "stream",
     "text": [
      "<class 'pandas.core.frame.DataFrame'>\n",
      "RangeIndex: 30 entries, 0 to 29\n",
      "Data columns (total 2 columns):\n",
      " #   Column   Non-Null Count  Dtype  \n",
      "---  ------   --------------  -----  \n",
      " 0   time(A)  30 non-null     float64\n",
      " 1   time(B)  30 non-null     float64\n",
      "dtypes: float64(2)\n",
      "memory usage: 608.0 bytes\n"
     ]
    }
   ],
   "source": [
    "time_data.info()"
   ]
  },
  {
   "cell_type": "code",
   "execution_count": 26,
   "id": "d850eb0f",
   "metadata": {},
   "outputs": [
    {
     "data": {
      "image/png": "[encoded data removed]",
      "text/plain": [
       "<Figure size 864x288 with 2 Axes>"
      ]
     },
     "metadata": {
      "needs_background": "light"
     },
     "output_type": "display_data"
    }
   ],
   "source": [
    "fig, axes = plt.subplots(1, 2, figsize=(12, 4))\n",
    "sns.histplot(\n",
    "    data=time_data,\n",
    "    x='time(A)',\n",
    "    ax=axes[0]\n",
    ")\n",
    "sns.histplot(\n",
    "    data=time_data,\n",
    "    x='time(B)',\n",
    "    ax=axes[1]\n",
    ")\n",
    "axes[0].set_title('Распределение времени на сайте в группе A')\n",
    "axes[1].set_title('Распределение времени на сайте в группе B');"
   ]
  },
  {
   "cell_type": "markdown",
   "id": "8d9802f0",
   "metadata": {},
   "source": [
    "### Проверка нормальности обоих распределений тестом Шапиро-Уилка ###"
   ]
  },
  {
   "cell_type": "code",
   "execution_count": 27,
   "id": "0ede21a3",
   "metadata": {},
   "outputs": [
    {
     "name": "stdout",
     "output_type": "stream",
     "text": [
      "p-value группы A = 0.43\n",
      "p-value группы B = 0.12\n",
      "Принимаем нулевую гипотезу (Распределения в обеих группах нормальные)\n"
     ]
    }
   ],
   "source": [
    "H0 = 'Распределения в обеих группах нормальные'\n",
    "H1 = 'Распределение в одной или обеих группах отлично от нормального'\n",
    "alpha = 0.05\n",
    "\n",
    "shapiro_result_a = shapiro(time_data['time(A)'])\n",
    "shapiro_result_b = shapiro(time_data['time(B)'])\n",
    "print(f'p-value группы A = {round(shapiro_result_a.pvalue, 2)}')\n",
    "print(f'p-value группы B = {round(shapiro_result_b.pvalue, 2)}')\n",
    "\n",
    "if shapiro_result_a.pvalue < alpha or shapiro_result_b.pvalue < alpha:\n",
    "    print(f'Отвергаем нулевую гипотезу ({H0})')\n",
    "    print(f'Принимаем альтернативную гипотезу ({H1})')\n",
    "else:\n",
    "    print(f'Принимаем нулевую гипотезу ({H0})')"
   ]
  },
  {
   "cell_type": "markdown",
   "id": "112088b3",
   "metadata": {},
   "source": [
    "### T-тест для сравнения средних ###"
   ]
  },
  {
   "cell_type": "code",
   "execution_count": 28,
   "id": "10bf6057",
   "metadata": {},
   "outputs": [
    {
     "name": "stdout",
     "output_type": "stream",
     "text": [
      "p-value = 0.0\n",
      "Отвергаем нулевую гипотезу (Среднее время в группах одинаково)\n",
      "Принимаем альтернативную гипотезу (Среднее время в группе A меньше, чем в группе B)\n"
     ]
    }
   ],
   "source": [
    "H0 = 'Среднее время в группах одинаково'\n",
    "H1 = 'Среднее время в группе A меньше, чем в группе B'\n",
    "alpha = 0.05\n",
    "\n",
    "results = ttest_ind(\n",
    "    a=time_data['time(A)'],\n",
    "    b=time_data['time(B)'],\n",
    "    alternative='less'\n",
    ")\n",
    "print(f'p-value = {round(results.pvalue, 2)}')\n",
    "\n",
    "if results.pvalue < alpha:\n",
    "    print(f'Отвергаем нулевую гипотезу ({H0})')\n",
    "    print(f'Принимаем альтернативную гипотезу ({H1})')\n",
    "else:\n",
    "    print(f'Принимаем нулевую гипотезу ({H0})')"
   ]
  },
  {
   "cell_type": "markdown",
   "id": "64a50bf2",
   "metadata": {},
   "source": [
    "###  Задание 5.2 ###\n",
    "\n",
    "Проверить гипотезу о равенстве конверсий в группах **А** и **B** при альтернативной гипотезе: Конверсия в группе **А** меньше, чем конверсия в группе **B**. Использовать функцию `proportions_ztest()` из модуля `statsmodels.stats.proportion`. В качестве уровня значимости взять $\\alpha=0,1$.\n",
    "\n",
    "Каковы результаты тестирования?\n",
    "\n",
    "***Ответ - Конверсии в группах равны***"
   ]
  },
  {
   "cell_type": "code",
   "execution_count": 29,
   "id": "4bb49c17",
   "metadata": {},
   "outputs": [],
   "source": [
    "sample_ab = pd.concat([sample_a, sample_b])"
   ]
  },
  {
   "cell_type": "code",
   "execution_count": 30,
   "id": "7e382f8c",
   "metadata": {},
   "outputs": [
    {
     "data": {
      "text/html": [
       "<div>\n",
       "<style scoped>\n",
       "    .dataframe tbody tr th:only-of-type {\n",
       "        vertical-align: middle;\n",
       "    }\n",
       "\n",
       "    .dataframe tbody tr th {\n",
       "        vertical-align: top;\n",
       "    }\n",
       "\n",
       "    .dataframe thead th {\n",
       "        text-align: right;\n",
       "    }\n",
       "</style>\n",
       "<table border=\"1\" class=\"dataframe\">\n",
       "  <thead>\n",
       "    <tr style=\"text-align: right;\">\n",
       "      <th></th>\n",
       "      <th>sum</th>\n",
       "      <th>count</th>\n",
       "    </tr>\n",
       "    <tr>\n",
       "      <th>group</th>\n",
       "      <th></th>\n",
       "      <th></th>\n",
       "    </tr>\n",
       "  </thead>\n",
       "  <tbody>\n",
       "    <tr>\n",
       "      <th>A</th>\n",
       "      <td>13.014443</td>\n",
       "      <td>18</td>\n",
       "    </tr>\n",
       "    <tr>\n",
       "      <th>B</th>\n",
       "      <td>13.726118</td>\n",
       "      <td>18</td>\n",
       "    </tr>\n",
       "  </tbody>\n",
       "</table>\n",
       "</div>"
      ],
      "text/plain": [
       "             sum  count\n",
       "group                  \n",
       "A      13.014443     18\n",
       "B      13.726118     18"
      ]
     },
     "metadata": {},
     "output_type": "display_data"
    }
   ],
   "source": [
    "daily_ab = sample_ab.groupby(['date', 'group']).agg({\n",
    "    'cid': 'count',\n",
    "    'transactions': 'sum',\n",
    "    'revenue': 'sum'\n",
    "}).reset_index().rename(columns={'cid': 'users_count', 'transactions': 'transactions_sum', 'revenue': 'revenue_sum'})\n",
    "daily_ab['conv_users'] = daily_ab['transactions_sum'] / daily_ab['users_count'] * 100\n",
    "\n",
    "# conv_piv = daily_ab.groupby('group')['conv_users'].agg(['mean', 'median'])\n",
    "conv_piv = daily_ab.groupby('group')['conv_users'].agg(['sum', 'count'])\n",
    "display(conv_piv)"
   ]
  },
  {
   "cell_type": "code",
   "execution_count": 31,
   "id": "faf6fc08",
   "metadata": {},
   "outputs": [
    {
     "name": "stdout",
     "output_type": "stream",
     "text": [
      "p_value = 0.61\n",
      "Принимаем нулевую гипотезу (Конверсии в группах A и B равны)\n"
     ]
    }
   ],
   "source": [
    "H0 = 'Конверсии в группах A и B равны'\n",
    "H1 = 'Конверсия в группе A выше, чем конверсия в группе B'\n",
    "alpha = 0.1\n",
    "\n",
    "stat, p_alue = proportions_ztest(\n",
    "    count=conv_piv['sum'],\n",
    "    nobs=conv_piv['count'],\n",
    "    alternative='larger'\n",
    ")\n",
    "print('p_value =', round(p_alue, 2))\n",
    "if p_alue < alpha:\n",
    "    print(f'Отвергаем нулевую гипотезу ({H0})')\n",
    "    print(f'Принимаем альтернативную гипотезу ({H1})')\n",
    "else:\n",
    "    print(f'Принимаем нулевую гипотезу ({H0})')\n"
   ]
  },
  {
   "cell_type": "markdown",
   "id": "6a15afe3",
   "metadata": {},
   "source": [
    "###  Задание 5.3 ###\n",
    "\n",
    "Проверить гипотезу о нормальности распределений ежедневного среднего чека с помощью критерия Шапиро-Уилка. В качестве уровня значимости взять $\\alpha=0,1$.\n",
    "\n",
    "Каковы результаты тестирования?\n",
    "\n",
    "***Ответ - Распределение в одной или обеих группах отличны от нормального***"
   ]
  },
  {
   "cell_type": "code",
   "execution_count": 32,
   "id": "29ffe235",
   "metadata": {},
   "outputs": [
    {
     "data": {
      "text/html": [
       "<div>\n",
       "<style scoped>\n",
       "    .dataframe tbody tr th:only-of-type {\n",
       "        vertical-align: middle;\n",
       "    }\n",
       "\n",
       "    .dataframe tbody tr th {\n",
       "        vertical-align: top;\n",
       "    }\n",
       "\n",
       "    .dataframe thead th {\n",
       "        text-align: right;\n",
       "    }\n",
       "</style>\n",
       "<table border=\"1\" class=\"dataframe\">\n",
       "  <thead>\n",
       "    <tr style=\"text-align: right;\">\n",
       "      <th></th>\n",
       "      <th>date</th>\n",
       "      <th>group</th>\n",
       "      <th>users_count</th>\n",
       "      <th>transactions_sum</th>\n",
       "      <th>revenue_sum</th>\n",
       "      <th>conv_users</th>\n",
       "      <th>avg_check</th>\n",
       "    </tr>\n",
       "  </thead>\n",
       "  <tbody>\n",
       "    <tr>\n",
       "      <th>0</th>\n",
       "      <td>2020-11-06</td>\n",
       "      <td>A</td>\n",
       "      <td>2576</td>\n",
       "      <td>16</td>\n",
       "      <td>1577279</td>\n",
       "      <td>0.621118</td>\n",
       "      <td>98579.937500</td>\n",
       "    </tr>\n",
       "    <tr>\n",
       "      <th>1</th>\n",
       "      <td>2020-11-06</td>\n",
       "      <td>B</td>\n",
       "      <td>2499</td>\n",
       "      <td>19</td>\n",
       "      <td>996645</td>\n",
       "      <td>0.760304</td>\n",
       "      <td>52455.000000</td>\n",
       "    </tr>\n",
       "    <tr>\n",
       "      <th>2</th>\n",
       "      <td>2020-11-07</td>\n",
       "      <td>A</td>\n",
       "      <td>2704</td>\n",
       "      <td>23</td>\n",
       "      <td>1721886</td>\n",
       "      <td>0.850592</td>\n",
       "      <td>74864.608696</td>\n",
       "    </tr>\n",
       "    <tr>\n",
       "      <th>3</th>\n",
       "      <td>2020-11-07</td>\n",
       "      <td>B</td>\n",
       "      <td>2804</td>\n",
       "      <td>19</td>\n",
       "      <td>555499</td>\n",
       "      <td>0.677603</td>\n",
       "      <td>29236.789474</td>\n",
       "    </tr>\n",
       "    <tr>\n",
       "      <th>4</th>\n",
       "      <td>2020-11-08</td>\n",
       "      <td>A</td>\n",
       "      <td>3354</td>\n",
       "      <td>25</td>\n",
       "      <td>846051</td>\n",
       "      <td>0.745379</td>\n",
       "      <td>33842.040000</td>\n",
       "    </tr>\n",
       "  </tbody>\n",
       "</table>\n",
       "</div>"
      ],
      "text/plain": [
       "        date group  users_count  transactions_sum  revenue_sum  conv_users  \\\n",
       "0 2020-11-06     A         2576                16      1577279    0.621118   \n",
       "1 2020-11-06     B         2499                19       996645    0.760304   \n",
       "2 2020-11-07     A         2704                23      1721886    0.850592   \n",
       "3 2020-11-07     B         2804                19       555499    0.677603   \n",
       "4 2020-11-08     A         3354                25       846051    0.745379   \n",
       "\n",
       "      avg_check  \n",
       "0  98579.937500  \n",
       "1  52455.000000  \n",
       "2  74864.608696  \n",
       "3  29236.789474  \n",
       "4  33842.040000  "
      ]
     },
     "metadata": {},
     "output_type": "display_data"
    }
   ],
   "source": [
    "daily_ab['avg_check'] = daily_ab['revenue_sum'] / daily_ab['transactions_sum']\n",
    "display(daily_ab.head())"
   ]
  },
  {
   "cell_type": "code",
   "execution_count": 33,
   "id": "094725af",
   "metadata": {},
   "outputs": [],
   "source": [
    "daily_a = daily_ab[daily_ab['group'] == 'A']\n",
    "daily_b = daily_ab[daily_ab['group'] == 'B']"
   ]
  },
  {
   "cell_type": "code",
   "execution_count": 34,
   "id": "3abff7f5",
   "metadata": {},
   "outputs": [
    {
     "name": "stdout",
     "output_type": "stream",
     "text": [
      "p_value_a = 0.009879978373646736\n",
      "p_value_b = 0.02169608511030674\n",
      "Данные группы A не распределены нормально\n",
      "Данные группы B не распределены нормально\n"
     ]
    }
   ],
   "source": [
    "stats_a, p_value_a = shapiro(daily_a['avg_check'])\n",
    "stats_b, p_value_b = shapiro(daily_b['avg_check'])\n",
    "print(f'p_value_a = {p_value_a}')\n",
    "print(f'p_value_b = {p_value_b}')\n",
    "alpha = 0.1\n",
    "\n",
    "if p_value_a > alpha:\n",
    "    print('Данные группы A распределены нормально')\n",
    "else:\n",
    "    print('Данные группы A не распределены нормально')\n",
    "\n",
    "if p_value_b > alpha:\n",
    "    print('Данные группы B распределены нормально')\n",
    "else:\n",
    "    print('Данные группы B не распределены нормально')"
   ]
  },
  {
   "cell_type": "markdown",
   "id": "d66e5c58",
   "metadata": {},
   "source": [
    "###  Задание 5.4 ###\n",
    "\n",
    "Проверить гипотезу о равенстве ежедневных средних чеков с помощью критерия Манна-Уитни при альтернативной гипотезе: Ежедневный средний чек в группе А меньше, чем в группе B. Использовать функцию `mannwhitneyu()` из модуля `scipy.stats`. В качестве уровня значимости взять $\\alpha=0,1$.\n",
    "\n",
    "Каковы результаты тестирования?\n",
    "\n",
    "***Ответ - Ежедневный средний чек в группе А меньше, чем в группе B***"
   ]
  },
  {
   "cell_type": "code",
   "execution_count": 35,
   "id": "20f2d5a8",
   "metadata": {},
   "outputs": [
    {
     "name": "stdout",
     "output_type": "stream",
     "text": [
      "0.08937067987846736\n",
      "Средний чек группы A меньше\n"
     ]
    }
   ],
   "source": [
    "H0 = 'Средние чеки в группах равны'\n",
    "H1 = 'Средний чек группы A меньше'\n",
    "stats, p_value = mannwhitneyu(daily_a['avg_check'], daily_b['avg_check'], alternative='less')\n",
    "print(p_value)\n",
    "alpha = 0.1\n",
    "if p_value > alpha:\n",
    "    print(H0)\n",
    "else:\n",
    "    print(H1)"
   ]
  },
  {
   "cell_type": "markdown",
   "id": "dac14a3d",
   "metadata": {},
   "source": [
    "# 6. Анализ результатов A/B-тестирования: доверительные интервалы #"
   ]
  },
  {
   "cell_type": "markdown",
   "id": "f90458cd",
   "metadata": {},
   "source": [
    "## ДОВЕРИТЕЛЬНЫЙ ИНТЕРВАЛ ДЛЯ ИСТИННОГО СРЕДНЕГО ПРИ ИЗВЕСТНОМ ИСТИННОМ СТАНДАРТНОМ ОТКЛОНЕНИИ ##"
   ]
  },
  {
   "cell_type": "markdown",
   "id": "2d844483",
   "metadata": {},
   "source": [
    "$$\\mu=X_{mean}\\pm\\frac{\\sigma}{\\sqrt{n}}z_{крит}$$, где\n",
    "- $\\mu$&nbsp;&mdash; истинно среднее (математическое ожидание\n",
    "- $X_{mean}$&nbsp;&mdash; среднее из выборки\n",
    "- $\\sigma$&nbsp;&mdash; истинное стандартное отклонение\n",
    "- $n$&nbsp;&mdash; размер выборки\n",
    "- $z_{крит}$&nbsp;&mdash; случайная величина, имеющая нормальное распределение с математическим ожиданием (центром) $\\mu=0$ и стандартным отклонением (разбросом) $\\sigma=1$. Определяется **уровнем надёжности**.\n",
    "\n",
    "**Уровень надёжности** $\\gamma=1-\\alpha$. $\\alpha$&nbsp;&mdash; **уровень значимости** или вероятность ошибки I рода.\n",
    "\n",
    "Калькулятор [ЗДЕСЬ](https://planetcalc.ru/7803/)\n",
    "\n",
    "То есть для двустороннего доверительного интервала при нормальном распределении.\n",
    "$$\\mu=X_{mean}\\pm\\frac{\\sigma}{\\sqrt{n}}z_{\\frac{\\alpha}{2}}$$"
   ]
  },
  {
   "cell_type": "code",
   "execution_count": 36,
   "id": "e5372b8c",
   "metadata": {},
   "outputs": [],
   "source": [
    "n = 36             # размер выборки\n",
    "x_mean = 16100     # выборочное среднее\n",
    "sigma = 12000      # истинное стандартное отклонение\n",
    "gamma = 0.95       # уровень надёжности\n",
    "alpha = 1 - gamma  # уровень значимости"
   ]
  },
  {
   "cell_type": "code",
   "execution_count": 37,
   "id": "e58ad7af",
   "metadata": {},
   "outputs": [],
   "source": [
    "z_crit = -norm.ppf(alpha/2)    # z-критическое"
   ]
  },
  {
   "cell_type": "code",
   "execution_count": 38,
   "id": "53383ddc",
   "metadata": {},
   "outputs": [
    {
     "name": "stdout",
     "output_type": "stream",
     "text": [
      "Доверительный интервал: (12180, 20020)\n"
     ]
    }
   ],
   "source": [
    "eps = z_crit * sigma/(n ** 0.5)    #погрешность\n",
    "lower_bound = x_mean - eps         # левая (нижняя) граница\n",
    "upper_bound = x_mean + eps         # правая (верхняя) граница\n",
    "confidence_interval = (round(lower_bound), round(upper_bound))     # создаём кортеж из округлённых границ интервала\n",
    "print('Доверительный интервал: {}'.format(confidence_interval))    # выводим результат"
   ]
  },
  {
   "cell_type": "markdown",
   "id": "430ef55e",
   "metadata": {},
   "source": [
    "## Функция для расчёта доверительного интервала при истинном стандартном отклонении ##"
   ]
  },
  {
   "cell_type": "code",
   "execution_count": 39,
   "id": "e143b730",
   "metadata": {},
   "outputs": [
    {
     "name": "stdout",
     "output_type": "stream",
     "text": [
      "Доверительный интервал: (12180.072030919891, 20019.92796908011)\n"
     ]
    }
   ],
   "source": [
    "def calc_conf_int(x_mean, gamma, sigma, n):\n",
    "    from scipy.stats import norm\n",
    "    alpha = 1 - gamma\n",
    "    z_crit = -norm.ppf(alpha/2)\n",
    "    eps = z_crit * sigma/(n ** 0.5)\n",
    "    lower_bound = x_mean - eps\n",
    "    upper_bound = x_mean + eps\n",
    "    confidence_interval = (lower_bound, upper_bound)\n",
    "    print('Доверительный интервал: {}'.format(confidence_interval))\n",
    "\n",
    "calc_conf_int(n=36, x_mean=16100, sigma=12000, gamma=0.95)"
   ]
  },
  {
   "cell_type": "markdown",
   "id": "20b259a7",
   "metadata": {},
   "source": [
    "###  Задание 6.5 ###\n",
    "\n",
    "Аккумуляторный завод производит батарейки, срок службы которых имеет истинное стандартное отклонение в 2.4 месяца. Средний срок службы батареек в случайной выборке из 64 штук составил 12.35 месяца. Необходимо построить 90%-ный доверительный интервал для истинного среднего срока службы производимой батарейки.\n",
    "\n",
    "Чему равно значение z-критического для такого интервала? Ввести число с двумя знаками после запятой.\n",
    "\n",
    "***Ответ - 1.64***\n",
    "\n",
    "Построить 90%-ный доверительный интервал. Использовать критическое значение, округлённое до двух знаков. Ответы округлить до двух знаков после запятой.\n",
    "\n",
    "***Ответ - 11.86, 12.84***"
   ]
  },
  {
   "cell_type": "code",
   "execution_count": 40,
   "id": "aafde184",
   "metadata": {},
   "outputs": [
    {
     "name": "stdout",
     "output_type": "stream",
     "text": [
      "1.64\n"
     ]
    }
   ],
   "source": [
    "z_crit = round(-norm.ppf(0.1 / 2), 2)\n",
    "print(z_crit)"
   ]
  },
  {
   "cell_type": "code",
   "execution_count": 41,
   "id": "853df7a5",
   "metadata": {},
   "outputs": [
    {
     "name": "stdout",
     "output_type": "stream",
     "text": [
      "Доверительный интервал: (11.86, 12.84)\n"
     ]
    }
   ],
   "source": [
    "x_mean=12.35\n",
    "z_crit = 1.64\n",
    "eps = z_crit * (2.4 / (64 ** 0.5))\n",
    "lower_bound = x_mean - eps\n",
    "upper_bound = x_mean + eps\n",
    "confidence_interval = (round(lower_bound, 2), round(upper_bound, 2))\n",
    "print('Доверительный интервал: {}'.format(confidence_interval))\n"
   ]
  },
  {
   "cell_type": "code",
   "execution_count": 42,
   "id": "fcc9cfb4",
   "metadata": {},
   "outputs": [
    {
     "name": "stdout",
     "output_type": "stream",
     "text": [
      "Доверительный интервал: (11.856543911914558, 12.843456088085441)\n"
     ]
    }
   ],
   "source": [
    "calc_conf_int(sigma=2.4, x_mean=12.35, n=64, gamma=0.9)"
   ]
  },
  {
   "cell_type": "markdown",
   "id": "02f2be82",
   "metadata": {},
   "source": [
    "## ДОВЕРИТЕЛЬНЫЙ ИНТЕРВАЛ ДЛЯ СРЕДНЕГО ПРИ НЕИЗВЕСТНОМ СТАНДАРТНОМ ОТКЛОНЕНИИ ##"
   ]
  },
  {
   "cell_type": "markdown",
   "id": "48962e28",
   "metadata": {},
   "source": [
    "$$\\mu=X_{mean}\\pm\\frac{X_{std}}{\\sqrt{n}}t_{крит}$$, где\n",
    "- $\\mu$&nbsp;&mdash; истинно среднее (математическое ожидание\n",
    "- $X_{mean}$&nbsp;&mdash; среднее из выборки\n",
    "- $X_{std}$&nbsp;&mdash; стандартное отклонение из выборки\n",
    "- $n$&nbsp;&mdash; размер выборки\n",
    "- $t_{крит}$&nbsp;&mdash; вычисляется аналогично $z_{крит}$. Задаётся **уровень надёжности** и на его основе по таблицам или калькуляторам для распределения Стьюдента вычисляется число. Отличие состоит в том, что для $t_{крит}$ нужно задать ещё и число степеней свободы $k=n-1$:\n",
    "\n",
    "**Уровень надёжности** $\\gamma=1-\\alpha$. $\\alpha$&nbsp;&mdash; **уровень значимости** или вероятность ошибки I рода.\n",
    "$$t_{крит}(k)=t_{\\frac{1-\\gamma}{2}}(k)=t_{\\frac{\\alpha}{2}}(k)$$"
   ]
  },
  {
   "cell_type": "code",
   "execution_count": 43,
   "id": "c3c1a0e4",
   "metadata": {},
   "outputs": [],
   "source": [
    "n = 15               # размер выборки\n",
    "k = n - 1            # число степеней свободы\n",
    "x_mean = 2000        # выборочное среднее\n",
    "x_std = 400          # выборочное стандартное отклонение\n",
    "gamma = 0.95         # уровень надёжности\n",
    "alpha = 1 - gamma    # уровень значимости"
   ]
  },
  {
   "cell_type": "code",
   "execution_count": 44,
   "id": "bfa5b2a0",
   "metadata": {},
   "outputs": [],
   "source": [
    "t_crit = -t.ppf(alpha / 2, k)    # t-критическое"
   ]
  },
  {
   "cell_type": "code",
   "execution_count": 45,
   "id": "f5c44680",
   "metadata": {},
   "outputs": [
    {
     "name": "stdout",
     "output_type": "stream",
     "text": [
      "Доверительный интервал: (1778, 2222)\n"
     ]
    }
   ],
   "source": [
    "eps = t_crit * x_std/(n ** 0.5)   # погрешность\n",
    "lower_bound = x_mean - eps        # левая (нижняя) граница\n",
    "upper_bound = x_mean + eps        # правая (верхняя) граница\n",
    "confidence_interval = (round(lower_bound), round(upper_bound))    # создаём кортеж из округлённых границ интервала\n",
    "print('Доверительный интервал: {}'.format(confidence_interval))   # выводим результат"
   ]
  },
  {
   "cell_type": "markdown",
   "id": "c107c25a",
   "metadata": {},
   "source": [
    "## Функция для расчёта доверительного интервала при выборочном станлартном отклонении ##"
   ]
  },
  {
   "cell_type": "code",
   "execution_count": 46,
   "id": "271182f0",
   "metadata": {},
   "outputs": [],
   "source": [
    "def calc_conf_int_std(gamma, n, x_mean, x_std):\n",
    "    from scipy.stats import t\n",
    "    alpha = 1 - gamma\n",
    "    k = n - 1\n",
    "    t_crit = -t.ppf(alpha / 2, k)\n",
    "    eps = t_crit * x_std / (n ** 0.5)\n",
    "    lower_bound = x_mean - eps\n",
    "    upper_bound = x_mean + eps\n",
    "    confidence_interval = (round(lower_bound), round(upper_bound))\n",
    "    print('Доверительный интервал: {}'.format(confidence_interval))\n",
    "\n",
    "# calc_conf_int_std()"
   ]
  },
  {
   "cell_type": "markdown",
   "id": "e3c116f6",
   "metadata": {},
   "source": [
    "### Задание 6.6 ###\n",
    "\n",
    "Чиновника интересует сумма подоходного налога, выплачиваемого домохозяйствами за год. На случайной выборке из 25 домохозяйств был посчитан средний размер выплаченного налога, и он составил 3540 rub. Также известно выборочное отклонение величины подоходного налога, равное 1150 rub.\n",
    "\n",
    "Необходимо найти 90%-ый доверительный интервал для истинного среднего значения налоговых выплат за год. Использовать формулу с t-критическим.\n",
    "\n",
    "Указать границы построенного доверительного интервала для истинного среднего. Ответ округлить до целого.\n",
    "\n",
    "***Ответ -***"
   ]
  },
  {
   "cell_type": "code",
   "execution_count": 47,
   "id": "6aea846b",
   "metadata": {},
   "outputs": [
    {
     "name": "stdout",
     "output_type": "stream",
     "text": [
      "Доверительный интервал: (3146, 3934)\n"
     ]
    }
   ],
   "source": [
    "calc_conf_int_std(n=25, x_mean=3540, x_std=1150, gamma=0.9)"
   ]
  },
  {
   "cell_type": "markdown",
   "id": "47267d37",
   "metadata": {},
   "source": [
    "## ДОВЕРИТЕЛЬНЫЙ ИНТЕРВАЛ ДЛЯ ПРОПОРЦИИ ##"
   ]
  },
  {
   "cell_type": "markdown",
   "id": "132b24ec",
   "metadata": {},
   "source": [
    "$$p=\\mu=X_p\\pm\\sqrt{\\frac{X_p(1-X_p)}{n}}z_{крит},$$\n",
    "где\n",
    "\n",
    "- $p=\\mu$&nbsp;&mdash; истинное среднее (математическое ожидание)\n",
    "- $X_p$&nbsp;&mdash; среднее в выборке\n",
    "- $\\sigma=\\sqrt{p(1-p)}$&nbsp;&mdash; истинное стандартное отклонение\n",
    "- $z_{крит}$&nbsp;&mdash; то же, что и выше\n",
    "- $n$&nbsp;&mdash; размер выборки"
   ]
  },
  {
   "cell_type": "code",
   "execution_count": 48,
   "id": "22923980",
   "metadata": {},
   "outputs": [
    {
     "data": {
      "text/html": [
       "<div>\n",
       "<style scoped>\n",
       "    .dataframe tbody tr th:only-of-type {\n",
       "        vertical-align: middle;\n",
       "    }\n",
       "\n",
       "    .dataframe tbody tr th {\n",
       "        vertical-align: top;\n",
       "    }\n",
       "\n",
       "    .dataframe thead th {\n",
       "        text-align: right;\n",
       "    }\n",
       "</style>\n",
       "<table border=\"1\" class=\"dataframe\">\n",
       "  <thead>\n",
       "    <tr style=\"text-align: right;\">\n",
       "      <th></th>\n",
       "      <th>user_id</th>\n",
       "      <th>timestamp</th>\n",
       "      <th>group</th>\n",
       "      <th>converted</th>\n",
       "    </tr>\n",
       "  </thead>\n",
       "  <tbody>\n",
       "    <tr>\n",
       "      <th>0</th>\n",
       "      <td>851104</td>\n",
       "      <td>2017-01-21</td>\n",
       "      <td>A</td>\n",
       "      <td>0</td>\n",
       "    </tr>\n",
       "    <tr>\n",
       "      <th>1</th>\n",
       "      <td>804228</td>\n",
       "      <td>2017-01-12</td>\n",
       "      <td>A</td>\n",
       "      <td>0</td>\n",
       "    </tr>\n",
       "    <tr>\n",
       "      <th>2</th>\n",
       "      <td>661590</td>\n",
       "      <td>2017-01-11</td>\n",
       "      <td>B</td>\n",
       "      <td>0</td>\n",
       "    </tr>\n",
       "    <tr>\n",
       "      <th>3</th>\n",
       "      <td>853541</td>\n",
       "      <td>2017-01-08</td>\n",
       "      <td>B</td>\n",
       "      <td>0</td>\n",
       "    </tr>\n",
       "    <tr>\n",
       "      <th>4</th>\n",
       "      <td>864975</td>\n",
       "      <td>2017-01-21</td>\n",
       "      <td>A</td>\n",
       "      <td>1</td>\n",
       "    </tr>\n",
       "  </tbody>\n",
       "</table>\n",
       "</div>"
      ],
      "text/plain": [
       "   user_id   timestamp group  converted\n",
       "0   851104  2017-01-21     A          0\n",
       "1   804228  2017-01-12     A          0\n",
       "2   661590  2017-01-11     B          0\n",
       "3   853541  2017-01-08     B          0\n",
       "4   864975  2017-01-21     A          1"
      ]
     },
     "execution_count": 48,
     "metadata": {},
     "output_type": "execute_result"
    }
   ],
   "source": [
    "ab_data = pd.read_csv('data/ab_data.csv')\n",
    "ab_data.head()"
   ]
  },
  {
   "cell_type": "code",
   "execution_count": 49,
   "id": "2f56480d",
   "metadata": {},
   "outputs": [],
   "source": [
    "a_data = ab_data[ab_data['group'] == 'A']\n",
    "b_data = ab_data[ab_data['group'] == 'B']"
   ]
  },
  {
   "cell_type": "markdown",
   "id": "3c258d36",
   "metadata": {},
   "source": [
    "## Функция для расчёта доверительного интервала пропорции ##"
   ]
  },
  {
   "cell_type": "code",
   "execution_count": 50,
   "id": "4e299b50",
   "metadata": {},
   "outputs": [],
   "source": [
    "def proportions_conf_interval(n, X_p, gamma=0.95):\n",
    "    from scipy.stats import norm\n",
    "    alpha = 1 - gamma\n",
    "    z_crit = -norm.ppf(alpha / 2)\n",
    "    eps = z_crit * (X_p * (1 - X_p) / n) ** 0.5\n",
    "    lower_bound = X_p - eps\n",
    "    upper_bound = X_p + eps\n",
    "    return round(lower_bound * 100, 2), round(upper_bound * 100, 2)"
   ]
  },
  {
   "cell_type": "code",
   "execution_count": 51,
   "id": "9c0d1f2e",
   "metadata": {},
   "outputs": [
    {
     "name": "stdout",
     "output_type": "stream",
     "text": [
      "Доверительный интервал для конверсии группы A: (11.86, 12.19)\n",
      "Доверительный интервал для конверсии группы B: (11.7, 12.03)\n"
     ]
    }
   ],
   "source": [
    "conf_interval_a = proportions_conf_interval(\n",
    "    n=a_data['user_id'].count(),\n",
    "    X_p=a_data['converted'].mean()\n",
    ")\n",
    "conf_interval_b = proportions_conf_interval(\n",
    "    n=b_data['user_id'].count(),\n",
    "    X_p=b_data['converted'].mean()\n",
    ")\n",
    "print(f'Доверительный интервал для конверсии группы A: {conf_interval_a}')\n",
    "print(f'Доверительный интервал для конверсии группы B: {conf_interval_b}')"
   ]
  },
  {
   "cell_type": "markdown",
   "id": "aa08923e",
   "metadata": {},
   "source": [
    "## Доверительный интервал разницы пропорции (конверсии) ##\n",
    "\n",
    "$$\\Delta p= \\Delta X_p\\pm z_{крит}\\sqrt{\\frac{X_{p_a}(1-X_{p_a})}{n_a}+\\frac{X_{p_b}(1-X_{p_b})}{n_b}},$$\n",
    "где\n",
    "\n",
    "- индексы $а$ и $b$ обозначают принадлежность параметра группе А и B соответственно\n",
    "- $\\Delta p =p_b-p_a$&nbsp;&mdash; истинная разница конверсий групп B и A;\n",
    "- $\\Delta X_p=X_{p_b}-X_{p_a}$&nbsp;&mdash; выборочная разница конверсий групп B и A."
   ]
  },
  {
   "cell_type": "markdown",
   "id": "29077157",
   "metadata": {},
   "source": [
    "## Функция для расчёта доверительного интервала разницы пропорции ##"
   ]
  },
  {
   "cell_type": "code",
   "execution_count": 52,
   "id": "c8d4e0d9",
   "metadata": {},
   "outputs": [],
   "source": [
    "def diff_proportions_conf_interval(n, X_p, gamma=0.95):\n",
    "    from scipy.stats import norm\n",
    "    alpha = 1 - gamma\n",
    "    diff = X_p[1] - X_p[0]\n",
    "    z_crit = -norm.ppf(alpha / 2)\n",
    "    eps = z_crit * (X_p[0] * (1-X_p[0]) / n[0] + X_p[1] * (1-X_p[1]) / n[1]) ** 0.5\n",
    "    lower_bound = diff - eps\n",
    "    upper_bound = diff + eps\n",
    "    return round(lower_bound * 100, 2), round(upper_bound * 100, 2)"
   ]
  },
  {
   "cell_type": "code",
   "execution_count": 53,
   "id": "18d1d575",
   "metadata": {},
   "outputs": [
    {
     "name": "stdout",
     "output_type": "stream",
     "text": [
      "Доверительный интервал для разности конверсий: (-0.39, 0.08)\n"
     ]
    }
   ],
   "source": [
    "n = [a_data['user_id'].count(), b_data['user_id'].count()]\n",
    "X_p = [a_data['converted'].mean(), b_data['converted'].mean()]\n",
    "diff_interval = diff_proportions_conf_interval(n, X_p)\n",
    "print(f'Доверительный интервал для разности конверсий: {diff_interval}')"
   ]
  },
  {
   "cell_type": "markdown",
   "id": "fe325a27",
   "metadata": {},
   "source": [
    "###  Задание 6.9 ###\n",
    "\n",
    "Чтобы оценить удовлетворённость клиентов сети отелей, менеджер взял случайную выборку из **189** комментариев, оставленных посетителями на онлайн-платформе по бронированию, и провёл анализ их содержания. Выяснилось, что **132** комментария были положительными, остальные&nbsp;&mdash; негативными.\n",
    "\n",
    "Чему равна выборочная пропорция положительных комментариев? Указать с точностью до трёх знаков после разделительной точки.\n",
    "\n",
    "***Ответ - 0.698***\n",
    "\n",
    "Найти 90% доверительный интервал для истинной пропорции положительных комментариев. Ответ привсти в процентах и округлить до двух знаков после запятой. При расчёте использовать z-критическое.\n",
    "\n",
    "***Ответ - 64.35, 75.33***"
   ]
  },
  {
   "cell_type": "code",
   "execution_count": 54,
   "id": "adfbe028",
   "metadata": {},
   "outputs": [
    {
     "data": {
      "text/plain": [
       "0.698"
      ]
     },
     "execution_count": 54,
     "metadata": {},
     "output_type": "execute_result"
    }
   ],
   "source": [
    "round(132 / 189, 3)"
   ]
  },
  {
   "cell_type": "code",
   "execution_count": 55,
   "id": "e099f109",
   "metadata": {},
   "outputs": [
    {
     "name": "stdout",
     "output_type": "stream",
     "text": [
      "64.35 75.33\n"
     ]
    }
   ],
   "source": [
    "n = 189\n",
    "X_p = 132 / n\n",
    "gamma = 0.9\n",
    "alpha = 1 - gamma\n",
    "z_crit = -norm.ppf(alpha / 2)\n",
    "eps = z_crit * (X_p * (1 - X_p) / n) ** 0.5\n",
    "lower_bound = X_p - eps\n",
    "upper_bound = X_p + eps\n",
    "print(round(lower_bound * 100, 2), round(upper_bound * 100, 2))"
   ]
  },
  {
   "cell_type": "markdown",
   "id": "68dbc280",
   "metadata": {},
   "source": [
    "###  Задание 6.10 ###\n",
    "\n",
    "Проводится A/B-тестирование вариантов отображения страницы корзины на сайте интернет-магазина. Есть два варианта отображения страницы: с товарными рекомендациями **&laquo;Хиты продаж&raquo;** и персональными, подобранными под интерес конкретно этого пользователя. Метрикой является конверсия действия **&laquo;добавить в корзину товар из рекомендаций&raquo;**». Были собраны следующие данные:\n",
    "\n",
    "```\n",
    "Группа                    Число добавленных в корзину товаров    Размер выборки\n",
    "А (Персональные скидки)   45                                     1000\n",
    "B (Хиты продаж)           50                                     1000\n",
    "```\n",
    "\n",
    "Построить 95%-ый доверительный интервал разности полученных конверсий. Ответ привести в процентах и округлить границы интервала до второго знака после запятой. При расчёте использовать z-критическое.\n",
    "\n",
    "***Ответ - -1.36, 2.36***"
   ]
  },
  {
   "cell_type": "code",
   "execution_count": 56,
   "id": "ecb249ac",
   "metadata": {},
   "outputs": [
    {
     "name": "stdout",
     "output_type": "stream",
     "text": [
      "-1.36 2.36\n"
     ]
    }
   ],
   "source": [
    "X_p = [45/1000, 50/1000]\n",
    "n = [1000, 1000]\n",
    "gamma = 0.95\n",
    "alpha = 1 - gamma\n",
    "diff = X_p[1] - X_p[0]\n",
    "z_crit = -norm.ppf(alpha / 2)\n",
    "eps = z_crit * (X_p[0] * (1-X_p[0]) / n[0] + X_p[1] * (1-X_p[1]) / n[1]) ** 0.5\n",
    "lower_bound = diff - eps\n",
    "upper_bound = diff + eps\n",
    "print(round(lower_bound * 100, 2), round(upper_bound * 100, 2))"
   ]
  },
  {
   "cell_type": "code",
   "execution_count": null,
   "id": "27d15ecc",
   "metadata": {},
   "outputs": [],
   "source": []
  }
 ],
 "metadata": {
  "kernelspec": {
   "display_name": "Python 3",
   "language": "python",
   "name": "python3"
  },
  "language_info": {
   "codemirror_mode": {
    "name": "ipython",
    "version": 3
   },
   "file_extension": ".py",
   "mimetype": "text/x-python",
   "name": "python",
   "nbconvert_exporter": "python",
   "pygments_lexer": "ipython3",
   "version": "3.9.13"
  }
 },
 "nbformat": 4,
 "nbformat_minor": 5
}
