{
 "cells": [
  {
   "cell_type": "markdown",
   "id": "2be041cf",
   "metadata": {},
   "source": [
    "# Проектирование экспериментов #"
   ]
  },
  {
   "cell_type": "code",
   "execution_count": 29,
   "id": "42fd77a9",
   "metadata": {},
   "outputs": [],
   "source": [
    "import os\n",
    "import logging\n",
    "\n",
    "import pandas as pd\n",
    "import matplotlib.pyplot as plt\n",
    "\n",
    "# Для корректной работы Jupyter Notebook\n",
    "%matplotlib inline\n",
    "# Для корректного отображения графиков в тёмной теме\n",
    "plt.style.use('default')"
   ]
  },
  {
   "cell_type": "code",
   "execution_count": 9,
   "id": "861907ce",
   "metadata": {},
   "outputs": [],
   "source": [
    "df = pd.read_csv('./data/KaggleV2-May-2016.csv')"
   ]
  },
  {
   "cell_type": "code",
   "execution_count": 7,
   "id": "b731d2f3",
   "metadata": {},
   "outputs": [
    {
     "data": {
      "text/html": [
       "<div>\n",
       "<style scoped>\n",
       "    .dataframe tbody tr th:only-of-type {\n",
       "        vertical-align: middle;\n",
       "    }\n",
       "\n",
       "    .dataframe tbody tr th {\n",
       "        vertical-align: top;\n",
       "    }\n",
       "\n",
       "    .dataframe thead th {\n",
       "        text-align: right;\n",
       "    }\n",
       "</style>\n",
       "<table border=\"1\" class=\"dataframe\">\n",
       "  <thead>\n",
       "    <tr style=\"text-align: right;\">\n",
       "      <th></th>\n",
       "      <th>PatientId</th>\n",
       "      <th>AppointmentID</th>\n",
       "      <th>Gender</th>\n",
       "      <th>ScheduledDay</th>\n",
       "      <th>AppointmentDay</th>\n",
       "      <th>Age</th>\n",
       "      <th>Neighbourhood</th>\n",
       "      <th>Scholarship</th>\n",
       "      <th>Hipertension</th>\n",
       "      <th>Diabetes</th>\n",
       "      <th>Alcoholism</th>\n",
       "      <th>Handcap</th>\n",
       "      <th>SMS_received</th>\n",
       "      <th>No-show</th>\n",
       "    </tr>\n",
       "  </thead>\n",
       "  <tbody>\n",
       "    <tr>\n",
       "      <th>0</th>\n",
       "      <td>2.987250e+13</td>\n",
       "      <td>5642903</td>\n",
       "      <td>F</td>\n",
       "      <td>2016-04-29T18:38:08Z</td>\n",
       "      <td>2016-04-29T00:00:00Z</td>\n",
       "      <td>62</td>\n",
       "      <td>JARDIM DA PENHA</td>\n",
       "      <td>0</td>\n",
       "      <td>1</td>\n",
       "      <td>0</td>\n",
       "      <td>0</td>\n",
       "      <td>0</td>\n",
       "      <td>0</td>\n",
       "      <td>No</td>\n",
       "    </tr>\n",
       "    <tr>\n",
       "      <th>1</th>\n",
       "      <td>5.589978e+14</td>\n",
       "      <td>5642503</td>\n",
       "      <td>M</td>\n",
       "      <td>2016-04-29T16:08:27Z</td>\n",
       "      <td>2016-04-29T00:00:00Z</td>\n",
       "      <td>56</td>\n",
       "      <td>JARDIM DA PENHA</td>\n",
       "      <td>0</td>\n",
       "      <td>0</td>\n",
       "      <td>0</td>\n",
       "      <td>0</td>\n",
       "      <td>0</td>\n",
       "      <td>0</td>\n",
       "      <td>No</td>\n",
       "    </tr>\n",
       "    <tr>\n",
       "      <th>2</th>\n",
       "      <td>4.262962e+12</td>\n",
       "      <td>5642549</td>\n",
       "      <td>F</td>\n",
       "      <td>2016-04-29T16:19:04Z</td>\n",
       "      <td>2016-04-29T00:00:00Z</td>\n",
       "      <td>62</td>\n",
       "      <td>MATA DA PRAIA</td>\n",
       "      <td>0</td>\n",
       "      <td>0</td>\n",
       "      <td>0</td>\n",
       "      <td>0</td>\n",
       "      <td>0</td>\n",
       "      <td>0</td>\n",
       "      <td>No</td>\n",
       "    </tr>\n",
       "    <tr>\n",
       "      <th>3</th>\n",
       "      <td>8.679512e+11</td>\n",
       "      <td>5642828</td>\n",
       "      <td>F</td>\n",
       "      <td>2016-04-29T17:29:31Z</td>\n",
       "      <td>2016-04-29T00:00:00Z</td>\n",
       "      <td>8</td>\n",
       "      <td>PONTAL DE CAMBURI</td>\n",
       "      <td>0</td>\n",
       "      <td>0</td>\n",
       "      <td>0</td>\n",
       "      <td>0</td>\n",
       "      <td>0</td>\n",
       "      <td>0</td>\n",
       "      <td>No</td>\n",
       "    </tr>\n",
       "    <tr>\n",
       "      <th>4</th>\n",
       "      <td>8.841186e+12</td>\n",
       "      <td>5642494</td>\n",
       "      <td>F</td>\n",
       "      <td>2016-04-29T16:07:23Z</td>\n",
       "      <td>2016-04-29T00:00:00Z</td>\n",
       "      <td>56</td>\n",
       "      <td>JARDIM DA PENHA</td>\n",
       "      <td>0</td>\n",
       "      <td>1</td>\n",
       "      <td>1</td>\n",
       "      <td>0</td>\n",
       "      <td>0</td>\n",
       "      <td>0</td>\n",
       "      <td>No</td>\n",
       "    </tr>\n",
       "  </tbody>\n",
       "</table>\n",
       "</div>"
      ],
      "text/plain": [
       "      PatientId  AppointmentID Gender          ScheduledDay  \\\n",
       "0  2.987250e+13        5642903      F  2016-04-29T18:38:08Z   \n",
       "1  5.589978e+14        5642503      M  2016-04-29T16:08:27Z   \n",
       "2  4.262962e+12        5642549      F  2016-04-29T16:19:04Z   \n",
       "3  8.679512e+11        5642828      F  2016-04-29T17:29:31Z   \n",
       "4  8.841186e+12        5642494      F  2016-04-29T16:07:23Z   \n",
       "\n",
       "         AppointmentDay  Age      Neighbourhood  Scholarship  Hipertension  \\\n",
       "0  2016-04-29T00:00:00Z   62    JARDIM DA PENHA            0             1   \n",
       "1  2016-04-29T00:00:00Z   56    JARDIM DA PENHA            0             0   \n",
       "2  2016-04-29T00:00:00Z   62      MATA DA PRAIA            0             0   \n",
       "3  2016-04-29T00:00:00Z    8  PONTAL DE CAMBURI            0             0   \n",
       "4  2016-04-29T00:00:00Z   56    JARDIM DA PENHA            0             1   \n",
       "\n",
       "   Diabetes  Alcoholism  Handcap  SMS_received No-show  \n",
       "0         0           0        0             0      No  \n",
       "1         0           0        0             0      No  \n",
       "2         0           0        0             0      No  \n",
       "3         0           0        0             0      No  \n",
       "4         1           0        0             0      No  "
      ]
     },
     "execution_count": 7,
     "metadata": {},
     "output_type": "execute_result"
    }
   ],
   "source": [
    "df.head()"
   ]
  },
  {
   "cell_type": "code",
   "execution_count": 16,
   "id": "7106219a",
   "metadata": {},
   "outputs": [
    {
     "name": "stdout",
     "output_type": "stream",
     "text": [
      "<class 'pandas.core.frame.DataFrame'>\n",
      "RangeIndex: 110527 entries, 0 to 110526\n",
      "Data columns (total 14 columns):\n",
      " #   Column          Non-Null Count   Dtype  \n",
      "---  ------          --------------   -----  \n",
      " 0   PatientId       110527 non-null  float64\n",
      " 1   AppointmentID   110527 non-null  int64  \n",
      " 2   Gender          110527 non-null  object \n",
      " 3   ScheduledDay    110527 non-null  object \n",
      " 4   AppointmentDay  110527 non-null  object \n",
      " 5   Age             110527 non-null  int64  \n",
      " 6   Neighbourhood   110527 non-null  object \n",
      " 7   Scholarship     110527 non-null  int64  \n",
      " 8   Hipertension    110527 non-null  int64  \n",
      " 9   Diabetes        110527 non-null  int64  \n",
      " 10  Alcoholism      110527 non-null  int64  \n",
      " 11  Handcap         110527 non-null  int64  \n",
      " 12  SMS_received    110527 non-null  int64  \n",
      " 13  No-show         110527 non-null  object \n",
      "dtypes: float64(1), int64(8), object(5)\n",
      "memory usage: 11.8+ MB\n"
     ]
    }
   ],
   "source": [
    "df.info()"
   ]
  },
  {
   "cell_type": "code",
   "execution_count": 20,
   "id": "02b9472f",
   "metadata": {},
   "outputs": [
    {
     "data": {
      "text/plain": [
       "PatientId         0\n",
       "AppointmentID     0\n",
       "Gender            0\n",
       "ScheduledDay      0\n",
       "AppointmentDay    0\n",
       "Age               0\n",
       "Neighbourhood     0\n",
       "Scholarship       0\n",
       "Hipertension      0\n",
       "Diabetes          0\n",
       "Alcoholism        0\n",
       "Handcap           0\n",
       "SMS_received      0\n",
       "No-show           0\n",
       "dtype: int64"
      ]
     },
     "execution_count": 20,
     "metadata": {},
     "output_type": "execute_result"
    }
   ],
   "source": [
    "df.isnull().sum()"
   ]
  },
  {
   "cell_type": "code",
   "execution_count": 12,
   "id": "57c51f85",
   "metadata": {},
   "outputs": [
    {
     "data": {
      "image/png": "[encoded data removed]",
      "text/plain": [
       "<Figure size 800x400 with 1 Axes>"
      ]
     },
     "metadata": {},
     "output_type": "display_data"
    }
   ],
   "source": [
    "plt.figure(figsize=(8, 4))\n",
    "df['No-show'].hist()\n",
    "plt.title('Соотношение людей, приходящих на приём, и пропускающих приёмы');"
   ]
  },
  {
   "cell_type": "code",
   "execution_count": 13,
   "id": "cebf19ca",
   "metadata": {},
   "outputs": [
    {
     "data": {
      "text/plain": [
       "No     0.798067\n",
       "Yes    0.201933\n",
       "Name: No-show, dtype: float64"
      ]
     },
     "execution_count": 13,
     "metadata": {},
     "output_type": "execute_result"
    }
   ],
   "source": [
    "df['No-show'].value_counts(normalize=True)"
   ]
  },
  {
   "cell_type": "code",
   "execution_count": 15,
   "id": "436c78ad",
   "metadata": {},
   "outputs": [
    {
     "data": {
      "text/plain": [
       "F    0.653882\n",
       "M    0.346118\n",
       "Name: Gender, dtype: float64"
      ]
     },
     "execution_count": 15,
     "metadata": {},
     "output_type": "execute_result"
    }
   ],
   "source": [
    "df[df['No-show'] == 'Yes']['Gender'].value_counts(normalize=True)"
   ]
  },
  {
   "cell_type": "code",
   "execution_count": 19,
   "id": "d439520a",
   "metadata": {},
   "outputs": [
    {
     "name": "stdout",
     "output_type": "stream",
     "text": [
      "<class 'pandas.core.frame.DataFrame'>\n",
      "RangeIndex: 110527 entries, 0 to 110526\n",
      "Data columns (total 95 columns):\n",
      " #   Column                                     Non-Null Count   Dtype  \n",
      "---  ------                                     --------------   -----  \n",
      " 0   PatientId                                  110527 non-null  float64\n",
      " 1   AppointmentID                              110527 non-null  int64  \n",
      " 2   ScheduledDay                               110527 non-null  object \n",
      " 3   AppointmentDay                             110527 non-null  object \n",
      " 4   Age                                        110527 non-null  int64  \n",
      " 5   Scholarship                                110527 non-null  int64  \n",
      " 6   Hipertension                               110527 non-null  int64  \n",
      " 7   Diabetes                                   110527 non-null  int64  \n",
      " 8   Alcoholism                                 110527 non-null  int64  \n",
      " 9   Handcap                                    110527 non-null  int64  \n",
      " 10  SMS_received                               110527 non-null  int64  \n",
      " 11  No-show                                    110527 non-null  object \n",
      " 12  Gender_F                                   110527 non-null  uint8  \n",
      " 13  Gender_M                                   110527 non-null  uint8  \n",
      " 14  Neighbourhood_AEROPORTO                    110527 non-null  uint8  \n",
      " 15  Neighbourhood_ANDORINHAS                   110527 non-null  uint8  \n",
      " 16  Neighbourhood_ANTÔNIO HONÓRIO              110527 non-null  uint8  \n",
      " 17  Neighbourhood_ARIOVALDO FAVALESSA          110527 non-null  uint8  \n",
      " 18  Neighbourhood_BARRO VERMELHO               110527 non-null  uint8  \n",
      " 19  Neighbourhood_BELA VISTA                   110527 non-null  uint8  \n",
      " 20  Neighbourhood_BENTO FERREIRA               110527 non-null  uint8  \n",
      " 21  Neighbourhood_BOA VISTA                    110527 non-null  uint8  \n",
      " 22  Neighbourhood_BONFIM                       110527 non-null  uint8  \n",
      " 23  Neighbourhood_CARATOÍRA                    110527 non-null  uint8  \n",
      " 24  Neighbourhood_CENTRO                       110527 non-null  uint8  \n",
      " 25  Neighbourhood_COMDUSA                      110527 non-null  uint8  \n",
      " 26  Neighbourhood_CONQUISTA                    110527 non-null  uint8  \n",
      " 27  Neighbourhood_CONSOLAÇÃO                   110527 non-null  uint8  \n",
      " 28  Neighbourhood_CRUZAMENTO                   110527 non-null  uint8  \n",
      " 29  Neighbourhood_DA PENHA                     110527 non-null  uint8  \n",
      " 30  Neighbourhood_DE LOURDES                   110527 non-null  uint8  \n",
      " 31  Neighbourhood_DO CABRAL                    110527 non-null  uint8  \n",
      " 32  Neighbourhood_DO MOSCOSO                   110527 non-null  uint8  \n",
      " 33  Neighbourhood_DO QUADRO                    110527 non-null  uint8  \n",
      " 34  Neighbourhood_ENSEADA DO SUÁ               110527 non-null  uint8  \n",
      " 35  Neighbourhood_ESTRELINHA                   110527 non-null  uint8  \n",
      " 36  Neighbourhood_FONTE GRANDE                 110527 non-null  uint8  \n",
      " 37  Neighbourhood_FORTE SÃO JOÃO               110527 non-null  uint8  \n",
      " 38  Neighbourhood_FRADINHOS                    110527 non-null  uint8  \n",
      " 39  Neighbourhood_GOIABEIRAS                   110527 non-null  uint8  \n",
      " 40  Neighbourhood_GRANDE VITÓRIA               110527 non-null  uint8  \n",
      " 41  Neighbourhood_GURIGICA                     110527 non-null  uint8  \n",
      " 42  Neighbourhood_HORTO                        110527 non-null  uint8  \n",
      " 43  Neighbourhood_ILHA DAS CAIEIRAS            110527 non-null  uint8  \n",
      " 44  Neighbourhood_ILHA DE SANTA MARIA          110527 non-null  uint8  \n",
      " 45  Neighbourhood_ILHA DO BOI                  110527 non-null  uint8  \n",
      " 46  Neighbourhood_ILHA DO FRADE                110527 non-null  uint8  \n",
      " 47  Neighbourhood_ILHA DO PRÍNCIPE             110527 non-null  uint8  \n",
      " 48  Neighbourhood_ILHAS OCEÂNICAS DE TRINDADE  110527 non-null  uint8  \n",
      " 49  Neighbourhood_INHANGUETÁ                   110527 non-null  uint8  \n",
      " 50  Neighbourhood_ITARARÉ                      110527 non-null  uint8  \n",
      " 51  Neighbourhood_JABOUR                       110527 non-null  uint8  \n",
      " 52  Neighbourhood_JARDIM CAMBURI               110527 non-null  uint8  \n",
      " 53  Neighbourhood_JARDIM DA PENHA              110527 non-null  uint8  \n",
      " 54  Neighbourhood_JESUS DE NAZARETH            110527 non-null  uint8  \n",
      " 55  Neighbourhood_JOANA D´ARC                  110527 non-null  uint8  \n",
      " 56  Neighbourhood_JUCUTUQUARA                  110527 non-null  uint8  \n",
      " 57  Neighbourhood_MARIA ORTIZ                  110527 non-null  uint8  \n",
      " 58  Neighbourhood_MARUÍPE                      110527 non-null  uint8  \n",
      " 59  Neighbourhood_MATA DA PRAIA                110527 non-null  uint8  \n",
      " 60  Neighbourhood_MONTE BELO                   110527 non-null  uint8  \n",
      " 61  Neighbourhood_MORADA DE CAMBURI            110527 non-null  uint8  \n",
      " 62  Neighbourhood_MÁRIO CYPRESTE               110527 non-null  uint8  \n",
      " 63  Neighbourhood_NAZARETH                     110527 non-null  uint8  \n",
      " 64  Neighbourhood_NOVA PALESTINA               110527 non-null  uint8  \n",
      " 65  Neighbourhood_PARQUE INDUSTRIAL            110527 non-null  uint8  \n",
      " 66  Neighbourhood_PARQUE MOSCOSO               110527 non-null  uint8  \n",
      " 67  Neighbourhood_PIEDADE                      110527 non-null  uint8  \n",
      " 68  Neighbourhood_PONTAL DE CAMBURI            110527 non-null  uint8  \n",
      " 69  Neighbourhood_PRAIA DO CANTO               110527 non-null  uint8  \n",
      " 70  Neighbourhood_PRAIA DO SUÁ                 110527 non-null  uint8  \n",
      " 71  Neighbourhood_REDENÇÃO                     110527 non-null  uint8  \n",
      " 72  Neighbourhood_REPÚBLICA                    110527 non-null  uint8  \n",
      " 73  Neighbourhood_RESISTÊNCIA                  110527 non-null  uint8  \n",
      " 74  Neighbourhood_ROMÃO                        110527 non-null  uint8  \n",
      " 75  Neighbourhood_SANTA CECÍLIA                110527 non-null  uint8  \n",
      " 76  Neighbourhood_SANTA CLARA                  110527 non-null  uint8  \n",
      " 77  Neighbourhood_SANTA HELENA                 110527 non-null  uint8  \n",
      " 78  Neighbourhood_SANTA LUÍZA                  110527 non-null  uint8  \n",
      " 79  Neighbourhood_SANTA LÚCIA                  110527 non-null  uint8  \n",
      " 80  Neighbourhood_SANTA MARTHA                 110527 non-null  uint8  \n",
      " 81  Neighbourhood_SANTA TEREZA                 110527 non-null  uint8  \n",
      " 82  Neighbourhood_SANTO ANDRÉ                  110527 non-null  uint8  \n",
      " 83  Neighbourhood_SANTO ANTÔNIO                110527 non-null  uint8  \n",
      " 84  Neighbourhood_SANTOS DUMONT                110527 non-null  uint8  \n",
      " 85  Neighbourhood_SANTOS REIS                  110527 non-null  uint8  \n",
      " 86  Neighbourhood_SEGURANÇA DO LAR             110527 non-null  uint8  \n",
      " 87  Neighbourhood_SOLON BORGES                 110527 non-null  uint8  \n",
      " 88  Neighbourhood_SÃO BENEDITO                 110527 non-null  uint8  \n",
      " 89  Neighbourhood_SÃO CRISTÓVÃO                110527 non-null  uint8  \n",
      " 90  Neighbourhood_SÃO JOSÉ                     110527 non-null  uint8  \n",
      " 91  Neighbourhood_SÃO PEDRO                    110527 non-null  uint8  \n",
      " 92  Neighbourhood_TABUAZEIRO                   110527 non-null  uint8  \n",
      " 93  Neighbourhood_UNIVERSITÁRIO                110527 non-null  uint8  \n",
      " 94  Neighbourhood_VILA RUBIM                   110527 non-null  uint8  \n",
      "dtypes: float64(1), int64(8), object(3), uint8(83)\n",
      "memory usage: 18.9+ MB\n"
     ]
    }
   ],
   "source": [
    "categorical_columns_names = ['Gender', 'Neighbourhood']\n",
    "encoded_columns = pd.get_dummies(df, columns=categorical_columns_names)\n",
    "encoded_columns.info()"
   ]
  },
  {
   "cell_type": "markdown",
   "id": "6371a200",
   "metadata": {},
   "source": [
    "## Логирование экспериментов ##"
   ]
  },
  {
   "cell_type": "code",
   "execution_count": 21,
   "id": "bcf9c61c",
   "metadata": {},
   "outputs": [
    {
     "name": "stderr",
     "output_type": "stream",
     "text": [
      "WARNING:root:This message is a warning\n",
      "ERROR:root:This is an error message\n",
      "CRITICAL:root:This is a critical message\n"
     ]
    }
   ],
   "source": [
    "logging.debug('This is a debug message')\n",
    "logging.info('This is an informational message')\n",
    "logging.warning('This message is a warning')\n",
    "logging.error('This is an error message')\n",
    "logging.critical('This is a critical message')"
   ]
  },
  {
   "cell_type": "markdown",
   "id": "c16f96ab",
   "metadata": {},
   "source": [
    "### Сброс настроек логирования ###"
   ]
  },
  {
   "cell_type": "code",
   "execution_count": 26,
   "id": "a6409c56",
   "metadata": {},
   "outputs": [],
   "source": [
    "from importlib import reload\n",
    "reload(logging)\n",
    "logging.basicConfig(level=logging.DEBUG)"
   ]
  },
  {
   "cell_type": "code",
   "execution_count": 27,
   "id": "6607338a",
   "metadata": {},
   "outputs": [
    {
     "name": "stderr",
     "output_type": "stream",
     "text": [
      "DEBUG:root:This is a debug message\n",
      "INFO:root:This is an informational message\n",
      "WARNING:root:This message is a warning\n",
      "ERROR:root:This is an error message\n",
      "CRITICAL:root:This is a critical message\n"
     ]
    }
   ],
   "source": [
    "logging.debug('This is a debug message')\n",
    "logging.info('This is an informational message')\n",
    "logging.warning('This message is a warning')\n",
    "logging.error('This is an error message')\n",
    "logging.critical('This is a critical message')"
   ]
  },
  {
   "cell_type": "code",
   "execution_count": 28,
   "id": "c0d7ebab",
   "metadata": {},
   "outputs": [
    {
     "name": "stderr",
     "output_type": "stream",
     "text": [
      "INFO: 2023-02-06 20:20:22,462: Check\n"
     ]
    }
   ],
   "source": [
    "reload(logging)\n",
    "logging.basicConfig(\n",
    "    format='%(levelname)s: %(asctime)s: %(message)s',\n",
    "    level=logging.DEBUG\n",
    ")\n",
    "logging.info('Check')"
   ]
  },
  {
   "cell_type": "markdown",
   "id": "7847ff02",
   "metadata": {},
   "source": [
    "## Логирование информации о данных ##"
   ]
  },
  {
   "cell_type": "code",
   "execution_count": 32,
   "id": "0679a5be",
   "metadata": {},
   "outputs": [],
   "source": [
    "# Функция для создания лог-файла и записи в него информации\n",
    "def get_logger(path, file):\n",
    "    ''' Создает лог-файл для логирования в него\n",
    "    Arguments:\n",
    "        path [str] -- путь к директории\n",
    "        file [str] -- имя файла\n",
    "    Returns:\n",
    "        [obj] -- Logger\n",
    "    '''\n",
    "    # проверяем, существует ли файл\n",
    "    log_file = os.path.join(path, file)\n",
    "    if not os.path.isfile(log_file):\n",
    "        open(log_file, 'w+').close()\n",
    "\n",
    "    # поменяем формат логирования\n",
    "    file_logging_format = '%(levelname)s: %(asctime)s: %(message)s'\n",
    "\n",
    "    # конфигурируем лог-файл\n",
    "    logging.basicConfig(level=logging.INFO, format=file_logging_format)\n",
    "    logger = logging.getLogger()\n",
    "\n",
    "    # создадим хэнлдер для записи лога в файл\n",
    "    handler = logging.FileHandler(log_file)\n",
    "\n",
    "    # установим уровень логирования\n",
    "    handler.setLevel(logging.INFO)\n",
    "\n",
    "    # создадим формат логирования, используя file_logging_format\n",
    "    formatter = logging.Formatter(file_logging_format)\n",
    "    handler.setFormatter(formatter)\n",
    "\n",
    "    # добавим хэндлер лог-файлу\n",
    "    logger.addHandler(handler)\n",
    "\n",
    "    return logger"
   ]
  },
  {
   "cell_type": "code",
   "execution_count": 33,
   "id": "cb1d14bd",
   "metadata": {},
   "outputs": [],
   "source": [
    "# создаем папку для логирования\n",
    "# !mkdir logs"
   ]
  },
  {
   "cell_type": "code",
   "execution_count": 34,
   "id": "a1157332",
   "metadata": {},
   "outputs": [],
   "source": [
    "# создаем лог-файл\n",
    "logger = get_logger(path=\"logs/\", file=\"data.logs\")"
   ]
  },
  {
   "cell_type": "code",
   "execution_count": 36,
   "id": "bdf560e6",
   "metadata": {},
   "outputs": [
    {
     "name": "stderr",
     "output_type": "stream",
     "text": [
      "INFO: 2023-02-06 20:46:26,040: Data\n"
     ]
    }
   ],
   "source": [
    "logger.info('Data')"
   ]
  },
  {
   "cell_type": "code",
   "execution_count": 37,
   "id": "f6257c2f",
   "metadata": {},
   "outputs": [
    {
     "name": "stderr",
     "output_type": "stream",
     "text": [
      "INFO: 2023-02-06 20:46:41,575: Data shape (110527, 14)\n"
     ]
    }
   ],
   "source": [
    "logger.info('Data shape {}'.format(df.shape))"
   ]
  },
  {
   "cell_type": "code",
   "execution_count": 38,
   "id": "34a85ee9",
   "metadata": {},
   "outputs": [
    {
     "name": "stderr",
     "output_type": "stream",
     "text": [
      "INFO: 2023-02-06 20:47:14,433: Percentage of women: 0.653882342398853\n"
     ]
    }
   ],
   "source": [
    "logger.info('Percentage of women: {}'.format(df[df['No-show'] == 'Yes']['Gender'].value_counts(True)[0]))"
   ]
  },
  {
   "cell_type": "code",
   "execution_count": 39,
   "id": "894ba51d",
   "metadata": {},
   "outputs": [
    {
     "name": "stderr",
     "output_type": "stream",
     "text": [
      "INFO: 2023-02-06 20:47:48,025: Percentage of men: 0.346117657601147\n"
     ]
    }
   ],
   "source": [
    "logger.info('Percentage of men: {}'.format(df[df['No-show'] == 'Yes']['Gender'].value_counts(True)[1]))"
   ]
  },
  {
   "cell_type": "code",
   "execution_count": 40,
   "id": "6f475f9b",
   "metadata": {},
   "outputs": [
    {
     "name": "stderr",
     "output_type": "stream",
     "text": [
      "ERROR: 2023-02-06 20:49:02,981: Data shape is incorrect!\n"
     ]
    }
   ],
   "source": [
    "if df.shape != (110526, 14):\n",
    "    logger.error('Data shape is incorrect!')"
   ]
  },
  {
   "cell_type": "code",
   "execution_count": null,
   "id": "8e2530d2",
   "metadata": {},
   "outputs": [],
   "source": []
  }
 ],
 "metadata": {
  "kernelspec": {
   "display_name": "Python 3",
   "language": "python",
   "name": "python3"
  },
  "language_info": {
   "codemirror_mode": {
    "name": "ipython",
    "version": 3
   },
   "file_extension": ".py",
   "mimetype": "text/x-python",
   "name": "python",
   "nbconvert_exporter": "python",
   "pygments_lexer": "ipython3",
   "version": "3.9.13"
  }
 },
 "nbformat": 4,
 "nbformat_minor": 5
}
