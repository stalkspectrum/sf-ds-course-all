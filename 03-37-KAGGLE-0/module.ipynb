{
 "cells": [
  {
   "cell_type": "code",
   "execution_count": 1,
   "metadata": {},
   "outputs": [],
   "source": [
    "import pandas as pd"
   ]
  },
  {
   "cell_type": "code",
   "execution_count": 2,
   "metadata": {},
   "outputs": [
    {
     "name": "stdout",
     "output_type": "stream",
     "text": [
      "<class 'pandas.core.frame.DataFrame'>\n",
      "RangeIndex: 10697 entries, 0 to 10696\n",
      "Data columns (total 2 columns):\n",
      " #   Column       Non-Null Count  Dtype\n",
      "---  ------       --------------  -----\n",
      " 0   row_ID       10697 non-null  int64\n",
      " 1   final_price  10697 non-null  int64\n",
      "dtypes: int64(2)\n",
      "memory usage: 167.3 KB\n"
     ]
    }
   ],
   "source": [
    "sample_df = pd.read_csv('data/sample_submission.csv')\n",
    "sample_df.info()"
   ]
  },
  {
   "cell_type": "code",
   "execution_count": 3,
   "metadata": {},
   "outputs": [
    {
     "name": "stdout",
     "output_type": "stream",
     "text": [
      "<class 'pandas.core.frame.DataFrame'>\n",
      "RangeIndex: 10697 entries, 0 to 10696\n",
      "Data columns (total 14 columns):\n",
      " #   Column                  Non-Null Count  Dtype \n",
      "---  ------                  --------------  ----- \n",
      " 0   row_ID                  10697 non-null  int64 \n",
      " 1   vehicle_manufacturer    10696 non-null  object\n",
      " 2   vehicle_model           10695 non-null  object\n",
      " 3   vehicle_category        10696 non-null  object\n",
      " 4   current_mileage         10697 non-null  int64 \n",
      " 5   vehicle_year            10697 non-null  int64 \n",
      " 6   vehicle_gearbox_type    10696 non-null  object\n",
      " 7   doors_cnt               10474 non-null  object\n",
      " 8   wheels                  10696 non-null  object\n",
      " 9   vehicle_color           10563 non-null  object\n",
      " 10  vehicle_interior_color  8619 non-null   object\n",
      " 11  car_vin                 3566 non-null   object\n",
      " 12  car_leather_interior    10697 non-null  int64 \n",
      " 13  deal_type               10697 non-null  object\n",
      "dtypes: int64(4), object(10)\n",
      "memory usage: 1.1+ MB\n"
     ]
    }
   ],
   "source": [
    "test_df = pd.read_csv('data/test_data.csv')\n",
    "test_df.info()"
   ]
  },
  {
   "cell_type": "code",
   "execution_count": 4,
   "metadata": {},
   "outputs": [
    {
     "name": "stdout",
     "output_type": "stream",
     "text": [
      "<class 'pandas.core.frame.DataFrame'>\n",
      "RangeIndex: 35000 entries, 0 to 34999\n",
      "Data columns (total 15 columns):\n",
      " #   Column                  Non-Null Count  Dtype  \n",
      "---  ------                  --------------  -----  \n",
      " 0   row_ID                  35000 non-null  int64  \n",
      " 1   vehicle_manufacturer    34999 non-null  object \n",
      " 2   vehicle_model           34993 non-null  object \n",
      " 3   vehicle_category        34999 non-null  object \n",
      " 4   current_mileage         35000 non-null  int64  \n",
      " 5   vehicle_year            35000 non-null  int64  \n",
      " 6   vehicle_gearbox_type    34999 non-null  object \n",
      " 7   doors_cnt               34255 non-null  object \n",
      " 8   wheels                  34999 non-null  object \n",
      " 9   vehicle_color           34599 non-null  object \n",
      " 10  vehicle_interior_color  28282 non-null  object \n",
      " 11  car_vin                 11488 non-null  object \n",
      " 12  car_leather_interior    35000 non-null  int64  \n",
      " 13  deal_type               35000 non-null  object \n",
      " 14  final_price             35000 non-null  float64\n",
      "dtypes: float64(1), int64(4), object(10)\n",
      "memory usage: 4.0+ MB\n"
     ]
    }
   ],
   "source": [
    "train_df = pd.read_csv('data/train_data.csv')\n",
    "train_df.info()"
   ]
  }
 ],
 "metadata": {
  "kernelspec": {
   "display_name": "Python 3",
   "language": "python",
   "name": "python3"
  },
  "language_info": {
   "codemirror_mode": {
    "name": "ipython",
    "version": 3
   },
   "file_extension": ".py",
   "mimetype": "text/x-python",
   "name": "python",
   "nbconvert_exporter": "python",
   "pygments_lexer": "ipython3",
   "version": "3.9.13"
  },
  "orig_nbformat": 4,
  "vscode": {
   "interpreter": {
    "hash": "3e13df3a8547c5852783334f7d5726168d2d3b1a8be6ee20b879430a7eed34d8"
   }
  }
 },
 "nbformat": 4,
 "nbformat_minor": 2
}
