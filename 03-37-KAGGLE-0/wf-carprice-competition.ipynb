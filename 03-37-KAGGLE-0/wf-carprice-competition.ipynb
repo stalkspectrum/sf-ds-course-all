{
 "cells": [
  {
   "cell_type": "code",
   "execution_count": 1,
   "metadata": {
    "_cell_guid": "b1076dfc-b9ad-4769-8c92-a6c4dae69d19",
    "_uuid": "8f2839f25d086af736a60e9eeb907d3b93b6e0e5",
    "execution": {
     "iopub.execute_input": "2023-03-14T15:43:33.406465Z",
     "iopub.status.busy": "2023-03-14T15:43:33.405561Z",
     "iopub.status.idle": "2023-03-14T15:43:33.437507Z",
     "shell.execute_reply": "2023-03-14T15:43:33.436494Z",
     "shell.execute_reply.started": "2023-03-14T15:43:33.406346Z"
    }
   },
   "outputs": [
    {
     "name": "stdout",
     "output_type": "stream",
     "text": [
      "/kaggle/input/sf-dst-predict-car-price/sample_submission.csv\n",
      "/kaggle/input/sf-dst-predict-car-price/train_data.csv\n",
      "/kaggle/input/sf-dst-predict-car-price/test_data.csv\n"
     ]
    }
   ],
   "source": [
    "# This Python 3 environment comes with many helpful analytics libraries installed\n",
    "# It is defined by the kaggle/python Docker image: https://github.com/kaggle/docker-python\n",
    "# For example, here's several helpful packages to load\n",
    "\n",
    "import numpy as np # linear algebra\n",
    "import pandas as pd # data processing, CSV file I/O (e.g. pd.read_csv)\n",
    "\n",
    "# Input data files are available in the read-only \"../input/\" directory\n",
    "# For example, running this (by clicking run or pressing Shift+Enter) will list all files under the input directory\n",
    "\n",
    "import os\n",
    "for dirname, _, filenames in os.walk('/kaggle/input'):\n",
    "    for filename in filenames:\n",
    "        print(os.path.join(dirname, filename))\n",
    "\n",
    "# You can write up to 20GB to the current directory (/kaggle/working/) that gets preserved as output when you create a version using \"Save & Run All\" \n",
    "# You can also write temporary files to /kaggle/temp/, but they won't be saved outside of the current session"
   ]
  },
  {
   "cell_type": "code",
   "execution_count": 2,
   "metadata": {
    "execution": {
     "iopub.execute_input": "2023-03-14T15:43:44.909965Z",
     "iopub.status.busy": "2023-03-14T15:43:44.909516Z",
     "iopub.status.idle": "2023-03-14T15:45:12.735839Z",
     "shell.execute_reply": "2023-03-14T15:45:12.734817Z",
     "shell.execute_reply.started": "2023-03-14T15:43:44.909926Z"
    }
   },
   "outputs": [
    {
     "name": "stdout",
     "output_type": "stream",
     "text": [
      "/bin/bash: /opt/conda/lib/libtinfo.so.6: no version information available (required by /bin/bash)\n",
      "Collecting lightautoml\n",
      "  Downloading LightAutoML-0.3.7.3-py3-none-any.whl (319 kB)\n",
      "\u001b[2K     \u001b[90m━━━━━━━━━━━━━━━━━━━━━━━━━━━━━━━━━━━━━━━\u001b[0m \u001b[32m319.6/319.6 kB\u001b[0m \u001b[31m9.3 MB/s\u001b[0m eta \u001b[36m0:00:00\u001b[0m\n",
      "\u001b[?25hRequirement already satisfied: torchvision in /opt/conda/lib/python3.7/site-packages (from lightautoml) (0.13.0+cpu)\n",
      "Collecting poetry-core<2.0.0,>=1.0.0\n",
      "  Downloading poetry_core-1.5.2-py3-none-any.whl (465 kB)\n",
      "\u001b[2K     \u001b[90m━━━━━━━━━━━━━━━━━━━━━━━━━━━━━━━━━━━━━━\u001b[0m \u001b[32m465.2/465.2 kB\u001b[0m \u001b[31m30.8 MB/s\u001b[0m eta \u001b[36m0:00:00\u001b[0m\n",
      "\u001b[?25hRequirement already satisfied: joblib in /opt/conda/lib/python3.7/site-packages (from lightautoml) (1.0.1)\n",
      "Requirement already satisfied: pandas<=1.3.5 in /opt/conda/lib/python3.7/site-packages (from lightautoml) (1.3.5)\n",
      "Requirement already satisfied: cmaes in /opt/conda/lib/python3.7/site-packages (from lightautoml) (0.9.1)\n",
      "Collecting lightgbm<=3.2.1,>=2.3\n",
      "  Downloading lightgbm-3.2.1-py3-none-manylinux1_x86_64.whl (2.0 MB)\n",
      "\u001b[2K     \u001b[90m━━━━━━━━━━━━━━━━━━━━━━━━━━━━━━━━━━━━━━━━\u001b[0m \u001b[32m2.0/2.0 MB\u001b[0m \u001b[31m59.5 MB/s\u001b[0m eta \u001b[36m0:00:00\u001b[0m\n",
      "\u001b[?25hRequirement already satisfied: holidays in /opt/conda/lib/python3.7/site-packages (from lightautoml) (0.19)\n",
      "Requirement already satisfied: networkx in /opt/conda/lib/python3.7/site-packages (from lightautoml) (2.7)\n",
      "Collecting json2html\n",
      "  Downloading json2html-1.3.0.tar.gz (7.0 kB)\n",
      "  Preparing metadata (setup.py) ... \u001b[?25ldone\n",
      "\u001b[?25hRequirement already satisfied: jinja2 in /opt/conda/lib/python3.7/site-packages (from lightautoml) (3.1.2)\n",
      "Requirement already satisfied: tqdm in /opt/conda/lib/python3.7/site-packages (from lightautoml) (4.64.1)\n",
      "Collecting torch<1.9\n",
      "  Downloading torch-1.8.1-cp37-cp37m-manylinux1_x86_64.whl (804.1 MB)\n",
      "\u001b[2K     \u001b[90m━━━━━━━━━━━━━━━━━━━━━━━━━━━━━━━━━━━━━━━\u001b[0m \u001b[32m804.1/804.1 MB\u001b[0m \u001b[31m1.4 MB/s\u001b[0m eta \u001b[36m0:00:00\u001b[0m00:01\u001b[0m00:01\u001b[0m\n",
      "\u001b[?25hRequirement already satisfied: optuna in /opt/conda/lib/python3.7/site-packages (from lightautoml) (3.1.0)\n",
      "Requirement already satisfied: catboost>=0.26.1 in /opt/conda/lib/python3.7/site-packages (from lightautoml) (1.1.1)\n",
      "Requirement already satisfied: scikit-learn>=0.22 in /opt/conda/lib/python3.7/site-packages (from lightautoml) (1.0.2)\n",
      "Collecting autowoe>=1.2\n",
      "  Downloading AutoWoE-1.3.2-py3-none-any.whl (215 kB)\n",
      "\u001b[2K     \u001b[90m━━━━━━━━━━━━━━━━━━━━━━━━━━━━━━━━━━━━━━\u001b[0m \u001b[32m215.7/215.7 kB\u001b[0m \u001b[31m19.4 MB/s\u001b[0m eta \u001b[36m0:00:00\u001b[0m\n",
      "\u001b[?25hRequirement already satisfied: pyyaml in /opt/conda/lib/python3.7/site-packages (from lightautoml) (6.0)\n",
      "Requirement already satisfied: seaborn in /opt/conda/lib/python3.7/site-packages (from lightautoml) (0.12.0)\n",
      "Collecting importlib-metadata<2.0,>=1.0\n",
      "  Downloading importlib_metadata-1.7.0-py2.py3-none-any.whl (31 kB)\n",
      "Requirement already satisfied: sphinx-rtd-theme in /opt/conda/lib/python3.7/site-packages (from autowoe>=1.2->lightautoml) (0.2.4)\n",
      "Requirement already satisfied: matplotlib in /opt/conda/lib/python3.7/site-packages (from autowoe>=1.2->lightautoml) (3.5.3)\n",
      "Requirement already satisfied: pytz in /opt/conda/lib/python3.7/site-packages (from autowoe>=1.2->lightautoml) (2022.2.1)\n",
      "Requirement already satisfied: numpy in /opt/conda/lib/python3.7/site-packages (from autowoe>=1.2->lightautoml) (1.21.6)\n",
      "Requirement already satisfied: scipy in /opt/conda/lib/python3.7/site-packages (from autowoe>=1.2->lightautoml) (1.7.3)\n",
      "Collecting StrEnum<0.5.0,>=0.4.7\n",
      "  Downloading StrEnum-0.4.9-py3-none-any.whl (7.6 kB)\n",
      "Requirement already satisfied: pytest in /opt/conda/lib/python3.7/site-packages (from autowoe>=1.2->lightautoml) (7.2.1)\n",
      "Collecting sphinx\n",
      "  Downloading sphinx-5.3.0-py3-none-any.whl (3.2 MB)\n",
      "\u001b[2K     \u001b[90m━━━━━━━━━━━━━━━━━━━━━━━━━━━━━━━━━━━━━━━━\u001b[0m \u001b[32m3.2/3.2 MB\u001b[0m \u001b[31m65.8 MB/s\u001b[0m eta \u001b[36m0:00:00\u001b[0m:00:01\u001b[0m\n",
      "\u001b[?25hRequirement already satisfied: six in /opt/conda/lib/python3.7/site-packages (from catboost>=0.26.1->lightautoml) (1.16.0)\n",
      "Requirement already satisfied: graphviz in /opt/conda/lib/python3.7/site-packages (from catboost>=0.26.1->lightautoml) (0.8.4)\n",
      "Requirement already satisfied: plotly in /opt/conda/lib/python3.7/site-packages (from catboost>=0.26.1->lightautoml) (5.13.0)\n",
      "Requirement already satisfied: zipp>=0.5 in /opt/conda/lib/python3.7/site-packages (from importlib-metadata<2.0,>=1.0->lightautoml) (3.8.1)\n",
      "Requirement already satisfied: wheel in /opt/conda/lib/python3.7/site-packages (from lightgbm<=3.2.1,>=2.3->lightautoml) (0.37.1)\n",
      "Requirement already satisfied: python-dateutil>=2.7.3 in /opt/conda/lib/python3.7/site-packages (from pandas<=1.3.5->lightautoml) (2.8.2)\n",
      "Requirement already satisfied: threadpoolctl>=2.0.0 in /opt/conda/lib/python3.7/site-packages (from scikit-learn>=0.22->lightautoml) (3.1.0)\n",
      "Requirement already satisfied: typing-extensions in /opt/conda/lib/python3.7/site-packages (from torch<1.9->lightautoml) (4.1.1)\n",
      "Requirement already satisfied: PyMeeus in /opt/conda/lib/python3.7/site-packages (from holidays->lightautoml) (0.5.12)\n",
      "Requirement already satisfied: convertdate>=2.3.0 in /opt/conda/lib/python3.7/site-packages (from holidays->lightautoml) (2.4.0)\n",
      "Requirement already satisfied: hijri-converter in /opt/conda/lib/python3.7/site-packages (from holidays->lightautoml) (2.2.4)\n",
      "Requirement already satisfied: korean-lunar-calendar in /opt/conda/lib/python3.7/site-packages (from holidays->lightautoml) (0.3.1)\n",
      "Requirement already satisfied: MarkupSafe>=2.0 in /opt/conda/lib/python3.7/site-packages (from jinja2->lightautoml) (2.1.2)\n",
      "Requirement already satisfied: sqlalchemy>=1.3.0 in /opt/conda/lib/python3.7/site-packages (from optuna->lightautoml) (1.4.41)\n",
      "Requirement already satisfied: packaging>=20.0 in /opt/conda/lib/python3.7/site-packages (from optuna->lightautoml) (23.0)\n",
      "Requirement already satisfied: alembic>=1.5.0 in /opt/conda/lib/python3.7/site-packages (from optuna->lightautoml) (1.9.3)\n",
      "Requirement already satisfied: colorlog in /opt/conda/lib/python3.7/site-packages (from optuna->lightautoml) (6.7.0)\n",
      "Collecting torchvision\n",
      "  Downloading torchvision-0.14.1-cp37-cp37m-manylinux1_x86_64.whl (24.2 MB)\n",
      "\u001b[2K     \u001b[90m━━━━━━━━━━━━━━━━━━━━━━━━━━━━━━━━━━━━━━━━\u001b[0m \u001b[32m24.2/24.2 MB\u001b[0m \u001b[31m42.7 MB/s\u001b[0m eta \u001b[36m0:00:00\u001b[0m00:01\u001b[0m00:01\u001b[0m\n",
      "\u001b[?25hRequirement already satisfied: requests in /opt/conda/lib/python3.7/site-packages (from torchvision->lightautoml) (2.28.1)\n",
      "Requirement already satisfied: pillow!=8.3.*,>=5.3.0 in /opt/conda/lib/python3.7/site-packages (from torchvision->lightautoml) (9.2.0)\n",
      "  Downloading torchvision-0.14.0-cp37-cp37m-manylinux1_x86_64.whl (24.3 MB)\n",
      "\u001b[2K     \u001b[90m━━━━━━━━━━━━━━━━━━━━━━━━━━━━━━━━━━━━━━━━\u001b[0m \u001b[32m24.3/24.3 MB\u001b[0m \u001b[31m47.1 MB/s\u001b[0m eta \u001b[36m0:00:00\u001b[0m00:01\u001b[0m00:01\u001b[0m\n",
      "\u001b[?25h  Downloading torchvision-0.13.1-cp37-cp37m-manylinux1_x86_64.whl (19.1 MB)\n",
      "\u001b[2K     \u001b[90m━━━━━━━━━━━━━━━━━━━━━━━━━━━━━━━━━━━━━━━━\u001b[0m \u001b[32m19.1/19.1 MB\u001b[0m \u001b[31m52.7 MB/s\u001b[0m eta \u001b[36m0:00:00\u001b[0m00:01\u001b[0m00:01\u001b[0m\n",
      "\u001b[?25h  Downloading torchvision-0.13.0-cp37-cp37m-manylinux1_x86_64.whl (19.1 MB)\n",
      "\u001b[2K     \u001b[90m━━━━━━━━━━━━━━━━━━━━━━━━━━━━━━━━━━━━━━━━\u001b[0m \u001b[32m19.1/19.1 MB\u001b[0m \u001b[31m64.6 MB/s\u001b[0m eta \u001b[36m0:00:00\u001b[0m00:01\u001b[0m00:01\u001b[0m\n",
      "\u001b[?25h  Downloading torchvision-0.12.0-cp37-cp37m-manylinux1_x86_64.whl (21.0 MB)\n",
      "\u001b[2K     \u001b[90m━━━━━━━━━━━━━━━━━━━━━━━━━━━━━━━━━━━━━━━━\u001b[0m \u001b[32m21.0/21.0 MB\u001b[0m \u001b[31m63.0 MB/s\u001b[0m eta \u001b[36m0:00:00\u001b[0m00:01\u001b[0m00:01\u001b[0m\n",
      "\u001b[?25h  Downloading torchvision-0.11.3-cp37-cp37m-manylinux1_x86_64.whl (23.2 MB)\n",
      "\u001b[2K     \u001b[90m━━━━━━━━━━━━━━━━━━━━━━━━━━━━━━━━━━━━━━━━\u001b[0m \u001b[32m23.2/23.2 MB\u001b[0m \u001b[31m22.5 MB/s\u001b[0m eta \u001b[36m0:00:00\u001b[0m00:01\u001b[0m00:01\u001b[0m\n",
      "\u001b[?25h  Downloading torchvision-0.11.2-cp37-cp37m-manylinux1_x86_64.whl (23.3 MB)\n",
      "\u001b[2K     \u001b[90m━━━━━━━━━━━━━━━━━━━━━━━━━━━━━━━━━━━━━━━━\u001b[0m \u001b[32m23.3/23.3 MB\u001b[0m \u001b[31m58.5 MB/s\u001b[0m eta \u001b[36m0:00:00\u001b[0m00:01\u001b[0m00:01\u001b[0m\n",
      "\u001b[?25h  Downloading torchvision-0.11.1-cp37-cp37m-manylinux1_x86_64.whl (23.3 MB)\n",
      "\u001b[2K     \u001b[90m━━━━━━━━━━━━━━━━━━━━━━━━━━━━━━━━━━━━━━━━\u001b[0m \u001b[32m23.3/23.3 MB\u001b[0m \u001b[31m58.6 MB/s\u001b[0m eta \u001b[36m0:00:00\u001b[0m00:01\u001b[0m00:01\u001b[0m\n",
      "\u001b[?25h  Downloading torchvision-0.10.1-cp37-cp37m-manylinux1_x86_64.whl (22.1 MB)\n",
      "\u001b[2K     \u001b[90m━━━━━━━━━━━━━━━━━━━━━━━━━━━━━━━━━━━━━━━━\u001b[0m \u001b[32m22.1/22.1 MB\u001b[0m \u001b[31m60.6 MB/s\u001b[0m eta \u001b[36m0:00:00\u001b[0m00:01\u001b[0m00:01\u001b[0m\n",
      "\u001b[?25h  Downloading torchvision-0.10.0-cp37-cp37m-manylinux1_x86_64.whl (22.1 MB)\n",
      "\u001b[2K     \u001b[90m━━━━━━━━━━━━━━━━━━━━━━━━━━━━━━━━━━━━━━━━\u001b[0m \u001b[32m22.1/22.1 MB\u001b[0m \u001b[31m59.0 MB/s\u001b[0m eta \u001b[36m0:00:00\u001b[0m00:01\u001b[0m00:01\u001b[0m\n",
      "\u001b[?25h  Downloading torchvision-0.9.1-cp37-cp37m-manylinux1_x86_64.whl (17.4 MB)\n",
      "\u001b[2K     \u001b[90m━━━━━━━━━━━━━━━━━━━━━━━━━━━━━━━━━━━━━━━━\u001b[0m \u001b[32m17.4/17.4 MB\u001b[0m \u001b[31m62.6 MB/s\u001b[0m eta \u001b[36m0:00:00\u001b[0m00:01\u001b[0m00:01\u001b[0m\n",
      "\u001b[?25hRequirement already satisfied: Mako in /opt/conda/lib/python3.7/site-packages (from alembic>=1.5.0->optuna->lightautoml) (1.2.4)\n",
      "Requirement already satisfied: importlib-resources in /opt/conda/lib/python3.7/site-packages (from alembic>=1.5.0->optuna->lightautoml) (5.10.2)\n",
      "Requirement already satisfied: fonttools>=4.22.0 in /opt/conda/lib/python3.7/site-packages (from matplotlib->autowoe>=1.2->lightautoml) (4.37.1)\n",
      "Requirement already satisfied: cycler>=0.10 in /opt/conda/lib/python3.7/site-packages (from matplotlib->autowoe>=1.2->lightautoml) (0.11.0)\n",
      "Requirement already satisfied: pyparsing>=2.2.1 in /opt/conda/lib/python3.7/site-packages (from matplotlib->autowoe>=1.2->lightautoml) (3.0.9)\n",
      "Requirement already satisfied: kiwisolver>=1.0.1 in /opt/conda/lib/python3.7/site-packages (from matplotlib->autowoe>=1.2->lightautoml) (1.4.4)\n",
      "Requirement already satisfied: greenlet!=0.4.17 in /opt/conda/lib/python3.7/site-packages (from sqlalchemy>=1.3.0->optuna->lightautoml) (1.1.3)\n",
      "Requirement already satisfied: tenacity>=6.2.0 in /opt/conda/lib/python3.7/site-packages (from plotly->catboost>=0.26.1->lightautoml) (8.0.1)\n",
      "Requirement already satisfied: tomli>=1.0.0 in /opt/conda/lib/python3.7/site-packages (from pytest->autowoe>=1.2->lightautoml) (2.0.1)\n",
      "Requirement already satisfied: exceptiongroup>=1.0.0rc8 in /opt/conda/lib/python3.7/site-packages (from pytest->autowoe>=1.2->lightautoml) (1.1.0)\n",
      "Requirement already satisfied: attrs>=19.2.0 in /opt/conda/lib/python3.7/site-packages (from pytest->autowoe>=1.2->lightautoml) (22.1.0)\n",
      "Requirement already satisfied: iniconfig in /opt/conda/lib/python3.7/site-packages (from pytest->autowoe>=1.2->lightautoml) (2.0.0)\n",
      "Requirement already satisfied: pluggy<2.0,>=0.12 in /opt/conda/lib/python3.7/site-packages (from pytest->autowoe>=1.2->lightautoml) (1.0.0)\n",
      "Collecting sphinxcontrib-qthelp\n",
      "  Downloading sphinxcontrib_qthelp-1.0.3-py2.py3-none-any.whl (90 kB)\n",
      "\u001b[2K     \u001b[90m━━━━━━━━━━━━━━━━━━━━━━━━━━━━━━━━━━━━━━━━\u001b[0m \u001b[32m90.6/90.6 kB\u001b[0m \u001b[31m8.3 MB/s\u001b[0m eta \u001b[36m0:00:00\u001b[0m\n",
      "\u001b[?25hCollecting sphinx\n",
      "  Downloading sphinx-5.2.3-py3-none-any.whl (3.2 MB)\n",
      "\u001b[2K     \u001b[90m━━━━━━━━━━━━━━━━━━━━━━━━━━━━━━━━━━━━━━━━\u001b[0m \u001b[32m3.2/3.2 MB\u001b[0m \u001b[31m70.2 MB/s\u001b[0m eta \u001b[36m0:00:00\u001b[0m:00:01\u001b[0m\n",
      "\u001b[?25h  Downloading sphinx-5.2.2-py3-none-any.whl (3.2 MB)\n",
      "\u001b[2K     \u001b[90m━━━━━━━━━━━━━━━━━━━━━━━━━━━━━━━━━━━━━━━━\u001b[0m \u001b[32m3.2/3.2 MB\u001b[0m \u001b[31m67.2 MB/s\u001b[0m eta \u001b[36m0:00:00\u001b[0m:00:01\u001b[0m\n",
      "\u001b[?25h  Downloading sphinx-5.2.1-py3-none-any.whl (3.2 MB)\n",
      "\u001b[2K     \u001b[90m━━━━━━━━━━━━━━━━━━━━━━━━━━━━━━━━━━━━━━━━\u001b[0m \u001b[32m3.2/3.2 MB\u001b[0m \u001b[31m75.7 MB/s\u001b[0m eta \u001b[36m0:00:00\u001b[0m:00:01\u001b[0m\n",
      "\u001b[?25h  Downloading sphinx-5.2.0.post0-py3-none-any.whl (3.2 MB)\n",
      "\u001b[2K     \u001b[90m━━━━━━━━━━━━━━━━━━━━━━━━━━━━━━━━━━━━━━━━\u001b[0m \u001b[32m3.2/3.2 MB\u001b[0m \u001b[31m72.9 MB/s\u001b[0m eta \u001b[36m0:00:00\u001b[0m:00:01\u001b[0m\n",
      "\u001b[?25h  Downloading sphinx-5.2.0-py3-none-any.whl (3.2 MB)\n",
      "\u001b[2K     \u001b[90m━━━━━━━━━━━━━━━━━━━━━━━━━━━━━━━━━━━━━━━━\u001b[0m \u001b[32m3.2/3.2 MB\u001b[0m \u001b[31m68.4 MB/s\u001b[0m eta \u001b[36m0:00:00\u001b[0m:00:01\u001b[0m\n",
      "\u001b[?25h  Downloading Sphinx-5.1.1-py3-none-any.whl (3.2 MB)\n",
      "\u001b[2K     \u001b[90m━━━━━━━━━━━━━━━━━━━━━━━━━━━━━━━━━━━━━━━━\u001b[0m \u001b[32m3.2/3.2 MB\u001b[0m \u001b[31m70.9 MB/s\u001b[0m eta \u001b[36m0:00:00\u001b[0m:00:01\u001b[0m\n",
      "\u001b[?25hCollecting sphinxcontrib-serializinghtml>=1.1.5\n",
      "  Downloading sphinxcontrib_serializinghtml-1.1.5-py2.py3-none-any.whl (94 kB)\n",
      "\u001b[2K     \u001b[90m━━━━━━━━━━━━━━━━━━━━━━━━━━━━━━━━━━━━━━━━\u001b[0m \u001b[32m94.0/94.0 kB\u001b[0m \u001b[31m8.7 MB/s\u001b[0m eta \u001b[36m0:00:00\u001b[0m\n",
      "\u001b[?25hCollecting imagesize\n",
      "  Downloading imagesize-1.4.1-py2.py3-none-any.whl (8.8 kB)\n",
      "Requirement already satisfied: Pygments>=2.0 in /opt/conda/lib/python3.7/site-packages (from sphinx->autowoe>=1.2->lightautoml) (2.14.0)\n",
      "Collecting alabaster<0.8,>=0.7\n",
      "  Downloading alabaster-0.7.13-py3-none-any.whl (13 kB)\n",
      "Collecting sphinx\n",
      "  Downloading Sphinx-5.1.0-py3-none-any.whl (3.2 MB)\n",
      "\u001b[2K     \u001b[90m━━━━━━━━━━━━━━━━━━━━━━━━━━━━━━━━━━━━━━━━\u001b[0m \u001b[32m3.2/3.2 MB\u001b[0m \u001b[31m70.3 MB/s\u001b[0m eta \u001b[36m0:00:00\u001b[0m:00:01\u001b[0m\n",
      "\u001b[?25h  Downloading Sphinx-5.0.2-py3-none-any.whl (3.1 MB)\n",
      "\u001b[2K     \u001b[90m━━━━━━━━━━━━━━━━━━━━━━━━━━━━━━━━━━━━━━━━\u001b[0m \u001b[32m3.1/3.1 MB\u001b[0m \u001b[31m75.9 MB/s\u001b[0m eta \u001b[36m0:00:00\u001b[0m:00:01\u001b[0m\n",
      "\u001b[?25h  Downloading Sphinx-5.0.1-py3-none-any.whl (3.1 MB)\n",
      "\u001b[2K     \u001b[90m━━━━━━━━━━━━━━━━━━━━━━━━━━━━━━━━━━━━━━━━\u001b[0m \u001b[32m3.1/3.1 MB\u001b[0m \u001b[31m70.6 MB/s\u001b[0m eta \u001b[36m0:00:00\u001b[0m:00:01\u001b[0m\n",
      "\u001b[?25h  Downloading Sphinx-5.0.0-py3-none-any.whl (3.1 MB)\n",
      "\u001b[2K     \u001b[90m━━━━━━━━━━━━━━━━━━━━━━━━━━━━━━━━━━━━━━━━\u001b[0m \u001b[32m3.1/3.1 MB\u001b[0m \u001b[31m70.1 MB/s\u001b[0m eta \u001b[36m0:00:00\u001b[0m:00:01\u001b[0m\n",
      "\u001b[?25h  Downloading Sphinx-4.5.0-py3-none-any.whl (3.1 MB)\n",
      "\u001b[2K     \u001b[90m━━━━━━━━━━━━━━━━━━━━━━━━━━━━━━━━━━━━━━━━\u001b[0m \u001b[32m3.1/3.1 MB\u001b[0m \u001b[31m70.4 MB/s\u001b[0m eta \u001b[36m0:00:00\u001b[0m:00:01\u001b[0m\n",
      "\u001b[?25h  Downloading Sphinx-4.4.0-py3-none-any.whl (3.1 MB)\n",
      "\u001b[2K     \u001b[90m━━━━━━━━━━━━━━━━━━━━━━━━━━━━━━━━━━━━━━━━\u001b[0m \u001b[32m3.1/3.1 MB\u001b[0m \u001b[31m75.9 MB/s\u001b[0m eta \u001b[36m0:00:00\u001b[0m:00:01\u001b[0m\n",
      "\u001b[?25h  Downloading Sphinx-4.3.2-py3-none-any.whl (3.1 MB)\n",
      "\u001b[2K     \u001b[90m━━━━━━━━━━━━━━━━━━━━━━━━━━━━━━━━━━━━━━━━\u001b[0m \u001b[32m3.1/3.1 MB\u001b[0m \u001b[31m72.7 MB/s\u001b[0m eta \u001b[36m0:00:00\u001b[0m:00:01\u001b[0m\n",
      "\u001b[?25hCollecting sphinxcontrib-applehelp\n",
      "  Downloading sphinxcontrib_applehelp-1.0.2-py2.py3-none-any.whl (121 kB)\n",
      "\u001b[2K     \u001b[90m━━━━━━━━━━━━━━━━━━━━━━━━━━━━━━━━━━━━━━\u001b[0m \u001b[32m121.2/121.2 kB\u001b[0m \u001b[31m12.2 MB/s\u001b[0m eta \u001b[36m0:00:00\u001b[0m\n",
      "\u001b[?25hCollecting sphinxcontrib-jsmath\n",
      "  Downloading sphinxcontrib_jsmath-1.0.1-py2.py3-none-any.whl (5.1 kB)\n",
      "Collecting sphinxcontrib-htmlhelp>=2.0.0\n",
      "  Downloading sphinxcontrib_htmlhelp-2.0.0-py2.py3-none-any.whl (100 kB)\n",
      "\u001b[2K     \u001b[90m━━━━━━━━━━━━━━━━━━━━━━━━━━━━━━━━━━━━━━\u001b[0m \u001b[32m100.5/100.5 kB\u001b[0m \u001b[31m10.2 MB/s\u001b[0m eta \u001b[36m0:00:00\u001b[0m\n",
      "\u001b[?25hCollecting docutils<0.18,>=0.14\n",
      "  Downloading docutils-0.17.1-py2.py3-none-any.whl (575 kB)\n",
      "\u001b[2K     \u001b[90m━━━━━━━━━━━━━━━━━━━━━━━━━━━━━━━━━━━━━━\u001b[0m \u001b[32m575.5/575.5 kB\u001b[0m \u001b[31m40.8 MB/s\u001b[0m eta \u001b[36m0:00:00\u001b[0m\n",
      "\u001b[?25hRequirement already satisfied: setuptools in /opt/conda/lib/python3.7/site-packages (from sphinx->autowoe>=1.2->lightautoml) (59.8.0)\n",
      "Requirement already satisfied: babel>=1.3 in /opt/conda/lib/python3.7/site-packages (from sphinx->autowoe>=1.2->lightautoml) (2.10.3)\n",
      "Collecting sphinxcontrib-devhelp\n",
      "  Downloading sphinxcontrib_devhelp-1.0.2-py2.py3-none-any.whl (84 kB)\n",
      "\u001b[2K     \u001b[90m━━━━━━━━━━━━━━━━━━━━━━━━━━━━━━━━━━━━━━━━\u001b[0m \u001b[32m84.7/84.7 kB\u001b[0m \u001b[31m9.0 MB/s\u001b[0m eta \u001b[36m0:00:00\u001b[0m\n",
      "\u001b[?25hRequirement already satisfied: snowballstemmer>=1.1 in /opt/conda/lib/python3.7/site-packages (from sphinx->autowoe>=1.2->lightautoml) (2.2.0)\n",
      "Requirement already satisfied: certifi>=2017.4.17 in /opt/conda/lib/python3.7/site-packages (from requests->torchvision->lightautoml) (2022.12.7)\n",
      "Requirement already satisfied: idna<4,>=2.5 in /opt/conda/lib/python3.7/site-packages (from requests->torchvision->lightautoml) (3.3)\n",
      "Requirement already satisfied: charset-normalizer<3,>=2 in /opt/conda/lib/python3.7/site-packages (from requests->torchvision->lightautoml) (2.1.1)\n",
      "Requirement already satisfied: urllib3<1.27,>=1.21.1 in /opt/conda/lib/python3.7/site-packages (from requests->torchvision->lightautoml) (1.26.11)\n",
      "Building wheels for collected packages: json2html\n",
      "  Building wheel for json2html (setup.py) ... \u001b[?25ldone\n",
      "\u001b[?25h  Created wheel for json2html: filename=json2html-1.3.0-py3-none-any.whl size=7609 sha256=4110c331d56d5dd19046d1c9708d17fdab5a530c24298f11f6f7e893126392e6\n",
      "  Stored in directory: /root/.cache/pip/wheels/e5/99/37/e1839a5ad733e0d6abb7e0419fd913e8926ddf96408239ce01\n",
      "Successfully built json2html\n",
      "Installing collected packages: StrEnum, json2html, torch, sphinxcontrib-serializinghtml, sphinxcontrib-qthelp, sphinxcontrib-jsmath, sphinxcontrib-htmlhelp, sphinxcontrib-devhelp, sphinxcontrib-applehelp, importlib-metadata, imagesize, docutils, alabaster, torchvision, sphinx, poetry-core, lightgbm, autowoe, lightautoml\n",
      "  Attempting uninstall: torch\n",
      "    Found existing installation: torch 1.12.0+cpu\n",
      "    Uninstalling torch-1.12.0+cpu:\n",
      "      Successfully uninstalled torch-1.12.0+cpu\n",
      "  Attempting uninstall: importlib-metadata\n",
      "    Found existing installation: importlib-metadata 6.0.0\n",
      "    Uninstalling importlib-metadata-6.0.0:\n",
      "      Successfully uninstalled importlib-metadata-6.0.0\n",
      "  Attempting uninstall: docutils\n",
      "    Found existing installation: docutils 0.19\n",
      "    Uninstalling docutils-0.19:\n",
      "      Successfully uninstalled docutils-0.19\n",
      "  Attempting uninstall: torchvision\n",
      "    Found existing installation: torchvision 0.13.0+cpu\n",
      "    Uninstalling torchvision-0.13.0+cpu:\n",
      "      Successfully uninstalled torchvision-0.13.0+cpu\n",
      "  Attempting uninstall: lightgbm\n",
      "    Found existing installation: lightgbm 3.3.2\n",
      "    Uninstalling lightgbm-3.3.2:\n",
      "      Successfully uninstalled lightgbm-3.3.2\n",
      "\u001b[31mERROR: pip's dependency resolver does not currently take into account all the packages that are installed. This behaviour is the source of the following dependency conflicts.\n",
      "virtualenv 20.16.5 requires importlib-metadata>=4.8.3; python_version < \"3.8\", but you have importlib-metadata 1.7.0 which is incompatible.\n",
      "torchtext 0.13.0 requires torch==1.12.0, but you have torch 1.8.1 which is incompatible.\n",
      "torchaudio 0.12.0+cpu requires torch==1.12.0, but you have torch 1.8.1 which is incompatible.\n",
      "pytorch-lightning 1.9.2 requires torch>=1.10.0, but you have torch 1.8.1 which is incompatible.\n",
      "pynndescent 0.5.8 requires importlib-metadata>=4.8.1; python_version < \"3.8\", but you have importlib-metadata 1.7.0 which is incompatible.\n",
      "pydocstyle 6.2.3 requires importlib-metadata<5.0.0,>=2.0.0; python_version < \"3.8\", but you have importlib-metadata 1.7.0 which is incompatible.\n",
      "markdown 3.4.1 requires importlib-metadata>=4.4; python_version < \"3.10\", but you have importlib-metadata 1.7.0 which is incompatible.\n",
      "lightning-utilities 0.6.0.post0 requires importlib-metadata>=4.0.0; python_version < \"3.8\", but you have importlib-metadata 1.7.0 which is incompatible.\n",
      "keyring 23.9.1 requires importlib-metadata>=3.6; python_version < \"3.10\", but you have importlib-metadata 1.7.0 which is incompatible.\n",
      "ibis-framework 2.1.1 requires importlib-metadata<5,>=4; python_version < \"3.8\", but you have importlib-metadata 1.7.0 which is incompatible.\n",
      "gym 0.26.2 requires importlib-metadata>=4.8.0; python_version < \"3.10\", but you have importlib-metadata 1.7.0 which is incompatible.\n",
      "flask 2.2.3 requires importlib-metadata>=3.6.0; python_version < \"3.10\", but you have importlib-metadata 1.7.0 which is incompatible.\n",
      "cmudict 1.0.13 requires importlib-metadata<6.0.0,>=5.1.0, but you have importlib-metadata 1.7.0 which is incompatible.\n",
      "allennlp 2.10.1 requires torch<1.13.0,>=1.10.0, but you have torch 1.8.1 which is incompatible.\u001b[0m\u001b[31m\n",
      "\u001b[0mSuccessfully installed StrEnum-0.4.9 alabaster-0.7.13 autowoe-1.3.2 docutils-0.17.1 imagesize-1.4.1 importlib-metadata-1.7.0 json2html-1.3.0 lightautoml-0.3.7.3 lightgbm-3.2.1 poetry-core-1.5.2 sphinx-4.3.2 sphinxcontrib-applehelp-1.0.2 sphinxcontrib-devhelp-1.0.2 sphinxcontrib-htmlhelp-2.0.0 sphinxcontrib-jsmath-1.0.1 sphinxcontrib-qthelp-1.0.3 sphinxcontrib-serializinghtml-1.1.5 torch-1.8.1 torchvision-0.9.1\n",
      "\u001b[33mWARNING: Running pip as the 'root' user can result in broken permissions and conflicting behaviour with the system package manager. It is recommended to use a virtual environment instead: https://pip.pypa.io/warnings/venv\u001b[0m\u001b[33m\n",
      "\u001b[0m"
     ]
    }
   ],
   "source": [
    "!pip install lightautoml"
   ]
  },
  {
   "cell_type": "code",
   "execution_count": 3,
   "metadata": {
    "execution": {
     "iopub.execute_input": "2023-03-14T15:45:32.265432Z",
     "iopub.status.busy": "2023-03-14T15:45:32.264949Z",
     "iopub.status.idle": "2023-03-14T15:45:35.238264Z",
     "shell.execute_reply": "2023-03-14T15:45:35.237219Z",
     "shell.execute_reply.started": "2023-03-14T15:45:32.265390Z"
    }
   },
   "outputs": [
    {
     "data": {
      "text/html": [
       "<style type='text/css'>\n",
       ".datatable table.frame { margin-bottom: 0; }\n",
       ".datatable table.frame thead { border-bottom: none; }\n",
       ".datatable table.frame tr.coltypes td {  color: #FFFFFF;  line-height: 6px;  padding: 0 0.5em;}\n",
       ".datatable .bool    { background: #DDDD99; }\n",
       ".datatable .object  { background: #565656; }\n",
       ".datatable .int     { background: #5D9E5D; }\n",
       ".datatable .float   { background: #4040CC; }\n",
       ".datatable .str     { background: #CC4040; }\n",
       ".datatable .time    { background: #40CC40; }\n",
       ".datatable .row_index {  background: var(--jp-border-color3);  border-right: 1px solid var(--jp-border-color0);  color: var(--jp-ui-font-color3);  font-size: 9px;}\n",
       ".datatable .frame tbody td { text-align: left; }\n",
       ".datatable .frame tr.coltypes .row_index {  background: var(--jp-border-color0);}\n",
       ".datatable th:nth-child(2) { padding-left: 12px; }\n",
       ".datatable .hellipsis {  color: var(--jp-cell-editor-border-color);}\n",
       ".datatable .vellipsis {  background: var(--jp-layout-color0);  color: var(--jp-cell-editor-border-color);}\n",
       ".datatable .na {  color: var(--jp-cell-editor-border-color);  font-size: 80%;}\n",
       ".datatable .sp {  opacity: 0.25;}\n",
       ".datatable .footer { font-size: 9px; }\n",
       ".datatable .frame_dimensions {  background: var(--jp-border-color3);  border-top: 1px solid var(--jp-border-color0);  color: var(--jp-ui-font-color3);  display: inline-block;  opacity: 0.6;  padding: 1px 10px 1px 5px;}\n",
       "</style>\n"
      ],
      "text/plain": [
       "<IPython.core.display.HTML object>"
      ]
     },
     "metadata": {},
     "output_type": "display_data"
    }
   ],
   "source": [
    "import time\n",
    "from sklearn.metrics import mean_absolute_error\n",
    "from sklearn.model_selection import train_test_split\n",
    "import torch\n",
    "from sklearn.metrics import mean_absolute_error\n",
    "from sklearn.model_selection import train_test_split\n",
    "from lightautoml.automl.presets.tabular_presets import TabularAutoML\n",
    "from lightautoml.tasks import Task"
   ]
  },
  {
   "cell_type": "code",
   "execution_count": 4,
   "metadata": {
    "execution": {
     "iopub.execute_input": "2023-03-14T15:45:40.363910Z",
     "iopub.status.busy": "2023-03-14T15:45:40.363460Z",
     "iopub.status.idle": "2023-03-14T15:45:40.397374Z",
     "shell.execute_reply": "2023-03-14T15:45:40.394804Z",
     "shell.execute_reply.started": "2023-03-14T15:45:40.363873Z"
    }
   },
   "outputs": [],
   "source": [
    "N_THREADS = 4\n",
    "N_FOLDS = 5\n",
    "RANDOM_STATE = 42\n",
    "TEST_SIZE = 0.2\n",
    "TIMEOUT = 3600\n",
    "TARGET_NAME = 'final_price'\n",
    "np.random.seed(RANDOM_STATE)\n",
    "torch.set_num_threads(N_THREADS)"
   ]
  },
  {
   "cell_type": "code",
   "execution_count": 5,
   "metadata": {
    "execution": {
     "iopub.execute_input": "2023-03-14T15:45:44.667434Z",
     "iopub.status.busy": "2023-03-14T15:45:44.667051Z",
     "iopub.status.idle": "2023-03-14T15:45:44.842911Z",
     "shell.execute_reply": "2023-03-14T15:45:44.841766Z",
     "shell.execute_reply.started": "2023-03-14T15:45:44.667402Z"
    }
   },
   "outputs": [],
   "source": [
    "train_df_ini = pd.read_csv('/kaggle/input/sf-dst-predict-car-price/train_data.csv')\n",
    "# train_df.info()"
   ]
  },
  {
   "cell_type": "code",
   "execution_count": 6,
   "metadata": {
    "execution": {
     "iopub.execute_input": "2023-03-14T15:45:49.306888Z",
     "iopub.status.busy": "2023-03-14T15:45:49.306475Z",
     "iopub.status.idle": "2023-03-14T15:45:49.357116Z",
     "shell.execute_reply": "2023-03-14T15:45:49.355996Z",
     "shell.execute_reply.started": "2023-03-14T15:45:49.306856Z"
    }
   },
   "outputs": [],
   "source": [
    "test_df = pd.read_csv('/kaggle/input/sf-dst-predict-car-price/test_data.csv')\n",
    "# test_df.info()"
   ]
  },
  {
   "cell_type": "code",
   "execution_count": 7,
   "metadata": {
    "execution": {
     "iopub.execute_input": "2023-03-14T15:45:53.803751Z",
     "iopub.status.busy": "2023-03-14T15:45:53.803325Z",
     "iopub.status.idle": "2023-03-14T15:45:53.819491Z",
     "shell.execute_reply": "2023-03-14T15:45:53.818342Z",
     "shell.execute_reply.started": "2023-03-14T15:45:53.803716Z"
    }
   },
   "outputs": [],
   "source": [
    "sample_df = pd.read_csv('/kaggle/input/sf-dst-predict-car-price/sample_submission.csv')\n",
    "# sample_df.info()"
   ]
  },
  {
   "cell_type": "code",
   "execution_count": 8,
   "metadata": {
    "execution": {
     "iopub.execute_input": "2023-03-14T15:45:58.318799Z",
     "iopub.status.busy": "2023-03-14T15:45:58.317581Z",
     "iopub.status.idle": "2023-03-14T15:45:58.338783Z",
     "shell.execute_reply": "2023-03-14T15:45:58.337376Z",
     "shell.execute_reply.started": "2023-03-14T15:45:58.318754Z"
    }
   },
   "outputs": [],
   "source": [
    "# Some EDA\n",
    "train_df = train_df_ini[(train_df_ini.final_price <= 100_000) & (train_df_ini.final_price >= 1)]"
   ]
  },
  {
   "cell_type": "code",
   "execution_count": 9,
   "metadata": {
    "execution": {
     "iopub.execute_input": "2023-03-14T15:46:03.756087Z",
     "iopub.status.busy": "2023-03-14T15:46:03.755644Z",
     "iopub.status.idle": "2023-03-14T15:46:03.781272Z",
     "shell.execute_reply": "2023-03-14T15:46:03.780321Z",
     "shell.execute_reply.started": "2023-03-14T15:46:03.756050Z"
    }
   },
   "outputs": [],
   "source": [
    "training_set, validation_set = train_test_split(\n",
    "    train_df,\n",
    "    test_size=TEST_SIZE,\n",
    "    random_state=RANDOM_STATE\n",
    ")"
   ]
  },
  {
   "cell_type": "code",
   "execution_count": 11,
   "metadata": {
    "execution": {
     "iopub.execute_input": "2023-03-14T15:46:11.995838Z",
     "iopub.status.busy": "2023-03-14T15:46:11.995429Z",
     "iopub.status.idle": "2023-03-14T15:46:12.002773Z",
     "shell.execute_reply": "2023-03-14T15:46:12.001368Z",
     "shell.execute_reply.started": "2023-03-14T15:46:11.995803Z"
    }
   },
   "outputs": [],
   "source": [
    "task = Task('reg', loss='mae', metric='mae')\n",
    "roles = {\n",
    "    'target': TARGET_NAME,\n",
    "    'drop': ['row_ID']\n",
    "}"
   ]
  },
  {
   "cell_type": "code",
   "execution_count": 12,
   "metadata": {
    "execution": {
     "iopub.execute_input": "2023-03-14T15:46:17.436609Z",
     "iopub.status.busy": "2023-03-14T15:46:17.435549Z",
     "iopub.status.idle": "2023-03-14T15:46:17.461046Z",
     "shell.execute_reply": "2023-03-14T15:46:17.459839Z",
     "shell.execute_reply.started": "2023-03-14T15:46:17.436565Z"
    }
   },
   "outputs": [],
   "source": [
    "automl = TabularAutoML(\n",
    "    task=task,\n",
    "    timeout=TIMEOUT,\n",
    "    cpu_limit=N_THREADS,\n",
    "    reader_params={'n_jobs': N_THREADS, 'cv': N_FOLDS, 'random_state': RANDOM_STATE}\n",
    ")"
   ]
  },
  {
   "cell_type": "code",
   "execution_count": 13,
   "metadata": {
    "execution": {
     "iopub.execute_input": "2023-03-14T15:46:44.901062Z",
     "iopub.status.busy": "2023-03-14T15:46:44.900612Z",
     "iopub.status.idle": "2023-03-14T16:01:05.598198Z",
     "shell.execute_reply": "2023-03-14T16:01:05.596245Z",
     "shell.execute_reply.started": "2023-03-14T15:46:44.901026Z"
    }
   },
   "outputs": [],
   "source": [
    "oof_pred = automl.fit_predict(\n",
    "    training_set,\n",
    "    roles=roles,\n",
    "    verbose=0\n",
    ")"
   ]
  },
  {
   "cell_type": "code",
   "execution_count": 14,
   "metadata": {
    "execution": {
     "iopub.execute_input": "2023-03-14T16:01:19.226358Z",
     "iopub.status.busy": "2023-03-14T16:01:19.225872Z",
     "iopub.status.idle": "2023-03-14T16:01:19.235508Z",
     "shell.execute_reply": "2023-03-14T16:01:19.234476Z",
     "shell.execute_reply.started": "2023-03-14T16:01:19.226315Z"
    }
   },
   "outputs": [
    {
     "name": "stdout",
     "output_type": "stream",
     "text": [
      "Final prediction for new objects (level 0) = \n",
      "\t 1.00000 * (5 averaged models Lvl_0_Pipe_1_Mod_1_Tuned_LightGBM) \n"
     ]
    }
   ],
   "source": [
    "print(automl.create_model_str_desc())"
   ]
  },
  {
   "cell_type": "code",
   "execution_count": 15,
   "metadata": {
    "execution": {
     "iopub.execute_input": "2023-03-14T16:01:27.649495Z",
     "iopub.status.busy": "2023-03-14T16:01:27.649016Z",
     "iopub.status.idle": "2023-03-14T16:01:31.219401Z",
     "shell.execute_reply": "2023-03-14T16:01:31.218339Z",
     "shell.execute_reply.started": "2023-03-14T16:01:27.649456Z"
    }
   },
   "outputs": [
    {
     "name": "stdout",
     "output_type": "stream",
     "text": [
      "Prediction for validation_set:\n",
      "array([[ 6164.416  ],\n",
      "       [11619.204  ],\n",
      "       [ 4329.804  ],\n",
      "       ...,\n",
      "       [12979.962  ],\n",
      "       [  476.79437],\n",
      "       [12725.819  ]], dtype=float32)\n",
      "Shape: (6998, 1)\n"
     ]
    }
   ],
   "source": [
    "val_pred = automl.predict(validation_set)\n",
    "print(f'Prediction for validation_set:\\n{val_pred}\\nShape: {val_pred.shape}')"
   ]
  },
  {
   "cell_type": "code",
   "execution_count": 16,
   "metadata": {
    "execution": {
     "iopub.execute_input": "2023-03-14T16:01:46.341887Z",
     "iopub.status.busy": "2023-03-14T16:01:46.341445Z",
     "iopub.status.idle": "2023-03-14T16:01:46.351111Z",
     "shell.execute_reply": "2023-03-14T16:01:46.349669Z",
     "shell.execute_reply.started": "2023-03-14T16:01:46.341851Z"
    }
   },
   "outputs": [
    {
     "name": "stdout",
     "output_type": "stream",
     "text": [
      "TRAIN out-of-fold score: 1564.3136423244518\n",
      "HOLDOUT score: 1452.4207840770457\n"
     ]
    }
   ],
   "source": [
    "print(f'TRAIN out-of-fold score: {mean_absolute_error(training_set[TARGET_NAME].values, oof_pred.data[:, 0])}')\n",
    "print(f'HOLDOUT score: {mean_absolute_error(validation_set[TARGET_NAME].values, val_pred.data[:, 0])}')"
   ]
  },
  {
   "cell_type": "code",
   "execution_count": 17,
   "metadata": {
    "execution": {
     "iopub.execute_input": "2023-03-14T16:01:52.891413Z",
     "iopub.status.busy": "2023-03-14T16:01:52.890969Z",
     "iopub.status.idle": "2023-03-14T16:01:58.176555Z",
     "shell.execute_reply": "2023-03-14T16:01:58.175568Z",
     "shell.execute_reply.started": "2023-03-14T16:01:52.891379Z"
    }
   },
   "outputs": [
    {
     "name": "stdout",
     "output_type": "stream",
     "text": [
      "Prediction result:\n",
      "array([[ 2796.346 ],\n",
      "       [ 5626.5674],\n",
      "       [ 4383.2827],\n",
      "       ...,\n",
      "       [18132.66  ],\n",
      "       [ 4954.5786],\n",
      "       [ 6337.3354]], dtype=float32)\n",
      "Shape: (10697, 1)\n"
     ]
    }
   ],
   "source": [
    "test_pred = automl.predict(test_df)\n",
    "print(f'Prediction result:\\n{test_pred}\\nShape: {test_pred.shape}')"
   ]
  },
  {
   "cell_type": "code",
   "execution_count": 18,
   "metadata": {
    "execution": {
     "iopub.execute_input": "2023-03-14T16:02:13.024121Z",
     "iopub.status.busy": "2023-03-14T16:02:13.023680Z",
     "iopub.status.idle": "2023-03-14T16:02:13.056100Z",
     "shell.execute_reply": "2023-03-14T16:02:13.055179Z",
     "shell.execute_reply.started": "2023-03-14T16:02:13.024087Z"
    }
   },
   "outputs": [],
   "source": [
    "sample_df[TARGET_NAME] = test_pred.data[:, 0]\n",
    "sample_df.to_csv('sample_submission.csv', index=False)"
   ]
  }
 ],
 "metadata": {
  "kernelspec": {
   "display_name": "Python 3",
   "language": "python",
   "name": "python3"
  },
  "language_info": {
   "codemirror_mode": {
    "name": "ipython",
    "version": 3
   },
   "file_extension": ".py",
   "mimetype": "text/x-python",
   "name": "python",
   "nbconvert_exporter": "python",
   "pygments_lexer": "ipython3",
   "version": "3.9.13"
  }
 },
 "nbformat": 4,
 "nbformat_minor": 4
}
