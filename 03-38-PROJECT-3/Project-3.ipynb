{
 "cells": [
  {
   "cell_type": "markdown",
   "id": "6c87402e",
   "metadata": {},
   "source": [
    "# Проект: Exploratory Data Analysis and Feature Engineering #"
   ]
  },
  {
   "cell_type": "code",
   "execution_count": 1,
   "id": "82b3106d",
   "metadata": {},
   "outputs": [],
   "source": [
    "import pandas as pd\n",
    "import seaborn as sns\n",
    "from matplotlib import pyplot as plt\n",
    "\n",
    "# Для корректной работы Jupyter Notebook\n",
    "%matplotlib inline\n",
    "# Для корректного отображения графиков в тёмной теме\n",
    "plt.style.use('default')"
   ]
  },
  {
   "cell_type": "code",
   "execution_count": null,
   "id": "ce294c45",
   "metadata": {},
   "outputs": [],
   "source": []
  }
 ],
 "metadata": {
  "kernelspec": {
   "display_name": "Python 3",
   "language": "python",
   "name": "python3"
  },
  "language_info": {
   "codemirror_mode": {
    "name": "ipython",
    "version": 3
   },
   "file_extension": ".py",
   "mimetype": "text/x-python",
   "name": "python",
   "nbconvert_exporter": "python",
   "pygments_lexer": "ipython3",
   "version": "3.9.13"
  }
 },
 "nbformat": 4,
 "nbformat_minor": 5
}
