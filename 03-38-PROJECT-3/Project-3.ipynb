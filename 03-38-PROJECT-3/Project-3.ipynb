{
 "cells": [
  {
   "attachments": {},
   "cell_type": "markdown",
   "id": "6c87402e",
   "metadata": {},
   "source": [
    "# Проект №3: Exploratory Data Analysis and Feature Engineering #"
   ]
  },
  {
   "cell_type": "code",
   "execution_count": 19,
   "id": "82b3106d",
   "metadata": {},
   "outputs": [],
   "source": [
    "import pandas as pd\n",
    "\n",
    "import seaborn as sns\n",
    "from matplotlib import pyplot as plt\n",
    "from sklearn.model_selection import train_test_split\n",
    "from sklearn.ensemble import RandomForestRegressor\n",
    "from sklearn import metrics\n",
    "\n",
    "# Для корректной работы Jupyter Notebook\n",
    "%matplotlib inline\n",
    "# Для корректного отображения графиков в тёмной теме\n",
    "plt.style.use('default')\n",
    "\n",
    "DATA_PATH = 'data/'\n",
    "# DATA_PATH = '/kaggle/input/sf-booking/'\n",
    "OUTPUT_PATH = 'output/'\n",
    "# OUTPUT_PATH = ''\n",
    "RANDOM_STATE = 42"
   ]
  },
  {
   "attachments": {},
   "cell_type": "markdown",
   "id": "3d2cbcac",
   "metadata": {},
   "source": [
    "## Сбор и предварительный анализ данных (Data Collection) ##"
   ]
  },
  {
   "cell_type": "code",
   "execution_count": 52,
   "id": "ce294c45",
   "metadata": {},
   "outputs": [],
   "source": [
    "train_ini = pd.read_csv(DATA_PATH + 'hotels_train.csv')\n",
    "test_ini = pd.read_csv(DATA_PATH + 'hotels_test.csv')\n",
    "submission_df = pd.read_csv(DATA_PATH + 'submission.csv')"
   ]
  },
  {
   "cell_type": "code",
   "execution_count": 62,
   "id": "8f7ac57b",
   "metadata": {},
   "outputs": [],
   "source": [
    "# Далее временно удобно работать с копиями датасетов\n",
    "train_df = train_ini.copy()\n",
    "test_df = test_ini.copy()"
   ]
  },
  {
   "cell_type": "code",
   "execution_count": 22,
   "id": "06f149b6",
   "metadata": {},
   "outputs": [
    {
     "data": {
      "text/html": [
       "<div>\n",
       "<style scoped>\n",
       "    .dataframe tbody tr th:only-of-type {\n",
       "        vertical-align: middle;\n",
       "    }\n",
       "\n",
       "    .dataframe tbody tr th {\n",
       "        vertical-align: top;\n",
       "    }\n",
       "\n",
       "    .dataframe thead th {\n",
       "        text-align: right;\n",
       "    }\n",
       "</style>\n",
       "<table border=\"1\" class=\"dataframe\">\n",
       "  <thead>\n",
       "    <tr style=\"text-align: right;\">\n",
       "      <th></th>\n",
       "      <th>hotel_address</th>\n",
       "      <th>additional_number_of_scoring</th>\n",
       "      <th>review_date</th>\n",
       "      <th>average_score</th>\n",
       "      <th>hotel_name</th>\n",
       "      <th>reviewer_nationality</th>\n",
       "      <th>negative_review</th>\n",
       "      <th>review_total_negative_word_counts</th>\n",
       "      <th>total_number_of_reviews</th>\n",
       "      <th>positive_review</th>\n",
       "      <th>review_total_positive_word_counts</th>\n",
       "      <th>total_number_of_reviews_reviewer_has_given</th>\n",
       "      <th>reviewer_score</th>\n",
       "      <th>tags</th>\n",
       "      <th>days_since_review</th>\n",
       "      <th>lat</th>\n",
       "      <th>lng</th>\n",
       "    </tr>\n",
       "  </thead>\n",
       "  <tbody>\n",
       "    <tr>\n",
       "      <th>0</th>\n",
       "      <td>Stratton Street Mayfair Westminster Borough Lo...</td>\n",
       "      <td>581</td>\n",
       "      <td>2/19/2016</td>\n",
       "      <td>8.4</td>\n",
       "      <td>The May Fair Hotel</td>\n",
       "      <td>United Kingdom</td>\n",
       "      <td>Leaving</td>\n",
       "      <td>3</td>\n",
       "      <td>1994</td>\n",
       "      <td>Staff were amazing</td>\n",
       "      <td>4</td>\n",
       "      <td>7</td>\n",
       "      <td>10.0</td>\n",
       "      <td>[' Leisure trip ', ' Couple ', ' Studio Suite ...</td>\n",
       "      <td>531 day</td>\n",
       "      <td>51.507894</td>\n",
       "      <td>-0.143671</td>\n",
       "    </tr>\n",
       "    <tr>\n",
       "      <th>1</th>\n",
       "      <td>130 134 Southampton Row Camden London WC1B 5AF...</td>\n",
       "      <td>299</td>\n",
       "      <td>1/12/2017</td>\n",
       "      <td>8.3</td>\n",
       "      <td>Mercure London Bloomsbury Hotel</td>\n",
       "      <td>United Kingdom</td>\n",
       "      <td>poor breakfast</td>\n",
       "      <td>3</td>\n",
       "      <td>1361</td>\n",
       "      <td>location</td>\n",
       "      <td>2</td>\n",
       "      <td>14</td>\n",
       "      <td>6.3</td>\n",
       "      <td>[' Business trip ', ' Couple ', ' Standard Dou...</td>\n",
       "      <td>203 day</td>\n",
       "      <td>51.521009</td>\n",
       "      <td>-0.123097</td>\n",
       "    </tr>\n",
       "    <tr>\n",
       "      <th>2</th>\n",
       "      <td>151 bis Rue de Rennes 6th arr 75006 Paris France</td>\n",
       "      <td>32</td>\n",
       "      <td>10/18/2016</td>\n",
       "      <td>8.9</td>\n",
       "      <td>Legend Saint Germain by Elegancia</td>\n",
       "      <td>China</td>\n",
       "      <td>No kettle in room</td>\n",
       "      <td>6</td>\n",
       "      <td>406</td>\n",
       "      <td>No Positive</td>\n",
       "      <td>0</td>\n",
       "      <td>14</td>\n",
       "      <td>7.5</td>\n",
       "      <td>[' Leisure trip ', ' Solo traveler ', ' Modern...</td>\n",
       "      <td>289 day</td>\n",
       "      <td>48.845377</td>\n",
       "      <td>2.325643</td>\n",
       "    </tr>\n",
       "  </tbody>\n",
       "</table>\n",
       "</div>"
      ],
      "text/plain": [
       "                                       hotel_address  \\\n",
       "0  Stratton Street Mayfair Westminster Borough Lo...   \n",
       "1  130 134 Southampton Row Camden London WC1B 5AF...   \n",
       "2   151 bis Rue de Rennes 6th arr 75006 Paris France   \n",
       "\n",
       "   additional_number_of_scoring review_date  average_score  \\\n",
       "0                           581   2/19/2016            8.4   \n",
       "1                           299   1/12/2017            8.3   \n",
       "2                            32  10/18/2016            8.9   \n",
       "\n",
       "                          hotel_name reviewer_nationality  \\\n",
       "0                 The May Fair Hotel      United Kingdom    \n",
       "1    Mercure London Bloomsbury Hotel      United Kingdom    \n",
       "2  Legend Saint Germain by Elegancia               China    \n",
       "\n",
       "       negative_review  review_total_negative_word_counts  \\\n",
       "0             Leaving                                   3   \n",
       "1       poor breakfast                                  3   \n",
       "2   No kettle in room                                   6   \n",
       "\n",
       "   total_number_of_reviews      positive_review  \\\n",
       "0                     1994   Staff were amazing   \n",
       "1                     1361             location   \n",
       "2                      406          No Positive   \n",
       "\n",
       "   review_total_positive_word_counts  \\\n",
       "0                                  4   \n",
       "1                                  2   \n",
       "2                                  0   \n",
       "\n",
       "   total_number_of_reviews_reviewer_has_given  reviewer_score  \\\n",
       "0                                           7            10.0   \n",
       "1                                          14             6.3   \n",
       "2                                          14             7.5   \n",
       "\n",
       "                                                tags days_since_review  \\\n",
       "0  [' Leisure trip ', ' Couple ', ' Studio Suite ...           531 day   \n",
       "1  [' Business trip ', ' Couple ', ' Standard Dou...           203 day   \n",
       "2  [' Leisure trip ', ' Solo traveler ', ' Modern...           289 day   \n",
       "\n",
       "         lat       lng  \n",
       "0  51.507894 -0.143671  \n",
       "1  51.521009 -0.123097  \n",
       "2  48.845377  2.325643  "
      ]
     },
     "execution_count": 22,
     "metadata": {},
     "output_type": "execute_result"
    }
   ],
   "source": [
    "train_df.head(3)"
   ]
  },
  {
   "cell_type": "code",
   "execution_count": 36,
   "id": "2456fcc5",
   "metadata": {},
   "outputs": [
    {
     "name": "stdout",
     "output_type": "stream",
     "text": [
      "<class 'pandas.core.frame.DataFrame'>\n",
      "RangeIndex: 386803 entries, 0 to 386802\n",
      "Data columns (total 17 columns):\n",
      " #   Column                                      Non-Null Count   Dtype  \n",
      "---  ------                                      --------------   -----  \n",
      " 0   hotel_address                               386803 non-null  object \n",
      " 1   additional_number_of_scoring                386803 non-null  int64  \n",
      " 2   review_date                                 386803 non-null  object \n",
      " 3   average_score                               386803 non-null  float64\n",
      " 4   hotel_name                                  386803 non-null  object \n",
      " 5   reviewer_nationality                        386803 non-null  object \n",
      " 6   negative_review                             386803 non-null  object \n",
      " 7   review_total_negative_word_counts           386803 non-null  int64  \n",
      " 8   total_number_of_reviews                     386803 non-null  int64  \n",
      " 9   positive_review                             386803 non-null  object \n",
      " 10  review_total_positive_word_counts           386803 non-null  int64  \n",
      " 11  total_number_of_reviews_reviewer_has_given  386803 non-null  int64  \n",
      " 12  reviewer_score                              386803 non-null  float64\n",
      " 13  tags                                        386803 non-null  object \n",
      " 14  days_since_review                           386803 non-null  object \n",
      " 15  lat                                         384355 non-null  float64\n",
      " 16  lng                                         384355 non-null  float64\n",
      "dtypes: float64(4), int64(5), object(8)\n",
      "memory usage: 50.2+ MB\n"
     ]
    }
   ],
   "source": [
    "train_df.info()"
   ]
  },
  {
   "cell_type": "code",
   "execution_count": 37,
   "id": "95fcafc4",
   "metadata": {},
   "outputs": [
    {
     "name": "stdout",
     "output_type": "stream",
     "text": [
      "<class 'pandas.core.frame.DataFrame'>\n",
      "RangeIndex: 128935 entries, 0 to 128934\n",
      "Data columns (total 16 columns):\n",
      " #   Column                                      Non-Null Count   Dtype  \n",
      "---  ------                                      --------------   -----  \n",
      " 0   hotel_address                               128935 non-null  object \n",
      " 1   additional_number_of_scoring                128935 non-null  int64  \n",
      " 2   review_date                                 128935 non-null  object \n",
      " 3   average_score                               128935 non-null  float64\n",
      " 4   hotel_name                                  128935 non-null  object \n",
      " 5   reviewer_nationality                        128935 non-null  object \n",
      " 6   negative_review                             128935 non-null  object \n",
      " 7   review_total_negative_word_counts           128935 non-null  int64  \n",
      " 8   total_number_of_reviews                     128935 non-null  int64  \n",
      " 9   positive_review                             128935 non-null  object \n",
      " 10  review_total_positive_word_counts           128935 non-null  int64  \n",
      " 11  total_number_of_reviews_reviewer_has_given  128935 non-null  int64  \n",
      " 12  tags                                        128935 non-null  object \n",
      " 13  days_since_review                           128935 non-null  object \n",
      " 14  lat                                         128115 non-null  float64\n",
      " 15  lng                                         128115 non-null  float64\n",
      "dtypes: float64(3), int64(5), object(8)\n",
      "memory usage: 15.7+ MB\n"
     ]
    }
   ],
   "source": [
    "test_df.info()"
   ]
  },
  {
   "attachments": {},
   "cell_type": "markdown",
   "id": "e96d0b3f",
   "metadata": {},
   "source": [
    "### Создание признаков ###"
   ]
  },
  {
   "attachments": {},
   "cell_type": "markdown",
   "id": "5c85c6ca",
   "metadata": {},
   "source": [
    "Извлечение из **`tags`** числа проведённых ночей и создание числового признака **`stayed_nights`**"
   ]
  },
  {
   "cell_type": "code",
   "execution_count": 63,
   "id": "46d8fb3f",
   "metadata": {},
   "outputs": [],
   "source": [
    "def get_stayed_nights(tags_str: str) -> int:\n",
    "    \"\"\" Разбивает строку признака 'tags' на отдельные тэги. Затем ищет\n",
    "    тэг 'Stayed * nights' и возвращает число ночёвок. Если тэг не\n",
    "    найден, возвращает 0.\n",
    "    Arguments:\n",
    "        tags_str [str] -- Содержимое ячейки признака 'tags'\n",
    "    Returns:\n",
    "        [int] -- Число проведённых в отеле ночей\n",
    "    \"\"\"\n",
    "    tag_list = tags_str.lstrip('[').rstrip(']').split(', ')\n",
    "    for tag in tag_list:\n",
    "        tag = tag.lstrip(\"\\' \").rstrip(\" \\'\")\n",
    "        words_list = tag.split()\n",
    "        if words_list[0] == 'Stayed':\n",
    "            return int(words_list[1])\n",
    "    return 0\n",
    "\n",
    "train_df['stayed_nights'] = train_df.tags.apply(get_stayed_nights)\n",
    "test_df['stayed_nights'] = test_df.tags.apply(get_stayed_nights)"
   ]
  },
  {
   "attachments": {},
   "cell_type": "markdown",
   "id": "5a4aa47b",
   "metadata": {},
   "source": [
    "### Преобразование признаков ###"
   ]
  },
  {
   "attachments": {},
   "cell_type": "markdown",
   "id": "124dd651",
   "metadata": {},
   "source": [
    "Перевод в числовой вид признака **`days_since_review`**"
   ]
  },
  {
   "cell_type": "code",
   "execution_count": 64,
   "id": "f4394830",
   "metadata": {},
   "outputs": [],
   "source": [
    "train_df.days_since_review = train_df.days_since_review.apply(\n",
    "                                lambda x: int(x.rstrip(' day').rstrip(' days')))\n",
    "test_df.days_since_review = test_df.days_since_review.apply(\n",
    "                                lambda x: int(x.rstrip(' day').rstrip(' days')))"
   ]
  },
  {
   "cell_type": "code",
   "execution_count": 65,
   "id": "e58e12aa",
   "metadata": {},
   "outputs": [],
   "source": [
    "train_df.review_date = pd.to_datetime(train_df.review_date)\n",
    "test_df.review_date = pd.to_datetime(test_df.review_date)"
   ]
  },
  {
   "attachments": {},
   "cell_type": "markdown",
   "id": "5eaea77e",
   "metadata": {},
   "source": [
    "### Отбор признаков ###"
   ]
  },
  {
   "cell_type": "code",
   "execution_count": 66,
   "id": "7e012243",
   "metadata": {},
   "outputs": [],
   "source": [
    "drop_features_list = [\n",
    "    'hotel_address',\n",
    "    'review_date',\n",
    "    'hotel_name',\n",
    "    'reviewer_nationality',\n",
    "    'negative_review',\n",
    "    'positive_review',\n",
    "    'tags',\n",
    "    # 'days_since_review',\n",
    "    'lat',\n",
    "    'lng'\n",
    "]\n",
    "train_df.drop(columns=drop_features_list, inplace=True)\n",
    "test_df.drop(columns=drop_features_list, inplace=True)"
   ]
  },
  {
   "attachments": {},
   "cell_type": "markdown",
   "id": "3c3d6462",
   "metadata": {},
   "source": [
    "### Обучение модели ###"
   ]
  },
  {
   "cell_type": "code",
   "execution_count": 67,
   "id": "f0015288",
   "metadata": {},
   "outputs": [],
   "source": [
    "X = train_df.drop(columns=['reviewer_score'])\n",
    "y = train_df.reviewer_score\n",
    "X_train, X_test, y_train, y_test = train_test_split(X, y, test_size=0.25, random_state=RANDOM_STATE)"
   ]
  },
  {
   "cell_type": "code",
   "execution_count": 68,
   "id": "809b8718",
   "metadata": {},
   "outputs": [
    {
     "name": "stdout",
     "output_type": "stream",
     "text": [
      "MAPE: 0.13755783975356978\n"
     ]
    }
   ],
   "source": [
    "regressor = RandomForestRegressor(\n",
    "                                    n_estimators=100,\n",
    "                                    # criterion='absolute_error',\n",
    "                                    n_jobs=4,\n",
    "                                    random_state=RANDOM_STATE\n",
    "                                 )\n",
    "regressor.fit(X_train, y_train)\n",
    "y_predictor = regressor.predict(X_test)\n",
    "print(f'MAPE:', metrics.mean_absolute_percentage_error(y_test, y_predictor))"
   ]
  },
  {
   "cell_type": "markdown",
   "id": "67f164c1",
   "metadata": {},
   "source": [
    "### Формирование предсказаний ###"
   ]
  },
  {
   "cell_type": "code",
   "execution_count": 69,
   "id": "dd358536",
   "metadata": {},
   "outputs": [
    {
     "data": {
      "text/html": [
       "<div>\n",
       "<style scoped>\n",
       "    .dataframe tbody tr th:only-of-type {\n",
       "        vertical-align: middle;\n",
       "    }\n",
       "\n",
       "    .dataframe tbody tr th {\n",
       "        vertical-align: top;\n",
       "    }\n",
       "\n",
       "    .dataframe thead th {\n",
       "        text-align: right;\n",
       "    }\n",
       "</style>\n",
       "<table border=\"1\" class=\"dataframe\">\n",
       "  <thead>\n",
       "    <tr style=\"text-align: right;\">\n",
       "      <th></th>\n",
       "      <th>reviewer_score</th>\n",
       "      <th>id</th>\n",
       "    </tr>\n",
       "  </thead>\n",
       "  <tbody>\n",
       "    <tr>\n",
       "      <th>0</th>\n",
       "      <td>8.744</td>\n",
       "      <td>488440</td>\n",
       "    </tr>\n",
       "    <tr>\n",
       "      <th>1</th>\n",
       "      <td>7.097</td>\n",
       "      <td>274649</td>\n",
       "    </tr>\n",
       "    <tr>\n",
       "      <th>2</th>\n",
       "      <td>8.349</td>\n",
       "      <td>374688</td>\n",
       "    </tr>\n",
       "    <tr>\n",
       "      <th>3</th>\n",
       "      <td>9.560</td>\n",
       "      <td>404352</td>\n",
       "    </tr>\n",
       "    <tr>\n",
       "      <th>4</th>\n",
       "      <td>9.856</td>\n",
       "      <td>451596</td>\n",
       "    </tr>\n",
       "  </tbody>\n",
       "</table>\n",
       "</div>"
      ],
      "text/plain": [
       "   reviewer_score      id\n",
       "0           8.744  488440\n",
       "1           7.097  274649\n",
       "2           8.349  374688\n",
       "3           9.560  404352\n",
       "4           9.856  451596"
      ]
     },
     "execution_count": 69,
     "metadata": {},
     "output_type": "execute_result"
    }
   ],
   "source": [
    "predictions = regressor.predict(test_df)\n",
    "submission_df.reviewer_score = predictions\n",
    "submission_df.head()"
   ]
  },
  {
   "cell_type": "code",
   "execution_count": 70,
   "id": "d4d7e923",
   "metadata": {},
   "outputs": [
    {
     "data": {
      "text/plain": [
       "(128935, 2)"
      ]
     },
     "execution_count": 70,
     "metadata": {},
     "output_type": "execute_result"
    }
   ],
   "source": [
    "submission_df.shape"
   ]
  },
  {
   "cell_type": "code",
   "execution_count": 71,
   "id": "e52a469e",
   "metadata": {},
   "outputs": [],
   "source": [
    "submission_df.to_csv(OUTPUT_PATH + 'submission.csv', index=False)"
   ]
  }
 ],
 "metadata": {
  "kernelspec": {
   "display_name": "Python 3",
   "language": "python",
   "name": "python3"
  },
  "language_info": {
   "codemirror_mode": {
    "name": "ipython",
    "version": 3
   },
   "file_extension": ".py",
   "mimetype": "text/x-python",
   "name": "python",
   "nbconvert_exporter": "python",
   "pygments_lexer": "ipython3",
   "version": "3.9.13"
  }
 },
 "nbformat": 4,
 "nbformat_minor": 5
}
