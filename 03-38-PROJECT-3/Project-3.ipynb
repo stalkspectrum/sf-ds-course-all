{
 "cells": [
  {
   "cell_type": "markdown",
   "id": "6c87402e",
   "metadata": {},
   "source": [
    "# Проект: Exploratory Data Analysis and Feature Engineering #"
   ]
  },
  {
   "cell_type": "code",
   "execution_count": 16,
   "id": "82b3106d",
   "metadata": {},
   "outputs": [],
   "source": [
    "import pandas as pd\n",
    "import seaborn as sns\n",
    "from matplotlib import pyplot as plt\n",
    "\n",
    "from sklearn.model_selection import train_test_split\n",
    "from sklearn.ensemble import RandomForestRegressor\n",
    "from sklearn import metrics\n",
    "\n",
    "# Для корректной работы Jupyter Notebook\n",
    "%matplotlib inline\n",
    "# Для корректного отображения графиков в тёмной теме\n",
    "plt.style.use('default')"
   ]
  },
  {
   "cell_type": "code",
   "execution_count": 17,
   "id": "ce294c45",
   "metadata": {},
   "outputs": [],
   "source": [
    "train_ini = pd.read_csv('data/hotels_train.csv')\n",
    "test_ini = pd.read_csv('data/hotels_test.csv')\n",
    "submission_ini = pd.read_csv('data/submission.csv')"
   ]
  },
  {
   "cell_type": "code",
   "execution_count": 18,
   "id": "2456fcc5",
   "metadata": {},
   "outputs": [
    {
     "name": "stdout",
     "output_type": "stream",
     "text": [
      "<class 'pandas.core.frame.DataFrame'>\n",
      "RangeIndex: 386803 entries, 0 to 386802\n",
      "Data columns (total 17 columns):\n",
      " #   Column                                      Non-Null Count   Dtype  \n",
      "---  ------                                      --------------   -----  \n",
      " 0   hotel_address                               386803 non-null  object \n",
      " 1   additional_number_of_scoring                386803 non-null  int64  \n",
      " 2   review_date                                 386803 non-null  object \n",
      " 3   average_score                               386803 non-null  float64\n",
      " 4   hotel_name                                  386803 non-null  object \n",
      " 5   reviewer_nationality                        386803 non-null  object \n",
      " 6   negative_review                             386803 non-null  object \n",
      " 7   review_total_negative_word_counts           386803 non-null  int64  \n",
      " 8   total_number_of_reviews                     386803 non-null  int64  \n",
      " 9   positive_review                             386803 non-null  object \n",
      " 10  review_total_positive_word_counts           386803 non-null  int64  \n",
      " 11  total_number_of_reviews_reviewer_has_given  386803 non-null  int64  \n",
      " 12  reviewer_score                              386803 non-null  float64\n",
      " 13  tags                                        386803 non-null  object \n",
      " 14  days_since_review                           386803 non-null  object \n",
      " 15  lat                                         384355 non-null  float64\n",
      " 16  lng                                         384355 non-null  float64\n",
      "dtypes: float64(4), int64(5), object(8)\n",
      "memory usage: 50.2+ MB\n"
     ]
    }
   ],
   "source": [
    "train_ini.info()"
   ]
  },
  {
   "cell_type": "code",
   "execution_count": 19,
   "id": "95fcafc4",
   "metadata": {},
   "outputs": [
    {
     "name": "stdout",
     "output_type": "stream",
     "text": [
      "<class 'pandas.core.frame.DataFrame'>\n",
      "RangeIndex: 128935 entries, 0 to 128934\n",
      "Data columns (total 16 columns):\n",
      " #   Column                                      Non-Null Count   Dtype  \n",
      "---  ------                                      --------------   -----  \n",
      " 0   hotel_address                               128935 non-null  object \n",
      " 1   additional_number_of_scoring                128935 non-null  int64  \n",
      " 2   review_date                                 128935 non-null  object \n",
      " 3   average_score                               128935 non-null  float64\n",
      " 4   hotel_name                                  128935 non-null  object \n",
      " 5   reviewer_nationality                        128935 non-null  object \n",
      " 6   negative_review                             128935 non-null  object \n",
      " 7   review_total_negative_word_counts           128935 non-null  int64  \n",
      " 8   total_number_of_reviews                     128935 non-null  int64  \n",
      " 9   positive_review                             128935 non-null  object \n",
      " 10  review_total_positive_word_counts           128935 non-null  int64  \n",
      " 11  total_number_of_reviews_reviewer_has_given  128935 non-null  int64  \n",
      " 12  tags                                        128935 non-null  object \n",
      " 13  days_since_review                           128935 non-null  object \n",
      " 14  lat                                         128115 non-null  float64\n",
      " 15  lng                                         128115 non-null  float64\n",
      "dtypes: float64(3), int64(5), object(8)\n",
      "memory usage: 15.7+ MB\n"
     ]
    }
   ],
   "source": [
    "test_ini.info()"
   ]
  },
  {
   "cell_type": "code",
   "execution_count": 20,
   "id": "109dddd1",
   "metadata": {},
   "outputs": [
    {
     "name": "stdout",
     "output_type": "stream",
     "text": [
      "<class 'pandas.core.frame.DataFrame'>\n",
      "RangeIndex: 128935 entries, 0 to 128934\n",
      "Data columns (total 2 columns):\n",
      " #   Column          Non-Null Count   Dtype\n",
      "---  ------          --------------   -----\n",
      " 0   reviewer_score  128935 non-null  int64\n",
      " 1   id              128935 non-null  int64\n",
      "dtypes: int64(2)\n",
      "memory usage: 2.0 MB\n"
     ]
    }
   ],
   "source": [
    "submission_ini.info()"
   ]
  },
  {
   "cell_type": "code",
   "execution_count": 24,
   "id": "f0015288",
   "metadata": {},
   "outputs": [],
   "source": [
    "X = train_ini.drop(columns=[\n",
    "                            'hotel_address',\n",
    "                            'review_date',\n",
    "                            'hotel_name',\n",
    "                            'reviewer_nationality',\n",
    "                            'negative_review',\n",
    "                            'positive_review',\n",
    "                            'reviewer_score',\n",
    "                            'tags',\n",
    "                            'days_since_review',\n",
    "                            'lat',\n",
    "                            'lng'\n",
    "                           ])\n",
    "y = train_ini.reviewer_score"
   ]
  },
  {
   "cell_type": "code",
   "execution_count": 25,
   "id": "e171f233",
   "metadata": {},
   "outputs": [],
   "source": [
    "X_train, X_test, y_train, y_test = train_test_split(X, y, test_size=0.25, random_state=42)"
   ]
  },
  {
   "cell_type": "code",
   "execution_count": 26,
   "id": "809b8718",
   "metadata": {},
   "outputs": [
    {
     "name": "stdout",
     "output_type": "stream",
     "text": [
      "MAPE: 0.14137823019247045\n"
     ]
    }
   ],
   "source": [
    "regressor = RandomForestRegressor(n_estimators=100)\n",
    "regressor.fit(X_train, y_train)\n",
    "y_predictor = regressor.predict(X_test)\n",
    "print(f'MAPE:', metrics.mean_absolute_percentage_error(y_test, y_predictor))"
   ]
  },
  {
   "cell_type": "code",
   "execution_count": 27,
   "id": "4c597f49",
   "metadata": {},
   "outputs": [
    {
     "data": {
      "text/plain": [
       "(96701,)"
      ]
     },
     "execution_count": 27,
     "metadata": {},
     "output_type": "execute_result"
    }
   ],
   "source": [
    "y_predictor.shape"
   ]
  },
  {
   "cell_type": "code",
   "execution_count": 28,
   "id": "86e1990f",
   "metadata": {},
   "outputs": [
    {
     "data": {
      "text/plain": [
       "(128935, 2)"
      ]
     },
     "execution_count": 28,
     "metadata": {},
     "output_type": "execute_result"
    }
   ],
   "source": [
    "submission_ini.shape"
   ]
  },
  {
   "cell_type": "code",
   "execution_count": 30,
   "id": "dd358536",
   "metadata": {},
   "outputs": [],
   "source": [
    "X_submit = test_ini.drop(columns=[\n",
    "                            'hotel_address',\n",
    "                            'review_date',\n",
    "                            'hotel_name',\n",
    "                            'reviewer_nationality',\n",
    "                            'negative_review',\n",
    "                            'positive_review',\n",
    "                            'tags',\n",
    "                            'days_since_review',\n",
    "                            'lat',\n",
    "                            'lng'\n",
    "                           ])\n",
    "y_submit = regressor.predict(X_submit)"
   ]
  },
  {
   "cell_type": "code",
   "execution_count": 31,
   "id": "78bba5f8",
   "metadata": {},
   "outputs": [
    {
     "data": {
      "text/plain": [
       "(128935,)"
      ]
     },
     "execution_count": 31,
     "metadata": {},
     "output_type": "execute_result"
    }
   ],
   "source": [
    "y_submit.shape"
   ]
  },
  {
   "cell_type": "code",
   "execution_count": 32,
   "id": "c45b028a",
   "metadata": {},
   "outputs": [
    {
     "data": {
      "text/html": [
       "<div>\n",
       "<style scoped>\n",
       "    .dataframe tbody tr th:only-of-type {\n",
       "        vertical-align: middle;\n",
       "    }\n",
       "\n",
       "    .dataframe tbody tr th {\n",
       "        vertical-align: top;\n",
       "    }\n",
       "\n",
       "    .dataframe thead th {\n",
       "        text-align: right;\n",
       "    }\n",
       "</style>\n",
       "<table border=\"1\" class=\"dataframe\">\n",
       "  <thead>\n",
       "    <tr style=\"text-align: right;\">\n",
       "      <th></th>\n",
       "      <th>reviewer_score</th>\n",
       "      <th>id</th>\n",
       "    </tr>\n",
       "  </thead>\n",
       "  <tbody>\n",
       "    <tr>\n",
       "      <th>0</th>\n",
       "      <td>8.52500</td>\n",
       "      <td>488440</td>\n",
       "    </tr>\n",
       "    <tr>\n",
       "      <th>1</th>\n",
       "      <td>7.55800</td>\n",
       "      <td>274649</td>\n",
       "    </tr>\n",
       "    <tr>\n",
       "      <th>2</th>\n",
       "      <td>8.27900</td>\n",
       "      <td>374688</td>\n",
       "    </tr>\n",
       "    <tr>\n",
       "      <th>3</th>\n",
       "      <td>9.69700</td>\n",
       "      <td>404352</td>\n",
       "    </tr>\n",
       "    <tr>\n",
       "      <th>4</th>\n",
       "      <td>9.50393</td>\n",
       "      <td>451596</td>\n",
       "    </tr>\n",
       "  </tbody>\n",
       "</table>\n",
       "</div>"
      ],
      "text/plain": [
       "   reviewer_score      id\n",
       "0         8.52500  488440\n",
       "1         7.55800  274649\n",
       "2         8.27900  374688\n",
       "3         9.69700  404352\n",
       "4         9.50393  451596"
      ]
     },
     "execution_count": 32,
     "metadata": {},
     "output_type": "execute_result"
    }
   ],
   "source": [
    "submission_fin = submission_ini.copy()\n",
    "submission_fin.reviewer_score = y_submit\n",
    "submission_fin.head()"
   ]
  },
  {
   "cell_type": "code",
   "execution_count": 33,
   "id": "e52a469e",
   "metadata": {},
   "outputs": [],
   "source": [
    "submission_fin.to_csv('output/submission.csv')"
   ]
  }
 ],
 "metadata": {
  "kernelspec": {
   "display_name": "Python 3",
   "language": "python",
   "name": "python3"
  },
  "language_info": {
   "codemirror_mode": {
    "name": "ipython",
    "version": 3
   },
   "file_extension": ".py",
   "mimetype": "text/x-python",
   "name": "python",
   "nbconvert_exporter": "python",
   "pygments_lexer": "ipython3",
   "version": "3.9.13"
  }
 },
 "nbformat": 4,
 "nbformat_minor": 5
}
