{
 "cells": [
  {
   "attachments": {},
   "cell_type": "markdown",
   "id": "6c87402e",
   "metadata": {},
   "source": [
    "# Проект №3: Exploratory Data Analysis and Feature Engineering #\n",
    "\n",
    "**Подробное описание постановки задачи, ссылки на Kaggle (Competition + Notebook) приведены в файле [README.md](README.md)**"
   ]
  },
  {
   "cell_type": "code",
   "execution_count": 1,
   "id": "82b3106d",
   "metadata": {},
   "outputs": [],
   "source": [
    "import pandas as pd\n",
    "\n",
    "import numpy as np\n",
    "import seaborn as sns\n",
    "from matplotlib import pyplot as plt\n",
    "from sklearn.model_selection import train_test_split\n",
    "from sklearn.ensemble import RandomForestRegressor\n",
    "from sklearn import metrics\n",
    "\n",
    "# Для корректной работы Jupyter Notebook\n",
    "%matplotlib inline\n",
    "# Для корректного отображения графиков в тёмной теме\n",
    "plt.style.use('default')\n",
    "\n",
    "DATA_PATH = 'data/'\n",
    "# DATA_PATH = '/kaggle/input/sf-booking/'\n",
    "OUTPUT_PATH = 'output/'\n",
    "# OUTPUT_PATH = ''\n",
    "RANDOM_STATE = 42"
   ]
  },
  {
   "attachments": {},
   "cell_type": "markdown",
   "id": "3d2cbcac",
   "metadata": {},
   "source": [
    "## 1. Сбор и предварительный анализ данных (Data Collection) ##"
   ]
  },
  {
   "cell_type": "code",
   "execution_count": 2,
   "id": "ce294c45",
   "metadata": {},
   "outputs": [],
   "source": [
    "train_ini = pd.read_csv(DATA_PATH + 'hotels_train.csv')\n",
    "test_ini = pd.read_csv(DATA_PATH + 'hotels_test.csv')\n",
    "submission_df = pd.read_csv(DATA_PATH + 'submission.csv')"
   ]
  },
  {
   "cell_type": "code",
   "execution_count": 3,
   "id": "8f7ac57b",
   "metadata": {},
   "outputs": [],
   "source": [
    "# Далее временно удобно работать с копиями датасетов\n",
    "train_df = train_ini.copy()\n",
    "test_df = test_ini.copy()"
   ]
  },
  {
   "cell_type": "code",
   "execution_count": 4,
   "id": "06f149b6",
   "metadata": {},
   "outputs": [
    {
     "data": {
      "text/html": [
       "<div>\n",
       "<style scoped>\n",
       "    .dataframe tbody tr th:only-of-type {\n",
       "        vertical-align: middle;\n",
       "    }\n",
       "\n",
       "    .dataframe tbody tr th {\n",
       "        vertical-align: top;\n",
       "    }\n",
       "\n",
       "    .dataframe thead th {\n",
       "        text-align: right;\n",
       "    }\n",
       "</style>\n",
       "<table border=\"1\" class=\"dataframe\">\n",
       "  <thead>\n",
       "    <tr style=\"text-align: right;\">\n",
       "      <th></th>\n",
       "      <th>hotel_address</th>\n",
       "      <th>additional_number_of_scoring</th>\n",
       "      <th>review_date</th>\n",
       "      <th>average_score</th>\n",
       "      <th>hotel_name</th>\n",
       "      <th>reviewer_nationality</th>\n",
       "      <th>negative_review</th>\n",
       "      <th>review_total_negative_word_counts</th>\n",
       "      <th>total_number_of_reviews</th>\n",
       "      <th>positive_review</th>\n",
       "      <th>review_total_positive_word_counts</th>\n",
       "      <th>total_number_of_reviews_reviewer_has_given</th>\n",
       "      <th>reviewer_score</th>\n",
       "      <th>tags</th>\n",
       "      <th>days_since_review</th>\n",
       "      <th>lat</th>\n",
       "      <th>lng</th>\n",
       "    </tr>\n",
       "  </thead>\n",
       "  <tbody>\n",
       "    <tr>\n",
       "      <th>0</th>\n",
       "      <td>Stratton Street Mayfair Westminster Borough Lo...</td>\n",
       "      <td>581</td>\n",
       "      <td>2/19/2016</td>\n",
       "      <td>8.4</td>\n",
       "      <td>The May Fair Hotel</td>\n",
       "      <td>United Kingdom</td>\n",
       "      <td>Leaving</td>\n",
       "      <td>3</td>\n",
       "      <td>1994</td>\n",
       "      <td>Staff were amazing</td>\n",
       "      <td>4</td>\n",
       "      <td>7</td>\n",
       "      <td>10.0</td>\n",
       "      <td>[' Leisure trip ', ' Couple ', ' Studio Suite ...</td>\n",
       "      <td>531 day</td>\n",
       "      <td>51.507894</td>\n",
       "      <td>-0.143671</td>\n",
       "    </tr>\n",
       "    <tr>\n",
       "      <th>1</th>\n",
       "      <td>130 134 Southampton Row Camden London WC1B 5AF...</td>\n",
       "      <td>299</td>\n",
       "      <td>1/12/2017</td>\n",
       "      <td>8.3</td>\n",
       "      <td>Mercure London Bloomsbury Hotel</td>\n",
       "      <td>United Kingdom</td>\n",
       "      <td>poor breakfast</td>\n",
       "      <td>3</td>\n",
       "      <td>1361</td>\n",
       "      <td>location</td>\n",
       "      <td>2</td>\n",
       "      <td>14</td>\n",
       "      <td>6.3</td>\n",
       "      <td>[' Business trip ', ' Couple ', ' Standard Dou...</td>\n",
       "      <td>203 day</td>\n",
       "      <td>51.521009</td>\n",
       "      <td>-0.123097</td>\n",
       "    </tr>\n",
       "    <tr>\n",
       "      <th>2</th>\n",
       "      <td>151 bis Rue de Rennes 6th arr 75006 Paris France</td>\n",
       "      <td>32</td>\n",
       "      <td>10/18/2016</td>\n",
       "      <td>8.9</td>\n",
       "      <td>Legend Saint Germain by Elegancia</td>\n",
       "      <td>China</td>\n",
       "      <td>No kettle in room</td>\n",
       "      <td>6</td>\n",
       "      <td>406</td>\n",
       "      <td>No Positive</td>\n",
       "      <td>0</td>\n",
       "      <td>14</td>\n",
       "      <td>7.5</td>\n",
       "      <td>[' Leisure trip ', ' Solo traveler ', ' Modern...</td>\n",
       "      <td>289 day</td>\n",
       "      <td>48.845377</td>\n",
       "      <td>2.325643</td>\n",
       "    </tr>\n",
       "  </tbody>\n",
       "</table>\n",
       "</div>"
      ],
      "text/plain": [
       "                                       hotel_address  \\\n",
       "0  Stratton Street Mayfair Westminster Borough Lo...   \n",
       "1  130 134 Southampton Row Camden London WC1B 5AF...   \n",
       "2   151 bis Rue de Rennes 6th arr 75006 Paris France   \n",
       "\n",
       "   additional_number_of_scoring review_date  average_score  \\\n",
       "0                           581   2/19/2016            8.4   \n",
       "1                           299   1/12/2017            8.3   \n",
       "2                            32  10/18/2016            8.9   \n",
       "\n",
       "                          hotel_name reviewer_nationality  \\\n",
       "0                 The May Fair Hotel      United Kingdom    \n",
       "1    Mercure London Bloomsbury Hotel      United Kingdom    \n",
       "2  Legend Saint Germain by Elegancia               China    \n",
       "\n",
       "       negative_review  review_total_negative_word_counts  \\\n",
       "0             Leaving                                   3   \n",
       "1       poor breakfast                                  3   \n",
       "2   No kettle in room                                   6   \n",
       "\n",
       "   total_number_of_reviews      positive_review  \\\n",
       "0                     1994   Staff were amazing   \n",
       "1                     1361             location   \n",
       "2                      406          No Positive   \n",
       "\n",
       "   review_total_positive_word_counts  \\\n",
       "0                                  4   \n",
       "1                                  2   \n",
       "2                                  0   \n",
       "\n",
       "   total_number_of_reviews_reviewer_has_given  reviewer_score  \\\n",
       "0                                           7            10.0   \n",
       "1                                          14             6.3   \n",
       "2                                          14             7.5   \n",
       "\n",
       "                                                tags days_since_review  \\\n",
       "0  [' Leisure trip ', ' Couple ', ' Studio Suite ...           531 day   \n",
       "1  [' Business trip ', ' Couple ', ' Standard Dou...           203 day   \n",
       "2  [' Leisure trip ', ' Solo traveler ', ' Modern...           289 day   \n",
       "\n",
       "         lat       lng  \n",
       "0  51.507894 -0.143671  \n",
       "1  51.521009 -0.123097  \n",
       "2  48.845377  2.325643  "
      ]
     },
     "execution_count": 4,
     "metadata": {},
     "output_type": "execute_result"
    }
   ],
   "source": [
    "train_df.head(3)"
   ]
  },
  {
   "cell_type": "code",
   "execution_count": 5,
   "id": "2456fcc5",
   "metadata": {},
   "outputs": [
    {
     "name": "stdout",
     "output_type": "stream",
     "text": [
      "<class 'pandas.core.frame.DataFrame'>\n",
      "RangeIndex: 386803 entries, 0 to 386802\n",
      "Data columns (total 17 columns):\n",
      " #   Column                                      Non-Null Count   Dtype  \n",
      "---  ------                                      --------------   -----  \n",
      " 0   hotel_address                               386803 non-null  object \n",
      " 1   additional_number_of_scoring                386803 non-null  int64  \n",
      " 2   review_date                                 386803 non-null  object \n",
      " 3   average_score                               386803 non-null  float64\n",
      " 4   hotel_name                                  386803 non-null  object \n",
      " 5   reviewer_nationality                        386803 non-null  object \n",
      " 6   negative_review                             386803 non-null  object \n",
      " 7   review_total_negative_word_counts           386803 non-null  int64  \n",
      " 8   total_number_of_reviews                     386803 non-null  int64  \n",
      " 9   positive_review                             386803 non-null  object \n",
      " 10  review_total_positive_word_counts           386803 non-null  int64  \n",
      " 11  total_number_of_reviews_reviewer_has_given  386803 non-null  int64  \n",
      " 12  reviewer_score                              386803 non-null  float64\n",
      " 13  tags                                        386803 non-null  object \n",
      " 14  days_since_review                           386803 non-null  object \n",
      " 15  lat                                         384355 non-null  float64\n",
      " 16  lng                                         384355 non-null  float64\n",
      "dtypes: float64(4), int64(5), object(8)\n",
      "memory usage: 50.2+ MB\n"
     ]
    }
   ],
   "source": [
    "train_df.info()"
   ]
  },
  {
   "cell_type": "code",
   "execution_count": 6,
   "id": "95fcafc4",
   "metadata": {},
   "outputs": [
    {
     "name": "stdout",
     "output_type": "stream",
     "text": [
      "<class 'pandas.core.frame.DataFrame'>\n",
      "RangeIndex: 128935 entries, 0 to 128934\n",
      "Data columns (total 16 columns):\n",
      " #   Column                                      Non-Null Count   Dtype  \n",
      "---  ------                                      --------------   -----  \n",
      " 0   hotel_address                               128935 non-null  object \n",
      " 1   additional_number_of_scoring                128935 non-null  int64  \n",
      " 2   review_date                                 128935 non-null  object \n",
      " 3   average_score                               128935 non-null  float64\n",
      " 4   hotel_name                                  128935 non-null  object \n",
      " 5   reviewer_nationality                        128935 non-null  object \n",
      " 6   negative_review                             128935 non-null  object \n",
      " 7   review_total_negative_word_counts           128935 non-null  int64  \n",
      " 8   total_number_of_reviews                     128935 non-null  int64  \n",
      " 9   positive_review                             128935 non-null  object \n",
      " 10  review_total_positive_word_counts           128935 non-null  int64  \n",
      " 11  total_number_of_reviews_reviewer_has_given  128935 non-null  int64  \n",
      " 12  tags                                        128935 non-null  object \n",
      " 13  days_since_review                           128935 non-null  object \n",
      " 14  lat                                         128115 non-null  float64\n",
      " 15  lng                                         128115 non-null  float64\n",
      "dtypes: float64(3), int64(5), object(8)\n",
      "memory usage: 15.7+ MB\n"
     ]
    }
   ],
   "source": [
    "test_df.info()"
   ]
  },
  {
   "cell_type": "code",
   "execution_count": 30,
   "id": "4987f132",
   "metadata": {},
   "outputs": [
    {
     "name": "stdout",
     "output_type": "stream",
     "text": [
      "0    384355\n",
      "2      2448\n",
      "dtype: int64\n",
      "0    128115\n",
      "2       820\n",
      "dtype: int64\n"
     ]
    }
   ],
   "source": [
    "'''Проверка на одновременное отстутствие 'lat' и 'lng' в одной строке'''\n",
    "print(train_df.isna().sum(axis='columns').value_counts())\n",
    "print(test_df.isna().sum(axis='columns').value_counts())"
   ]
  },
  {
   "attachments": {},
   "cell_type": "markdown",
   "id": "203ecd11",
   "metadata": {},
   "source": [
    "Видно, что в обоих датасетах есть незаполненные координаты широты и долготы. Причём они отсутствуют одновременно, то есть нет строк с одной заполненной координатой. На данном этапе можно заполнить пустые значения нулями."
   ]
  },
  {
   "cell_type": "code",
   "execution_count": 31,
   "id": "8d09c7cd",
   "metadata": {},
   "outputs": [],
   "source": [
    "train_df.lat.fillna(value=0, inplace=True)\n",
    "train_df.lng.fillna(value=0, inplace=True)\n",
    "test_df.lat.fillna(value=0, inplace=True)\n",
    "test_df.lng.fillna(value=0, inplace=True)"
   ]
  },
  {
   "cell_type": "markdown",
   "id": "4713c188",
   "metadata": {},
   "source": [
    "Можно сразу преобразовать **`review_date`** в формат **`datetime`**."
   ]
  },
  {
   "cell_type": "code",
   "execution_count": 32,
   "id": "4f24309a",
   "metadata": {},
   "outputs": [],
   "source": [
    "train_df.review_date = pd.to_datetime(train_df.review_date)\n",
    "test_df.review_date = pd.to_datetime(test_df.review_date)"
   ]
  },
  {
   "attachments": {},
   "cell_type": "markdown",
   "id": "82f4bcf3",
   "metadata": {},
   "source": [
    "## 1. Стратегия дальнейшей работы ##\n",
    "\n",
    "Так как в данном проекте метод обучения модели фиксирован (RandomForestRegressor), и задан критерий качества модели&nbsp;&mdash; достижение минимального значения MAPE (Mean Absolute Percentage Error), то вместо последовательных этапов работы с данными (очистка, создание, преобразование, отбор) представляется более интересной следующая стратегия:\n",
    "\n",
    "Первой итерацией будет простой отбор всех имеющихся числовых признаков и получение первого значения MAPE, от которого потом можно &laquo;плясать&raquo; далее по такому циклу:\n",
    "\n",
    "1. Берём признак и смотрим, что можно сделать с числовым признаком (непрерывный/категориальный, распределение нормальное/нет, необходимость нормализации, стандартизации и других преобразований)\n",
    "2. То же и с строковым признаком (что можно вытянуть из строк сначала в числа или категории, далее &laquo;GOTO пункт 1&raquo;).\n",
    "3. Отбор признаков (устранение излишней корреляции и мультиколлинеарности).\n",
    "4. Обучение модели, отслеживание MAPE и анализ важности признаков.\n",
    "\n",
    "Может быть получится излишне трудоёмко, но главная цель&nbsp;&mdash; прочувствовать реальный процесс и поэкспериментировать."
   ]
  },
  {
   "attachments": {},
   "cell_type": "markdown",
   "id": "aaa8b48b",
   "metadata": {},
   "source": [
    "## 1. Создание признаков ##"
   ]
  },
  {
   "attachments": {},
   "cell_type": "markdown",
   "id": "b002ad50",
   "metadata": {},
   "source": [
    "### 1.2. Извлечение **`DOY`** (Day Of Year) и **`DSR`** (Days Since Review-2) из **`review_date`**"
   ]
  },
  {
   "attachments": {},
   "cell_type": "markdown",
   "id": "726d76eb",
   "metadata": {},
   "source": [
    "Можно сразу преобразовать **`review_date`** в формат **`datetime`**."
   ]
  },
  {
   "cell_type": "code",
   "execution_count": 22,
   "id": "8d97ebba",
   "metadata": {},
   "outputs": [],
   "source": [
    "train_df.review_date = pd.to_datetime(train_df.review_date)\n",
    "test_df.review_date = pd.to_datetime(test_df.review_date)\n",
    "train_df['DOY'] = train_df.review_date.dt.dayofyear\n",
    "train_df['DSR'] = (pd.to_datetime('01/01/2019') - train_df.review_date).dt.days\n",
    "test_df['DOY'] = test_df.review_date.dt.dayofyear\n",
    "test_df['DSR'] = (pd.to_datetime('01/01/2019') - test_df.review_date).dt.days"
   ]
  },
  {
   "cell_type": "code",
   "execution_count": 26,
   "id": "58b02506",
   "metadata": {},
   "outputs": [
    {
     "name": "stdout",
     "output_type": "stream",
     "text": [
      "TRAIN first day: 2015-08-04 00:00:00\n",
      "TRAIN last day: 2017-08-03 00:00:00\n",
      "TEST first day: 2015-08-04 00:00:00\n",
      "TEST last day: 2017-08-03 00:00:00\n"
     ]
    },
    {
     "ename": "AttributeError",
     "evalue": "'Timestamp' object has no attribute 'dt'",
     "output_type": "error",
     "traceback": [
      "\u001b[1;31m---------------------------------------------------------------------------\u001b[0m",
      "\u001b[1;31mAttributeError\u001b[0m                            Traceback (most recent call last)",
      "\u001b[1;32m<ipython-input-26-134f72c6dee7>\u001b[0m in \u001b[0;36m<module>\u001b[1;34m\u001b[0m\n\u001b[0;32m      4\u001b[0m \u001b[0mprint\u001b[0m\u001b[1;33m(\u001b[0m\u001b[1;34mf'TEST last day: {test_df.review_date.max()}'\u001b[0m\u001b[1;33m)\u001b[0m\u001b[1;33m\u001b[0m\u001b[1;33m\u001b[0m\u001b[0m\n\u001b[0;32m      5\u001b[0m \u001b[1;31m# print(f'Total period: {(train_df.review_date.max() - train_df.review_date.min()).dt.days()}')\u001b[0m\u001b[1;33m\u001b[0m\u001b[1;33m\u001b[0m\u001b[0m\n\u001b[1;32m----> 6\u001b[1;33m \u001b[0mprint\u001b[0m\u001b[1;33m(\u001b[0m\u001b[0mtest_df\u001b[0m\u001b[1;33m.\u001b[0m\u001b[0mreview_date\u001b[0m\u001b[1;33m.\u001b[0m\u001b[0mmin\u001b[0m\u001b[1;33m(\u001b[0m\u001b[1;33m)\u001b[0m\u001b[1;33m.\u001b[0m\u001b[0mdt\u001b[0m\u001b[1;33m.\u001b[0m\u001b[0mdays\u001b[0m\u001b[1;33m)\u001b[0m\u001b[1;33m\u001b[0m\u001b[1;33m\u001b[0m\u001b[0m\n\u001b[0m",
      "\u001b[1;31mAttributeError\u001b[0m: 'Timestamp' object has no attribute 'dt'"
     ]
    }
   ],
   "source": [
    "print(f'TRAIN first day: {train_df.review_date.min()}')\n",
    "print(f'TRAIN last day: {train_df.review_date.max()}')\n",
    "print(f'TEST first day: {test_df.review_date.min()}')\n",
    "print(f'TEST last day: {test_df.review_date.max()}')\n",
    "# print(f'Total period: {(train_df.review_date.max() - train_df.review_date.min()).dt.days()}')\n",
    "print(test_df.review_date.min().dt.days)"
   ]
  },
  {
   "cell_type": "code",
   "execution_count": 9,
   "id": "11557cf1",
   "metadata": {},
   "outputs": [
    {
     "data": {
      "text/plain": [
       "<AxesSubplot: xlabel='DOY', ylabel='Count'>"
      ]
     },
     "execution_count": 9,
     "metadata": {},
     "output_type": "execute_result"
    },
    {
     "data": {
      "image/png": "[encoded data removed]",
      "text/plain": [
       "<Figure size 640x480 with 1 Axes>"
      ]
     },
     "metadata": {},
     "output_type": "display_data"
    }
   ],
   "source": [
    "sns.histplot(\n",
    "    data=train_df,\n",
    "    x='DOY'\n",
    ")"
   ]
  },
  {
   "cell_type": "code",
   "execution_count": 20,
   "id": "0ab71849",
   "metadata": {},
   "outputs": [
    {
     "data": {
      "text/plain": [
       "count    386803.000000\n",
       "mean       1235.387978\n",
       "std         208.975174\n",
       "min         881.000000\n",
       "25%        1056.000000\n",
       "50%        1234.000000\n",
       "75%        1408.000000\n",
       "max        1611.000000\n",
       "Name: DSR, dtype: float64"
      ]
     },
     "execution_count": 20,
     "metadata": {},
     "output_type": "execute_result"
    }
   ],
   "source": [
    "train_df.DSR.describe()"
   ]
  },
  {
   "cell_type": "code",
   "execution_count": 17,
   "id": "da353a14",
   "metadata": {},
   "outputs": [
    {
     "data": {
      "text/plain": [
       "<AxesSubplot: xlabel='DSR', ylabel='Count'>"
      ]
     },
     "execution_count": 17,
     "metadata": {},
     "output_type": "execute_result"
    },
    {
     "data": {
      "image/png": "[encoded data removed]",
      "text/plain": [
       "<Figure size 640x480 with 1 Axes>"
      ]
     },
     "metadata": {},
     "output_type": "display_data"
    }
   ],
   "source": [
    "sns.histplot(\n",
    "    data=train_df.DSR\n",
    ")"
   ]
  },
  {
   "cell_type": "code",
   "execution_count": 19,
   "id": "dbe9a361",
   "metadata": {},
   "outputs": [
    {
     "data": {
      "text/plain": [
       "<AxesSubplot: xlabel='days_since_review', ylabel='Count'>"
      ]
     },
     "execution_count": 19,
     "metadata": {},
     "output_type": "execute_result"
    },
    {
     "data": {
      "image/png": "[encoded data removed]",
      "text/plain": [
       "<Figure size 640x480 with 1 Axes>"
      ]
     },
     "metadata": {},
     "output_type": "display_data"
    }
   ],
   "source": [
    "sns.histplot(\n",
    "    data=train_df.days_since_review,\n",
    "    bins=365\n",
    ")"
   ]
  },
  {
   "attachments": {},
   "cell_type": "markdown",
   "id": "4c94a748",
   "metadata": {},
   "source": [
    "### 1.2. One-hot кодирование признаков города из **`hotel_address`** и заполнение недостающих **`lat`** и **`lng`** среднегородскими значениями ###"
   ]
  },
  {
   "cell_type": "code",
   "execution_count": 8,
   "id": "ded073fe",
   "metadata": {},
   "outputs": [
    {
     "name": "stdout",
     "output_type": "stream",
     "text": [
      "Stratton Street Mayfair Westminster Borough London W1J 8LT United Kingdom\n",
      "130 134 Southampton Row Camden London WC1B 5AF United Kingdom\n",
      "151 bis Rue de Rennes 6th arr 75006 Paris France\n",
      "216 Avenue Jean Jaures 19th arr 75019 Paris France\n",
      "Molenwerf 1 1014 AG Amsterdam Netherlands\n",
      "Via Mecenate 121 20138 Milan Italy\n",
      "97 Cromwell Road Kensington and Chelsea London SW7 4DN United Kingdom\n",
      "Josefsgasse 4 6 08 Josefstadt 1080 Vienna Austria\n",
      "190 Queen s Gate Kensington and Chelsea London SW7 5EX United Kingdom\n",
      "Holland Park Avenue Kensington and Chelsea London W11 4UL United Kingdom\n"
     ]
    }
   ],
   "source": [
    "for str_ in train_df.hotel_address[:10]:\n",
    "    print(str_)"
   ]
  },
  {
   "cell_type": "code",
   "execution_count": 9,
   "id": "1c1ef28c",
   "metadata": {},
   "outputs": [
    {
     "name": "stdout",
     "output_type": "stream",
     "text": [
      "{'Spain', 'France', 'Austria', 'Italy', 'Kingdom', 'Netherlands'}\n",
      "{'Barcelona', 'London', 'Vienna', 'Paris', 'Milan', 'Amsterdam'}\n"
     ]
    }
   ],
   "source": [
    "countries = set()\n",
    "cities = set()\n",
    "for str_ in train_df.hotel_address:\n",
    "    addr_ = str_.split()\n",
    "    countries.add(addr_[-1])\n",
    "    if addr_[-1] == 'Kingdom':\n",
    "        cities.add(addr_[-5])\n",
    "    else:\n",
    "        cities.add(addr_[-2])\n",
    "print(countries)\n",
    "print(cities)"
   ]
  },
  {
   "attachments": {},
   "cell_type": "markdown",
   "id": "53734af0",
   "metadata": {},
   "source": [
    "Выяснилось, что в обучающем и тестовом датасетах содержатся отели только из шести городов соответствующих шести стран. Тогда в обоих датасетах можно сделать следующее:\n",
    "\n",
    "1. One-hot-кодирование дополнительных шести признаков по городам;\n",
    "2. Удалить признак **`hotel_address`**;\n",
    "3. Заполнить пустые ячейки в признаках **`lat`** и **`lng`** координатами центров соответствующих городов (взять из внешних источников)."
   ]
  },
  {
   "cell_type": "code",
   "execution_count": 82,
   "id": "30e2eec4",
   "metadata": {},
   "outputs": [],
   "source": [
    "def get_city(addr_str: str) -> str:\n",
    "    ''' Находит в строке адреса название города\n",
    "    Arguments:\n",
    "        addr_str [str] -- Содержимое ячейки признака 'hotel_address'\n",
    "    Returns:\n",
    "        [str] -- Название города\n",
    "    '''\n",
    "    words_list = addr_str.split()\n",
    "    if words_list[-1] == 'Kingdom':\n",
    "        return words_list[-5]\n",
    "    else:\n",
    "        return words_list[-2]\n",
    "    return 'Unknown'\n",
    "\n",
    "\n",
    "# Создание временного признака города\n",
    "train_df['city'] = train_df.hotel_address.apply(get_city)\n",
    "test_df['city'] = test_df.hotel_address.apply(get_city)\n",
    "\n",
    "# Заполнение нулями пустот в признаках lat и lng обоих датасетов\n",
    "train_df['lat'].fillna(value=0, inplace=True)\n",
    "train_df['lng'].fillna(value=0, inplace=True)\n",
    "test_df['lat'].fillna(value=0, inplace=True)\n",
    "test_df['lng'].fillna(value=0, inplace=True)\n",
    "\n",
    "# Координаты центров городов (lat, lng) из внешних источников\n",
    "city_coords = {\n",
    "    'Amsterdam': (52.383333, 4.9),\n",
    "    'Barcelona': (41.383333, 2.183333),\n",
    "    'London': (51.507222, -0.1275),\n",
    "    'Milan': (45.466667, 9.166667),\n",
    "    'Paris': (48.833333, 2.333333),\n",
    "    'Vienna': (48.216667, 16.373333)\n",
    "}\n",
    "\n",
    "\n",
    "def write_lat(city_: str, lat_: float) -> float:\n",
    "    ''' Выдаёт для строки датафрейма недостающее значение широты в\n",
    "    зависимости от признака 'city'. Существующее значение оставляет без\n",
    "    изменений.\n",
    "    Arguments:\n",
    "        city_ [str] -- Город\n",
    "        lat_ [float] -- Широта\n",
    "    Returns:\n",
    "        [float] -- Широта (lattitude)\n",
    "    '''\n",
    "    if lat_ == 0:\n",
    "        return city_coords[city_][0]\n",
    "    return lat_\n",
    "\n",
    "\n",
    "def write_lng(city_: str, lng_: float) -> float:\n",
    "    ''' Выдаёт для строки датафрейма недостающее значение долготы в\n",
    "    зависимости от признака 'city'. Существующее значение оставляет без\n",
    "    изменений.\n",
    "    Arguments:\n",
    "        city_ [str] -- Город\n",
    "        kng_ [float] -- Долгота\n",
    "    Returns:\n",
    "        [float] -- Обновлённая долгота (longitude)\n",
    "    '''\n",
    "    if lng_ == 0:\n",
    "        return city_coords[city_][1]\n",
    "    return lng_"
   ]
  },
  {
   "cell_type": "code",
   "execution_count": 83,
   "id": "edea6a51",
   "metadata": {},
   "outputs": [],
   "source": [
    "# Заполнение недостающих значений в признаках 'lat' и 'lng'\n",
    "train_df.lat = train_df[['city', 'lat']].apply(\n",
    "                                               lambda x:\n",
    "                                               write_lat(x.city, x.lat),\n",
    "                                               axis='columns'\n",
    "                                              )\n",
    "train_df.lng = train_df[['city', 'lng']].apply(\n",
    "                                               lambda x:\n",
    "                                               write_lng(x.city, x.lng),\n",
    "                                               axis='columns'\n",
    "                                              )\n",
    "test_df.lat = test_df[['city', 'lat']].apply(\n",
    "                                             lambda x:\n",
    "                                             write_lat(x.city, x.lat),\n",
    "                                             axis='columns'\n",
    "                                            )\n",
    "test_df.lng = test_df[['city', 'lng']].apply(\n",
    "                                             lambda x:\n",
    "                                             write_lng(x.city, x.lng),\n",
    "                                             axis='columns'\n",
    "                                            )"
   ]
  },
  {
   "attachments": {},
   "cell_type": "markdown",
   "id": "5c85c6ca",
   "metadata": {},
   "source": [
    "### 1.2. Извлечение из **`tags`** числа проведённых ночей и создание числового признака **`stayed_nights`** ###"
   ]
  },
  {
   "cell_type": "code",
   "execution_count": 10,
   "id": "46d8fb3f",
   "metadata": {},
   "outputs": [],
   "source": [
    "def get_stayed_nights(tags_str: str) -> int:\n",
    "    \"\"\" Разбивает строку признака 'tags' на отдельные тэги. Затем ищет\n",
    "    тэг 'Stayed * nights' и возвращает число ночёвок. Если тэг не\n",
    "    найден, возвращает 0.\n",
    "    Arguments:\n",
    "        tags_str [str] -- Содержимое ячейки признака 'tags'\n",
    "    Returns:\n",
    "        [int] -- Число проведённых в отеле ночей\n",
    "    \"\"\"\n",
    "    tag_list = tags_str.lstrip('[').rstrip(']').split(', ')\n",
    "    for tag in tag_list:\n",
    "        tag = tag.lstrip(\"\\' \").rstrip(\" \\'\")\n",
    "        words_list = tag.split()\n",
    "        if words_list[0] == 'Stayed':\n",
    "            return int(words_list[1])\n",
    "    return 0\n",
    "\n",
    "\n",
    "train_df['stayed_nights'] = train_df.tags.apply(get_stayed_nights)\n",
    "test_df['stayed_nights'] = test_df.tags.apply(get_stayed_nights)"
   ]
  },
  {
   "attachments": {},
   "cell_type": "markdown",
   "id": "5a4aa47b",
   "metadata": {},
   "source": [
    "## 1. Преобразование признаков ##"
   ]
  },
  {
   "attachments": {},
   "cell_type": "markdown",
   "id": "d62a0eee",
   "metadata": {},
   "source": [
    "### 1.2. Перевод в числовой вид признака **`days_since_review`** ###"
   ]
  },
  {
   "cell_type": "code",
   "execution_count": 11,
   "id": "d50505d2",
   "metadata": {},
   "outputs": [
    {
     "name": "stdout",
     "output_type": "stream",
     "text": [
      "288 day\n",
      "450 day\n",
      "164 day\n",
      "399 day\n",
      "165 day\n",
      "290 day\n",
      "89 days\n",
      "29 days\n",
      "513 day\n",
      "678 day\n"
     ]
    }
   ],
   "source": [
    "for str_ in train_df.days_since_review[10:20]:\n",
    "    print(str_)"
   ]
  },
  {
   "cell_type": "code",
   "execution_count": 12,
   "id": "2224c3f2",
   "metadata": {},
   "outputs": [],
   "source": [
    "train_df.days_since_review = train_df.days_since_review.apply(\n",
    "                                lambda x: int(x.split()[0]))\n",
    "test_df.days_since_review = test_df.days_since_review.apply(\n",
    "                                lambda x: int(x.split()[0]))"
   ]
  },
  {
   "attachments": {},
   "cell_type": "markdown",
   "id": "5eaea77e",
   "metadata": {},
   "source": [
    "## 1. Отбор признаков ##"
   ]
  },
  {
   "cell_type": "code",
   "execution_count": 13,
   "id": "84a3000c",
   "metadata": {},
   "outputs": [
    {
     "name": "stdout",
     "output_type": "stream",
     "text": [
      "<class 'pandas.core.frame.DataFrame'>\n",
      "RangeIndex: 386803 entries, 0 to 386802\n",
      "Data columns (total 18 columns):\n",
      " #   Column                                      Non-Null Count   Dtype         \n",
      "---  ------                                      --------------   -----         \n",
      " 0   hotel_address                               386803 non-null  object        \n",
      " 1   additional_number_of_scoring                386803 non-null  int64         \n",
      " 2   review_date                                 386803 non-null  datetime64[ns]\n",
      " 3   average_score                               386803 non-null  float64       \n",
      " 4   hotel_name                                  386803 non-null  object        \n",
      " 5   reviewer_nationality                        386803 non-null  object        \n",
      " 6   negative_review                             386803 non-null  object        \n",
      " 7   review_total_negative_word_counts           386803 non-null  int64         \n",
      " 8   total_number_of_reviews                     386803 non-null  int64         \n",
      " 9   positive_review                             386803 non-null  object        \n",
      " 10  review_total_positive_word_counts           386803 non-null  int64         \n",
      " 11  total_number_of_reviews_reviewer_has_given  386803 non-null  int64         \n",
      " 12  reviewer_score                              386803 non-null  float64       \n",
      " 13  tags                                        386803 non-null  object        \n",
      " 14  days_since_review                           386803 non-null  int64         \n",
      " 15  lat                                         384355 non-null  float64       \n",
      " 16  lng                                         384355 non-null  float64       \n",
      " 17  stayed_nights                               386803 non-null  int64         \n",
      "dtypes: datetime64[ns](1), float64(4), int64(7), object(6)\n",
      "memory usage: 53.1+ MB\n"
     ]
    }
   ],
   "source": [
    "train_df.info()"
   ]
  },
  {
   "cell_type": "code",
   "execution_count": 14,
   "id": "7e012243",
   "metadata": {},
   "outputs": [],
   "source": [
    "drop_features_list = [\n",
    "    'hotel_address',\n",
    "    'review_date',\n",
    "    'hotel_name',\n",
    "    'total_number_of_reviews',\n",
    "    'reviewer_nationality',\n",
    "    'negative_review',\n",
    "    'positive_review',\n",
    "    'tags',\n",
    "    'total_number_of_reviews',\n",
    "    'additional_number_of_scoring',\n",
    "    'days_since_review',\n",
    "    'lat',\n",
    "    'lng'\n",
    "    # 'city_Vienna',\n",
    "    # 'city_London',\n",
    "    # 'city_Barcelona'\n",
    "]\n",
    "train_df.drop(columns=drop_features_list, inplace=True)\n",
    "test_df.drop(columns=drop_features_list, inplace=True)"
   ]
  },
  {
   "attachments": {},
   "cell_type": "markdown",
   "id": "3c3d6462",
   "metadata": {},
   "source": [
    "## 1. Обучение модели ##"
   ]
  },
  {
   "cell_type": "code",
   "execution_count": 15,
   "id": "f0015288",
   "metadata": {},
   "outputs": [],
   "source": [
    "X = train_df.drop(columns=['reviewer_score'])\n",
    "y = train_df.reviewer_score\n",
    "X_train, X_test, y_train, y_test = train_test_split(X, y, test_size=0.25, random_state=RANDOM_STATE)"
   ]
  },
  {
   "cell_type": "code",
   "execution_count": 16,
   "id": "809b8718",
   "metadata": {},
   "outputs": [],
   "source": [
    "regressor = RandomForestRegressor(\n",
    "                                    n_estimators=100,\n",
    "                                    # criterion='absolute_error',\n",
    "                                    n_jobs=4,\n",
    "                                    random_state=RANDOM_STATE\n",
    "                                 )\n",
    "regressor.fit(X_train, y_train)\n",
    "y_predictor = regressor.predict(X_test)"
   ]
  },
  {
   "attachments": {},
   "cell_type": "markdown",
   "id": "e3f23353",
   "metadata": {},
   "source": [
    "## 1. Оценка качества модели ##"
   ]
  },
  {
   "cell_type": "code",
   "execution_count": 17,
   "id": "3f24fba9",
   "metadata": {},
   "outputs": [
    {
     "name": "stdout",
     "output_type": "stream",
     "text": [
      "MAPE: 0.14422337931199872\n"
     ]
    }
   ],
   "source": [
    "print(f'MAPE:', metrics.mean_absolute_percentage_error(y_test, y_predictor))"
   ]
  },
  {
   "attachments": {},
   "cell_type": "markdown",
   "id": "67f164c1",
   "metadata": {},
   "source": [
    "## 1. Формирование предсказаний ##"
   ]
  },
  {
   "cell_type": "code",
   "execution_count": 18,
   "id": "dd358536",
   "metadata": {},
   "outputs": [
    {
     "data": {
      "text/html": [
       "<div>\n",
       "<style scoped>\n",
       "    .dataframe tbody tr th:only-of-type {\n",
       "        vertical-align: middle;\n",
       "    }\n",
       "\n",
       "    .dataframe tbody tr th {\n",
       "        vertical-align: top;\n",
       "    }\n",
       "\n",
       "    .dataframe thead th {\n",
       "        text-align: right;\n",
       "    }\n",
       "</style>\n",
       "<table border=\"1\" class=\"dataframe\">\n",
       "  <thead>\n",
       "    <tr style=\"text-align: right;\">\n",
       "      <th></th>\n",
       "      <th>reviewer_score</th>\n",
       "      <th>id</th>\n",
       "    </tr>\n",
       "  </thead>\n",
       "  <tbody>\n",
       "    <tr>\n",
       "      <th>0</th>\n",
       "      <td>8.415000</td>\n",
       "      <td>488440</td>\n",
       "    </tr>\n",
       "    <tr>\n",
       "      <th>1</th>\n",
       "      <td>7.308000</td>\n",
       "      <td>274649</td>\n",
       "    </tr>\n",
       "    <tr>\n",
       "      <th>2</th>\n",
       "      <td>8.223895</td>\n",
       "      <td>374688</td>\n",
       "    </tr>\n",
       "    <tr>\n",
       "      <th>3</th>\n",
       "      <td>8.725667</td>\n",
       "      <td>404352</td>\n",
       "    </tr>\n",
       "    <tr>\n",
       "      <th>4</th>\n",
       "      <td>9.883006</td>\n",
       "      <td>451596</td>\n",
       "    </tr>\n",
       "  </tbody>\n",
       "</table>\n",
       "</div>"
      ],
      "text/plain": [
       "   reviewer_score      id\n",
       "0        8.415000  488440\n",
       "1        7.308000  274649\n",
       "2        8.223895  374688\n",
       "3        8.725667  404352\n",
       "4        9.883006  451596"
      ]
     },
     "execution_count": 18,
     "metadata": {},
     "output_type": "execute_result"
    }
   ],
   "source": [
    "predictions = regressor.predict(test_df)\n",
    "submission_df.reviewer_score = predictions\n",
    "submission_df.head()"
   ]
  },
  {
   "cell_type": "code",
   "execution_count": 19,
   "id": "d4d7e923",
   "metadata": {},
   "outputs": [
    {
     "data": {
      "text/plain": [
       "(128935, 2)"
      ]
     },
     "execution_count": 19,
     "metadata": {},
     "output_type": "execute_result"
    }
   ],
   "source": [
    "submission_df.shape"
   ]
  },
  {
   "cell_type": "code",
   "execution_count": 20,
   "id": "e52a469e",
   "metadata": {},
   "outputs": [],
   "source": [
    "submission_df.to_csv(OUTPUT_PATH + 'submission.csv', index=False)"
   ]
  }
 ],
 "metadata": {
  "kernelspec": {
   "display_name": "Python 3",
   "language": "python",
   "name": "python3"
  },
  "language_info": {
   "codemirror_mode": {
    "name": "ipython",
    "version": 3
   },
   "file_extension": ".py",
   "mimetype": "text/x-python",
   "name": "python",
   "nbconvert_exporter": "python",
   "pygments_lexer": "ipython3",
   "version": "3.9.13"
  }
 },
 "nbformat": 4,
 "nbformat_minor": 5
}
