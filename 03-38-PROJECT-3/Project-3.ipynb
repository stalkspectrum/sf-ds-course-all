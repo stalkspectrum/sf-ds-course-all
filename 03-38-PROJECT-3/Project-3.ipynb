{
 "cells": [
  {
   "attachments": {},
   "cell_type": "markdown",
   "id": "6c87402e",
   "metadata": {},
   "source": [
    "# Проект №3: Exploratory Data Analysis and Feature Engineering #\n",
    "\n",
    "**Подробное описание постановки задачи, ссылки на Kaggle (Competition + Notebook) приведены в файле [README.md](README.md)**"
   ]
  },
  {
   "cell_type": "code",
   "execution_count": 252,
   "id": "82b3106d",
   "metadata": {},
   "outputs": [],
   "source": [
    "import pandas as pd\n",
    "\n",
    "import numpy as np\n",
    "import seaborn as sns\n",
    "from matplotlib import pyplot as plt\n",
    "from sklearn.model_selection import train_test_split\n",
    "from sklearn.ensemble import RandomForestRegressor\n",
    "from sklearn import metrics, preprocessing\n",
    "from scipy import stats\n",
    "import category_encoders as ce\n",
    "\n",
    "# Для корректной работы Jupyter Notebook\n",
    "%matplotlib inline\n",
    "# Для корректного отображения графиков в тёмной теме\n",
    "plt.style.use('default')\n",
    "\n",
    "DATA_PATH = 'data/'\n",
    "# DATA_PATH = '/kaggle/input/sf-booking/'\n",
    "OUTPUT_PATH = 'output/'\n",
    "# OUTPUT_PATH = ''\n",
    "RANDOM_STATE = 42"
   ]
  },
  {
   "attachments": {},
   "cell_type": "markdown",
   "id": "3d2cbcac",
   "metadata": {},
   "source": [
    "## Сбор и предварительный анализ данных (Data Collection) ##"
   ]
  },
  {
   "cell_type": "code",
   "execution_count": 253,
   "id": "ce294c45",
   "metadata": {},
   "outputs": [],
   "source": [
    "train_ini = pd.read_csv(DATA_PATH + 'hotels_train.csv')\n",
    "test_ini = pd.read_csv(DATA_PATH + 'hotels_test.csv')\n",
    "submission_df = pd.read_csv(DATA_PATH + 'submission.csv')"
   ]
  },
  {
   "cell_type": "code",
   "execution_count": 254,
   "id": "8f7ac57b",
   "metadata": {},
   "outputs": [],
   "source": [
    "# Далее временно удобно работать с копиями датасетов\n",
    "train_df = train_ini.copy()\n",
    "test_df = test_ini.copy()"
   ]
  },
  {
   "cell_type": "code",
   "execution_count": 255,
   "id": "06f149b6",
   "metadata": {},
   "outputs": [
    {
     "data": {
      "text/html": [
       "<div>\n",
       "<style scoped>\n",
       "    .dataframe tbody tr th:only-of-type {\n",
       "        vertical-align: middle;\n",
       "    }\n",
       "\n",
       "    .dataframe tbody tr th {\n",
       "        vertical-align: top;\n",
       "    }\n",
       "\n",
       "    .dataframe thead th {\n",
       "        text-align: right;\n",
       "    }\n",
       "</style>\n",
       "<table border=\"1\" class=\"dataframe\">\n",
       "  <thead>\n",
       "    <tr style=\"text-align: right;\">\n",
       "      <th></th>\n",
       "      <th>hotel_address</th>\n",
       "      <th>additional_number_of_scoring</th>\n",
       "      <th>review_date</th>\n",
       "      <th>average_score</th>\n",
       "      <th>hotel_name</th>\n",
       "      <th>reviewer_nationality</th>\n",
       "      <th>negative_review</th>\n",
       "      <th>review_total_negative_word_counts</th>\n",
       "      <th>total_number_of_reviews</th>\n",
       "      <th>positive_review</th>\n",
       "      <th>review_total_positive_word_counts</th>\n",
       "      <th>total_number_of_reviews_reviewer_has_given</th>\n",
       "      <th>reviewer_score</th>\n",
       "      <th>tags</th>\n",
       "      <th>days_since_review</th>\n",
       "      <th>lat</th>\n",
       "      <th>lng</th>\n",
       "    </tr>\n",
       "  </thead>\n",
       "  <tbody>\n",
       "    <tr>\n",
       "      <th>0</th>\n",
       "      <td>Stratton Street Mayfair Westminster Borough Lo...</td>\n",
       "      <td>581</td>\n",
       "      <td>2/19/2016</td>\n",
       "      <td>8.4</td>\n",
       "      <td>The May Fair Hotel</td>\n",
       "      <td>United Kingdom</td>\n",
       "      <td>Leaving</td>\n",
       "      <td>3</td>\n",
       "      <td>1994</td>\n",
       "      <td>Staff were amazing</td>\n",
       "      <td>4</td>\n",
       "      <td>7</td>\n",
       "      <td>10.0</td>\n",
       "      <td>[' Leisure trip ', ' Couple ', ' Studio Suite ...</td>\n",
       "      <td>531 day</td>\n",
       "      <td>51.507894</td>\n",
       "      <td>-0.143671</td>\n",
       "    </tr>\n",
       "    <tr>\n",
       "      <th>1</th>\n",
       "      <td>130 134 Southampton Row Camden London WC1B 5AF...</td>\n",
       "      <td>299</td>\n",
       "      <td>1/12/2017</td>\n",
       "      <td>8.3</td>\n",
       "      <td>Mercure London Bloomsbury Hotel</td>\n",
       "      <td>United Kingdom</td>\n",
       "      <td>poor breakfast</td>\n",
       "      <td>3</td>\n",
       "      <td>1361</td>\n",
       "      <td>location</td>\n",
       "      <td>2</td>\n",
       "      <td>14</td>\n",
       "      <td>6.3</td>\n",
       "      <td>[' Business trip ', ' Couple ', ' Standard Dou...</td>\n",
       "      <td>203 day</td>\n",
       "      <td>51.521009</td>\n",
       "      <td>-0.123097</td>\n",
       "    </tr>\n",
       "    <tr>\n",
       "      <th>2</th>\n",
       "      <td>151 bis Rue de Rennes 6th arr 75006 Paris France</td>\n",
       "      <td>32</td>\n",
       "      <td>10/18/2016</td>\n",
       "      <td>8.9</td>\n",
       "      <td>Legend Saint Germain by Elegancia</td>\n",
       "      <td>China</td>\n",
       "      <td>No kettle in room</td>\n",
       "      <td>6</td>\n",
       "      <td>406</td>\n",
       "      <td>No Positive</td>\n",
       "      <td>0</td>\n",
       "      <td>14</td>\n",
       "      <td>7.5</td>\n",
       "      <td>[' Leisure trip ', ' Solo traveler ', ' Modern...</td>\n",
       "      <td>289 day</td>\n",
       "      <td>48.845377</td>\n",
       "      <td>2.325643</td>\n",
       "    </tr>\n",
       "  </tbody>\n",
       "</table>\n",
       "</div>"
      ],
      "text/plain": [
       "                                       hotel_address  \\\n",
       "0  Stratton Street Mayfair Westminster Borough Lo...   \n",
       "1  130 134 Southampton Row Camden London WC1B 5AF...   \n",
       "2   151 bis Rue de Rennes 6th arr 75006 Paris France   \n",
       "\n",
       "   additional_number_of_scoring review_date  average_score  \\\n",
       "0                           581   2/19/2016            8.4   \n",
       "1                           299   1/12/2017            8.3   \n",
       "2                            32  10/18/2016            8.9   \n",
       "\n",
       "                          hotel_name reviewer_nationality  \\\n",
       "0                 The May Fair Hotel      United Kingdom    \n",
       "1    Mercure London Bloomsbury Hotel      United Kingdom    \n",
       "2  Legend Saint Germain by Elegancia               China    \n",
       "\n",
       "       negative_review  review_total_negative_word_counts  \\\n",
       "0             Leaving                                   3   \n",
       "1       poor breakfast                                  3   \n",
       "2   No kettle in room                                   6   \n",
       "\n",
       "   total_number_of_reviews      positive_review  \\\n",
       "0                     1994   Staff were amazing   \n",
       "1                     1361             location   \n",
       "2                      406          No Positive   \n",
       "\n",
       "   review_total_positive_word_counts  \\\n",
       "0                                  4   \n",
       "1                                  2   \n",
       "2                                  0   \n",
       "\n",
       "   total_number_of_reviews_reviewer_has_given  reviewer_score  \\\n",
       "0                                           7            10.0   \n",
       "1                                          14             6.3   \n",
       "2                                          14             7.5   \n",
       "\n",
       "                                                tags days_since_review  \\\n",
       "0  [' Leisure trip ', ' Couple ', ' Studio Suite ...           531 day   \n",
       "1  [' Business trip ', ' Couple ', ' Standard Dou...           203 day   \n",
       "2  [' Leisure trip ', ' Solo traveler ', ' Modern...           289 day   \n",
       "\n",
       "         lat       lng  \n",
       "0  51.507894 -0.143671  \n",
       "1  51.521009 -0.123097  \n",
       "2  48.845377  2.325643  "
      ]
     },
     "metadata": {},
     "output_type": "display_data"
    }
   ],
   "source": [
    "display(train_df.head(3))"
   ]
  },
  {
   "cell_type": "code",
   "execution_count": 256,
   "id": "2cb93bd7",
   "metadata": {},
   "outputs": [
    {
     "data": {
      "text/html": [
       "<div>\n",
       "<style scoped>\n",
       "    .dataframe tbody tr th:only-of-type {\n",
       "        vertical-align: middle;\n",
       "    }\n",
       "\n",
       "    .dataframe tbody tr th {\n",
       "        vertical-align: top;\n",
       "    }\n",
       "\n",
       "    .dataframe thead th {\n",
       "        text-align: right;\n",
       "    }\n",
       "</style>\n",
       "<table border=\"1\" class=\"dataframe\">\n",
       "  <thead>\n",
       "    <tr style=\"text-align: right;\">\n",
       "      <th></th>\n",
       "      <th>hotel_address</th>\n",
       "      <th>additional_number_of_scoring</th>\n",
       "      <th>review_date</th>\n",
       "      <th>average_score</th>\n",
       "      <th>hotel_name</th>\n",
       "      <th>reviewer_nationality</th>\n",
       "      <th>negative_review</th>\n",
       "      <th>review_total_negative_word_counts</th>\n",
       "      <th>total_number_of_reviews</th>\n",
       "      <th>positive_review</th>\n",
       "      <th>review_total_positive_word_counts</th>\n",
       "      <th>total_number_of_reviews_reviewer_has_given</th>\n",
       "      <th>tags</th>\n",
       "      <th>days_since_review</th>\n",
       "      <th>lat</th>\n",
       "      <th>lng</th>\n",
       "    </tr>\n",
       "  </thead>\n",
       "  <tbody>\n",
       "    <tr>\n",
       "      <th>0</th>\n",
       "      <td>Via Senigallia 6 20161 Milan Italy</td>\n",
       "      <td>904</td>\n",
       "      <td>7/21/2017</td>\n",
       "      <td>8.1</td>\n",
       "      <td>Hotel Da Vinci</td>\n",
       "      <td>United Kingdom</td>\n",
       "      <td>Would have appreciated a shop in the hotel th...</td>\n",
       "      <td>52</td>\n",
       "      <td>16670</td>\n",
       "      <td>Hotel was great clean friendly staff free bre...</td>\n",
       "      <td>62</td>\n",
       "      <td>1</td>\n",
       "      <td>[' Leisure trip ', ' Couple ', ' Double Room '...</td>\n",
       "      <td>13 days</td>\n",
       "      <td>45.533137</td>\n",
       "      <td>9.171102</td>\n",
       "    </tr>\n",
       "    <tr>\n",
       "      <th>1</th>\n",
       "      <td>Arlandaweg 10 Westpoort 1043 EW Amsterdam Neth...</td>\n",
       "      <td>612</td>\n",
       "      <td>12/12/2016</td>\n",
       "      <td>8.6</td>\n",
       "      <td>Urban Lodge Hotel</td>\n",
       "      <td>Belgium</td>\n",
       "      <td>No tissue paper box was present at the room</td>\n",
       "      <td>10</td>\n",
       "      <td>5018</td>\n",
       "      <td>No Positive</td>\n",
       "      <td>0</td>\n",
       "      <td>7</td>\n",
       "      <td>[' Leisure trip ', ' Group ', ' Triple Room ',...</td>\n",
       "      <td>234 day</td>\n",
       "      <td>52.385649</td>\n",
       "      <td>4.834443</td>\n",
       "    </tr>\n",
       "    <tr>\n",
       "      <th>2</th>\n",
       "      <td>Mallorca 251 Eixample 08008 Barcelona Spain</td>\n",
       "      <td>46</td>\n",
       "      <td>11/26/2015</td>\n",
       "      <td>8.3</td>\n",
       "      <td>Alexandra Barcelona A DoubleTree by Hilton</td>\n",
       "      <td>Sweden</td>\n",
       "      <td>Pillows</td>\n",
       "      <td>3</td>\n",
       "      <td>351</td>\n",
       "      <td>Nice welcoming and service</td>\n",
       "      <td>5</td>\n",
       "      <td>15</td>\n",
       "      <td>[' Business trip ', ' Solo traveler ', ' Twin ...</td>\n",
       "      <td>616 day</td>\n",
       "      <td>41.393192</td>\n",
       "      <td>2.161520</td>\n",
       "    </tr>\n",
       "  </tbody>\n",
       "</table>\n",
       "</div>"
      ],
      "text/plain": [
       "                                       hotel_address  \\\n",
       "0                 Via Senigallia 6 20161 Milan Italy   \n",
       "1  Arlandaweg 10 Westpoort 1043 EW Amsterdam Neth...   \n",
       "2        Mallorca 251 Eixample 08008 Barcelona Spain   \n",
       "\n",
       "   additional_number_of_scoring review_date  average_score  \\\n",
       "0                           904   7/21/2017            8.1   \n",
       "1                           612  12/12/2016            8.6   \n",
       "2                            46  11/26/2015            8.3   \n",
       "\n",
       "                                   hotel_name reviewer_nationality  \\\n",
       "0                              Hotel Da Vinci      United Kingdom    \n",
       "1                           Urban Lodge Hotel             Belgium    \n",
       "2  Alexandra Barcelona A DoubleTree by Hilton              Sweden    \n",
       "\n",
       "                                     negative_review  \\\n",
       "0   Would have appreciated a shop in the hotel th...   \n",
       "1        No tissue paper box was present at the room   \n",
       "2                                           Pillows    \n",
       "\n",
       "   review_total_negative_word_counts  total_number_of_reviews  \\\n",
       "0                                 52                    16670   \n",
       "1                                 10                     5018   \n",
       "2                                  3                      351   \n",
       "\n",
       "                                     positive_review  \\\n",
       "0   Hotel was great clean friendly staff free bre...   \n",
       "1                                        No Positive   \n",
       "2                         Nice welcoming and service   \n",
       "\n",
       "   review_total_positive_word_counts  \\\n",
       "0                                 62   \n",
       "1                                  0   \n",
       "2                                  5   \n",
       "\n",
       "   total_number_of_reviews_reviewer_has_given  \\\n",
       "0                                           1   \n",
       "1                                           7   \n",
       "2                                          15   \n",
       "\n",
       "                                                tags days_since_review  \\\n",
       "0  [' Leisure trip ', ' Couple ', ' Double Room '...           13 days   \n",
       "1  [' Leisure trip ', ' Group ', ' Triple Room ',...           234 day   \n",
       "2  [' Business trip ', ' Solo traveler ', ' Twin ...           616 day   \n",
       "\n",
       "         lat       lng  \n",
       "0  45.533137  9.171102  \n",
       "1  52.385649  4.834443  \n",
       "2  41.393192  2.161520  "
      ]
     },
     "metadata": {},
     "output_type": "display_data"
    }
   ],
   "source": [
    "display(test_df.head(3))"
   ]
  },
  {
   "cell_type": "code",
   "execution_count": 257,
   "id": "2456fcc5",
   "metadata": {},
   "outputs": [
    {
     "name": "stdout",
     "output_type": "stream",
     "text": [
      "<class 'pandas.core.frame.DataFrame'>\n",
      "RangeIndex: 386803 entries, 0 to 386802\n",
      "Data columns (total 17 columns):\n",
      " #   Column                                      Non-Null Count   Dtype  \n",
      "---  ------                                      --------------   -----  \n",
      " 0   hotel_address                               386803 non-null  object \n",
      " 1   additional_number_of_scoring                386803 non-null  int64  \n",
      " 2   review_date                                 386803 non-null  object \n",
      " 3   average_score                               386803 non-null  float64\n",
      " 4   hotel_name                                  386803 non-null  object \n",
      " 5   reviewer_nationality                        386803 non-null  object \n",
      " 6   negative_review                             386803 non-null  object \n",
      " 7   review_total_negative_word_counts           386803 non-null  int64  \n",
      " 8   total_number_of_reviews                     386803 non-null  int64  \n",
      " 9   positive_review                             386803 non-null  object \n",
      " 10  review_total_positive_word_counts           386803 non-null  int64  \n",
      " 11  total_number_of_reviews_reviewer_has_given  386803 non-null  int64  \n",
      " 12  reviewer_score                              386803 non-null  float64\n",
      " 13  tags                                        386803 non-null  object \n",
      " 14  days_since_review                           386803 non-null  object \n",
      " 15  lat                                         384355 non-null  float64\n",
      " 16  lng                                         384355 non-null  float64\n",
      "dtypes: float64(4), int64(5), object(8)\n",
      "memory usage: 50.2+ MB\n"
     ]
    },
    {
     "data": {
      "text/plain": [
       "None"
      ]
     },
     "metadata": {},
     "output_type": "display_data"
    }
   ],
   "source": [
    "display(train_df.info())"
   ]
  },
  {
   "cell_type": "code",
   "execution_count": 258,
   "id": "95fcafc4",
   "metadata": {},
   "outputs": [
    {
     "name": "stdout",
     "output_type": "stream",
     "text": [
      "<class 'pandas.core.frame.DataFrame'>\n",
      "RangeIndex: 128935 entries, 0 to 128934\n",
      "Data columns (total 16 columns):\n",
      " #   Column                                      Non-Null Count   Dtype  \n",
      "---  ------                                      --------------   -----  \n",
      " 0   hotel_address                               128935 non-null  object \n",
      " 1   additional_number_of_scoring                128935 non-null  int64  \n",
      " 2   review_date                                 128935 non-null  object \n",
      " 3   average_score                               128935 non-null  float64\n",
      " 4   hotel_name                                  128935 non-null  object \n",
      " 5   reviewer_nationality                        128935 non-null  object \n",
      " 6   negative_review                             128935 non-null  object \n",
      " 7   review_total_negative_word_counts           128935 non-null  int64  \n",
      " 8   total_number_of_reviews                     128935 non-null  int64  \n",
      " 9   positive_review                             128935 non-null  object \n",
      " 10  review_total_positive_word_counts           128935 non-null  int64  \n",
      " 11  total_number_of_reviews_reviewer_has_given  128935 non-null  int64  \n",
      " 12  tags                                        128935 non-null  object \n",
      " 13  days_since_review                           128935 non-null  object \n",
      " 14  lat                                         128115 non-null  float64\n",
      " 15  lng                                         128115 non-null  float64\n",
      "dtypes: float64(3), int64(5), object(8)\n",
      "memory usage: 15.7+ MB\n"
     ]
    },
    {
     "data": {
      "text/plain": [
       "None"
      ]
     },
     "metadata": {},
     "output_type": "display_data"
    }
   ],
   "source": [
    "display(test_df.info())"
   ]
  },
  {
   "cell_type": "code",
   "execution_count": 259,
   "id": "e1d26614",
   "metadata": {},
   "outputs": [
    {
     "data": {
      "text/html": [
       "<div>\n",
       "<style scoped>\n",
       "    .dataframe tbody tr th:only-of-type {\n",
       "        vertical-align: middle;\n",
       "    }\n",
       "\n",
       "    .dataframe tbody tr th {\n",
       "        vertical-align: top;\n",
       "    }\n",
       "\n",
       "    .dataframe thead th {\n",
       "        text-align: right;\n",
       "    }\n",
       "</style>\n",
       "<table border=\"1\" class=\"dataframe\">\n",
       "  <thead>\n",
       "    <tr style=\"text-align: right;\">\n",
       "      <th></th>\n",
       "      <th>reviewer_score</th>\n",
       "      <th>id</th>\n",
       "    </tr>\n",
       "  </thead>\n",
       "  <tbody>\n",
       "    <tr>\n",
       "      <th>0</th>\n",
       "      <td>1</td>\n",
       "      <td>488440</td>\n",
       "    </tr>\n",
       "    <tr>\n",
       "      <th>1</th>\n",
       "      <td>10</td>\n",
       "      <td>274649</td>\n",
       "    </tr>\n",
       "    <tr>\n",
       "      <th>2</th>\n",
       "      <td>3</td>\n",
       "      <td>374688</td>\n",
       "    </tr>\n",
       "  </tbody>\n",
       "</table>\n",
       "</div>"
      ],
      "text/plain": [
       "   reviewer_score      id\n",
       "0               1  488440\n",
       "1              10  274649\n",
       "2               3  374688"
      ]
     },
     "metadata": {},
     "output_type": "display_data"
    }
   ],
   "source": [
    "display(submission_df.head(3))"
   ]
  },
  {
   "cell_type": "code",
   "execution_count": 260,
   "id": "b27e5b35",
   "metadata": {},
   "outputs": [
    {
     "name": "stdout",
     "output_type": "stream",
     "text": [
      "<class 'pandas.core.frame.DataFrame'>\n",
      "RangeIndex: 128935 entries, 0 to 128934\n",
      "Data columns (total 2 columns):\n",
      " #   Column          Non-Null Count   Dtype\n",
      "---  ------          --------------   -----\n",
      " 0   reviewer_score  128935 non-null  int64\n",
      " 1   id              128935 non-null  int64\n",
      "dtypes: int64(2)\n",
      "memory usage: 2.0 MB\n"
     ]
    },
    {
     "data": {
      "text/plain": [
       "None"
      ]
     },
     "metadata": {},
     "output_type": "display_data"
    }
   ],
   "source": [
    "display(submission_df.info())"
   ]
  },
  {
   "cell_type": "code",
   "execution_count": 261,
   "id": "4987f132",
   "metadata": {},
   "outputs": [
    {
     "name": "stdout",
     "output_type": "stream",
     "text": [
      "0    384355\n",
      "2      2448\n",
      "dtype: int64\n",
      "0    128115\n",
      "2       820\n",
      "dtype: int64\n"
     ]
    }
   ],
   "source": [
    "# Проверка на одновременное отстутствие 'lat' и 'lng' в одной строке\n",
    "for df_ in train_df, test_df:\n",
    "    print(df_.isna().sum(axis='columns').value_counts())"
   ]
  },
  {
   "attachments": {},
   "cell_type": "markdown",
   "id": "203ecd11",
   "metadata": {},
   "source": [
    "Видно, что в обоих датасетах есть незаполненные координаты широты и долготы. Причём они отсутствуют одновременно, то есть нет строк с одной заполненной координатой, что немного упрощает дальнейшую работу."
   ]
  },
  {
   "attachments": {},
   "cell_type": "markdown",
   "id": "4713c188",
   "metadata": {},
   "source": [
    "Можно сразу преобразовать **`review_date`** в формат **`datetime`** и посмотреть, в какой период собирались данные."
   ]
  },
  {
   "cell_type": "code",
   "execution_count": 262,
   "id": "4f24309a",
   "metadata": {},
   "outputs": [
    {
     "name": "stdout",
     "output_type": "stream",
     "text": [
      "TRAIN_DF: данные с 2015-08-04 00:00:00 по 2017-08-03 00:00:00\n",
      "TEST_DF: данные с 2015-08-04 00:00:00 по 2017-08-03 00:00:00\n"
     ]
    }
   ],
   "source": [
    "for df_ in train_df, test_df:\n",
    "    df_.review_date = pd.to_datetime(df_.review_date)\n",
    "\n",
    "print(f'TRAIN_DF: данные с {train_df.review_date.min()} по {train_df.review_date.max()}')\n",
    "print(f'TEST_DF: данные с {test_df.review_date.min()} по {test_df.review_date.max()}')"
   ]
  },
  {
   "attachments": {},
   "cell_type": "markdown",
   "id": "14e4b0e3",
   "metadata": {},
   "source": [
    "В обоих датасетах данные собраны с 4 августа 2015 по 4 августа 2017."
   ]
  },
  {
   "attachments": {},
   "cell_type": "markdown",
   "id": "82f4bcf3",
   "metadata": {},
   "source": [
    "## Стратегия дальнейшей работы ##\n",
    "\n",
    "Так как в данном проекте метод обучения модели фиксирован (RandomForestRegressor), и задан критерий качества модели&nbsp;&mdash; достижение минимального значения MAPE (Mean Absolute Percentage Error), то вместо последовательных этапов работы с данными (очистка, создание, преобразование, отбор) представляется более интересной следующая экспериментальная стратегия:\n",
    "\n",
    "Первой итерацией будет простой отбор всех имеющихся числовых признаков и получение первого значения MAPE, от которого потом можно &laquo;плясать&raquo; далее по такому циклу:\n",
    "\n",
    "1. Берём признак и смотрим, что можно сделать с числовым признаком (непрерывный/категориальный, распределение нормальное/нет, необходимость нормализации, стандартизации и других преобразований)\n",
    "2. То же и со строковыми признаками (что можно вытянуть из строк сначала в числа или категории, далее &laquo;GOTO п.1&raquo;).\n",
    "3. Отбор признаков (устранение излишней корреляции и мультиколлинеарности).\n",
    "4. Обучение модели, отслеживание MAPE и анализ важности признаков.\n",
    "\n",
    "Может быть получится излишне трудоёмко, но главная цель представляется как проработка процесса подготовки данных для готовой модели.\n",
    "\n",
    "Кроме того, эксперименты показали, что для некоторых операций кодирования и нормализации удобно временно объединить обучающие и тестовые данные с дальнейшим их разделением перед обучением и тестированием модели. Поэтому в тестовый датасет добавляется заполненный нулями признак **`reviewer_score`** и в оба датасета&nbsp;&mdash; логический признак **`is_train`** для их последующего разделения:"
   ]
  },
  {
   "cell_type": "code",
   "execution_count": 263,
   "id": "486d2da6",
   "metadata": {},
   "outputs": [
    {
     "name": "stdout",
     "output_type": "stream",
     "text": [
      "<class 'pandas.core.frame.DataFrame'>\n",
      "RangeIndex: 515738 entries, 0 to 515737\n",
      "Data columns (total 18 columns):\n",
      " #   Column                                      Non-Null Count   Dtype         \n",
      "---  ------                                      --------------   -----         \n",
      " 0   hotel_address                               515738 non-null  object        \n",
      " 1   additional_number_of_scoring                515738 non-null  int64         \n",
      " 2   review_date                                 515738 non-null  datetime64[ns]\n",
      " 3   average_score                               515738 non-null  float64       \n",
      " 4   hotel_name                                  515738 non-null  object        \n",
      " 5   reviewer_nationality                        515738 non-null  object        \n",
      " 6   negative_review                             515738 non-null  object        \n",
      " 7   review_total_negative_word_counts           515738 non-null  int64         \n",
      " 8   total_number_of_reviews                     515738 non-null  int64         \n",
      " 9   positive_review                             515738 non-null  object        \n",
      " 10  review_total_positive_word_counts           515738 non-null  int64         \n",
      " 11  total_number_of_reviews_reviewer_has_given  515738 non-null  int64         \n",
      " 12  reviewer_score                              515738 non-null  float64       \n",
      " 13  tags                                        515738 non-null  object        \n",
      " 14  days_since_review                           515738 non-null  object        \n",
      " 15  lat                                         512470 non-null  float64       \n",
      " 16  lng                                         512470 non-null  float64       \n",
      " 17  is_train                                    515738 non-null  bool          \n",
      "dtypes: bool(1), datetime64[ns](1), float64(4), int64(5), object(7)\n",
      "memory usage: 67.4+ MB\n"
     ]
    },
    {
     "data": {
      "text/plain": [
       "None"
      ]
     },
     "metadata": {},
     "output_type": "display_data"
    }
   ],
   "source": [
    "test_df['reviewer_score'] = 0\n",
    "train_df['is_train'] = True\n",
    "test_df['is_train'] = False\n",
    "\n",
    "# Слияние датасетов в один\n",
    "full_df = pd.concat([train_df, test_df], axis='index', ignore_index=True)\n",
    "display(full_df.info())"
   ]
  },
  {
   "attachments": {},
   "cell_type": "markdown",
   "id": "f2dec2d6",
   "metadata": {},
   "source": [
    "### 1. **`hotel_address`**, **`lat`**, **`lng`**: One-hot-кодирование признаков города из **`hotel_address`** и заполнение недостающих **`lat`** и **`lng`** среднегородскими значениями ###"
   ]
  },
  {
   "cell_type": "code",
   "execution_count": 264,
   "id": "7fc362f7",
   "metadata": {},
   "outputs": [
    {
     "name": "stdout",
     "output_type": "stream",
     "text": [
      "1493 уникальных адресов отелей\n",
      "1472 уникальных долгот\n",
      "1472 уникальных широт\n",
      "17 отелей без координат\n"
     ]
    }
   ],
   "source": [
    "# Создание временного логического признака 'lost_hotel'\n",
    "# (где координаты отсутствуют)\n",
    "full_df['lost_hotel'] = full_df.lat.isna()\n",
    "\n",
    "print(f'{full_df.hotel_address.nunique()} уникальных адресов отелей')\n",
    "print(f'{full_df.lng.nunique()} уникальных долгот')\n",
    "print(f'{full_df.lat.nunique()} уникальных широт')\n",
    "print(f'{full_df[full_df.lost_hotel].hotel_address.nunique()} отелей без координат')"
   ]
  },
  {
   "attachments": {},
   "cell_type": "markdown",
   "id": "ea83de29",
   "metadata": {},
   "source": [
    "Итак, мы имеем дело всего с **1493** отелями. Для них есть **1472** уникальных координат и всего **17** отелей без координат (далее&nbsp;&mdash; &laquo;потерянные отели&raquo;, `lost_hotel` для удобства). Видимо, ещё у **4** оставшихся отелей координаты могут совпадать с какими-то другими.\n",
    "\n",
    "Ещё можно посмотреть структуру содержимого **`hotel_address`**:"
   ]
  },
  {
   "cell_type": "code",
   "execution_count": 265,
   "id": "e22c7889",
   "metadata": {},
   "outputs": [
    {
     "name": "stdout",
     "output_type": "stream",
     "text": [
      "Stratton Street Mayfair Westminster Borough London W1J 8LT United Kingdom\n",
      "130 134 Southampton Row Camden London WC1B 5AF United Kingdom\n",
      "151 bis Rue de Rennes 6th arr 75006 Paris France\n",
      "216 Avenue Jean Jaures 19th arr 75019 Paris France\n",
      "Molenwerf 1 1014 AG Amsterdam Netherlands\n",
      "Via Mecenate 121 20138 Milan Italy\n",
      "97 Cromwell Road Kensington and Chelsea London SW7 4DN United Kingdom\n",
      "Josefsgasse 4 6 08 Josefstadt 1080 Vienna Austria\n",
      "190 Queen s Gate Kensington and Chelsea London SW7 5EX United Kingdom\n",
      "Holland Park Avenue Kensington and Chelsea London W11 4UL United Kingdom\n"
     ]
    }
   ],
   "source": [
    "for str_ in full_df.hotel_address[:10]:\n",
    "    print(str_)"
   ]
  },
  {
   "attachments": {},
   "cell_type": "markdown",
   "id": "a38f113f",
   "metadata": {},
   "source": [
    "Структура ясна, можно посчитать число стран и городов, встречающихся во всех адресах:"
   ]
  },
  {
   "cell_type": "code",
   "execution_count": 266,
   "id": "d6735ec4",
   "metadata": {},
   "outputs": [
    {
     "name": "stdout",
     "output_type": "stream",
     "text": [
      "Всего 6 стран: {'Kingdom', 'Netherlands', 'France', 'Austria', 'Spain', 'Italy'}\n",
      "Всего 6 городов: {'Barcelona', 'Vienna', 'London', 'Paris', 'Milan', 'Amsterdam'}\n"
     ]
    }
   ],
   "source": [
    "countries = set()\n",
    "cities = set()\n",
    "for str_ in full_df.hotel_address:\n",
    "    addr_ = str_.split()\n",
    "    countries.add(addr_[-1])\n",
    "    if addr_[-1] == 'Kingdom':\n",
    "        cities.add(addr_[-5])\n",
    "    else:\n",
    "        cities.add(addr_[-2])\n",
    "print(f'Всего {len(countries)} стран: {countries}')\n",
    "print(f'Всего {len(cities)} городов: {cities}')"
   ]
  },
  {
   "attachments": {},
   "cell_type": "markdown",
   "id": "7b6f7e59",
   "metadata": {},
   "source": [
    "Выяснилось, что в датасетах содержатся отели только из шести городов однозначно соответствующих шести стран. Тогда можно сделать следующее:\n",
    "\n",
    "Извлекаем название город из **`hotel_address`** во временный признак **`city`**"
   ]
  },
  {
   "cell_type": "code",
   "execution_count": 267,
   "id": "a7a83607",
   "metadata": {},
   "outputs": [],
   "source": [
    "def get_city(addr_str: str) -> str:\n",
    "    ''' Находит в строке адреса название города\n",
    "    Arguments:\n",
    "        addr_str [str] -- Содержимое ячейки признака 'hotel_address'\n",
    "    Returns:\n",
    "        [str] -- Название города\n",
    "    '''\n",
    "    words_list = addr_str.split()\n",
    "    if words_list[-1] == 'Kingdom':\n",
    "        return words_list[-5]\n",
    "    else:\n",
    "        return words_list[-2]\n",
    "    return 'Unknown'\n",
    "\n",
    "# Создание временного признака 'city' для города\n",
    "full_df['city'] = full_df.hotel_address.apply(get_city)"
   ]
  },
  {
   "attachments": {},
   "cell_type": "markdown",
   "id": "29a99bec",
   "metadata": {},
   "source": [
    "Интересно узнать количество потерянных отелей по городам:"
   ]
  },
  {
   "cell_type": "code",
   "execution_count": 268,
   "id": "2d676634",
   "metadata": {},
   "outputs": [
    {
     "name": "stdout",
     "output_type": "stream",
     "text": [
      "Vienna: 11 потерянных отелей\n",
      "Paris: 3 потерянных отелей\n",
      "Barcelona: 3 потерянных отелей\n"
     ]
    }
   ],
   "source": [
    "# Выделение строк с потерянными отелями в отдельный датафрейм\n",
    "lost_hotel_df = full_df[full_df.lost_hotel]\n",
    "\n",
    "city_list = lost_hotel_df.city.unique()\n",
    "for city_ in city_list:\n",
    "    print(\n",
    "        city_ + ':',\n",
    "        lost_hotel_df[lost_hotel_df.city == city_].hotel_address.nunique(),\n",
    "        'потерянных отелей'\n",
    "    )"
   ]
  },
  {
   "attachments": {},
   "cell_type": "markdown",
   "id": "ec262139",
   "metadata": {},
   "source": [
    "У нас не так уж много потерянных отелей. Можно даже заполнить их **`lat`** и **`lng`** вручную истинными координатами, определёнными по адресам, но можно поступить проще. Поскольку пара значений `(lat, lng)` представляют своего рода уникальный идентификатор, то достаточно каждому адресу отеля сопоставить такую уникальную числовую пару. Почти &laquo;от фонаря&raquo;. Например, чтобы не сильно портить статисткику распределения, для 17 отелей назначить пары в пределах соответствующих IQR (от Q25 до Q75) для каждого из трёх городов."
   ]
  },
  {
   "cell_type": "code",
   "execution_count": 269,
   "id": "1927ee9b",
   "metadata": {},
   "outputs": [
    {
     "name": "stderr",
     "output_type": "stream",
     "text": [
      "<ipython-input-269-cc106aa246ca>:29: SettingWithCopyWarning: \n",
      "A value is trying to be set on a copy of a slice from a DataFrame\n",
      "\n",
      "See the caveats in the documentation: https://pandas.pydata.org/pandas-docs/stable/user_guide/indexing.html#returning-a-view-versus-a-copy\n",
      "  full_df.lat.iloc[i_] = new_coords[0]\n",
      "<ipython-input-269-cc106aa246ca>:30: SettingWithCopyWarning: \n",
      "A value is trying to be set on a copy of a slice from a DataFrame\n",
      "\n",
      "See the caveats in the documentation: https://pandas.pydata.org/pandas-docs/stable/user_guide/indexing.html#returning-a-view-versus-a-copy\n",
      "  full_df.lng.iloc[i_] = new_coords[1]\n"
     ]
    }
   ],
   "source": [
    "# Составление словаря адресов потерянных отелей (key)\n",
    "# с новыми координатами (value)\n",
    "lost_hotel_coords_dict = {}\n",
    "for city_ in ['Vienna', 'Paris', 'Barcelona']:\n",
    "    # Выборки для конкретного города\n",
    "    df = full_df[full_df.city == city_]\n",
    "    lost_hotel_per_city_df = lost_hotel_df[lost_hotel_df.city == city_]\n",
    "    # Список адресов потерянных отелей в городе\n",
    "    lost_hotel_addr_list = list(lost_hotel_per_city_df.hotel_address.unique())\n",
    "    lost_hotel_count = len(lost_hotel_addr_list)\n",
    "    # Определение границ IQR для 'lat' и 'lng'\n",
    "    lat_q25 = df.lat.quantile(0.25)\n",
    "    lat_q75 = df.lat.quantile(0.75)\n",
    "    lng_q25 = df.lng.quantile(0.25)\n",
    "    lng_q75 = df.lng.quantile(0.75)\n",
    "    # Формирование наборов значений для 'lat' и 'lng'\n",
    "    lat_tuple = tuple(np.linspace(lat_q25, lat_q75, lost_hotel_count))\n",
    "    lng_tuple = tuple(np.linspace(lng_q25, lng_q75, lost_hotel_count))\n",
    "    # Формирование словаря\n",
    "    coords_dict = dict(zip(lost_hotel_addr_list, zip(lat_tuple, lng_tuple)))\n",
    "    lost_hotel_coords_dict.update(coords_dict)\n",
    "\n",
    "# Составление списков индексов строк с потерянными отелями\n",
    "lost_hotel_index_list = list(lost_hotel_df.index)\n",
    "\n",
    "# Заполнение отсутствующих координат\n",
    "for i_ in lost_hotel_index_list:\n",
    "    new_coords = lost_hotel_coords_dict.get(full_df.hotel_address.iloc[i_])\n",
    "    full_df.lat.iloc[i_] = new_coords[0]\n",
    "    full_df.lng.iloc[i_] = new_coords[1]\n",
    "\n",
    "# display(full_df.info())"
   ]
  },
  {
   "attachments": {},
   "cell_type": "markdown",
   "id": "5ddb4ca3",
   "metadata": {},
   "source": [
    "Заполняем пустые ячейки в признаках **`lat`** и **`lng`** координатами центров соответствующих городов (взяты из внешних источников)"
   ]
  },
  {
   "cell_type": "code",
   "execution_count": 270,
   "id": "32d62e22",
   "metadata": {},
   "outputs": [
    {
     "data": {
      "text/plain": [
       "\"\\nfull_df.lat.fillna(0, inplace=True)\\nfull_df.lng.fillna(0, inplace=True)\\n\\n# Координаты центров городов (lat, lng) из внешних источников\\nCITY_COORDS = {\\n    'Amsterdam': (52.383333, 4.9),\\n    'Barcelona': (41.383333, 2.183333),\\n    'London': (51.507222, -0.1275),\\n    'Milan': (45.466667, 9.166667),\\n    'Paris': (48.833333, 2.333333),\\n    'Vienna': (48.216667, 16.373333)\\n}\\n\\ndef write_lat(city_: str, lat_: float) -> float:\\n    ''' Выдаёт для строки датафрейма недостающее значение широты в\\n    зависимости от признака 'city'. Существующее значение оставляет без\\n    изменений.\\n    Arguments:\\n        city_ [str] -- Город\\n        lat_ [float] -- Широта\\n    Returns:\\n        [float] -- Широта (lattitude)\\n    '''\\n    if lat_ == 0:\\n        return CITY_COORDS[city_][0]\\n    return lat_\\n\\n\\ndef write_lng(city_: str, lng_: float) -> float:\\n    ''' Выдаёт для строки датафрейма недостающее значение долготы в\\n    зависимости от признака 'city'. Существующее значение оставляет без\\n    изменений.\\n    Arguments:\\n        city_ [str] -- Город\\n        kng_ [float] -- Долгота\\n    Returns:\\n        [float] -- Обновлённая долгота (longitude)\\n    '''\\n    if lng_ == 0:\\n        return CITY_COORDS[city_][1]\\n    return lng_\\n\\n\\n# Заполнение недостающих значений в признаках 'lat' и 'lng'\\nfull_df.lat = full_df[['city', 'lat']].apply(\\n                                            lambda x:\\n                                            write_lat(x.city, x.lat),\\n                                            axis='columns'\\n                                            )\\nfull_df.lng = full_df[['city', 'lng']].apply(\\n                                             lambda x:\\n                                             write_lng(x.city, x.lng),\\n                                             axis='columns'\\n                                            )\\n\""
      ]
     },
     "execution_count": 270,
     "metadata": {},
     "output_type": "execute_result"
    }
   ],
   "source": [
    "\"\"\"\n",
    "full_df.lat.fillna(0, inplace=True)\n",
    "full_df.lng.fillna(0, inplace=True)\n",
    "\n",
    "# Координаты центров городов (lat, lng) из внешних источников\n",
    "CITY_COORDS = {\n",
    "    'Amsterdam': (52.383333, 4.9),\n",
    "    'Barcelona': (41.383333, 2.183333),\n",
    "    'London': (51.507222, -0.1275),\n",
    "    'Milan': (45.466667, 9.166667),\n",
    "    'Paris': (48.833333, 2.333333),\n",
    "    'Vienna': (48.216667, 16.373333)\n",
    "}\n",
    "\n",
    "def write_lat(city_: str, lat_: float) -> float:\n",
    "    ''' Выдаёт для строки датафрейма недостающее значение широты в\n",
    "    зависимости от признака 'city'. Существующее значение оставляет без\n",
    "    изменений.\n",
    "    Arguments:\n",
    "        city_ [str] -- Город\n",
    "        lat_ [float] -- Широта\n",
    "    Returns:\n",
    "        [float] -- Широта (lattitude)\n",
    "    '''\n",
    "    if lat_ == 0:\n",
    "        return CITY_COORDS[city_][0]\n",
    "    return lat_\n",
    "\n",
    "\n",
    "def write_lng(city_: str, lng_: float) -> float:\n",
    "    ''' Выдаёт для строки датафрейма недостающее значение долготы в\n",
    "    зависимости от признака 'city'. Существующее значение оставляет без\n",
    "    изменений.\n",
    "    Arguments:\n",
    "        city_ [str] -- Город\n",
    "        kng_ [float] -- Долгота\n",
    "    Returns:\n",
    "        [float] -- Обновлённая долгота (longitude)\n",
    "    '''\n",
    "    if lng_ == 0:\n",
    "        return CITY_COORDS[city_][1]\n",
    "    return lng_\n",
    "\n",
    "\n",
    "# Заполнение недостающих значений в признаках 'lat' и 'lng'\n",
    "full_df.lat = full_df[['city', 'lat']].apply(\n",
    "                                            lambda x:\n",
    "                                            write_lat(x.city, x.lat),\n",
    "                                            axis='columns'\n",
    "                                            )\n",
    "full_df.lng = full_df[['city', 'lng']].apply(\n",
    "                                             lambda x:\n",
    "                                             write_lng(x.city, x.lng),\n",
    "                                             axis='columns'\n",
    "                                            )\n",
    "\"\"\""
   ]
  },
  {
   "attachments": {},
   "cell_type": "markdown",
   "id": "de4203e8",
   "metadata": {},
   "source": [
    "Избавляемся от признаков **`city`** и **`lost_hotel`**:"
   ]
  },
  {
   "cell_type": "code",
   "execution_count": 271,
   "id": "3fa3d7e6",
   "metadata": {},
   "outputs": [],
   "source": [
    "# for df_ in train_df, test_df:\n",
    "#     df_.drop(columns=['city', 'lost_hotel'], inplace=True)\n",
    "full_df.drop(columns=['city', 'lost_hotel'], inplace=True)"
   ]
  },
  {
   "attachments": {},
   "cell_type": "markdown",
   "id": "b002ad50",
   "metadata": {},
   "source": [
    "### 2. **`review_date`**: Создание признака **`DOY`** (Day Of Year) ###"
   ]
  },
  {
   "attachments": {},
   "cell_type": "markdown",
   "id": "fb6ec48d",
   "metadata": {},
   "source": [
    "Сама по себе дата ничего полезного не несёт, к тому же коррелирует с **`days_since_review`**. Но может быть полезен день года (посещаемость и отзывы в зависимости от сезона)."
   ]
  },
  {
   "cell_type": "code",
   "execution_count": 272,
   "id": "8d97ebba",
   "metadata": {},
   "outputs": [
    {
     "data": {
      "text/plain": [
       "\"\\nfor df_ in train_df, test_df:\\n    df_['DOY'] = df_.review_date.dt.dayofyear\\n\""
      ]
     },
     "execution_count": 272,
     "metadata": {},
     "output_type": "execute_result"
    }
   ],
   "source": [
    "'''\n",
    "for df_ in train_df, test_df:\n",
    "    df_['DOY'] = df_.review_date.dt.dayofyear\n",
    "'''"
   ]
  },
  {
   "attachments": {},
   "cell_type": "markdown",
   "id": "82d18c1e",
   "metadata": {},
   "source": [
    "### 3. **`days_since_review`**: Преобразование в числовой формат ###"
   ]
  },
  {
   "cell_type": "code",
   "execution_count": 273,
   "id": "f77fb17f",
   "metadata": {},
   "outputs": [],
   "source": [
    "full_df.days_since_review = \\\n",
    "    full_df.days_since_review.apply(lambda x: int(x.split()[0]))"
   ]
  },
  {
   "attachments": {},
   "cell_type": "markdown",
   "id": "5c85c6ca",
   "metadata": {},
   "source": [
    "### 4. **`tags`**: Создание числового признака **`stayed_nights`** и кодирование некоторых дополнительных признаков ###"
   ]
  },
  {
   "cell_type": "code",
   "execution_count": 274,
   "id": "46d8fb3f",
   "metadata": {},
   "outputs": [
    {
     "data": {
      "text/plain": [
       "'\\nsplit_tag_str = lambda x: x.lstrip(\"[\\' \").rstrip(\" \\']\").split(\" \\', \\' \")\\n\\ndef get_stayed_nights(tags_str: str) -> int:\\n    \\'\\'\\' Разбивает строку признака \\'tags\\' на отдельные тэги. Затем ищет\\n    тэг \\'Stayed * nights\\' и возвращает число ночёвок. Если тэг не\\n    найден, возвращает 0.\\n    Arguments:\\n        tags_str [str] -- Содержимое ячейки признака \\'tags\\'\\n    Returns:\\n        [int] -- Число проведённых в отеле ночей\\n    \\'\\'\\'\\n    tag_list = split_tag_str(tags_str)\\n    for tag_ in tag_list:\\n        words_list = tag_.split()\\n        if words_list[0] == \\'Stayed\\':\\n            return int(words_list[1])\\n    return 0\\n\\nfor df_ in train_df, test_df:\\n    df_[\\'stayed_nights\\'] = df_.tags.apply(get_stayed_nights)\\n'"
      ]
     },
     "execution_count": 274,
     "metadata": {},
     "output_type": "execute_result"
    }
   ],
   "source": [
    "\"\"\"\n",
    "split_tag_str = lambda x: x.lstrip(\"[\\' \").rstrip(\" \\']\").split(\" \\', \\' \")\n",
    "\n",
    "def get_stayed_nights(tags_str: str) -> int:\n",
    "    ''' Разбивает строку признака 'tags' на отдельные тэги. Затем ищет\n",
    "    тэг 'Stayed * nights' и возвращает число ночёвок. Если тэг не\n",
    "    найден, возвращает 0.\n",
    "    Arguments:\n",
    "        tags_str [str] -- Содержимое ячейки признака 'tags'\n",
    "    Returns:\n",
    "        [int] -- Число проведённых в отеле ночей\n",
    "    '''\n",
    "    tag_list = split_tag_str(tags_str)\n",
    "    for tag_ in tag_list:\n",
    "        words_list = tag_.split()\n",
    "        if words_list[0] == 'Stayed':\n",
    "            return int(words_list[1])\n",
    "    return 0\n",
    "\n",
    "for df_ in train_df, test_df:\n",
    "    df_['stayed_nights'] = df_.tags.apply(get_stayed_nights)\n",
    "\"\"\""
   ]
  },
  {
   "attachments": {},
   "cell_type": "markdown",
   "id": "643ef763",
   "metadata": {},
   "source": [
    "Можно посмотреть на Top-25 наиболее часто встречающихся тэгов:"
   ]
  },
  {
   "cell_type": "code",
   "execution_count": 275,
   "id": "e7690261",
   "metadata": {},
   "outputs": [
    {
     "data": {
      "text/plain": [
       "\"\\n# Создание словаря-счётчика тэгов\\ntag_count_dict = {}\\nfor tag_str in train_df.tags:\\n    tag_list = split_tag_str(tag_str)\\n    for tag_ in tag_list:\\n        if tag_ in tag_count_dict:\\n            tag_count_dict[tag_] += 1\\n        else:\\n            tag_count_dict[tag_] = 1\\n\\n# Лист ключей словаря, отсортированный по убыванию счётчика тэгов\\nsorted_tag_list = sorted(tag_count_dict,\\n                         key=lambda x: tag_count_dict[x], reverse=True)\\n\\nfor item in sorted_tag_list[:28]:\\n    print(f'{item} == {tag_count_dict[item]}')\\n\""
      ]
     },
     "execution_count": 275,
     "metadata": {},
     "output_type": "execute_result"
    }
   ],
   "source": [
    "'''\n",
    "# Создание словаря-счётчика тэгов\n",
    "tag_count_dict = {}\n",
    "for tag_str in train_df.tags:\n",
    "    tag_list = split_tag_str(tag_str)\n",
    "    for tag_ in tag_list:\n",
    "        if tag_ in tag_count_dict:\n",
    "            tag_count_dict[tag_] += 1\n",
    "        else:\n",
    "            tag_count_dict[tag_] = 1\n",
    "\n",
    "# Лист ключей словаря, отсортированный по убыванию счётчика тэгов\n",
    "sorted_tag_list = sorted(tag_count_dict,\n",
    "                         key=lambda x: tag_count_dict[x], reverse=True)\n",
    "\n",
    "for item in sorted_tag_list[:28]:\n",
    "    print(f'{item} == {tag_count_dict[item]}')\n",
    "'''"
   ]
  },
  {
   "attachments": {},
   "cell_type": "markdown",
   "id": "ea007435",
   "metadata": {},
   "source": [
    "Для создания новых (бинарных) признаков могут быть интересны тэги **`Leisure trip`**, **`Business trip`**, **`Solo traveler`**, **`Couple`**, **`Group`**. Эксперименты показали, что **`Business trip`** имеет сильную корреляцию (0.9) с **`Leisure trip`**, поэтому его не кодируем."
   ]
  },
  {
   "cell_type": "code",
   "execution_count": 276,
   "id": "5bcc3ac0",
   "metadata": {},
   "outputs": [
    {
     "data": {
      "text/plain": [
       "\"\\nfor df_ in train_df, test_df:\\n    df_['leisure'] = df_.tags.apply(lambda x: 1 if 'Leisure trip' in x else 0)\\n    # df_['business'] = df_.tags.apply(lambda x: 1 if 'Business trip' in x else 0)\\n    df_['solo'] = df_.tags.apply(lambda x: 1 if 'Solo traveler' in x else 0)\\n    df_['couple'] = df_.tags.apply(lambda x: 1 if 'Couple' in x else 0)\\n    df_['group'] = df_.tags.apply(lambda x: 1 if 'Group' in x else 0)\\n\""
      ]
     },
     "execution_count": 276,
     "metadata": {},
     "output_type": "execute_result"
    }
   ],
   "source": [
    "'''\n",
    "for df_ in train_df, test_df:\n",
    "    df_['leisure'] = df_.tags.apply(lambda x: 1 if 'Leisure trip' in x else 0)\n",
    "    # df_['business'] = df_.tags.apply(lambda x: 1 if 'Business trip' in x else 0)\n",
    "    df_['solo'] = df_.tags.apply(lambda x: 1 if 'Solo traveler' in x else 0)\n",
    "    df_['couple'] = df_.tags.apply(lambda x: 1 if 'Couple' in x else 0)\n",
    "    df_['group'] = df_.tags.apply(lambda x: 1 if 'Group' in x else 0)\n",
    "'''"
   ]
  },
  {
   "attachments": {},
   "cell_type": "markdown",
   "id": "a3fd95cc",
   "metadata": {},
   "source": [
    "### 5. **`additional_number_of_scoring`**: ###"
   ]
  },
  {
   "cell_type": "code",
   "execution_count": 277,
   "id": "3a7576e3",
   "metadata": {},
   "outputs": [
    {
     "data": {
      "text/plain": [
       "'\\nfig, axes = plt.subplots(nrows=2, ncols=1, figsize=(10, 3), sharex=True)\\nsns.boxplot(\\n    data=train_df.additional_number_of_scoring,\\n    orient=\\'h\\',\\n    ax=axes[0]\\n)\\nsns.histplot(\\n    data=train_df.additional_number_of_scoring,\\n    bins=50,\\n    ax=axes[1]\\n)\\naxes[0].set_title(\\'Распределение \"additional_number_of_scoring\" в обучающем датасете)\\');\\n'"
      ]
     },
     "execution_count": 277,
     "metadata": {},
     "output_type": "execute_result"
    }
   ],
   "source": [
    "'''\n",
    "fig, axes = plt.subplots(nrows=2, ncols=1, figsize=(10, 3), sharex=True)\n",
    "sns.boxplot(\n",
    "    data=train_df.additional_number_of_scoring,\n",
    "    orient='h',\n",
    "    ax=axes[0]\n",
    ")\n",
    "sns.histplot(\n",
    "    data=train_df.additional_number_of_scoring,\n",
    "    bins=50,\n",
    "    ax=axes[1]\n",
    ")\n",
    "axes[0].set_title('Распределение \"additional_number_of_scoring\" в обучающем датасете)');\n",
    "'''"
   ]
  },
  {
   "cell_type": "code",
   "execution_count": 278,
   "id": "4f6ad988",
   "metadata": {},
   "outputs": [
    {
     "data": {
      "text/plain": [
       "'\\nplt.subplot(1, 1, 1)\\nstats.probplot(train_df.additional_number_of_scoring, plot=plt)\\nplt.show();\\n'"
      ]
     },
     "execution_count": 278,
     "metadata": {},
     "output_type": "execute_result"
    }
   ],
   "source": [
    "'''\n",
    "plt.subplot(1, 1, 1)\n",
    "stats.probplot(train_df.additional_number_of_scoring, plot=plt)\n",
    "plt.show();\n",
    "'''"
   ]
  },
  {
   "attachments": {},
   "cell_type": "markdown",
   "id": "6ba69f91",
   "metadata": {},
   "source": [
    "### 5. **`average_score`**: Стандартизация (preprocessing.StandardScaler) ###"
   ]
  },
  {
   "cell_type": "code",
   "execution_count": 279,
   "id": "8b730685",
   "metadata": {},
   "outputs": [
    {
     "data": {
      "text/plain": [
       "'\\nfig, axes = plt.subplots(nrows=2, ncols=1, figsize=(10, 3), sharex=True)\\nsns.boxplot(\\n    data=train_df.average_score,\\n    orient=\\'h\\',\\n    ax=axes[0]\\n)\\nsns.histplot(\\n    data=train_df.average_score,\\n    bins=50,\\n    ax=axes[1]\\n)\\naxes[0].set_title(\\'Распределение \"average_score\" в обучающем датасете\\');\\n'"
      ]
     },
     "execution_count": 279,
     "metadata": {},
     "output_type": "execute_result"
    }
   ],
   "source": [
    "'''\n",
    "fig, axes = plt.subplots(nrows=2, ncols=1, figsize=(10, 3), sharex=True)\n",
    "sns.boxplot(\n",
    "    data=train_df.average_score,\n",
    "    orient='h',\n",
    "    ax=axes[0]\n",
    ")\n",
    "sns.histplot(\n",
    "    data=train_df.average_score,\n",
    "    bins=50,\n",
    "    ax=axes[1]\n",
    ")\n",
    "axes[0].set_title('Распределение \"average_score\" в обучающем датасете');\n",
    "'''"
   ]
  },
  {
   "cell_type": "code",
   "execution_count": 280,
   "id": "432aa8c6",
   "metadata": {},
   "outputs": [
    {
     "data": {
      "text/plain": [
       "'\\nplt.subplot(1, 1, 1)\\nstats.probplot(train_df.average_score, plot=plt)\\nplt.show();\\n'"
      ]
     },
     "execution_count": 280,
     "metadata": {},
     "output_type": "execute_result"
    }
   ],
   "source": [
    "'''\n",
    "plt.subplot(1, 1, 1)\n",
    "stats.probplot(train_df.average_score, plot=plt)\n",
    "plt.show();\n",
    "'''"
   ]
  },
  {
   "attachments": {},
   "cell_type": "markdown",
   "id": "92f7aa5f",
   "metadata": {},
   "source": [
    "Только признак average_score показывает более-менее нормальное распределение, поэтому его можно стандартизировать."
   ]
  },
  {
   "cell_type": "code",
   "execution_count": 281,
   "id": "9dbf6f48",
   "metadata": {},
   "outputs": [
    {
     "data": {
      "text/plain": [
       "\"\\ncol_list = [\\n    'average_score',\\n]\\ns_scaler = preprocessing.StandardScaler()\\nfor df_ in train_df, test_df:\\n    scaled_df = s_scaler.fit_transform(df_[col_list])\\n    scaled_df = pd.DataFrame(scaled_df, columns=col_list)\\n    df_.update(scaled_df)\\n\""
      ]
     },
     "execution_count": 281,
     "metadata": {},
     "output_type": "execute_result"
    }
   ],
   "source": [
    "'''\n",
    "col_list = [\n",
    "    'average_score',\n",
    "]\n",
    "s_scaler = preprocessing.StandardScaler()\n",
    "for df_ in train_df, test_df:\n",
    "    scaled_df = s_scaler.fit_transform(df_[col_list])\n",
    "    scaled_df = pd.DataFrame(scaled_df, columns=col_list)\n",
    "    df_.update(scaled_df)\n",
    "'''\n"
   ]
  },
  {
   "attachments": {},
   "cell_type": "markdown",
   "id": "e2702a00",
   "metadata": {},
   "source": [
    "### 6. **`total_number_of_reviews`**: ###"
   ]
  },
  {
   "cell_type": "code",
   "execution_count": 282,
   "id": "d8a93678",
   "metadata": {},
   "outputs": [
    {
     "data": {
      "text/plain": [
       "'\\nfig, axes = plt.subplots(nrows=2, ncols=1, figsize=(10, 3), sharex=True)\\nsns.boxplot(\\n    data=train_df.total_number_of_reviews,\\n    orient=\\'h\\',\\n    ax=axes[0]\\n)\\nsns.histplot(\\n    data=train_df.total_number_of_reviews,\\n    bins=50,\\n    ax=axes[1]\\n)\\naxes[0].set_title(\\'Распределение \"total_number_of_reviews\" в обучающем датасете\\');\\n'"
      ]
     },
     "execution_count": 282,
     "metadata": {},
     "output_type": "execute_result"
    }
   ],
   "source": [
    "'''\n",
    "fig, axes = plt.subplots(nrows=2, ncols=1, figsize=(10, 3), sharex=True)\n",
    "sns.boxplot(\n",
    "    data=train_df.total_number_of_reviews,\n",
    "    orient='h',\n",
    "    ax=axes[0]\n",
    ")\n",
    "sns.histplot(\n",
    "    data=train_df.total_number_of_reviews,\n",
    "    bins=50,\n",
    "    ax=axes[1]\n",
    ")\n",
    "axes[0].set_title('Распределение \"total_number_of_reviews\" в обучающем датасете');\n",
    "'''"
   ]
  },
  {
   "cell_type": "code",
   "execution_count": 283,
   "id": "0e45edf3",
   "metadata": {},
   "outputs": [
    {
     "data": {
      "text/plain": [
       "'\\nplt.subplot(1, 1, 1)\\nstats.probplot(train_df.total_number_of_reviews, plot=plt)\\nplt.show();\\n'"
      ]
     },
     "execution_count": 283,
     "metadata": {},
     "output_type": "execute_result"
    }
   ],
   "source": [
    "'''\n",
    "plt.subplot(1, 1, 1)\n",
    "stats.probplot(train_df.total_number_of_reviews, plot=plt)\n",
    "plt.show();\n",
    "'''"
   ]
  },
  {
   "attachments": {},
   "cell_type": "markdown",
   "id": "961ef80a",
   "metadata": {},
   "source": [
    "### 7. **`total_number_of_reviews_reviewer_has_given`**: ###"
   ]
  },
  {
   "cell_type": "code",
   "execution_count": 284,
   "id": "238563b2",
   "metadata": {},
   "outputs": [
    {
     "data": {
      "text/plain": [
       "'\\nfig, axes = plt.subplots(nrows=2, ncols=1, figsize=(10, 3), sharex=True)\\nsns.boxplot(\\n    data=train_df.total_number_of_reviews_reviewer_has_given,\\n    orient=\\'h\\',\\n    ax=axes[0]\\n)\\nsns.histplot(\\n    data=train_df.total_number_of_reviews_reviewer_has_given,\\n    bins=50,\\n    ax=axes[1]\\n)\\naxes[0].set_title(\\'Распределение \"total_number_of_reviews_reviewer_has_given\" в обучающем датасете\\');\\n'"
      ]
     },
     "execution_count": 284,
     "metadata": {},
     "output_type": "execute_result"
    }
   ],
   "source": [
    "'''\n",
    "fig, axes = plt.subplots(nrows=2, ncols=1, figsize=(10, 3), sharex=True)\n",
    "sns.boxplot(\n",
    "    data=train_df.total_number_of_reviews_reviewer_has_given,\n",
    "    orient='h',\n",
    "    ax=axes[0]\n",
    ")\n",
    "sns.histplot(\n",
    "    data=train_df.total_number_of_reviews_reviewer_has_given,\n",
    "    bins=50,\n",
    "    ax=axes[1]\n",
    ")\n",
    "axes[0].set_title('Распределение \"total_number_of_reviews_reviewer_has_given\" в обучающем датасете');\n",
    "'''"
   ]
  },
  {
   "cell_type": "code",
   "execution_count": 285,
   "id": "8cd36fae",
   "metadata": {},
   "outputs": [
    {
     "data": {
      "text/plain": [
       "'\\nplt.subplot(1, 1, 1)\\nstats.probplot(train_df.total_number_of_reviews_reviewer_has_given, plot=plt)\\nplt.show();\\n'"
      ]
     },
     "execution_count": 285,
     "metadata": {},
     "output_type": "execute_result"
    }
   ],
   "source": [
    "'''\n",
    "plt.subplot(1, 1, 1)\n",
    "stats.probplot(train_df.total_number_of_reviews_reviewer_has_given, plot=plt)\n",
    "plt.show();\n",
    "'''"
   ]
  },
  {
   "attachments": {},
   "cell_type": "markdown",
   "id": "34c5d172",
   "metadata": {},
   "source": [
    "### 8. **`review_total_positive_word_counts`**: ###"
   ]
  },
  {
   "cell_type": "code",
   "execution_count": 286,
   "id": "7a11f052",
   "metadata": {},
   "outputs": [
    {
     "data": {
      "text/plain": [
       "'\\nfig, axes = plt.subplots(nrows=2, ncols=1, figsize=(10, 3), sharex=True)\\nsns.boxplot(\\n    data=train_df.review_total_positive_word_counts,\\n    orient=\\'h\\',\\n    ax=axes[0]\\n)\\nsns.histplot(\\n    data=train_df.review_total_positive_word_counts,\\n    bins=50,\\n    ax=axes[1]\\n)\\naxes[0].set_title(\\'Распределение \"review_total_positive_word_counts\" в обучающем датасете\\');\\n'"
      ]
     },
     "execution_count": 286,
     "metadata": {},
     "output_type": "execute_result"
    }
   ],
   "source": [
    "'''\n",
    "fig, axes = plt.subplots(nrows=2, ncols=1, figsize=(10, 3), sharex=True)\n",
    "sns.boxplot(\n",
    "    data=train_df.review_total_positive_word_counts,\n",
    "    orient='h',\n",
    "    ax=axes[0]\n",
    ")\n",
    "sns.histplot(\n",
    "    data=train_df.review_total_positive_word_counts,\n",
    "    bins=50,\n",
    "    ax=axes[1]\n",
    ")\n",
    "axes[0].set_title('Распределение \"review_total_positive_word_counts\" в обучающем датасете');\n",
    "'''"
   ]
  },
  {
   "cell_type": "code",
   "execution_count": 287,
   "id": "3bd7640a",
   "metadata": {},
   "outputs": [
    {
     "data": {
      "text/plain": [
       "'\\nplt.subplot(1, 1, 1)\\nstats.probplot(train_df.review_total_positive_word_counts, plot=plt)\\nplt.show();\\n'"
      ]
     },
     "execution_count": 287,
     "metadata": {},
     "output_type": "execute_result"
    }
   ],
   "source": [
    "'''\n",
    "plt.subplot(1, 1, 1)\n",
    "stats.probplot(train_df.review_total_positive_word_counts, plot=plt)\n",
    "plt.show();\n",
    "'''"
   ]
  },
  {
   "attachments": {},
   "cell_type": "markdown",
   "id": "6f1637ee",
   "metadata": {},
   "source": [
    "### 9. **`review_total_negative_word_counts`**: ###"
   ]
  },
  {
   "cell_type": "code",
   "execution_count": 288,
   "id": "e5945f7e",
   "metadata": {},
   "outputs": [
    {
     "data": {
      "text/plain": [
       "'\\nfig, axes = plt.subplots(nrows=2, ncols=1, figsize=(10, 3), sharex=True)\\nsns.boxplot(\\n    data=train_df.review_total_negative_word_counts,\\n    orient=\\'h\\',\\n    ax=axes[0]\\n)\\nsns.histplot(\\n    data=train_df.review_total_negative_word_counts,\\n    bins=50,\\n    ax=axes[1]\\n)\\naxes[0].set_title(\\'Распределение \"review_total_negative_word_counts\" в обучающем датасете\\');\\n'"
      ]
     },
     "execution_count": 288,
     "metadata": {},
     "output_type": "execute_result"
    }
   ],
   "source": [
    "'''\n",
    "fig, axes = plt.subplots(nrows=2, ncols=1, figsize=(10, 3), sharex=True)\n",
    "sns.boxplot(\n",
    "    data=train_df.review_total_negative_word_counts,\n",
    "    orient='h',\n",
    "    ax=axes[0]\n",
    ")\n",
    "sns.histplot(\n",
    "    data=train_df.review_total_negative_word_counts,\n",
    "    bins=50,\n",
    "    ax=axes[1]\n",
    ")\n",
    "axes[0].set_title('Распределение \"review_total_negative_word_counts\" в обучающем датасете');\n",
    "'''"
   ]
  },
  {
   "cell_type": "code",
   "execution_count": 289,
   "id": "2fb9acce",
   "metadata": {},
   "outputs": [
    {
     "data": {
      "text/plain": [
       "'\\nplt.subplot(1, 1, 1)\\nstats.probplot(train_df.review_total_negative_word_counts, plot=plt)\\nplt.show();\\n'"
      ]
     },
     "execution_count": 289,
     "metadata": {},
     "output_type": "execute_result"
    }
   ],
   "source": [
    "'''\n",
    "plt.subplot(1, 1, 1)\n",
    "stats.probplot(train_df.review_total_negative_word_counts, plot=plt)\n",
    "plt.show();\n",
    "'''"
   ]
  },
  {
   "attachments": {},
   "cell_type": "markdown",
   "id": "e0098ea8",
   "metadata": {},
   "source": [
    "### Нормализация выбранных признаков (preprocessing.RobustScaler) ###\n",
    "\n",
    "Эксперименты показали, что результат улучшает нормализация только признаков **`review_total_positive_word_counts`** и **`review_total_negative_word_counts`**."
   ]
  },
  {
   "cell_type": "code",
   "execution_count": 290,
   "id": "fc770630",
   "metadata": {},
   "outputs": [],
   "source": [
    "col_list = [\n",
    "    # 'stayed_nights',\n",
    "    # 'additional_number_of_scoring',\n",
    "    # 'average_score',\n",
    "    # 'total_number_of_reviews',\n",
    "    # 'total_number_of_reviews_reviewer_has_given',\n",
    "    'review_total_positive_word_counts',\n",
    "    'review_total_negative_word_counts'\n",
    "]\n",
    "r_scaler = preprocessing.RobustScaler()\n",
    "\n",
    "# for df_ in train_df, test_df:\n",
    "#     scaled_df = r_scaler.fit_transform(df_[col_list])\n",
    "#     scaled_df = pd.DataFrame(scaled_df, columns=col_list)\n",
    "#     df_.update(scaled_df)\n",
    "\n",
    "scaled_df = r_scaler.fit_transform(full_df[col_list])\n",
    "scaled_df = pd.DataFrame(scaled_df, columns=col_list)\n",
    "full_df.update(scaled_df)\n"
   ]
  },
  {
   "attachments": {},
   "cell_type": "markdown",
   "id": "f87fa1a3",
   "metadata": {},
   "source": [
    "### 10. **`reviewer_nationality`**: Бинарное кодирование (category_encoders.BinaryEncoder) ###"
   ]
  },
  {
   "cell_type": "code",
   "execution_count": 291,
   "id": "d080cc06",
   "metadata": {},
   "outputs": [],
   "source": [
    "# print(f'TRAIN: {train_df.reviewer_nationality.nunique()} уникальных значений в признаке reviewer_nationality')\n",
    "# print(f'TEST: {test_df.reviewer_nationality.nunique()} уникальных значений в признаке reviewer_nationality')"
   ]
  },
  {
   "attachments": {},
   "cell_type": "markdown",
   "id": "52028d37",
   "metadata": {},
   "source": [
    "Множества значений признака **`reviewer_nationality`** в обучающем и тестовом датасетах не совпадают. Самое простое&nbsp;&mdash; слить значения в одно множество, поставить в соответствие каждому элементу уникальное число"
   ]
  },
  {
   "cell_type": "code",
   "execution_count": 292,
   "id": "bc550632",
   "metadata": {},
   "outputs": [
    {
     "data": {
      "text/plain": [
       "\"\\ntrain_country_set = set(train_df.reviewer_nationality.values)\\ntest_country_set = set(test_df.reviewer_nationality.values)\\ntrain_country_set.update(test_country_set)\\nprint(f'{len(train_country_set)} уникальных значений в полном наборе')\\ncountry_map_dict = dict(zip(train_country_set, list(range(len(train_country_set)))))\\n\""
      ]
     },
     "execution_count": 292,
     "metadata": {},
     "output_type": "execute_result"
    }
   ],
   "source": [
    "'''\n",
    "train_country_set = set(train_df.reviewer_nationality.values)\n",
    "test_country_set = set(test_df.reviewer_nationality.values)\n",
    "train_country_set.update(test_country_set)\n",
    "print(f'{len(train_country_set)} уникальных значений в полном наборе')\n",
    "country_map_dict = dict(zip(train_country_set, list(range(len(train_country_set)))))\n",
    "'''"
   ]
  },
  {
   "attachments": {},
   "cell_type": "markdown",
   "id": "223d5b44",
   "metadata": {},
   "source": [
    "В признаке **`reviewer_nationality`** 225 стран. Можно с помощью бинарного кодирования создать до 8 новых признаков, и эксериментально посмотреть, сколько даёт максимальный эффект."
   ]
  },
  {
   "cell_type": "code",
   "execution_count": 293,
   "id": "fd69a46c",
   "metadata": {},
   "outputs": [
    {
     "data": {
      "text/plain": [
       "\"\\ncountry_list = list(train_df.reviewer_nationality.value_counts().nlargest(62).index)\\nfor df_ in train_df, test_df:\\n    df_.reviewer_nationality = df_.reviewer_nationality.apply(\\n                                lambda x: x if x in country_list else ' Other ')\\n\\nb1_encoder = ce.BinaryEncoder(cols=['reviewer_nationality'])\\nb1_country = b1_encoder.fit_transform(train_df.reviewer_nationality)\\ntrain_df = pd.concat([train_df, b1_country], join='outer', axis=1)\\nb2_encoder = ce.BinaryEncoder(cols=['reviewer_nationality'])\\nb2_country = b2_encoder.fit_transform(test_df.reviewer_nationality)\\ntest_df = pd.concat([test_df, b2_country], join='outer', axis=1)\\n\""
      ]
     },
     "execution_count": 293,
     "metadata": {},
     "output_type": "execute_result"
    }
   ],
   "source": [
    "'''\n",
    "country_list = list(train_df.reviewer_nationality.value_counts().nlargest(62).index)\n",
    "for df_ in train_df, test_df:\n",
    "    df_.reviewer_nationality = df_.reviewer_nationality.apply(\n",
    "                                lambda x: x if x in country_list else ' Other ')\n",
    "\n",
    "b1_encoder = ce.BinaryEncoder(cols=['reviewer_nationality'])\n",
    "b1_country = b1_encoder.fit_transform(train_df.reviewer_nationality)\n",
    "train_df = pd.concat([train_df, b1_country], join='outer', axis=1)\n",
    "b2_encoder = ce.BinaryEncoder(cols=['reviewer_nationality'])\n",
    "b2_country = b2_encoder.fit_transform(test_df.reviewer_nationality)\n",
    "test_df = pd.concat([test_df, b2_country], join='outer', axis=1)\n",
    "'''"
   ]
  },
  {
   "cell_type": "code",
   "execution_count": 294,
   "id": "ecd62127",
   "metadata": {},
   "outputs": [],
   "source": [
    "# display(train_df.shape)\n",
    "# display(b1_country.shape)\n",
    "# display(test_df.shape)\n",
    "# display(b2_country.shape)"
   ]
  },
  {
   "attachments": {},
   "cell_type": "markdown",
   "id": "edc70af3",
   "metadata": {},
   "source": [
    "### 11. **`hotel_name`** ###"
   ]
  },
  {
   "cell_type": "code",
   "execution_count": 295,
   "id": "983a5ffa",
   "metadata": {},
   "outputs": [],
   "source": [
    "# display(train_df.hotel_name.value_counts())"
   ]
  },
  {
   "cell_type": "code",
   "execution_count": 296,
   "metadata": {},
   "outputs": [
    {
     "data": {
      "text/plain": [
       "\"\\nhotel_list = list(train_df.hotel_name.value_counts().nlargest(62).index)\\nfor df_ in train_df, test_df:\\n    df_.hotel_name = df_.hotel_name.apply(\\n                                lambda x: x if x in hotel_list else 'Other')\\n\\nbin1_encoder = ce.BinaryEncoder(cols=['hotel_name'])\\nbin1_hotel = bin1_encoder.fit_transform(train_df.hotel_name)\\ntrain_df = pd.concat([train_df, bin1_hotel], join='outer', axis=1)\\nbin2_encoder = ce.BinaryEncoder(cols=['hotel_name'])\\nbin2_hotel = bin2_encoder.fit_transform(test_df.hotel_name)\\ntest_df = pd.concat([test_df, bin2_hotel], join='outer', axis=1)\\n\""
      ]
     },
     "execution_count": 296,
     "metadata": {},
     "output_type": "execute_result"
    }
   ],
   "source": [
    "'''\n",
    "hotel_list = list(train_df.hotel_name.value_counts().nlargest(62).index)\n",
    "for df_ in train_df, test_df:\n",
    "    df_.hotel_name = df_.hotel_name.apply(\n",
    "                                lambda x: x if x in hotel_list else 'Other')\n",
    "\n",
    "bin1_encoder = ce.BinaryEncoder(cols=['hotel_name'])\n",
    "bin1_hotel = bin1_encoder.fit_transform(train_df.hotel_name)\n",
    "train_df = pd.concat([train_df, bin1_hotel], join='outer', axis=1)\n",
    "bin2_encoder = ce.BinaryEncoder(cols=['hotel_name'])\n",
    "bin2_hotel = bin2_encoder.fit_transform(test_df.hotel_name)\n",
    "test_df = pd.concat([test_df, bin2_hotel], join='outer', axis=1)\n",
    "'''"
   ]
  },
  {
   "cell_type": "code",
   "execution_count": 297,
   "id": "687f3e24",
   "metadata": {},
   "outputs": [],
   "source": [
    "# display(train_df.shape)\n",
    "# display(bin1_hotel.shape)\n",
    "# display(test_df.shape)\n",
    "# display(bin2_hotel.shape)"
   ]
  },
  {
   "attachments": {},
   "cell_type": "markdown",
   "id": "5eaea77e",
   "metadata": {},
   "source": [
    "## Отбор признаков ##"
   ]
  },
  {
   "cell_type": "code",
   "execution_count": 298,
   "id": "f78c3462",
   "metadata": {},
   "outputs": [
    {
     "name": "stderr",
     "output_type": "stream",
     "text": [
      "<ipython-input-298-4c6b2e4aaa32>:6: SettingWithCopyWarning: \n",
      "A value is trying to be set on a copy of a slice from a DataFrame\n",
      "\n",
      "See the caveats in the documentation: https://pandas.pydata.org/pandas-docs/stable/user_guide/indexing.html#returning-a-view-versus-a-copy\n",
      "  train_df.drop(columns='is_train', inplace=True)\n",
      "<ipython-input-298-4c6b2e4aaa32>:7: SettingWithCopyWarning: \n",
      "A value is trying to be set on a copy of a slice from a DataFrame\n",
      "\n",
      "See the caveats in the documentation: https://pandas.pydata.org/pandas-docs/stable/user_guide/indexing.html#returning-a-view-versus-a-copy\n",
      "  test_df.drop(columns=['is_train', 'reviewer_score'], inplace=True)\n"
     ]
    }
   ],
   "source": [
    "# \"Распиливаем\" обратно данные на обучающий и тестовый датасеты\n",
    "train_df = full_df[full_df.is_train]\n",
    "test_df = full_df[full_df.is_train == False]\n",
    "\n",
    "# Удаление 'is_train' и целевого признака из тестового датасета\n",
    "train_df.drop(columns='is_train', inplace=True)\n",
    "test_df.drop(columns=['is_train', 'reviewer_score'], inplace=True)"
   ]
  },
  {
   "cell_type": "code",
   "execution_count": 299,
   "id": "84a3000c",
   "metadata": {},
   "outputs": [
    {
     "name": "stdout",
     "output_type": "stream",
     "text": [
      "<class 'pandas.core.frame.DataFrame'>\n",
      "Int64Index: 386803 entries, 0 to 386802\n",
      "Data columns (total 17 columns):\n",
      " #   Column                                      Non-Null Count   Dtype         \n",
      "---  ------                                      --------------   -----         \n",
      " 0   hotel_address                               386803 non-null  object        \n",
      " 1   additional_number_of_scoring                386803 non-null  int64         \n",
      " 2   review_date                                 386803 non-null  datetime64[ns]\n",
      " 3   average_score                               386803 non-null  float64       \n",
      " 4   hotel_name                                  386803 non-null  object        \n",
      " 5   reviewer_nationality                        386803 non-null  object        \n",
      " 6   negative_review                             386803 non-null  object        \n",
      " 7   review_total_negative_word_counts           386803 non-null  float64       \n",
      " 8   total_number_of_reviews                     386803 non-null  int64         \n",
      " 9   positive_review                             386803 non-null  object        \n",
      " 10  review_total_positive_word_counts           386803 non-null  float64       \n",
      " 11  total_number_of_reviews_reviewer_has_given  386803 non-null  int64         \n",
      " 12  reviewer_score                              386803 non-null  float64       \n",
      " 13  tags                                        386803 non-null  object        \n",
      " 14  days_since_review                           386803 non-null  int64         \n",
      " 15  lat                                         386803 non-null  float64       \n",
      " 16  lng                                         386803 non-null  float64       \n",
      "dtypes: datetime64[ns](1), float64(6), int64(4), object(6)\n",
      "memory usage: 53.1+ MB\n"
     ]
    }
   ],
   "source": [
    "train_df.info()"
   ]
  },
  {
   "cell_type": "code",
   "execution_count": 300,
   "id": "ff1dc0a6",
   "metadata": {},
   "outputs": [
    {
     "data": {
      "image/png": "[encoded data removed]",
      "text/plain": [
       "<Figure size 1300x1200 with 2 Axes>"
      ]
     },
     "metadata": {},
     "output_type": "display_data"
    }
   ],
   "source": [
    "plt.figure(figsize=(13, 12))\n",
    "heatmap = sns.heatmap(data=train_df.corr(method='spearman').abs(), annot=True, cmap='Reds')\n",
    "heatmap.set_title('Корреляция числовых признаков')\n",
    "plt.show()"
   ]
  },
  {
   "attachments": {},
   "cell_type": "markdown",
   "id": "1667edc6",
   "metadata": {},
   "source": [
    "Помимо нечисловых признаков убираем **`additional_number_of_scoring`** из-за сильной корреляции с **`total_number_of_reviews`**."
   ]
  },
  {
   "cell_type": "code",
   "execution_count": 301,
   "id": "7e012243",
   "metadata": {},
   "outputs": [
    {
     "name": "stderr",
     "output_type": "stream",
     "text": [
      "<ipython-input-301-3a3435dbb4d4>:21: SettingWithCopyWarning: \n",
      "A value is trying to be set on a copy of a slice from a DataFrame\n",
      "\n",
      "See the caveats in the documentation: https://pandas.pydata.org/pandas-docs/stable/user_guide/indexing.html#returning-a-view-versus-a-copy\n",
      "  df_.drop(columns=drop_features_list, inplace=True)\n",
      "<ipython-input-301-3a3435dbb4d4>:21: SettingWithCopyWarning: \n",
      "A value is trying to be set on a copy of a slice from a DataFrame\n",
      "\n",
      "See the caveats in the documentation: https://pandas.pydata.org/pandas-docs/stable/user_guide/indexing.html#returning-a-view-versus-a-copy\n",
      "  df_.drop(columns=drop_features_list, inplace=True)\n"
     ]
    }
   ],
   "source": [
    "drop_features_list = [\n",
    "    'hotel_address',\n",
    "    'additional_number_of_scoring',\n",
    "    'review_date',\n",
    "    # 'average_score',\n",
    "    'hotel_name',\n",
    "    'reviewer_nationality',\n",
    "    'negative_review',\n",
    "    # 'review_total_negative_word_counts',\n",
    "    # 'total_number_of_reviews',\n",
    "    'positive_review',\n",
    "    # 'review_total_positive_word_counts',\n",
    "    # 'total_number_of_reviews_reviewer_has_given',\n",
    "    # 'reviewer_score',\n",
    "    'tags',\n",
    "    # 'days_since_review',\n",
    "    # 'lat',\n",
    "    # 'lng'\n",
    "]\n",
    "for df_ in train_df, test_df:\n",
    "    df_.drop(columns=drop_features_list, inplace=True)"
   ]
  },
  {
   "attachments": {},
   "cell_type": "markdown",
   "id": "3c3d6462",
   "metadata": {},
   "source": [
    "## Обучение модели ##"
   ]
  },
  {
   "cell_type": "code",
   "execution_count": 302,
   "id": "f0015288",
   "metadata": {},
   "outputs": [],
   "source": [
    "X = train_df.drop(columns=['reviewer_score'])\n",
    "y = train_df.reviewer_score\n",
    "X_train, X_test, y_train, y_test = train_test_split(\n",
    "                                                    X, y,\n",
    "                                                    test_size=0.25,\n",
    "                                                    random_state=RANDOM_STATE\n",
    "                                                   )"
   ]
  },
  {
   "cell_type": "code",
   "execution_count": 303,
   "id": "809b8718",
   "metadata": {},
   "outputs": [],
   "source": [
    "regressor = RandomForestRegressor(\n",
    "                                  n_estimators=100,\n",
    "                                  n_jobs=4,\n",
    "                                  random_state=RANDOM_STATE\n",
    "                                 )\n",
    "regressor.fit(X_train, y_train)\n",
    "y_predictor = regressor.predict(X_test)"
   ]
  },
  {
   "attachments": {},
   "cell_type": "markdown",
   "id": "e3f23353",
   "metadata": {},
   "source": [
    "## Оценка качества модели ##"
   ]
  },
  {
   "cell_type": "code",
   "execution_count": 304,
   "id": "3f24fba9",
   "metadata": {},
   "outputs": [
    {
     "name": "stdout",
     "output_type": "stream",
     "text": [
      "MAPE: 0.1378698497647939\n"
     ]
    }
   ],
   "source": [
    "print(f'MAPE:', metrics.mean_absolute_percentage_error(y_test, y_predictor))"
   ]
  },
  {
   "attachments": {},
   "cell_type": "markdown",
   "id": "3f2cb2b0",
   "metadata": {},
   "source": [
    "## Оценка значимости признаков ##"
   ]
  },
  {
   "cell_type": "code",
   "execution_count": 251,
   "id": "261b508b",
   "metadata": {},
   "outputs": [
    {
     "data": {
      "text/plain": [
       "review_total_negative_word_counts             0.293757\n",
       "review_total_positive_word_counts             0.169924\n",
       "days_since_review                             0.146540\n",
       "average_score                                 0.093015\n",
       "total_number_of_reviews_reviewer_has_given    0.065463\n",
       "lng                                           0.061698\n",
       "lat                                           0.061553\n",
       "total_number_of_reviews                       0.055097\n",
       "additional_number_of_scoring                  0.052954\n",
       "dtype: float64"
      ]
     },
     "metadata": {},
     "output_type": "display_data"
    }
   ],
   "source": [
    "display(pd.Series(regressor.feature_importances_, index=X.columns).sort_values(ascending=False))"
   ]
  },
  {
   "attachments": {},
   "cell_type": "markdown",
   "id": "67f164c1",
   "metadata": {},
   "source": [
    "## Формирование предсказаний ##"
   ]
  },
  {
   "cell_type": "code",
   "execution_count": 98,
   "id": "dd358536",
   "metadata": {},
   "outputs": [
    {
     "data": {
      "text/html": [
       "<div>\n",
       "<style scoped>\n",
       "    .dataframe tbody tr th:only-of-type {\n",
       "        vertical-align: middle;\n",
       "    }\n",
       "\n",
       "    .dataframe tbody tr th {\n",
       "        vertical-align: top;\n",
       "    }\n",
       "\n",
       "    .dataframe thead th {\n",
       "        text-align: right;\n",
       "    }\n",
       "</style>\n",
       "<table border=\"1\" class=\"dataframe\">\n",
       "  <thead>\n",
       "    <tr style=\"text-align: right;\">\n",
       "      <th></th>\n",
       "      <th>reviewer_score</th>\n",
       "      <th>id</th>\n",
       "    </tr>\n",
       "  </thead>\n",
       "  <tbody>\n",
       "    <tr>\n",
       "      <th>0</th>\n",
       "      <td>8.478000</td>\n",
       "      <td>488440</td>\n",
       "    </tr>\n",
       "    <tr>\n",
       "      <th>1</th>\n",
       "      <td>7.627000</td>\n",
       "      <td>274649</td>\n",
       "    </tr>\n",
       "    <tr>\n",
       "      <th>2</th>\n",
       "      <td>8.611000</td>\n",
       "      <td>374688</td>\n",
       "    </tr>\n",
       "    <tr>\n",
       "      <th>3</th>\n",
       "      <td>9.524000</td>\n",
       "      <td>404352</td>\n",
       "    </tr>\n",
       "    <tr>\n",
       "      <th>4</th>\n",
       "      <td>9.369206</td>\n",
       "      <td>451596</td>\n",
       "    </tr>\n",
       "  </tbody>\n",
       "</table>\n",
       "</div>"
      ],
      "text/plain": [
       "   reviewer_score      id\n",
       "0        8.478000  488440\n",
       "1        7.627000  274649\n",
       "2        8.611000  374688\n",
       "3        9.524000  404352\n",
       "4        9.369206  451596"
      ]
     },
     "execution_count": 98,
     "metadata": {},
     "output_type": "execute_result"
    }
   ],
   "source": [
    "predictions = regressor.predict(test_df)\n",
    "submission_df.reviewer_score = predictions\n",
    "submission_df.head()"
   ]
  },
  {
   "cell_type": "code",
   "execution_count": 99,
   "id": "d4d7e923",
   "metadata": {},
   "outputs": [
    {
     "data": {
      "text/plain": [
       "(128935, 2)"
      ]
     },
     "execution_count": 99,
     "metadata": {},
     "output_type": "execute_result"
    }
   ],
   "source": [
    "submission_df.shape"
   ]
  },
  {
   "cell_type": "code",
   "execution_count": 100,
   "id": "e52a469e",
   "metadata": {},
   "outputs": [],
   "source": [
    "submission_df.to_csv(OUTPUT_PATH + 'submission.csv', index=False)"
   ]
  }
 ],
 "metadata": {
  "kernelspec": {
   "display_name": "Python 3",
   "language": "python",
   "name": "python3"
  },
  "language_info": {
   "codemirror_mode": {
    "name": "ipython",
    "version": 3
   },
   "file_extension": ".py",
   "mimetype": "text/x-python",
   "name": "python",
   "nbconvert_exporter": "python",
   "pygments_lexer": "ipython3",
   "version": "3.9.13"
  }
 },
 "nbformat": 4,
 "nbformat_minor": 5
}
