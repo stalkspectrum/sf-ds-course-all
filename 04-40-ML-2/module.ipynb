{
 "cells": [
  {
   "cell_type": "markdown",
   "id": "ac800e88",
   "metadata": {},
   "source": [
    "# Линейная регрессия: аналитическое решение #"
   ]
  },
  {
   "cell_type": "markdown",
   "id": "65989ac2",
   "metadata": {},
   "source": [
    "## АНАЛИТИЧЕСКОЕ РЕШЕНИЕ С ПОМОЩЬЮ NUMPY ##"
   ]
  },
  {
   "cell_type": "code",
   "execution_count": 1,
   "id": "3ee5f44d",
   "metadata": {},
   "outputs": [],
   "source": [
    "import numpy as np\n",
    "import pandas as pd\n",
    "import matplotlib.pyplot as plt\n",
    "import seaborn as sns\n",
    "\n",
    "from sklearn import linear_model\n",
    "from sklearn import metrics\n",
    "from sklearn import preprocessing\n",
    "from sklearn.model_selection import train_test_split\n",
    "\n",
    "%matplotlib inline\n",
    "# plt.style.use('seaborn')"
   ]
  },
  {
   "cell_type": "code",
   "execution_count": 2,
   "id": "58da6f7c",
   "metadata": {},
   "outputs": [
    {
     "data": {
      "text/html": [
       "<div>\n",
       "<style scoped>\n",
       "    .dataframe tbody tr th:only-of-type {\n",
       "        vertical-align: middle;\n",
       "    }\n",
       "\n",
       "    .dataframe tbody tr th {\n",
       "        vertical-align: top;\n",
       "    }\n",
       "\n",
       "    .dataframe thead th {\n",
       "        text-align: right;\n",
       "    }\n",
       "</style>\n",
       "<table border=\"1\" class=\"dataframe\">\n",
       "  <thead>\n",
       "    <tr style=\"text-align: right;\">\n",
       "      <th></th>\n",
       "      <th>CRIM</th>\n",
       "      <th>ZN</th>\n",
       "      <th>INDUS</th>\n",
       "      <th>CHAS</th>\n",
       "      <th>NOX</th>\n",
       "      <th>RM</th>\n",
       "      <th>AGE</th>\n",
       "      <th>DIS</th>\n",
       "      <th>RAD</th>\n",
       "      <th>TAX</th>\n",
       "      <th>PTRATIO</th>\n",
       "      <th>B</th>\n",
       "      <th>LSTAT</th>\n",
       "      <th>MEDV</th>\n",
       "    </tr>\n",
       "  </thead>\n",
       "  <tbody>\n",
       "    <tr>\n",
       "      <th>0</th>\n",
       "      <td>0.00632</td>\n",
       "      <td>18.0</td>\n",
       "      <td>2.31</td>\n",
       "      <td>0</td>\n",
       "      <td>0.538</td>\n",
       "      <td>6.575</td>\n",
       "      <td>65.2</td>\n",
       "      <td>4.0900</td>\n",
       "      <td>1</td>\n",
       "      <td>296.0</td>\n",
       "      <td>15.3</td>\n",
       "      <td>396.90</td>\n",
       "      <td>4.98</td>\n",
       "      <td>24.0</td>\n",
       "    </tr>\n",
       "    <tr>\n",
       "      <th>1</th>\n",
       "      <td>0.02731</td>\n",
       "      <td>0.0</td>\n",
       "      <td>7.07</td>\n",
       "      <td>0</td>\n",
       "      <td>0.469</td>\n",
       "      <td>6.421</td>\n",
       "      <td>78.9</td>\n",
       "      <td>4.9671</td>\n",
       "      <td>2</td>\n",
       "      <td>242.0</td>\n",
       "      <td>17.8</td>\n",
       "      <td>396.90</td>\n",
       "      <td>9.14</td>\n",
       "      <td>21.6</td>\n",
       "    </tr>\n",
       "    <tr>\n",
       "      <th>2</th>\n",
       "      <td>0.02729</td>\n",
       "      <td>0.0</td>\n",
       "      <td>7.07</td>\n",
       "      <td>0</td>\n",
       "      <td>0.469</td>\n",
       "      <td>7.185</td>\n",
       "      <td>61.1</td>\n",
       "      <td>4.9671</td>\n",
       "      <td>2</td>\n",
       "      <td>242.0</td>\n",
       "      <td>17.8</td>\n",
       "      <td>392.83</td>\n",
       "      <td>4.03</td>\n",
       "      <td>34.7</td>\n",
       "    </tr>\n",
       "    <tr>\n",
       "      <th>3</th>\n",
       "      <td>0.03237</td>\n",
       "      <td>0.0</td>\n",
       "      <td>2.18</td>\n",
       "      <td>0</td>\n",
       "      <td>0.458</td>\n",
       "      <td>6.998</td>\n",
       "      <td>45.8</td>\n",
       "      <td>6.0622</td>\n",
       "      <td>3</td>\n",
       "      <td>222.0</td>\n",
       "      <td>18.7</td>\n",
       "      <td>394.63</td>\n",
       "      <td>2.94</td>\n",
       "      <td>33.4</td>\n",
       "    </tr>\n",
       "    <tr>\n",
       "      <th>4</th>\n",
       "      <td>0.06905</td>\n",
       "      <td>0.0</td>\n",
       "      <td>2.18</td>\n",
       "      <td>0</td>\n",
       "      <td>0.458</td>\n",
       "      <td>7.147</td>\n",
       "      <td>54.2</td>\n",
       "      <td>6.0622</td>\n",
       "      <td>3</td>\n",
       "      <td>222.0</td>\n",
       "      <td>18.7</td>\n",
       "      <td>396.90</td>\n",
       "      <td>5.33</td>\n",
       "      <td>36.2</td>\n",
       "    </tr>\n",
       "  </tbody>\n",
       "</table>\n",
       "</div>"
      ],
      "text/plain": [
       "      CRIM    ZN  INDUS  CHAS    NOX     RM   AGE     DIS  RAD    TAX  \\\n",
       "0  0.00632  18.0   2.31     0  0.538  6.575  65.2  4.0900    1  296.0   \n",
       "1  0.02731   0.0   7.07     0  0.469  6.421  78.9  4.9671    2  242.0   \n",
       "2  0.02729   0.0   7.07     0  0.469  7.185  61.1  4.9671    2  242.0   \n",
       "3  0.03237   0.0   2.18     0  0.458  6.998  45.8  6.0622    3  222.0   \n",
       "4  0.06905   0.0   2.18     0  0.458  7.147  54.2  6.0622    3  222.0   \n",
       "\n",
       "   PTRATIO       B  LSTAT  MEDV  \n",
       "0     15.3  396.90   4.98  24.0  \n",
       "1     17.8  396.90   9.14  21.6  \n",
       "2     17.8  392.83   4.03  34.7  \n",
       "3     18.7  394.63   2.94  33.4  \n",
       "4     18.7  396.90   5.33  36.2  "
      ]
     },
     "execution_count": 2,
     "metadata": {},
     "output_type": "execute_result"
    }
   ],
   "source": [
    "column_names = [\n",
    "    'CRIM',    # уровень преступности на душу населения по городам\n",
    "    'ZN',      # доля земли под жилую застройку, разделённая на участки площадью более 25 000 кв. футов\n",
    "    'INDUS',   # доля акров, которые принадлежат предприятиям, не связанным с розничной торговлей, на город\n",
    "    'CHAS',    # фиктивная переменная реки Чарльз (1 — если участок прилегает к реке; 0 — в противном случае)\n",
    "    'NOX',     # концентрация оксидов азота (в десятимиллионных долях)\n",
    "    'RM',      # среднее количество комнат в доме\n",
    "    'AGE',     # доля зданий, построенных до 1940 г. и занимаемых владельцами\n",
    "    'DIS',     # взвешенные расстояния до пяти бостонских центров занятости\n",
    "    'RAD',     # индекс доступности радиальных автомобильных дорог\n",
    "    'TAX',     # полная ставка налога на имущество за каждые 10 000 долларов стоимости\n",
    "    'PTRATIO', # соотношение учеников и учителей по городам\n",
    "    'B',       # 1000 * (Bk — 0.63), где Bk — доля граждан афроамериканского происхождения по городам\n",
    "    'LSTAT',   # процент населения с низким статусом\n",
    "    'MEDV'     # медианное значение стоимости домов, занимаемых владельцами, в тысячах долларов США (целевой признак)\n",
    "]\n",
    "boston_data = pd.read_csv('data/housing.csv', names=column_names, header=None, sep=r'\\s+')\n",
    "boston_data.head()"
   ]
  },
  {
   "cell_type": "code",
   "execution_count": 3,
   "id": "b9398602",
   "metadata": {},
   "outputs": [
    {
     "name": "stdout",
     "output_type": "stream",
     "text": [
      "<class 'pandas.core.frame.DataFrame'>\n",
      "RangeIndex: 506 entries, 0 to 505\n",
      "Data columns (total 14 columns):\n",
      " #   Column   Non-Null Count  Dtype  \n",
      "---  ------   --------------  -----  \n",
      " 0   CRIM     506 non-null    float64\n",
      " 1   ZN       506 non-null    float64\n",
      " 2   INDUS    506 non-null    float64\n",
      " 3   CHAS     506 non-null    int64  \n",
      " 4   NOX      506 non-null    float64\n",
      " 5   RM       506 non-null    float64\n",
      " 6   AGE      506 non-null    float64\n",
      " 7   DIS      506 non-null    float64\n",
      " 8   RAD      506 non-null    int64  \n",
      " 9   TAX      506 non-null    float64\n",
      " 10  PTRATIO  506 non-null    float64\n",
      " 11  B        506 non-null    float64\n",
      " 12  LSTAT    506 non-null    float64\n",
      " 13  MEDV     506 non-null    float64\n",
      "dtypes: float64(12), int64(2)\n",
      "memory usage: 55.5 KB\n"
     ]
    }
   ],
   "source": [
    "boston_data.info()"
   ]
  },
  {
   "cell_type": "code",
   "execution_count": 4,
   "id": "3e495b1a",
   "metadata": {},
   "outputs": [
    {
     "data": {
      "image/png": "[encoded data removed]",
      "text/plain": [
       "<Figure size 720x360 with 1 Axes>"
      ]
     },
     "metadata": {
      "needs_background": "light"
     },
     "output_type": "display_data"
    }
   ],
   "source": [
    "corr_with_target = boston_data.corr().MEDV.abs().sort_values()\n",
    "corr_with_target.drop('MEDV', inplace=True)\n",
    "\n",
    "fig, ax = plt.subplots(figsize=(10, 5))\n",
    "ax.bar(corr_with_target.index, corr_with_target.values)\n",
    "ax.set_title('Correlations with target')\n",
    "ax.set_xlabel('Feature')\n",
    "ax.set_ylabel('Correlation coefficient');"
   ]
  },
  {
   "cell_type": "code",
   "execution_count": 5,
   "id": "9bae6a31",
   "metadata": {},
   "outputs": [
    {
     "data": {
      "text/html": [
       "<div>\n",
       "<style scoped>\n",
       "    .dataframe tbody tr th:only-of-type {\n",
       "        vertical-align: middle;\n",
       "    }\n",
       "\n",
       "    .dataframe tbody tr th {\n",
       "        vertical-align: top;\n",
       "    }\n",
       "\n",
       "    .dataframe thead th {\n",
       "        text-align: right;\n",
       "    }\n",
       "</style>\n",
       "<table border=\"1\" class=\"dataframe\">\n",
       "  <thead>\n",
       "    <tr style=\"text-align: right;\">\n",
       "      <th></th>\n",
       "      <th>LSTAT</th>\n",
       "    </tr>\n",
       "  </thead>\n",
       "  <tbody>\n",
       "    <tr>\n",
       "      <th>0</th>\n",
       "      <td>4.98</td>\n",
       "    </tr>\n",
       "    <tr>\n",
       "      <th>1</th>\n",
       "      <td>9.14</td>\n",
       "    </tr>\n",
       "    <tr>\n",
       "      <th>2</th>\n",
       "      <td>4.03</td>\n",
       "    </tr>\n",
       "    <tr>\n",
       "      <th>3</th>\n",
       "      <td>2.94</td>\n",
       "    </tr>\n",
       "    <tr>\n",
       "      <th>4</th>\n",
       "      <td>5.33</td>\n",
       "    </tr>\n",
       "  </tbody>\n",
       "</table>\n",
       "</div>"
      ],
      "text/plain": [
       "   LSTAT\n",
       "0   4.98\n",
       "1   9.14\n",
       "2   4.03\n",
       "3   2.94\n",
       "4   5.33"
      ]
     },
     "execution_count": 5,
     "metadata": {},
     "output_type": "execute_result"
    }
   ],
   "source": [
    "X = boston_data[['LSTAT']]\n",
    "y = boston_data['MEDV']\n",
    "X.head()"
   ]
  },
  {
   "cell_type": "code",
   "execution_count": 6,
   "id": "b76d0aae",
   "metadata": {},
   "outputs": [],
   "source": [
    "def linear_regression(X, y):\n",
    "    # Вектор из единиц\n",
    "    ones = np.ones(X.shape[0])\n",
    "    \n",
    "    # Добавление вектора к таблице первым столбцом\n",
    "    X = np.column_stack([ones, X])\n",
    "    \n",
    "    # Вычисление обратной матрицы Q\n",
    "    Q = np.linalg.inv(X.T @ X)\n",
    "    \n",
    "    # Вектор коэффициентов\n",
    "    return Q @ X.T @ y"
   ]
  },
  {
   "cell_type": "code",
   "execution_count": 7,
   "id": "416374be",
   "metadata": {},
   "outputs": [
    {
     "name": "stdout",
     "output_type": "stream",
     "text": [
      "Vector w: [34.55384088 -0.95004935]\n",
      "w0: 34.55\n",
      "w1: -0.95\n"
     ]
    }
   ],
   "source": [
    "w = linear_regression(X, y)\n",
    "print(f'Vector w: {w}')\n",
    "print(f'w0: {w[0]:.2f}')\n",
    "print(f'w1: {w[1]:.2f}')"
   ]
  },
  {
   "cell_type": "code",
   "execution_count": 8,
   "id": "5bb2b054",
   "metadata": {},
   "outputs": [
    {
     "name": "stdout",
     "output_type": "stream",
     "text": [
      "Predicterd price value: 29.63\n"
     ]
    }
   ],
   "source": [
    "x_example = 5.18\n",
    "y_predict = w[0] + w[1] * x_example\n",
    "print(f'Predicterd price value: {float(y_predict):.2f}')"
   ]
  },
  {
   "cell_type": "code",
   "execution_count": 9,
   "id": "1f60e620",
   "metadata": {},
   "outputs": [],
   "source": [
    "def plot_regression_2d(X, y_true, y_predict, xlabel='LSTAT', ylabel='MEDV'):\n",
    "    fig, ax = plt.subplots(figsize=(8, 4))\n",
    "    ax.scatter(X, y_true, alpha=0.7, label='Sample data')\n",
    "    ax.plot(X, y_predict, color='black', label='Regression model')\n",
    "    ax.set_xlabel(xlabel)\n",
    "    ax.set_ylabel(ylabel)\n",
    "    ax.legend(facecolor='white', fontsize=11)"
   ]
  },
  {
   "cell_type": "code",
   "execution_count": 10,
   "id": "5ed13cba",
   "metadata": {},
   "outputs": [
    {
     "data": {
      "image/png": "[encoded data removed]",
      "text/plain": [
       "<Figure size 576x288 with 1 Axes>"
      ]
     },
     "metadata": {
      "needs_background": "light"
     },
     "output_type": "display_data"
    }
   ],
   "source": [
    "y_predict = w[0] + w[1] * X\n",
    "plot_regression_2d(X, y, y_predict)"
   ]
  },
  {
   "cell_type": "markdown",
   "id": "3a2be257",
   "metadata": {},
   "source": [
    "## АНАЛИТИЧЕСКОЕ РЕШЕНИЕ С ПОМОЩЬЮ SKLEARN ##"
   ]
  },
  {
   "cell_type": "code",
   "execution_count": 11,
   "id": "8110e481",
   "metadata": {},
   "outputs": [
    {
     "name": "stdout",
     "output_type": "stream",
     "text": [
      "w0: 34.5538408793831\n",
      "w1: [-0.95004935]\n"
     ]
    }
   ],
   "source": [
    "lr_lstat = linear_model.LinearRegression()\n",
    "lr_lstat.fit(X, y)\n",
    "print(f'w0: {lr_lstat.intercept_}')\n",
    "print(f'w1: {lr_lstat.coef_}')"
   ]
  },
  {
   "cell_type": "code",
   "execution_count": 12,
   "id": "344861bd",
   "metadata": {},
   "outputs": [
    {
     "data": {
      "image/png": "[encoded data removed]",
      "text/plain": [
       "<Figure size 576x288 with 1 Axes>"
      ]
     },
     "metadata": {
      "needs_background": "light"
     },
     "output_type": "display_data"
    }
   ],
   "source": [
    "y_predict = lr_lstat.predict(X)\n",
    "plot_regression_2d(X, y, y_predict)"
   ]
  },
  {
   "cell_type": "markdown",
   "id": "85557781",
   "metadata": {},
   "source": [
    "### Решение для всех признаков ###"
   ]
  },
  {
   "cell_type": "code",
   "execution_count": 13,
   "id": "57302891",
   "metadata": {},
   "outputs": [
    {
     "data": {
      "text/html": [
       "<style>#sk-container-id-1 {color: black;background-color: white;}#sk-container-id-1 pre{padding: 0;}#sk-container-id-1 div.sk-toggleable {background-color: white;}#sk-container-id-1 label.sk-toggleable__label {cursor: pointer;display: block;width: 100%;margin-bottom: 0;padding: 0.3em;box-sizing: border-box;text-align: center;}#sk-container-id-1 label.sk-toggleable__label-arrow:before {content: \"▸\";float: left;margin-right: 0.25em;color: #696969;}#sk-container-id-1 label.sk-toggleable__label-arrow:hover:before {color: black;}#sk-container-id-1 div.sk-estimator:hover label.sk-toggleable__label-arrow:before {color: black;}#sk-container-id-1 div.sk-toggleable__content {max-height: 0;max-width: 0;overflow: hidden;text-align: left;background-color: #f0f8ff;}#sk-container-id-1 div.sk-toggleable__content pre {margin: 0.2em;color: black;border-radius: 0.25em;background-color: #f0f8ff;}#sk-container-id-1 input.sk-toggleable__control:checked~div.sk-toggleable__content {max-height: 200px;max-width: 100%;overflow: auto;}#sk-container-id-1 input.sk-toggleable__control:checked~label.sk-toggleable__label-arrow:before {content: \"▾\";}#sk-container-id-1 div.sk-estimator input.sk-toggleable__control:checked~label.sk-toggleable__label {background-color: #d4ebff;}#sk-container-id-1 div.sk-label input.sk-toggleable__control:checked~label.sk-toggleable__label {background-color: #d4ebff;}#sk-container-id-1 input.sk-hidden--visually {border: 0;clip: rect(1px 1px 1px 1px);clip: rect(1px, 1px, 1px, 1px);height: 1px;margin: -1px;overflow: hidden;padding: 0;position: absolute;width: 1px;}#sk-container-id-1 div.sk-estimator {font-family: monospace;background-color: #f0f8ff;border: 1px dotted black;border-radius: 0.25em;box-sizing: border-box;margin-bottom: 0.5em;}#sk-container-id-1 div.sk-estimator:hover {background-color: #d4ebff;}#sk-container-id-1 div.sk-parallel-item::after {content: \"\";width: 100%;border-bottom: 1px solid gray;flex-grow: 1;}#sk-container-id-1 div.sk-label:hover label.sk-toggleable__label {background-color: #d4ebff;}#sk-container-id-1 div.sk-serial::before {content: \"\";position: absolute;border-left: 1px solid gray;box-sizing: border-box;top: 0;bottom: 0;left: 50%;z-index: 0;}#sk-container-id-1 div.sk-serial {display: flex;flex-direction: column;align-items: center;background-color: white;padding-right: 0.2em;padding-left: 0.2em;position: relative;}#sk-container-id-1 div.sk-item {position: relative;z-index: 1;}#sk-container-id-1 div.sk-parallel {display: flex;align-items: stretch;justify-content: center;background-color: white;position: relative;}#sk-container-id-1 div.sk-item::before, #sk-container-id-1 div.sk-parallel-item::before {content: \"\";position: absolute;border-left: 1px solid gray;box-sizing: border-box;top: 0;bottom: 0;left: 50%;z-index: -1;}#sk-container-id-1 div.sk-parallel-item {display: flex;flex-direction: column;z-index: 1;position: relative;background-color: white;}#sk-container-id-1 div.sk-parallel-item:first-child::after {align-self: flex-end;width: 50%;}#sk-container-id-1 div.sk-parallel-item:last-child::after {align-self: flex-start;width: 50%;}#sk-container-id-1 div.sk-parallel-item:only-child::after {width: 0;}#sk-container-id-1 div.sk-dashed-wrapped {border: 1px dashed gray;margin: 0 0.4em 0.5em 0.4em;box-sizing: border-box;padding-bottom: 0.4em;background-color: white;}#sk-container-id-1 div.sk-label label {font-family: monospace;font-weight: bold;display: inline-block;line-height: 1.2em;}#sk-container-id-1 div.sk-label-container {text-align: center;}#sk-container-id-1 div.sk-container {/* jupyter's `normalize.less` sets `[hidden] { display: none; }` but bootstrap.min.css set `[hidden] { display: none !important; }` so we also need the `!important` here to be able to override the default hidden behavior on the sphinx rendered scikit-learn.org. See: https://github.com/scikit-learn/scikit-learn/issues/21755 */display: inline-block !important;position: relative;}#sk-container-id-1 div.sk-text-repr-fallback {display: none;}</style><div id=\"sk-container-id-1\" class=\"sk-top-container\"><div class=\"sk-text-repr-fallback\"><pre>LinearRegression()</pre><b>In a Jupyter environment, please rerun this cell to show the HTML representation or trust the notebook. <br />On GitHub, the HTML representation is unable to render, please try loading this page with nbviewer.org.</b></div><div class=\"sk-container\" hidden><div class=\"sk-item\"><div class=\"sk-estimator sk-toggleable\"><input class=\"sk-toggleable__control sk-hidden--visually\" id=\"sk-estimator-id-1\" type=\"checkbox\" checked><label for=\"sk-estimator-id-1\" class=\"sk-toggleable__label sk-toggleable__label-arrow\">LinearRegression</label><div class=\"sk-toggleable__content\"><pre>LinearRegression()</pre></div></div></div></div></div>"
      ],
      "text/plain": [
       "LinearRegression()"
      ]
     },
     "execution_count": 13,
     "metadata": {},
     "output_type": "execute_result"
    }
   ],
   "source": [
    "# Список факторов (за исключением целевого)\n",
    "features = boston_data.drop(columns=['MEDV']).columns\n",
    "\n",
    "# Составление матрицы наблюдений X и вектора ответов y\n",
    "X = boston_data[features]\n",
    "y = boston_data.MEDV\n",
    "\n",
    "lr_full = linear_model.LinearRegression()\n",
    "\n",
    "# Обучение модели - поиск параметров по МНК\n",
    "lr_full.fit(X, y)"
   ]
  },
  {
   "cell_type": "code",
   "execution_count": 14,
   "id": "a6cf8f9e",
   "metadata": {},
   "outputs": [
    {
     "data": {
      "text/html": [
       "<div>\n",
       "<style scoped>\n",
       "    .dataframe tbody tr th:only-of-type {\n",
       "        vertical-align: middle;\n",
       "    }\n",
       "\n",
       "    .dataframe tbody tr th {\n",
       "        vertical-align: top;\n",
       "    }\n",
       "\n",
       "    .dataframe thead th {\n",
       "        text-align: right;\n",
       "    }\n",
       "</style>\n",
       "<table border=\"1\" class=\"dataframe\">\n",
       "  <thead>\n",
       "    <tr style=\"text-align: right;\">\n",
       "      <th></th>\n",
       "      <th>Features</th>\n",
       "      <th>Coefficients</th>\n",
       "    </tr>\n",
       "  </thead>\n",
       "  <tbody>\n",
       "    <tr>\n",
       "      <th>0</th>\n",
       "      <td>CRIM</td>\n",
       "      <td>-0.108011</td>\n",
       "    </tr>\n",
       "    <tr>\n",
       "      <th>1</th>\n",
       "      <td>ZN</td>\n",
       "      <td>0.046420</td>\n",
       "    </tr>\n",
       "    <tr>\n",
       "      <th>2</th>\n",
       "      <td>INDUS</td>\n",
       "      <td>0.020559</td>\n",
       "    </tr>\n",
       "    <tr>\n",
       "      <th>3</th>\n",
       "      <td>CHAS</td>\n",
       "      <td>2.686734</td>\n",
       "    </tr>\n",
       "    <tr>\n",
       "      <th>4</th>\n",
       "      <td>NOX</td>\n",
       "      <td>-17.766611</td>\n",
       "    </tr>\n",
       "    <tr>\n",
       "      <th>5</th>\n",
       "      <td>RM</td>\n",
       "      <td>3.809865</td>\n",
       "    </tr>\n",
       "    <tr>\n",
       "      <th>6</th>\n",
       "      <td>AGE</td>\n",
       "      <td>0.000692</td>\n",
       "    </tr>\n",
       "    <tr>\n",
       "      <th>7</th>\n",
       "      <td>DIS</td>\n",
       "      <td>-1.475567</td>\n",
       "    </tr>\n",
       "    <tr>\n",
       "      <th>8</th>\n",
       "      <td>RAD</td>\n",
       "      <td>0.306049</td>\n",
       "    </tr>\n",
       "    <tr>\n",
       "      <th>9</th>\n",
       "      <td>TAX</td>\n",
       "      <td>-0.012335</td>\n",
       "    </tr>\n",
       "    <tr>\n",
       "      <th>10</th>\n",
       "      <td>PTRATIO</td>\n",
       "      <td>-0.952747</td>\n",
       "    </tr>\n",
       "    <tr>\n",
       "      <th>11</th>\n",
       "      <td>B</td>\n",
       "      <td>0.009312</td>\n",
       "    </tr>\n",
       "    <tr>\n",
       "      <th>12</th>\n",
       "      <td>LSTAT</td>\n",
       "      <td>-0.524758</td>\n",
       "    </tr>\n",
       "    <tr>\n",
       "      <th>13</th>\n",
       "      <td>INTERCEPT</td>\n",
       "      <td>36.459488</td>\n",
       "    </tr>\n",
       "  </tbody>\n",
       "</table>\n",
       "</div>"
      ],
      "text/plain": [
       "     Features  Coefficients\n",
       "0        CRIM     -0.108011\n",
       "1          ZN      0.046420\n",
       "2       INDUS      0.020559\n",
       "3        CHAS      2.686734\n",
       "4         NOX    -17.766611\n",
       "5          RM      3.809865\n",
       "6         AGE      0.000692\n",
       "7         DIS     -1.475567\n",
       "8         RAD      0.306049\n",
       "9         TAX     -0.012335\n",
       "10    PTRATIO     -0.952747\n",
       "11          B      0.009312\n",
       "12      LSTAT     -0.524758\n",
       "13  INTERCEPT     36.459488"
      ]
     },
     "metadata": {},
     "output_type": "display_data"
    }
   ],
   "source": [
    "# Составление таблицы из признаков и их коэффициентов\n",
    "w_df = pd.DataFrame({'Features': features, 'Coefficients': lr_full.coef_})\n",
    "# Составление строки таблицы со свободным членом\n",
    "intercept_df = pd.DataFrame({'Features': ['INTERCEPT'], 'Coefficients': lr_full.intercept_})\n",
    "\n",
    "coef_df = pd.concat([w_df, intercept_df], ignore_index=True)\n",
    "display(coef_df)"
   ]
  },
  {
   "cell_type": "code",
   "execution_count": 15,
   "id": "250553c6",
   "metadata": {},
   "outputs": [
    {
     "data": {
      "image/png": "[encoded data removed]",
      "text/plain": [
       "<Figure size 864x432 with 1 Axes>"
      ]
     },
     "metadata": {
      "needs_background": "light"
     },
     "output_type": "display_data"
    }
   ],
   "source": [
    "# Визуализация ошибки\n",
    "fig, ax = plt.subplots(figsize=(12, 6))\n",
    "\n",
    "# Ошибки модели на одном факторе LSTAT\n",
    "y_errors_lstat = y - lr_lstat.predict(boston_data[['LSTAT']])\n",
    "\n",
    "# Ошибки модели на всех факторах\n",
    "y_errors_full = y - lr_full.predict(boston_data[features])\n",
    "\n",
    "# Составление DataFrame из ошибок для удобства визуализации\n",
    "errors_df = pd.DataFrame({\n",
    "    'LSTAT_predict': y_errors_lstat,\n",
    "    'Full_factors_predict': y_errors_full\n",
    "})\n",
    "sns.boxplot(\n",
    "    data=errors_df,\n",
    "    orient='h',\n",
    "    ax=ax\n",
    ")\n",
    "ax.set_xlabel('Model errors')\n",
    "ax.set_ylabel('Model');"
   ]
  },
  {
   "cell_type": "markdown",
   "id": "d265483b",
   "metadata": {},
   "source": [
    "###  Задание 2.7 ###\n",
    "\n",
    "В данных появился новый участок со следующими параметрами:\n",
    "```\n",
    "CRIM         0.35114\n",
    "ZN           0.00000\n",
    "INDUS        7.38000\n",
    "CHAS         0.00000\n",
    "NOX          0.49300\n",
    "RM           6.04100\n",
    "AGE         49.90000\n",
    "DIS          4.72110\n",
    "RAD          5.00000\n",
    "TAX        287.00000\n",
    "PTRATIO     19.60000\n",
    "B          396.90000\n",
    "LSTAT        7.70000\n",
    "```\n",
    "Сделать предсказание медианной стоимости (MEDV) для данного участка c помощью модели lr_full. Результат предсказания в тысячах долларов. Ответ округлить до второго знака после точки-разделителя.\n",
    "\n",
    "***Ответ - 22.87***"
   ]
  },
  {
   "cell_type": "code",
   "execution_count": 16,
   "id": "2568c86e",
   "metadata": {},
   "outputs": [
    {
     "data": {
      "text/html": [
       "<div>\n",
       "<style scoped>\n",
       "    .dataframe tbody tr th:only-of-type {\n",
       "        vertical-align: middle;\n",
       "    }\n",
       "\n",
       "    .dataframe tbody tr th {\n",
       "        vertical-align: top;\n",
       "    }\n",
       "\n",
       "    .dataframe thead th {\n",
       "        text-align: right;\n",
       "    }\n",
       "</style>\n",
       "<table border=\"1\" class=\"dataframe\">\n",
       "  <thead>\n",
       "    <tr style=\"text-align: right;\">\n",
       "      <th></th>\n",
       "      <th>CRIM</th>\n",
       "      <th>ZN</th>\n",
       "      <th>INDUS</th>\n",
       "      <th>CHAS</th>\n",
       "      <th>NOX</th>\n",
       "      <th>RM</th>\n",
       "      <th>AGE</th>\n",
       "      <th>DIS</th>\n",
       "      <th>RAD</th>\n",
       "      <th>TAX</th>\n",
       "      <th>PTRATIO</th>\n",
       "      <th>B</th>\n",
       "      <th>LSTAT</th>\n",
       "    </tr>\n",
       "  </thead>\n",
       "  <tbody>\n",
       "    <tr>\n",
       "      <th>0</th>\n",
       "      <td>0.35114</td>\n",
       "      <td>0</td>\n",
       "      <td>7.38</td>\n",
       "      <td>0</td>\n",
       "      <td>0.493</td>\n",
       "      <td>6.041</td>\n",
       "      <td>49.9</td>\n",
       "      <td>4.7211</td>\n",
       "      <td>5</td>\n",
       "      <td>287.0</td>\n",
       "      <td>19.6</td>\n",
       "      <td>396.9</td>\n",
       "      <td>7.7</td>\n",
       "    </tr>\n",
       "  </tbody>\n",
       "</table>\n",
       "</div>"
      ],
      "text/plain": [
       "      CRIM  ZN  INDUS  CHAS    NOX     RM   AGE     DIS  RAD    TAX  PTRATIO  \\\n",
       "0  0.35114   0   7.38     0  0.493  6.041  49.9  4.7211    5  287.0     19.6   \n",
       "\n",
       "       B  LSTAT  \n",
       "0  396.9    7.7  "
      ]
     },
     "metadata": {},
     "output_type": "display_data"
    }
   ],
   "source": [
    "# display(lr_full.predict(X))\n",
    "new_dict = {\n",
    "    'CRIM': [0.35114],\n",
    "    'ZN': [0],\n",
    "    'INDUS': [7.38000],\n",
    "    'CHAS': [0],\n",
    "    'NOX': [0.49300],\n",
    "    'RM': [6.04100],\n",
    "    'AGE': [49.90000],\n",
    "    'DIS': [4.72110],\n",
    "    'RAD': [5],\n",
    "    'TAX': [287.00000],\n",
    "    'PTRATIO': [19.60000],\n",
    "    'B': [396.90000],\n",
    "    'LSTAT': [7.70000],\n",
    "}\n",
    "X_new = pd.DataFrame(new_dict)\n",
    "display(X_new)"
   ]
  },
  {
   "cell_type": "code",
   "execution_count": 17,
   "id": "7aed24e4",
   "metadata": {},
   "outputs": [
    {
     "name": "stdout",
     "output_type": "stream",
     "text": [
      "22.87\n"
     ]
    }
   ],
   "source": [
    "print(round(lr_full.predict(X_new)[0], 2))"
   ]
  },
  {
   "cell_type": "markdown",
   "id": "2e213ac2",
   "metadata": {},
   "source": [
    "###  Задание 2.8 ###\n",
    "Дан набор данных о стартапах и их прибыли (в долларах) в трёх различных штатах США.\n",
    "\n",
    "Столбцы:\n",
    "\n",
    "- **`R&D Spend`**&nbsp;&mdash; расходы на исследования.\n",
    "- **`Administration`**&nbsp;&mdash; административные расходы.\n",
    "- **`Marketing Spend`**&nbsp;&mdash; расходы на маркетинг.\n",
    "- **`State*`**&nbsp;&mdash; штат.\n",
    "- **`Profit`**&nbsp;&mdash; прибыль (целевой признак).\n",
    "\n",
    "Для обучения линейной регрессии использовать `R&D Spend`, `Administration` и `Marketing Spend`. Отделить факторы от целевой переменной.\n",
    "\n",
    "Обучить модель линейной регрессии методом наименьших квадратов с помощью библиотеки **`numpy`** (воспользоваться формулой из модуля).\n",
    "\n",
    "Чему равны коэффициенты линейной регрессии при признаках `R&D Spend`, `Administration` и `Marketing Spend`? Ответ ввести с точностью до второго знака после точки-разделителя.\n",
    "\n",
    "***Ответ - 0.81, -0.03, 0.03***"
   ]
  },
  {
   "cell_type": "code",
   "execution_count": 18,
   "id": "b52f7b6e",
   "metadata": {},
   "outputs": [
    {
     "data": {
      "text/html": [
       "<div>\n",
       "<style scoped>\n",
       "    .dataframe tbody tr th:only-of-type {\n",
       "        vertical-align: middle;\n",
       "    }\n",
       "\n",
       "    .dataframe tbody tr th {\n",
       "        vertical-align: top;\n",
       "    }\n",
       "\n",
       "    .dataframe thead th {\n",
       "        text-align: right;\n",
       "    }\n",
       "</style>\n",
       "<table border=\"1\" class=\"dataframe\">\n",
       "  <thead>\n",
       "    <tr style=\"text-align: right;\">\n",
       "      <th></th>\n",
       "      <th>R&amp;D Spend</th>\n",
       "      <th>Administration</th>\n",
       "      <th>Marketing Spend</th>\n",
       "      <th>State</th>\n",
       "      <th>Profit</th>\n",
       "    </tr>\n",
       "  </thead>\n",
       "  <tbody>\n",
       "    <tr>\n",
       "      <th>0</th>\n",
       "      <td>165349.20</td>\n",
       "      <td>136897.80</td>\n",
       "      <td>471784.10</td>\n",
       "      <td>New York</td>\n",
       "      <td>192261.83</td>\n",
       "    </tr>\n",
       "    <tr>\n",
       "      <th>1</th>\n",
       "      <td>162597.70</td>\n",
       "      <td>151377.59</td>\n",
       "      <td>443898.53</td>\n",
       "      <td>California</td>\n",
       "      <td>191792.06</td>\n",
       "    </tr>\n",
       "    <tr>\n",
       "      <th>2</th>\n",
       "      <td>153441.51</td>\n",
       "      <td>101145.55</td>\n",
       "      <td>407934.54</td>\n",
       "      <td>Florida</td>\n",
       "      <td>191050.39</td>\n",
       "    </tr>\n",
       "    <tr>\n",
       "      <th>3</th>\n",
       "      <td>144372.41</td>\n",
       "      <td>118671.85</td>\n",
       "      <td>383199.62</td>\n",
       "      <td>New York</td>\n",
       "      <td>182901.99</td>\n",
       "    </tr>\n",
       "    <tr>\n",
       "      <th>4</th>\n",
       "      <td>142107.34</td>\n",
       "      <td>91391.77</td>\n",
       "      <td>366168.42</td>\n",
       "      <td>Florida</td>\n",
       "      <td>166187.94</td>\n",
       "    </tr>\n",
       "  </tbody>\n",
       "</table>\n",
       "</div>"
      ],
      "text/plain": [
       "   R&D Spend  Administration  Marketing Spend       State     Profit\n",
       "0  165349.20       136897.80        471784.10    New York  192261.83\n",
       "1  162597.70       151377.59        443898.53  California  191792.06\n",
       "2  153441.51       101145.55        407934.54     Florida  191050.39\n",
       "3  144372.41       118671.85        383199.62    New York  182901.99\n",
       "4  142107.34        91391.77        366168.42     Florida  166187.94"
      ]
     },
     "execution_count": 18,
     "metadata": {},
     "output_type": "execute_result"
    }
   ],
   "source": [
    "start_df = pd.read_csv('data/50_Startups.csv')\n",
    "start_df.head()"
   ]
  },
  {
   "cell_type": "code",
   "execution_count": 19,
   "id": "0444ba22",
   "metadata": {},
   "outputs": [
    {
     "name": "stdout",
     "output_type": "stream",
     "text": [
      "<class 'pandas.core.frame.DataFrame'>\n",
      "RangeIndex: 50 entries, 0 to 49\n",
      "Data columns (total 5 columns):\n",
      " #   Column           Non-Null Count  Dtype  \n",
      "---  ------           --------------  -----  \n",
      " 0   R&D Spend        50 non-null     float64\n",
      " 1   Administration   50 non-null     float64\n",
      " 2   Marketing Spend  50 non-null     float64\n",
      " 3   State            50 non-null     object \n",
      " 4   Profit           50 non-null     float64\n",
      "dtypes: float64(4), object(1)\n",
      "memory usage: 2.1+ KB\n"
     ]
    }
   ],
   "source": [
    "start_df.info()"
   ]
  },
  {
   "cell_type": "code",
   "execution_count": 20,
   "id": "d84b9dd1",
   "metadata": {},
   "outputs": [
    {
     "name": "stdout",
     "output_type": "stream",
     "text": [
      "Intercept factor: 50122.19\n",
      "R&D factor: 0.81\n",
      "Admin factor: -0.03\n",
      "Marketing factor: 0.03\n"
     ]
    }
   ],
   "source": [
    "X = start_df[['R&D Spend', 'Administration', 'Marketing Spend']]\n",
    "y = start_df['Profit']\n",
    "w = linear_regression(X, y)\n",
    "print(f'Intercept factor: {round(w[0], 2)}')\n",
    "print(f'R&D factor: {round(w[1], 2)}')\n",
    "print(f'Admin factor: {round(w[2], 2)}')\n",
    "print(f'Marketing factor: {round(w[3], 2)}')"
   ]
  },
  {
   "cell_type": "markdown",
   "id": "ce6db8e0",
   "metadata": {},
   "source": [
    "# Метрики регрессии. Недостатки аналитического решения #"
   ]
  },
  {
   "cell_type": "code",
   "execution_count": 21,
   "id": "23ee2d90",
   "metadata": {},
   "outputs": [
    {
     "name": "stdout",
     "output_type": "stream",
     "text": [
      "MAE score: 4.505 k$.\n",
      "RMSE score: 6.203 k$.\n",
      "MAPE score: 21.352 %\n",
      "R2 score: 0.544\n"
     ]
    }
   ],
   "source": [
    "y = boston_data.MEDV\n",
    "y_predict_lstat = lr_lstat.predict(boston_data[['LSTAT']])\n",
    "print(f'MAE score: {metrics.mean_absolute_error(y, y_predict_lstat):.3f} k$.')\n",
    "print(f'RMSE score: {np.sqrt(metrics.mean_squared_error(y, y_predict_lstat)):.3f} k$.')\n",
    "print(f'MAPE score: {metrics.mean_absolute_percentage_error(y, y_predict_lstat) * 100:.3f} %')\n",
    "print(f'R2 score: {metrics.r2_score(y, y_predict_lstat):.3f}')"
   ]
  },
  {
   "cell_type": "code",
   "execution_count": 22,
   "id": "d35e5ead",
   "metadata": {},
   "outputs": [
    {
     "name": "stdout",
     "output_type": "stream",
     "text": [
      "MAE score: 3.271 k$.\n",
      "RMSE score: 4.679 k$.\n",
      "MAPE score: 16.417 %\n",
      "R2 score: 0.741\n"
     ]
    }
   ],
   "source": [
    "y_predict_full = lr_full.predict(boston_data[features])\n",
    "print(f'MAE score: {metrics.mean_absolute_error(y, y_predict_full):.3f} k$.')\n",
    "print(f'RMSE score: {np.sqrt(metrics.mean_squared_error(y, y_predict_full)):.3f} k$.')\n",
    "print(f'MAPE score: {metrics.mean_absolute_percentage_error(y, y_predict_full) * 100:.3f} %')\n",
    "print(f'R2 score: {metrics.r2_score(y, y_predict_full):.3f}')"
   ]
  },
  {
   "cell_type": "markdown",
   "id": "1093134c",
   "metadata": {},
   "source": [
    "###  Задание 3.2 ###\n",
    "\n",
    "Есть истинные ответы y_true = [1.23, 2.35, 2.75] и предсказания модели y_pred = [1.01, 12.3, 2.74]. Посчитать метрику RMSE, ответ округлить до двух знаков после точки-разделителя.\n",
    "\n",
    "***Ответ - 5.75***"
   ]
  },
  {
   "cell_type": "code",
   "execution_count": 23,
   "id": "c018da5c",
   "metadata": {},
   "outputs": [
    {
     "name": "stdout",
     "output_type": "stream",
     "text": [
      "RMSE score: 5.75\n"
     ]
    }
   ],
   "source": [
    "y_true = [1.23, 2.35, 2.75]\n",
    "y_pred = [1.01, 12.3, 2.74]\n",
    "print(f'RMSE score: {np.sqrt(metrics.mean_squared_error(y_true, y_pred)):.2f}')"
   ]
  },
  {
   "cell_type": "markdown",
   "id": "f19d38be",
   "metadata": {},
   "source": [
    "###  Задание 3.3 ###\n",
    "\n",
    "Чему равен коэффициент детерминации на следующих данных?\n",
    "\n",
    "Истинные ответы: y_true = [22.4, 20.6, 23.9, 22.0, 11.9]\n",
    "\n",
    "Предсказанные ответы: y_pred = [20.5, 20.2, 20.3, 19.0, 11.0]\n",
    "\n",
    "Ответ округлить до двух знаков после точки-разделителя.\n",
    "\n",
    "***Ответ - 0.71***"
   ]
  },
  {
   "cell_type": "code",
   "execution_count": 24,
   "id": "d16bf953",
   "metadata": {},
   "outputs": [
    {
     "name": "stdout",
     "output_type": "stream",
     "text": [
      "R2 score: 0.71\n"
     ]
    }
   ],
   "source": [
    "y_true = [22.4, 20.6, 23.9, 22.0, 11.9]\n",
    "y_pred = [20.5, 20.2, 20.3, 19.0, 11.0]\n",
    "print(f'R2 score: {metrics.r2_score(y_true, y_pred):.2f}')"
   ]
  },
  {
   "cell_type": "markdown",
   "id": "a4145025",
   "metadata": {},
   "source": [
    "# Линейная регрессия: численное решение #"
   ]
  },
  {
   "cell_type": "code",
   "execution_count": 25,
   "id": "41470160",
   "metadata": {},
   "outputs": [],
   "source": [
    "X = boston_data[['LSTAT']]\n",
    "y = boston_data.MEDV"
   ]
  },
  {
   "cell_type": "code",
   "execution_count": 27,
   "id": "58c3a6f7",
   "metadata": {},
   "outputs": [
    {
     "data": {
      "text/html": [
       "<style>#sk-container-id-3 {color: black;background-color: white;}#sk-container-id-3 pre{padding: 0;}#sk-container-id-3 div.sk-toggleable {background-color: white;}#sk-container-id-3 label.sk-toggleable__label {cursor: pointer;display: block;width: 100%;margin-bottom: 0;padding: 0.3em;box-sizing: border-box;text-align: center;}#sk-container-id-3 label.sk-toggleable__label-arrow:before {content: \"▸\";float: left;margin-right: 0.25em;color: #696969;}#sk-container-id-3 label.sk-toggleable__label-arrow:hover:before {color: black;}#sk-container-id-3 div.sk-estimator:hover label.sk-toggleable__label-arrow:before {color: black;}#sk-container-id-3 div.sk-toggleable__content {max-height: 0;max-width: 0;overflow: hidden;text-align: left;background-color: #f0f8ff;}#sk-container-id-3 div.sk-toggleable__content pre {margin: 0.2em;color: black;border-radius: 0.25em;background-color: #f0f8ff;}#sk-container-id-3 input.sk-toggleable__control:checked~div.sk-toggleable__content {max-height: 200px;max-width: 100%;overflow: auto;}#sk-container-id-3 input.sk-toggleable__control:checked~label.sk-toggleable__label-arrow:before {content: \"▾\";}#sk-container-id-3 div.sk-estimator input.sk-toggleable__control:checked~label.sk-toggleable__label {background-color: #d4ebff;}#sk-container-id-3 div.sk-label input.sk-toggleable__control:checked~label.sk-toggleable__label {background-color: #d4ebff;}#sk-container-id-3 input.sk-hidden--visually {border: 0;clip: rect(1px 1px 1px 1px);clip: rect(1px, 1px, 1px, 1px);height: 1px;margin: -1px;overflow: hidden;padding: 0;position: absolute;width: 1px;}#sk-container-id-3 div.sk-estimator {font-family: monospace;background-color: #f0f8ff;border: 1px dotted black;border-radius: 0.25em;box-sizing: border-box;margin-bottom: 0.5em;}#sk-container-id-3 div.sk-estimator:hover {background-color: #d4ebff;}#sk-container-id-3 div.sk-parallel-item::after {content: \"\";width: 100%;border-bottom: 1px solid gray;flex-grow: 1;}#sk-container-id-3 div.sk-label:hover label.sk-toggleable__label {background-color: #d4ebff;}#sk-container-id-3 div.sk-serial::before {content: \"\";position: absolute;border-left: 1px solid gray;box-sizing: border-box;top: 0;bottom: 0;left: 50%;z-index: 0;}#sk-container-id-3 div.sk-serial {display: flex;flex-direction: column;align-items: center;background-color: white;padding-right: 0.2em;padding-left: 0.2em;position: relative;}#sk-container-id-3 div.sk-item {position: relative;z-index: 1;}#sk-container-id-3 div.sk-parallel {display: flex;align-items: stretch;justify-content: center;background-color: white;position: relative;}#sk-container-id-3 div.sk-item::before, #sk-container-id-3 div.sk-parallel-item::before {content: \"\";position: absolute;border-left: 1px solid gray;box-sizing: border-box;top: 0;bottom: 0;left: 50%;z-index: -1;}#sk-container-id-3 div.sk-parallel-item {display: flex;flex-direction: column;z-index: 1;position: relative;background-color: white;}#sk-container-id-3 div.sk-parallel-item:first-child::after {align-self: flex-end;width: 50%;}#sk-container-id-3 div.sk-parallel-item:last-child::after {align-self: flex-start;width: 50%;}#sk-container-id-3 div.sk-parallel-item:only-child::after {width: 0;}#sk-container-id-3 div.sk-dashed-wrapped {border: 1px dashed gray;margin: 0 0.4em 0.5em 0.4em;box-sizing: border-box;padding-bottom: 0.4em;background-color: white;}#sk-container-id-3 div.sk-label label {font-family: monospace;font-weight: bold;display: inline-block;line-height: 1.2em;}#sk-container-id-3 div.sk-label-container {text-align: center;}#sk-container-id-3 div.sk-container {/* jupyter's `normalize.less` sets `[hidden] { display: none; }` but bootstrap.min.css set `[hidden] { display: none !important; }` so we also need the `!important` here to be able to override the default hidden behavior on the sphinx rendered scikit-learn.org. See: https://github.com/scikit-learn/scikit-learn/issues/21755 */display: inline-block !important;position: relative;}#sk-container-id-3 div.sk-text-repr-fallback {display: none;}</style><div id=\"sk-container-id-3\" class=\"sk-top-container\"><div class=\"sk-text-repr-fallback\"><pre>SGDRegressor(random_state=42)</pre><b>In a Jupyter environment, please rerun this cell to show the HTML representation or trust the notebook. <br />On GitHub, the HTML representation is unable to render, please try loading this page with nbviewer.org.</b></div><div class=\"sk-container\" hidden><div class=\"sk-item\"><div class=\"sk-estimator sk-toggleable\"><input class=\"sk-toggleable__control sk-hidden--visually\" id=\"sk-estimator-id-3\" type=\"checkbox\" checked><label for=\"sk-estimator-id-3\" class=\"sk-toggleable__label sk-toggleable__label-arrow\">SGDRegressor</label><div class=\"sk-toggleable__content\"><pre>SGDRegressor(random_state=42)</pre></div></div></div></div></div>"
      ],
      "text/plain": [
       "SGDRegressor(random_state=42)"
      ]
     },
     "execution_count": 27,
     "metadata": {},
     "output_type": "execute_result"
    }
   ],
   "source": [
    "sgd_lr_lstat = linear_model.SGDRegressor(random_state=42)\n",
    "sgd_lr_lstat.fit(X, y)"
   ]
  },
  {
   "cell_type": "code",
   "execution_count": 28,
   "id": "91aa3c54",
   "metadata": {},
   "outputs": [
    {
     "name": "stdout",
     "output_type": "stream",
     "text": [
      "w0: [34.33010969]\n",
      "w1: [-0.96193242]\n"
     ]
    }
   ],
   "source": [
    "print(f'w0: {sgd_lr_lstat.intercept_}')\n",
    "print(f'w1: {sgd_lr_lstat.coef_}')"
   ]
  },
  {
   "cell_type": "code",
   "execution_count": 29,
   "id": "85a233dd",
   "metadata": {},
   "outputs": [
    {
     "data": {
      "image/png": "[encoded data removed]",
      "text/plain": [
       "<Figure size 576x288 with 1 Axes>"
      ]
     },
     "metadata": {
      "needs_background": "light"
     },
     "output_type": "display_data"
    }
   ],
   "source": [
    "y_predict = sgd_lr_lstat.predict(X)\n",
    "plot_regression_2d(X, y, y_predict)"
   ]
  },
  {
   "cell_type": "code",
   "execution_count": 30,
   "id": "1c09314c",
   "metadata": {},
   "outputs": [
    {
     "name": "stdout",
     "output_type": "stream",
     "text": [
      "R2 score: 0.542\n"
     ]
    }
   ],
   "source": [
    "print(f'R2 score: {metrics.r2_score(y, y_predict):.3f}')"
   ]
  },
  {
   "cell_type": "markdown",
   "id": "6b5d8ff1",
   "metadata": {},
   "source": [
    "### Решение для всех признаков (без стандартизации) ###"
   ]
  },
  {
   "cell_type": "code",
   "execution_count": 31,
   "id": "bd70eba0",
   "metadata": {},
   "outputs": [
    {
     "data": {
      "text/html": [
       "<div>\n",
       "<style scoped>\n",
       "    .dataframe tbody tr th:only-of-type {\n",
       "        vertical-align: middle;\n",
       "    }\n",
       "\n",
       "    .dataframe tbody tr th {\n",
       "        vertical-align: top;\n",
       "    }\n",
       "\n",
       "    .dataframe thead th {\n",
       "        text-align: right;\n",
       "    }\n",
       "</style>\n",
       "<table border=\"1\" class=\"dataframe\">\n",
       "  <thead>\n",
       "    <tr style=\"text-align: right;\">\n",
       "      <th></th>\n",
       "      <th>Features</th>\n",
       "      <th>Coefficients</th>\n",
       "    </tr>\n",
       "  </thead>\n",
       "  <tbody>\n",
       "    <tr>\n",
       "      <th>0</th>\n",
       "      <td>CRIM</td>\n",
       "      <td>1.540729e+11</td>\n",
       "    </tr>\n",
       "    <tr>\n",
       "      <th>1</th>\n",
       "      <td>ZN</td>\n",
       "      <td>-5.382789e+08</td>\n",
       "    </tr>\n",
       "    <tr>\n",
       "      <th>2</th>\n",
       "      <td>INDUS</td>\n",
       "      <td>3.091632e+11</td>\n",
       "    </tr>\n",
       "    <tr>\n",
       "      <th>3</th>\n",
       "      <td>CHAS</td>\n",
       "      <td>1.485638e+10</td>\n",
       "    </tr>\n",
       "    <tr>\n",
       "      <th>4</th>\n",
       "      <td>NOX</td>\n",
       "      <td>2.393660e+10</td>\n",
       "    </tr>\n",
       "    <tr>\n",
       "      <th>5</th>\n",
       "      <td>RM</td>\n",
       "      <td>1.134434e+10</td>\n",
       "    </tr>\n",
       "    <tr>\n",
       "      <th>6</th>\n",
       "      <td>AGE</td>\n",
       "      <td>9.343666e+10</td>\n",
       "    </tr>\n",
       "    <tr>\n",
       "      <th>7</th>\n",
       "      <td>DIS</td>\n",
       "      <td>-1.241329e+11</td>\n",
       "    </tr>\n",
       "    <tr>\n",
       "      <th>8</th>\n",
       "      <td>RAD</td>\n",
       "      <td>2.584134e+11</td>\n",
       "    </tr>\n",
       "    <tr>\n",
       "      <th>9</th>\n",
       "      <td>TAX</td>\n",
       "      <td>-3.359744e+11</td>\n",
       "    </tr>\n",
       "    <tr>\n",
       "      <th>10</th>\n",
       "      <td>PTRATIO</td>\n",
       "      <td>9.818128e+10</td>\n",
       "    </tr>\n",
       "    <tr>\n",
       "      <th>11</th>\n",
       "      <td>B</td>\n",
       "      <td>4.723602e+10</td>\n",
       "    </tr>\n",
       "    <tr>\n",
       "      <th>12</th>\n",
       "      <td>LSTAT</td>\n",
       "      <td>2.999564e+11</td>\n",
       "    </tr>\n",
       "    <tr>\n",
       "      <th>13</th>\n",
       "      <td>INTERCEPT</td>\n",
       "      <td>1.298221e+10</td>\n",
       "    </tr>\n",
       "  </tbody>\n",
       "</table>\n",
       "</div>"
      ],
      "text/plain": [
       "     Features  Coefficients\n",
       "0        CRIM  1.540729e+11\n",
       "1          ZN -5.382789e+08\n",
       "2       INDUS  3.091632e+11\n",
       "3        CHAS  1.485638e+10\n",
       "4         NOX  2.393660e+10\n",
       "5          RM  1.134434e+10\n",
       "6         AGE  9.343666e+10\n",
       "7         DIS -1.241329e+11\n",
       "8         RAD  2.584134e+11\n",
       "9         TAX -3.359744e+11\n",
       "10    PTRATIO  9.818128e+10\n",
       "11          B  4.723602e+10\n",
       "12      LSTAT  2.999564e+11\n",
       "13  INTERCEPT  1.298221e+10"
      ]
     },
     "metadata": {},
     "output_type": "display_data"
    }
   ],
   "source": [
    "X = boston_data[features]\n",
    "y = boston_data.MEDV\n",
    "sgd_lr_full = linear_model.SGDRegressor(random_state=42)\n",
    "sgd_lr_full.fit(X, y)\n",
    "\n",
    "w_df = pd.DataFrame({'Features': features, 'Coefficients': sgd_lr_full.coef_})\n",
    "intercept_df = pd.DataFrame({'Features': ['INTERCEPT'], 'Coefficients': sgd_lr_full.intercept_})\n",
    "coef_df = pd.concat([w_df, intercept_df], ignore_index=True)\n",
    "display(coef_df)"
   ]
  },
  {
   "cell_type": "code",
   "execution_count": 32,
   "id": "a496ee3f",
   "metadata": {},
   "outputs": [
    {
     "name": "stdout",
     "output_type": "stream",
     "text": [
      "R2 score: -155407065857466568600977408.000\n"
     ]
    }
   ],
   "source": [
    "y_predict = sgd_lr_full.predict(X)\n",
    "print(f'R2 score: {metrics.r2_score(y, y_predict):.3f}')"
   ]
  },
  {
   "cell_type": "markdown",
   "id": "9de88dc3",
   "metadata": {},
   "source": [
    "### Решение для всех признаков (после стандартизации) ###"
   ]
  },
  {
   "cell_type": "code",
   "execution_count": 33,
   "id": "bf8a7f70",
   "metadata": {},
   "outputs": [
    {
     "data": {
      "text/html": [
       "<div>\n",
       "<style scoped>\n",
       "    .dataframe tbody tr th:only-of-type {\n",
       "        vertical-align: middle;\n",
       "    }\n",
       "\n",
       "    .dataframe tbody tr th {\n",
       "        vertical-align: top;\n",
       "    }\n",
       "\n",
       "    .dataframe thead th {\n",
       "        text-align: right;\n",
       "    }\n",
       "</style>\n",
       "<table border=\"1\" class=\"dataframe\">\n",
       "  <thead>\n",
       "    <tr style=\"text-align: right;\">\n",
       "      <th></th>\n",
       "      <th>CRIM</th>\n",
       "      <th>ZN</th>\n",
       "      <th>INDUS</th>\n",
       "      <th>CHAS</th>\n",
       "      <th>NOX</th>\n",
       "      <th>RM</th>\n",
       "      <th>AGE</th>\n",
       "      <th>DIS</th>\n",
       "      <th>RAD</th>\n",
       "      <th>TAX</th>\n",
       "      <th>PTRATIO</th>\n",
       "      <th>B</th>\n",
       "      <th>LSTAT</th>\n",
       "    </tr>\n",
       "  </thead>\n",
       "  <tbody>\n",
       "    <tr>\n",
       "      <th>0</th>\n",
       "      <td>-0.419782</td>\n",
       "      <td>0.284830</td>\n",
       "      <td>-1.287909</td>\n",
       "      <td>-0.272599</td>\n",
       "      <td>-0.144217</td>\n",
       "      <td>0.413672</td>\n",
       "      <td>-0.120013</td>\n",
       "      <td>0.140214</td>\n",
       "      <td>-0.982843</td>\n",
       "      <td>-0.666608</td>\n",
       "      <td>-1.459000</td>\n",
       "      <td>0.441052</td>\n",
       "      <td>-1.075562</td>\n",
       "    </tr>\n",
       "    <tr>\n",
       "      <th>1</th>\n",
       "      <td>-0.417339</td>\n",
       "      <td>-0.487722</td>\n",
       "      <td>-0.593381</td>\n",
       "      <td>-0.272599</td>\n",
       "      <td>-0.740262</td>\n",
       "      <td>0.194274</td>\n",
       "      <td>0.367166</td>\n",
       "      <td>0.557160</td>\n",
       "      <td>-0.867883</td>\n",
       "      <td>-0.987329</td>\n",
       "      <td>-0.303094</td>\n",
       "      <td>0.441052</td>\n",
       "      <td>-0.492439</td>\n",
       "    </tr>\n",
       "    <tr>\n",
       "      <th>2</th>\n",
       "      <td>-0.417342</td>\n",
       "      <td>-0.487722</td>\n",
       "      <td>-0.593381</td>\n",
       "      <td>-0.272599</td>\n",
       "      <td>-0.740262</td>\n",
       "      <td>1.282714</td>\n",
       "      <td>-0.265812</td>\n",
       "      <td>0.557160</td>\n",
       "      <td>-0.867883</td>\n",
       "      <td>-0.987329</td>\n",
       "      <td>-0.303094</td>\n",
       "      <td>0.396427</td>\n",
       "      <td>-1.208727</td>\n",
       "    </tr>\n",
       "    <tr>\n",
       "      <th>3</th>\n",
       "      <td>-0.416750</td>\n",
       "      <td>-0.487722</td>\n",
       "      <td>-1.306878</td>\n",
       "      <td>-0.272599</td>\n",
       "      <td>-0.835284</td>\n",
       "      <td>1.016303</td>\n",
       "      <td>-0.809889</td>\n",
       "      <td>1.077737</td>\n",
       "      <td>-0.752922</td>\n",
       "      <td>-1.106115</td>\n",
       "      <td>0.113032</td>\n",
       "      <td>0.416163</td>\n",
       "      <td>-1.361517</td>\n",
       "    </tr>\n",
       "    <tr>\n",
       "      <th>4</th>\n",
       "      <td>-0.412482</td>\n",
       "      <td>-0.487722</td>\n",
       "      <td>-1.306878</td>\n",
       "      <td>-0.272599</td>\n",
       "      <td>-0.835284</td>\n",
       "      <td>1.228577</td>\n",
       "      <td>-0.511180</td>\n",
       "      <td>1.077737</td>\n",
       "      <td>-0.752922</td>\n",
       "      <td>-1.106115</td>\n",
       "      <td>0.113032</td>\n",
       "      <td>0.441052</td>\n",
       "      <td>-1.026501</td>\n",
       "    </tr>\n",
       "  </tbody>\n",
       "</table>\n",
       "</div>"
      ],
      "text/plain": [
       "       CRIM        ZN     INDUS      CHAS       NOX        RM       AGE  \\\n",
       "0 -0.419782  0.284830 -1.287909 -0.272599 -0.144217  0.413672 -0.120013   \n",
       "1 -0.417339 -0.487722 -0.593381 -0.272599 -0.740262  0.194274  0.367166   \n",
       "2 -0.417342 -0.487722 -0.593381 -0.272599 -0.740262  1.282714 -0.265812   \n",
       "3 -0.416750 -0.487722 -1.306878 -0.272599 -0.835284  1.016303 -0.809889   \n",
       "4 -0.412482 -0.487722 -1.306878 -0.272599 -0.835284  1.228577 -0.511180   \n",
       "\n",
       "        DIS       RAD       TAX   PTRATIO         B     LSTAT  \n",
       "0  0.140214 -0.982843 -0.666608 -1.459000  0.441052 -1.075562  \n",
       "1  0.557160 -0.867883 -0.987329 -0.303094  0.441052 -0.492439  \n",
       "2  0.557160 -0.867883 -0.987329 -0.303094  0.396427 -1.208727  \n",
       "3  1.077737 -0.752922 -1.106115  0.113032  0.416163 -1.361517  \n",
       "4  1.077737 -0.752922 -1.106115  0.113032  0.441052 -1.026501  "
      ]
     },
     "execution_count": 33,
     "metadata": {},
     "output_type": "execute_result"
    }
   ],
   "source": [
    "scaler = preprocessing.StandardScaler()\n",
    "X_scaled = scaler.fit_transform(X)\n",
    "X_scaled = pd.DataFrame(X_scaled, columns=features)\n",
    "X_scaled.head()"
   ]
  },
  {
   "cell_type": "code",
   "execution_count": 34,
   "id": "8e6785a0",
   "metadata": {},
   "outputs": [
    {
     "data": {
      "text/html": [
       "<div>\n",
       "<style scoped>\n",
       "    .dataframe tbody tr th:only-of-type {\n",
       "        vertical-align: middle;\n",
       "    }\n",
       "\n",
       "    .dataframe tbody tr th {\n",
       "        vertical-align: top;\n",
       "    }\n",
       "\n",
       "    .dataframe thead th {\n",
       "        text-align: right;\n",
       "    }\n",
       "</style>\n",
       "<table border=\"1\" class=\"dataframe\">\n",
       "  <thead>\n",
       "    <tr style=\"text-align: right;\">\n",
       "      <th></th>\n",
       "      <th>Features</th>\n",
       "      <th>Coefficients</th>\n",
       "    </tr>\n",
       "  </thead>\n",
       "  <tbody>\n",
       "    <tr>\n",
       "      <th>0</th>\n",
       "      <td>CRIM</td>\n",
       "      <td>-0.870552</td>\n",
       "    </tr>\n",
       "    <tr>\n",
       "      <th>1</th>\n",
       "      <td>ZN</td>\n",
       "      <td>0.947112</td>\n",
       "    </tr>\n",
       "    <tr>\n",
       "      <th>2</th>\n",
       "      <td>INDUS</td>\n",
       "      <td>-0.116802</td>\n",
       "    </tr>\n",
       "    <tr>\n",
       "      <th>3</th>\n",
       "      <td>CHAS</td>\n",
       "      <td>0.730289</td>\n",
       "    </tr>\n",
       "    <tr>\n",
       "      <th>4</th>\n",
       "      <td>NOX</td>\n",
       "      <td>-1.894276</td>\n",
       "    </tr>\n",
       "    <tr>\n",
       "      <th>5</th>\n",
       "      <td>RM</td>\n",
       "      <td>2.757578</td>\n",
       "    </tr>\n",
       "    <tr>\n",
       "      <th>6</th>\n",
       "      <td>AGE</td>\n",
       "      <td>-0.027846</td>\n",
       "    </tr>\n",
       "    <tr>\n",
       "      <th>7</th>\n",
       "      <td>DIS</td>\n",
       "      <td>-3.049237</td>\n",
       "    </tr>\n",
       "    <tr>\n",
       "      <th>8</th>\n",
       "      <td>RAD</td>\n",
       "      <td>1.957066</td>\n",
       "    </tr>\n",
       "    <tr>\n",
       "      <th>9</th>\n",
       "      <td>TAX</td>\n",
       "      <td>-1.305271</td>\n",
       "    </tr>\n",
       "    <tr>\n",
       "      <th>10</th>\n",
       "      <td>PTRATIO</td>\n",
       "      <td>-2.012984</td>\n",
       "    </tr>\n",
       "    <tr>\n",
       "      <th>11</th>\n",
       "      <td>B</td>\n",
       "      <td>0.843065</td>\n",
       "    </tr>\n",
       "    <tr>\n",
       "      <th>12</th>\n",
       "      <td>LSTAT</td>\n",
       "      <td>-3.697319</td>\n",
       "    </tr>\n",
       "    <tr>\n",
       "      <th>13</th>\n",
       "      <td>INTERCEPT</td>\n",
       "      <td>22.541417</td>\n",
       "    </tr>\n",
       "  </tbody>\n",
       "</table>\n",
       "</div>"
      ],
      "text/plain": [
       "     Features  Coefficients\n",
       "0        CRIM     -0.870552\n",
       "1          ZN      0.947112\n",
       "2       INDUS     -0.116802\n",
       "3        CHAS      0.730289\n",
       "4         NOX     -1.894276\n",
       "5          RM      2.757578\n",
       "6         AGE     -0.027846\n",
       "7         DIS     -3.049237\n",
       "8         RAD      1.957066\n",
       "9         TAX     -1.305271\n",
       "10    PTRATIO     -2.012984\n",
       "11          B      0.843065\n",
       "12      LSTAT     -3.697319\n",
       "13  INTERCEPT     22.541417"
      ]
     },
     "metadata": {},
     "output_type": "display_data"
    }
   ],
   "source": [
    "sgd_lr_full = linear_model.SGDRegressor(random_state=42)\n",
    "sgd_lr_full.fit(X_scaled, y)\n",
    "\n",
    "w_df = pd.DataFrame({'Features': features, 'Coefficients': sgd_lr_full.coef_})\n",
    "intercept_df = pd.DataFrame({'Features': ['INTERCEPT'], 'Coefficients': sgd_lr_full.intercept_})\n",
    "coef_df = pd.concat([w_df, intercept_df], ignore_index=True)\n",
    "display(coef_df)"
   ]
  },
  {
   "cell_type": "code",
   "execution_count": 35,
   "id": "7bbf1edb",
   "metadata": {},
   "outputs": [
    {
     "name": "stdout",
     "output_type": "stream",
     "text": [
      "R2 score: 0.740\n"
     ]
    }
   ],
   "source": [
    "y_predict = sgd_lr_full.predict(X_scaled)\n",
    "print(f'R2 score: {metrics.r2_score(y, y_predict):.3f}')"
   ]
  },
  {
   "cell_type": "markdown",
   "id": "f971af16",
   "metadata": {},
   "source": [
    "**Попытка сделать предсказание с помощью построенной модели, передав в качестве матрицы наблюдений нестандартизованную таблицу, то ошибки мы не получим, однако значение метрики будет неадекватным:**"
   ]
  },
  {
   "cell_type": "code",
   "execution_count": 36,
   "id": "44feeedb",
   "metadata": {},
   "outputs": [
    {
     "name": "stdout",
     "output_type": "stream",
     "text": [
      "R2 score: -1856.503\n"
     ]
    }
   ],
   "source": [
    "y_false = sgd_lr_full.predict(X)\n",
    "print(f'R2 score: {metrics.r2_score(y, y_false):.3f}')"
   ]
  },
  {
   "cell_type": "markdown",
   "id": "ca413ef4",
   "metadata": {},
   "source": [
    "**Что будет, если выставить константный режим управления темпом обучения и задать ему более высокое значение, например 0.1:**"
   ]
  },
  {
   "cell_type": "code",
   "execution_count": 37,
   "id": "53403100",
   "metadata": {},
   "outputs": [
    {
     "name": "stdout",
     "output_type": "stream",
     "text": [
      "R2 score: -335415038359.635\n"
     ]
    }
   ],
   "source": [
    "sgd_lr_bad = linear_model.SGDRegressor(\n",
    "    learning_rate='constant',\n",
    "    eta0=0.1,\n",
    "    random_state=42\n",
    ")\n",
    "sgd_lr_bad.fit(X_scaled, y)\n",
    "y_predict_bad = sgd_lr_bad.predict(X_scaled)\n",
    "print(f'R2 score: {metrics.r2_score(y, y_predict_bad):.3f}')"
   ]
  },
  {
   "cell_type": "markdown",
   "id": "1274ecdf",
   "metadata": {},
   "source": [
    "**Что будет, если поставить слишком маленькое значение параметра `eta0`? Например, 0.000001:**"
   ]
  },
  {
   "cell_type": "code",
   "execution_count": 38,
   "id": "448e2abd",
   "metadata": {},
   "outputs": [
    {
     "name": "stdout",
     "output_type": "stream",
     "text": [
      "R2 score: -1.578\n"
     ]
    },
    {
     "name": "stderr",
     "output_type": "stream",
     "text": [
      "C:\\Programs\\Python39\\lib\\site-packages\\sklearn\\linear_model\\_stochastic_gradient.py:1549: ConvergenceWarning: Maximum number of iteration reached before convergence. Consider increasing max_iter to improve the fit.\n",
      "  warnings.warn(\n"
     ]
    }
   ],
   "source": [
    "sgd_lr_bad2 = linear_model.SGDRegressor(\n",
    "    learning_rate='constant',\n",
    "    eta0=0.000001,\n",
    "    random_state=42\n",
    ")\n",
    "sgd_lr_bad2.fit(X_scaled, y)\n",
    "y_predict_bad2 = sgd_lr_bad2.predict(X_scaled)\n",
    "print(f'R2 score: {metrics.r2_score(y, y_predict_bad2):.3f}')"
   ]
  },
  {
   "cell_type": "markdown",
   "id": "68cbede6",
   "metadata": {},
   "source": [
    "###  Задание 4.9 ###\n",
    "\n",
    "Найдите в документации параметр `tol`, отвечающий на критерий остановки (по умолчанию он равен 0.001).\n",
    "\n",
    "Обучить `SGDRegressor` на датасете о домах в Бостоне с параметром остановки, равным 0.1, и `random_state`=42. Остальные параметры оставить по умолчанию.\n",
    "\n",
    "Рассчитать коэффициент детерминации $R^2$. Ответ округлить до третьего знака после точки-разделителя.\n",
    "\n",
    "***Ответ - 0.735***"
   ]
  },
  {
   "cell_type": "code",
   "execution_count": 39,
   "id": "2d30db61",
   "metadata": {},
   "outputs": [
    {
     "name": "stdout",
     "output_type": "stream",
     "text": [
      "R2 score: 0.735\n"
     ]
    }
   ],
   "source": [
    "sgd_lr_tol = linear_model.SGDRegressor(tol=0.1, random_state=42)\n",
    "sgd_lr_tol.fit(X_scaled, y)\n",
    "y_predict_tol = sgd_lr_tol.predict(X_scaled)\n",
    "print(f'R2 score: {metrics.r2_score(y, y_predict_tol):.3f}')"
   ]
  },
  {
   "cell_type": "markdown",
   "id": "edb0e610",
   "metadata": {},
   "source": [
    "# Дилемма смещения и разброса. Полиномиальные признаки. Регуляризация #"
   ]
  },
  {
   "cell_type": "markdown",
   "id": "3c0d7a09",
   "metadata": {},
   "source": [
    "### Разделение выборки на тренировочную (обучающую) и тестовую ###"
   ]
  },
  {
   "cell_type": "code",
   "execution_count": 40,
   "id": "532c0db8",
   "metadata": {},
   "outputs": [
    {
     "name": "stdout",
     "output_type": "stream",
     "text": [
      "Train: (354, 13) (354,)\n",
      "Test: (152, 13) (152,)\n"
     ]
    }
   ],
   "source": [
    "X = boston_data[features]\n",
    "y = boston_data.MEDV\n",
    "\n",
    "X_train, X_test, y_train, y_test = train_test_split(X, y, test_size=0.3, random_state=40)\n",
    "print('Train:', X_train.shape, y_train.shape)\n",
    "print('Test:', X_test.shape, y_test.shape)"
   ]
  },
  {
   "cell_type": "code",
   "execution_count": 41,
   "id": "9b59317c",
   "metadata": {},
   "outputs": [
    {
     "name": "stdout",
     "output_type": "stream",
     "text": [
      "Train R2 score: 0.743\n",
      "Test R2 score: 0.722\n"
     ]
    }
   ],
   "source": [
    "# Обучение\n",
    "lr_model = linear_model.LinearRegression()\n",
    "lr_model.fit(X_train, y_train)\n",
    "\n",
    "# Предсказания\n",
    "y_train_predict = lr_model.predict(X_train)\n",
    "y_test_predict = lr_model.predict(X_test)\n",
    "\n",
    "print(f'Train R2 score: {metrics.r2_score(y_train, y_train_predict):.3f}')\n",
    "print(f'Test R2 score: {metrics.r2_score(y_test, y_test_predict):.3f}')"
   ]
  },
  {
   "cell_type": "markdown",
   "id": "fab88855",
   "metadata": {},
   "source": [
    "# ПОЛИНОМИАЛЬНЫЕ ПРИЗНАКИ #"
   ]
  },
  {
   "cell_type": "code",
   "execution_count": 42,
   "id": "fe9ca105",
   "metadata": {},
   "outputs": [
    {
     "name": "stdout",
     "output_type": "stream",
     "text": [
      "Train: (354, 104)\n",
      "<class 'numpy.ndarray'>\n",
      "Test: (152, 104)\n",
      "<class 'numpy.ndarray'>\n"
     ]
    }
   ],
   "source": [
    "# Генератор полиномиальных признаков\n",
    "poly = preprocessing.PolynomialFeatures(degree=2, include_bias=False)\n",
    "\n",
    "poly.fit(X_train)\n",
    "X_train_poly = poly.transform(X_train)\n",
    "X_test_poly = poly.transform(X_test)\n",
    "print('Train:', X_train_poly.shape)\n",
    "print(type(X_train_poly))\n",
    "print('Test:', X_test_poly.shape)\n",
    "print(type(X_test_poly))"
   ]
  },
  {
   "cell_type": "markdown",
   "id": "6764c6c8",
   "metadata": {},
   "source": [
    "**Но если скормить эти данные модели линейной регрессии, чтобы найти коэффициенты полинома по МНК-алгоритму, то получим жуткое переобучение:**"
   ]
  },
  {
   "cell_type": "code",
   "execution_count": 43,
   "id": "4aa9bbc6",
   "metadata": {},
   "outputs": [
    {
     "name": "stdout",
     "output_type": "stream",
     "text": [
      "Train R2 score: 0.929\n",
      "Test R2 score: 0.268\n"
     ]
    }
   ],
   "source": [
    "lr_model_poly = linear_model.LinearRegression()\n",
    "lr_model_poly.fit(X_train_poly, y_train)\n",
    "y_train_predict_poly = lr_model_poly.predict(X_train_poly)\n",
    "y_test_predict_poly = lr_model_poly.predict(X_test_poly)\n",
    "print(f'Train R2 score: {metrics.r2_score(y_train, y_train_predict_poly):.3f}')\n",
    "print(f'Test R2 score: {metrics.r2_score(y_test, y_test_predict_poly):.3f}')"
   ]
  },
  {
   "cell_type": "markdown",
   "id": "20ce8796",
   "metadata": {},
   "source": [
    "# РЕГУЛЯРИЗАЦИЯ #"
   ]
  },
  {
   "cell_type": "code",
   "execution_count": 44,
   "id": "f7261c48",
   "metadata": {},
   "outputs": [
    {
     "name": "stdout",
     "output_type": "stream",
     "text": [
      "Train: (354, 104)\n",
      "Test: (152, 104)\n"
     ]
    }
   ],
   "source": [
    "scaler = preprocessing.StandardScaler()\n",
    "# Подгонка параметров стандартизатора (вычисление среднего и MSE)\n",
    "scaler.fit(X_train)\n",
    "\n",
    "# Стандартизация выборок\n",
    "X_train_scaled = scaler.transform(X_train)\n",
    "X_test_scaled = scaler.transform(X_test)\n",
    "\n",
    "poly = preprocessing.PolynomialFeatures(degree=2, include_bias=False)\n",
    "poly.fit(X_train_scaled)\n",
    "# Генерация полиномиальных признаков для выборок\n",
    "X_train_scaled_poly = poly.transform(X_train_scaled)\n",
    "X_test_scaled_poly = poly.transform(X_test_scaled)\n",
    "\n",
    "print('Train:', X_train_scaled_poly.shape)\n",
    "print('Test:', X_test_scaled_poly.shape)"
   ]
  },
  {
   "cell_type": "markdown",
   "id": "b6a04a6d",
   "metadata": {},
   "source": [
    "### Построение модели линейной регрессии с L1-регуляризацией на сгенерированных ранее полиномиальных признаках ###"
   ]
  },
  {
   "cell_type": "code",
   "execution_count": 45,
   "id": "48b3286d",
   "metadata": {},
   "outputs": [
    {
     "name": "stdout",
     "output_type": "stream",
     "text": [
      "Train R2 score: 0.879\n",
      "Test R2 score: 0.882\n"
     ]
    }
   ],
   "source": [
    "lasso_lr_poly = linear_model.Lasso(alpha=0.1)\n",
    "lasso_lr_poly.fit(X_train_scaled_poly, y_train)\n",
    "y_train_predict_poly = lasso_lr_poly.predict(X_train_scaled_poly)\n",
    "y_test_predict_poly = lasso_lr_poly.predict(X_test_scaled_poly)\n",
    "print(f'Train R2 score: {metrics.r2_score(y_train, y_train_predict_poly):.3f}')\n",
    "print(f'Test R2 score: {metrics.r2_score(y_test, y_test_predict_poly):.3f}')"
   ]
  },
  {
   "cell_type": "markdown",
   "id": "3bf33ae7",
   "metadata": {},
   "source": [
    "**Метрика ощутимо выросла на тестовой выборке (ранее она была равна 0,268). Получилось преодолеть переобучение.**"
   ]
  },
  {
   "cell_type": "code",
   "execution_count": 46,
   "id": "478921cc",
   "metadata": {},
   "outputs": [
    {
     "name": "stdout",
     "output_type": "stream",
     "text": [
      "[-0.     0.    -0.038  0.    -0.523  2.766 -0.355 -0.605  0.    -0.595\n",
      " -0.763  0.    -3.259 -0.    -0.     0.     3.132 -0.141  0.     0.\n",
      "  0.    -0.     0.     0.    -0.015 -0.     0.063 -0.    -0.     0.\n",
      "  0.159 -0.    -0.    -0.     0.     0.07  -0.    -0.     0.017  0.\n",
      "  0.    -0.     0.     0.     0.     0.    -0.    -0.     0.     0.46\n",
      " -0.808 -0.643  0.    -0.    -0.     0.    -0.     0.    -0.43  -0.348\n",
      " -0.511 -0.     0.    -0.14  -0.    -0.277  0.    -0.     0.223 -0.\n",
      " -0.    -0.836 -0.054 -0.421  0.019 -0.784  0.    -0.     0.706  0.\n",
      " -0.    -0.335 -0.198  0.    -0.     0.     0.205 -0.     0.531 -0.\n",
      "  0.     0.048 -0.    -0.292  0.677  0.81  -0.    -1.151 -0.    -0.\n",
      " -0.    -0.288 -0.356  0.429]\n"
     ]
    }
   ],
   "source": [
    "print(np.round(lasso_lr_poly.coef_, 3))"
   ]
  },
  {
   "cell_type": "markdown",
   "id": "b5213107",
   "metadata": {},
   "source": [
    "### Обучение модели линейной регрессии с L2-регуляризацией на тех же данных ###"
   ]
  },
  {
   "cell_type": "code",
   "execution_count": 47,
   "id": "856ed146",
   "metadata": {},
   "outputs": [
    {
     "name": "stdout",
     "output_type": "stream",
     "text": [
      "Train R2 score: 0.907\n",
      "Test R2 score: 0.848\n"
     ]
    }
   ],
   "source": [
    "ridge_lr_poly = linear_model.Ridge(alpha=10)\n",
    "ridge_lr_poly.fit(X_train_scaled_poly, y_train)\n",
    "y_train_predict_poly = ridge_lr_poly.predict(X_train_scaled_poly)\n",
    "y_test_predict_poly = ridge_lr_poly.predict(X_test_scaled_poly)\n",
    "print(f'Train R2 score: {metrics.r2_score(y_train, y_train_predict_poly):.3f}')\n",
    "print(f'Test R2 score: {metrics.r2_score(y_test, y_test_predict_poly):.3f}')"
   ]
  },
  {
   "cell_type": "code",
   "execution_count": 48,
   "id": "a3ea4c9d",
   "metadata": {},
   "outputs": [
    {
     "name": "stdout",
     "output_type": "stream",
     "text": [
      "[ 0.128 -0.049  0.084  0.117 -0.932  2.848 -1.008 -1.464  0.909 -0.908\n",
      " -0.653  0.971 -2.605  0.085 -0.032  0.466  2.721 -0.507  0.986  0.309\n",
      " -0.391 -0.714  0.376 -0.379  0.072  0.287  0.143 -0.138 -0.014  0.315\n",
      "  0.05  -0.409 -0.316  0.075  0.702  0.08  -0.281 -0.37   0.511  0.175\n",
      "  0.72   0.282  0.477  0.888 -0.012  0.074 -0.052  0.166 -0.263  0.414\n",
      " -1.129 -0.852  0.273  0.227 -0.106  0.368 -0.137 -0.241 -0.697 -0.177\n",
      " -0.326 -0.524  0.882 -0.637  0.344 -0.439 -0.006  0.386  0.233 -0.535\n",
      "  0.111 -0.802 -0.662 -0.56   0.22  -1.001  0.123  0.144  0.889 -0.114\n",
      " -0.086 -1.022 -0.71   1.08  -0.446 -0.178 -0.07  -0.496  0.874 -0.926\n",
      "  0.717  0.601 -0.49  -0.723  0.308  1.086 -0.448 -1.256  0.057  0.354\n",
      " -0.059 -0.433 -0.791  0.177]\n"
     ]
    }
   ],
   "source": [
    "print(np.round(ridge_lr_poly.coef_, 3))"
   ]
  },
  {
   "cell_type": "markdown",
   "id": "efcbd67e",
   "metadata": {},
   "source": [
    "**Видно, что L2-регуляризация не обнуляет коэффициенты&nbsp;&mdash; она использует для предсказания все признаки.**"
   ]
  },
  {
   "cell_type": "markdown",
   "id": "bc964a8f",
   "metadata": {},
   "source": [
    "### Перебор параметров модели для нахождения лучшего значения ###"
   ]
  },
  {
   "cell_type": "code",
   "execution_count": 49,
   "id": "981442a8",
   "metadata": {},
   "outputs": [
    {
     "name": "stdout",
     "output_type": "stream",
     "text": [
      "Done\n"
     ]
    }
   ],
   "source": [
    "alpha_list = np.linspace(0.001, 1, 20)\n",
    "train_scores = []\n",
    "test_scores = []\n",
    "for alpha in alpha_list:\n",
    "    lasso_lr_poly = linear_model.Lasso(alpha=alpha, max_iter=10000)\n",
    "    lasso_lr_poly.fit(X_train_scaled_poly, y_train)\n",
    "    y_train_predict_poly = lasso_lr_poly.predict(X_train_scaled_poly)\n",
    "    y_test_predict_poly = lasso_lr_poly.predict(X_test_scaled_poly)\n",
    "    train_scores.append(metrics.r2_score(y_train, y_train_predict_poly))\n",
    "    test_scores.append(metrics.r2_score(y_test, y_test_predict_poly))\n",
    "print('Done')"
   ]
  },
  {
   "cell_type": "code",
   "execution_count": 50,
   "id": "d97774ac",
   "metadata": {},
   "outputs": [
    {
     "data": {
      "image/png": "[encoded data removed]",
      "text/plain": [
       "<Figure size 864x288 with 1 Axes>"
      ]
     },
     "metadata": {
      "needs_background": "light"
     },
     "output_type": "display_data"
    }
   ],
   "source": [
    "fig, ax = plt.subplots(figsize=(12, 4))\n",
    "ax.plot(alpha_list, train_scores, label='Train')\n",
    "ax.plot(alpha_list, test_scores, label='Test')\n",
    "ax.set_xlabel('Alpha')\n",
    "ax.set_ylabel('R2 score')\n",
    "ax.set_xticks(alpha_list)\n",
    "ax.xaxis.set_tick_params(rotation=45)\n",
    "ax.legend();"
   ]
  },
  {
   "cell_type": "code",
   "execution_count": 51,
   "id": "bef7bf4e",
   "metadata": {},
   "outputs": [
    {
     "name": "stdout",
     "output_type": "stream",
     "text": [
      "Train R2 score: 0.894\n",
      "Test R2 score: 0.890\n"
     ]
    }
   ],
   "source": [
    "lasso_lr_poly = linear_model.Lasso(alpha=0.0536)\n",
    "lasso_lr_poly.fit(X_train_scaled_poly, y_train)\n",
    "y_train_predict_poly = lasso_lr_poly.predict(X_train_scaled_poly)\n",
    "y_test_predict_poly = lasso_lr_poly.predict(X_test_scaled_poly)\n",
    "print(f'Train R2 score: {metrics.r2_score(y_train, y_train_predict_poly):.3f}')\n",
    "print(f'Test R2 score: {metrics.r2_score(y_test, y_test_predict_poly):.3f}')"
   ]
  },
  {
   "cell_type": "markdown",
   "id": "2a74c6c0",
   "metadata": {},
   "source": [
    "# Практика по линейной регрессии с популярным датасетом Medical Cost Personal Datasets #"
   ]
  },
  {
   "cell_type": "code",
   "execution_count": 59,
   "id": "2debfee4",
   "metadata": {},
   "outputs": [
    {
     "data": {
      "text/html": [
       "<div>\n",
       "<style scoped>\n",
       "    .dataframe tbody tr th:only-of-type {\n",
       "        vertical-align: middle;\n",
       "    }\n",
       "\n",
       "    .dataframe tbody tr th {\n",
       "        vertical-align: top;\n",
       "    }\n",
       "\n",
       "    .dataframe thead th {\n",
       "        text-align: right;\n",
       "    }\n",
       "</style>\n",
       "<table border=\"1\" class=\"dataframe\">\n",
       "  <thead>\n",
       "    <tr style=\"text-align: right;\">\n",
       "      <th></th>\n",
       "      <th>age</th>\n",
       "      <th>sex</th>\n",
       "      <th>bmi</th>\n",
       "      <th>children</th>\n",
       "      <th>smoker</th>\n",
       "      <th>region</th>\n",
       "      <th>charges</th>\n",
       "    </tr>\n",
       "  </thead>\n",
       "  <tbody>\n",
       "    <tr>\n",
       "      <th>0</th>\n",
       "      <td>19</td>\n",
       "      <td>female</td>\n",
       "      <td>27.900</td>\n",
       "      <td>0</td>\n",
       "      <td>yes</td>\n",
       "      <td>southwest</td>\n",
       "      <td>16884.92400</td>\n",
       "    </tr>\n",
       "    <tr>\n",
       "      <th>1</th>\n",
       "      <td>18</td>\n",
       "      <td>male</td>\n",
       "      <td>33.770</td>\n",
       "      <td>1</td>\n",
       "      <td>no</td>\n",
       "      <td>southeast</td>\n",
       "      <td>1725.55230</td>\n",
       "    </tr>\n",
       "    <tr>\n",
       "      <th>2</th>\n",
       "      <td>28</td>\n",
       "      <td>male</td>\n",
       "      <td>33.000</td>\n",
       "      <td>3</td>\n",
       "      <td>no</td>\n",
       "      <td>southeast</td>\n",
       "      <td>4449.46200</td>\n",
       "    </tr>\n",
       "    <tr>\n",
       "      <th>3</th>\n",
       "      <td>33</td>\n",
       "      <td>male</td>\n",
       "      <td>22.705</td>\n",
       "      <td>0</td>\n",
       "      <td>no</td>\n",
       "      <td>northwest</td>\n",
       "      <td>21984.47061</td>\n",
       "    </tr>\n",
       "    <tr>\n",
       "      <th>4</th>\n",
       "      <td>32</td>\n",
       "      <td>male</td>\n",
       "      <td>28.880</td>\n",
       "      <td>0</td>\n",
       "      <td>no</td>\n",
       "      <td>northwest</td>\n",
       "      <td>3866.85520</td>\n",
       "    </tr>\n",
       "  </tbody>\n",
       "</table>\n",
       "</div>"
      ],
      "text/plain": [
       "   age     sex     bmi  children smoker     region      charges\n",
       "0   19  female  27.900         0    yes  southwest  16884.92400\n",
       "1   18    male  33.770         1     no  southeast   1725.55230\n",
       "2   28    male  33.000         3     no  southeast   4449.46200\n",
       "3   33    male  22.705         0     no  northwest  21984.47061\n",
       "4   32    male  28.880         0     no  northwest   3866.85520"
      ]
     },
     "execution_count": 59,
     "metadata": {},
     "output_type": "execute_result"
    }
   ],
   "source": [
    "data_df = pd.read_csv('data/insurance.csv')\n",
    "data_df.head()"
   ]
  },
  {
   "cell_type": "markdown",
   "id": "acb7965c",
   "metadata": {},
   "source": [
    "- **age**&nbsp;&mdash; возраст основного бенефициара;\n",
    "- **sex**&nbsp;&mdash; пол страхового подрядчика;\n",
    "- **bmi**&nbsp;&mdash; индекс массы тела (кгм), в идеале — от 18.5 до 24.9;\n",
    "- **children**&nbsp;&mdash; количество детей, охваченных медицинской страховкой;\n",
    "- **smoker**&nbsp;&mdash; является ли человек курящим;\n",
    "- **region**&nbsp;&mdash; жилой район США (северо-восток, юго-восток, северо-запад, юго-запад);\n",
    "- **charges (целевой признак)**&nbsp;&mdash; индивидуальные медицинские расходы, оплачиваемые медицинской страховкой.\n"
   ]
  },
  {
   "cell_type": "code",
   "execution_count": 60,
   "id": "4b33a8a6",
   "metadata": {},
   "outputs": [
    {
     "name": "stdout",
     "output_type": "stream",
     "text": [
      "<class 'pandas.core.frame.DataFrame'>\n",
      "RangeIndex: 1338 entries, 0 to 1337\n",
      "Data columns (total 7 columns):\n",
      " #   Column    Non-Null Count  Dtype  \n",
      "---  ------    --------------  -----  \n",
      " 0   age       1338 non-null   int64  \n",
      " 1   sex       1338 non-null   object \n",
      " 2   bmi       1338 non-null   float64\n",
      " 3   children  1338 non-null   int64  \n",
      " 4   smoker    1338 non-null   object \n",
      " 5   region    1338 non-null   object \n",
      " 6   charges   1338 non-null   float64\n",
      "dtypes: float64(2), int64(2), object(3)\n",
      "memory usage: 73.3+ KB\n"
     ]
    }
   ],
   "source": [
    "data_df.info()"
   ]
  },
  {
   "cell_type": "code",
   "execution_count": 63,
   "id": "321f984b",
   "metadata": {},
   "outputs": [],
   "source": [
    "copy_df = data_df.copy()"
   ]
  },
  {
   "cell_type": "code",
   "execution_count": 64,
   "id": "09b1e3d2",
   "metadata": {},
   "outputs": [
    {
     "data": {
      "text/html": [
       "<div>\n",
       "<style scoped>\n",
       "    .dataframe tbody tr th:only-of-type {\n",
       "        vertical-align: middle;\n",
       "    }\n",
       "\n",
       "    .dataframe tbody tr th {\n",
       "        vertical-align: top;\n",
       "    }\n",
       "\n",
       "    .dataframe thead th {\n",
       "        text-align: right;\n",
       "    }\n",
       "</style>\n",
       "<table border=\"1\" class=\"dataframe\">\n",
       "  <thead>\n",
       "    <tr style=\"text-align: right;\">\n",
       "      <th></th>\n",
       "      <th>age</th>\n",
       "      <th>sex</th>\n",
       "      <th>bmi</th>\n",
       "      <th>children</th>\n",
       "      <th>smoker</th>\n",
       "      <th>charges</th>\n",
       "      <th>region_northeast</th>\n",
       "      <th>region_northwest</th>\n",
       "      <th>region_southeast</th>\n",
       "      <th>region_southwest</th>\n",
       "    </tr>\n",
       "  </thead>\n",
       "  <tbody>\n",
       "    <tr>\n",
       "      <th>0</th>\n",
       "      <td>19</td>\n",
       "      <td>0</td>\n",
       "      <td>27.900</td>\n",
       "      <td>0</td>\n",
       "      <td>1</td>\n",
       "      <td>16884.92400</td>\n",
       "      <td>0</td>\n",
       "      <td>0</td>\n",
       "      <td>0</td>\n",
       "      <td>1</td>\n",
       "    </tr>\n",
       "    <tr>\n",
       "      <th>1</th>\n",
       "      <td>18</td>\n",
       "      <td>1</td>\n",
       "      <td>33.770</td>\n",
       "      <td>1</td>\n",
       "      <td>0</td>\n",
       "      <td>1725.55230</td>\n",
       "      <td>0</td>\n",
       "      <td>0</td>\n",
       "      <td>1</td>\n",
       "      <td>0</td>\n",
       "    </tr>\n",
       "    <tr>\n",
       "      <th>2</th>\n",
       "      <td>28</td>\n",
       "      <td>1</td>\n",
       "      <td>33.000</td>\n",
       "      <td>3</td>\n",
       "      <td>0</td>\n",
       "      <td>4449.46200</td>\n",
       "      <td>0</td>\n",
       "      <td>0</td>\n",
       "      <td>1</td>\n",
       "      <td>0</td>\n",
       "    </tr>\n",
       "    <tr>\n",
       "      <th>3</th>\n",
       "      <td>33</td>\n",
       "      <td>1</td>\n",
       "      <td>22.705</td>\n",
       "      <td>0</td>\n",
       "      <td>0</td>\n",
       "      <td>21984.47061</td>\n",
       "      <td>0</td>\n",
       "      <td>1</td>\n",
       "      <td>0</td>\n",
       "      <td>0</td>\n",
       "    </tr>\n",
       "    <tr>\n",
       "      <th>4</th>\n",
       "      <td>32</td>\n",
       "      <td>1</td>\n",
       "      <td>28.880</td>\n",
       "      <td>0</td>\n",
       "      <td>0</td>\n",
       "      <td>3866.85520</td>\n",
       "      <td>0</td>\n",
       "      <td>1</td>\n",
       "      <td>0</td>\n",
       "      <td>0</td>\n",
       "    </tr>\n",
       "  </tbody>\n",
       "</table>\n",
       "</div>"
      ],
      "text/plain": [
       "   age  sex     bmi  children  smoker      charges  region_northeast  \\\n",
       "0   19    0  27.900         0       1  16884.92400                 0   \n",
       "1   18    1  33.770         1       0   1725.55230                 0   \n",
       "2   28    1  33.000         3       0   4449.46200                 0   \n",
       "3   33    1  22.705         0       0  21984.47061                 0   \n",
       "4   32    1  28.880         0       0   3866.85520                 0   \n",
       "\n",
       "   region_northwest  region_southeast  region_southwest  \n",
       "0                 0                 0                 1  \n",
       "1                 0                 1                 0  \n",
       "2                 0                 1                 0  \n",
       "3                 1                 0                 0  \n",
       "4                 1                 0                 0  "
      ]
     },
     "execution_count": 64,
     "metadata": {},
     "output_type": "execute_result"
    }
   ],
   "source": [
    "copy_df.smoker = copy_df.smoker.apply(lambda x: 0 if x == 'no' else 1)\n",
    "copy_df.sex = copy_df.sex.apply(lambda x: 0 if x == 'female' else 1)\n",
    "copy_df = pd.get_dummies(copy_df)\n",
    "copy_df.head()"
   ]
  },
  {
   "cell_type": "code",
   "execution_count": 65,
   "id": "24007034",
   "metadata": {},
   "outputs": [],
   "source": [
    "features = copy_df.drop(columns='charges').columns\n",
    "X, y = copy_df[features], copy_df.charges"
   ]
  },
  {
   "cell_type": "markdown",
   "id": "310c2022",
   "metadata": {},
   "source": [
    "###  Задание 6.1 ###\n",
    "\n",
    "Разделить набор данных на тренировочную и тестовую выборки в соотношении 80/20. Воспользоваться функцией `train_test_split`. В качестве значения параметра `random_state` указать число 42.\n",
    "\n",
    "Чему равно количество наблюдений в тестовом наборе данных?\n",
    "\n",
    "***Ответ - 268***"
   ]
  },
  {
   "cell_type": "code",
   "execution_count": 66,
   "id": "35b62bb0",
   "metadata": {},
   "outputs": [
    {
     "name": "stdout",
     "output_type": "stream",
     "text": [
      "Train set: (1070, 9) (1070,)\n",
      "Test set: (268, 9) (268,)\n"
     ]
    }
   ],
   "source": [
    "X_train, X_test, y_train, y_test = train_test_split(X, y, test_size=0.2, random_state=42)\n",
    "print('Train set:', X_train.shape, y_train.shape)\n",
    "print('Test set:', X_test.shape, y_test.shape)"
   ]
  },
  {
   "cell_type": "markdown",
   "id": "fe4acbd6",
   "metadata": {},
   "source": [
    "###  Задание 6.2 ###\n",
    "\n",
    "Обучить модель линейной регрессии аналитическим методом (`LinearRegression`) на тренировочном наборе данных. Все параметры оставить по умолчанию.\n",
    "\n",
    "Чему равен свободный член (`intercept`) обученной модели? Ответ округлить до сотых.\n",
    "\n",
    "***Ответ - -12390.80***"
   ]
  },
  {
   "cell_type": "code",
   "execution_count": 67,
   "id": "12cb630a",
   "metadata": {},
   "outputs": [
    {
     "name": "stdout",
     "output_type": "stream",
     "text": [
      "w0: -12390.80\n",
      "w1: [ 2.56975706e+02 -1.85916916e+01  3.37092552e+02  4.25278784e+02\n",
      "  2.36511289e+04  4.59585244e+02  8.89079180e+01 -1.98279052e+02\n",
      " -3.50214110e+02]\n"
     ]
    }
   ],
   "source": [
    "lr_charges = linear_model.LinearRegression()\n",
    "lr_charges.fit(X_train, y_train)\n",
    "print(f'w0: {lr_charges.intercept_:.2f}')\n",
    "print(f'w1: {lr_charges.coef_}')"
   ]
  },
  {
   "cell_type": "markdown",
   "id": "884d215e",
   "metadata": {},
   "source": [
    "###  Задание 6.3 ###\n",
    "\n",
    "С помощью модели, полученной в предыдущем задании, сделать предсказание на тренировочной и тестовой выборке. Рассчитать следующие три метрики: $R^2$, $MAE$, $MAPE$. Не забыть привести значение $MAPE$ к процентам.\n",
    "\n",
    "Значение $R^2$ округлить до трёх знаков после точки-разделителя, а значения $MAE$ и $MAPE$&nbsp;&mdash; до целого числа.\n",
    "\n",
    "Чему равны значения метрик на тренировочной и тестовой выборках?\n",
    "\n",
    "***Train: $R^2$=0.742, MAE=4208, MAPE=42***\n",
    "\n",
    "***Test: $R^2$=0.784, MAE=4181, MAPE=47***"
   ]
  },
  {
   "cell_type": "code",
   "execution_count": 68,
   "id": "8fdebeae",
   "metadata": {},
   "outputs": [
    {
     "name": "stdout",
     "output_type": "stream",
     "text": [
      "Train R2 score: 0.742\n",
      "Train MAE: 4208\n",
      "Train MAPE: 42\n",
      "Test R2 score: 0.784\n",
      "Test MAE: 4181\n",
      "Test MAPE: 47\n"
     ]
    }
   ],
   "source": [
    "y_train_predict = lr_charges.predict(X_train)\n",
    "y_test_predict = lr_charges.predict(X_test)\n",
    "\n",
    "print(f'Train R2 score: {metrics.r2_score(y_train, y_train_predict):.3f}')\n",
    "print(f'Train MAE: {round(metrics.mean_absolute_error(y_train, y_train_predict))}')\n",
    "print(f'Train MAPE: {round(metrics.mean_absolute_percentage_error(y_train, y_train_predict) * 100)}')\n",
    "                    \n",
    "print(f'Test R2 score: {metrics.r2_score(y_test, y_test_predict):.3f}')\n",
    "print(f'Test MAE: {round(metrics.mean_absolute_error(y_test, y_test_predict))}')\n",
    "print(f'Test MAPE: {round(metrics.mean_absolute_percentage_error(y_test, y_test_predict) * 100)}')"
   ]
  },
  {
   "cell_type": "markdown",
   "id": "1f96ba28",
   "metadata": {},
   "source": [
    "### Задание 6.4 ###\n",
    "\n",
    "Построить диаграмму **boxplot** для визуализации ошибок модели линейной регрессии на тренировочной и тестовой выборках. В качестве ошибки взять разницу между истинным ответом и предсказанием: (без модуля).\n",
    "\n",
    "Выбрать верные ответы:\n",
    "- **(False)** Разброс ошибок на тестовой выборке больше, чем на тренировочной.\n",
    "- **(True)** Разброс ошибок на тренировочной выборке больше, чем на тестовой.\n",
    "- **(True)** Медианная ошибка на тренировочной и тестовой выборках отрицательная (меньше 0).\n",
    "- **(False)** Медианная ошибка на тренировочной и тестовой выборках положительная (больше 0)"
   ]
  },
  {
   "cell_type": "code",
   "execution_count": 80,
   "id": "9391b9b2",
   "metadata": {},
   "outputs": [],
   "source": [
    "y_errors_train = y_train - lr_charges.predict(X_train)\n",
    "y_errors_test = y_test - lr_charges.predict(X_test)"
   ]
  },
  {
   "cell_type": "code",
   "execution_count": 81,
   "id": "5b11e310",
   "metadata": {},
   "outputs": [],
   "source": [
    "errors_df = pd.DataFrame({'Train': y_errors_train, 'Test': y_errors_test})"
   ]
  },
  {
   "cell_type": "code",
   "execution_count": 88,
   "id": "88a0ffd7",
   "metadata": {},
   "outputs": [
    {
     "data": {
      "image/png": "[encoded data removed]",
      "text/plain": [
       "<Figure size 864x288 with 1 Axes>"
      ]
     },
     "metadata": {
      "needs_background": "light"
     },
     "output_type": "display_data"
    }
   ],
   "source": [
    "fig, ax = plt.subplots(figsize=(12, 4))\n",
    "sns.boxplot(\n",
    "    data=errors_df,\n",
    "    orient='h',\n",
    "    ax=ax\n",
    ")\n",
    "ax.set_xlabel('Errors')\n",
    "ax.set_ylabel('Sets');"
   ]
  },
  {
   "cell_type": "code",
   "execution_count": null,
   "id": "82c34713",
   "metadata": {},
   "outputs": [],
   "source": []
  }
 ],
 "metadata": {
  "kernelspec": {
   "display_name": "Python 3",
   "language": "python",
   "name": "python3"
  },
  "language_info": {
   "codemirror_mode": {
    "name": "ipython",
    "version": 3
   },
   "file_extension": ".py",
   "mimetype": "text/x-python",
   "name": "python",
   "nbconvert_exporter": "python",
   "pygments_lexer": "ipython3",
   "version": "3.9.13"
  }
 },
 "nbformat": 4,
 "nbformat_minor": 5
}
